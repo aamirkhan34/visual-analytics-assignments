{
 "metadata": {
  "language_info": {
   "codemirror_mode": {
    "name": "ipython",
    "version": 3
   },
   "file_extension": ".py",
   "mimetype": "text/x-python",
   "name": "python",
   "nbconvert_exporter": "python",
   "pygments_lexer": "ipython3",
   "version": "3.8.5-final"
  },
  "orig_nbformat": 2,
  "kernelspec": {
   "name": "python38564bitvaconda764d43b5ca0a4ef08d9f7536efd0e99c",
   "display_name": "Python 3.8.5 64-bit ('va': conda)"
  }
 },
 "nbformat": 4,
 "nbformat_minor": 2,
 "cells": [
  {
   "cell_type": "code",
   "execution_count": 2,
   "metadata": {},
   "outputs": [],
   "source": [
    "from typing import Tuple\n",
    "\n",
    "import matplotlib.pyplot as plt\n",
    "import numpy as np\n",
    "import pandas as pd\n",
    "import plotly.graph_objects as go\n",
    "import plotly.express as px"
   ]
  },
  {
   "cell_type": "code",
   "execution_count": 3,
   "metadata": {},
   "outputs": [
    {
     "output_type": "display_data",
     "data": {
      "text/plain": "<Figure size 432x288 with 1 Axes>",
      "image/svg+xml": "<?xml version=\"1.0\" encoding=\"utf-8\" standalone=\"no\"?>\n<!DOCTYPE svg PUBLIC \"-//W3C//DTD SVG 1.1//EN\"\n  \"http://www.w3.org/Graphics/SVG/1.1/DTD/svg11.dtd\">\n<!-- Created with matplotlib (https://matplotlib.org/) -->\n<svg height=\"277.314375pt\" version=\"1.1\" viewBox=\"0 0 392.14375 277.314375\" width=\"392.14375pt\" xmlns=\"http://www.w3.org/2000/svg\" xmlns:xlink=\"http://www.w3.org/1999/xlink\">\n <defs>\n  <style type=\"text/css\">\n*{stroke-linecap:butt;stroke-linejoin:round;}\n  </style>\n </defs>\n <g id=\"figure_1\">\n  <g id=\"patch_1\">\n   <path d=\"M 0 277.314375 \nL 392.14375 277.314375 \nL 392.14375 0 \nL 0 0 \nz\n\" style=\"fill:none;\"/>\n  </g>\n  <g id=\"axes_1\">\n   <g id=\"patch_2\">\n    <path d=\"M 50.14375 239.758125 \nL 384.94375 239.758125 \nL 384.94375 22.318125 \nL 50.14375 22.318125 \nz\n\" style=\"fill:#ffffff;\"/>\n   </g>\n   <g id=\"matplotlib.axis_1\">\n    <g id=\"xtick_1\">\n     <g id=\"line2d_1\">\n      <path clip-path=\"url(#pa6aa4d205d)\" d=\"M 65.361932 239.758125 \nL 65.361932 22.318125 \n\" style=\"fill:none;stroke:#b0b0b0;stroke-linecap:square;stroke-width:0.8;\"/>\n     </g>\n     <g id=\"line2d_2\">\n      <defs>\n       <path d=\"M 0 0 \nL 0 3.5 \n\" id=\"m70289c7887\" style=\"stroke:#000000;stroke-width:0.8;\"/>\n      </defs>\n      <g>\n       <use style=\"stroke:#000000;stroke-width:0.8;\" x=\"65.361932\" xlink:href=\"#m70289c7887\" y=\"239.758125\"/>\n      </g>\n     </g>\n     <g id=\"text_1\">\n      <!-- 0.00 -->\n      <defs>\n       <path d=\"M 31.78125 66.40625 \nQ 24.171875 66.40625 20.328125 58.90625 \nQ 16.5 51.421875 16.5 36.375 \nQ 16.5 21.390625 20.328125 13.890625 \nQ 24.171875 6.390625 31.78125 6.390625 \nQ 39.453125 6.390625 43.28125 13.890625 \nQ 47.125 21.390625 47.125 36.375 \nQ 47.125 51.421875 43.28125 58.90625 \nQ 39.453125 66.40625 31.78125 66.40625 \nz\nM 31.78125 74.21875 \nQ 44.046875 74.21875 50.515625 64.515625 \nQ 56.984375 54.828125 56.984375 36.375 \nQ 56.984375 17.96875 50.515625 8.265625 \nQ 44.046875 -1.421875 31.78125 -1.421875 \nQ 19.53125 -1.421875 13.0625 8.265625 \nQ 6.59375 17.96875 6.59375 36.375 \nQ 6.59375 54.828125 13.0625 64.515625 \nQ 19.53125 74.21875 31.78125 74.21875 \nz\n\" id=\"DejaVuSans-48\"/>\n       <path d=\"M 10.6875 12.40625 \nL 21 12.40625 \nL 21 0 \nL 10.6875 0 \nz\n\" id=\"DejaVuSans-46\"/>\n      </defs>\n      <g transform=\"translate(54.229119 254.356562)scale(0.1 -0.1)\">\n       <use xlink:href=\"#DejaVuSans-48\"/>\n       <use x=\"63.623047\" xlink:href=\"#DejaVuSans-46\"/>\n       <use x=\"95.410156\" xlink:href=\"#DejaVuSans-48\"/>\n       <use x=\"159.033203\" xlink:href=\"#DejaVuSans-48\"/>\n      </g>\n     </g>\n    </g>\n    <g id=\"xtick_2\">\n     <g id=\"line2d_3\">\n      <path clip-path=\"url(#pa6aa4d205d)\" d=\"M 103.59857 239.758125 \nL 103.59857 22.318125 \n\" style=\"fill:none;stroke:#b0b0b0;stroke-linecap:square;stroke-width:0.8;\"/>\n     </g>\n     <g id=\"line2d_4\">\n      <g>\n       <use style=\"stroke:#000000;stroke-width:0.8;\" x=\"103.59857\" xlink:href=\"#m70289c7887\" y=\"239.758125\"/>\n      </g>\n     </g>\n     <g id=\"text_2\">\n      <!-- 0.25 -->\n      <defs>\n       <path d=\"M 19.1875 8.296875 \nL 53.609375 8.296875 \nL 53.609375 0 \nL 7.328125 0 \nL 7.328125 8.296875 \nQ 12.9375 14.109375 22.625 23.890625 \nQ 32.328125 33.6875 34.8125 36.53125 \nQ 39.546875 41.84375 41.421875 45.53125 \nQ 43.3125 49.21875 43.3125 52.78125 \nQ 43.3125 58.59375 39.234375 62.25 \nQ 35.15625 65.921875 28.609375 65.921875 \nQ 23.96875 65.921875 18.8125 64.3125 \nQ 13.671875 62.703125 7.8125 59.421875 \nL 7.8125 69.390625 \nQ 13.765625 71.78125 18.9375 73 \nQ 24.125 74.21875 28.421875 74.21875 \nQ 39.75 74.21875 46.484375 68.546875 \nQ 53.21875 62.890625 53.21875 53.421875 \nQ 53.21875 48.921875 51.53125 44.890625 \nQ 49.859375 40.875 45.40625 35.40625 \nQ 44.1875 33.984375 37.640625 27.21875 \nQ 31.109375 20.453125 19.1875 8.296875 \nz\n\" id=\"DejaVuSans-50\"/>\n       <path d=\"M 10.796875 72.90625 \nL 49.515625 72.90625 \nL 49.515625 64.59375 \nL 19.828125 64.59375 \nL 19.828125 46.734375 \nQ 21.96875 47.46875 24.109375 47.828125 \nQ 26.265625 48.1875 28.421875 48.1875 \nQ 40.625 48.1875 47.75 41.5 \nQ 54.890625 34.8125 54.890625 23.390625 \nQ 54.890625 11.625 47.5625 5.09375 \nQ 40.234375 -1.421875 26.90625 -1.421875 \nQ 22.3125 -1.421875 17.546875 -0.640625 \nQ 12.796875 0.140625 7.71875 1.703125 \nL 7.71875 11.625 \nQ 12.109375 9.234375 16.796875 8.0625 \nQ 21.484375 6.890625 26.703125 6.890625 \nQ 35.15625 6.890625 40.078125 11.328125 \nQ 45.015625 15.765625 45.015625 23.390625 \nQ 45.015625 31 40.078125 35.4375 \nQ 35.15625 39.890625 26.703125 39.890625 \nQ 22.75 39.890625 18.8125 39.015625 \nQ 14.890625 38.140625 10.796875 36.28125 \nz\n\" id=\"DejaVuSans-53\"/>\n      </defs>\n      <g transform=\"translate(92.465757 254.356562)scale(0.1 -0.1)\">\n       <use xlink:href=\"#DejaVuSans-48\"/>\n       <use x=\"63.623047\" xlink:href=\"#DejaVuSans-46\"/>\n       <use x=\"95.410156\" xlink:href=\"#DejaVuSans-50\"/>\n       <use x=\"159.033203\" xlink:href=\"#DejaVuSans-53\"/>\n      </g>\n     </g>\n    </g>\n    <g id=\"xtick_3\">\n     <g id=\"line2d_5\">\n      <path clip-path=\"url(#pa6aa4d205d)\" d=\"M 141.835207 239.758125 \nL 141.835207 22.318125 \n\" style=\"fill:none;stroke:#b0b0b0;stroke-linecap:square;stroke-width:0.8;\"/>\n     </g>\n     <g id=\"line2d_6\">\n      <g>\n       <use style=\"stroke:#000000;stroke-width:0.8;\" x=\"141.835207\" xlink:href=\"#m70289c7887\" y=\"239.758125\"/>\n      </g>\n     </g>\n     <g id=\"text_3\">\n      <!-- 0.50 -->\n      <g transform=\"translate(130.702395 254.356562)scale(0.1 -0.1)\">\n       <use xlink:href=\"#DejaVuSans-48\"/>\n       <use x=\"63.623047\" xlink:href=\"#DejaVuSans-46\"/>\n       <use x=\"95.410156\" xlink:href=\"#DejaVuSans-53\"/>\n       <use x=\"159.033203\" xlink:href=\"#DejaVuSans-48\"/>\n      </g>\n     </g>\n    </g>\n    <g id=\"xtick_4\">\n     <g id=\"line2d_7\">\n      <path clip-path=\"url(#pa6aa4d205d)\" d=\"M 180.071845 239.758125 \nL 180.071845 22.318125 \n\" style=\"fill:none;stroke:#b0b0b0;stroke-linecap:square;stroke-width:0.8;\"/>\n     </g>\n     <g id=\"line2d_8\">\n      <g>\n       <use style=\"stroke:#000000;stroke-width:0.8;\" x=\"180.071845\" xlink:href=\"#m70289c7887\" y=\"239.758125\"/>\n      </g>\n     </g>\n     <g id=\"text_4\">\n      <!-- 0.75 -->\n      <defs>\n       <path d=\"M 8.203125 72.90625 \nL 55.078125 72.90625 \nL 55.078125 68.703125 \nL 28.609375 0 \nL 18.3125 0 \nL 43.21875 64.59375 \nL 8.203125 64.59375 \nz\n\" id=\"DejaVuSans-55\"/>\n      </defs>\n      <g transform=\"translate(168.939033 254.356562)scale(0.1 -0.1)\">\n       <use xlink:href=\"#DejaVuSans-48\"/>\n       <use x=\"63.623047\" xlink:href=\"#DejaVuSans-46\"/>\n       <use x=\"95.410156\" xlink:href=\"#DejaVuSans-55\"/>\n       <use x=\"159.033203\" xlink:href=\"#DejaVuSans-53\"/>\n      </g>\n     </g>\n    </g>\n    <g id=\"xtick_5\">\n     <g id=\"line2d_9\">\n      <path clip-path=\"url(#pa6aa4d205d)\" d=\"M 218.308483 239.758125 \nL 218.308483 22.318125 \n\" style=\"fill:none;stroke:#b0b0b0;stroke-linecap:square;stroke-width:0.8;\"/>\n     </g>\n     <g id=\"line2d_10\">\n      <g>\n       <use style=\"stroke:#000000;stroke-width:0.8;\" x=\"218.308483\" xlink:href=\"#m70289c7887\" y=\"239.758125\"/>\n      </g>\n     </g>\n     <g id=\"text_5\">\n      <!-- 1.00 -->\n      <defs>\n       <path d=\"M 12.40625 8.296875 \nL 28.515625 8.296875 \nL 28.515625 63.921875 \nL 10.984375 60.40625 \nL 10.984375 69.390625 \nL 28.421875 72.90625 \nL 38.28125 72.90625 \nL 38.28125 8.296875 \nL 54.390625 8.296875 \nL 54.390625 0 \nL 12.40625 0 \nz\n\" id=\"DejaVuSans-49\"/>\n      </defs>\n      <g transform=\"translate(207.17567 254.356562)scale(0.1 -0.1)\">\n       <use xlink:href=\"#DejaVuSans-49\"/>\n       <use x=\"63.623047\" xlink:href=\"#DejaVuSans-46\"/>\n       <use x=\"95.410156\" xlink:href=\"#DejaVuSans-48\"/>\n       <use x=\"159.033203\" xlink:href=\"#DejaVuSans-48\"/>\n      </g>\n     </g>\n    </g>\n    <g id=\"xtick_6\">\n     <g id=\"line2d_11\">\n      <path clip-path=\"url(#pa6aa4d205d)\" d=\"M 256.54512 239.758125 \nL 256.54512 22.318125 \n\" style=\"fill:none;stroke:#b0b0b0;stroke-linecap:square;stroke-width:0.8;\"/>\n     </g>\n     <g id=\"line2d_12\">\n      <g>\n       <use style=\"stroke:#000000;stroke-width:0.8;\" x=\"256.54512\" xlink:href=\"#m70289c7887\" y=\"239.758125\"/>\n      </g>\n     </g>\n     <g id=\"text_6\">\n      <!-- 1.25 -->\n      <g transform=\"translate(245.412308 254.356562)scale(0.1 -0.1)\">\n       <use xlink:href=\"#DejaVuSans-49\"/>\n       <use x=\"63.623047\" xlink:href=\"#DejaVuSans-46\"/>\n       <use x=\"95.410156\" xlink:href=\"#DejaVuSans-50\"/>\n       <use x=\"159.033203\" xlink:href=\"#DejaVuSans-53\"/>\n      </g>\n     </g>\n    </g>\n    <g id=\"xtick_7\">\n     <g id=\"line2d_13\">\n      <path clip-path=\"url(#pa6aa4d205d)\" d=\"M 294.781758 239.758125 \nL 294.781758 22.318125 \n\" style=\"fill:none;stroke:#b0b0b0;stroke-linecap:square;stroke-width:0.8;\"/>\n     </g>\n     <g id=\"line2d_14\">\n      <g>\n       <use style=\"stroke:#000000;stroke-width:0.8;\" x=\"294.781758\" xlink:href=\"#m70289c7887\" y=\"239.758125\"/>\n      </g>\n     </g>\n     <g id=\"text_7\">\n      <!-- 1.50 -->\n      <g transform=\"translate(283.648946 254.356562)scale(0.1 -0.1)\">\n       <use xlink:href=\"#DejaVuSans-49\"/>\n       <use x=\"63.623047\" xlink:href=\"#DejaVuSans-46\"/>\n       <use x=\"95.410156\" xlink:href=\"#DejaVuSans-53\"/>\n       <use x=\"159.033203\" xlink:href=\"#DejaVuSans-48\"/>\n      </g>\n     </g>\n    </g>\n    <g id=\"xtick_8\">\n     <g id=\"line2d_15\">\n      <path clip-path=\"url(#pa6aa4d205d)\" d=\"M 333.018396 239.758125 \nL 333.018396 22.318125 \n\" style=\"fill:none;stroke:#b0b0b0;stroke-linecap:square;stroke-width:0.8;\"/>\n     </g>\n     <g id=\"line2d_16\">\n      <g>\n       <use style=\"stroke:#000000;stroke-width:0.8;\" x=\"333.018396\" xlink:href=\"#m70289c7887\" y=\"239.758125\"/>\n      </g>\n     </g>\n     <g id=\"text_8\">\n      <!-- 1.75 -->\n      <g transform=\"translate(321.885583 254.356562)scale(0.1 -0.1)\">\n       <use xlink:href=\"#DejaVuSans-49\"/>\n       <use x=\"63.623047\" xlink:href=\"#DejaVuSans-46\"/>\n       <use x=\"95.410156\" xlink:href=\"#DejaVuSans-55\"/>\n       <use x=\"159.033203\" xlink:href=\"#DejaVuSans-53\"/>\n      </g>\n     </g>\n    </g>\n    <g id=\"xtick_9\">\n     <g id=\"line2d_17\">\n      <path clip-path=\"url(#pa6aa4d205d)\" d=\"M 371.255034 239.758125 \nL 371.255034 22.318125 \n\" style=\"fill:none;stroke:#b0b0b0;stroke-linecap:square;stroke-width:0.8;\"/>\n     </g>\n     <g id=\"line2d_18\">\n      <g>\n       <use style=\"stroke:#000000;stroke-width:0.8;\" x=\"371.255034\" xlink:href=\"#m70289c7887\" y=\"239.758125\"/>\n      </g>\n     </g>\n     <g id=\"text_9\">\n      <!-- 2.00 -->\n      <g transform=\"translate(360.122221 254.356562)scale(0.1 -0.1)\">\n       <use xlink:href=\"#DejaVuSans-50\"/>\n       <use x=\"63.623047\" xlink:href=\"#DejaVuSans-46\"/>\n       <use x=\"95.410156\" xlink:href=\"#DejaVuSans-48\"/>\n       <use x=\"159.033203\" xlink:href=\"#DejaVuSans-48\"/>\n      </g>\n     </g>\n    </g>\n    <g id=\"text_10\">\n     <!-- time (s) -->\n     <defs>\n      <path d=\"M 18.3125 70.21875 \nL 18.3125 54.6875 \nL 36.8125 54.6875 \nL 36.8125 47.703125 \nL 18.3125 47.703125 \nL 18.3125 18.015625 \nQ 18.3125 11.328125 20.140625 9.421875 \nQ 21.96875 7.515625 27.59375 7.515625 \nL 36.8125 7.515625 \nL 36.8125 0 \nL 27.59375 0 \nQ 17.1875 0 13.234375 3.875 \nQ 9.28125 7.765625 9.28125 18.015625 \nL 9.28125 47.703125 \nL 2.6875 47.703125 \nL 2.6875 54.6875 \nL 9.28125 54.6875 \nL 9.28125 70.21875 \nz\n\" id=\"DejaVuSans-116\"/>\n      <path d=\"M 9.421875 54.6875 \nL 18.40625 54.6875 \nL 18.40625 0 \nL 9.421875 0 \nz\nM 9.421875 75.984375 \nL 18.40625 75.984375 \nL 18.40625 64.59375 \nL 9.421875 64.59375 \nz\n\" id=\"DejaVuSans-105\"/>\n      <path d=\"M 52 44.1875 \nQ 55.375 50.25 60.0625 53.125 \nQ 64.75 56 71.09375 56 \nQ 79.640625 56 84.28125 50.015625 \nQ 88.921875 44.046875 88.921875 33.015625 \nL 88.921875 0 \nL 79.890625 0 \nL 79.890625 32.71875 \nQ 79.890625 40.578125 77.09375 44.375 \nQ 74.3125 48.1875 68.609375 48.1875 \nQ 61.625 48.1875 57.5625 43.546875 \nQ 53.515625 38.921875 53.515625 30.90625 \nL 53.515625 0 \nL 44.484375 0 \nL 44.484375 32.71875 \nQ 44.484375 40.625 41.703125 44.40625 \nQ 38.921875 48.1875 33.109375 48.1875 \nQ 26.21875 48.1875 22.15625 43.53125 \nQ 18.109375 38.875 18.109375 30.90625 \nL 18.109375 0 \nL 9.078125 0 \nL 9.078125 54.6875 \nL 18.109375 54.6875 \nL 18.109375 46.1875 \nQ 21.1875 51.21875 25.484375 53.609375 \nQ 29.78125 56 35.6875 56 \nQ 41.65625 56 45.828125 52.96875 \nQ 50 49.953125 52 44.1875 \nz\n\" id=\"DejaVuSans-109\"/>\n      <path d=\"M 56.203125 29.59375 \nL 56.203125 25.203125 \nL 14.890625 25.203125 \nQ 15.484375 15.921875 20.484375 11.0625 \nQ 25.484375 6.203125 34.421875 6.203125 \nQ 39.59375 6.203125 44.453125 7.46875 \nQ 49.3125 8.734375 54.109375 11.28125 \nL 54.109375 2.78125 \nQ 49.265625 0.734375 44.1875 -0.34375 \nQ 39.109375 -1.421875 33.890625 -1.421875 \nQ 20.796875 -1.421875 13.15625 6.1875 \nQ 5.515625 13.8125 5.515625 26.8125 \nQ 5.515625 40.234375 12.765625 48.109375 \nQ 20.015625 56 32.328125 56 \nQ 43.359375 56 49.78125 48.890625 \nQ 56.203125 41.796875 56.203125 29.59375 \nz\nM 47.21875 32.234375 \nQ 47.125 39.59375 43.09375 43.984375 \nQ 39.0625 48.390625 32.421875 48.390625 \nQ 24.90625 48.390625 20.390625 44.140625 \nQ 15.875 39.890625 15.1875 32.171875 \nz\n\" id=\"DejaVuSans-101\"/>\n      <path id=\"DejaVuSans-32\"/>\n      <path d=\"M 31 75.875 \nQ 24.46875 64.65625 21.28125 53.65625 \nQ 18.109375 42.671875 18.109375 31.390625 \nQ 18.109375 20.125 21.3125 9.0625 \nQ 24.515625 -2 31 -13.1875 \nL 23.1875 -13.1875 \nQ 15.875 -1.703125 12.234375 9.375 \nQ 8.59375 20.453125 8.59375 31.390625 \nQ 8.59375 42.28125 12.203125 53.3125 \nQ 15.828125 64.359375 23.1875 75.875 \nz\n\" id=\"DejaVuSans-40\"/>\n      <path d=\"M 44.28125 53.078125 \nL 44.28125 44.578125 \nQ 40.484375 46.53125 36.375 47.5 \nQ 32.28125 48.484375 27.875 48.484375 \nQ 21.1875 48.484375 17.84375 46.4375 \nQ 14.5 44.390625 14.5 40.28125 \nQ 14.5 37.15625 16.890625 35.375 \nQ 19.28125 33.59375 26.515625 31.984375 \nL 29.59375 31.296875 \nQ 39.15625 29.25 43.1875 25.515625 \nQ 47.21875 21.78125 47.21875 15.09375 \nQ 47.21875 7.46875 41.1875 3.015625 \nQ 35.15625 -1.421875 24.609375 -1.421875 \nQ 20.21875 -1.421875 15.453125 -0.5625 \nQ 10.6875 0.296875 5.421875 2 \nL 5.421875 11.28125 \nQ 10.40625 8.6875 15.234375 7.390625 \nQ 20.0625 6.109375 24.8125 6.109375 \nQ 31.15625 6.109375 34.5625 8.28125 \nQ 37.984375 10.453125 37.984375 14.40625 \nQ 37.984375 18.0625 35.515625 20.015625 \nQ 33.0625 21.96875 24.703125 23.78125 \nL 21.578125 24.515625 \nQ 13.234375 26.265625 9.515625 29.90625 \nQ 5.8125 33.546875 5.8125 39.890625 \nQ 5.8125 47.609375 11.28125 51.796875 \nQ 16.75 56 26.8125 56 \nQ 31.78125 56 36.171875 55.265625 \nQ 40.578125 54.546875 44.28125 53.078125 \nz\n\" id=\"DejaVuSans-115\"/>\n      <path d=\"M 8.015625 75.875 \nL 15.828125 75.875 \nQ 23.140625 64.359375 26.78125 53.3125 \nQ 30.421875 42.28125 30.421875 31.390625 \nQ 30.421875 20.453125 26.78125 9.375 \nQ 23.140625 -1.703125 15.828125 -13.1875 \nL 8.015625 -13.1875 \nQ 14.5 -2 17.703125 9.0625 \nQ 20.90625 20.125 20.90625 31.390625 \nQ 20.90625 42.671875 17.703125 53.65625 \nQ 14.5 64.65625 8.015625 75.875 \nz\n\" id=\"DejaVuSans-41\"/>\n     </defs>\n     <g transform=\"translate(198.152344 268.034687)scale(0.1 -0.1)\">\n      <use xlink:href=\"#DejaVuSans-116\"/>\n      <use x=\"39.208984\" xlink:href=\"#DejaVuSans-105\"/>\n      <use x=\"66.992188\" xlink:href=\"#DejaVuSans-109\"/>\n      <use x=\"164.404297\" xlink:href=\"#DejaVuSans-101\"/>\n      <use x=\"225.927734\" xlink:href=\"#DejaVuSans-32\"/>\n      <use x=\"257.714844\" xlink:href=\"#DejaVuSans-40\"/>\n      <use x=\"296.728516\" xlink:href=\"#DejaVuSans-115\"/>\n      <use x=\"348.828125\" xlink:href=\"#DejaVuSans-41\"/>\n     </g>\n    </g>\n   </g>\n   <g id=\"matplotlib.axis_2\">\n    <g id=\"ytick_1\">\n     <g id=\"line2d_19\">\n      <path clip-path=\"url(#pa6aa4d205d)\" d=\"M 50.14375 229.874489 \nL 384.94375 229.874489 \n\" style=\"fill:none;stroke:#b0b0b0;stroke-linecap:square;stroke-width:0.8;\"/>\n     </g>\n     <g id=\"line2d_20\">\n      <defs>\n       <path d=\"M 0 0 \nL -3.5 0 \n\" id=\"mde6bfc0575\" style=\"stroke:#000000;stroke-width:0.8;\"/>\n      </defs>\n      <g>\n       <use style=\"stroke:#000000;stroke-width:0.8;\" x=\"50.14375\" xlink:href=\"#mde6bfc0575\" y=\"229.874489\"/>\n      </g>\n     </g>\n     <g id=\"text_11\">\n      <!-- 0.00 -->\n      <g transform=\"translate(20.878125 233.673707)scale(0.1 -0.1)\">\n       <use xlink:href=\"#DejaVuSans-48\"/>\n       <use x=\"63.623047\" xlink:href=\"#DejaVuSans-46\"/>\n       <use x=\"95.410156\" xlink:href=\"#DejaVuSans-48\"/>\n       <use x=\"159.033203\" xlink:href=\"#DejaVuSans-48\"/>\n      </g>\n     </g>\n    </g>\n    <g id=\"ytick_2\">\n     <g id=\"line2d_21\">\n      <path clip-path=\"url(#pa6aa4d205d)\" d=\"M 50.14375 205.165398 \nL 384.94375 205.165398 \n\" style=\"fill:none;stroke:#b0b0b0;stroke-linecap:square;stroke-width:0.8;\"/>\n     </g>\n     <g id=\"line2d_22\">\n      <g>\n       <use style=\"stroke:#000000;stroke-width:0.8;\" x=\"50.14375\" xlink:href=\"#mde6bfc0575\" y=\"205.165398\"/>\n      </g>\n     </g>\n     <g id=\"text_12\">\n      <!-- 0.25 -->\n      <g transform=\"translate(20.878125 208.964616)scale(0.1 -0.1)\">\n       <use xlink:href=\"#DejaVuSans-48\"/>\n       <use x=\"63.623047\" xlink:href=\"#DejaVuSans-46\"/>\n       <use x=\"95.410156\" xlink:href=\"#DejaVuSans-50\"/>\n       <use x=\"159.033203\" xlink:href=\"#DejaVuSans-53\"/>\n      </g>\n     </g>\n    </g>\n    <g id=\"ytick_3\">\n     <g id=\"line2d_23\">\n      <path clip-path=\"url(#pa6aa4d205d)\" d=\"M 50.14375 180.456307 \nL 384.94375 180.456307 \n\" style=\"fill:none;stroke:#b0b0b0;stroke-linecap:square;stroke-width:0.8;\"/>\n     </g>\n     <g id=\"line2d_24\">\n      <g>\n       <use style=\"stroke:#000000;stroke-width:0.8;\" x=\"50.14375\" xlink:href=\"#mde6bfc0575\" y=\"180.456307\"/>\n      </g>\n     </g>\n     <g id=\"text_13\">\n      <!-- 0.50 -->\n      <g transform=\"translate(20.878125 184.255526)scale(0.1 -0.1)\">\n       <use xlink:href=\"#DejaVuSans-48\"/>\n       <use x=\"63.623047\" xlink:href=\"#DejaVuSans-46\"/>\n       <use x=\"95.410156\" xlink:href=\"#DejaVuSans-53\"/>\n       <use x=\"159.033203\" xlink:href=\"#DejaVuSans-48\"/>\n      </g>\n     </g>\n    </g>\n    <g id=\"ytick_4\">\n     <g id=\"line2d_25\">\n      <path clip-path=\"url(#pa6aa4d205d)\" d=\"M 50.14375 155.747216 \nL 384.94375 155.747216 \n\" style=\"fill:none;stroke:#b0b0b0;stroke-linecap:square;stroke-width:0.8;\"/>\n     </g>\n     <g id=\"line2d_26\">\n      <g>\n       <use style=\"stroke:#000000;stroke-width:0.8;\" x=\"50.14375\" xlink:href=\"#mde6bfc0575\" y=\"155.747216\"/>\n      </g>\n     </g>\n     <g id=\"text_14\">\n      <!-- 0.75 -->\n      <g transform=\"translate(20.878125 159.546435)scale(0.1 -0.1)\">\n       <use xlink:href=\"#DejaVuSans-48\"/>\n       <use x=\"63.623047\" xlink:href=\"#DejaVuSans-46\"/>\n       <use x=\"95.410156\" xlink:href=\"#DejaVuSans-55\"/>\n       <use x=\"159.033203\" xlink:href=\"#DejaVuSans-53\"/>\n      </g>\n     </g>\n    </g>\n    <g id=\"ytick_5\">\n     <g id=\"line2d_27\">\n      <path clip-path=\"url(#pa6aa4d205d)\" d=\"M 50.14375 131.038125 \nL 384.94375 131.038125 \n\" style=\"fill:none;stroke:#b0b0b0;stroke-linecap:square;stroke-width:0.8;\"/>\n     </g>\n     <g id=\"line2d_28\">\n      <g>\n       <use style=\"stroke:#000000;stroke-width:0.8;\" x=\"50.14375\" xlink:href=\"#mde6bfc0575\" y=\"131.038125\"/>\n      </g>\n     </g>\n     <g id=\"text_15\">\n      <!-- 1.00 -->\n      <g transform=\"translate(20.878125 134.837344)scale(0.1 -0.1)\">\n       <use xlink:href=\"#DejaVuSans-49\"/>\n       <use x=\"63.623047\" xlink:href=\"#DejaVuSans-46\"/>\n       <use x=\"95.410156\" xlink:href=\"#DejaVuSans-48\"/>\n       <use x=\"159.033203\" xlink:href=\"#DejaVuSans-48\"/>\n      </g>\n     </g>\n    </g>\n    <g id=\"ytick_6\">\n     <g id=\"line2d_29\">\n      <path clip-path=\"url(#pa6aa4d205d)\" d=\"M 50.14375 106.329034 \nL 384.94375 106.329034 \n\" style=\"fill:none;stroke:#b0b0b0;stroke-linecap:square;stroke-width:0.8;\"/>\n     </g>\n     <g id=\"line2d_30\">\n      <g>\n       <use style=\"stroke:#000000;stroke-width:0.8;\" x=\"50.14375\" xlink:href=\"#mde6bfc0575\" y=\"106.329034\"/>\n      </g>\n     </g>\n     <g id=\"text_16\">\n      <!-- 1.25 -->\n      <g transform=\"translate(20.878125 110.128253)scale(0.1 -0.1)\">\n       <use xlink:href=\"#DejaVuSans-49\"/>\n       <use x=\"63.623047\" xlink:href=\"#DejaVuSans-46\"/>\n       <use x=\"95.410156\" xlink:href=\"#DejaVuSans-50\"/>\n       <use x=\"159.033203\" xlink:href=\"#DejaVuSans-53\"/>\n      </g>\n     </g>\n    </g>\n    <g id=\"ytick_7\">\n     <g id=\"line2d_31\">\n      <path clip-path=\"url(#pa6aa4d205d)\" d=\"M 50.14375 81.619943 \nL 384.94375 81.619943 \n\" style=\"fill:none;stroke:#b0b0b0;stroke-linecap:square;stroke-width:0.8;\"/>\n     </g>\n     <g id=\"line2d_32\">\n      <g>\n       <use style=\"stroke:#000000;stroke-width:0.8;\" x=\"50.14375\" xlink:href=\"#mde6bfc0575\" y=\"81.619943\"/>\n      </g>\n     </g>\n     <g id=\"text_17\">\n      <!-- 1.50 -->\n      <g transform=\"translate(20.878125 85.419162)scale(0.1 -0.1)\">\n       <use xlink:href=\"#DejaVuSans-49\"/>\n       <use x=\"63.623047\" xlink:href=\"#DejaVuSans-46\"/>\n       <use x=\"95.410156\" xlink:href=\"#DejaVuSans-53\"/>\n       <use x=\"159.033203\" xlink:href=\"#DejaVuSans-48\"/>\n      </g>\n     </g>\n    </g>\n    <g id=\"ytick_8\">\n     <g id=\"line2d_33\">\n      <path clip-path=\"url(#pa6aa4d205d)\" d=\"M 50.14375 56.910852 \nL 384.94375 56.910852 \n\" style=\"fill:none;stroke:#b0b0b0;stroke-linecap:square;stroke-width:0.8;\"/>\n     </g>\n     <g id=\"line2d_34\">\n      <g>\n       <use style=\"stroke:#000000;stroke-width:0.8;\" x=\"50.14375\" xlink:href=\"#mde6bfc0575\" y=\"56.910852\"/>\n      </g>\n     </g>\n     <g id=\"text_18\">\n      <!-- 1.75 -->\n      <g transform=\"translate(20.878125 60.710071)scale(0.1 -0.1)\">\n       <use xlink:href=\"#DejaVuSans-49\"/>\n       <use x=\"63.623047\" xlink:href=\"#DejaVuSans-46\"/>\n       <use x=\"95.410156\" xlink:href=\"#DejaVuSans-55\"/>\n       <use x=\"159.033203\" xlink:href=\"#DejaVuSans-53\"/>\n      </g>\n     </g>\n    </g>\n    <g id=\"ytick_9\">\n     <g id=\"line2d_35\">\n      <path clip-path=\"url(#pa6aa4d205d)\" d=\"M 50.14375 32.201761 \nL 384.94375 32.201761 \n\" style=\"fill:none;stroke:#b0b0b0;stroke-linecap:square;stroke-width:0.8;\"/>\n     </g>\n     <g id=\"line2d_36\">\n      <g>\n       <use style=\"stroke:#000000;stroke-width:0.8;\" x=\"50.14375\" xlink:href=\"#mde6bfc0575\" y=\"32.201761\"/>\n      </g>\n     </g>\n     <g id=\"text_19\">\n      <!-- 2.00 -->\n      <g transform=\"translate(20.878125 36.00098)scale(0.1 -0.1)\">\n       <use xlink:href=\"#DejaVuSans-50\"/>\n       <use x=\"63.623047\" xlink:href=\"#DejaVuSans-46\"/>\n       <use x=\"95.410156\" xlink:href=\"#DejaVuSans-48\"/>\n       <use x=\"159.033203\" xlink:href=\"#DejaVuSans-48\"/>\n      </g>\n     </g>\n    </g>\n    <g id=\"text_20\">\n     <!-- voltage (mV) -->\n     <defs>\n      <path d=\"M 2.984375 54.6875 \nL 12.5 54.6875 \nL 29.59375 8.796875 \nL 46.6875 54.6875 \nL 56.203125 54.6875 \nL 35.6875 0 \nL 23.484375 0 \nz\n\" id=\"DejaVuSans-118\"/>\n      <path d=\"M 30.609375 48.390625 \nQ 23.390625 48.390625 19.1875 42.75 \nQ 14.984375 37.109375 14.984375 27.296875 \nQ 14.984375 17.484375 19.15625 11.84375 \nQ 23.34375 6.203125 30.609375 6.203125 \nQ 37.796875 6.203125 41.984375 11.859375 \nQ 46.1875 17.53125 46.1875 27.296875 \nQ 46.1875 37.015625 41.984375 42.703125 \nQ 37.796875 48.390625 30.609375 48.390625 \nz\nM 30.609375 56 \nQ 42.328125 56 49.015625 48.375 \nQ 55.71875 40.765625 55.71875 27.296875 \nQ 55.71875 13.875 49.015625 6.21875 \nQ 42.328125 -1.421875 30.609375 -1.421875 \nQ 18.84375 -1.421875 12.171875 6.21875 \nQ 5.515625 13.875 5.515625 27.296875 \nQ 5.515625 40.765625 12.171875 48.375 \nQ 18.84375 56 30.609375 56 \nz\n\" id=\"DejaVuSans-111\"/>\n      <path d=\"M 9.421875 75.984375 \nL 18.40625 75.984375 \nL 18.40625 0 \nL 9.421875 0 \nz\n\" id=\"DejaVuSans-108\"/>\n      <path d=\"M 34.28125 27.484375 \nQ 23.390625 27.484375 19.1875 25 \nQ 14.984375 22.515625 14.984375 16.5 \nQ 14.984375 11.71875 18.140625 8.90625 \nQ 21.296875 6.109375 26.703125 6.109375 \nQ 34.1875 6.109375 38.703125 11.40625 \nQ 43.21875 16.703125 43.21875 25.484375 \nL 43.21875 27.484375 \nz\nM 52.203125 31.203125 \nL 52.203125 0 \nL 43.21875 0 \nL 43.21875 8.296875 \nQ 40.140625 3.328125 35.546875 0.953125 \nQ 30.953125 -1.421875 24.3125 -1.421875 \nQ 15.921875 -1.421875 10.953125 3.296875 \nQ 6 8.015625 6 15.921875 \nQ 6 25.140625 12.171875 29.828125 \nQ 18.359375 34.515625 30.609375 34.515625 \nL 43.21875 34.515625 \nL 43.21875 35.40625 \nQ 43.21875 41.609375 39.140625 45 \nQ 35.0625 48.390625 27.6875 48.390625 \nQ 23 48.390625 18.546875 47.265625 \nQ 14.109375 46.140625 10.015625 43.890625 \nL 10.015625 52.203125 \nQ 14.9375 54.109375 19.578125 55.046875 \nQ 24.21875 56 28.609375 56 \nQ 40.484375 56 46.34375 49.84375 \nQ 52.203125 43.703125 52.203125 31.203125 \nz\n\" id=\"DejaVuSans-97\"/>\n      <path d=\"M 45.40625 27.984375 \nQ 45.40625 37.75 41.375 43.109375 \nQ 37.359375 48.484375 30.078125 48.484375 \nQ 22.859375 48.484375 18.828125 43.109375 \nQ 14.796875 37.75 14.796875 27.984375 \nQ 14.796875 18.265625 18.828125 12.890625 \nQ 22.859375 7.515625 30.078125 7.515625 \nQ 37.359375 7.515625 41.375 12.890625 \nQ 45.40625 18.265625 45.40625 27.984375 \nz\nM 54.390625 6.78125 \nQ 54.390625 -7.171875 48.1875 -13.984375 \nQ 42 -20.796875 29.203125 -20.796875 \nQ 24.46875 -20.796875 20.265625 -20.09375 \nQ 16.0625 -19.390625 12.109375 -17.921875 \nL 12.109375 -9.1875 \nQ 16.0625 -11.328125 19.921875 -12.34375 \nQ 23.78125 -13.375 27.78125 -13.375 \nQ 36.625 -13.375 41.015625 -8.765625 \nQ 45.40625 -4.15625 45.40625 5.171875 \nL 45.40625 9.625 \nQ 42.625 4.78125 38.28125 2.390625 \nQ 33.9375 0 27.875 0 \nQ 17.828125 0 11.671875 7.65625 \nQ 5.515625 15.328125 5.515625 27.984375 \nQ 5.515625 40.671875 11.671875 48.328125 \nQ 17.828125 56 27.875 56 \nQ 33.9375 56 38.28125 53.609375 \nQ 42.625 51.21875 45.40625 46.390625 \nL 45.40625 54.6875 \nL 54.390625 54.6875 \nz\n\" id=\"DejaVuSans-103\"/>\n      <path d=\"M 28.609375 0 \nL 0.78125 72.90625 \nL 11.078125 72.90625 \nL 34.1875 11.53125 \nL 57.328125 72.90625 \nL 67.578125 72.90625 \nL 39.796875 0 \nz\n\" id=\"DejaVuSans-86\"/>\n     </defs>\n     <g transform=\"translate(14.798438 163.502187)rotate(-90)scale(0.1 -0.1)\">\n      <use xlink:href=\"#DejaVuSans-118\"/>\n      <use x=\"59.179688\" xlink:href=\"#DejaVuSans-111\"/>\n      <use x=\"120.361328\" xlink:href=\"#DejaVuSans-108\"/>\n      <use x=\"148.144531\" xlink:href=\"#DejaVuSans-116\"/>\n      <use x=\"187.353516\" xlink:href=\"#DejaVuSans-97\"/>\n      <use x=\"248.632812\" xlink:href=\"#DejaVuSans-103\"/>\n      <use x=\"312.109375\" xlink:href=\"#DejaVuSans-101\"/>\n      <use x=\"373.632812\" xlink:href=\"#DejaVuSans-32\"/>\n      <use x=\"405.419922\" xlink:href=\"#DejaVuSans-40\"/>\n      <use x=\"444.433594\" xlink:href=\"#DejaVuSans-109\"/>\n      <use x=\"541.845703\" xlink:href=\"#DejaVuSans-86\"/>\n      <use x=\"610.253906\" xlink:href=\"#DejaVuSans-41\"/>\n     </g>\n    </g>\n   </g>\n   <g id=\"line2d_37\">\n    <path clip-path=\"url(#pa6aa4d205d)\" d=\"M 65.361932 131.038125 \nL 71.479794 106.458521 \nL 76.06819 88.955648 \nL 79.127121 78.078953 \nL 82.186052 68.037456 \nL 85.244983 58.989517 \nL 88.303914 51.077827 \nL 89.83338 47.587823 \nL 91.362845 44.427159 \nL 92.892311 41.608309 \nL 94.421776 39.142398 \nL 95.951242 37.039157 \nL 97.480708 35.306887 \nL 99.010173 33.952425 \nL 100.539639 32.981116 \nL 102.069104 32.396792 \nL 103.59857 32.201761 \nL 105.128035 32.396792 \nL 106.657501 32.981116 \nL 108.186966 33.952425 \nL 109.716432 35.306887 \nL 111.245897 37.039157 \nL 112.775363 39.142398 \nL 114.304828 41.608309 \nL 115.834294 44.427159 \nL 117.363759 47.587823 \nL 118.893225 51.077827 \nL 120.42269 54.883398 \nL 123.481621 63.379978 \nL 126.540552 72.943568 \nL 129.599483 83.423344 \nL 132.658414 94.654033 \nL 137.246811 112.518037 \nL 151.012 167.422217 \nL 154.070931 178.652906 \nL 157.129862 189.132682 \nL 160.188793 198.696272 \nL 163.247724 207.192852 \nL 164.77719 210.998423 \nL 166.306655 214.488427 \nL 167.836121 217.649091 \nL 169.365586 220.467941 \nL 170.895052 222.933852 \nL 172.424517 225.037093 \nL 173.953983 226.769363 \nL 175.483448 228.123825 \nL 177.012914 229.095134 \nL 178.54238 229.679458 \nL 180.071845 229.874489 \nL 181.601311 229.679458 \nL 183.130776 229.095134 \nL 184.660242 228.123825 \nL 186.189707 226.769363 \nL 187.719173 225.037093 \nL 189.248638 222.933852 \nL 190.778104 220.467941 \nL 192.307569 217.649091 \nL 193.837035 214.488427 \nL 195.3665 210.998423 \nL 196.895966 207.192852 \nL 199.954897 198.696272 \nL 203.013828 189.132682 \nL 206.072759 178.652906 \nL 209.13169 167.422217 \nL 213.720086 149.558213 \nL 227.485276 94.654033 \nL 230.544207 83.423344 \nL 233.603138 72.943568 \nL 236.662069 63.379978 \nL 239.721 54.883398 \nL 241.250465 51.077827 \nL 242.779931 47.587823 \nL 244.309396 44.427159 \nL 245.838862 41.608309 \nL 247.368327 39.142398 \nL 248.897793 37.039157 \nL 250.427258 35.306887 \nL 251.956724 33.952425 \nL 253.486189 32.981116 \nL 255.015655 32.396792 \nL 256.54512 32.201761 \nL 258.074586 32.396792 \nL 259.604052 32.981116 \nL 261.133517 33.952425 \nL 262.662983 35.306887 \nL 264.192448 37.039157 \nL 265.721914 39.142398 \nL 267.251379 41.608309 \nL 268.780845 44.427159 \nL 270.31031 47.587823 \nL 271.839776 51.077827 \nL 273.369241 54.883398 \nL 276.428172 63.379978 \nL 279.487103 72.943568 \nL 282.546034 83.423344 \nL 285.604965 94.654033 \nL 290.193362 112.518037 \nL 303.958551 167.422217 \nL 307.017482 178.652906 \nL 310.076413 189.132682 \nL 313.135344 198.696272 \nL 316.194275 207.192852 \nL 317.723741 210.998423 \nL 319.253206 214.488427 \nL 320.782672 217.649091 \nL 322.312137 220.467941 \nL 323.841603 222.933852 \nL 325.371068 225.037093 \nL 326.900534 226.769363 \nL 328.429999 228.123825 \nL 329.959465 229.095134 \nL 331.48893 229.679458 \nL 333.018396 229.874489 \nL 334.547861 229.679458 \nL 336.077327 229.095134 \nL 337.606792 228.123825 \nL 339.136258 226.769363 \nL 340.665724 225.037093 \nL 342.195189 222.933852 \nL 343.724655 220.467941 \nL 345.25412 217.649091 \nL 346.783586 214.488427 \nL 348.313051 210.998423 \nL 349.842517 207.192852 \nL 352.901448 198.696272 \nL 355.960379 189.132682 \nL 359.01931 178.652906 \nL 362.078241 167.422217 \nL 366.666637 149.558213 \nL 369.725568 137.244112 \nL 369.725568 137.244112 \n\" style=\"fill:none;stroke:#1f77b4;stroke-linecap:square;stroke-width:1.5;\"/>\n   </g>\n   <g id=\"patch_3\">\n    <path d=\"M 50.14375 239.758125 \nL 50.14375 22.318125 \n\" style=\"fill:none;stroke:#000000;stroke-linecap:square;stroke-linejoin:miter;stroke-width:0.8;\"/>\n   </g>\n   <g id=\"patch_4\">\n    <path d=\"M 384.94375 239.758125 \nL 384.94375 22.318125 \n\" style=\"fill:none;stroke:#000000;stroke-linecap:square;stroke-linejoin:miter;stroke-width:0.8;\"/>\n   </g>\n   <g id=\"patch_5\">\n    <path d=\"M 50.14375 239.758125 \nL 384.94375 239.758125 \n\" style=\"fill:none;stroke:#000000;stroke-linecap:square;stroke-linejoin:miter;stroke-width:0.8;\"/>\n   </g>\n   <g id=\"patch_6\">\n    <path d=\"M 50.14375 22.318125 \nL 384.94375 22.318125 \n\" style=\"fill:none;stroke:#000000;stroke-linecap:square;stroke-linejoin:miter;stroke-width:0.8;\"/>\n   </g>\n   <g id=\"text_21\">\n    <!-- About as simple as it gets, folks -->\n    <defs>\n     <path d=\"M 34.1875 63.1875 \nL 20.796875 26.90625 \nL 47.609375 26.90625 \nz\nM 28.609375 72.90625 \nL 39.796875 72.90625 \nL 67.578125 0 \nL 57.328125 0 \nL 50.6875 18.703125 \nL 17.828125 18.703125 \nL 11.1875 0 \nL 0.78125 0 \nz\n\" id=\"DejaVuSans-65\"/>\n     <path d=\"M 48.6875 27.296875 \nQ 48.6875 37.203125 44.609375 42.84375 \nQ 40.53125 48.484375 33.40625 48.484375 \nQ 26.265625 48.484375 22.1875 42.84375 \nQ 18.109375 37.203125 18.109375 27.296875 \nQ 18.109375 17.390625 22.1875 11.75 \nQ 26.265625 6.109375 33.40625 6.109375 \nQ 40.53125 6.109375 44.609375 11.75 \nQ 48.6875 17.390625 48.6875 27.296875 \nz\nM 18.109375 46.390625 \nQ 20.953125 51.265625 25.265625 53.625 \nQ 29.59375 56 35.59375 56 \nQ 45.5625 56 51.78125 48.09375 \nQ 58.015625 40.1875 58.015625 27.296875 \nQ 58.015625 14.40625 51.78125 6.484375 \nQ 45.5625 -1.421875 35.59375 -1.421875 \nQ 29.59375 -1.421875 25.265625 0.953125 \nQ 20.953125 3.328125 18.109375 8.203125 \nL 18.109375 0 \nL 9.078125 0 \nL 9.078125 75.984375 \nL 18.109375 75.984375 \nz\n\" id=\"DejaVuSans-98\"/>\n     <path d=\"M 8.5 21.578125 \nL 8.5 54.6875 \nL 17.484375 54.6875 \nL 17.484375 21.921875 \nQ 17.484375 14.15625 20.5 10.265625 \nQ 23.53125 6.390625 29.59375 6.390625 \nQ 36.859375 6.390625 41.078125 11.03125 \nQ 45.3125 15.671875 45.3125 23.6875 \nL 45.3125 54.6875 \nL 54.296875 54.6875 \nL 54.296875 0 \nL 45.3125 0 \nL 45.3125 8.40625 \nQ 42.046875 3.421875 37.71875 1 \nQ 33.40625 -1.421875 27.6875 -1.421875 \nQ 18.265625 -1.421875 13.375 4.4375 \nQ 8.5 10.296875 8.5 21.578125 \nz\nM 31.109375 56 \nz\n\" id=\"DejaVuSans-117\"/>\n     <path d=\"M 18.109375 8.203125 \nL 18.109375 -20.796875 \nL 9.078125 -20.796875 \nL 9.078125 54.6875 \nL 18.109375 54.6875 \nL 18.109375 46.390625 \nQ 20.953125 51.265625 25.265625 53.625 \nQ 29.59375 56 35.59375 56 \nQ 45.5625 56 51.78125 48.09375 \nQ 58.015625 40.1875 58.015625 27.296875 \nQ 58.015625 14.40625 51.78125 6.484375 \nQ 45.5625 -1.421875 35.59375 -1.421875 \nQ 29.59375 -1.421875 25.265625 0.953125 \nQ 20.953125 3.328125 18.109375 8.203125 \nz\nM 48.6875 27.296875 \nQ 48.6875 37.203125 44.609375 42.84375 \nQ 40.53125 48.484375 33.40625 48.484375 \nQ 26.265625 48.484375 22.1875 42.84375 \nQ 18.109375 37.203125 18.109375 27.296875 \nQ 18.109375 17.390625 22.1875 11.75 \nQ 26.265625 6.109375 33.40625 6.109375 \nQ 40.53125 6.109375 44.609375 11.75 \nQ 48.6875 17.390625 48.6875 27.296875 \nz\n\" id=\"DejaVuSans-112\"/>\n     <path d=\"M 11.71875 12.40625 \nL 22.015625 12.40625 \nL 22.015625 4 \nL 14.015625 -11.625 \nL 7.71875 -11.625 \nL 11.71875 4 \nz\n\" id=\"DejaVuSans-44\"/>\n     <path d=\"M 37.109375 75.984375 \nL 37.109375 68.5 \nL 28.515625 68.5 \nQ 23.6875 68.5 21.796875 66.546875 \nQ 19.921875 64.59375 19.921875 59.515625 \nL 19.921875 54.6875 \nL 34.71875 54.6875 \nL 34.71875 47.703125 \nL 19.921875 47.703125 \nL 19.921875 0 \nL 10.890625 0 \nL 10.890625 47.703125 \nL 2.296875 47.703125 \nL 2.296875 54.6875 \nL 10.890625 54.6875 \nL 10.890625 58.5 \nQ 10.890625 67.625 15.140625 71.796875 \nQ 19.390625 75.984375 28.609375 75.984375 \nz\n\" id=\"DejaVuSans-102\"/>\n     <path d=\"M 9.078125 75.984375 \nL 18.109375 75.984375 \nL 18.109375 31.109375 \nL 44.921875 54.6875 \nL 56.390625 54.6875 \nL 27.390625 29.109375 \nL 57.625 0 \nL 45.90625 0 \nL 18.109375 26.703125 \nL 18.109375 0 \nL 9.078125 0 \nz\n\" id=\"DejaVuSans-107\"/>\n    </defs>\n    <g transform=\"translate(121.998438 16.318125)scale(0.12 -0.12)\">\n     <use xlink:href=\"#DejaVuSans-65\"/>\n     <use x=\"68.408203\" xlink:href=\"#DejaVuSans-98\"/>\n     <use x=\"131.884766\" xlink:href=\"#DejaVuSans-111\"/>\n     <use x=\"193.066406\" xlink:href=\"#DejaVuSans-117\"/>\n     <use x=\"256.445312\" xlink:href=\"#DejaVuSans-116\"/>\n     <use x=\"295.654297\" xlink:href=\"#DejaVuSans-32\"/>\n     <use x=\"327.441406\" xlink:href=\"#DejaVuSans-97\"/>\n     <use x=\"388.720703\" xlink:href=\"#DejaVuSans-115\"/>\n     <use x=\"440.820312\" xlink:href=\"#DejaVuSans-32\"/>\n     <use x=\"472.607422\" xlink:href=\"#DejaVuSans-115\"/>\n     <use x=\"524.707031\" xlink:href=\"#DejaVuSans-105\"/>\n     <use x=\"552.490234\" xlink:href=\"#DejaVuSans-109\"/>\n     <use x=\"649.902344\" xlink:href=\"#DejaVuSans-112\"/>\n     <use x=\"713.378906\" xlink:href=\"#DejaVuSans-108\"/>\n     <use x=\"741.162109\" xlink:href=\"#DejaVuSans-101\"/>\n     <use x=\"802.685547\" xlink:href=\"#DejaVuSans-32\"/>\n     <use x=\"834.472656\" xlink:href=\"#DejaVuSans-97\"/>\n     <use x=\"895.751953\" xlink:href=\"#DejaVuSans-115\"/>\n     <use x=\"947.851562\" xlink:href=\"#DejaVuSans-32\"/>\n     <use x=\"979.638672\" xlink:href=\"#DejaVuSans-105\"/>\n     <use x=\"1007.421875\" xlink:href=\"#DejaVuSans-116\"/>\n     <use x=\"1046.630859\" xlink:href=\"#DejaVuSans-32\"/>\n     <use x=\"1078.417969\" xlink:href=\"#DejaVuSans-103\"/>\n     <use x=\"1141.894531\" xlink:href=\"#DejaVuSans-101\"/>\n     <use x=\"1203.417969\" xlink:href=\"#DejaVuSans-116\"/>\n     <use x=\"1242.626953\" xlink:href=\"#DejaVuSans-115\"/>\n     <use x=\"1294.726562\" xlink:href=\"#DejaVuSans-44\"/>\n     <use x=\"1326.513672\" xlink:href=\"#DejaVuSans-32\"/>\n     <use x=\"1358.300781\" xlink:href=\"#DejaVuSans-102\"/>\n     <use x=\"1393.505859\" xlink:href=\"#DejaVuSans-111\"/>\n     <use x=\"1454.6875\" xlink:href=\"#DejaVuSans-108\"/>\n     <use x=\"1482.470703\" xlink:href=\"#DejaVuSans-107\"/>\n     <use x=\"1540.380859\" xlink:href=\"#DejaVuSans-115\"/>\n    </g>\n   </g>\n  </g>\n </g>\n <defs>\n  <clipPath id=\"pa6aa4d205d\">\n   <rect height=\"217.44\" width=\"334.8\" x=\"50.14375\" y=\"22.318125\"/>\n  </clipPath>\n </defs>\n</svg>\n",
      "image/png": "[encoded data removed]"
     },
     "metadata": {
      "needs_background": "light"
     }
    }
   ],
   "source": [
    "t = np.arange(0.0, 2.0, 0.01)\n",
    "s = 1 + np.sin(2 * np.pi * t)\n",
    "\n",
    "fig, ax = plt.subplots()\n",
    "ax.plot(t, s)\n",
    "\n",
    "ax.set(xlabel='time (s)', ylabel='voltage (mV)',\n",
    "        title='About as simple as it gets, folks')\n",
    "ax.grid()\n",
    "plt.show()"
   ]
  },
  {
   "cell_type": "code",
   "execution_count": 4,
   "metadata": {},
   "outputs": [
    {
     "output_type": "display_data",
     "data": {
      "application/vnd.plotly.v1+json": {
       "config": {
        "plotlyServerURL": "https://plot.ly"
       },
       "data": [
        {
         "type": "scatter",
         "x": [
          0,
          0.01,
          0.02,
          0.03,
          0.04,
          0.05,
          0.06,
          0.07,
          0.08,
          0.09,
          0.1,
          0.11,
          0.12,
          0.13,
          0.14,
          0.15,
          0.16,
          0.17,
          0.18,
          0.19,
          0.2,
          0.21,
          0.22,
          0.23,
          0.24,
          0.25,
          0.26,
          0.27,
          0.28,
          0.29,
          0.3,
          0.31,
          0.32,
          0.33,
          0.34,
          0.35000000000000003,
          0.36,
          0.37,
          0.38,
          0.39,
          0.4,
          0.41000000000000003,
          0.42,
          0.43,
          0.44,
          0.45,
          0.46,
          0.47000000000000003,
          0.48,
          0.49,
          0.5,
          0.51,
          0.52,
          0.53,
          0.54,
          0.55,
          0.56,
          0.5700000000000001,
          0.58,
          0.59,
          0.6,
          0.61,
          0.62,
          0.63,
          0.64,
          0.65,
          0.66,
          0.67,
          0.68,
          0.6900000000000001,
          0.7000000000000001,
          0.71,
          0.72,
          0.73,
          0.74,
          0.75,
          0.76,
          0.77,
          0.78,
          0.79,
          0.8,
          0.81,
          0.8200000000000001,
          0.8300000000000001,
          0.84,
          0.85,
          0.86,
          0.87,
          0.88,
          0.89,
          0.9,
          0.91,
          0.92,
          0.93,
          0.9400000000000001,
          0.9500000000000001,
          0.96,
          0.97,
          0.98,
          0.99,
          1,
          1.01,
          1.02,
          1.03,
          1.04,
          1.05,
          1.06,
          1.07,
          1.08,
          1.09,
          1.1,
          1.11,
          1.12,
          1.1300000000000001,
          1.1400000000000001,
          1.1500000000000001,
          1.16,
          1.17,
          1.18,
          1.19,
          1.2,
          1.21,
          1.22,
          1.23,
          1.24,
          1.25,
          1.26,
          1.27,
          1.28,
          1.29,
          1.3,
          1.31,
          1.32,
          1.33,
          1.34,
          1.35,
          1.36,
          1.37,
          1.3800000000000001,
          1.3900000000000001,
          1.4000000000000001,
          1.41,
          1.42,
          1.43,
          1.44,
          1.45,
          1.46,
          1.47,
          1.48,
          1.49,
          1.5,
          1.51,
          1.52,
          1.53,
          1.54,
          1.55,
          1.56,
          1.57,
          1.58,
          1.59,
          1.6,
          1.61,
          1.62,
          1.6300000000000001,
          1.6400000000000001,
          1.6500000000000001,
          1.6600000000000001,
          1.67,
          1.68,
          1.69,
          1.7,
          1.71,
          1.72,
          1.73,
          1.74,
          1.75,
          1.76,
          1.77,
          1.78,
          1.79,
          1.8,
          1.81,
          1.82,
          1.83,
          1.84,
          1.85,
          1.86,
          1.87,
          1.8800000000000001,
          1.8900000000000001,
          1.9000000000000001,
          1.9100000000000001,
          1.92,
          1.93,
          1.94,
          1.95,
          1.96,
          1.97,
          1.98,
          1.99
         ],
         "y": [
          1,
          1.0627905195293135,
          1.1253332335643043,
          1.1873813145857246,
          1.2486898871648549,
          1.3090169943749475,
          1.368124552684678,
          1.4257792915650727,
          1.4817536741017152,
          1.5358267949789965,
          1.5877852522924731,
          1.6374239897486897,
          1.6845471059286887,
          1.7289686274214116,
          1.7705132427757893,
          1.8090169943749475,
          1.844327925502015,
          1.8763066800438637,
          1.9048270524660196,
          1.9297764858882513,
          1.9510565162951536,
          1.968583161128631,
          1.9822872507286886,
          1.992114701314478,
          1.9980267284282716,
          2,
          1.9980267284282716,
          1.9921147013144778,
          1.9822872507286886,
          1.968583161128631,
          1.9510565162951536,
          1.9297764858882513,
          1.9048270524660196,
          1.8763066800438635,
          1.8443279255020149,
          1.8090169943749475,
          1.7705132427757893,
          1.7289686274214113,
          1.6845471059286887,
          1.6374239897486897,
          1.5877852522924734,
          1.5358267949789965,
          1.4817536741017157,
          1.4257792915650729,
          1.3681245526846781,
          1.3090169943749475,
          1.2486898871648549,
          1.1873813145857246,
          1.1253332335643045,
          1.0627905195293135,
          1.0000000000000002,
          0.9372094804706866,
          0.8746667664356957,
          0.8126186854142752,
          0.7513101128351449,
          0.6909830056250523,
          0.6318754473153216,
          0.5742207084349273,
          0.518246325898285,
          0.46417320502100357,
          0.412214747707527,
          0.36257601025131037,
          0.3154528940713113,
          0.27103137257858867,
          0.22948675722421064,
          0.19098300562505266,
          0.1556720744979847,
          0.12369331995613642,
          0.0951729475339802,
          0.07022351411174854,
          0.04894348370484647,
          0.031416838871369035,
          0.01771274927131128,
          0.007885298685522235,
          0.001973271571728441,
          0,
          0.001973271571728441,
          0.007885298685522124,
          0.01771274927131128,
          0.031416838871368924,
          0.04894348370484636,
          0.07022351411174876,
          0.09517294753398042,
          0.12369331995613664,
          0.15567207449798448,
          0.19098300562505244,
          0.2294867572242104,
          0.27103137257858845,
          0.31545289407131105,
          0.36257601025131037,
          0.41221474770752664,
          0.4641732050210037,
          0.5182463258982847,
          0.5742207084349278,
          0.6318754473153221,
          0.6909830056250523,
          0.7513101128351447,
          0.8126186854142753,
          0.8746667664356953,
          0.9372094804706868,
          0.9999999999999998,
          1.0627905195293128,
          1.1253332335643043,
          1.1873813145857242,
          1.2486898871648549,
          1.3090169943749472,
          1.3681245526846781,
          1.4257792915650724,
          1.4817536741017157,
          1.5358267949789965,
          1.5877852522924736,
          1.6374239897486897,
          1.6845471059286892,
          1.7289686274214118,
          1.7705132427757893,
          1.809016994374948,
          1.8443279255020149,
          1.876306680043863,
          1.9048270524660194,
          1.9297764858882511,
          1.9510565162951536,
          1.968583161128631,
          1.9822872507286886,
          1.9921147013144778,
          1.9980267284282716,
          2,
          1.9980267284282716,
          1.992114701314478,
          1.9822872507286886,
          1.968583161128631,
          1.9510565162951536,
          1.9297764858882518,
          1.9048270524660191,
          1.8763066800438635,
          1.844327925502015,
          1.8090169943749477,
          1.7705132427757886,
          1.7289686274214109,
          1.6845471059286883,
          1.6374239897486897,
          1.5877852522924734,
          1.5358267949789972,
          1.481753674101716,
          1.425779291565074,
          1.368124552684678,
          1.309016994374948,
          1.2486898871648555,
          1.1873813145857257,
          1.1253332335643038,
          1.0627905195293135,
          1.0000000000000004,
          0.9372094804706873,
          0.8746667664356969,
          0.8126186854142751,
          0.7513101128351453,
          0.690983005625053,
          0.6318754473153227,
          0.5742207084349267,
          0.5182463258982845,
          0.46417320502100345,
          0.4122147477075272,
          0.3625760102513095,
          0.31545289407131083,
          0.2710313725785882,
          0.22948675722421075,
          0.19098300562505277,
          0.15567207449798437,
          0.12369331995613697,
          0.09517294753398109,
          0.07022351411174865,
          0.04894348370484658,
          0.031416838871369035,
          0.0177127492713115,
          0.007885298685522124,
          0.001973271571728441,
          0,
          0.001973271571728441,
          0.007885298685522013,
          0.01771274927131139,
          0.03141683887136881,
          0.04894348370484625,
          0.07022351411174832,
          0.09517294753398076,
          0.12369331995613653,
          0.15567207449798492,
          0.19098300562505233,
          0.2294867572242114,
          0.2710313725785889,
          0.3154528940713115,
          0.36257601025131025,
          0.41221474770752653,
          0.46417320502100423,
          0.5182463258982837,
          0.574220708434926,
          0.6318754473153219,
          0.6909830056250521,
          0.7513101128351444,
          0.8126186854142742,
          0.874666766435696,
          0.9372094804706865
         ]
        }
       ],
       "layout": {
        "template": {
         "data": {
          "bar": [
           {
            "error_x": {
             "color": "#2a3f5f"
            },
            "error_y": {
             "color": "#2a3f5f"
            },
            "marker": {
             "line": {
              "color": "#E5ECF6",
              "width": 0.5
             }
            },
            "type": "bar"
           }
          ],
          "barpolar": [
           {
            "marker": {
             "line": {
              "color": "#E5ECF6",
              "width": 0.5
             }
            },
            "type": "barpolar"
           }
          ],
          "carpet": [
           {
            "aaxis": {
             "endlinecolor": "#2a3f5f",
             "gridcolor": "white",
             "linecolor": "white",
             "minorgridcolor": "white",
             "startlinecolor": "#2a3f5f"
            },
            "baxis": {
             "endlinecolor": "#2a3f5f",
             "gridcolor": "white",
             "linecolor": "white",
             "minorgridcolor": "white",
             "startlinecolor": "#2a3f5f"
            },
            "type": "carpet"
           }
          ],
          "choropleth": [
           {
            "colorbar": {
             "outlinewidth": 0,
             "ticks": ""
            },
            "type": "choropleth"
           }
          ],
          "contour": [
           {
            "colorbar": {
             "outlinewidth": 0,
             "ticks": ""
            },
            "colorscale": [
             [
              0,
              "#0d0887"
             ],
             [
              0.1111111111111111,
              "#46039f"
             ],
             [
              0.2222222222222222,
              "#7201a8"
             ],
             [
              0.3333333333333333,
              "#9c179e"
             ],
             [
              0.4444444444444444,
              "#bd3786"
             ],
             [
              0.5555555555555556,
              "#d8576b"
             ],
             [
              0.6666666666666666,
              "#ed7953"
             ],
             [
              0.7777777777777778,
              "#fb9f3a"
             ],
             [
              0.8888888888888888,
              "#fdca26"
             ],
             [
              1,
              "#f0f921"
             ]
            ],
            "type": "contour"
           }
          ],
          "contourcarpet": [
           {
            "colorbar": {
             "outlinewidth": 0,
             "ticks": ""
            },
            "type": "contourcarpet"
           }
          ],
          "heatmap": [
           {
            "colorbar": {
             "outlinewidth": 0,
             "ticks": ""
            },
            "colorscale": [
             [
              0,
              "#0d0887"
             ],
             [
              0.1111111111111111,
              "#46039f"
             ],
             [
              0.2222222222222222,
              "#7201a8"
             ],
             [
              0.3333333333333333,
              "#9c179e"
             ],
             [
              0.4444444444444444,
              "#bd3786"
             ],
             [
              0.5555555555555556,
              "#d8576b"
             ],
             [
              0.6666666666666666,
              "#ed7953"
             ],
             [
              0.7777777777777778,
              "#fb9f3a"
             ],
             [
              0.8888888888888888,
              "#fdca26"
             ],
             [
              1,
              "#f0f921"
             ]
            ],
            "type": "heatmap"
           }
          ],
          "heatmapgl": [
           {
            "colorbar": {
             "outlinewidth": 0,
             "ticks": ""
            },
            "colorscale": [
             [
              0,
              "#0d0887"
             ],
             [
              0.1111111111111111,
              "#46039f"
             ],
             [
              0.2222222222222222,
              "#7201a8"
             ],
             [
              0.3333333333333333,
              "#9c179e"
             ],
             [
              0.4444444444444444,
              "#bd3786"
             ],
             [
              0.5555555555555556,
              "#d8576b"
             ],
             [
              0.6666666666666666,
              "#ed7953"
             ],
             [
              0.7777777777777778,
              "#fb9f3a"
             ],
             [
              0.8888888888888888,
              "#fdca26"
             ],
             [
              1,
              "#f0f921"
             ]
            ],
            "type": "heatmapgl"
           }
          ],
          "histogram": [
           {
            "marker": {
             "colorbar": {
              "outlinewidth": 0,
              "ticks": ""
             }
            },
            "type": "histogram"
           }
          ],
          "histogram2d": [
           {
            "colorbar": {
             "outlinewidth": 0,
             "ticks": ""
            },
            "colorscale": [
             [
              0,
              "#0d0887"
             ],
             [
              0.1111111111111111,
              "#46039f"
             ],
             [
              0.2222222222222222,
              "#7201a8"
             ],
             [
              0.3333333333333333,
              "#9c179e"
             ],
             [
              0.4444444444444444,
              "#bd3786"
             ],
             [
              0.5555555555555556,
              "#d8576b"
             ],
             [
              0.6666666666666666,
              "#ed7953"
             ],
             [
              0.7777777777777778,
              "#fb9f3a"
             ],
             [
              0.8888888888888888,
              "#fdca26"
             ],
             [
              1,
              "#f0f921"
             ]
            ],
            "type": "histogram2d"
           }
          ],
          "histogram2dcontour": [
           {
            "colorbar": {
             "outlinewidth": 0,
             "ticks": ""
            },
            "colorscale": [
             [
              0,
              "#0d0887"
             ],
             [
              0.1111111111111111,
              "#46039f"
             ],
             [
              0.2222222222222222,
              "#7201a8"
             ],
             [
              0.3333333333333333,
              "#9c179e"
             ],
             [
              0.4444444444444444,
              "#bd3786"
             ],
             [
              0.5555555555555556,
              "#d8576b"
             ],
             [
              0.6666666666666666,
              "#ed7953"
             ],
             [
              0.7777777777777778,
              "#fb9f3a"
             ],
             [
              0.8888888888888888,
              "#fdca26"
             ],
             [
              1,
              "#f0f921"
             ]
            ],
            "type": "histogram2dcontour"
           }
          ],
          "mesh3d": [
           {
            "colorbar": {
             "outlinewidth": 0,
             "ticks": ""
            },
            "type": "mesh3d"
           }
          ],
          "parcoords": [
           {
            "line": {
             "colorbar": {
              "outlinewidth": 0,
              "ticks": ""
             }
            },
            "type": "parcoords"
           }
          ],
          "pie": [
           {
            "automargin": true,
            "type": "pie"
           }
          ],
          "scatter": [
           {
            "marker": {
             "colorbar": {
              "outlinewidth": 0,
              "ticks": ""
             }
            },
            "type": "scatter"
           }
          ],
          "scatter3d": [
           {
            "line": {
             "colorbar": {
              "outlinewidth": 0,
              "ticks": ""
             }
            },
            "marker": {
             "colorbar": {
              "outlinewidth": 0,
              "ticks": ""
             }
            },
            "type": "scatter3d"
           }
          ],
          "scattercarpet": [
           {
            "marker": {
             "colorbar": {
              "outlinewidth": 0,
              "ticks": ""
             }
            },
            "type": "scattercarpet"
           }
          ],
          "scattergeo": [
           {
            "marker": {
             "colorbar": {
              "outlinewidth": 0,
              "ticks": ""
             }
            },
            "type": "scattergeo"
           }
          ],
          "scattergl": [
           {
            "marker": {
             "colorbar": {
              "outlinewidth": 0,
              "ticks": ""
             }
            },
            "type": "scattergl"
           }
          ],
          "scattermapbox": [
           {
            "marker": {
             "colorbar": {
              "outlinewidth": 0,
              "ticks": ""
             }
            },
            "type": "scattermapbox"
           }
          ],
          "scatterpolar": [
           {
            "marker": {
             "colorbar": {
              "outlinewidth": 0,
              "ticks": ""
             }
            },
            "type": "scatterpolar"
           }
          ],
          "scatterpolargl": [
           {
            "marker": {
             "colorbar": {
              "outlinewidth": 0,
              "ticks": ""
             }
            },
            "type": "scatterpolargl"
           }
          ],
          "scatterternary": [
           {
            "marker": {
             "colorbar": {
              "outlinewidth": 0,
              "ticks": ""
             }
            },
            "type": "scatterternary"
           }
          ],
          "surface": [
           {
            "colorbar": {
             "outlinewidth": 0,
             "ticks": ""
            },
            "colorscale": [
             [
              0,
              "#0d0887"
             ],
             [
              0.1111111111111111,
              "#46039f"
             ],
             [
              0.2222222222222222,
              "#7201a8"
             ],
             [
              0.3333333333333333,
              "#9c179e"
             ],
             [
              0.4444444444444444,
              "#bd3786"
             ],
             [
              0.5555555555555556,
              "#d8576b"
             ],
             [
              0.6666666666666666,
              "#ed7953"
             ],
             [
              0.7777777777777778,
              "#fb9f3a"
             ],
             [
              0.8888888888888888,
              "#fdca26"
             ],
             [
              1,
              "#f0f921"
             ]
            ],
            "type": "surface"
           }
          ],
          "table": [
           {
            "cells": {
             "fill": {
              "color": "#EBF0F8"
             },
             "line": {
              "color": "white"
             }
            },
            "header": {
             "fill": {
              "color": "#C8D4E3"
             },
             "line": {
              "color": "white"
             }
            },
            "type": "table"
           }
          ]
         },
         "layout": {
          "annotationdefaults": {
           "arrowcolor": "#2a3f5f",
           "arrowhead": 0,
           "arrowwidth": 1
          },
          "coloraxis": {
           "colorbar": {
            "outlinewidth": 0,
            "ticks": ""
           }
          },
          "colorscale": {
           "diverging": [
            [
             0,
             "#8e0152"
            ],
            [
             0.1,
             "#c51b7d"
            ],
            [
             0.2,
             "#de77ae"
            ],
            [
             0.3,
             "#f1b6da"
            ],
            [
             0.4,
             "#fde0ef"
            ],
            [
             0.5,
             "#f7f7f7"
            ],
            [
             0.6,
             "#e6f5d0"
            ],
            [
             0.7,
             "#b8e186"
            ],
            [
             0.8,
             "#7fbc41"
            ],
            [
             0.9,
             "#4d9221"
            ],
            [
             1,
             "#276419"
            ]
           ],
           "sequential": [
            [
             0,
             "#0d0887"
            ],
            [
             0.1111111111111111,
             "#46039f"
            ],
            [
             0.2222222222222222,
             "#7201a8"
            ],
            [
             0.3333333333333333,
             "#9c179e"
            ],
            [
             0.4444444444444444,
             "#bd3786"
            ],
            [
             0.5555555555555556,
             "#d8576b"
            ],
            [
             0.6666666666666666,
             "#ed7953"
            ],
            [
             0.7777777777777778,
             "#fb9f3a"
            ],
            [
             0.8888888888888888,
             "#fdca26"
            ],
            [
             1,
             "#f0f921"
            ]
           ],
           "sequentialminus": [
            [
             0,
             "#0d0887"
            ],
            [
             0.1111111111111111,
             "#46039f"
            ],
            [
             0.2222222222222222,
             "#7201a8"
            ],
            [
             0.3333333333333333,
             "#9c179e"
            ],
            [
             0.4444444444444444,
             "#bd3786"
            ],
            [
             0.5555555555555556,
             "#d8576b"
            ],
            [
             0.6666666666666666,
             "#ed7953"
            ],
            [
             0.7777777777777778,
             "#fb9f3a"
            ],
            [
             0.8888888888888888,
             "#fdca26"
            ],
            [
             1,
             "#f0f921"
            ]
           ]
          },
          "colorway": [
           "#636efa",
           "#EF553B",
           "#00cc96",
           "#ab63fa",
           "#FFA15A",
           "#19d3f3",
           "#FF6692",
           "#B6E880",
           "#FF97FF",
           "#FECB52"
          ],
          "font": {
           "color": "#2a3f5f"
          },
          "geo": {
           "bgcolor": "white",
           "lakecolor": "white",
           "landcolor": "#E5ECF6",
           "showlakes": true,
           "showland": true,
           "subunitcolor": "white"
          },
          "hoverlabel": {
           "align": "left"
          },
          "hovermode": "closest",
          "mapbox": {
           "style": "light"
          },
          "paper_bgcolor": "white",
          "plot_bgcolor": "#E5ECF6",
          "polar": {
           "angularaxis": {
            "gridcolor": "white",
            "linecolor": "white",
            "ticks": ""
           },
           "bgcolor": "#E5ECF6",
           "radialaxis": {
            "gridcolor": "white",
            "linecolor": "white",
            "ticks": ""
           }
          },
          "scene": {
           "xaxis": {
            "backgroundcolor": "#E5ECF6",
            "gridcolor": "white",
            "gridwidth": 2,
            "linecolor": "white",
            "showbackground": true,
            "ticks": "",
            "zerolinecolor": "white"
           },
           "yaxis": {
            "backgroundcolor": "#E5ECF6",
            "gridcolor": "white",
            "gridwidth": 2,
            "linecolor": "white",
            "showbackground": true,
            "ticks": "",
            "zerolinecolor": "white"
           },
           "zaxis": {
            "backgroundcolor": "#E5ECF6",
            "gridcolor": "white",
            "gridwidth": 2,
            "linecolor": "white",
            "showbackground": true,
            "ticks": "",
            "zerolinecolor": "white"
           }
          },
          "shapedefaults": {
           "line": {
            "color": "#2a3f5f"
           }
          },
          "ternary": {
           "aaxis": {
            "gridcolor": "white",
            "linecolor": "white",
            "ticks": ""
           },
           "baxis": {
            "gridcolor": "white",
            "linecolor": "white",
            "ticks": ""
           },
           "bgcolor": "#E5ECF6",
           "caxis": {
            "gridcolor": "white",
            "linecolor": "white",
            "ticks": ""
           }
          },
          "title": {
           "x": 0.05
          },
          "xaxis": {
           "automargin": true,
           "gridcolor": "white",
           "linecolor": "white",
           "ticks": "",
           "title": {
            "standoff": 15
           },
           "zerolinecolor": "white",
           "zerolinewidth": 2
          },
          "yaxis": {
           "automargin": true,
           "gridcolor": "white",
           "linecolor": "white",
           "ticks": "",
           "title": {
            "standoff": 15
           },
           "zerolinecolor": "white",
           "zerolinewidth": 2
          }
         }
        }
       }
      }
     },
     "metadata": {}
    }
   ],
   "source": [
    "t = np.arange(0.0, 2.0, 0.01)\n",
    "s = 1 + np.sin(2 * np.pi * t)\n",
    "\n",
    "fig = go.Figure(data=go.Scatter(x=t, y=s))\n",
    "fig.show()"
   ]
  },
  {
   "cell_type": "code",
   "execution_count": 28,
   "metadata": {},
   "outputs": [],
   "source": [
    "x = np.random.rand(50) * np.random.randint(-10, 10)\n",
    "y = np.random.rand(50) * np.random.randint(-10, 10)\n",
    "matrix_2D = np.random.rand(10, 10) * np.random.randint(-10, 10)"
   ]
  },
  {
   "cell_type": "code",
   "execution_count": 29,
   "metadata": {},
   "outputs": [
    {
     "output_type": "display_data",
     "data": {
      "text/plain": "<Figure size 432x288 with 1 Axes>",
      "image/svg+xml": "<?xml version=\"1.0\" encoding=\"utf-8\" standalone=\"no\"?>\n<!DOCTYPE svg PUBLIC \"-//W3C//DTD SVG 1.1//EN\"\n  \"http://www.w3.org/Graphics/SVG/1.1/DTD/svg11.dtd\">\n<!-- Created with matplotlib (https://matplotlib.org/) -->\n<svg height=\"248.518125pt\" version=\"1.1\" viewBox=\"0 0 370.942187 248.518125\" width=\"370.942187pt\" xmlns=\"http://www.w3.org/2000/svg\" xmlns:xlink=\"http://www.w3.org/1999/xlink\">\n <defs>\n  <style type=\"text/css\">\n*{stroke-linecap:butt;stroke-linejoin:round;}\n  </style>\n </defs>\n <g id=\"figure_1\">\n  <g id=\"patch_1\">\n   <path d=\"M 0 248.518125 \nL 370.942187 248.518125 \nL 370.942187 0 \nL 0 0 \nz\n\" style=\"fill:none;\"/>\n  </g>\n  <g id=\"axes_1\">\n   <g id=\"patch_2\">\n    <path d=\"M 28.942188 224.64 \nL 363.742188 224.64 \nL 363.742188 7.2 \nL 28.942188 7.2 \nz\n\" style=\"fill:#ffffff;\"/>\n   </g>\n   <g id=\"matplotlib.axis_1\">\n    <g id=\"xtick_1\">\n     <g id=\"line2d_1\">\n      <defs>\n       <path d=\"M 0 0 \nL 0 3.5 \n\" id=\"m19ad1fb1f6\" style=\"stroke:#000000;stroke-width:0.8;\"/>\n      </defs>\n      <g>\n       <use style=\"stroke:#000000;stroke-width:0.8;\" x=\"39.814085\" xlink:href=\"#m19ad1fb1f6\" y=\"224.64\"/>\n      </g>\n     </g>\n     <g id=\"text_1\">\n      <!-- −7 -->\n      <defs>\n       <path d=\"M 10.59375 35.5 \nL 73.1875 35.5 \nL 73.1875 27.203125 \nL 10.59375 27.203125 \nz\n\" id=\"DejaVuSans-8722\"/>\n       <path d=\"M 8.203125 72.90625 \nL 55.078125 72.90625 \nL 55.078125 68.703125 \nL 28.609375 0 \nL 18.3125 0 \nL 43.21875 64.59375 \nL 8.203125 64.59375 \nz\n\" id=\"DejaVuSans-55\"/>\n      </defs>\n      <g transform=\"translate(32.442991 239.238437)scale(0.1 -0.1)\">\n       <use xlink:href=\"#DejaVuSans-8722\"/>\n       <use x=\"83.789062\" xlink:href=\"#DejaVuSans-55\"/>\n      </g>\n     </g>\n    </g>\n    <g id=\"xtick_2\">\n     <g id=\"line2d_2\">\n      <g>\n       <use style=\"stroke:#000000;stroke-width:0.8;\" x=\"83.942402\" xlink:href=\"#m19ad1fb1f6\" y=\"224.64\"/>\n      </g>\n     </g>\n     <g id=\"text_2\">\n      <!-- −6 -->\n      <defs>\n       <path d=\"M 33.015625 40.375 \nQ 26.375 40.375 22.484375 35.828125 \nQ 18.609375 31.296875 18.609375 23.390625 \nQ 18.609375 15.53125 22.484375 10.953125 \nQ 26.375 6.390625 33.015625 6.390625 \nQ 39.65625 6.390625 43.53125 10.953125 \nQ 47.40625 15.53125 47.40625 23.390625 \nQ 47.40625 31.296875 43.53125 35.828125 \nQ 39.65625 40.375 33.015625 40.375 \nz\nM 52.59375 71.296875 \nL 52.59375 62.3125 \nQ 48.875 64.0625 45.09375 64.984375 \nQ 41.3125 65.921875 37.59375 65.921875 \nQ 27.828125 65.921875 22.671875 59.328125 \nQ 17.53125 52.734375 16.796875 39.40625 \nQ 19.671875 43.65625 24.015625 45.921875 \nQ 28.375 48.1875 33.59375 48.1875 \nQ 44.578125 48.1875 50.953125 41.515625 \nQ 57.328125 34.859375 57.328125 23.390625 \nQ 57.328125 12.15625 50.6875 5.359375 \nQ 44.046875 -1.421875 33.015625 -1.421875 \nQ 20.359375 -1.421875 13.671875 8.265625 \nQ 6.984375 17.96875 6.984375 36.375 \nQ 6.984375 53.65625 15.1875 63.9375 \nQ 23.390625 74.21875 37.203125 74.21875 \nQ 40.921875 74.21875 44.703125 73.484375 \nQ 48.484375 72.75 52.59375 71.296875 \nz\n\" id=\"DejaVuSans-54\"/>\n      </defs>\n      <g transform=\"translate(76.571309 239.238437)scale(0.1 -0.1)\">\n       <use xlink:href=\"#DejaVuSans-8722\"/>\n       <use x=\"83.789062\" xlink:href=\"#DejaVuSans-54\"/>\n      </g>\n     </g>\n    </g>\n    <g id=\"xtick_3\">\n     <g id=\"line2d_3\">\n      <g>\n       <use style=\"stroke:#000000;stroke-width:0.8;\" x=\"128.07072\" xlink:href=\"#m19ad1fb1f6\" y=\"224.64\"/>\n      </g>\n     </g>\n     <g id=\"text_3\">\n      <!-- −5 -->\n      <defs>\n       <path d=\"M 10.796875 72.90625 \nL 49.515625 72.90625 \nL 49.515625 64.59375 \nL 19.828125 64.59375 \nL 19.828125 46.734375 \nQ 21.96875 47.46875 24.109375 47.828125 \nQ 26.265625 48.1875 28.421875 48.1875 \nQ 40.625 48.1875 47.75 41.5 \nQ 54.890625 34.8125 54.890625 23.390625 \nQ 54.890625 11.625 47.5625 5.09375 \nQ 40.234375 -1.421875 26.90625 -1.421875 \nQ 22.3125 -1.421875 17.546875 -0.640625 \nQ 12.796875 0.140625 7.71875 1.703125 \nL 7.71875 11.625 \nQ 12.109375 9.234375 16.796875 8.0625 \nQ 21.484375 6.890625 26.703125 6.890625 \nQ 35.15625 6.890625 40.078125 11.328125 \nQ 45.015625 15.765625 45.015625 23.390625 \nQ 45.015625 31 40.078125 35.4375 \nQ 35.15625 39.890625 26.703125 39.890625 \nQ 22.75 39.890625 18.8125 39.015625 \nQ 14.890625 38.140625 10.796875 36.28125 \nz\n\" id=\"DejaVuSans-53\"/>\n      </defs>\n      <g transform=\"translate(120.699626 239.238437)scale(0.1 -0.1)\">\n       <use xlink:href=\"#DejaVuSans-8722\"/>\n       <use x=\"83.789062\" xlink:href=\"#DejaVuSans-53\"/>\n      </g>\n     </g>\n    </g>\n    <g id=\"xtick_4\">\n     <g id=\"line2d_4\">\n      <g>\n       <use style=\"stroke:#000000;stroke-width:0.8;\" x=\"172.199037\" xlink:href=\"#m19ad1fb1f6\" y=\"224.64\"/>\n      </g>\n     </g>\n     <g id=\"text_4\">\n      <!-- −4 -->\n      <defs>\n       <path d=\"M 37.796875 64.3125 \nL 12.890625 25.390625 \nL 37.796875 25.390625 \nz\nM 35.203125 72.90625 \nL 47.609375 72.90625 \nL 47.609375 25.390625 \nL 58.015625 25.390625 \nL 58.015625 17.1875 \nL 47.609375 17.1875 \nL 47.609375 0 \nL 37.796875 0 \nL 37.796875 17.1875 \nL 4.890625 17.1875 \nL 4.890625 26.703125 \nz\n\" id=\"DejaVuSans-52\"/>\n      </defs>\n      <g transform=\"translate(164.827943 239.238437)scale(0.1 -0.1)\">\n       <use xlink:href=\"#DejaVuSans-8722\"/>\n       <use x=\"83.789062\" xlink:href=\"#DejaVuSans-52\"/>\n      </g>\n     </g>\n    </g>\n    <g id=\"xtick_5\">\n     <g id=\"line2d_5\">\n      <g>\n       <use style=\"stroke:#000000;stroke-width:0.8;\" x=\"216.327354\" xlink:href=\"#m19ad1fb1f6\" y=\"224.64\"/>\n      </g>\n     </g>\n     <g id=\"text_5\">\n      <!-- −3 -->\n      <defs>\n       <path d=\"M 40.578125 39.3125 \nQ 47.65625 37.796875 51.625 33 \nQ 55.609375 28.21875 55.609375 21.1875 \nQ 55.609375 10.40625 48.1875 4.484375 \nQ 40.765625 -1.421875 27.09375 -1.421875 \nQ 22.515625 -1.421875 17.65625 -0.515625 \nQ 12.796875 0.390625 7.625 2.203125 \nL 7.625 11.71875 \nQ 11.71875 9.328125 16.59375 8.109375 \nQ 21.484375 6.890625 26.8125 6.890625 \nQ 36.078125 6.890625 40.9375 10.546875 \nQ 45.796875 14.203125 45.796875 21.1875 \nQ 45.796875 27.640625 41.28125 31.265625 \nQ 36.765625 34.90625 28.71875 34.90625 \nL 20.21875 34.90625 \nL 20.21875 43.015625 \nL 29.109375 43.015625 \nQ 36.375 43.015625 40.234375 45.921875 \nQ 44.09375 48.828125 44.09375 54.296875 \nQ 44.09375 59.90625 40.109375 62.90625 \nQ 36.140625 65.921875 28.71875 65.921875 \nQ 24.65625 65.921875 20.015625 65.03125 \nQ 15.375 64.15625 9.8125 62.3125 \nL 9.8125 71.09375 \nQ 15.4375 72.65625 20.34375 73.4375 \nQ 25.25 74.21875 29.59375 74.21875 \nQ 40.828125 74.21875 47.359375 69.109375 \nQ 53.90625 64.015625 53.90625 55.328125 \nQ 53.90625 49.265625 50.4375 45.09375 \nQ 46.96875 40.921875 40.578125 39.3125 \nz\n\" id=\"DejaVuSans-51\"/>\n      </defs>\n      <g transform=\"translate(208.95626 239.238437)scale(0.1 -0.1)\">\n       <use xlink:href=\"#DejaVuSans-8722\"/>\n       <use x=\"83.789062\" xlink:href=\"#DejaVuSans-51\"/>\n      </g>\n     </g>\n    </g>\n    <g id=\"xtick_6\">\n     <g id=\"line2d_6\">\n      <g>\n       <use style=\"stroke:#000000;stroke-width:0.8;\" x=\"260.455671\" xlink:href=\"#m19ad1fb1f6\" y=\"224.64\"/>\n      </g>\n     </g>\n     <g id=\"text_6\">\n      <!-- −2 -->\n      <defs>\n       <path d=\"M 19.1875 8.296875 \nL 53.609375 8.296875 \nL 53.609375 0 \nL 7.328125 0 \nL 7.328125 8.296875 \nQ 12.9375 14.109375 22.625 23.890625 \nQ 32.328125 33.6875 34.8125 36.53125 \nQ 39.546875 41.84375 41.421875 45.53125 \nQ 43.3125 49.21875 43.3125 52.78125 \nQ 43.3125 58.59375 39.234375 62.25 \nQ 35.15625 65.921875 28.609375 65.921875 \nQ 23.96875 65.921875 18.8125 64.3125 \nQ 13.671875 62.703125 7.8125 59.421875 \nL 7.8125 69.390625 \nQ 13.765625 71.78125 18.9375 73 \nQ 24.125 74.21875 28.421875 74.21875 \nQ 39.75 74.21875 46.484375 68.546875 \nQ 53.21875 62.890625 53.21875 53.421875 \nQ 53.21875 48.921875 51.53125 44.890625 \nQ 49.859375 40.875 45.40625 35.40625 \nQ 44.1875 33.984375 37.640625 27.21875 \nQ 31.109375 20.453125 19.1875 8.296875 \nz\n\" id=\"DejaVuSans-50\"/>\n      </defs>\n      <g transform=\"translate(253.084578 239.238437)scale(0.1 -0.1)\">\n       <use xlink:href=\"#DejaVuSans-8722\"/>\n       <use x=\"83.789062\" xlink:href=\"#DejaVuSans-50\"/>\n      </g>\n     </g>\n    </g>\n    <g id=\"xtick_7\">\n     <g id=\"line2d_7\">\n      <g>\n       <use style=\"stroke:#000000;stroke-width:0.8;\" x=\"304.583988\" xlink:href=\"#m19ad1fb1f6\" y=\"224.64\"/>\n      </g>\n     </g>\n     <g id=\"text_7\">\n      <!-- −1 -->\n      <defs>\n       <path d=\"M 12.40625 8.296875 \nL 28.515625 8.296875 \nL 28.515625 63.921875 \nL 10.984375 60.40625 \nL 10.984375 69.390625 \nL 28.421875 72.90625 \nL 38.28125 72.90625 \nL 38.28125 8.296875 \nL 54.390625 8.296875 \nL 54.390625 0 \nL 12.40625 0 \nz\n\" id=\"DejaVuSans-49\"/>\n      </defs>\n      <g transform=\"translate(297.212895 239.238437)scale(0.1 -0.1)\">\n       <use xlink:href=\"#DejaVuSans-8722\"/>\n       <use x=\"83.789062\" xlink:href=\"#DejaVuSans-49\"/>\n      </g>\n     </g>\n    </g>\n    <g id=\"xtick_8\">\n     <g id=\"line2d_8\">\n      <g>\n       <use style=\"stroke:#000000;stroke-width:0.8;\" x=\"348.712306\" xlink:href=\"#m19ad1fb1f6\" y=\"224.64\"/>\n      </g>\n     </g>\n     <g id=\"text_8\">\n      <!-- 0 -->\n      <defs>\n       <path d=\"M 31.78125 66.40625 \nQ 24.171875 66.40625 20.328125 58.90625 \nQ 16.5 51.421875 16.5 36.375 \nQ 16.5 21.390625 20.328125 13.890625 \nQ 24.171875 6.390625 31.78125 6.390625 \nQ 39.453125 6.390625 43.28125 13.890625 \nQ 47.125 21.390625 47.125 36.375 \nQ 47.125 51.421875 43.28125 58.90625 \nQ 39.453125 66.40625 31.78125 66.40625 \nz\nM 31.78125 74.21875 \nQ 44.046875 74.21875 50.515625 64.515625 \nQ 56.984375 54.828125 56.984375 36.375 \nQ 56.984375 17.96875 50.515625 8.265625 \nQ 44.046875 -1.421875 31.78125 -1.421875 \nQ 19.53125 -1.421875 13.0625 8.265625 \nQ 6.59375 17.96875 6.59375 36.375 \nQ 6.59375 54.828125 13.0625 64.515625 \nQ 19.53125 74.21875 31.78125 74.21875 \nz\n\" id=\"DejaVuSans-48\"/>\n      </defs>\n      <g transform=\"translate(345.531056 239.238437)scale(0.1 -0.1)\">\n       <use xlink:href=\"#DejaVuSans-48\"/>\n      </g>\n     </g>\n    </g>\n   </g>\n   <g id=\"matplotlib.axis_2\">\n    <g id=\"ytick_1\">\n     <g id=\"line2d_9\">\n      <defs>\n       <path d=\"M 0 0 \nL -3.5 0 \n\" id=\"meb43c78554\" style=\"stroke:#000000;stroke-width:0.8;\"/>\n      </defs>\n      <g>\n       <use style=\"stroke:#000000;stroke-width:0.8;\" x=\"28.942188\" xlink:href=\"#meb43c78554\" y=\"196.071473\"/>\n      </g>\n     </g>\n     <g id=\"text_9\">\n      <!-- −8 -->\n      <defs>\n       <path d=\"M 31.78125 34.625 \nQ 24.75 34.625 20.71875 30.859375 \nQ 16.703125 27.09375 16.703125 20.515625 \nQ 16.703125 13.921875 20.71875 10.15625 \nQ 24.75 6.390625 31.78125 6.390625 \nQ 38.8125 6.390625 42.859375 10.171875 \nQ 46.921875 13.96875 46.921875 20.515625 \nQ 46.921875 27.09375 42.890625 30.859375 \nQ 38.875 34.625 31.78125 34.625 \nz\nM 21.921875 38.8125 \nQ 15.578125 40.375 12.03125 44.71875 \nQ 8.5 49.078125 8.5 55.328125 \nQ 8.5 64.0625 14.71875 69.140625 \nQ 20.953125 74.21875 31.78125 74.21875 \nQ 42.671875 74.21875 48.875 69.140625 \nQ 55.078125 64.0625 55.078125 55.328125 \nQ 55.078125 49.078125 51.53125 44.71875 \nQ 48 40.375 41.703125 38.8125 \nQ 48.828125 37.15625 52.796875 32.3125 \nQ 56.78125 27.484375 56.78125 20.515625 \nQ 56.78125 9.90625 50.3125 4.234375 \nQ 43.84375 -1.421875 31.78125 -1.421875 \nQ 19.734375 -1.421875 13.25 4.234375 \nQ 6.78125 9.90625 6.78125 20.515625 \nQ 6.78125 27.484375 10.78125 32.3125 \nQ 14.796875 37.15625 21.921875 38.8125 \nz\nM 18.3125 54.390625 \nQ 18.3125 48.734375 21.84375 45.5625 \nQ 25.390625 42.390625 31.78125 42.390625 \nQ 38.140625 42.390625 41.71875 45.5625 \nQ 45.3125 48.734375 45.3125 54.390625 \nQ 45.3125 60.0625 41.71875 63.234375 \nQ 38.140625 66.40625 31.78125 66.40625 \nQ 25.390625 66.40625 21.84375 63.234375 \nQ 18.3125 60.0625 18.3125 54.390625 \nz\n\" id=\"DejaVuSans-56\"/>\n      </defs>\n      <g transform=\"translate(7.2 199.870692)scale(0.1 -0.1)\">\n       <use xlink:href=\"#DejaVuSans-8722\"/>\n       <use x=\"83.789062\" xlink:href=\"#DejaVuSans-56\"/>\n      </g>\n     </g>\n    </g>\n    <g id=\"ytick_2\">\n     <g id=\"line2d_10\">\n      <g>\n       <use style=\"stroke:#000000;stroke-width:0.8;\" x=\"28.942188\" xlink:href=\"#meb43c78554\" y=\"151.291794\"/>\n      </g>\n     </g>\n     <g id=\"text_10\">\n      <!-- −6 -->\n      <g transform=\"translate(7.2 155.091013)scale(0.1 -0.1)\">\n       <use xlink:href=\"#DejaVuSans-8722\"/>\n       <use x=\"83.789062\" xlink:href=\"#DejaVuSans-54\"/>\n      </g>\n     </g>\n    </g>\n    <g id=\"ytick_3\">\n     <g id=\"line2d_11\">\n      <g>\n       <use style=\"stroke:#000000;stroke-width:0.8;\" x=\"28.942188\" xlink:href=\"#meb43c78554\" y=\"106.512115\"/>\n      </g>\n     </g>\n     <g id=\"text_11\">\n      <!-- −4 -->\n      <g transform=\"translate(7.2 110.311334)scale(0.1 -0.1)\">\n       <use xlink:href=\"#DejaVuSans-8722\"/>\n       <use x=\"83.789062\" xlink:href=\"#DejaVuSans-52\"/>\n      </g>\n     </g>\n    </g>\n    <g id=\"ytick_4\">\n     <g id=\"line2d_12\">\n      <g>\n       <use style=\"stroke:#000000;stroke-width:0.8;\" x=\"28.942188\" xlink:href=\"#meb43c78554\" y=\"61.732436\"/>\n      </g>\n     </g>\n     <g id=\"text_12\">\n      <!-- −2 -->\n      <g transform=\"translate(7.2 65.531655)scale(0.1 -0.1)\">\n       <use xlink:href=\"#DejaVuSans-8722\"/>\n       <use x=\"83.789062\" xlink:href=\"#DejaVuSans-50\"/>\n      </g>\n     </g>\n    </g>\n    <g id=\"ytick_5\">\n     <g id=\"line2d_13\">\n      <g>\n       <use style=\"stroke:#000000;stroke-width:0.8;\" x=\"28.942188\" xlink:href=\"#meb43c78554\" y=\"16.952757\"/>\n      </g>\n     </g>\n     <g id=\"text_13\">\n      <!-- 0 -->\n      <g transform=\"translate(15.579688 20.751975)scale(0.1 -0.1)\">\n       <use xlink:href=\"#DejaVuSans-48\"/>\n      </g>\n     </g>\n    </g>\n   </g>\n   <g id=\"line2d_14\">\n    <path clip-path=\"url(#p9165d2e170)\" d=\"M 294.415995 214.186252 \nL 271.802398 202.973978 \nL 171.826394 203.378731 \nL 129.457967 76.345655 \nL 222.219291 37.458964 \nL 146.976283 193.449143 \nL 156.608845 192.454206 \nL 163.984946 102.166757 \nL 282.032989 125.573341 \nL 221.253911 132.565933 \nL 105.76748 135.357692 \nL 294.82581 203.386184 \nL 146.468033 49.023443 \nL 334.236818 17.083636 \nL 294.457454 78.481168 \nL 337.646355 212.265592 \nL 261.29351 214.756364 \nL 49.559023 42.678629 \nL 109.727556 170.092259 \nL 348.524006 214.441719 \nL 296.870554 116.012077 \nL 196.183788 80.43698 \nL 325.254424 119.118722 \nL 77.53576 154.791585 \nL 75.769253 133.745104 \nL 212.15181 205.391749 \nL 287.314639 91.780318 \nL 332.876773 90.78284 \nL 248.396154 175.353109 \nL 96.037997 120.745503 \nL 248.714235 96.026552 \nL 173.085929 50.610786 \nL 288.663576 185.235621 \nL 330.961755 70.851505 \nL 213.997951 211.71537 \nL 112.100596 190.522903 \nL 269.898258 141.338447 \nL 181.791152 26.262491 \nL 236.202457 124.149556 \nL 44.160369 93.983474 \nL 46.652703 79.160645 \nL 167.706772 30.590435 \nL 56.23908 193.873863 \nL 336.251659 58.851142 \nL 232.080395 161.860678 \nL 333.634936 104.542562 \nL 178.69339 74.453623 \nL 185.756128 149.305268 \nL 77.211238 156.773192 \nL 82.279313 188.454517 \n\" style=\"fill:none;stroke:#1f77b4;stroke-linecap:square;stroke-width:1.5;\"/>\n   </g>\n   <g id=\"patch_3\">\n    <path d=\"M 28.942188 224.64 \nL 28.942188 7.2 \n\" style=\"fill:none;stroke:#000000;stroke-linecap:square;stroke-linejoin:miter;stroke-width:0.8;\"/>\n   </g>\n   <g id=\"patch_4\">\n    <path d=\"M 363.742188 224.64 \nL 363.742188 7.2 \n\" style=\"fill:none;stroke:#000000;stroke-linecap:square;stroke-linejoin:miter;stroke-width:0.8;\"/>\n   </g>\n   <g id=\"patch_5\">\n    <path d=\"M 28.942187 224.64 \nL 363.742187 224.64 \n\" style=\"fill:none;stroke:#000000;stroke-linecap:square;stroke-linejoin:miter;stroke-width:0.8;\"/>\n   </g>\n   <g id=\"patch_6\">\n    <path d=\"M 28.942187 7.2 \nL 363.742187 7.2 \n\" style=\"fill:none;stroke:#000000;stroke-linecap:square;stroke-linejoin:miter;stroke-width:0.8;\"/>\n   </g>\n  </g>\n </g>\n <defs>\n  <clipPath id=\"p9165d2e170\">\n   <rect height=\"217.44\" width=\"334.8\" x=\"28.942188\" y=\"7.2\"/>\n  </clipPath>\n </defs>\n</svg>\n",
      "image/png": "[encoded data removed]"
     },
     "metadata": {
      "needs_background": "light"
     }
    }
   ],
   "source": [
    "fig, ax = plt.subplots()\n",
    "ax.plot(x, y)\n",
    "plt.show()"
   ]
  },
  {
   "cell_type": "code",
   "execution_count": 30,
   "metadata": {},
   "outputs": [
    {
     "output_type": "display_data",
     "data": {
      "text/plain": "<Figure size 432x288 with 1 Axes>",
      "image/svg+xml": "<?xml version=\"1.0\" encoding=\"utf-8\" standalone=\"no\"?>\n<!DOCTYPE svg PUBLIC \"-//W3C//DTD SVG 1.1//EN\"\n  \"http://www.w3.org/Graphics/SVG/1.1/DTD/svg11.dtd\">\n<!-- Created with matplotlib (https://matplotlib.org/) -->\n<svg height=\"248.518125pt\" version=\"1.1\" viewBox=\"0 0 368.925 248.518125\" width=\"368.925pt\" xmlns=\"http://www.w3.org/2000/svg\" xmlns:xlink=\"http://www.w3.org/1999/xlink\">\n <defs>\n  <style type=\"text/css\">\n*{stroke-linecap:butt;stroke-linejoin:round;}\n  </style>\n </defs>\n <g id=\"figure_1\">\n  <g id=\"patch_1\">\n   <path d=\"M -0 248.518125 \nL 368.925 248.518125 \nL 368.925 0 \nL -0 0 \nz\n\" style=\"fill:none;\"/>\n  </g>\n  <g id=\"axes_1\">\n   <g id=\"patch_2\">\n    <path d=\"M 26.925 224.64 \nL 361.725 224.64 \nL 361.725 7.2 \nL 26.925 7.2 \nz\n\" style=\"fill:#ffffff;\"/>\n   </g>\n   <g id=\"patch_3\">\n    <path clip-path=\"url(#p033fadc431)\" d=\"M 266.388904 224.64 \nL 298.022434 224.64 \nL 298.022434 224.64 \nL 266.388904 224.64 \nz\n\" style=\"fill:#1f77b4;\"/>\n   </g>\n   <g id=\"patch_4\">\n    <path clip-path=\"url(#p033fadc431)\" d=\"M 246.125613 224.64 \nL 277.759144 224.64 \nL 277.759144 220.413761 \nL 246.125613 220.413761 \nz\n\" style=\"fill:#1f77b4;\"/>\n   </g>\n   <g id=\"patch_5\">\n    <path clip-path=\"url(#p033fadc431)\" d=\"M 156.540449 224.64 \nL 188.17398 224.64 \nL 188.17398 216.187522 \nL 156.540449 216.187522 \nz\n\" style=\"fill:#1f77b4;\"/>\n   </g>\n   <g id=\"patch_6\">\n    <path clip-path=\"url(#p033fadc431)\" d=\"M 118.575514 224.64 \nL 150.209045 224.64 \nL 150.209045 211.961283 \nL 118.575514 211.961283 \nz\n\" style=\"fill:#1f77b4;\"/>\n   </g>\n   <g id=\"patch_7\">\n    <path clip-path=\"url(#p033fadc431)\" d=\"M 201.695844 224.64 \nL 233.329375 224.64 \nL 233.329375 207.735044 \nL 201.695844 207.735044 \nz\n\" style=\"fill:#1f77b4;\"/>\n   </g>\n   <g id=\"patch_8\">\n    <path clip-path=\"url(#p033fadc431)\" d=\"M 134.273094 224.64 \nL 165.906625 224.64 \nL 165.906625 203.508805 \nL 134.273094 203.508805 \nz\n\" style=\"fill:#1f77b4;\"/>\n   </g>\n   <g id=\"patch_9\">\n    <path clip-path=\"url(#p033fadc431)\" d=\"M 142.904511 224.64 \nL 174.538042 224.64 \nL 174.538042 199.282566 \nL 142.904511 199.282566 \nz\n\" style=\"fill:#1f77b4;\"/>\n   </g>\n   <g id=\"patch_10\">\n    <path clip-path=\"url(#p033fadc431)\" d=\"M 149.51399 224.64 \nL 181.147521 224.64 \nL 181.147521 195.056327 \nL 149.51399 195.056327 \nz\n\" style=\"fill:#1f77b4;\"/>\n   </g>\n   <g id=\"patch_11\">\n    <path clip-path=\"url(#p033fadc431)\" d=\"M 255.292905 224.64 \nL 286.926435 224.64 \nL 286.926435 190.830087 \nL 255.292905 190.830087 \nz\n\" style=\"fill:#1f77b4;\"/>\n   </g>\n   <g id=\"patch_12\">\n    <path clip-path=\"url(#p033fadc431)\" d=\"M 200.830799 224.64 \nL 232.46433 224.64 \nL 232.46433 186.603848 \nL 200.830799 186.603848 \nz\n\" style=\"fill:#1f77b4;\"/>\n   </g>\n   <g id=\"patch_13\">\n    <path clip-path=\"url(#p033fadc431)\" d=\"M 97.347259 224.64 \nL 128.98079 224.64 \nL 128.98079 182.377609 \nL 97.347259 182.377609 \nz\n\" style=\"fill:#1f77b4;\"/>\n   </g>\n   <g id=\"patch_14\">\n    <path clip-path=\"url(#p033fadc431)\" d=\"M 266.756125 224.64 \nL 298.389656 224.64 \nL 298.389656 178.15137 \nL 266.756125 178.15137 \nz\n\" style=\"fill:#1f77b4;\"/>\n   </g>\n   <g id=\"patch_15\">\n    <path clip-path=\"url(#p033fadc431)\" d=\"M 133.817667 224.64 \nL 165.451198 224.64 \nL 165.451198 173.925131 \nL 133.817667 173.925131 \nz\n\" style=\"fill:#1f77b4;\"/>\n   </g>\n   <g id=\"patch_16\">\n    <path clip-path=\"url(#p033fadc431)\" d=\"M 302.071015 224.64 \nL 333.704546 224.64 \nL 333.704546 169.698892 \nL 302.071015 169.698892 \nz\n\" style=\"fill:#1f77b4;\"/>\n   </g>\n   <g id=\"patch_17\">\n    <path clip-path=\"url(#p033fadc431)\" d=\"M 266.426054 224.64 \nL 298.059584 224.64 \nL 298.059584 165.472653 \nL 266.426054 165.472653 \nz\n\" style=\"fill:#1f77b4;\"/>\n   </g>\n   <g id=\"patch_18\">\n    <path clip-path=\"url(#p033fadc431)\" d=\"M 305.126187 224.64 \nL 336.759718 224.64 \nL 336.759718 161.246414 \nL 305.126187 161.246414 \nz\n\" style=\"fill:#1f77b4;\"/>\n   </g>\n   <g id=\"patch_19\">\n    <path clip-path=\"url(#p033fadc431)\" d=\"M 236.708949 224.64 \nL 268.34248 224.64 \nL 268.34248 157.020175 \nL 236.708949 157.020175 \nz\n\" style=\"fill:#1f77b4;\"/>\n   </g>\n   <g id=\"patch_20\">\n    <path clip-path=\"url(#p033fadc431)\" d=\"M 46.980736 224.64 \nL 78.614266 224.64 \nL 78.614266 152.793936 \nL 46.980736 152.793936 \nz\n\" style=\"fill:#1f77b4;\"/>\n   </g>\n   <g id=\"patch_21\">\n    <path clip-path=\"url(#p033fadc431)\" d=\"M 100.895752 224.64 \nL 132.529283 224.64 \nL 132.529283 148.567697 \nL 100.895752 148.567697 \nz\n\" style=\"fill:#1f77b4;\"/>\n   </g>\n   <g id=\"patch_22\">\n    <path clip-path=\"url(#p033fadc431)\" d=\"M 314.873287 224.64 \nL 346.506818 224.64 \nL 346.506818 144.341458 \nL 314.873287 144.341458 \nz\n\" style=\"fill:#1f77b4;\"/>\n   </g>\n   <g id=\"patch_23\">\n    <path clip-path=\"url(#p033fadc431)\" d=\"M 268.588352 224.64 \nL 300.221882 224.64 \nL 300.221882 140.115219 \nL 268.588352 140.115219 \nz\n\" style=\"fill:#1f77b4;\"/>\n   </g>\n   <g id=\"patch_24\">\n    <path clip-path=\"url(#p033fadc431)\" d=\"M 178.366298 224.64 \nL 209.999829 224.64 \nL 209.999829 135.88898 \nL 178.366298 135.88898 \nz\n\" style=\"fill:#1f77b4;\"/>\n   </g>\n   <g id=\"patch_25\">\n    <path clip-path=\"url(#p033fadc431)\" d=\"M 294.022191 224.64 \nL 325.655722 224.64 \nL 325.655722 131.662741 \nL 294.022191 131.662741 \nz\n\" style=\"fill:#1f77b4;\"/>\n   </g>\n   <g id=\"patch_26\">\n    <path clip-path=\"url(#p033fadc431)\" d=\"M 72.049757 224.64 \nL 103.683287 224.64 \nL 103.683287 127.436501 \nL 72.049757 127.436501 \nz\n\" style=\"fill:#1f77b4;\"/>\n   </g>\n   <g id=\"patch_27\">\n    <path clip-path=\"url(#p033fadc431)\" d=\"M 70.466848 224.64 \nL 102.100379 224.64 \nL 102.100379 123.210262 \nL 70.466848 123.210262 \nz\n\" style=\"fill:#1f77b4;\"/>\n   </g>\n   <g id=\"patch_28\">\n    <path clip-path=\"url(#p033fadc431)\" d=\"M 192.67471 224.64 \nL 224.308241 224.64 \nL 224.308241 118.984023 \nL 192.67471 118.984023 \nz\n\" style=\"fill:#1f77b4;\"/>\n   </g>\n   <g id=\"patch_29\">\n    <path clip-path=\"url(#p033fadc431)\" d=\"M 260.025615 224.64 \nL 291.659146 224.64 \nL 291.659146 114.757784 \nL 260.025615 114.757784 \nz\n\" style=\"fill:#1f77b4;\"/>\n   </g>\n   <g id=\"patch_30\">\n    <path clip-path=\"url(#p033fadc431)\" d=\"M 300.852324 224.64 \nL 332.485854 224.64 \nL 332.485854 110.531545 \nL 300.852324 110.531545 \nz\n\" style=\"fill:#1f77b4;\"/>\n   </g>\n   <g id=\"patch_31\">\n    <path clip-path=\"url(#p033fadc431)\" d=\"M 225.152058 224.64 \nL 256.785589 224.64 \nL 256.785589 106.305306 \nL 225.152058 106.305306 \nz\n\" style=\"fill:#1f77b4;\"/>\n   </g>\n   <g id=\"patch_32\">\n    <path clip-path=\"url(#p033fadc431)\" d=\"M 88.628994 224.64 \nL 120.262525 224.64 \nL 120.262525 102.079067 \nL 88.628994 102.079067 \nz\n\" style=\"fill:#1f77b4;\"/>\n   </g>\n   <g id=\"patch_33\">\n    <path clip-path=\"url(#p033fadc431)\" d=\"M 225.43708 224.64 \nL 257.070611 224.64 \nL 257.070611 97.852828 \nL 225.43708 97.852828 \nz\n\" style=\"fill:#1f77b4;\"/>\n   </g>\n   <g id=\"patch_34\">\n    <path clip-path=\"url(#p033fadc431)\" d=\"M 157.669076 224.64 \nL 189.302607 224.64 \nL 189.302607 93.626589 \nL 157.669076 93.626589 \nz\n\" style=\"fill:#1f77b4;\"/>\n   </g>\n   <g id=\"patch_35\">\n    <path clip-path=\"url(#p033fadc431)\" d=\"M 261.234352 224.64 \nL 292.867883 224.64 \nL 292.867883 89.40035 \nL 261.234352 89.40035 \nz\n\" style=\"fill:#1f77b4;\"/>\n   </g>\n   <g id=\"patch_36\">\n    <path clip-path=\"url(#p033fadc431)\" d=\"M 299.13634 224.64 \nL 330.769871 224.64 \nL 330.769871 85.174111 \nL 299.13634 85.174111 \nz\n\" style=\"fill:#1f77b4;\"/>\n   </g>\n   <g id=\"patch_37\">\n    <path clip-path=\"url(#p033fadc431)\" d=\"M 194.328975 224.64 \nL 225.962506 224.64 \nL 225.962506 80.947872 \nL 194.328975 80.947872 \nz\n\" style=\"fill:#1f77b4;\"/>\n   </g>\n   <g id=\"patch_38\">\n    <path clip-path=\"url(#p033fadc431)\" d=\"M 103.022153 224.64 \nL 134.655684 224.64 \nL 134.655684 76.721633 \nL 103.022153 76.721633 \nz\n\" style=\"fill:#1f77b4;\"/>\n   </g>\n   <g id=\"patch_39\">\n    <path clip-path=\"url(#p033fadc431)\" d=\"M 244.419377 224.64 \nL 276.052907 224.64 \nL 276.052907 72.495394 \nL 244.419377 72.495394 \nz\n\" style=\"fill:#1f77b4;\"/>\n   </g>\n   <g id=\"patch_40\">\n    <path clip-path=\"url(#p033fadc431)\" d=\"M 165.469537 224.64 \nL 197.103068 224.64 \nL 197.103068 68.269155 \nL 165.469537 68.269155 \nz\n\" style=\"fill:#1f77b4;\"/>\n   </g>\n   <g id=\"patch_41\">\n    <path clip-path=\"url(#p033fadc431)\" d=\"M 214.225693 224.64 \nL 245.859224 224.64 \nL 245.859224 64.042915 \nL 214.225693 64.042915 \nz\n\" style=\"fill:#1f77b4;\"/>\n   </g>\n   <g id=\"patch_42\">\n    <path clip-path=\"url(#p033fadc431)\" d=\"M 42.143182 224.64 \nL 73.776713 224.64 \nL 73.776713 59.816676 \nL 42.143182 59.816676 \nz\n\" style=\"fill:#1f77b4;\"/>\n   </g>\n   <g id=\"patch_43\">\n    <path clip-path=\"url(#p033fadc431)\" d=\"M 44.376479 224.64 \nL 76.01001 224.64 \nL 76.01001 55.590437 \nL 44.376479 55.590437 \nz\n\" style=\"fill:#1f77b4;\"/>\n   </g>\n   <g id=\"patch_44\">\n    <path clip-path=\"url(#p033fadc431)\" d=\"M 152.848994 224.64 \nL 184.482525 224.64 \nL 184.482525 51.364198 \nL 152.848994 51.364198 \nz\n\" style=\"fill:#1f77b4;\"/>\n   </g>\n   <g id=\"patch_45\">\n    <path clip-path=\"url(#p033fadc431)\" d=\"M 52.966512 224.64 \nL 84.600043 224.64 \nL 84.600043 47.137959 \nL 52.966512 47.137959 \nz\n\" style=\"fill:#1f77b4;\"/>\n   </g>\n   <g id=\"patch_46\">\n    <path clip-path=\"url(#p033fadc431)\" d=\"M 303.876447 224.64 \nL 335.509978 224.64 \nL 335.509978 42.91172 \nL 303.876447 42.91172 \nz\n\" style=\"fill:#1f77b4;\"/>\n   </g>\n   <g id=\"patch_47\">\n    <path clip-path=\"url(#p033fadc431)\" d=\"M 210.532051 224.64 \nL 242.165582 224.64 \nL 242.165582 38.685481 \nL 210.532051 38.685481 \nz\n\" style=\"fill:#1f77b4;\"/>\n   </g>\n   <g id=\"patch_48\">\n    <path clip-path=\"url(#p033fadc431)\" d=\"M 301.531688 224.64 \nL 333.165219 224.64 \nL 333.165219 34.459242 \nL 301.531688 34.459242 \nz\n\" style=\"fill:#1f77b4;\"/>\n   </g>\n   <g id=\"patch_49\">\n    <path clip-path=\"url(#p033fadc431)\" d=\"M 162.693736 224.64 \nL 194.327267 224.64 \nL 194.327267 30.233003 \nL 162.693736 30.233003 \nz\n\" style=\"fill:#1f77b4;\"/>\n   </g>\n   <g id=\"patch_50\">\n    <path clip-path=\"url(#p033fadc431)\" d=\"M 169.02242 224.64 \nL 200.655951 224.64 \nL 200.655951 26.006764 \nL 169.02242 26.006764 \nz\n\" style=\"fill:#1f77b4;\"/>\n   </g>\n   <g id=\"patch_51\">\n    <path clip-path=\"url(#p033fadc431)\" d=\"M 71.758963 224.64 \nL 103.392494 224.64 \nL 103.392494 21.780525 \nL 71.758963 21.780525 \nz\n\" style=\"fill:#1f77b4;\"/>\n   </g>\n   <g id=\"patch_52\">\n    <path clip-path=\"url(#p033fadc431)\" d=\"M 76.300296 224.64 \nL 107.933827 224.64 \nL 107.933827 17.554286 \nL 76.300296 17.554286 \nz\n\" style=\"fill:#1f77b4;\"/>\n   </g>\n   <g id=\"matplotlib.axis_1\">\n    <g id=\"xtick_1\">\n     <g id=\"line2d_1\">\n      <defs>\n       <path d=\"M 0 0 \nL 0 3.5 \n\" id=\"m0e4d66f106\" style=\"stroke:#000000;stroke-width:0.8;\"/>\n      </defs>\n      <g>\n       <use style=\"stroke:#000000;stroke-width:0.8;\" x=\"54.065387\" xlink:href=\"#m0e4d66f106\" y=\"224.64\"/>\n      </g>\n     </g>\n     <g id=\"text_1\">\n      <!-- −7 -->\n      <defs>\n       <path d=\"M 10.59375 35.5 \nL 73.1875 35.5 \nL 73.1875 27.203125 \nL 10.59375 27.203125 \nz\n\" id=\"DejaVuSans-8722\"/>\n       <path d=\"M 8.203125 72.90625 \nL 55.078125 72.90625 \nL 55.078125 68.703125 \nL 28.609375 0 \nL 18.3125 0 \nL 43.21875 64.59375 \nL 8.203125 64.59375 \nz\n\" id=\"DejaVuSans-55\"/>\n      </defs>\n      <g transform=\"translate(46.694293 239.238438)scale(0.1 -0.1)\">\n       <use xlink:href=\"#DejaVuSans-8722\"/>\n       <use x=\"83.789062\" xlink:href=\"#DejaVuSans-55\"/>\n      </g>\n     </g>\n    </g>\n    <g id=\"xtick_2\">\n     <g id=\"line2d_2\">\n      <g>\n       <use style=\"stroke:#000000;stroke-width:0.8;\" x=\"93.607301\" xlink:href=\"#m0e4d66f106\" y=\"224.64\"/>\n      </g>\n     </g>\n     <g id=\"text_2\">\n      <!-- −6 -->\n      <defs>\n       <path d=\"M 33.015625 40.375 \nQ 26.375 40.375 22.484375 35.828125 \nQ 18.609375 31.296875 18.609375 23.390625 \nQ 18.609375 15.53125 22.484375 10.953125 \nQ 26.375 6.390625 33.015625 6.390625 \nQ 39.65625 6.390625 43.53125 10.953125 \nQ 47.40625 15.53125 47.40625 23.390625 \nQ 47.40625 31.296875 43.53125 35.828125 \nQ 39.65625 40.375 33.015625 40.375 \nz\nM 52.59375 71.296875 \nL 52.59375 62.3125 \nQ 48.875 64.0625 45.09375 64.984375 \nQ 41.3125 65.921875 37.59375 65.921875 \nQ 27.828125 65.921875 22.671875 59.328125 \nQ 17.53125 52.734375 16.796875 39.40625 \nQ 19.671875 43.65625 24.015625 45.921875 \nQ 28.375 48.1875 33.59375 48.1875 \nQ 44.578125 48.1875 50.953125 41.515625 \nQ 57.328125 34.859375 57.328125 23.390625 \nQ 57.328125 12.15625 50.6875 5.359375 \nQ 44.046875 -1.421875 33.015625 -1.421875 \nQ 20.359375 -1.421875 13.671875 8.265625 \nQ 6.984375 17.96875 6.984375 36.375 \nQ 6.984375 53.65625 15.1875 63.9375 \nQ 23.390625 74.21875 37.203125 74.21875 \nQ 40.921875 74.21875 44.703125 73.484375 \nQ 48.484375 72.75 52.59375 71.296875 \nz\n\" id=\"DejaVuSans-54\"/>\n      </defs>\n      <g transform=\"translate(86.236207 239.238438)scale(0.1 -0.1)\">\n       <use xlink:href=\"#DejaVuSans-8722\"/>\n       <use x=\"83.789062\" xlink:href=\"#DejaVuSans-54\"/>\n      </g>\n     </g>\n    </g>\n    <g id=\"xtick_3\">\n     <g id=\"line2d_3\">\n      <g>\n       <use style=\"stroke:#000000;stroke-width:0.8;\" x=\"133.149214\" xlink:href=\"#m0e4d66f106\" y=\"224.64\"/>\n      </g>\n     </g>\n     <g id=\"text_3\">\n      <!-- −5 -->\n      <defs>\n       <path d=\"M 10.796875 72.90625 \nL 49.515625 72.90625 \nL 49.515625 64.59375 \nL 19.828125 64.59375 \nL 19.828125 46.734375 \nQ 21.96875 47.46875 24.109375 47.828125 \nQ 26.265625 48.1875 28.421875 48.1875 \nQ 40.625 48.1875 47.75 41.5 \nQ 54.890625 34.8125 54.890625 23.390625 \nQ 54.890625 11.625 47.5625 5.09375 \nQ 40.234375 -1.421875 26.90625 -1.421875 \nQ 22.3125 -1.421875 17.546875 -0.640625 \nQ 12.796875 0.140625 7.71875 1.703125 \nL 7.71875 11.625 \nQ 12.109375 9.234375 16.796875 8.0625 \nQ 21.484375 6.890625 26.703125 6.890625 \nQ 35.15625 6.890625 40.078125 11.328125 \nQ 45.015625 15.765625 45.015625 23.390625 \nQ 45.015625 31 40.078125 35.4375 \nQ 35.15625 39.890625 26.703125 39.890625 \nQ 22.75 39.890625 18.8125 39.015625 \nQ 14.890625 38.140625 10.796875 36.28125 \nz\n\" id=\"DejaVuSans-53\"/>\n      </defs>\n      <g transform=\"translate(125.77812 239.238438)scale(0.1 -0.1)\">\n       <use xlink:href=\"#DejaVuSans-8722\"/>\n       <use x=\"83.789062\" xlink:href=\"#DejaVuSans-53\"/>\n      </g>\n     </g>\n    </g>\n    <g id=\"xtick_4\">\n     <g id=\"line2d_4\">\n      <g>\n       <use style=\"stroke:#000000;stroke-width:0.8;\" x=\"172.691128\" xlink:href=\"#m0e4d66f106\" y=\"224.64\"/>\n      </g>\n     </g>\n     <g id=\"text_4\">\n      <!-- −4 -->\n      <defs>\n       <path d=\"M 37.796875 64.3125 \nL 12.890625 25.390625 \nL 37.796875 25.390625 \nz\nM 35.203125 72.90625 \nL 47.609375 72.90625 \nL 47.609375 25.390625 \nL 58.015625 25.390625 \nL 58.015625 17.1875 \nL 47.609375 17.1875 \nL 47.609375 0 \nL 37.796875 0 \nL 37.796875 17.1875 \nL 4.890625 17.1875 \nL 4.890625 26.703125 \nz\n\" id=\"DejaVuSans-52\"/>\n      </defs>\n      <g transform=\"translate(165.320034 239.238438)scale(0.1 -0.1)\">\n       <use xlink:href=\"#DejaVuSans-8722\"/>\n       <use x=\"83.789062\" xlink:href=\"#DejaVuSans-52\"/>\n      </g>\n     </g>\n    </g>\n    <g id=\"xtick_5\">\n     <g id=\"line2d_5\">\n      <g>\n       <use style=\"stroke:#000000;stroke-width:0.8;\" x=\"212.233041\" xlink:href=\"#m0e4d66f106\" y=\"224.64\"/>\n      </g>\n     </g>\n     <g id=\"text_5\">\n      <!-- −3 -->\n      <defs>\n       <path d=\"M 40.578125 39.3125 \nQ 47.65625 37.796875 51.625 33 \nQ 55.609375 28.21875 55.609375 21.1875 \nQ 55.609375 10.40625 48.1875 4.484375 \nQ 40.765625 -1.421875 27.09375 -1.421875 \nQ 22.515625 -1.421875 17.65625 -0.515625 \nQ 12.796875 0.390625 7.625 2.203125 \nL 7.625 11.71875 \nQ 11.71875 9.328125 16.59375 8.109375 \nQ 21.484375 6.890625 26.8125 6.890625 \nQ 36.078125 6.890625 40.9375 10.546875 \nQ 45.796875 14.203125 45.796875 21.1875 \nQ 45.796875 27.640625 41.28125 31.265625 \nQ 36.765625 34.90625 28.71875 34.90625 \nL 20.21875 34.90625 \nL 20.21875 43.015625 \nL 29.109375 43.015625 \nQ 36.375 43.015625 40.234375 45.921875 \nQ 44.09375 48.828125 44.09375 54.296875 \nQ 44.09375 59.90625 40.109375 62.90625 \nQ 36.140625 65.921875 28.71875 65.921875 \nQ 24.65625 65.921875 20.015625 65.03125 \nQ 15.375 64.15625 9.8125 62.3125 \nL 9.8125 71.09375 \nQ 15.4375 72.65625 20.34375 73.4375 \nQ 25.25 74.21875 29.59375 74.21875 \nQ 40.828125 74.21875 47.359375 69.109375 \nQ 53.90625 64.015625 53.90625 55.328125 \nQ 53.90625 49.265625 50.4375 45.09375 \nQ 46.96875 40.921875 40.578125 39.3125 \nz\n\" id=\"DejaVuSans-51\"/>\n      </defs>\n      <g transform=\"translate(204.861948 239.238438)scale(0.1 -0.1)\">\n       <use xlink:href=\"#DejaVuSans-8722\"/>\n       <use x=\"83.789062\" xlink:href=\"#DejaVuSans-51\"/>\n      </g>\n     </g>\n    </g>\n    <g id=\"xtick_6\">\n     <g id=\"line2d_6\">\n      <g>\n       <use style=\"stroke:#000000;stroke-width:0.8;\" x=\"251.774955\" xlink:href=\"#m0e4d66f106\" y=\"224.64\"/>\n      </g>\n     </g>\n     <g id=\"text_6\">\n      <!-- −2 -->\n      <defs>\n       <path d=\"M 19.1875 8.296875 \nL 53.609375 8.296875 \nL 53.609375 0 \nL 7.328125 0 \nL 7.328125 8.296875 \nQ 12.9375 14.109375 22.625 23.890625 \nQ 32.328125 33.6875 34.8125 36.53125 \nQ 39.546875 41.84375 41.421875 45.53125 \nQ 43.3125 49.21875 43.3125 52.78125 \nQ 43.3125 58.59375 39.234375 62.25 \nQ 35.15625 65.921875 28.609375 65.921875 \nQ 23.96875 65.921875 18.8125 64.3125 \nQ 13.671875 62.703125 7.8125 59.421875 \nL 7.8125 69.390625 \nQ 13.765625 71.78125 18.9375 73 \nQ 24.125 74.21875 28.421875 74.21875 \nQ 39.75 74.21875 46.484375 68.546875 \nQ 53.21875 62.890625 53.21875 53.421875 \nQ 53.21875 48.921875 51.53125 44.890625 \nQ 49.859375 40.875 45.40625 35.40625 \nQ 44.1875 33.984375 37.640625 27.21875 \nQ 31.109375 20.453125 19.1875 8.296875 \nz\n\" id=\"DejaVuSans-50\"/>\n      </defs>\n      <g transform=\"translate(244.403861 239.238438)scale(0.1 -0.1)\">\n       <use xlink:href=\"#DejaVuSans-8722\"/>\n       <use x=\"83.789062\" xlink:href=\"#DejaVuSans-50\"/>\n      </g>\n     </g>\n    </g>\n    <g id=\"xtick_7\">\n     <g id=\"line2d_7\">\n      <g>\n       <use style=\"stroke:#000000;stroke-width:0.8;\" x=\"291.316869\" xlink:href=\"#m0e4d66f106\" y=\"224.64\"/>\n      </g>\n     </g>\n     <g id=\"text_7\">\n      <!-- −1 -->\n      <defs>\n       <path d=\"M 12.40625 8.296875 \nL 28.515625 8.296875 \nL 28.515625 63.921875 \nL 10.984375 60.40625 \nL 10.984375 69.390625 \nL 28.421875 72.90625 \nL 38.28125 72.90625 \nL 38.28125 8.296875 \nL 54.390625 8.296875 \nL 54.390625 0 \nL 12.40625 0 \nz\n\" id=\"DejaVuSans-49\"/>\n      </defs>\n      <g transform=\"translate(283.945775 239.238438)scale(0.1 -0.1)\">\n       <use xlink:href=\"#DejaVuSans-8722\"/>\n       <use x=\"83.789062\" xlink:href=\"#DejaVuSans-49\"/>\n      </g>\n     </g>\n    </g>\n    <g id=\"xtick_8\">\n     <g id=\"line2d_8\">\n      <g>\n       <use style=\"stroke:#000000;stroke-width:0.8;\" x=\"330.858782\" xlink:href=\"#m0e4d66f106\" y=\"224.64\"/>\n      </g>\n     </g>\n     <g id=\"text_8\">\n      <!-- 0 -->\n      <defs>\n       <path d=\"M 31.78125 66.40625 \nQ 24.171875 66.40625 20.328125 58.90625 \nQ 16.5 51.421875 16.5 36.375 \nQ 16.5 21.390625 20.328125 13.890625 \nQ 24.171875 6.390625 31.78125 6.390625 \nQ 39.453125 6.390625 43.28125 13.890625 \nQ 47.125 21.390625 47.125 36.375 \nQ 47.125 51.421875 43.28125 58.90625 \nQ 39.453125 66.40625 31.78125 66.40625 \nz\nM 31.78125 74.21875 \nQ 44.046875 74.21875 50.515625 64.515625 \nQ 56.984375 54.828125 56.984375 36.375 \nQ 56.984375 17.96875 50.515625 8.265625 \nQ 44.046875 -1.421875 31.78125 -1.421875 \nQ 19.53125 -1.421875 13.0625 8.265625 \nQ 6.59375 17.96875 6.59375 36.375 \nQ 6.59375 54.828125 13.0625 64.515625 \nQ 19.53125 74.21875 31.78125 74.21875 \nz\n\" id=\"DejaVuSans-48\"/>\n      </defs>\n      <g transform=\"translate(327.677532 239.238438)scale(0.1 -0.1)\">\n       <use xlink:href=\"#DejaVuSans-48\"/>\n      </g>\n     </g>\n    </g>\n   </g>\n   <g id=\"matplotlib.axis_2\">\n    <g id=\"ytick_1\">\n     <g id=\"line2d_9\">\n      <defs>\n       <path d=\"M 0 0 \nL -3.5 0 \n\" id=\"m8c1ab530ad\" style=\"stroke:#000000;stroke-width:0.8;\"/>\n      </defs>\n      <g>\n       <use style=\"stroke:#000000;stroke-width:0.8;\" x=\"26.925\" xlink:href=\"#m8c1ab530ad\" y=\"224.64\"/>\n      </g>\n     </g>\n     <g id=\"text_9\">\n      <!-- 0 -->\n      <g transform=\"translate(13.5625 228.439219)scale(0.1 -0.1)\">\n       <use xlink:href=\"#DejaVuSans-48\"/>\n      </g>\n     </g>\n    </g>\n    <g id=\"ytick_2\">\n     <g id=\"line2d_10\">\n      <g>\n       <use style=\"stroke:#000000;stroke-width:0.8;\" x=\"26.925\" xlink:href=\"#m8c1ab530ad\" y=\"182.377609\"/>\n      </g>\n     </g>\n     <g id=\"text_10\">\n      <!-- 10 -->\n      <g transform=\"translate(7.2 186.176828)scale(0.1 -0.1)\">\n       <use xlink:href=\"#DejaVuSans-49\"/>\n       <use x=\"63.623047\" xlink:href=\"#DejaVuSans-48\"/>\n      </g>\n     </g>\n    </g>\n    <g id=\"ytick_3\">\n     <g id=\"line2d_11\">\n      <g>\n       <use style=\"stroke:#000000;stroke-width:0.8;\" x=\"26.925\" xlink:href=\"#m8c1ab530ad\" y=\"140.115219\"/>\n      </g>\n     </g>\n     <g id=\"text_11\">\n      <!-- 20 -->\n      <g transform=\"translate(7.2 143.914437)scale(0.1 -0.1)\">\n       <use xlink:href=\"#DejaVuSans-50\"/>\n       <use x=\"63.623047\" xlink:href=\"#DejaVuSans-48\"/>\n      </g>\n     </g>\n    </g>\n    <g id=\"ytick_4\">\n     <g id=\"line2d_12\">\n      <g>\n       <use style=\"stroke:#000000;stroke-width:0.8;\" x=\"26.925\" xlink:href=\"#m8c1ab530ad\" y=\"97.852828\"/>\n      </g>\n     </g>\n     <g id=\"text_12\">\n      <!-- 30 -->\n      <g transform=\"translate(7.2 101.652047)scale(0.1 -0.1)\">\n       <use xlink:href=\"#DejaVuSans-51\"/>\n       <use x=\"63.623047\" xlink:href=\"#DejaVuSans-48\"/>\n      </g>\n     </g>\n    </g>\n    <g id=\"ytick_5\">\n     <g id=\"line2d_13\">\n      <g>\n       <use style=\"stroke:#000000;stroke-width:0.8;\" x=\"26.925\" xlink:href=\"#m8c1ab530ad\" y=\"55.590437\"/>\n      </g>\n     </g>\n     <g id=\"text_13\">\n      <!-- 40 -->\n      <g transform=\"translate(7.2 59.389656)scale(0.1 -0.1)\">\n       <use xlink:href=\"#DejaVuSans-52\"/>\n       <use x=\"63.623047\" xlink:href=\"#DejaVuSans-48\"/>\n      </g>\n     </g>\n    </g>\n    <g id=\"ytick_6\">\n     <g id=\"line2d_14\">\n      <g>\n       <use style=\"stroke:#000000;stroke-width:0.8;\" x=\"26.925\" xlink:href=\"#m8c1ab530ad\" y=\"13.328047\"/>\n      </g>\n     </g>\n     <g id=\"text_14\">\n      <!-- 50 -->\n      <g transform=\"translate(7.2 17.127265)scale(0.1 -0.1)\">\n       <use xlink:href=\"#DejaVuSans-53\"/>\n       <use x=\"63.623047\" xlink:href=\"#DejaVuSans-48\"/>\n      </g>\n     </g>\n    </g>\n   </g>\n   <g id=\"patch_53\">\n    <path d=\"M 26.925 224.64 \nL 26.925 7.2 \n\" style=\"fill:none;stroke:#000000;stroke-linecap:square;stroke-linejoin:miter;stroke-width:0.8;\"/>\n   </g>\n   <g id=\"patch_54\">\n    <path d=\"M 361.725 224.64 \nL 361.725 7.2 \n\" style=\"fill:none;stroke:#000000;stroke-linecap:square;stroke-linejoin:miter;stroke-width:0.8;\"/>\n   </g>\n   <g id=\"patch_55\">\n    <path d=\"M 26.925 224.64 \nL 361.725 224.64 \n\" style=\"fill:none;stroke:#000000;stroke-linecap:square;stroke-linejoin:miter;stroke-width:0.8;\"/>\n   </g>\n   <g id=\"patch_56\">\n    <path d=\"M 26.925 7.2 \nL 361.725 7.2 \n\" style=\"fill:none;stroke:#000000;stroke-linecap:square;stroke-linejoin:miter;stroke-width:0.8;\"/>\n   </g>\n  </g>\n </g>\n <defs>\n  <clipPath id=\"p033fadc431\">\n   <rect height=\"217.44\" width=\"334.8\" x=\"26.925\" y=\"7.2\"/>\n  </clipPath>\n </defs>\n</svg>\n",
      "image/png": "[encoded data removed]"
     },
     "metadata": {
      "needs_background": "light"
     }
    }
   ],
   "source": [
    "# matplotlib_bar_chart\n",
    "y_arr = np.arange(start=0, stop=x.shape[0])\n",
    "fig, ax = plt.subplots()\n",
    "ax.bar(x, y_arr)\n",
    "plt.show()"
   ]
  },
  {
   "cell_type": "code",
   "execution_count": 31,
   "metadata": {},
   "outputs": [
    {
     "output_type": "display_data",
     "data": {
      "text/plain": "<Figure size 432x288 with 1 Axes>",
      "image/svg+xml": "<?xml version=\"1.0\" encoding=\"utf-8\" standalone=\"no\"?>\n<!DOCTYPE svg PUBLIC \"-//W3C//DTD SVG 1.1//EN\"\n  \"http://www.w3.org/Graphics/SVG/1.1/DTD/svg11.dtd\">\n<!-- Created with matplotlib (https://matplotlib.org/) -->\n<svg height=\"231.84pt\" version=\"1.1\" viewBox=\"0 0 231.84 231.84\" width=\"231.84pt\" xmlns=\"http://www.w3.org/2000/svg\" xmlns:xlink=\"http://www.w3.org/1999/xlink\">\n <defs>\n  <style type=\"text/css\">\n*{stroke-linecap:butt;stroke-linejoin:round;}\n  </style>\n </defs>\n <g id=\"figure_1\">\n  <g id=\"patch_1\">\n   <path d=\"M 0 231.84 \nL 231.84 231.84 \nL 231.84 0 \nL 0 0 \nz\n\" style=\"fill:none;\"/>\n  </g>\n  <g id=\"axes_1\">\n   <g id=\"patch_2\">\n    <path d=\"M 126.593881 202.238554 \nC 147.646625 199.635238 167.036534 189.417754 181.085927 173.52405 \nC 195.13532 157.630346 202.896 137.133092 202.896 115.92 \nL 115.92 115.92 \nL 126.593881 202.238554 \nz\n\" style=\"fill:#1f77b4;\"/>\n   </g>\n   <g id=\"patch_3\">\n    <path d=\"M 201.673905 101.390984 \nC 198.828377 84.595963 191.110588 69.001243 179.483337 56.552276 \nC 167.856087 44.103308 152.823855 35.340227 136.261925 31.356233 \nC 119.699994 27.372239 102.326951 28.340189 86.310094 34.13933 \nC 70.293237 39.938471 56.327502 50.317191 46.155126 63.980738 \nC 35.98275 77.644285 30.045089 93.999827 29.082871 111.006998 \nC 28.120653 128.01417 32.175626 144.935067 40.741929 159.658796 \nC 49.308233 174.382525 62.014194 186.270255 77.274734 193.838984 \nC 92.535275 201.407712 109.688273 204.329049 126.593881 202.238554 \nL 115.92 115.92 \nL 201.673905 101.390984 \nz\n\" style=\"fill:#ff7f0e;\"/>\n   </g>\n   <g id=\"patch_4\">\n    <path d=\"M 202.323739 105.959153 \nC 202.235655 105.195086 202.137441 104.432221 202.029121 103.670759 \nC 201.920801 102.909296 201.802385 102.149305 201.673905 101.390984 \nL 115.92 115.92 \nL 202.323739 105.959153 \nz\n\" style=\"fill:#2ca02c;\"/>\n   </g>\n   <g id=\"patch_5\">\n    <path d=\"M 198.689003 89.197036 \nC 195.290762 78.671669 189.915807 68.890471 182.852893 60.378912 \nC 175.789979 51.867353 167.167892 44.780633 157.449833 39.499469 \nC 147.731773 34.218304 137.094939 30.838992 126.110769 29.543077 \nC 115.126599 28.247162 103.995378 29.058275 93.315104 31.932839 \nC 82.634829 34.807403 72.600245 39.693005 63.750434 46.327177 \nC 54.900624 52.961349 47.396955 61.223124 41.642542 70.668659 \nC 35.88813 80.114194 31.987901 90.571258 30.151385 101.478072 \nC 28.314869 112.384886 28.575554 123.542575 30.919434 134.35172 \nC 33.263314 145.160865 37.647651 155.424372 43.836908 164.590859 \nC 50.026166 173.757346 57.907487 181.659671 67.05747 187.873302 \nC 76.207452 194.086933 86.459253 198.498571 97.262122 200.87121 \nC 108.06499 203.24385 119.221946 203.534229 130.133609 201.726747 \nC 141.045273 199.919266 151.51268 196.046881 160.973496 190.317628 \nC 170.434313 184.588375 178.716029 177.10672 185.373731 168.274597 \nC 192.031433 159.442475 196.943723 149.420929 199.846702 138.748342 \nC 202.749681 128.075756 203.590416 116.946733 202.323739 105.959153 \nL 115.92 115.92 \nL 198.689003 89.197036 \nz\n\" style=\"fill:#d62728;\"/>\n   </g>\n   <g id=\"patch_6\">\n    <path d=\"M 151.351991 36.488277 \nC 142.320995 32.459834 132.668763 30.000906 122.811106 29.217421 \nC 112.953449 28.433936 103.033982 29.337309 93.480028 31.888624 \nC 83.926073 34.439938 74.876822 38.602024 66.722109 44.195583 \nC 58.567395 49.789141 51.426024 56.73268 45.60564 64.727077 \nC 39.785257 72.721474 35.370657 81.650259 32.552018 91.128789 \nC 29.733379 100.607319 28.551766 110.4975 29.058081 120.373273 \nC 29.564397 130.249047 31.751264 139.966532 35.524475 149.107108 \nC 39.297686 158.247684 44.602269 166.678182 51.209707 174.035424 \nC 57.817145 181.392666 65.631175 187.569465 74.315174 192.299729 \nC 82.999174 197.029994 92.426627 200.244808 102.191407 201.805682 \nC 111.956187 203.366555 121.916031 203.250747 131.641878 201.463247 \nC 141.367724 199.675747 150.717878 196.242596 159.289543 191.311693 \nC 167.861208 186.380789 175.529503 180.02397 181.964086 172.515082 \nC 188.398669 165.006194 193.505793 156.454634 197.065449 147.228795 \nC 200.625105 138.002956 202.585432 128.23725 202.861981 118.352374 \nC 203.13853 108.467498 201.727272 98.607465 198.689003 89.197036 \nL 115.92 115.92 \nL 151.351991 36.488277 \nz\n\" style=\"fill:#9467bd;\"/>\n   </g>\n   <g id=\"patch_7\">\n    <path d=\"M 49.480177 172.049978 \nC 57.914495 182.033496 68.491594 189.988747 80.422963 195.322676 \nC 92.354331 200.656605 105.335924 203.233288 118.399977 202.860637 \nC 131.46403 202.487985 144.277634 199.175495 155.88555 193.17011 \nC 167.493465 187.164724 177.599888 178.619476 185.451397 168.171406 \nC 193.302905 157.723336 198.69942 145.63869 201.238637 132.818365 \nC 203.777854 119.998041 203.395067 106.768735 200.118811 94.11668 \nC 196.842556 81.464625 190.756321 69.71223 182.313828 59.735623 \nC 173.871336 49.759017 163.287724 41.812432 151.351991 36.488277 \nL 115.92 115.92 \nL 49.480177 172.049978 \nz\n\" style=\"fill:#8c564b;\"/>\n   </g>\n   <g id=\"patch_8\">\n    <path d=\"M 111.357948 29.063726 \nC 95.188606 29.913007 79.573179 35.260828 66.277914 44.5023 \nC 52.982648 53.743773 42.528455 66.516815 36.0978 81.37668 \nC 29.667145 96.236544 27.511981 112.601019 29.876077 128.619132 \nC 32.240174 144.637245 39.030905 159.681404 49.480177 172.049978 \nL 115.92 115.92 \nL 111.357948 29.063726 \nz\n\" style=\"fill:#e377c2;\"/>\n   </g>\n   <g id=\"patch_9\">\n    <path d=\"M 194.09625 77.797847 \nC 186.612708 62.451514 174.773443 49.64323 160.062 40.977966 \nC 145.350558 32.312703 128.408207 28.168176 111.357948 29.063726 \nL 115.92 115.92 \nL 194.09625 77.797847 \nz\n\" style=\"fill:#7f7f7f;\"/>\n   </g>\n   <g id=\"patch_10\">\n    <path d=\"M 35.291049 148.535898 \nC 39.669255 159.359153 46.182267 169.190862 54.4409 177.44353 \nC 62.699532 185.696199 72.535943 192.202106 83.362359 196.572493 \nC 94.188774 200.942879 105.785166 203.088924 117.458593 202.88239 \nC 129.132019 202.675857 140.645239 200.120942 151.31028 195.370316 \nC 161.97532 190.619689 171.575434 183.769899 179.536967 175.230253 \nC 187.498499 166.690607 193.659646 156.63466 197.652249 145.663303 \nC 201.644851 134.691946 203.387767 123.028153 202.776848 111.368894 \nC 202.165929 99.709635 199.21359 88.291863 194.09625 77.797847 \nL 115.92 115.92 \nL 35.291049 148.535898 \nz\n\" style=\"fill:#bcbd22;\"/>\n   </g>\n   <g id=\"patch_11\">\n    <path d=\"M 75.376012 192.868097 \nC 84.346611 197.59471 94.075042 200.716432 104.120959 202.091963 \nC 114.166876 203.467494 124.376385 203.075761 134.287364 200.934496 \nC 144.198343 198.793231 153.658967 194.935236 162.241011 189.535138 \nC 170.823054 184.13504 178.395049 177.275565 184.614259 169.267196 \nC 190.833469 161.258828 195.60462 152.224248 198.711753 142.572396 \nC 201.818886 132.920544 203.214402 122.799276 202.835135 112.66672 \nC 202.455868 102.534165 200.307628 92.545542 196.487653 83.152975 \nC 192.667677 73.760408 187.234484 65.107782 180.434001 57.586748 \nC 173.633517 50.065714 165.569921 43.791486 156.608199 39.048061 \nC 147.646478 34.304636 137.923918 31.164677 127.880598 29.770312 \nC 117.837278 28.375947 107.627053 28.748536 97.712076 30.871214 \nC 87.797099 32.993891 78.329258 36.83414 69.737104 42.218137 \nC 61.14495 47.602133 53.560106 54.447399 47.325891 62.444091 \nC 41.091676 70.440784 36.303593 79.466402 33.178367 89.112411 \nC 30.053142 98.758421 28.63865 108.877054 28.998917 119.010303 \nC 29.359184 129.143552 31.488691 139.136185 35.291049 148.535898 \nL 115.92 115.92 \nL 75.376012 192.868097 \nz\n\" style=\"fill:#17becf;\"/>\n   </g>\n   <g id=\"patch_12\">\n    <path d=\"M 159.059398 40.396382 \nC 149.033569 34.669587 137.967015 30.99611 126.506723 29.590712 \nC 115.04643 28.185315 103.420173 29.075931 92.307659 32.210491 \nC 81.195145 35.345051 70.817235 40.661256 61.780655 47.848303 \nC 52.744075 55.035351 45.228426 63.950399 39.673098 74.072245 \nC 34.117771 84.194092 30.633175 95.321564 29.423033 106.804116 \nC 28.212891 118.286668 29.301254 129.896082 32.624493 140.953638 \nC 35.947731 152.011193 41.439795 162.297119 48.779603 171.210068 \nC 56.11941 180.123018 65.161081 187.485845 75.376012 192.868097 \nL 115.92 115.92 \nL 159.059398 40.396382 \nz\n\" style=\"fill:#1f77b4;\"/>\n   </g>\n   <g id=\"patch_13\">\n    <path d=\"M 197.986598 144.727953 \nC 204.723943 125.534955 204.519356 104.573563 197.408677 85.515723 \nC 190.297998 66.457884 176.722183 50.485437 159.059398 40.396382 \nL 115.92 115.92 \nL 197.986598 144.727953 \nz\n\" style=\"fill:#ff7f0e;\"/>\n   </g>\n   <g id=\"patch_14\">\n    <path d=\"M 59.153505 50.023189 \nC 49.050352 58.726503 41.082789 69.637845 35.868627 81.911145 \nC 30.654464 94.184445 28.332047 107.494059 29.081457 120.807952 \nC 29.830867 134.121846 33.632221 147.086766 40.190758 158.697406 \nC 46.749295 170.308046 55.891001 180.256345 66.907024 187.770906 \nC 77.923046 195.285467 90.5211 200.16691 103.724326 202.036724 \nC 116.927551 203.906538 130.385633 202.715112 143.055022 198.55483 \nC 155.724412 194.394549 167.268957 187.375794 176.793489 178.042806 \nC 186.31802 168.709817 193.569826 157.310222 197.986598 144.727953 \nL 115.92 115.92 \nL 59.153505 50.023189 \nz\n\" style=\"fill:#2ca02c;\"/>\n   </g>\n   <g id=\"patch_15\">\n    <path d=\"M 200.784188 96.87022 \nC 197.494266 82.21406 190.463064 68.657088 180.378181 57.525073 \nC 170.293299 46.393059 157.494555 38.061105 143.233571 33.344014 \nC 128.972587 28.626924 113.7299 27.683643 98.996129 30.606419 \nC 84.262359 33.529194 70.533973 40.219539 59.153505 50.023189 \nL 115.92 115.92 \nL 200.784188 96.87022 \nz\n\" style=\"fill:#d62728;\"/>\n   </g>\n   <g id=\"patch_16\">\n    <path d=\"M 145.72335 197.630372 \nC 165.569221 190.391714 182.113805 176.165012 192.243739 157.62745 \nC 202.373673 139.089889 205.411012 117.482091 200.784188 96.87022 \nL 115.92 115.92 \nL 145.72335 197.630372 \nz\n\" style=\"fill:#9467bd;\"/>\n   </g>\n   <g id=\"patch_17\">\n    <path d=\"M 34.066846 145.32894 \nC 37.940725 156.11101 43.907097 166.02216 51.622432 174.491728 \nC 59.337767 182.961296 68.651089 189.823549 79.026159 194.683374 \nC 89.40123 199.543199 100.635027 202.305497 112.080734 202.811223 \nC 123.526442 203.316948 134.960088 201.556205 145.72335 197.630372 \nL 115.92 115.92 \nL 34.066846 145.32894 \nz\n\" style=\"fill:#8c564b;\"/>\n   </g>\n   <g id=\"patch_18\">\n    <path d=\"M 38.148636 154.861488 \nC 43.164693 164.879226 50.069404 173.83407 58.48233 181.232622 \nC 66.895256 188.631175 76.658992 194.33501 87.235571 198.029854 \nC 97.81215 201.724698 109.003686 203.341422 120.193542 202.790947 \nC 131.383398 202.240472 142.362213 199.533096 152.525072 194.817993 \nC 162.687931 190.10289 171.844688 183.468278 179.490819 175.279714 \nC 187.13695 167.09115 193.129397 157.501841 197.137986 147.040143 \nC 201.146575 136.578446 203.096305 125.440097 202.87975 114.238802 \nC 202.663195 103.037508 200.284406 91.982842 195.87445 81.683901 \nC 191.464494 71.38496 185.105882 62.034434 177.148963 54.147525 \nC 169.192044 46.260616 159.785691 39.984885 149.44818 35.666117 \nC 139.110669 31.347349 128.035412 29.066346 116.832641 28.948788 \nC 105.629871 28.831231 94.509187 30.879318 84.083323 34.980204 \nC 73.657459 39.08109 64.121482 45.158047 56.000809 52.876244 \nC 47.880136 60.594442 41.326704 69.809473 36.701598 80.013604 \nC 32.076491 90.217735 29.466244 101.220047 29.014679 112.414331 \nC 28.563113 123.608615 30.278677 134.785426 34.066846 145.32894 \nL 115.92 115.92 \nL 38.148636 154.861488 \nz\n\" style=\"fill:#e377c2;\"/>\n   </g>\n   <g id=\"patch_19\">\n    <path d=\"M 140.035936 199.48582 \nC 148.575644 197.021378 156.687346 193.262409 164.088051 188.340048 \nC 171.488757 183.417688 178.091391 177.389853 183.665608 170.466835 \nC 189.239825 163.543817 193.72004 155.807071 196.949953 147.526507 \nC 200.179866 139.245943 202.121474 130.518989 202.707041 121.650101 \nC 203.292608 112.781212 202.515244 103.874739 200.402069 95.241398 \nC 198.288894 86.608058 194.864771 78.349429 190.249157 70.753629 \nC 185.633542 63.157829 179.880743 56.314229 173.191456 50.461579 \nC 166.502169 44.608929 158.955098 39.816091 150.813538 36.250272 \nC 142.671977 32.684453 134.031719 30.387607 125.194193 29.439864 \nC 116.356668 28.492121 107.425856 28.904633 98.713325 30.663007 \nC 90.000794 32.421381 81.609054 35.504929 73.830866 39.806076 \nC 66.052678 44.107223 58.979559 49.575363 52.858267 56.019729 \nC 46.736975 62.464096 41.639532 69.808866 37.743772 77.797803 \nC 33.848011 85.786741 31.19977 94.32585 29.891437 103.117229 \nC 28.583104 111.908607 28.630073 120.848818 30.030704 129.625965 \nC 31.431336 138.403111 34.169151 146.913924 38.148636 154.861488 \nL 115.92 115.92 \nL 140.035936 199.48582 \nz\n\" style=\"fill:#7f7f7f;\"/>\n   </g>\n   <g id=\"patch_20\">\n    <path d=\"M 52.87864 55.998289 \nC 39.72207 69.839817 31.483341 87.636463 29.442232 106.623751 \nC 27.401123 125.611039 31.669092 144.75214 41.583165 161.073732 \nC 51.497238 177.395325 66.516043 190.006145 84.306604 196.947266 \nC 102.097166 203.888387 121.688003 204.780778 140.035936 199.48582 \nL 115.92 115.92 \nL 52.87864 55.998289 \nz\n\" style=\"fill:#bcbd22;\"/>\n   </g>\n   <g id=\"patch_21\">\n    <path d=\"M 54.507664 54.329825 \nC 54.232448 54.604247 53.959074 54.880511 53.68756 55.158597 \nC 53.416047 55.436684 53.146401 55.716587 52.87864 55.998289 \nL 115.92 115.92 \nL 54.507664 54.329825 \nz\n\" style=\"fill:#17becf;\"/>\n   </g>\n   <g id=\"patch_22\">\n    <path d=\"M 142.810438 33.205256 \nC 127.575406 28.25237 111.264111 27.603611 95.683839 31.330861 \nC 80.103567 35.058112 65.851812 43.018433 54.507664 54.329825 \nL 115.92 115.92 \nL 142.810438 33.205256 \nz\n\" style=\"fill:#1f77b4;\"/>\n   </g>\n   <g id=\"patch_23\">\n    <path d=\"M 112.367242 202.823409 \nC 133.357915 203.681543 153.964897 196.906142 170.35073 183.758928 \nC 186.736563 170.611715 197.816801 151.962798 201.528068 131.285002 \nC 205.239335 110.607206 201.336011 89.269027 190.54498 71.24409 \nC 179.753948 53.219152 162.78938 39.700379 142.810438 33.205256 \nL 115.92 115.92 \nL 112.367242 202.823409 \nz\n\" style=\"fill:#ff7f0e;\"/>\n   </g>\n   <g id=\"patch_24\">\n    <path d=\"M 136.535574 31.422528 \nC 124.733674 28.543118 112.45838 28.167977 100.502675 30.321339 \nC 88.546971 32.474702 77.173968 37.10918 67.118363 43.925384 \nC 57.062757 50.741588 48.545845 59.589514 42.11782 69.897584 \nC 35.689794 80.205655 31.492117 91.747019 29.795959 103.776105 \nC 28.099802 115.80519 28.942491 128.057269 32.269589 139.740858 \nC 35.596687 151.424448 41.334974 162.282423 49.113756 171.61336 \nC 56.892539 180.944297 66.540627 188.542847 77.434755 193.918144 \nC 88.328883 199.293441 100.229301 202.327189 112.367242 202.823409 \nL 115.92 115.92 \nL 136.535574 31.422528 \nz\n\" style=\"fill:#2ca02c;\"/>\n   </g>\n   <g id=\"patch_25\">\n    <path d=\"M 195.362104 80.511291 \nC 189.955541 68.381259 181.841909 57.649124 171.645321 49.140413 \nC 161.448732 40.631702 149.43751 34.570325 136.535574 31.422528 \nL 115.92 115.92 \nL 195.362104 80.511291 \nz\n\" style=\"fill:#d62728;\"/>\n   </g>\n   <g id=\"patch_26\">\n    <path d=\"M 179.887926 174.851562 \nC 191.397977 162.357848 198.99945 146.761592 201.749079 129.998128 \nC 204.498709 113.234664 202.277856 96.027301 195.362104 80.511291 \nL 115.92 115.92 \nL 179.887926 174.851562 \nz\n\" style=\"fill:#9467bd;\"/>\n   </g>\n   <g id=\"patch_27\">\n    <path d=\"M 135.902827 200.569343 \nC 144.306042 198.58563 152.367223 195.361637 159.820835 191.003562 \nC 167.274446 186.645487 174.037738 181.201715 179.887926 174.851562 \nL 115.92 115.92 \nL 135.902827 200.569343 \nz\n\" style=\"fill:#8c564b;\"/>\n   </g>\n   <g id=\"patch_28\">\n    <path d=\"M 47.011119 62.850322 \nC 36.051892 77.080445 29.765065 94.361873 29.019055 112.307472 \nC 28.273045 130.253071 33.10386 147.996667 42.844205 163.087284 \nC 52.58455 178.177902 66.764291 189.887168 83.424739 196.597646 \nC 100.085187 203.308125 118.422198 204.695924 135.902827 200.569343 \nL 115.92 115.92 \nL 47.011119 62.850322 \nz\n\" style=\"fill:#e377c2;\"/>\n   </g>\n   <g id=\"patch_29\">\n    <path d=\"M 200.593877 96.041392 \nC 196.834251 80.027086 188.607496 65.403218 176.873014 53.875221 \nC 165.138533 42.347224 150.370933 34.381356 134.292413 30.906595 \nC 118.213893 27.431835 101.474757 28.588721 86.027124 34.242338 \nC 70.57949 39.895954 57.048147 49.817638 47.011119 62.850322 \nL 115.92 115.92 \nL 200.593877 96.041392 \nz\n\" style=\"fill:#7f7f7f;\"/>\n   </g>\n   <g id=\"patch_30\">\n    <path d=\"M 123.243347 202.58714 \nC 135.692017 201.535231 147.769153 197.813418 158.650529 191.675703 \nC 169.531904 185.537987 178.964218 177.127247 186.303744 167.017487 \nC 193.64327 156.907727 198.719156 145.334288 201.184987 133.08702 \nC 203.650818 120.839752 203.449195 108.203754 200.593877 96.041392 \nL 115.92 115.92 \nL 123.243347 202.58714 \nz\n\" style=\"fill:#bcbd22;\"/>\n   </g>\n   <g id=\"patch_31\">\n    <path d=\"M 200.49068 95.606835 \nC 196.604417 79.426989 188.155354 64.697264 176.150956 53.174032 \nC 164.146558 41.650799 149.083709 33.811027 132.758501 30.589528 \nC 116.433294 27.368029 99.521458 28.898147 84.039559 34.997432 \nC 68.55766 41.096716 55.146523 51.512706 45.405289 65.0034 \nC 35.664055 78.494094 29.995933 94.501088 29.076789 111.115709 \nC 28.157644 127.73033 32.025522 144.264869 40.219218 158.747749 \nC 48.412913 173.230629 60.593274 185.062378 75.307915 192.832178 \nC 90.022556 200.601978 106.662412 203.988224 123.243347 202.58714 \nL 115.92 115.92 \nL 200.49068 95.606835 \nz\n\" style=\"fill:#17becf;\"/>\n   </g>\n   <g id=\"patch_32\">\n    <path d=\"M 127.602388 202.107855 \nC 139.653304 200.474406 151.228744 196.331504 161.579359 189.947343 \nC 171.929974 183.563182 180.827485 175.078564 187.695902 165.042749 \nC 194.564319 155.006934 199.252161 143.641258 201.455957 131.681492 \nC 203.659753 119.721725 203.330897 107.431635 200.49068 95.606835 \nL 115.92 115.92 \nL 127.602388 202.107855 \nz\n\" style=\"fill:#1f77b4;\"/>\n   </g>\n   <g id=\"patch_33\">\n    <path d=\"M 138.364202 199.950247 \nC 149.175809 197.062502 159.329184 192.115126 168.266148 185.380099 \nC 177.203111 178.645073 184.756835 170.24812 190.512054 160.650862 \nC 196.267273 151.053605 200.116554 140.435195 201.848282 129.379382 \nC 203.58001 118.323568 203.161859 107.03673 200.616817 96.13936 \nC 198.071776 85.241991 193.447351 74.937513 186.997772 65.792414 \nC 180.548193 56.647316 172.393854 48.832309 162.98304 42.777025 \nC 153.572226 36.72174 143.080608 32.539212 132.084965 30.459375 \nC 121.089321 28.379537 109.794908 28.441216 98.822636 30.641018 \nC 87.850363 32.840821 77.405052 37.137685 68.060932 43.295389 \nC 58.716812 49.453093 50.648311 57.356691 44.298995 66.571684 \nC 37.94968 75.786677 33.438072 86.141046 31.012199 97.065562 \nC 28.586325 107.990077 28.291469 119.280809 30.143841 130.31705 \nC 31.996212 141.353291 35.961233 151.929027 41.820925 161.462856 \nC 47.680618 170.996685 55.3256 179.310639 64.335587 185.947658 \nC 73.345574 192.584677 83.552378 197.420868 94.394878 200.190361 \nC 105.237378 202.959853 116.513177 203.610949 127.602388 202.107855 \nL 115.92 115.92 \nL 138.364202 199.950247 \nz\n\" style=\"fill:#ff7f0e;\"/>\n   </g>\n   <g id=\"patch_34\">\n    <path d=\"M 37.044767 79.265913 \nC 30.074763 94.26453 27.525377 110.944598 29.697043 127.340431 \nC 31.868709 143.736264 38.672632 159.177465 49.306995 171.844343 \nC 59.941358 184.511221 73.971339 193.885851 89.743556 198.863465 \nC 105.515773 203.841079 122.385327 204.218152 138.364202 199.950247 \nL 115.92 115.92 \nL 37.044767 79.265913 \nz\n\" style=\"fill:#2ca02c;\"/>\n   </g>\n   <g id=\"patch_35\">\n    <path d=\"M 201.503659 100.419614 \nC 198.212112 82.245707 189.21568 65.584197 175.825394 52.863134 \nC 162.435109 40.142072 145.334626 32.010945 127.015968 29.654688 \nC 108.69731 27.298431 90.095757 30.837345 73.922076 39.755711 \nC 57.748396 48.674076 44.828355 62.516557 37.044767 79.265913 \nL 115.92 115.92 \nL 201.503659 100.419614 \nz\n\" style=\"fill:#d62728;\"/>\n   </g>\n   <g id=\"patch_36\">\n    <path d=\"M 201.8866 129.132428 \nC 202.617381 124.377603 202.952419 119.570335 202.888266 114.760108 \nC 202.824112 109.949881 202.360987 105.153258 201.503659 100.419614 \nL 115.92 115.92 \nL 201.8866 129.132428 \nz\n\" style=\"fill:#9467bd;\"/>\n   </g>\n   <g id=\"patch_37\">\n    <path d=\"M 50.256276 172.955953 \nC 61.136322 185.481813 75.376625 194.636783 91.28875 199.335383 \nC 107.200876 204.033983 124.130061 204.082872 140.069058 199.476254 \nC 156.008056 194.869635 170.300997 185.797065 181.253208 173.334254 \nC 192.205418 160.871442 199.366228 145.531218 201.8866 129.132428 \nL 115.92 115.92 \nL 50.256276 172.955953 \nz\n\" style=\"fill:#8c564b;\"/>\n   </g>\n   <g id=\"patch_38\">\n    <path d=\"M 156.767062 192.707643 \nC 164.683372 188.496575 171.901084 183.086538 178.163975 176.669586 \nC 184.426865 170.252634 189.659938 162.905607 193.677423 154.889318 \nC 197.694908 146.873029 200.448698 138.283472 201.841035 129.425567 \nC 203.233372 120.567663 203.247583 111.547482 201.883164 102.685235 \nC 200.518745 93.822987 197.792035 85.224795 193.799828 77.195887 \nC 189.807622 69.166979 184.597726 61.803499 178.355086 55.366845 \nC 172.112446 48.93019 164.911817 43.497438 157.008815 39.261446 \nC 149.105812 35.025454 140.595073 32.036948 131.77872 30.402016 \nC 122.962368 28.767084 113.945976 28.505305 105.049618 29.625971 \nC 96.15326 30.746638 87.483468 33.23633 79.348013 37.006666 \nC 71.212557 40.777002 63.708857 45.782833 57.103288 51.846457 \nC 50.497719 57.91008 44.869381 64.958886 40.418074 72.742648 \nC 35.966768 80.526409 32.745796 88.951918 30.869501 97.720076 \nC 28.993206 106.488234 28.484057 115.494044 29.360126 124.417809 \nC 30.236195 133.341573 32.486993 142.076433 36.032618 150.312306 \nC 39.578243 158.54818 44.376237 166.186446 50.256276 172.955953 \nL 115.92 115.92 \nL 156.767062 192.707643 \nz\n\" style=\"fill:#e377c2;\"/>\n   </g>\n   <g id=\"patch_39\">\n    <path d=\"M 199.415615 91.562109 \nC 196.915341 82.991502 193.110282 74.856737 188.13436 67.444122 \nC 183.158438 60.031506 177.070722 53.429037 170.085474 47.869093 \nC 163.100226 42.309148 155.300369 37.857731 146.960424 34.671513 \nC 138.620479 31.485295 129.839451 29.602098 120.926394 29.088205 \nC 112.013337 28.574312 103.07406 29.435822 94.423186 31.642414 \nC 85.772312 33.849006 77.512537 37.374484 69.93457 42.094769 \nC 62.356602 46.815053 55.550402 52.674108 49.755518 59.465719 \nC 43.960633 66.25733 39.245856 73.900874 35.777127 82.12733 \nC 32.308398 90.353787 30.126894 99.065499 29.309395 107.955851 \nC 28.491896 116.846204 29.048106 125.809658 30.95845 134.530739 \nC 32.868794 143.25182 36.110593 151.626999 40.56975 159.361505 \nC 45.028907 167.096012 50.652487 174.098028 57.242563 180.121114 \nC 63.83264 186.144199 71.310982 191.116853 79.414383 194.864059 \nC 87.517785 198.611266 96.150049 201.08854 105.007358 202.208695 \nC 113.864667 203.328849 122.841874 203.078585 131.623021 201.466711 \nC 140.404167 199.854837 148.885011 196.900487 156.767062 192.707643 \nL 115.92 115.92 \nL 199.415615 91.562109 \nz\n\" style=\"fill:#7f7f7f;\"/>\n   </g>\n   <g id=\"patch_40\">\n    <path d=\"M 28.977699 113.499085 \nC 28.628015 126.057281 31.00336 138.543425 35.939838 150.09599 \nC 40.876317 161.648555 48.257719 171.995582 57.574739 180.42314 \nC 66.891758 188.850698 77.925063 195.160393 89.913369 198.916866 \nC 101.901676 202.673338 114.562767 203.788157 127.023046 202.184401 \nC 139.483325 200.580645 151.449463 196.296069 162.095814 189.626301 \nC 172.742164 182.956533 181.818101 174.058588 188.697397 163.546411 \nC 195.576693 153.034234 200.097403 141.155293 201.947603 128.729218 \nC 203.797804 116.303143 202.933939 103.622456 199.415615 91.562109 \nL 115.92 115.92 \nL 28.977699 113.499085 \nz\n\" style=\"fill:#bcbd22;\"/>\n   </g>\n   <g id=\"patch_41\">\n    <path d=\"M 43.696845 164.382774 \nC 49.430688 172.927811 56.635794 180.387837 64.976388 186.415199 \nC 73.316983 192.44256 82.661459 196.942149 92.574343 199.704276 \nC 102.487227 202.466402 112.812101 203.447482 123.067802 202.601795 \nC 133.323504 201.756107 143.348207 199.096996 152.674737 194.748382 \nC 162.001267 190.399769 170.48246 184.43027 177.723072 177.118079 \nC 184.963684 169.805888 190.849465 161.266384 195.106123 151.897528 \nC 199.362781 142.528672 201.923151 132.478296 202.667913 122.214772 \nC 203.412675 111.951247 202.330077 101.636524 199.470572 91.751291 \nC 196.611066 81.866058 192.019773 72.566296 185.910658 64.285395 \nC 179.801542 56.004495 172.271001 48.873122 163.669974 43.223614 \nC 155.068947 37.574106 145.533152 33.495608 135.506977 31.178187 \nC 125.480803 28.860766 115.122456 28.340989 104.914656 29.64308 \nC 94.706857 30.94517 84.810677 34.048581 75.687301 38.808688 \nC 66.563925 43.568794 58.357312 49.910485 51.449909 57.538223 \nC 44.542506 65.165961 39.043306 73.959387 35.208584 83.508707 \nC 31.373862 93.058027 29.264128 103.212561 28.977699 113.499085 \nL 115.92 115.92 \nL 43.696845 164.382774 \nz\n\" style=\"fill:#17becf;\"/>\n   </g>\n   <g id=\"patch_42\">\n    <path d=\"M 115.391404 202.894394 \nC 125.034008 202.952998 134.619574 201.407623 143.755208 198.321613 \nC 152.890841 195.235602 161.449995 190.651703 169.081847 184.757799 \nC 176.713699 178.863896 183.312532 171.741631 188.607873 163.682932 \nC 193.903214 155.624234 197.821712 146.74073 200.202755 137.39654 \nC 202.583798 128.05235 203.394404 118.376908 202.601349 108.766793 \nC 201.808293 99.156677 199.42256 89.745007 195.541938 80.917548 \nC 191.661315 72.09009 186.339556 63.96912 179.794791 56.887503 \nC 173.250025 49.805886 165.57291 43.861716 157.078116 39.298632 \nC 148.583322 34.735548 139.388519 31.616759 129.870583 30.070097 \nC 120.352648 28.523436 110.643422 28.570326 101.140869 30.208846 \nC 91.638317 31.847367 82.474066 35.05482 74.023741 39.69974 \nC 65.573417 44.344659 57.954073 50.362703 51.478012 57.507204 \nC 45.001951 64.651705 39.758878 72.823696 35.963698 81.688225 \nC 32.168519 90.552754 29.873802 99.987028 29.173604 109.604355 \nC 28.473406 119.221682 29.377427 128.888843 31.848612 138.2096 \nC 34.319797 147.530357 38.323915 156.375598 43.696845 164.382774 \nL 115.92 115.92 \nL 115.391404 202.894394 \nz\n\" style=\"fill:#1f77b4;\"/>\n   </g>\n   <g id=\"patch_43\">\n    <path d=\"M 63.581138 185.38559 \nC 71.002239 190.977019 79.271631 195.343286 88.074326 198.318076 \nC 96.877021 201.292867 106.099815 202.837923 115.391404 202.894394 \nL 115.92 115.92 \nL 63.581138 185.38559 \nz\n\" style=\"fill:#ff7f0e;\"/>\n   </g>\n   <g id=\"patch_44\">\n    <path d=\"M 202.247804 105.321189 \nC 200.497062 91.061311 195.240062 77.454931 186.948256 65.722277 \nC 178.656451 53.989624 167.58535 44.492236 154.727818 38.081849 \nC 141.870286 31.671461 127.622526 28.545606 113.262287 28.984615 \nC 98.902048 29.423624 84.871837 33.413968 72.429896 40.597789 \nC 59.987955 47.781611 49.517678 57.937542 41.958048 70.154792 \nC 34.398418 82.372042 29.982384 96.274138 29.105978 110.61433 \nC 28.229572 124.954522 30.919801 139.29092 36.935403 152.337825 \nC 42.951005 165.38473 52.106611 176.740105 63.581138 185.38559 \nL 115.92 115.92 \nL 202.247804 105.321189 \nz\n\" style=\"fill:#2ca02c;\"/>\n   </g>\n   <g id=\"patch_45\">\n    <path d=\"M 108.861566 202.609117 \nC 121.730869 203.656967 134.673474 201.826046 146.747144 197.249649 \nC 158.820815 192.673251 169.725273 185.465195 178.666662 176.150233 \nC 187.60805 166.835272 194.363993 155.645074 198.442648 143.394299 \nC 202.521304 131.143523 203.821235 118.136853 202.247804 105.321189 \nL 115.92 115.92 \nL 108.861566 202.609117 \nz\n\" style=\"fill:#d62728;\"/>\n   </g>\n   <g id=\"patch_46\">\n    <path d=\"M 188.145941 67.461378 \nC 179.945246 55.238519 168.774469 45.29508 155.683755 38.565825 \nC 142.59304 31.83657 128.00587 28.53919 113.293559 28.983665 \nC 98.581247 29.42814 84.219734 33.600091 71.55912 41.107322 \nC 58.898505 48.614552 48.348357 59.214204 40.900477 71.909823 \nC 33.452596 84.605442 29.34792 98.986328 28.972322 113.700559 \nC 28.596724 128.41479 31.962355 142.986364 38.752817 156.045434 \nC 45.543279 169.104503 55.538902 180.22861 67.800017 188.371996 \nC 80.061131 196.515383 94.191092 201.414613 108.861566 202.609117 \nL 115.92 115.92 \nL 188.145941 67.461378 \nz\n\" style=\"fill:#9467bd;\"/>\n   </g>\n   <g id=\"patch_47\">\n    <path d=\"M 117.221343 202.886264 \nC 132.872234 202.652068 148.173468 198.197236 161.504145 189.993681 \nC 174.834822 181.790126 185.706995 170.138125 192.968948 156.272004 \nC 200.2309 142.405883 203.61682 126.833189 202.768028 111.203575 \nC 201.919236 95.573962 196.866801 80.459526 188.145941 67.461378 \nL 115.92 115.92 \nL 117.221343 202.886264 \nz\n\" style=\"fill:#8c564b;\"/>\n   </g>\n   <g id=\"patch_48\">\n    <path d=\"M 186.140623 167.241425 \nC 191.883255 159.384059 196.266567 150.618268 199.107587 141.309958 \nC 201.948607 132.001648 203.207247 122.282165 202.830968 112.557226 \nC 202.454689 102.832287 200.448801 93.239116 196.897034 84.178157 \nC 193.345267 75.117198 188.297739 66.716306 181.965148 59.326157 \nC 175.632556 51.936008 168.104257 45.66088 159.694501 40.762714 \nC 151.284745 35.864548 142.112198 32.412459 132.559748 30.550548 \nC 123.007297 28.688636 113.209733 28.443174 103.576031 29.824408 \nC 93.942329 31.205641 84.608425 34.194081 75.963943 38.66498 \nC 67.31946 43.13588 59.486376 49.026153 52.791665 56.089925 \nC 46.096954 63.153696 40.635081 71.291292 36.63404 80.163028 \nC 32.632998 89.034763 30.149245 98.515454 29.286459 108.20935 \nC 28.423672 117.903246 29.194027 127.673562 31.565366 137.112459 \nC 33.936705 146.551356 37.875568 155.525646 43.217536 163.660719 \nC 48.559503 171.795792 55.229198 178.976856 62.948209 184.904157 \nC 70.66722 190.831458 79.326628 195.421357 88.564967 198.48226 \nC 97.803305 201.543163 107.490216 203.031878 117.221343 202.886264 \nL 115.92 115.92 \nL 186.140623 167.241425 \nz\n\" style=\"fill:#e377c2;\"/>\n   </g>\n   <g id=\"patch_49\">\n    <path d=\"M 139.254674 32.132665 \nC 123.965113 27.87454 107.797754 27.881622 92.511929 32.15314 \nC 77.226104 36.424659 63.397152 44.799839 52.52994 56.367294 \nC 41.662727 67.934749 34.166283 82.259094 30.856369 97.781555 \nC 27.546455 113.304015 28.547652 129.440346 33.751011 144.43459 \nC 38.95437 159.428835 48.164043 172.71663 60.377832 182.851997 \nC 72.591622 192.987363 87.349817 199.588821 103.046431 201.937997 \nC 118.743044 204.287173 134.787277 202.295649 149.433194 196.180142 \nC 164.079111 190.064635 176.77546 180.055325 186.140623 167.241425 \nL 115.92 115.92 \nL 139.254674 32.132665 \nz\n\" style=\"fill:#7f7f7f;\"/>\n   </g>\n   <g id=\"patch_50\">\n    <path d=\"M 197.894794 86.851843 \nC 193.229471 73.695218 185.464615 61.853068 175.258589 52.329463 \nC 165.052563 42.805857 152.702205 35.877786 139.254674 32.132665 \nL 115.92 115.92 \nL 197.894794 86.851843 \nz\n\" style=\"fill:#bcbd22;\"/>\n   </g>\n   <g id=\"patch_51\">\n    <path d=\"M 202.42636 106.893692 \nC 202.070019 103.478588 201.511758 100.08758 200.754508 96.738477 \nC 199.997258 93.389374 199.042349 90.08805 197.894794 86.851843 \nL 115.92 115.92 \nL 202.42636 106.893692 \nz\n\" style=\"fill:#17becf;\"/>\n   </g>\n   <g id=\"matplotlib.axis_1\"/>\n   <g id=\"matplotlib.axis_2\"/>\n  </g>\n </g>\n</svg>\n",
      "image/png": "[encoded data removed]"
     },
     "metadata": {}
    }
   ],
   "source": [
    "# matplotlib_pie_chart\n",
    "fig, ax = plt.subplots()\n",
    "ax.pie(x)\n",
    "plt.show()"
   ]
  },
  {
   "cell_type": "code",
   "execution_count": 32,
   "metadata": {},
   "outputs": [
    {
     "output_type": "display_data",
     "data": {
      "text/plain": "<Figure size 432x288 with 1 Axes>",
      "image/svg+xml": "<?xml version=\"1.0\" encoding=\"utf-8\" standalone=\"no\"?>\n<!DOCTYPE svg PUBLIC \"-//W3C//DTD SVG 1.1//EN\"\n  \"http://www.w3.org/Graphics/SVG/1.1/DTD/svg11.dtd\">\n<!-- Created with matplotlib (https://matplotlib.org/) -->\n<svg height=\"248.518125pt\" version=\"1.1\" viewBox=\"0 0 362.5625 248.518125\" width=\"362.5625pt\" xmlns=\"http://www.w3.org/2000/svg\" xmlns:xlink=\"http://www.w3.org/1999/xlink\">\n <defs>\n  <style type=\"text/css\">\n*{stroke-linecap:butt;stroke-linejoin:round;}\n  </style>\n </defs>\n <g id=\"figure_1\">\n  <g id=\"patch_1\">\n   <path d=\"M 0 248.518125 \nL 362.5625 248.518125 \nL 362.5625 0 \nL 0 0 \nz\n\" style=\"fill:none;\"/>\n  </g>\n  <g id=\"axes_1\">\n   <g id=\"patch_2\">\n    <path d=\"M 20.5625 224.64 \nL 355.3625 224.64 \nL 355.3625 7.2 \nL 20.5625 7.2 \nz\n\" style=\"fill:#ffffff;\"/>\n   </g>\n   <g id=\"patch_3\">\n    <path clip-path=\"url(#p82e9ee8274)\" d=\"M 35.780682 224.64 \nL 66.217045 224.64 \nL 66.217045 121.097143 \nL 35.780682 121.097143 \nz\n\" style=\"fill:#1f77b4;\"/>\n   </g>\n   <g id=\"patch_4\">\n    <path clip-path=\"url(#p82e9ee8274)\" d=\"M 66.217045 224.64 \nL 96.653409 224.64 \nL 96.653409 95.211429 \nL 66.217045 95.211429 \nz\n\" style=\"fill:#1f77b4;\"/>\n   </g>\n   <g id=\"patch_5\">\n    <path clip-path=\"url(#p82e9ee8274)\" d=\"M 96.653409 224.64 \nL 127.089773 224.64 \nL 127.089773 121.097143 \nL 96.653409 121.097143 \nz\n\" style=\"fill:#1f77b4;\"/>\n   </g>\n   <g id=\"patch_6\">\n    <path clip-path=\"url(#p82e9ee8274)\" d=\"M 127.089773 224.64 \nL 157.526136 224.64 \nL 157.526136 121.097143 \nL 127.089773 121.097143 \nz\n\" style=\"fill:#1f77b4;\"/>\n   </g>\n   <g id=\"patch_7\">\n    <path clip-path=\"url(#p82e9ee8274)\" d=\"M 157.526136 224.64 \nL 187.9625 224.64 \nL 187.9625 43.44 \nL 157.526136 43.44 \nz\n\" style=\"fill:#1f77b4;\"/>\n   </g>\n   <g id=\"patch_8\">\n    <path clip-path=\"url(#p82e9ee8274)\" d=\"M 187.9625 224.64 \nL 218.398864 224.64 \nL 218.398864 121.097143 \nL 187.9625 121.097143 \nz\n\" style=\"fill:#1f77b4;\"/>\n   </g>\n   <g id=\"patch_9\">\n    <path clip-path=\"url(#p82e9ee8274)\" d=\"M 218.398864 224.64 \nL 248.835227 224.64 \nL 248.835227 121.097143 \nL 218.398864 121.097143 \nz\n\" style=\"fill:#1f77b4;\"/>\n   </g>\n   <g id=\"patch_10\">\n    <path clip-path=\"url(#p82e9ee8274)\" d=\"M 248.835227 224.64 \nL 279.271591 224.64 \nL 279.271591 95.211429 \nL 248.835227 95.211429 \nz\n\" style=\"fill:#1f77b4;\"/>\n   </g>\n   <g id=\"patch_11\">\n    <path clip-path=\"url(#p82e9ee8274)\" d=\"M 279.271591 224.64 \nL 309.707955 224.64 \nL 309.707955 95.211429 \nL 279.271591 95.211429 \nz\n\" style=\"fill:#1f77b4;\"/>\n   </g>\n   <g id=\"patch_12\">\n    <path clip-path=\"url(#p82e9ee8274)\" d=\"M 309.707955 224.64 \nL 340.144318 224.64 \nL 340.144318 17.554286 \nL 309.707955 17.554286 \nz\n\" style=\"fill:#1f77b4;\"/>\n   </g>\n   <g id=\"matplotlib.axis_1\">\n    <g id=\"xtick_1\">\n     <g id=\"line2d_1\">\n      <defs>\n       <path d=\"M 0 0 \nL 0 3.5 \n\" id=\"ma7603abbd9\" style=\"stroke:#000000;stroke-width:0.8;\"/>\n      </defs>\n      <g>\n       <use style=\"stroke:#000000;stroke-width:0.8;\" x=\"31.434398\" xlink:href=\"#ma7603abbd9\" y=\"224.64\"/>\n      </g>\n     </g>\n     <g id=\"text_1\">\n      <!-- −7 -->\n      <defs>\n       <path d=\"M 10.59375 35.5 \nL 73.1875 35.5 \nL 73.1875 27.203125 \nL 10.59375 27.203125 \nz\n\" id=\"DejaVuSans-8722\"/>\n       <path d=\"M 8.203125 72.90625 \nL 55.078125 72.90625 \nL 55.078125 68.703125 \nL 28.609375 0 \nL 18.3125 0 \nL 43.21875 64.59375 \nL 8.203125 64.59375 \nz\n\" id=\"DejaVuSans-55\"/>\n      </defs>\n      <g transform=\"translate(24.063304 239.238437)scale(0.1 -0.1)\">\n       <use xlink:href=\"#DejaVuSans-8722\"/>\n       <use x=\"83.789062\" xlink:href=\"#DejaVuSans-55\"/>\n      </g>\n     </g>\n    </g>\n    <g id=\"xtick_2\">\n     <g id=\"line2d_2\">\n      <g>\n       <use style=\"stroke:#000000;stroke-width:0.8;\" x=\"75.562715\" xlink:href=\"#ma7603abbd9\" y=\"224.64\"/>\n      </g>\n     </g>\n     <g id=\"text_2\">\n      <!-- −6 -->\n      <defs>\n       <path d=\"M 33.015625 40.375 \nQ 26.375 40.375 22.484375 35.828125 \nQ 18.609375 31.296875 18.609375 23.390625 \nQ 18.609375 15.53125 22.484375 10.953125 \nQ 26.375 6.390625 33.015625 6.390625 \nQ 39.65625 6.390625 43.53125 10.953125 \nQ 47.40625 15.53125 47.40625 23.390625 \nQ 47.40625 31.296875 43.53125 35.828125 \nQ 39.65625 40.375 33.015625 40.375 \nz\nM 52.59375 71.296875 \nL 52.59375 62.3125 \nQ 48.875 64.0625 45.09375 64.984375 \nQ 41.3125 65.921875 37.59375 65.921875 \nQ 27.828125 65.921875 22.671875 59.328125 \nQ 17.53125 52.734375 16.796875 39.40625 \nQ 19.671875 43.65625 24.015625 45.921875 \nQ 28.375 48.1875 33.59375 48.1875 \nQ 44.578125 48.1875 50.953125 41.515625 \nQ 57.328125 34.859375 57.328125 23.390625 \nQ 57.328125 12.15625 50.6875 5.359375 \nQ 44.046875 -1.421875 33.015625 -1.421875 \nQ 20.359375 -1.421875 13.671875 8.265625 \nQ 6.984375 17.96875 6.984375 36.375 \nQ 6.984375 53.65625 15.1875 63.9375 \nQ 23.390625 74.21875 37.203125 74.21875 \nQ 40.921875 74.21875 44.703125 73.484375 \nQ 48.484375 72.75 52.59375 71.296875 \nz\n\" id=\"DejaVuSans-54\"/>\n      </defs>\n      <g transform=\"translate(68.191621 239.238437)scale(0.1 -0.1)\">\n       <use xlink:href=\"#DejaVuSans-8722\"/>\n       <use x=\"83.789062\" xlink:href=\"#DejaVuSans-54\"/>\n      </g>\n     </g>\n    </g>\n    <g id=\"xtick_3\">\n     <g id=\"line2d_3\">\n      <g>\n       <use style=\"stroke:#000000;stroke-width:0.8;\" x=\"119.691032\" xlink:href=\"#ma7603abbd9\" y=\"224.64\"/>\n      </g>\n     </g>\n     <g id=\"text_3\">\n      <!-- −5 -->\n      <defs>\n       <path d=\"M 10.796875 72.90625 \nL 49.515625 72.90625 \nL 49.515625 64.59375 \nL 19.828125 64.59375 \nL 19.828125 46.734375 \nQ 21.96875 47.46875 24.109375 47.828125 \nQ 26.265625 48.1875 28.421875 48.1875 \nQ 40.625 48.1875 47.75 41.5 \nQ 54.890625 34.8125 54.890625 23.390625 \nQ 54.890625 11.625 47.5625 5.09375 \nQ 40.234375 -1.421875 26.90625 -1.421875 \nQ 22.3125 -1.421875 17.546875 -0.640625 \nQ 12.796875 0.140625 7.71875 1.703125 \nL 7.71875 11.625 \nQ 12.109375 9.234375 16.796875 8.0625 \nQ 21.484375 6.890625 26.703125 6.890625 \nQ 35.15625 6.890625 40.078125 11.328125 \nQ 45.015625 15.765625 45.015625 23.390625 \nQ 45.015625 31 40.078125 35.4375 \nQ 35.15625 39.890625 26.703125 39.890625 \nQ 22.75 39.890625 18.8125 39.015625 \nQ 14.890625 38.140625 10.796875 36.28125 \nz\n\" id=\"DejaVuSans-53\"/>\n      </defs>\n      <g transform=\"translate(112.319938 239.238437)scale(0.1 -0.1)\">\n       <use xlink:href=\"#DejaVuSans-8722\"/>\n       <use x=\"83.789062\" xlink:href=\"#DejaVuSans-53\"/>\n      </g>\n     </g>\n    </g>\n    <g id=\"xtick_4\">\n     <g id=\"line2d_4\">\n      <g>\n       <use style=\"stroke:#000000;stroke-width:0.8;\" x=\"163.819349\" xlink:href=\"#ma7603abbd9\" y=\"224.64\"/>\n      </g>\n     </g>\n     <g id=\"text_4\">\n      <!-- −4 -->\n      <defs>\n       <path d=\"M 37.796875 64.3125 \nL 12.890625 25.390625 \nL 37.796875 25.390625 \nz\nM 35.203125 72.90625 \nL 47.609375 72.90625 \nL 47.609375 25.390625 \nL 58.015625 25.390625 \nL 58.015625 17.1875 \nL 47.609375 17.1875 \nL 47.609375 0 \nL 37.796875 0 \nL 37.796875 17.1875 \nL 4.890625 17.1875 \nL 4.890625 26.703125 \nz\n\" id=\"DejaVuSans-52\"/>\n      </defs>\n      <g transform=\"translate(156.448256 239.238437)scale(0.1 -0.1)\">\n       <use xlink:href=\"#DejaVuSans-8722\"/>\n       <use x=\"83.789062\" xlink:href=\"#DejaVuSans-52\"/>\n      </g>\n     </g>\n    </g>\n    <g id=\"xtick_5\">\n     <g id=\"line2d_5\">\n      <g>\n       <use style=\"stroke:#000000;stroke-width:0.8;\" x=\"207.947667\" xlink:href=\"#ma7603abbd9\" y=\"224.64\"/>\n      </g>\n     </g>\n     <g id=\"text_5\">\n      <!-- −3 -->\n      <defs>\n       <path d=\"M 40.578125 39.3125 \nQ 47.65625 37.796875 51.625 33 \nQ 55.609375 28.21875 55.609375 21.1875 \nQ 55.609375 10.40625 48.1875 4.484375 \nQ 40.765625 -1.421875 27.09375 -1.421875 \nQ 22.515625 -1.421875 17.65625 -0.515625 \nQ 12.796875 0.390625 7.625 2.203125 \nL 7.625 11.71875 \nQ 11.71875 9.328125 16.59375 8.109375 \nQ 21.484375 6.890625 26.8125 6.890625 \nQ 36.078125 6.890625 40.9375 10.546875 \nQ 45.796875 14.203125 45.796875 21.1875 \nQ 45.796875 27.640625 41.28125 31.265625 \nQ 36.765625 34.90625 28.71875 34.90625 \nL 20.21875 34.90625 \nL 20.21875 43.015625 \nL 29.109375 43.015625 \nQ 36.375 43.015625 40.234375 45.921875 \nQ 44.09375 48.828125 44.09375 54.296875 \nQ 44.09375 59.90625 40.109375 62.90625 \nQ 36.140625 65.921875 28.71875 65.921875 \nQ 24.65625 65.921875 20.015625 65.03125 \nQ 15.375 64.15625 9.8125 62.3125 \nL 9.8125 71.09375 \nQ 15.4375 72.65625 20.34375 73.4375 \nQ 25.25 74.21875 29.59375 74.21875 \nQ 40.828125 74.21875 47.359375 69.109375 \nQ 53.90625 64.015625 53.90625 55.328125 \nQ 53.90625 49.265625 50.4375 45.09375 \nQ 46.96875 40.921875 40.578125 39.3125 \nz\n\" id=\"DejaVuSans-51\"/>\n      </defs>\n      <g transform=\"translate(200.576573 239.238437)scale(0.1 -0.1)\">\n       <use xlink:href=\"#DejaVuSans-8722\"/>\n       <use x=\"83.789062\" xlink:href=\"#DejaVuSans-51\"/>\n      </g>\n     </g>\n    </g>\n    <g id=\"xtick_6\">\n     <g id=\"line2d_6\">\n      <g>\n       <use style=\"stroke:#000000;stroke-width:0.8;\" x=\"252.075984\" xlink:href=\"#ma7603abbd9\" y=\"224.64\"/>\n      </g>\n     </g>\n     <g id=\"text_6\">\n      <!-- −2 -->\n      <defs>\n       <path d=\"M 19.1875 8.296875 \nL 53.609375 8.296875 \nL 53.609375 0 \nL 7.328125 0 \nL 7.328125 8.296875 \nQ 12.9375 14.109375 22.625 23.890625 \nQ 32.328125 33.6875 34.8125 36.53125 \nQ 39.546875 41.84375 41.421875 45.53125 \nQ 43.3125 49.21875 43.3125 52.78125 \nQ 43.3125 58.59375 39.234375 62.25 \nQ 35.15625 65.921875 28.609375 65.921875 \nQ 23.96875 65.921875 18.8125 64.3125 \nQ 13.671875 62.703125 7.8125 59.421875 \nL 7.8125 69.390625 \nQ 13.765625 71.78125 18.9375 73 \nQ 24.125 74.21875 28.421875 74.21875 \nQ 39.75 74.21875 46.484375 68.546875 \nQ 53.21875 62.890625 53.21875 53.421875 \nQ 53.21875 48.921875 51.53125 44.890625 \nQ 49.859375 40.875 45.40625 35.40625 \nQ 44.1875 33.984375 37.640625 27.21875 \nQ 31.109375 20.453125 19.1875 8.296875 \nz\n\" id=\"DejaVuSans-50\"/>\n      </defs>\n      <g transform=\"translate(244.70489 239.238437)scale(0.1 -0.1)\">\n       <use xlink:href=\"#DejaVuSans-8722\"/>\n       <use x=\"83.789062\" xlink:href=\"#DejaVuSans-50\"/>\n      </g>\n     </g>\n    </g>\n    <g id=\"xtick_7\">\n     <g id=\"line2d_7\">\n      <g>\n       <use style=\"stroke:#000000;stroke-width:0.8;\" x=\"296.204301\" xlink:href=\"#ma7603abbd9\" y=\"224.64\"/>\n      </g>\n     </g>\n     <g id=\"text_7\">\n      <!-- −1 -->\n      <defs>\n       <path d=\"M 12.40625 8.296875 \nL 28.515625 8.296875 \nL 28.515625 63.921875 \nL 10.984375 60.40625 \nL 10.984375 69.390625 \nL 28.421875 72.90625 \nL 38.28125 72.90625 \nL 38.28125 8.296875 \nL 54.390625 8.296875 \nL 54.390625 0 \nL 12.40625 0 \nz\n\" id=\"DejaVuSans-49\"/>\n      </defs>\n      <g transform=\"translate(288.833207 239.238437)scale(0.1 -0.1)\">\n       <use xlink:href=\"#DejaVuSans-8722\"/>\n       <use x=\"83.789062\" xlink:href=\"#DejaVuSans-49\"/>\n      </g>\n     </g>\n    </g>\n    <g id=\"xtick_8\">\n     <g id=\"line2d_8\">\n      <g>\n       <use style=\"stroke:#000000;stroke-width:0.8;\" x=\"340.332618\" xlink:href=\"#ma7603abbd9\" y=\"224.64\"/>\n      </g>\n     </g>\n     <g id=\"text_8\">\n      <!-- 0 -->\n      <defs>\n       <path d=\"M 31.78125 66.40625 \nQ 24.171875 66.40625 20.328125 58.90625 \nQ 16.5 51.421875 16.5 36.375 \nQ 16.5 21.390625 20.328125 13.890625 \nQ 24.171875 6.390625 31.78125 6.390625 \nQ 39.453125 6.390625 43.28125 13.890625 \nQ 47.125 21.390625 47.125 36.375 \nQ 47.125 51.421875 43.28125 58.90625 \nQ 39.453125 66.40625 31.78125 66.40625 \nz\nM 31.78125 74.21875 \nQ 44.046875 74.21875 50.515625 64.515625 \nQ 56.984375 54.828125 56.984375 36.375 \nQ 56.984375 17.96875 50.515625 8.265625 \nQ 44.046875 -1.421875 31.78125 -1.421875 \nQ 19.53125 -1.421875 13.0625 8.265625 \nQ 6.59375 17.96875 6.59375 36.375 \nQ 6.59375 54.828125 13.0625 64.515625 \nQ 19.53125 74.21875 31.78125 74.21875 \nz\n\" id=\"DejaVuSans-48\"/>\n      </defs>\n      <g transform=\"translate(337.151368 239.238437)scale(0.1 -0.1)\">\n       <use xlink:href=\"#DejaVuSans-48\"/>\n      </g>\n     </g>\n    </g>\n   </g>\n   <g id=\"matplotlib.axis_2\">\n    <g id=\"ytick_1\">\n     <g id=\"line2d_9\">\n      <defs>\n       <path d=\"M 0 0 \nL -3.5 0 \n\" id=\"m217093bd1d\" style=\"stroke:#000000;stroke-width:0.8;\"/>\n      </defs>\n      <g>\n       <use style=\"stroke:#000000;stroke-width:0.8;\" x=\"20.5625\" xlink:href=\"#m217093bd1d\" y=\"224.64\"/>\n      </g>\n     </g>\n     <g id=\"text_9\">\n      <!-- 0 -->\n      <g transform=\"translate(7.2 228.439219)scale(0.1 -0.1)\">\n       <use xlink:href=\"#DejaVuSans-48\"/>\n      </g>\n     </g>\n    </g>\n    <g id=\"ytick_2\">\n     <g id=\"line2d_10\">\n      <g>\n       <use style=\"stroke:#000000;stroke-width:0.8;\" x=\"20.5625\" xlink:href=\"#m217093bd1d\" y=\"198.754286\"/>\n      </g>\n     </g>\n     <g id=\"text_10\">\n      <!-- 1 -->\n      <g transform=\"translate(7.2 202.553504)scale(0.1 -0.1)\">\n       <use xlink:href=\"#DejaVuSans-49\"/>\n      </g>\n     </g>\n    </g>\n    <g id=\"ytick_3\">\n     <g id=\"line2d_11\">\n      <g>\n       <use style=\"stroke:#000000;stroke-width:0.8;\" x=\"20.5625\" xlink:href=\"#m217093bd1d\" y=\"172.868571\"/>\n      </g>\n     </g>\n     <g id=\"text_11\">\n      <!-- 2 -->\n      <g transform=\"translate(7.2 176.66779)scale(0.1 -0.1)\">\n       <use xlink:href=\"#DejaVuSans-50\"/>\n      </g>\n     </g>\n    </g>\n    <g id=\"ytick_4\">\n     <g id=\"line2d_12\">\n      <g>\n       <use style=\"stroke:#000000;stroke-width:0.8;\" x=\"20.5625\" xlink:href=\"#m217093bd1d\" y=\"146.982857\"/>\n      </g>\n     </g>\n     <g id=\"text_12\">\n      <!-- 3 -->\n      <g transform=\"translate(7.2 150.782076)scale(0.1 -0.1)\">\n       <use xlink:href=\"#DejaVuSans-51\"/>\n      </g>\n     </g>\n    </g>\n    <g id=\"ytick_5\">\n     <g id=\"line2d_13\">\n      <g>\n       <use style=\"stroke:#000000;stroke-width:0.8;\" x=\"20.5625\" xlink:href=\"#m217093bd1d\" y=\"121.097143\"/>\n      </g>\n     </g>\n     <g id=\"text_13\">\n      <!-- 4 -->\n      <g transform=\"translate(7.2 124.896362)scale(0.1 -0.1)\">\n       <use xlink:href=\"#DejaVuSans-52\"/>\n      </g>\n     </g>\n    </g>\n    <g id=\"ytick_6\">\n     <g id=\"line2d_14\">\n      <g>\n       <use style=\"stroke:#000000;stroke-width:0.8;\" x=\"20.5625\" xlink:href=\"#m217093bd1d\" y=\"95.211429\"/>\n      </g>\n     </g>\n     <g id=\"text_14\">\n      <!-- 5 -->\n      <g transform=\"translate(7.2 99.010647)scale(0.1 -0.1)\">\n       <use xlink:href=\"#DejaVuSans-53\"/>\n      </g>\n     </g>\n    </g>\n    <g id=\"ytick_7\">\n     <g id=\"line2d_15\">\n      <g>\n       <use style=\"stroke:#000000;stroke-width:0.8;\" x=\"20.5625\" xlink:href=\"#m217093bd1d\" y=\"69.325714\"/>\n      </g>\n     </g>\n     <g id=\"text_15\">\n      <!-- 6 -->\n      <g transform=\"translate(7.2 73.124933)scale(0.1 -0.1)\">\n       <use xlink:href=\"#DejaVuSans-54\"/>\n      </g>\n     </g>\n    </g>\n    <g id=\"ytick_8\">\n     <g id=\"line2d_16\">\n      <g>\n       <use style=\"stroke:#000000;stroke-width:0.8;\" x=\"20.5625\" xlink:href=\"#m217093bd1d\" y=\"43.44\"/>\n      </g>\n     </g>\n     <g id=\"text_16\">\n      <!-- 7 -->\n      <g transform=\"translate(7.2 47.239219)scale(0.1 -0.1)\">\n       <use xlink:href=\"#DejaVuSans-55\"/>\n      </g>\n     </g>\n    </g>\n    <g id=\"ytick_9\">\n     <g id=\"line2d_17\">\n      <g>\n       <use style=\"stroke:#000000;stroke-width:0.8;\" x=\"20.5625\" xlink:href=\"#m217093bd1d\" y=\"17.554286\"/>\n      </g>\n     </g>\n     <g id=\"text_17\">\n      <!-- 8 -->\n      <defs>\n       <path d=\"M 31.78125 34.625 \nQ 24.75 34.625 20.71875 30.859375 \nQ 16.703125 27.09375 16.703125 20.515625 \nQ 16.703125 13.921875 20.71875 10.15625 \nQ 24.75 6.390625 31.78125 6.390625 \nQ 38.8125 6.390625 42.859375 10.171875 \nQ 46.921875 13.96875 46.921875 20.515625 \nQ 46.921875 27.09375 42.890625 30.859375 \nQ 38.875 34.625 31.78125 34.625 \nz\nM 21.921875 38.8125 \nQ 15.578125 40.375 12.03125 44.71875 \nQ 8.5 49.078125 8.5 55.328125 \nQ 8.5 64.0625 14.71875 69.140625 \nQ 20.953125 74.21875 31.78125 74.21875 \nQ 42.671875 74.21875 48.875 69.140625 \nQ 55.078125 64.0625 55.078125 55.328125 \nQ 55.078125 49.078125 51.53125 44.71875 \nQ 48 40.375 41.703125 38.8125 \nQ 48.828125 37.15625 52.796875 32.3125 \nQ 56.78125 27.484375 56.78125 20.515625 \nQ 56.78125 9.90625 50.3125 4.234375 \nQ 43.84375 -1.421875 31.78125 -1.421875 \nQ 19.734375 -1.421875 13.25 4.234375 \nQ 6.78125 9.90625 6.78125 20.515625 \nQ 6.78125 27.484375 10.78125 32.3125 \nQ 14.796875 37.15625 21.921875 38.8125 \nz\nM 18.3125 54.390625 \nQ 18.3125 48.734375 21.84375 45.5625 \nQ 25.390625 42.390625 31.78125 42.390625 \nQ 38.140625 42.390625 41.71875 45.5625 \nQ 45.3125 48.734375 45.3125 54.390625 \nQ 45.3125 60.0625 41.71875 63.234375 \nQ 38.140625 66.40625 31.78125 66.40625 \nQ 25.390625 66.40625 21.84375 63.234375 \nQ 18.3125 60.0625 18.3125 54.390625 \nz\n\" id=\"DejaVuSans-56\"/>\n      </defs>\n      <g transform=\"translate(7.2 21.353504)scale(0.1 -0.1)\">\n       <use xlink:href=\"#DejaVuSans-56\"/>\n      </g>\n     </g>\n    </g>\n   </g>\n   <g id=\"patch_13\">\n    <path d=\"M 20.5625 224.64 \nL 20.5625 7.2 \n\" style=\"fill:none;stroke:#000000;stroke-linecap:square;stroke-linejoin:miter;stroke-width:0.8;\"/>\n   </g>\n   <g id=\"patch_14\">\n    <path d=\"M 355.3625 224.64 \nL 355.3625 7.2 \n\" style=\"fill:none;stroke:#000000;stroke-linecap:square;stroke-linejoin:miter;stroke-width:0.8;\"/>\n   </g>\n   <g id=\"patch_15\">\n    <path d=\"M 20.5625 224.64 \nL 355.3625 224.64 \n\" style=\"fill:none;stroke:#000000;stroke-linecap:square;stroke-linejoin:miter;stroke-width:0.8;\"/>\n   </g>\n   <g id=\"patch_16\">\n    <path d=\"M 20.5625 7.2 \nL 355.3625 7.2 \n\" style=\"fill:none;stroke:#000000;stroke-linecap:square;stroke-linejoin:miter;stroke-width:0.8;\"/>\n   </g>\n  </g>\n </g>\n <defs>\n  <clipPath id=\"p82e9ee8274\">\n   <rect height=\"217.44\" width=\"334.8\" x=\"20.5625\" y=\"7.2\"/>\n  </clipPath>\n </defs>\n</svg>\n",
      "image/png": "[encoded data removed]"
     },
     "metadata": {
      "needs_background": "light"
     }
    }
   ],
   "source": [
    "# matplotlib_histogram\n",
    "fig, ax = plt.subplots()\n",
    "ax.hist(x, 10)\n",
    "plt.show()"
   ]
  },
  {
   "cell_type": "code",
   "execution_count": 58,
   "metadata": {},
   "outputs": [
    {
     "output_type": "display_data",
     "data": {
      "text/plain": "<Figure size 432x288 with 1 Axes>",
      "image/svg+xml": "<?xml version=\"1.0\" encoding=\"utf-8\" standalone=\"no\"?>\n<!DOCTYPE svg PUBLIC \"-//W3C//DTD SVG 1.1//EN\"\n  \"http://www.w3.org/Graphics/SVG/1.1/DTD/svg11.dtd\">\n<!-- Created with matplotlib (https://matplotlib.org/) -->\n<svg height=\"269.518125pt\" version=\"1.1\" viewBox=\"0 0 277.565 269.518125\" width=\"277.565pt\" xmlns=\"http://www.w3.org/2000/svg\" xmlns:xlink=\"http://www.w3.org/1999/xlink\">\n <defs>\n  <style type=\"text/css\">\n*{stroke-linecap:butt;stroke-linejoin:round;}\n  </style>\n </defs>\n <g id=\"figure_1\">\n  <g id=\"patch_1\">\n   <path d=\"M 0 269.518125 \nL 277.565 269.518125 \nL 277.565 0 \nL 0 0 \nz\n\" style=\"fill:none;\"/>\n  </g>\n  <g id=\"axes_1\">\n   <g id=\"patch_2\">\n    <path d=\"M 250.68375 134.759062 \nC 250.68375 120.482083 247.871496 106.343929 242.407933 93.15372 \nC 236.944369 79.963511 228.935748 67.977762 218.840399 57.882413 \nC 208.74505 47.787064 196.759302 39.778443 183.569093 34.31488 \nC 170.378884 28.851316 156.24073 26.039062 141.96375 26.039062 \nC 127.68677 26.039062 113.548616 28.851316 100.358407 34.31488 \nC 87.168198 39.778443 75.18245 47.787064 65.087101 57.882413 \nC 54.991752 67.977762 46.983131 79.963511 41.519567 93.15372 \nC 36.056004 106.343929 33.24375 120.482083 33.24375 134.759062 \nC 33.24375 149.036042 36.056004 163.174196 41.519567 176.364405 \nC 46.983131 189.554614 54.991752 201.540363 65.087101 211.635712 \nC 75.18245 221.731061 87.168198 229.739682 100.358407 235.203245 \nC 113.548616 240.666809 127.68677 243.479062 141.96375 243.479062 \nC 156.24073 243.479062 170.378884 240.666809 183.569093 235.203245 \nC 196.759302 229.739682 208.74505 221.731061 218.840399 211.635712 \nC 228.935748 201.540363 236.944369 189.554614 242.407933 176.364405 \nC 247.871496 163.174196 250.68375 149.036042 250.68375 134.759063 \nM 141.96375 134.759062 \nC 141.96375 134.759062 141.96375 134.759062 141.96375 134.759062 \nC 141.96375 134.759062 141.96375 134.759062 141.96375 134.759062 \nC 141.96375 134.759062 141.96375 134.759062 141.96375 134.759062 \nC 141.96375 134.759062 141.96375 134.759062 141.96375 134.759062 \nC 141.96375 134.759062 141.96375 134.759062 141.96375 134.759062 \nC 141.96375 134.759062 141.96375 134.759062 141.96375 134.759062 \nC 141.96375 134.759062 141.96375 134.759062 141.96375 134.759062 \nC 141.96375 134.759062 141.96375 134.759062 141.96375 134.759062 \nC 141.96375 134.759062 141.96375 134.759062 141.96375 134.759062 \nC 141.96375 134.759062 141.96375 134.759062 141.96375 134.759062 \nC 141.96375 134.759062 141.96375 134.759062 141.96375 134.759062 \nC 141.96375 134.759062 141.96375 134.759062 141.96375 134.759062 \nC 141.96375 134.759062 141.96375 134.759062 141.96375 134.759062 \nC 141.96375 134.759062 141.96375 134.759062 141.96375 134.759062 \nC 141.96375 134.759062 141.96375 134.759062 141.96375 134.759062 \nC 141.96375 134.759062 141.96375 134.759062 141.96375 134.759062 \nM 250.68375 134.759062 \nz\n\" style=\"fill:#ffffff;\"/>\n   </g>\n   <g id=\"matplotlib.axis_1\">\n    <g id=\"xtick_1\">\n     <g id=\"line2d_1\">\n      <path clip-path=\"url(#pf4d521454f)\" d=\"M 141.96375 134.759062 \nL 250.68375 134.759062 \n\" style=\"fill:none;stroke:#b0b0b0;stroke-linecap:square;stroke-width:0.8;\"/>\n     </g>\n     <g id=\"text_1\">\n      <!-- 0° -->\n      <defs>\n       <path d=\"M 31.78125 66.40625 \nQ 24.171875 66.40625 20.328125 58.90625 \nQ 16.5 51.421875 16.5 36.375 \nQ 16.5 21.390625 20.328125 13.890625 \nQ 24.171875 6.390625 31.78125 6.390625 \nQ 39.453125 6.390625 43.28125 13.890625 \nQ 47.125 21.390625 47.125 36.375 \nQ 47.125 51.421875 43.28125 58.90625 \nQ 39.453125 66.40625 31.78125 66.40625 \nz\nM 31.78125 74.21875 \nQ 44.046875 74.21875 50.515625 64.515625 \nQ 56.984375 54.828125 56.984375 36.375 \nQ 56.984375 17.96875 50.515625 8.265625 \nQ 44.046875 -1.421875 31.78125 -1.421875 \nQ 19.53125 -1.421875 13.0625 8.265625 \nQ 6.59375 17.96875 6.59375 36.375 \nQ 6.59375 54.828125 13.0625 64.515625 \nQ 19.53125 74.21875 31.78125 74.21875 \nz\n\" id=\"DejaVuSans-48\"/>\n       <path d=\"M 25 67.921875 \nQ 21.09375 67.921875 18.40625 65.203125 \nQ 15.71875 62.5 15.71875 58.59375 \nQ 15.71875 54.734375 18.40625 52.078125 \nQ 21.09375 49.421875 25 49.421875 \nQ 28.90625 49.421875 31.59375 52.078125 \nQ 34.28125 54.734375 34.28125 58.59375 \nQ 34.28125 62.453125 31.5625 65.1875 \nQ 28.859375 67.921875 25 67.921875 \nz\nM 25 74.21875 \nQ 28.125 74.21875 31 73.015625 \nQ 33.890625 71.828125 35.984375 69.578125 \nQ 38.234375 67.390625 39.359375 64.59375 \nQ 40.484375 61.8125 40.484375 58.59375 \nQ 40.484375 52.15625 35.96875 47.6875 \nQ 31.453125 43.21875 24.90625 43.21875 \nQ 18.3125 43.21875 13.90625 47.609375 \nQ 9.515625 52 9.515625 58.59375 \nQ 9.515625 65.140625 14 69.671875 \nQ 18.5 74.21875 25 74.21875 \nz\n\" id=\"DejaVuSans-176\"/>\n      </defs>\n      <g transform=\"translate(259.0025 137.518437)scale(0.1 -0.1)\">\n       <use xlink:href=\"#DejaVuSans-48\"/>\n       <use x=\"63.623047\" xlink:href=\"#DejaVuSans-176\"/>\n      </g>\n     </g>\n    </g>\n    <g id=\"xtick_2\">\n     <g id=\"line2d_2\">\n      <path clip-path=\"url(#pf4d521454f)\" d=\"M 141.96375 134.759062 \nL 218.840399 57.882413 \n\" style=\"fill:none;stroke:#b0b0b0;stroke-linecap:square;stroke-width:0.8;\"/>\n     </g>\n     <g id=\"text_2\">\n      <!-- 45° -->\n      <defs>\n       <path d=\"M 37.796875 64.3125 \nL 12.890625 25.390625 \nL 37.796875 25.390625 \nz\nM 35.203125 72.90625 \nL 47.609375 72.90625 \nL 47.609375 25.390625 \nL 58.015625 25.390625 \nL 58.015625 17.1875 \nL 47.609375 17.1875 \nL 47.609375 0 \nL 37.796875 0 \nL 37.796875 17.1875 \nL 4.890625 17.1875 \nL 4.890625 26.703125 \nz\n\" id=\"DejaVuSans-52\"/>\n       <path d=\"M 10.796875 72.90625 \nL 49.515625 72.90625 \nL 49.515625 64.59375 \nL 19.828125 64.59375 \nL 19.828125 46.734375 \nQ 21.96875 47.46875 24.109375 47.828125 \nQ 26.265625 48.1875 28.421875 48.1875 \nQ 40.625 48.1875 47.75 41.5 \nQ 54.890625 34.8125 54.890625 23.390625 \nQ 54.890625 11.625 47.5625 5.09375 \nQ 40.234375 -1.421875 26.90625 -1.421875 \nQ 22.3125 -1.421875 17.546875 -0.640625 \nQ 12.796875 0.140625 7.71875 1.703125 \nL 7.71875 11.625 \nQ 12.109375 9.234375 16.796875 8.0625 \nQ 21.484375 6.890625 26.703125 6.890625 \nQ 35.15625 6.890625 40.078125 11.328125 \nQ 45.015625 15.765625 45.015625 23.390625 \nQ 45.015625 31 40.078125 35.4375 \nQ 35.15625 39.890625 26.703125 39.890625 \nQ 22.75 39.890625 18.8125 39.015625 \nQ 14.890625 38.140625 10.796875 36.28125 \nz\n\" id=\"DejaVuSans-53\"/>\n      </defs>\n      <g transform=\"translate(219.877394 50.742293)scale(0.1 -0.1)\">\n       <use xlink:href=\"#DejaVuSans-52\"/>\n       <use x=\"63.623047\" xlink:href=\"#DejaVuSans-53\"/>\n       <use x=\"127.246094\" xlink:href=\"#DejaVuSans-176\"/>\n      </g>\n     </g>\n    </g>\n    <g id=\"xtick_3\">\n     <g id=\"line2d_3\">\n      <path clip-path=\"url(#pf4d521454f)\" d=\"M 141.96375 134.759062 \nL 141.96375 26.039062 \n\" style=\"fill:none;stroke:#b0b0b0;stroke-linecap:square;stroke-width:0.8;\"/>\n     </g>\n     <g id=\"text_3\">\n      <!-- 90° -->\n      <defs>\n       <path d=\"M 10.984375 1.515625 \nL 10.984375 10.5 \nQ 14.703125 8.734375 18.5 7.8125 \nQ 22.3125 6.890625 25.984375 6.890625 \nQ 35.75 6.890625 40.890625 13.453125 \nQ 46.046875 20.015625 46.78125 33.40625 \nQ 43.953125 29.203125 39.59375 26.953125 \nQ 35.25 24.703125 29.984375 24.703125 \nQ 19.046875 24.703125 12.671875 31.3125 \nQ 6.296875 37.9375 6.296875 49.421875 \nQ 6.296875 60.640625 12.9375 67.421875 \nQ 19.578125 74.21875 30.609375 74.21875 \nQ 43.265625 74.21875 49.921875 64.515625 \nQ 56.59375 54.828125 56.59375 36.375 \nQ 56.59375 19.140625 48.40625 8.859375 \nQ 40.234375 -1.421875 26.421875 -1.421875 \nQ 22.703125 -1.421875 18.890625 -0.6875 \nQ 15.09375 0.046875 10.984375 1.515625 \nz\nM 30.609375 32.421875 \nQ 37.25 32.421875 41.125 36.953125 \nQ 45.015625 41.5 45.015625 49.421875 \nQ 45.015625 57.28125 41.125 61.84375 \nQ 37.25 66.40625 30.609375 66.40625 \nQ 23.96875 66.40625 20.09375 61.84375 \nQ 16.21875 57.28125 16.21875 49.421875 \nQ 16.21875 41.5 20.09375 36.953125 \nQ 23.96875 32.421875 30.609375 32.421875 \nz\n\" id=\"DejaVuSans-57\"/>\n      </defs>\n      <g transform=\"translate(133.10125 14.798437)scale(0.1 -0.1)\">\n       <use xlink:href=\"#DejaVuSans-57\"/>\n       <use x=\"63.623047\" xlink:href=\"#DejaVuSans-48\"/>\n       <use x=\"127.246094\" xlink:href=\"#DejaVuSans-176\"/>\n      </g>\n     </g>\n    </g>\n    <g id=\"xtick_4\">\n     <g id=\"line2d_4\">\n      <path clip-path=\"url(#pf4d521454f)\" d=\"M 141.96375 134.759062 \nL 65.087101 57.882413 \n\" style=\"fill:none;stroke:#b0b0b0;stroke-linecap:square;stroke-width:0.8;\"/>\n     </g>\n     <g id=\"text_4\">\n      <!-- 135° -->\n      <defs>\n       <path d=\"M 12.40625 8.296875 \nL 28.515625 8.296875 \nL 28.515625 63.921875 \nL 10.984375 60.40625 \nL 10.984375 69.390625 \nL 28.421875 72.90625 \nL 38.28125 72.90625 \nL 38.28125 8.296875 \nL 54.390625 8.296875 \nL 54.390625 0 \nL 12.40625 0 \nz\n\" id=\"DejaVuSans-49\"/>\n       <path d=\"M 40.578125 39.3125 \nQ 47.65625 37.796875 51.625 33 \nQ 55.609375 28.21875 55.609375 21.1875 \nQ 55.609375 10.40625 48.1875 4.484375 \nQ 40.765625 -1.421875 27.09375 -1.421875 \nQ 22.515625 -1.421875 17.65625 -0.515625 \nQ 12.796875 0.390625 7.625 2.203125 \nL 7.625 11.71875 \nQ 11.71875 9.328125 16.59375 8.109375 \nQ 21.484375 6.890625 26.8125 6.890625 \nQ 36.078125 6.890625 40.9375 10.546875 \nQ 45.796875 14.203125 45.796875 21.1875 \nQ 45.796875 27.640625 41.28125 31.265625 \nQ 36.765625 34.90625 28.71875 34.90625 \nL 20.21875 34.90625 \nL 20.21875 43.015625 \nL 29.109375 43.015625 \nQ 36.375 43.015625 40.234375 45.921875 \nQ 44.09375 48.828125 44.09375 54.296875 \nQ 44.09375 59.90625 40.109375 62.90625 \nQ 36.140625 65.921875 28.71875 65.921875 \nQ 24.65625 65.921875 20.015625 65.03125 \nQ 15.375 64.15625 9.8125 62.3125 \nL 9.8125 71.09375 \nQ 15.4375 72.65625 20.34375 73.4375 \nQ 25.25 74.21875 29.59375 74.21875 \nQ 40.828125 74.21875 47.359375 69.109375 \nQ 53.90625 64.015625 53.90625 55.328125 \nQ 53.90625 49.265625 50.4375 45.09375 \nQ 46.96875 40.921875 40.578125 39.3125 \nz\n\" id=\"DejaVuSans-51\"/>\n      </defs>\n      <g transform=\"translate(43.143856 50.742293)scale(0.1 -0.1)\">\n       <use xlink:href=\"#DejaVuSans-49\"/>\n       <use x=\"63.623047\" xlink:href=\"#DejaVuSans-51\"/>\n       <use x=\"127.246094\" xlink:href=\"#DejaVuSans-53\"/>\n       <use x=\"190.869141\" xlink:href=\"#DejaVuSans-176\"/>\n      </g>\n     </g>\n    </g>\n    <g id=\"xtick_5\">\n     <g id=\"line2d_5\">\n      <path clip-path=\"url(#pf4d521454f)\" d=\"M 141.96375 134.759062 \nL 33.24375 134.759062 \n\" style=\"fill:none;stroke:#b0b0b0;stroke-linecap:square;stroke-width:0.8;\"/>\n     </g>\n     <g id=\"text_5\">\n      <!-- 180° -->\n      <defs>\n       <path d=\"M 31.78125 34.625 \nQ 24.75 34.625 20.71875 30.859375 \nQ 16.703125 27.09375 16.703125 20.515625 \nQ 16.703125 13.921875 20.71875 10.15625 \nQ 24.75 6.390625 31.78125 6.390625 \nQ 38.8125 6.390625 42.859375 10.171875 \nQ 46.921875 13.96875 46.921875 20.515625 \nQ 46.921875 27.09375 42.890625 30.859375 \nQ 38.875 34.625 31.78125 34.625 \nz\nM 21.921875 38.8125 \nQ 15.578125 40.375 12.03125 44.71875 \nQ 8.5 49.078125 8.5 55.328125 \nQ 8.5 64.0625 14.71875 69.140625 \nQ 20.953125 74.21875 31.78125 74.21875 \nQ 42.671875 74.21875 48.875 69.140625 \nQ 55.078125 64.0625 55.078125 55.328125 \nQ 55.078125 49.078125 51.53125 44.71875 \nQ 48 40.375 41.703125 38.8125 \nQ 48.828125 37.15625 52.796875 32.3125 \nQ 56.78125 27.484375 56.78125 20.515625 \nQ 56.78125 9.90625 50.3125 4.234375 \nQ 43.84375 -1.421875 31.78125 -1.421875 \nQ 19.734375 -1.421875 13.25 4.234375 \nQ 6.78125 9.90625 6.78125 20.515625 \nQ 6.78125 27.484375 10.78125 32.3125 \nQ 14.796875 37.15625 21.921875 38.8125 \nz\nM 18.3125 54.390625 \nQ 18.3125 48.734375 21.84375 45.5625 \nQ 25.390625 42.390625 31.78125 42.390625 \nQ 38.140625 42.390625 41.71875 45.5625 \nQ 45.3125 48.734375 45.3125 54.390625 \nQ 45.3125 60.0625 41.71875 63.234375 \nQ 38.140625 66.40625 31.78125 66.40625 \nQ 25.390625 66.40625 21.84375 63.234375 \nQ 18.3125 60.0625 18.3125 54.390625 \nz\n\" id=\"DejaVuSans-56\"/>\n      </defs>\n      <g transform=\"translate(7.2 137.518437)scale(0.1 -0.1)\">\n       <use xlink:href=\"#DejaVuSans-49\"/>\n       <use x=\"63.623047\" xlink:href=\"#DejaVuSans-56\"/>\n       <use x=\"127.246094\" xlink:href=\"#DejaVuSans-48\"/>\n       <use x=\"190.869141\" xlink:href=\"#DejaVuSans-176\"/>\n      </g>\n     </g>\n    </g>\n    <g id=\"xtick_6\">\n     <g id=\"line2d_6\">\n      <path clip-path=\"url(#pf4d521454f)\" d=\"M 141.96375 134.759062 \nL 65.087101 211.635712 \n\" style=\"fill:none;stroke:#b0b0b0;stroke-linecap:square;stroke-width:0.8;\"/>\n     </g>\n     <g id=\"text_6\">\n      <!-- 225° -->\n      <defs>\n       <path d=\"M 19.1875 8.296875 \nL 53.609375 8.296875 \nL 53.609375 0 \nL 7.328125 0 \nL 7.328125 8.296875 \nQ 12.9375 14.109375 22.625 23.890625 \nQ 32.328125 33.6875 34.8125 36.53125 \nQ 39.546875 41.84375 41.421875 45.53125 \nQ 43.3125 49.21875 43.3125 52.78125 \nQ 43.3125 58.59375 39.234375 62.25 \nQ 35.15625 65.921875 28.609375 65.921875 \nQ 23.96875 65.921875 18.8125 64.3125 \nQ 13.671875 62.703125 7.8125 59.421875 \nL 7.8125 69.390625 \nQ 13.765625 71.78125 18.9375 73 \nQ 24.125 74.21875 28.421875 74.21875 \nQ 39.75 74.21875 46.484375 68.546875 \nQ 53.21875 62.890625 53.21875 53.421875 \nQ 53.21875 48.921875 51.53125 44.890625 \nQ 49.859375 40.875 45.40625 35.40625 \nQ 44.1875 33.984375 37.640625 27.21875 \nQ 31.109375 20.453125 19.1875 8.296875 \nz\n\" id=\"DejaVuSans-50\"/>\n      </defs>\n      <g transform=\"translate(43.143856 224.294582)scale(0.1 -0.1)\">\n       <use xlink:href=\"#DejaVuSans-50\"/>\n       <use x=\"63.623047\" xlink:href=\"#DejaVuSans-50\"/>\n       <use x=\"127.246094\" xlink:href=\"#DejaVuSans-53\"/>\n       <use x=\"190.869141\" xlink:href=\"#DejaVuSans-176\"/>\n      </g>\n     </g>\n    </g>\n    <g id=\"xtick_7\">\n     <g id=\"line2d_7\">\n      <path clip-path=\"url(#pf4d521454f)\" d=\"M 141.96375 134.759062 \nL 141.96375 243.479062 \n\" style=\"fill:none;stroke:#b0b0b0;stroke-linecap:square;stroke-width:0.8;\"/>\n     </g>\n     <g id=\"text_7\">\n      <!-- 270° -->\n      <defs>\n       <path d=\"M 8.203125 72.90625 \nL 55.078125 72.90625 \nL 55.078125 68.703125 \nL 28.609375 0 \nL 18.3125 0 \nL 43.21875 64.59375 \nL 8.203125 64.59375 \nz\n\" id=\"DejaVuSans-55\"/>\n      </defs>\n      <g transform=\"translate(129.92 260.238437)scale(0.1 -0.1)\">\n       <use xlink:href=\"#DejaVuSans-50\"/>\n       <use x=\"63.623047\" xlink:href=\"#DejaVuSans-55\"/>\n       <use x=\"127.246094\" xlink:href=\"#DejaVuSans-48\"/>\n       <use x=\"190.869141\" xlink:href=\"#DejaVuSans-176\"/>\n      </g>\n     </g>\n    </g>\n    <g id=\"xtick_8\">\n     <g id=\"line2d_8\">\n      <path clip-path=\"url(#pf4d521454f)\" d=\"M 141.96375 134.759062 \nL 218.840399 211.635712 \n\" style=\"fill:none;stroke:#b0b0b0;stroke-linecap:square;stroke-width:0.8;\"/>\n     </g>\n     <g id=\"text_8\">\n      <!-- 315° -->\n      <g transform=\"translate(216.696144 224.294582)scale(0.1 -0.1)\">\n       <use xlink:href=\"#DejaVuSans-51\"/>\n       <use x=\"63.623047\" xlink:href=\"#DejaVuSans-49\"/>\n       <use x=\"127.246094\" xlink:href=\"#DejaVuSans-53\"/>\n       <use x=\"190.869141\" xlink:href=\"#DejaVuSans-176\"/>\n      </g>\n     </g>\n    </g>\n   </g>\n   <g id=\"matplotlib.axis_2\">\n    <g id=\"ytick_1\">\n     <g id=\"line2d_9\">\n      <path clip-path=\"url(#pf4d521454f)\" d=\"M 155.175759 134.759062 \nL 155.04718 132.920306 \nL 154.663948 131.117339 \nL 154.033521 129.385254 \nL 153.168169 127.757765 \nL 152.084736 126.266547 \nL 150.804309 124.940627 \nL 149.351812 123.805811 \nL 147.755513 122.884188 \nL 146.046485 122.193695 \nL 144.257991 121.747774 \nL 142.424842 121.555102 \nL 140.582719 121.61943 \nL 138.767476 121.939507 \nL 137.014444 122.509101 \nL 135.357746 123.317127 \nL 133.829625 124.347858 \nL 132.459826 125.58123 \nL 131.27501 126.993239 \nL 130.298239 128.5564 \nL 129.548523 130.240289 \nL 129.040455 132.012131 \nL 128.783925 133.837439 \nL 128.783925 135.680686 \nL 129.040455 137.505994 \nL 129.548523 139.277836 \nL 130.298239 140.961725 \nL 131.27501 142.524886 \nL 132.459826 143.936895 \nL 133.829625 145.170267 \nL 135.357746 146.200998 \nL 137.014444 147.009024 \nL 138.767476 147.578618 \nL 140.582719 147.898695 \nL 142.424842 147.963023 \nL 144.257991 147.770351 \nL 146.046485 147.32443 \nL 147.755513 146.633937 \nL 149.351812 145.712314 \nL 150.804309 144.577498 \nL 152.084736 143.251578 \nL 153.168169 141.76036 \nL 154.033521 140.132871 \nL 154.663948 138.400786 \nL 155.04718 136.597819 \nL 155.175759 134.759062 \nL 155.175759 134.759062 \n\" style=\"fill:none;stroke:#b0b0b0;stroke-linecap:square;stroke-width:0.8;\"/>\n     </g>\n     <g id=\"text_9\">\n      <!-- 0.25 -->\n      <defs>\n       <path d=\"M 10.6875 12.40625 \nL 21 12.40625 \nL 21 0 \nL 10.6875 0 \nz\n\" id=\"DejaVuSans-46\"/>\n      </defs>\n      <g transform=\"translate(154.170054 127.623358)scale(0.1 -0.1)\">\n       <use xlink:href=\"#DejaVuSans-48\"/>\n       <use x=\"63.623047\" xlink:href=\"#DejaVuSans-46\"/>\n       <use x=\"95.410156\" xlink:href=\"#DejaVuSans-50\"/>\n       <use x=\"159.033203\" xlink:href=\"#DejaVuSans-53\"/>\n      </g>\n     </g>\n    </g>\n    <g id=\"ytick_2\">\n     <g id=\"line2d_10\">\n      <path clip-path=\"url(#pf4d521454f)\" d=\"M 168.387768 134.759062 \nL 168.243014 131.997001 \nL 167.810339 129.2652 \nL 167.094484 126.593592 \nL 166.103291 124.011446 \nL 164.84762 121.547054 \nL 163.341229 119.227415 \nL 161.600622 117.077944 \nL 159.644869 115.122191 \nL 157.495398 113.381583 \nL 155.175759 111.875192 \nL 152.711366 110.619521 \nL 150.12922 109.628328 \nL 147.457612 108.912473 \nL 144.725812 108.479798 \nL 141.96375 108.335045 \nL 139.201688 108.479798 \nL 136.469888 108.912473 \nL 133.79828 109.628328 \nL 131.216134 110.619521 \nL 128.751741 111.875192 \nL 126.432102 113.381583 \nL 124.282631 115.122191 \nL 122.326878 117.077944 \nL 120.586271 119.227415 \nL 119.07988 121.547054 \nL 117.824209 124.011446 \nL 116.833016 126.593592 \nL 116.117161 129.2652 \nL 115.684486 131.997001 \nL 115.539732 134.759062 \nL 115.684486 137.521124 \nL 116.117161 140.252925 \nL 116.833016 142.924533 \nL 117.824209 145.506679 \nL 119.07988 147.971071 \nL 120.586271 150.29071 \nL 122.326878 152.440181 \nL 124.282631 154.395934 \nL 126.432102 156.136542 \nL 128.751741 157.642933 \nL 131.216134 158.898604 \nL 133.79828 159.889797 \nL 136.469888 160.605652 \nL 139.201688 161.038327 \nL 141.96375 161.18308 \nL 144.725812 161.038327 \nL 147.457612 160.605652 \nL 150.12922 159.889797 \nL 152.711366 158.898604 \nL 155.175759 157.642933 \nL 157.495398 156.136542 \nL 159.644869 154.395934 \nL 161.600622 152.440181 \nL 163.341229 150.29071 \nL 164.84762 147.971071 \nL 166.103291 145.506679 \nL 167.094484 142.924533 \nL 167.810339 140.252925 \nL 168.243014 137.521124 \nL 168.387768 134.759062 \nL 168.387768 134.759062 \n\" style=\"fill:none;stroke:#b0b0b0;stroke-linecap:square;stroke-width:0.8;\"/>\n     </g>\n     <g id=\"text_10\">\n      <!-- 0.50 -->\n      <g transform=\"translate(166.376359 122.567341)scale(0.1 -0.1)\">\n       <use xlink:href=\"#DejaVuSans-48\"/>\n       <use x=\"63.623047\" xlink:href=\"#DejaVuSans-46\"/>\n       <use x=\"95.410156\" xlink:href=\"#DejaVuSans-53\"/>\n       <use x=\"159.033203\" xlink:href=\"#DejaVuSans-48\"/>\n      </g>\n     </g>\n    </g>\n    <g id=\"ytick_3\">\n     <g id=\"line2d_11\">\n      <path clip-path=\"url(#pf4d521454f)\" d=\"M 181.599776 134.759062 \nL 181.503225 131.994193 \nL 181.214041 129.242794 \nL 180.733634 126.518269 \nL 180.064344 123.833893 \nL 179.209431 121.202743 \nL 178.173062 118.637638 \nL 176.960284 116.151075 \nL 175.577007 113.755169 \nL 174.029969 111.461591 \nL 172.326708 109.281516 \nL 170.475521 107.225565 \nL 168.485428 105.303755 \nL 166.366124 103.525448 \nL 164.127935 101.899307 \nL 161.781763 100.433257 \nL 159.33904 99.134438 \nL 156.811667 98.009179 \nL 154.211956 97.062961 \nL 151.552573 96.300396 \nL 148.846474 95.725196 \nL 146.106843 95.340166 \nL 143.347027 95.147181 \nL 140.580473 95.147181 \nL 137.820657 95.340166 \nL 135.081026 95.725196 \nL 132.374927 96.300396 \nL 129.715544 97.062961 \nL 127.115833 98.009179 \nL 124.58846 99.134438 \nL 122.145737 100.433257 \nL 119.799565 101.899307 \nL 117.561376 103.525448 \nL 115.442072 105.303755 \nL 113.451979 107.225565 \nL 111.600792 109.281516 \nL 109.897531 111.461591 \nL 108.350493 113.755169 \nL 106.967216 116.151075 \nL 105.754438 118.637638 \nL 104.718069 121.202743 \nL 103.863156 123.833893 \nL 103.193866 126.518269 \nL 102.713459 129.242794 \nL 102.424275 131.994193 \nL 102.327724 134.759062 \nL 102.424275 137.523932 \nL 102.713459 140.275331 \nL 103.193866 142.999856 \nL 103.863156 145.684232 \nL 104.718069 148.315382 \nL 105.754438 150.880487 \nL 106.967216 153.36705 \nL 108.350493 155.762956 \nL 109.897531 158.056534 \nL 111.600792 160.236609 \nL 113.451979 162.29256 \nL 115.442072 164.21437 \nL 117.561376 165.992677 \nL 119.799565 167.618818 \nL 122.145737 169.084868 \nL 124.58846 170.383687 \nL 127.115833 171.508946 \nL 129.715544 172.455164 \nL 132.374927 173.217729 \nL 135.081026 173.792929 \nL 137.820657 174.177959 \nL 140.580473 174.370944 \nL 143.347027 174.370944 \nL 146.106843 174.177959 \nL 148.846474 173.792929 \nL 151.552573 173.217729 \nL 154.211956 172.455164 \nL 156.811667 171.508946 \nL 159.33904 170.383687 \nL 161.781763 169.084868 \nL 164.127935 167.618818 \nL 166.366124 165.992677 \nL 168.485428 164.21437 \nL 170.475521 162.29256 \nL 172.326708 160.236609 \nL 174.029969 158.056534 \nL 175.577007 155.762956 \nL 176.960284 153.36705 \nL 178.173062 150.880487 \nL 179.209431 148.315382 \nL 180.064344 145.684232 \nL 180.733634 142.999856 \nL 181.214041 140.275331 \nL 181.503225 137.523932 \nL 181.599776 134.759062 \nL 181.599776 134.759062 \n\" style=\"fill:none;stroke:#b0b0b0;stroke-linecap:square;stroke-width:0.8;\"/>\n     </g>\n     <g id=\"text_11\">\n      <!-- 0.75 -->\n      <g transform=\"translate(178.582663 117.511324)scale(0.1 -0.1)\">\n       <use xlink:href=\"#DejaVuSans-48\"/>\n       <use x=\"63.623047\" xlink:href=\"#DejaVuSans-46\"/>\n       <use x=\"95.410156\" xlink:href=\"#DejaVuSans-55\"/>\n       <use x=\"159.033203\" xlink:href=\"#DejaVuSans-53\"/>\n      </g>\n     </g>\n    </g>\n    <g id=\"ytick_4\">\n     <g id=\"line2d_12\">\n      <path clip-path=\"url(#pf4d521454f)\" d=\"M 194.811785 134.759062 \nL 194.68305 131.07257 \nL 194.297472 127.404038 \nL 193.656929 123.771338 \nL 192.764542 120.19217 \nL 191.624659 116.68397 \nL 190.242832 113.26383 \nL 188.625795 109.948413 \nL 186.781426 106.753871 \nL 184.718709 103.695767 \nL 182.447694 100.789 \nL 179.979445 98.047733 \nL 177.325988 95.485319 \nL 174.500249 93.114243 \nL 171.515996 90.946056 \nL 168.387768 88.991322 \nL 165.130804 87.259563 \nL 161.760972 85.759218 \nL 158.294691 84.497594 \nL 154.748847 83.48084 \nL 151.140715 82.713908 \nL 147.487874 82.200534 \nL 143.80812 81.943221 \nL 140.11938 81.943221 \nL 136.439626 82.200534 \nL 132.786785 82.713908 \nL 129.178653 83.48084 \nL 125.632809 84.497594 \nL 122.166528 85.759218 \nL 118.796696 87.259563 \nL 115.539732 88.991322 \nL 112.411504 90.946056 \nL 109.427251 93.114243 \nL 106.601512 95.485319 \nL 103.948055 98.047733 \nL 101.479806 100.789 \nL 99.208791 103.695767 \nL 97.146074 106.753871 \nL 95.301705 109.948413 \nL 93.684668 113.26383 \nL 92.302841 116.68397 \nL 91.162958 120.19217 \nL 90.270571 123.771338 \nL 89.630028 127.404038 \nL 89.24445 131.07257 \nL 89.115715 134.759062 \nL 89.24445 138.445555 \nL 89.630028 142.114087 \nL 90.270571 145.746787 \nL 91.162958 149.325955 \nL 92.302841 152.834155 \nL 93.684668 156.254295 \nL 95.301705 159.569712 \nL 97.146074 162.764254 \nL 99.208791 165.822358 \nL 101.479806 168.729125 \nL 103.948055 171.470392 \nL 106.601512 174.032806 \nL 109.427251 176.403882 \nL 112.411504 178.572069 \nL 115.539732 180.526803 \nL 118.796696 182.258562 \nL 122.166528 183.758907 \nL 125.632809 185.020531 \nL 129.178653 186.037285 \nL 132.786785 186.804217 \nL 136.439626 187.317591 \nL 140.11938 187.574904 \nL 143.80812 187.574904 \nL 147.487874 187.317591 \nL 151.140715 186.804217 \nL 154.748847 186.037285 \nL 158.294691 185.020531 \nL 161.760972 183.758907 \nL 165.130804 182.258562 \nL 168.387768 180.526803 \nL 171.515996 178.572069 \nL 174.500249 176.403882 \nL 177.325988 174.032806 \nL 179.979445 171.470392 \nL 182.447694 168.729125 \nL 184.718709 165.822358 \nL 186.781426 162.764254 \nL 188.625795 159.569712 \nL 190.242832 156.254295 \nL 191.624659 152.834155 \nL 192.764542 149.325955 \nL 193.656929 145.746787 \nL 194.297472 142.114087 \nL 194.68305 138.445555 \nL 194.811785 134.759062 \nL 194.811785 134.759062 \n\" style=\"fill:none;stroke:#b0b0b0;stroke-linecap:square;stroke-width:0.8;\"/>\n     </g>\n     <g id=\"text_12\">\n      <!-- 1.00 -->\n      <g transform=\"translate(190.788968 112.455308)scale(0.1 -0.1)\">\n       <use xlink:href=\"#DejaVuSans-49\"/>\n       <use x=\"63.623047\" xlink:href=\"#DejaVuSans-46\"/>\n       <use x=\"95.410156\" xlink:href=\"#DejaVuSans-48\"/>\n       <use x=\"159.033203\" xlink:href=\"#DejaVuSans-48\"/>\n      </g>\n     </g>\n    </g>\n    <g id=\"ytick_5\">\n     <g id=\"line2d_13\">\n      <path clip-path=\"url(#pf4d521454f)\" d=\"M 208.023794 134.759062 \nL 207.862875 130.150947 \nL 207.380902 125.565281 \nL 206.580223 121.024407 \nL 205.46474 116.550447 \nL 204.039886 112.165197 \nL 202.312603 107.890022 \nL 200.291307 103.74575 \nL 197.985844 99.752573 \nL 195.407448 95.929943 \nL 192.56868 92.296485 \nL 189.483369 88.8699 \nL 186.166547 85.666883 \nL 182.634374 82.703038 \nL 178.904058 79.992804 \nL 174.993772 77.549386 \nL 170.922567 75.384688 \nL 166.710278 73.509256 \nL 162.377426 71.932227 \nL 157.945121 70.661284 \nL 153.434956 69.702619 \nL 148.868905 69.060902 \nL 144.269212 68.739261 \nL 139.658288 68.739261 \nL 135.058595 69.060902 \nL 130.492544 69.702619 \nL 125.982379 70.661284 \nL 121.550074 71.932227 \nL 117.217222 73.509256 \nL 113.004933 75.384688 \nL 108.933728 77.549386 \nL 105.023442 79.992804 \nL 101.293126 82.703038 \nL 97.760953 85.666883 \nL 94.444131 88.8699 \nL 91.35882 92.296485 \nL 88.520052 95.929943 \nL 85.941656 99.752573 \nL 83.636193 103.74575 \nL 81.614897 107.890022 \nL 79.887614 112.165197 \nL 78.46276 116.550447 \nL 77.347277 121.024407 \nL 76.546598 125.565281 \nL 76.064625 130.150947 \nL 75.903706 134.759062 \nL 76.064625 139.367178 \nL 76.546598 143.952844 \nL 77.347277 148.493718 \nL 78.46276 152.967678 \nL 79.887614 157.352928 \nL 81.614897 161.628103 \nL 83.636193 165.772375 \nL 85.941656 169.765552 \nL 88.520052 173.588182 \nL 91.35882 177.22164 \nL 94.444131 180.648225 \nL 97.760953 183.851242 \nL 101.293126 186.815087 \nL 105.023442 189.525321 \nL 108.933728 191.968739 \nL 113.004933 194.133437 \nL 117.217222 196.008869 \nL 121.550074 197.585898 \nL 125.982379 198.856841 \nL 130.492544 199.815506 \nL 135.058595 200.457223 \nL 139.658288 200.778864 \nL 144.269212 200.778864 \nL 148.868905 200.457223 \nL 153.434956 199.815506 \nL 157.945121 198.856841 \nL 162.377426 197.585898 \nL 166.710278 196.008869 \nL 170.922567 194.133437 \nL 174.993772 191.968739 \nL 178.904058 189.525321 \nL 182.634374 186.815087 \nL 186.166547 183.851242 \nL 189.483369 180.648225 \nL 192.56868 177.22164 \nL 195.407448 173.588182 \nL 197.985844 169.765552 \nL 200.291307 165.772375 \nL 202.312603 161.628103 \nL 204.039886 157.352928 \nL 205.46474 152.967678 \nL 206.580223 148.493718 \nL 207.380902 143.952844 \nL 207.862875 139.367178 \nL 208.023794 134.759062 \nL 208.023794 134.759062 \n\" style=\"fill:none;stroke:#b0b0b0;stroke-linecap:square;stroke-width:0.8;\"/>\n     </g>\n     <g id=\"text_13\">\n      <!-- 1.25 -->\n      <g transform=\"translate(202.995272 107.399291)scale(0.1 -0.1)\">\n       <use xlink:href=\"#DejaVuSans-49\"/>\n       <use x=\"63.623047\" xlink:href=\"#DejaVuSans-46\"/>\n       <use x=\"95.410156\" xlink:href=\"#DejaVuSans-50\"/>\n       <use x=\"159.033203\" xlink:href=\"#DejaVuSans-53\"/>\n      </g>\n     </g>\n    </g>\n    <g id=\"ytick_6\">\n     <g id=\"line2d_14\">\n      <path clip-path=\"url(#pf4d521454f)\" d=\"M 221.235803 134.759062 \nL 221.0427 129.229324 \nL 220.464332 123.726525 \nL 219.503518 118.277476 \nL 218.164938 112.908724 \nL 216.455113 107.646424 \nL 214.382374 102.516214 \nL 211.956818 97.543088 \nL 209.190263 92.751275 \nL 206.096188 88.164119 \nL 202.689665 83.803969 \nL 198.987293 79.692068 \nL 195.007107 75.848447 \nL 190.768499 72.291833 \nL 186.292119 69.039552 \nL 181.599776 66.107451 \nL 176.714331 63.509814 \nL 171.659584 61.259295 \nL 166.460161 59.36686 \nL 161.141395 57.841729 \nL 155.729197 56.69133 \nL 150.249936 55.92127 \nL 144.730305 55.5353 \nL 139.197195 55.5353 \nL 133.677564 55.92127 \nL 128.198303 56.69133 \nL 122.786105 57.841729 \nL 117.467339 59.36686 \nL 112.267916 61.259295 \nL 107.213169 63.509814 \nL 102.327724 66.107451 \nL 97.635381 69.039552 \nL 93.159001 72.291833 \nL 88.920393 75.848447 \nL 84.940207 79.692068 \nL 81.237835 83.803969 \nL 77.831312 88.164119 \nL 74.737237 92.751275 \nL 71.970682 97.543088 \nL 69.545126 102.516214 \nL 67.472387 107.646424 \nL 65.762562 112.908724 \nL 64.423982 118.277476 \nL 63.463168 123.726525 \nL 62.8848 129.229324 \nL 62.691697 134.759062 \nL 62.8848 140.288801 \nL 63.463168 145.7916 \nL 64.423982 151.240649 \nL 65.762562 156.609401 \nL 67.472387 161.871701 \nL 69.545126 167.001911 \nL 71.970682 171.975037 \nL 74.737237 176.76685 \nL 77.831312 181.354006 \nL 81.237835 185.714156 \nL 84.940207 189.826057 \nL 88.920393 193.669678 \nL 93.159001 197.226292 \nL 97.635381 200.478573 \nL 102.327724 203.410674 \nL 107.213169 206.008311 \nL 112.267916 208.25883 \nL 117.467339 210.151265 \nL 122.786105 211.676396 \nL 128.198303 212.826795 \nL 133.677564 213.596855 \nL 139.197195 213.982825 \nL 144.730305 213.982825 \nL 150.249936 213.596855 \nL 155.729197 212.826795 \nL 161.141395 211.676396 \nL 166.460161 210.151265 \nL 171.659584 208.25883 \nL 176.714331 206.008311 \nL 181.599776 203.410674 \nL 186.292119 200.478573 \nL 190.768499 197.226292 \nL 195.007107 193.669678 \nL 198.987293 189.826057 \nL 202.689665 185.714156 \nL 206.096188 181.354006 \nL 209.190263 176.76685 \nL 211.956818 171.975037 \nL 214.382374 167.001911 \nL 216.455113 161.871701 \nL 218.164938 156.609401 \nL 219.503518 151.240649 \nL 220.464332 145.7916 \nL 221.0427 140.288801 \nL 221.235803 134.759062 \nL 221.235803 134.759062 \n\" style=\"fill:none;stroke:#b0b0b0;stroke-linecap:square;stroke-width:0.8;\"/>\n     </g>\n     <g id=\"text_14\">\n      <!-- 1.50 -->\n      <g transform=\"translate(215.201577 102.343274)scale(0.1 -0.1)\">\n       <use xlink:href=\"#DejaVuSans-49\"/>\n       <use x=\"63.623047\" xlink:href=\"#DejaVuSans-46\"/>\n       <use x=\"95.410156\" xlink:href=\"#DejaVuSans-53\"/>\n       <use x=\"159.033203\" xlink:href=\"#DejaVuSans-48\"/>\n      </g>\n     </g>\n    </g>\n    <g id=\"ytick_7\">\n     <g id=\"line2d_15\">\n      <path clip-path=\"url(#pf4d521454f)\" d=\"M 234.447811 134.759062 \nL 234.391473 131.531415 \nL 234.222525 128.3077 \nL 233.941174 125.091846 \nL 233.547763 121.887769 \nL 233.042771 118.699374 \nL 232.426813 115.530545 \nL 231.70064 112.385143 \nL 230.865136 109.267 \nL 229.921319 106.179916 \nL 228.87034 103.127651 \nL 227.713479 100.113923 \nL 226.452144 97.142406 \nL 225.087874 94.216718 \nL 223.622329 91.340426 \nL 222.057297 88.517032 \nL 220.394682 85.749977 \nL 218.636512 83.042632 \nL 216.784927 80.398295 \nL 214.842185 77.820189 \nL 212.810651 75.311454 \nL 210.692802 72.875146 \nL 208.491216 70.514235 \nL 206.208577 68.231596 \nL 203.847666 66.030011 \nL 201.411359 63.912161 \nL 198.902624 61.880628 \nL 196.324517 59.937885 \nL 193.680181 58.086301 \nL 190.972836 56.32813 \nL 188.205781 54.665516 \nL 185.382387 53.100483 \nL 182.506094 51.634939 \nL 179.580407 50.270668 \nL 176.608889 49.009334 \nL 173.595162 47.852472 \nL 170.542897 46.801493 \nL 167.455812 45.857677 \nL 164.337669 45.022173 \nL 161.192268 44.296 \nL 158.023439 43.680042 \nL 154.835044 43.17505 \nL 151.630967 42.781638 \nL 148.415112 42.500288 \nL 145.191397 42.33134 \nL 141.96375 42.275001 \nL 138.736103 42.33134 \nL 135.512388 42.500288 \nL 132.296533 42.781638 \nL 129.092456 43.17505 \nL 125.904061 43.680042 \nL 122.735232 44.296 \nL 119.589831 45.022173 \nL 116.471688 45.857677 \nL 113.384603 46.801493 \nL 110.332338 47.852472 \nL 107.318611 49.009334 \nL 104.347093 50.270668 \nL 101.421406 51.634939 \nL 98.545113 53.100483 \nL 95.721719 54.665516 \nL 92.954664 56.32813 \nL 90.247319 58.086301 \nL 87.602983 59.937885 \nL 85.024876 61.880628 \nL 82.516141 63.912161 \nL 80.079834 66.030011 \nL 77.718923 68.231596 \nL 75.436284 70.514235 \nL 73.234698 72.875146 \nL 71.116849 75.311454 \nL 69.085315 77.820189 \nL 67.142573 80.398295 \nL 65.290988 83.042632 \nL 63.532818 85.749977 \nL 61.870203 88.517032 \nL 60.305171 91.340426 \nL 58.839626 94.216718 \nL 57.475356 97.142406 \nL 56.214021 100.113923 \nL 55.05716 103.127651 \nL 54.006181 106.179916 \nL 53.062364 109.267 \nL 52.22686 112.385143 \nL 51.500687 115.530545 \nL 50.884729 118.699374 \nL 50.379737 121.887769 \nL 49.986326 125.091846 \nL 49.704975 128.3077 \nL 49.536027 131.531415 \nL 49.479689 134.759062 \nL 49.536027 137.98671 \nL 49.704975 141.210425 \nL 49.986326 144.426279 \nL 50.379737 147.630356 \nL 50.884729 150.818751 \nL 51.500687 153.98758 \nL 52.22686 157.132982 \nL 53.062364 160.251125 \nL 54.006181 163.338209 \nL 55.05716 166.390474 \nL 56.214021 169.404202 \nL 57.475356 172.375719 \nL 58.839626 175.301407 \nL 60.305171 178.177699 \nL 61.870203 181.001093 \nL 63.532818 183.768148 \nL 65.290988 186.475493 \nL 67.142573 189.11983 \nL 69.085315 191.697936 \nL 71.116849 194.206671 \nL 73.234698 196.642979 \nL 75.436284 199.00389 \nL 77.718923 201.286529 \nL 80.079834 203.488114 \nL 82.516141 205.605964 \nL 85.024876 207.637497 \nL 87.602983 209.58024 \nL 90.247319 211.431824 \nL 92.954664 213.189995 \nL 95.721719 214.852609 \nL 98.545113 216.417642 \nL 101.421406 217.883186 \nL 104.347093 219.247457 \nL 107.318611 220.508791 \nL 110.332338 221.665653 \nL 113.384603 222.716632 \nL 116.471688 223.660448 \nL 119.589831 224.495952 \nL 122.735232 225.222125 \nL 125.904061 225.838083 \nL 129.092456 226.343075 \nL 132.296533 226.736487 \nL 135.512388 227.017837 \nL 138.736103 227.186785 \nL 141.96375 227.243124 \nL 145.191397 227.186785 \nL 148.415112 227.017837 \nL 151.630967 226.736487 \nL 154.835044 226.343075 \nL 158.023439 225.838083 \nL 161.192268 225.222125 \nL 164.337669 224.495952 \nL 167.455812 223.660448 \nL 170.542897 222.716632 \nL 173.595162 221.665653 \nL 176.608889 220.508791 \nL 179.580407 219.247457 \nL 182.506094 217.883186 \nL 185.382387 216.417642 \nL 188.205781 214.852609 \nL 190.972836 213.189995 \nL 193.680181 211.431824 \nL 196.324517 209.58024 \nL 198.902624 207.637497 \nL 201.411359 205.605964 \nL 203.847666 203.488114 \nL 206.208577 201.286529 \nL 208.491216 199.00389 \nL 210.692802 196.642979 \nL 212.810651 194.206671 \nL 214.842185 191.697936 \nL 216.784927 189.11983 \nL 218.636512 186.475493 \nL 220.394682 183.768148 \nL 222.057297 181.001093 \nL 223.622329 178.177699 \nL 225.087874 175.301407 \nL 226.452144 172.375719 \nL 227.713479 169.404202 \nL 228.87034 166.390474 \nL 229.921319 163.338209 \nL 230.865136 160.251125 \nL 231.70064 157.132982 \nL 232.426813 153.98758 \nL 233.042771 150.818751 \nL 233.547763 147.630356 \nL 233.941174 144.426279 \nL 234.222525 141.210425 \nL 234.391473 137.98671 \nL 234.447811 134.759062 \nL 234.447811 134.759062 \n\" style=\"fill:none;stroke:#b0b0b0;stroke-linecap:square;stroke-width:0.8;\"/>\n     </g>\n     <g id=\"text_15\">\n      <!-- 1.75 -->\n      <g transform=\"translate(227.407881 97.287257)scale(0.1 -0.1)\">\n       <use xlink:href=\"#DejaVuSans-49\"/>\n       <use x=\"63.623047\" xlink:href=\"#DejaVuSans-46\"/>\n       <use x=\"95.410156\" xlink:href=\"#DejaVuSans-55\"/>\n       <use x=\"159.033203\" xlink:href=\"#DejaVuSans-53\"/>\n      </g>\n     </g>\n    </g>\n    <g id=\"ytick_8\">\n     <g id=\"line2d_16\">\n      <path clip-path=\"url(#pf4d521454f)\" d=\"M 247.65982 134.759062 \nL 247.595433 131.070323 \nL 247.40235 127.386077 \nL 247.080806 123.710815 \nL 246.631193 120.049013 \nL 246.054059 116.405133 \nL 245.350107 112.783614 \nL 244.520195 109.188869 \nL 243.565334 105.625277 \nL 242.486686 102.097181 \nL 241.285567 98.608877 \nL 239.96344 95.164618 \nL 238.521915 91.768598 \nL 236.962749 88.424955 \nL 235.287841 85.137763 \nL 233.499232 81.911027 \nL 231.599101 78.748679 \nL 229.589763 75.65457 \nL 227.473667 72.632471 \nL 225.25339 69.686064 \nL 222.931637 66.818938 \nL 220.511238 64.034587 \nL 217.99514 61.336403 \nL 215.38641 58.727672 \nL 212.688226 56.211575 \nL 209.903874 53.791175 \nL 207.036749 51.469423 \nL 204.090341 49.249145 \nL 201.068242 47.133049 \nL 197.974134 45.123711 \nL 194.811785 43.223581 \nL 191.585049 41.434972 \nL 188.297857 39.760064 \nL 184.954215 38.200898 \nL 181.558195 36.759373 \nL 178.113935 35.437245 \nL 174.625632 34.236126 \nL 171.097535 33.157479 \nL 167.533944 32.202617 \nL 163.939199 31.372705 \nL 160.31768 30.668753 \nL 156.6738 30.091619 \nL 153.011998 29.642006 \nL 149.336735 29.320463 \nL 145.65249 29.12738 \nL 141.96375 29.062992 \nL 138.27501 29.12738 \nL 134.590765 29.320463 \nL 130.915502 29.642006 \nL 127.2537 30.091619 \nL 123.60982 30.668753 \nL 119.988301 31.372705 \nL 116.393556 32.202617 \nL 112.829965 33.157479 \nL 109.301868 34.236126 \nL 105.813565 35.437245 \nL 102.369305 36.759373 \nL 98.973285 38.200898 \nL 95.629643 39.760064 \nL 92.342451 41.434972 \nL 89.115715 43.223581 \nL 85.953366 45.123711 \nL 82.859258 47.133049 \nL 79.837159 49.249145 \nL 76.890751 51.469423 \nL 74.023626 53.791175 \nL 71.239274 56.211575 \nL 68.54109 58.727672 \nL 65.93236 61.336403 \nL 63.416262 64.034587 \nL 60.995863 66.818938 \nL 58.67411 69.686064 \nL 56.453833 72.632471 \nL 54.337737 75.65457 \nL 52.328399 78.748679 \nL 50.428268 81.911027 \nL 48.639659 85.137763 \nL 46.964751 88.424955 \nL 45.405585 91.768598 \nL 43.96406 95.164618 \nL 42.641933 98.608877 \nL 41.440814 102.097181 \nL 40.362166 105.625277 \nL 39.407305 109.188869 \nL 38.577393 112.783614 \nL 37.873441 116.405133 \nL 37.296307 120.049013 \nL 36.846694 123.710815 \nL 36.52515 127.386077 \nL 36.332067 131.070323 \nL 36.26768 134.759062 \nL 36.332067 138.447802 \nL 36.52515 142.132048 \nL 36.846694 145.80731 \nL 37.296307 149.469112 \nL 37.873441 153.112992 \nL 38.577393 156.734511 \nL 39.407305 160.329256 \nL 40.362166 163.892848 \nL 41.440814 167.420944 \nL 42.641933 170.909248 \nL 43.96406 174.353507 \nL 45.405585 177.749527 \nL 46.964751 181.09317 \nL 48.639659 184.380362 \nL 50.428268 187.607098 \nL 52.328399 190.769446 \nL 54.337737 193.863555 \nL 56.453833 196.885654 \nL 58.67411 199.832061 \nL 60.995863 202.699187 \nL 63.416262 205.483538 \nL 65.93236 208.181722 \nL 68.54109 210.790453 \nL 71.239274 213.30655 \nL 74.023626 215.72695 \nL 76.890751 218.048702 \nL 79.837159 220.26898 \nL 82.859258 222.385076 \nL 85.953366 224.394414 \nL 89.115715 226.294544 \nL 92.342451 228.083153 \nL 95.629643 229.758061 \nL 98.973285 231.317227 \nL 102.369305 232.758752 \nL 105.813565 234.08088 \nL 109.301868 235.281999 \nL 112.829965 236.360646 \nL 116.393556 237.315508 \nL 119.988301 238.14542 \nL 123.60982 238.849372 \nL 127.2537 239.426506 \nL 130.915502 239.876119 \nL 134.590765 240.197662 \nL 138.27501 240.390745 \nL 141.96375 240.455133 \nL 145.65249 240.390745 \nL 149.336735 240.197662 \nL 153.011998 239.876119 \nL 156.6738 239.426506 \nL 160.31768 238.849372 \nL 163.939199 238.14542 \nL 167.533944 237.315508 \nL 171.097535 236.360646 \nL 174.625632 235.281999 \nL 178.113935 234.08088 \nL 181.558195 232.758752 \nL 184.954215 231.317227 \nL 188.297857 229.758061 \nL 191.585049 228.083153 \nL 194.811785 226.294544 \nL 197.974134 224.394414 \nL 201.068242 222.385076 \nL 204.090341 220.26898 \nL 207.036749 218.048702 \nL 209.903874 215.72695 \nL 212.688226 213.30655 \nL 215.38641 210.790453 \nL 217.99514 208.181722 \nL 220.511238 205.483538 \nL 222.931637 202.699187 \nL 225.25339 199.832061 \nL 227.473667 196.885654 \nL 229.589763 193.863555 \nL 231.599101 190.769446 \nL 233.499232 187.607098 \nL 235.287841 184.380362 \nL 236.962749 181.09317 \nL 238.521915 177.749527 \nL 239.96344 174.353507 \nL 241.285567 170.909248 \nL 242.486686 167.420944 \nL 243.565334 163.892848 \nL 244.520195 160.329256 \nL 245.350107 156.734511 \nL 246.054059 153.112992 \nL 246.631193 149.469112 \nL 247.080806 145.80731 \nL 247.40235 142.132048 \nL 247.595433 138.447802 \nL 247.65982 134.759062 \nL 247.65982 134.759062 \n\" style=\"fill:none;stroke:#b0b0b0;stroke-linecap:square;stroke-width:0.8;\"/>\n     </g>\n     <g id=\"text_16\">\n      <!-- 2.00 -->\n      <g transform=\"translate(239.614186 92.23124)scale(0.1 -0.1)\">\n       <use xlink:href=\"#DejaVuSans-50\"/>\n       <use x=\"63.623047\" xlink:href=\"#DejaVuSans-46\"/>\n       <use x=\"95.410156\" xlink:href=\"#DejaVuSans-48\"/>\n       <use x=\"159.033203\" xlink:href=\"#DejaVuSans-48\"/>\n      </g>\n     </g>\n    </g>\n   </g>\n   <g id=\"line2d_17\">\n    <path clip-path=\"url(#pf4d521454f)\" d=\"M 114.328558 139.920669 \nL 147.678604 94.399298 \nL 105.823238 171.605279 \nL 81.942625 96.284193 \nL 137.724454 52.966626 \nL 202.298802 130.237998 \nL 145.242374 58.601294 \nL 142.737656 135.706979 \nL 215.988169 186.497299 \nL 147.263238 135.178095 \nL 146.892894 136.534381 \nL 197.984357 112.543892 \nL 122.878375 135.42688 \nL 136.365023 136.004382 \nL 73.501157 145.424715 \nL 134.16154 130.825872 \nL 142.151587 134.957728 \nL 114.823744 98.538959 \nL 121.416062 131.925606 \nL 144.221338 132.245241 \nL 79.711602 115.100278 \nL 127.58932 177.820917 \nL 89.805027 192.23268 \nL 117.057986 141.53627 \nL 125.028763 55.302493 \nL 140.001538 106.480505 \nL 121.262191 182.630023 \nL 198.642721 129.523425 \nL 119.761029 141.460404 \nL 63.836413 169.357601 \nL 87.5113 141.898611 \nL 103.036811 198.943895 \nL 114.981782 34.7801 \nL 68.29276 198.800178 \nL 179.365657 97.200411 \nL 146.036936 136.199466 \nL 161.62937 209.658126 \nL 50.403278 156.085334 \nL 136.711255 145.37707 \nL 49.905774 123.147327 \nL 178.368274 120.475488 \nL 85.651005 114.232502 \nL 195.181084 150.400143 \nL 127.772623 135.771685 \nL 190.820663 214.651092 \nL 217.10505 83.299384 \nL 118.369002 131.380358 \nL 166.663888 121.37495 \nL 217.342531 67.323896 \nL 156.793321 89.075669 \n\" style=\"fill:none;stroke:#1f77b4;stroke-linecap:square;stroke-width:1.5;\"/>\n   </g>\n   <g id=\"patch_3\">\n    <path d=\"M 250.68375 134.759062 \nC 250.68375 120.482083 247.871496 106.343929 242.407933 93.15372 \nC 236.944369 79.963511 228.935748 67.977762 218.840399 57.882413 \nC 208.74505 47.787064 196.759302 39.778443 183.569093 34.31488 \nC 170.378884 28.851316 156.24073 26.039062 141.96375 26.039062 \nC 127.68677 26.039062 113.548616 28.851316 100.358407 34.31488 \nC 87.168198 39.778443 75.18245 47.787064 65.087101 57.882413 \nC 54.991752 67.977762 46.983131 79.963511 41.519567 93.15372 \nC 36.056004 106.343929 33.24375 120.482083 33.24375 134.759062 \nC 33.24375 149.036042 36.056004 163.174196 41.519567 176.364405 \nC 46.983131 189.554614 54.991752 201.540363 65.087101 211.635712 \nC 75.18245 221.731061 87.168198 229.739682 100.358407 235.203245 \nC 113.548616 240.666809 127.68677 243.479062 141.96375 243.479062 \nC 156.24073 243.479062 170.378884 240.666809 183.569093 235.203245 \nC 196.759302 229.739682 208.74505 221.731061 218.840399 211.635712 \nC 228.935748 201.540363 236.944369 189.554614 242.407933 176.364405 \nC 247.871496 163.174196 250.68375 149.036042 250.68375 134.759062 \n\" style=\"fill:none;stroke:#000000;stroke-linecap:square;stroke-linejoin:miter;stroke-width:0.8;\"/>\n   </g>\n  </g>\n </g>\n <defs>\n  <clipPath id=\"pf4d521454f\">\n   <path d=\"M 250.68375 134.759062 \nC 250.68375 120.482083 247.871496 106.343929 242.407933 93.15372 \nC 236.944369 79.963511 228.935748 67.977762 218.840399 57.882413 \nC 208.74505 47.787064 196.759302 39.778443 183.569093 34.31488 \nC 170.378884 28.851316 156.24073 26.039062 141.96375 26.039062 \nC 127.68677 26.039062 113.548616 28.851316 100.358407 34.31488 \nC 87.168198 39.778443 75.18245 47.787064 65.087101 57.882413 \nC 54.991752 67.977762 46.983131 79.963511 41.519567 93.15372 \nC 36.056004 106.343929 33.24375 120.482083 33.24375 134.759062 \nC 33.24375 149.036042 36.056004 163.174196 41.519567 176.364405 \nC 46.983131 189.554614 54.991752 201.540363 65.087101 211.635712 \nC 75.18245 221.731061 87.168198 229.739682 100.358407 235.203245 \nC 113.548616 240.666809 127.68677 243.479062 141.96375 243.479062 \nC 156.24073 243.479062 170.378884 240.666809 183.569093 235.203245 \nC 196.759302 229.739682 208.74505 221.731061 218.840399 211.635712 \nC 228.935748 201.540363 236.944369 189.554614 242.407933 176.364405 \nC 247.871496 163.174196 250.68375 149.036042 250.68375 134.759063 \nM 141.96375 134.759062 \nC 141.96375 134.759062 141.96375 134.759062 141.96375 134.759062 \nC 141.96375 134.759062 141.96375 134.759062 141.96375 134.759062 \nC 141.96375 134.759062 141.96375 134.759062 141.96375 134.759062 \nC 141.96375 134.759062 141.96375 134.759062 141.96375 134.759062 \nC 141.96375 134.759062 141.96375 134.759062 141.96375 134.759062 \nC 141.96375 134.759062 141.96375 134.759062 141.96375 134.759062 \nC 141.96375 134.759062 141.96375 134.759062 141.96375 134.759062 \nC 141.96375 134.759062 141.96375 134.759062 141.96375 134.759062 \nC 141.96375 134.759062 141.96375 134.759062 141.96375 134.759062 \nC 141.96375 134.759062 141.96375 134.759062 141.96375 134.759062 \nC 141.96375 134.759062 141.96375 134.759062 141.96375 134.759062 \nC 141.96375 134.759062 141.96375 134.759062 141.96375 134.759062 \nC 141.96375 134.759062 141.96375 134.759062 141.96375 134.759062 \nC 141.96375 134.759062 141.96375 134.759062 141.96375 134.759062 \nC 141.96375 134.759062 141.96375 134.759062 141.96375 134.759062 \nC 141.96375 134.759062 141.96375 134.759062 141.96375 134.759062 \nM 250.68375 134.759062 \nz\n\"/>\n  </clipPath>\n </defs>\n</svg>\n",
      "image/png": "[encoded data removed]"
     },
     "metadata": {
      "needs_background": "light"
     }
    }
   ],
   "source": [
    "angle = 2 * np.pi * y\n",
    "fig, ax = plt.subplots(subplot_kw=dict(polar=True))\n",
    "ax.plot(angle, x)\n",
    "plt.show()"
   ]
  },
  {
   "cell_type": "code",
   "execution_count": 34,
   "metadata": {},
   "outputs": [
    {
     "output_type": "execute_result",
     "data": {
      "text/plain": [
       "<matplotlib.image.AxesImage at 0x7ffa875a8f10>"
      ]
     },
     "metadata": {},
     "execution_count": 34
    },
    {
     "output_type": "display_data",
     "data": {
      "text/plain": "<Figure size 432x288 with 1 Axes>",
      "image/svg+xml": "<?xml version=\"1.0\" encoding=\"utf-8\" standalone=\"no\"?>\n<!DOCTYPE svg PUBLIC \"-//W3C//DTD SVG 1.1//EN\"\n  \"http://www.w3.org/Graphics/SVG/1.1/DTD/svg11.dtd\">\n<!-- Created with matplotlib (https://matplotlib.org/) -->\n<svg height=\"248.518125pt\" version=\"1.1\" viewBox=\"0 0 245.2025 248.518125\" width=\"245.2025pt\" xmlns=\"http://www.w3.org/2000/svg\" xmlns:xlink=\"http://www.w3.org/1999/xlink\">\n <defs>\n  <style type=\"text/css\">\n*{stroke-linecap:butt;stroke-linejoin:round;}\n  </style>\n </defs>\n <g id=\"figure_1\">\n  <g id=\"patch_1\">\n   <path d=\"M 0 248.518125 \nL 245.2025 248.518125 \nL 245.2025 0 \nL 0 0 \nz\n\" style=\"fill:none;\"/>\n  </g>\n  <g id=\"axes_1\">\n   <g id=\"patch_2\">\n    <path d=\"M 20.5625 224.64 \nL 238.0025 224.64 \nL 238.0025 7.2 \nL 20.5625 7.2 \nz\n\" style=\"fill:#ffffff;\"/>\n   </g>\n   <g clip-path=\"url(#p34ec82716b)\">\n    <image height=\"218\" id=\"imagedb6e4bf675\" transform=\"scale(1 -1)translate(0 -218)\" width=\"218\" x=\"20.5625\" xlink:href=\"data:image/png;base64,\niVBORw0KGgoAAAANSUhEUgAAANoAAADaCAYAAADAHVzbAAAABHNCSVQICAgIfAhkiAAAAnpJREFUeJzt0zEBwCAAwDBAGxLm38qmgnIsUdCnc8/nHcBR63YA/IHRIGA0CBgNAkaDgNEgYDQIGA0CRoOA0SBgNAgYDQJGg4DRIGA0CBgNAkaDgNEgYDQIGA0CRoOA0SBgNAgYDQJGg4DRIGA0CBgNAkaDgNEgYDQIGA0CRoOA0SBgNAgYDQJGg4DRIGA0CBgNAkaDgNEgYDQIGA0CRoOA0SBgNAgYDQJGg4DRIGA0CBgNAkaDgNEgYDQIGA0CRoOA0SBgNAgYDQJGg4DRIGA0CBgNAkaDgNEgYDQIGA0CRoOA0SBgNAgYDQJGg4DRIGA0CBgNAkaDgNEgYDQIGA0CRoOA0SBgNAgYDQJGg4DRIGA0CBgNAkaDgNEgYDQIGA0CRoOA0SBgNAgYDQJGg4DRIGA0CBgNAkaDgNEgYDQIGA0CRoOA0SBgNAgYDQJGg4DRIGA0CBgNAkaDgNEgYDQIGA0CRoOA0SBgNAgYDQJGg4DRIGA0CBgNAkaDgNEgYDQIGA0CRoOA0SBgNAgYDQJGg4DRIGA0CBgNAkaDgNEgYDQIGA0CRoOA0SBgNAgYDQJGg4DRIGA0CBgNAkaDgNEgYDQIGA0CRoOA0SBgNAgYDQJGg4DRIGA0CBgNAkaDgNEgYDQIGA0CRoOA0SBgNAgYDQJGg4DRIGA0CBgNAkaDgNEgYDQIGA0CRoOA0SBgNAgYDQJGg4DRIGA0CBgNAkaDgNEgYDQIGA0CRoOA0SBgNAgYDQJGg4DRIGA0CBgNAkaDgNEgYDQIGA0CRoOA0SBgNAgYDQJGg4DRIGA0CBgNAkaDgNEgYDQIGA0CRoOA0SBgNAgYDQJGg8AHLhMDTKMpIg4AAAAASUVORK5CYII=\" y=\"-6.64\"/>\n   </g>\n   <g id=\"matplotlib.axis_1\">\n    <g id=\"xtick_1\">\n     <g id=\"line2d_1\">\n      <defs>\n       <path d=\"M 0 0 \nL 0 3.5 \n\" id=\"m21796dac30\" style=\"stroke:#000000;stroke-width:0.8;\"/>\n      </defs>\n      <g>\n       <use style=\"stroke:#000000;stroke-width:0.8;\" x=\"31.4345\" xlink:href=\"#m21796dac30\" y=\"224.64\"/>\n      </g>\n     </g>\n     <g id=\"text_1\">\n      <!-- 0 -->\n      <defs>\n       <path d=\"M 31.78125 66.40625 \nQ 24.171875 66.40625 20.328125 58.90625 \nQ 16.5 51.421875 16.5 36.375 \nQ 16.5 21.390625 20.328125 13.890625 \nQ 24.171875 6.390625 31.78125 6.390625 \nQ 39.453125 6.390625 43.28125 13.890625 \nQ 47.125 21.390625 47.125 36.375 \nQ 47.125 51.421875 43.28125 58.90625 \nQ 39.453125 66.40625 31.78125 66.40625 \nz\nM 31.78125 74.21875 \nQ 44.046875 74.21875 50.515625 64.515625 \nQ 56.984375 54.828125 56.984375 36.375 \nQ 56.984375 17.96875 50.515625 8.265625 \nQ 44.046875 -1.421875 31.78125 -1.421875 \nQ 19.53125 -1.421875 13.0625 8.265625 \nQ 6.59375 17.96875 6.59375 36.375 \nQ 6.59375 54.828125 13.0625 64.515625 \nQ 19.53125 74.21875 31.78125 74.21875 \nz\n\" id=\"DejaVuSans-48\"/>\n      </defs>\n      <g transform=\"translate(28.25325 239.238437)scale(0.1 -0.1)\">\n       <use xlink:href=\"#DejaVuSans-48\"/>\n      </g>\n     </g>\n    </g>\n    <g id=\"xtick_2\">\n     <g id=\"line2d_2\">\n      <g>\n       <use style=\"stroke:#000000;stroke-width:0.8;\" x=\"74.9225\" xlink:href=\"#m21796dac30\" y=\"224.64\"/>\n      </g>\n     </g>\n     <g id=\"text_2\">\n      <!-- 2 -->\n      <defs>\n       <path d=\"M 19.1875 8.296875 \nL 53.609375 8.296875 \nL 53.609375 0 \nL 7.328125 0 \nL 7.328125 8.296875 \nQ 12.9375 14.109375 22.625 23.890625 \nQ 32.328125 33.6875 34.8125 36.53125 \nQ 39.546875 41.84375 41.421875 45.53125 \nQ 43.3125 49.21875 43.3125 52.78125 \nQ 43.3125 58.59375 39.234375 62.25 \nQ 35.15625 65.921875 28.609375 65.921875 \nQ 23.96875 65.921875 18.8125 64.3125 \nQ 13.671875 62.703125 7.8125 59.421875 \nL 7.8125 69.390625 \nQ 13.765625 71.78125 18.9375 73 \nQ 24.125 74.21875 28.421875 74.21875 \nQ 39.75 74.21875 46.484375 68.546875 \nQ 53.21875 62.890625 53.21875 53.421875 \nQ 53.21875 48.921875 51.53125 44.890625 \nQ 49.859375 40.875 45.40625 35.40625 \nQ 44.1875 33.984375 37.640625 27.21875 \nQ 31.109375 20.453125 19.1875 8.296875 \nz\n\" id=\"DejaVuSans-50\"/>\n      </defs>\n      <g transform=\"translate(71.74125 239.238437)scale(0.1 -0.1)\">\n       <use xlink:href=\"#DejaVuSans-50\"/>\n      </g>\n     </g>\n    </g>\n    <g id=\"xtick_3\">\n     <g id=\"line2d_3\">\n      <g>\n       <use style=\"stroke:#000000;stroke-width:0.8;\" x=\"118.4105\" xlink:href=\"#m21796dac30\" y=\"224.64\"/>\n      </g>\n     </g>\n     <g id=\"text_3\">\n      <!-- 4 -->\n      <defs>\n       <path d=\"M 37.796875 64.3125 \nL 12.890625 25.390625 \nL 37.796875 25.390625 \nz\nM 35.203125 72.90625 \nL 47.609375 72.90625 \nL 47.609375 25.390625 \nL 58.015625 25.390625 \nL 58.015625 17.1875 \nL 47.609375 17.1875 \nL 47.609375 0 \nL 37.796875 0 \nL 37.796875 17.1875 \nL 4.890625 17.1875 \nL 4.890625 26.703125 \nz\n\" id=\"DejaVuSans-52\"/>\n      </defs>\n      <g transform=\"translate(115.22925 239.238437)scale(0.1 -0.1)\">\n       <use xlink:href=\"#DejaVuSans-52\"/>\n      </g>\n     </g>\n    </g>\n    <g id=\"xtick_4\">\n     <g id=\"line2d_4\">\n      <g>\n       <use style=\"stroke:#000000;stroke-width:0.8;\" x=\"161.8985\" xlink:href=\"#m21796dac30\" y=\"224.64\"/>\n      </g>\n     </g>\n     <g id=\"text_4\">\n      <!-- 6 -->\n      <defs>\n       <path d=\"M 33.015625 40.375 \nQ 26.375 40.375 22.484375 35.828125 \nQ 18.609375 31.296875 18.609375 23.390625 \nQ 18.609375 15.53125 22.484375 10.953125 \nQ 26.375 6.390625 33.015625 6.390625 \nQ 39.65625 6.390625 43.53125 10.953125 \nQ 47.40625 15.53125 47.40625 23.390625 \nQ 47.40625 31.296875 43.53125 35.828125 \nQ 39.65625 40.375 33.015625 40.375 \nz\nM 52.59375 71.296875 \nL 52.59375 62.3125 \nQ 48.875 64.0625 45.09375 64.984375 \nQ 41.3125 65.921875 37.59375 65.921875 \nQ 27.828125 65.921875 22.671875 59.328125 \nQ 17.53125 52.734375 16.796875 39.40625 \nQ 19.671875 43.65625 24.015625 45.921875 \nQ 28.375 48.1875 33.59375 48.1875 \nQ 44.578125 48.1875 50.953125 41.515625 \nQ 57.328125 34.859375 57.328125 23.390625 \nQ 57.328125 12.15625 50.6875 5.359375 \nQ 44.046875 -1.421875 33.015625 -1.421875 \nQ 20.359375 -1.421875 13.671875 8.265625 \nQ 6.984375 17.96875 6.984375 36.375 \nQ 6.984375 53.65625 15.1875 63.9375 \nQ 23.390625 74.21875 37.203125 74.21875 \nQ 40.921875 74.21875 44.703125 73.484375 \nQ 48.484375 72.75 52.59375 71.296875 \nz\n\" id=\"DejaVuSans-54\"/>\n      </defs>\n      <g transform=\"translate(158.71725 239.238437)scale(0.1 -0.1)\">\n       <use xlink:href=\"#DejaVuSans-54\"/>\n      </g>\n     </g>\n    </g>\n    <g id=\"xtick_5\">\n     <g id=\"line2d_5\">\n      <g>\n       <use style=\"stroke:#000000;stroke-width:0.8;\" x=\"205.3865\" xlink:href=\"#m21796dac30\" y=\"224.64\"/>\n      </g>\n     </g>\n     <g id=\"text_5\">\n      <!-- 8 -->\n      <defs>\n       <path d=\"M 31.78125 34.625 \nQ 24.75 34.625 20.71875 30.859375 \nQ 16.703125 27.09375 16.703125 20.515625 \nQ 16.703125 13.921875 20.71875 10.15625 \nQ 24.75 6.390625 31.78125 6.390625 \nQ 38.8125 6.390625 42.859375 10.171875 \nQ 46.921875 13.96875 46.921875 20.515625 \nQ 46.921875 27.09375 42.890625 30.859375 \nQ 38.875 34.625 31.78125 34.625 \nz\nM 21.921875 38.8125 \nQ 15.578125 40.375 12.03125 44.71875 \nQ 8.5 49.078125 8.5 55.328125 \nQ 8.5 64.0625 14.71875 69.140625 \nQ 20.953125 74.21875 31.78125 74.21875 \nQ 42.671875 74.21875 48.875 69.140625 \nQ 55.078125 64.0625 55.078125 55.328125 \nQ 55.078125 49.078125 51.53125 44.71875 \nQ 48 40.375 41.703125 38.8125 \nQ 48.828125 37.15625 52.796875 32.3125 \nQ 56.78125 27.484375 56.78125 20.515625 \nQ 56.78125 9.90625 50.3125 4.234375 \nQ 43.84375 -1.421875 31.78125 -1.421875 \nQ 19.734375 -1.421875 13.25 4.234375 \nQ 6.78125 9.90625 6.78125 20.515625 \nQ 6.78125 27.484375 10.78125 32.3125 \nQ 14.796875 37.15625 21.921875 38.8125 \nz\nM 18.3125 54.390625 \nQ 18.3125 48.734375 21.84375 45.5625 \nQ 25.390625 42.390625 31.78125 42.390625 \nQ 38.140625 42.390625 41.71875 45.5625 \nQ 45.3125 48.734375 45.3125 54.390625 \nQ 45.3125 60.0625 41.71875 63.234375 \nQ 38.140625 66.40625 31.78125 66.40625 \nQ 25.390625 66.40625 21.84375 63.234375 \nQ 18.3125 60.0625 18.3125 54.390625 \nz\n\" id=\"DejaVuSans-56\"/>\n      </defs>\n      <g transform=\"translate(202.20525 239.238437)scale(0.1 -0.1)\">\n       <use xlink:href=\"#DejaVuSans-56\"/>\n      </g>\n     </g>\n    </g>\n   </g>\n   <g id=\"matplotlib.axis_2\">\n    <g id=\"ytick_1\">\n     <g id=\"line2d_6\">\n      <defs>\n       <path d=\"M 0 0 \nL -3.5 0 \n\" id=\"m48ee7cb1b4\" style=\"stroke:#000000;stroke-width:0.8;\"/>\n      </defs>\n      <g>\n       <use style=\"stroke:#000000;stroke-width:0.8;\" x=\"20.5625\" xlink:href=\"#m48ee7cb1b4\" y=\"18.072\"/>\n      </g>\n     </g>\n     <g id=\"text_6\">\n      <!-- 0 -->\n      <g transform=\"translate(7.2 21.871219)scale(0.1 -0.1)\">\n       <use xlink:href=\"#DejaVuSans-48\"/>\n      </g>\n     </g>\n    </g>\n    <g id=\"ytick_2\">\n     <g id=\"line2d_7\">\n      <g>\n       <use style=\"stroke:#000000;stroke-width:0.8;\" x=\"20.5625\" xlink:href=\"#m48ee7cb1b4\" y=\"61.56\"/>\n      </g>\n     </g>\n     <g id=\"text_7\">\n      <!-- 2 -->\n      <g transform=\"translate(7.2 65.359219)scale(0.1 -0.1)\">\n       <use xlink:href=\"#DejaVuSans-50\"/>\n      </g>\n     </g>\n    </g>\n    <g id=\"ytick_3\">\n     <g id=\"line2d_8\">\n      <g>\n       <use style=\"stroke:#000000;stroke-width:0.8;\" x=\"20.5625\" xlink:href=\"#m48ee7cb1b4\" y=\"105.048\"/>\n      </g>\n     </g>\n     <g id=\"text_8\">\n      <!-- 4 -->\n      <g transform=\"translate(7.2 108.847219)scale(0.1 -0.1)\">\n       <use xlink:href=\"#DejaVuSans-52\"/>\n      </g>\n     </g>\n    </g>\n    <g id=\"ytick_4\">\n     <g id=\"line2d_9\">\n      <g>\n       <use style=\"stroke:#000000;stroke-width:0.8;\" x=\"20.5625\" xlink:href=\"#m48ee7cb1b4\" y=\"148.536\"/>\n      </g>\n     </g>\n     <g id=\"text_9\">\n      <!-- 6 -->\n      <g transform=\"translate(7.2 152.335219)scale(0.1 -0.1)\">\n       <use xlink:href=\"#DejaVuSans-54\"/>\n      </g>\n     </g>\n    </g>\n    <g id=\"ytick_5\">\n     <g id=\"line2d_10\">\n      <g>\n       <use style=\"stroke:#000000;stroke-width:0.8;\" x=\"20.5625\" xlink:href=\"#m48ee7cb1b4\" y=\"192.024\"/>\n      </g>\n     </g>\n     <g id=\"text_10\">\n      <!-- 8 -->\n      <g transform=\"translate(7.2 195.823219)scale(0.1 -0.1)\">\n       <use xlink:href=\"#DejaVuSans-56\"/>\n      </g>\n     </g>\n    </g>\n   </g>\n   <g id=\"patch_3\">\n    <path d=\"M 20.5625 224.64 \nL 20.5625 7.2 \n\" style=\"fill:none;stroke:#000000;stroke-linecap:square;stroke-linejoin:miter;stroke-width:0.8;\"/>\n   </g>\n   <g id=\"patch_4\">\n    <path d=\"M 238.0025 224.64 \nL 238.0025 7.2 \n\" style=\"fill:none;stroke:#000000;stroke-linecap:square;stroke-linejoin:miter;stroke-width:0.8;\"/>\n   </g>\n   <g id=\"patch_5\">\n    <path d=\"M 20.5625 224.64 \nL 238.0025 224.64 \n\" style=\"fill:none;stroke:#000000;stroke-linecap:square;stroke-linejoin:miter;stroke-width:0.8;\"/>\n   </g>\n   <g id=\"patch_6\">\n    <path d=\"M 20.5625 7.2 \nL 238.0025 7.2 \n\" style=\"fill:none;stroke:#000000;stroke-linecap:square;stroke-linejoin:miter;stroke-width:0.8;\"/>\n   </g>\n  </g>\n </g>\n <defs>\n  <clipPath id=\"p34ec82716b\">\n   <rect height=\"217.44\" width=\"217.44\" x=\"20.5625\" y=\"7.2\"/>\n  </clipPath>\n </defs>\n</svg>\n",
      "image/png": "[encoded data removed]"
     },
     "metadata": {
      "needs_background": "light"
     }
    }
   ],
   "source": [
    "# matplotlib_heatmap_chart\n",
    "fig, ax = plt.subplots()\n",
    "ax.imshow(matrix_2D)"
   ]
  },
  {
   "cell_type": "code",
   "execution_count": 35,
   "metadata": {},
   "outputs": [
    {
     "output_type": "display_data",
     "data": {
      "text/plain": "<Figure size 432x288 with 1 Axes>",
      "image/svg+xml": "<?xml version=\"1.0\" encoding=\"utf-8\" standalone=\"no\"?>\n<!DOCTYPE svg PUBLIC \"-//W3C//DTD SVG 1.1//EN\"\n  \"http://www.w3.org/Graphics/SVG/1.1/DTD/svg11.dtd\">\n<!-- Created with matplotlib (https://matplotlib.org/) -->\n<svg height=\"252.317344pt\" version=\"1.1\" viewBox=\"0 0 380.054687 252.317344\" width=\"380.054687pt\" xmlns=\"http://www.w3.org/2000/svg\" xmlns:xlink=\"http://www.w3.org/1999/xlink\">\n <defs>\n  <style type=\"text/css\">\n*{stroke-linecap:butt;stroke-linejoin:round;}\n  </style>\n </defs>\n <g id=\"figure_1\">\n  <g id=\"patch_1\">\n   <path d=\"M 0 252.317344 \nL 380.054687 252.317344 \nL 380.054687 0 \nL 0 0 \nz\n\" style=\"fill:none;\"/>\n  </g>\n  <g id=\"axes_1\">\n   <g id=\"patch_2\">\n    <path d=\"M 30.103125 228.439219 \nL 364.903125 228.439219 \nL 364.903125 10.999219 \nL 30.103125 10.999219 \nz\n\" style=\"fill:#ffffff;\"/>\n   </g>\n   <g id=\"table_1\">\n    <g id=\"patch_3\">\n     <path d=\"M 30.103125 65.719219 \nL 141.703125 65.719219 \nL 141.703125 53.719219 \nL 30.103125 53.719219 \nz\n\" style=\"fill:#ffffff;stroke:#000000;stroke-linejoin:miter;\"/>\n    </g>\n    <g id=\"text_1\">\n     <!-- 0 -->\n     <defs>\n      <path d=\"M 31.78125 66.40625 \nQ 24.171875 66.40625 20.328125 58.90625 \nQ 16.5 51.421875 16.5 36.375 \nQ 16.5 21.390625 20.328125 13.890625 \nQ 24.171875 6.390625 31.78125 6.390625 \nQ 39.453125 6.390625 43.28125 13.890625 \nQ 47.125 21.390625 47.125 36.375 \nQ 47.125 51.421875 43.28125 58.90625 \nQ 39.453125 66.40625 31.78125 66.40625 \nz\nM 31.78125 74.21875 \nQ 44.046875 74.21875 50.515625 64.515625 \nQ 56.984375 54.828125 56.984375 36.375 \nQ 56.984375 17.96875 50.515625 8.265625 \nQ 44.046875 -1.421875 31.78125 -1.421875 \nQ 19.53125 -1.421875 13.0625 8.265625 \nQ 6.59375 17.96875 6.59375 36.375 \nQ 6.59375 54.828125 13.0625 64.515625 \nQ 19.53125 74.21875 31.78125 74.21875 \nz\n\" id=\"DejaVuSans-48\"/>\n     </defs>\n     <g transform=\"translate(83.67625 61.650781)scale(0.07 -0.07)\">\n      <use xlink:href=\"#DejaVuSans-48\"/>\n     </g>\n    </g>\n    <g id=\"patch_4\">\n     <path d=\"M 141.703125 65.719219 \nL 253.303125 65.719219 \nL 253.303125 53.719219 \nL 141.703125 53.719219 \nz\n\" style=\"fill:#ffffff;stroke:#000000;stroke-linejoin:miter;\"/>\n    </g>\n    <g id=\"text_2\">\n     <!-- 1 -->\n     <defs>\n      <path d=\"M 12.40625 8.296875 \nL 28.515625 8.296875 \nL 28.515625 63.921875 \nL 10.984375 60.40625 \nL 10.984375 69.390625 \nL 28.421875 72.90625 \nL 38.28125 72.90625 \nL 38.28125 8.296875 \nL 54.390625 8.296875 \nL 54.390625 0 \nL 12.40625 0 \nz\n\" id=\"DejaVuSans-49\"/>\n     </defs>\n     <g transform=\"translate(195.27625 61.650781)scale(0.07 -0.07)\">\n      <use xlink:href=\"#DejaVuSans-49\"/>\n     </g>\n    </g>\n    <g id=\"patch_5\">\n     <path d=\"M 253.303125 65.719219 \nL 364.903125 65.719219 \nL 364.903125 53.719219 \nL 253.303125 53.719219 \nz\n\" style=\"fill:#ffffff;stroke:#000000;stroke-linejoin:miter;\"/>\n    </g>\n    <g id=\"text_3\">\n     <!-- 2 -->\n     <defs>\n      <path d=\"M 19.1875 8.296875 \nL 53.609375 8.296875 \nL 53.609375 0 \nL 7.328125 0 \nL 7.328125 8.296875 \nQ 12.9375 14.109375 22.625 23.890625 \nQ 32.328125 33.6875 34.8125 36.53125 \nQ 39.546875 41.84375 41.421875 45.53125 \nQ 43.3125 49.21875 43.3125 52.78125 \nQ 43.3125 58.59375 39.234375 62.25 \nQ 35.15625 65.921875 28.609375 65.921875 \nQ 23.96875 65.921875 18.8125 64.3125 \nQ 13.671875 62.703125 7.8125 59.421875 \nL 7.8125 69.390625 \nQ 13.765625 71.78125 18.9375 73 \nQ 24.125 74.21875 28.421875 74.21875 \nQ 39.75 74.21875 46.484375 68.546875 \nQ 53.21875 62.890625 53.21875 53.421875 \nQ 53.21875 48.921875 51.53125 44.890625 \nQ 49.859375 40.875 45.40625 35.40625 \nQ 44.1875 33.984375 37.640625 27.21875 \nQ 31.109375 20.453125 19.1875 8.296875 \nz\n\" id=\"DejaVuSans-50\"/>\n     </defs>\n     <g transform=\"translate(306.87625 61.650781)scale(0.07 -0.07)\">\n      <use xlink:href=\"#DejaVuSans-50\"/>\n     </g>\n    </g>\n    <g id=\"patch_6\">\n     <path d=\"M 30.103125 77.719219 \nL 141.703125 77.719219 \nL 141.703125 65.719219 \nL 30.103125 65.719219 \nz\n\" style=\"fill:#ffffff;stroke:#000000;stroke-linejoin:miter;\"/>\n    </g>\n    <g id=\"text_4\">\n     <!-- 0.6624461517167085 -->\n     <defs>\n      <path d=\"M 10.6875 12.40625 \nL 21 12.40625 \nL 21 0 \nL 10.6875 0 \nz\n\" id=\"DejaVuSans-46\"/>\n      <path d=\"M 33.015625 40.375 \nQ 26.375 40.375 22.484375 35.828125 \nQ 18.609375 31.296875 18.609375 23.390625 \nQ 18.609375 15.53125 22.484375 10.953125 \nQ 26.375 6.390625 33.015625 6.390625 \nQ 39.65625 6.390625 43.53125 10.953125 \nQ 47.40625 15.53125 47.40625 23.390625 \nQ 47.40625 31.296875 43.53125 35.828125 \nQ 39.65625 40.375 33.015625 40.375 \nz\nM 52.59375 71.296875 \nL 52.59375 62.3125 \nQ 48.875 64.0625 45.09375 64.984375 \nQ 41.3125 65.921875 37.59375 65.921875 \nQ 27.828125 65.921875 22.671875 59.328125 \nQ 17.53125 52.734375 16.796875 39.40625 \nQ 19.671875 43.65625 24.015625 45.921875 \nQ 28.375 48.1875 33.59375 48.1875 \nQ 44.578125 48.1875 50.953125 41.515625 \nQ 57.328125 34.859375 57.328125 23.390625 \nQ 57.328125 12.15625 50.6875 5.359375 \nQ 44.046875 -1.421875 33.015625 -1.421875 \nQ 20.359375 -1.421875 13.671875 8.265625 \nQ 6.984375 17.96875 6.984375 36.375 \nQ 6.984375 53.65625 15.1875 63.9375 \nQ 23.390625 74.21875 37.203125 74.21875 \nQ 40.921875 74.21875 44.703125 73.484375 \nQ 48.484375 72.75 52.59375 71.296875 \nz\n\" id=\"DejaVuSans-54\"/>\n      <path d=\"M 37.796875 64.3125 \nL 12.890625 25.390625 \nL 37.796875 25.390625 \nz\nM 35.203125 72.90625 \nL 47.609375 72.90625 \nL 47.609375 25.390625 \nL 58.015625 25.390625 \nL 58.015625 17.1875 \nL 47.609375 17.1875 \nL 47.609375 0 \nL 37.796875 0 \nL 37.796875 17.1875 \nL 4.890625 17.1875 \nL 4.890625 26.703125 \nz\n\" id=\"DejaVuSans-52\"/>\n      <path d=\"M 10.796875 72.90625 \nL 49.515625 72.90625 \nL 49.515625 64.59375 \nL 19.828125 64.59375 \nL 19.828125 46.734375 \nQ 21.96875 47.46875 24.109375 47.828125 \nQ 26.265625 48.1875 28.421875 48.1875 \nQ 40.625 48.1875 47.75 41.5 \nQ 54.890625 34.8125 54.890625 23.390625 \nQ 54.890625 11.625 47.5625 5.09375 \nQ 40.234375 -1.421875 26.90625 -1.421875 \nQ 22.3125 -1.421875 17.546875 -0.640625 \nQ 12.796875 0.140625 7.71875 1.703125 \nL 7.71875 11.625 \nQ 12.109375 9.234375 16.796875 8.0625 \nQ 21.484375 6.890625 26.703125 6.890625 \nQ 35.15625 6.890625 40.078125 11.328125 \nQ 45.015625 15.765625 45.015625 23.390625 \nQ 45.015625 31 40.078125 35.4375 \nQ 35.15625 39.890625 26.703125 39.890625 \nQ 22.75 39.890625 18.8125 39.015625 \nQ 14.890625 38.140625 10.796875 36.28125 \nz\n\" id=\"DejaVuSans-53\"/>\n      <path d=\"M 8.203125 72.90625 \nL 55.078125 72.90625 \nL 55.078125 68.703125 \nL 28.609375 0 \nL 18.3125 0 \nL 43.21875 64.59375 \nL 8.203125 64.59375 \nz\n\" id=\"DejaVuSans-55\"/>\n      <path d=\"M 31.78125 34.625 \nQ 24.75 34.625 20.71875 30.859375 \nQ 16.703125 27.09375 16.703125 20.515625 \nQ 16.703125 13.921875 20.71875 10.15625 \nQ 24.75 6.390625 31.78125 6.390625 \nQ 38.8125 6.390625 42.859375 10.171875 \nQ 46.921875 13.96875 46.921875 20.515625 \nQ 46.921875 27.09375 42.890625 30.859375 \nQ 38.875 34.625 31.78125 34.625 \nz\nM 21.921875 38.8125 \nQ 15.578125 40.375 12.03125 44.71875 \nQ 8.5 49.078125 8.5 55.328125 \nQ 8.5 64.0625 14.71875 69.140625 \nQ 20.953125 74.21875 31.78125 74.21875 \nQ 42.671875 74.21875 48.875 69.140625 \nQ 55.078125 64.0625 55.078125 55.328125 \nQ 55.078125 49.078125 51.53125 44.71875 \nQ 48 40.375 41.703125 38.8125 \nQ 48.828125 37.15625 52.796875 32.3125 \nQ 56.78125 27.484375 56.78125 20.515625 \nQ 56.78125 9.90625 50.3125 4.234375 \nQ 43.84375 -1.421875 31.78125 -1.421875 \nQ 19.734375 -1.421875 13.25 4.234375 \nQ 6.78125 9.90625 6.78125 20.515625 \nQ 6.78125 27.484375 10.78125 32.3125 \nQ 14.796875 37.15625 21.921875 38.8125 \nz\nM 18.3125 54.390625 \nQ 18.3125 48.734375 21.84375 45.5625 \nQ 25.390625 42.390625 31.78125 42.390625 \nQ 38.140625 42.390625 41.71875 45.5625 \nQ 45.3125 48.734375 45.3125 54.390625 \nQ 45.3125 60.0625 41.71875 63.234375 \nQ 38.140625 66.40625 31.78125 66.40625 \nQ 25.390625 66.40625 21.84375 63.234375 \nQ 18.3125 60.0625 18.3125 54.390625 \nz\n\" id=\"DejaVuSans-56\"/>\n     </defs>\n     <g transform=\"translate(52.604688 73.650781)scale(0.07 -0.07)\">\n      <use xlink:href=\"#DejaVuSans-48\"/>\n      <use x=\"63.623047\" xlink:href=\"#DejaVuSans-46\"/>\n      <use x=\"95.410156\" xlink:href=\"#DejaVuSans-54\"/>\n      <use x=\"159.033203\" xlink:href=\"#DejaVuSans-54\"/>\n      <use x=\"222.65625\" xlink:href=\"#DejaVuSans-50\"/>\n      <use x=\"286.279297\" xlink:href=\"#DejaVuSans-52\"/>\n      <use x=\"349.902344\" xlink:href=\"#DejaVuSans-52\"/>\n      <use x=\"413.525391\" xlink:href=\"#DejaVuSans-54\"/>\n      <use x=\"477.148438\" xlink:href=\"#DejaVuSans-49\"/>\n      <use x=\"540.771484\" xlink:href=\"#DejaVuSans-53\"/>\n      <use x=\"604.394531\" xlink:href=\"#DejaVuSans-49\"/>\n      <use x=\"668.017578\" xlink:href=\"#DejaVuSans-55\"/>\n      <use x=\"731.640625\" xlink:href=\"#DejaVuSans-49\"/>\n      <use x=\"795.263672\" xlink:href=\"#DejaVuSans-54\"/>\n      <use x=\"858.886719\" xlink:href=\"#DejaVuSans-55\"/>\n      <use x=\"922.509766\" xlink:href=\"#DejaVuSans-48\"/>\n      <use x=\"986.132812\" xlink:href=\"#DejaVuSans-56\"/>\n      <use x=\"1049.755859\" xlink:href=\"#DejaVuSans-53\"/>\n     </g>\n    </g>\n    <g id=\"patch_7\">\n     <path d=\"M 141.703125 77.719219 \nL 253.303125 77.719219 \nL 253.303125 65.719219 \nL 141.703125 65.719219 \nz\n\" style=\"fill:#ffffff;stroke:#000000;stroke-linejoin:miter;\"/>\n    </g>\n    <g id=\"text_5\">\n     <!-- 0.9082228303152202 -->\n     <defs>\n      <path d=\"M 10.984375 1.515625 \nL 10.984375 10.5 \nQ 14.703125 8.734375 18.5 7.8125 \nQ 22.3125 6.890625 25.984375 6.890625 \nQ 35.75 6.890625 40.890625 13.453125 \nQ 46.046875 20.015625 46.78125 33.40625 \nQ 43.953125 29.203125 39.59375 26.953125 \nQ 35.25 24.703125 29.984375 24.703125 \nQ 19.046875 24.703125 12.671875 31.3125 \nQ 6.296875 37.9375 6.296875 49.421875 \nQ 6.296875 60.640625 12.9375 67.421875 \nQ 19.578125 74.21875 30.609375 74.21875 \nQ 43.265625 74.21875 49.921875 64.515625 \nQ 56.59375 54.828125 56.59375 36.375 \nQ 56.59375 19.140625 48.40625 8.859375 \nQ 40.234375 -1.421875 26.421875 -1.421875 \nQ 22.703125 -1.421875 18.890625 -0.6875 \nQ 15.09375 0.046875 10.984375 1.515625 \nz\nM 30.609375 32.421875 \nQ 37.25 32.421875 41.125 36.953125 \nQ 45.015625 41.5 45.015625 49.421875 \nQ 45.015625 57.28125 41.125 61.84375 \nQ 37.25 66.40625 30.609375 66.40625 \nQ 23.96875 66.40625 20.09375 61.84375 \nQ 16.21875 57.28125 16.21875 49.421875 \nQ 16.21875 41.5 20.09375 36.953125 \nQ 23.96875 32.421875 30.609375 32.421875 \nz\n\" id=\"DejaVuSans-57\"/>\n      <path d=\"M 40.578125 39.3125 \nQ 47.65625 37.796875 51.625 33 \nQ 55.609375 28.21875 55.609375 21.1875 \nQ 55.609375 10.40625 48.1875 4.484375 \nQ 40.765625 -1.421875 27.09375 -1.421875 \nQ 22.515625 -1.421875 17.65625 -0.515625 \nQ 12.796875 0.390625 7.625 2.203125 \nL 7.625 11.71875 \nQ 11.71875 9.328125 16.59375 8.109375 \nQ 21.484375 6.890625 26.8125 6.890625 \nQ 36.078125 6.890625 40.9375 10.546875 \nQ 45.796875 14.203125 45.796875 21.1875 \nQ 45.796875 27.640625 41.28125 31.265625 \nQ 36.765625 34.90625 28.71875 34.90625 \nL 20.21875 34.90625 \nL 20.21875 43.015625 \nL 29.109375 43.015625 \nQ 36.375 43.015625 40.234375 45.921875 \nQ 44.09375 48.828125 44.09375 54.296875 \nQ 44.09375 59.90625 40.109375 62.90625 \nQ 36.140625 65.921875 28.71875 65.921875 \nQ 24.65625 65.921875 20.015625 65.03125 \nQ 15.375 64.15625 9.8125 62.3125 \nL 9.8125 71.09375 \nQ 15.4375 72.65625 20.34375 73.4375 \nQ 25.25 74.21875 29.59375 74.21875 \nQ 40.828125 74.21875 47.359375 69.109375 \nQ 53.90625 64.015625 53.90625 55.328125 \nQ 53.90625 49.265625 50.4375 45.09375 \nQ 46.96875 40.921875 40.578125 39.3125 \nz\n\" id=\"DejaVuSans-51\"/>\n     </defs>\n     <g transform=\"translate(164.204688 73.650781)scale(0.07 -0.07)\">\n      <use xlink:href=\"#DejaVuSans-48\"/>\n      <use x=\"63.623047\" xlink:href=\"#DejaVuSans-46\"/>\n      <use x=\"95.410156\" xlink:href=\"#DejaVuSans-57\"/>\n      <use x=\"159.033203\" xlink:href=\"#DejaVuSans-48\"/>\n      <use x=\"222.65625\" xlink:href=\"#DejaVuSans-56\"/>\n      <use x=\"286.279297\" xlink:href=\"#DejaVuSans-50\"/>\n      <use x=\"349.902344\" xlink:href=\"#DejaVuSans-50\"/>\n      <use x=\"413.525391\" xlink:href=\"#DejaVuSans-50\"/>\n      <use x=\"477.148438\" xlink:href=\"#DejaVuSans-56\"/>\n      <use x=\"540.771484\" xlink:href=\"#DejaVuSans-51\"/>\n      <use x=\"604.394531\" xlink:href=\"#DejaVuSans-48\"/>\n      <use x=\"668.017578\" xlink:href=\"#DejaVuSans-51\"/>\n      <use x=\"731.640625\" xlink:href=\"#DejaVuSans-49\"/>\n      <use x=\"795.263672\" xlink:href=\"#DejaVuSans-53\"/>\n      <use x=\"858.886719\" xlink:href=\"#DejaVuSans-50\"/>\n      <use x=\"922.509766\" xlink:href=\"#DejaVuSans-50\"/>\n      <use x=\"986.132812\" xlink:href=\"#DejaVuSans-48\"/>\n      <use x=\"1049.755859\" xlink:href=\"#DejaVuSans-50\"/>\n     </g>\n    </g>\n    <g id=\"patch_8\">\n     <path d=\"M 253.303125 77.719219 \nL 364.903125 77.719219 \nL 364.903125 65.719219 \nL 253.303125 65.719219 \nz\n\" style=\"fill:#ffffff;stroke:#000000;stroke-linejoin:miter;\"/>\n    </g>\n    <g id=\"text_6\">\n     <!-- 0.008347763866993652 -->\n     <g transform=\"translate(266.897188 73.650781)scale(0.07 -0.07)\">\n      <use xlink:href=\"#DejaVuSans-48\"/>\n      <use x=\"63.623047\" xlink:href=\"#DejaVuSans-46\"/>\n      <use x=\"95.410156\" xlink:href=\"#DejaVuSans-48\"/>\n      <use x=\"159.033203\" xlink:href=\"#DejaVuSans-48\"/>\n      <use x=\"222.65625\" xlink:href=\"#DejaVuSans-56\"/>\n      <use x=\"286.279297\" xlink:href=\"#DejaVuSans-51\"/>\n      <use x=\"349.902344\" xlink:href=\"#DejaVuSans-52\"/>\n      <use x=\"413.525391\" xlink:href=\"#DejaVuSans-55\"/>\n      <use x=\"477.148438\" xlink:href=\"#DejaVuSans-55\"/>\n      <use x=\"540.771484\" xlink:href=\"#DejaVuSans-54\"/>\n      <use x=\"604.394531\" xlink:href=\"#DejaVuSans-51\"/>\n      <use x=\"668.017578\" xlink:href=\"#DejaVuSans-56\"/>\n      <use x=\"731.640625\" xlink:href=\"#DejaVuSans-54\"/>\n      <use x=\"795.263672\" xlink:href=\"#DejaVuSans-54\"/>\n      <use x=\"858.886719\" xlink:href=\"#DejaVuSans-57\"/>\n      <use x=\"922.509766\" xlink:href=\"#DejaVuSans-57\"/>\n      <use x=\"986.132812\" xlink:href=\"#DejaVuSans-51\"/>\n      <use x=\"1049.755859\" xlink:href=\"#DejaVuSans-54\"/>\n      <use x=\"1113.378906\" xlink:href=\"#DejaVuSans-53\"/>\n      <use x=\"1177.001953\" xlink:href=\"#DejaVuSans-50\"/>\n     </g>\n    </g>\n    <g id=\"patch_9\">\n     <path d=\"M 30.103125 89.719219 \nL 141.703125 89.719219 \nL 141.703125 77.719219 \nL 30.103125 77.719219 \nz\n\" style=\"fill:#ffffff;stroke:#000000;stroke-linejoin:miter;\"/>\n    </g>\n    <g id=\"text_7\">\n     <!-- 0.753605701634822 -->\n     <g transform=\"translate(57.058438 85.650781)scale(0.07 -0.07)\">\n      <use xlink:href=\"#DejaVuSans-48\"/>\n      <use x=\"63.623047\" xlink:href=\"#DejaVuSans-46\"/>\n      <use x=\"95.410156\" xlink:href=\"#DejaVuSans-55\"/>\n      <use x=\"159.033203\" xlink:href=\"#DejaVuSans-53\"/>\n      <use x=\"222.65625\" xlink:href=\"#DejaVuSans-51\"/>\n      <use x=\"286.279297\" xlink:href=\"#DejaVuSans-54\"/>\n      <use x=\"349.902344\" xlink:href=\"#DejaVuSans-48\"/>\n      <use x=\"413.525391\" xlink:href=\"#DejaVuSans-53\"/>\n      <use x=\"477.148438\" xlink:href=\"#DejaVuSans-55\"/>\n      <use x=\"540.771484\" xlink:href=\"#DejaVuSans-48\"/>\n      <use x=\"604.394531\" xlink:href=\"#DejaVuSans-49\"/>\n      <use x=\"668.017578\" xlink:href=\"#DejaVuSans-54\"/>\n      <use x=\"731.640625\" xlink:href=\"#DejaVuSans-51\"/>\n      <use x=\"795.263672\" xlink:href=\"#DejaVuSans-52\"/>\n      <use x=\"858.886719\" xlink:href=\"#DejaVuSans-56\"/>\n      <use x=\"922.509766\" xlink:href=\"#DejaVuSans-50\"/>\n      <use x=\"986.132812\" xlink:href=\"#DejaVuSans-50\"/>\n     </g>\n    </g>\n    <g id=\"patch_10\">\n     <path d=\"M 141.703125 89.719219 \nL 253.303125 89.719219 \nL 253.303125 77.719219 \nL 141.703125 77.719219 \nz\n\" style=\"fill:#ffffff;stroke:#000000;stroke-linejoin:miter;\"/>\n    </g>\n    <g id=\"text_8\">\n     <!-- 0.2992318165079526 -->\n     <g transform=\"translate(164.204688 85.650781)scale(0.07 -0.07)\">\n      <use xlink:href=\"#DejaVuSans-48\"/>\n      <use x=\"63.623047\" xlink:href=\"#DejaVuSans-46\"/>\n      <use x=\"95.410156\" xlink:href=\"#DejaVuSans-50\"/>\n      <use x=\"159.033203\" xlink:href=\"#DejaVuSans-57\"/>\n      <use x=\"222.65625\" xlink:href=\"#DejaVuSans-57\"/>\n      <use x=\"286.279297\" xlink:href=\"#DejaVuSans-50\"/>\n      <use x=\"349.902344\" xlink:href=\"#DejaVuSans-51\"/>\n      <use x=\"413.525391\" xlink:href=\"#DejaVuSans-49\"/>\n      <use x=\"477.148438\" xlink:href=\"#DejaVuSans-56\"/>\n      <use x=\"540.771484\" xlink:href=\"#DejaVuSans-49\"/>\n      <use x=\"604.394531\" xlink:href=\"#DejaVuSans-54\"/>\n      <use x=\"668.017578\" xlink:href=\"#DejaVuSans-53\"/>\n      <use x=\"731.640625\" xlink:href=\"#DejaVuSans-48\"/>\n      <use x=\"795.263672\" xlink:href=\"#DejaVuSans-55\"/>\n      <use x=\"858.886719\" xlink:href=\"#DejaVuSans-57\"/>\n      <use x=\"922.509766\" xlink:href=\"#DejaVuSans-53\"/>\n      <use x=\"986.132812\" xlink:href=\"#DejaVuSans-50\"/>\n      <use x=\"1049.755859\" xlink:href=\"#DejaVuSans-54\"/>\n     </g>\n    </g>\n    <g id=\"patch_11\">\n     <path d=\"M 253.303125 89.719219 \nL 364.903125 89.719219 \nL 364.903125 77.719219 \nL 253.303125 77.719219 \nz\n\" style=\"fill:#ffffff;stroke:#000000;stroke-linejoin:miter;\"/>\n    </g>\n    <g id=\"text_9\">\n     <!-- 0.6520499992981057 -->\n     <g transform=\"translate(275.804688 85.650781)scale(0.07 -0.07)\">\n      <use xlink:href=\"#DejaVuSans-48\"/>\n      <use x=\"63.623047\" xlink:href=\"#DejaVuSans-46\"/>\n      <use x=\"95.410156\" xlink:href=\"#DejaVuSans-54\"/>\n      <use x=\"159.033203\" xlink:href=\"#DejaVuSans-53\"/>\n      <use x=\"222.65625\" xlink:href=\"#DejaVuSans-50\"/>\n      <use x=\"286.279297\" xlink:href=\"#DejaVuSans-48\"/>\n      <use x=\"349.902344\" xlink:href=\"#DejaVuSans-52\"/>\n      <use x=\"413.525391\" xlink:href=\"#DejaVuSans-57\"/>\n      <use x=\"477.148438\" xlink:href=\"#DejaVuSans-57\"/>\n      <use x=\"540.771484\" xlink:href=\"#DejaVuSans-57\"/>\n      <use x=\"604.394531\" xlink:href=\"#DejaVuSans-57\"/>\n      <use x=\"668.017578\" xlink:href=\"#DejaVuSans-50\"/>\n      <use x=\"731.640625\" xlink:href=\"#DejaVuSans-57\"/>\n      <use x=\"795.263672\" xlink:href=\"#DejaVuSans-56\"/>\n      <use x=\"858.886719\" xlink:href=\"#DejaVuSans-49\"/>\n      <use x=\"922.509766\" xlink:href=\"#DejaVuSans-48\"/>\n      <use x=\"986.132812\" xlink:href=\"#DejaVuSans-53\"/>\n      <use x=\"1049.755859\" xlink:href=\"#DejaVuSans-55\"/>\n     </g>\n    </g>\n    <g id=\"patch_12\">\n     <path d=\"M 30.103125 101.719219 \nL 141.703125 101.719219 \nL 141.703125 89.719219 \nL 30.103125 89.719219 \nz\n\" style=\"fill:#ffffff;stroke:#000000;stroke-linejoin:miter;\"/>\n    </g>\n    <g id=\"text_10\">\n     <!-- 0.9381885788629272 -->\n     <g transform=\"translate(52.604688 97.650781)scale(0.07 -0.07)\">\n      <use xlink:href=\"#DejaVuSans-48\"/>\n      <use x=\"63.623047\" xlink:href=\"#DejaVuSans-46\"/>\n      <use x=\"95.410156\" xlink:href=\"#DejaVuSans-57\"/>\n      <use x=\"159.033203\" xlink:href=\"#DejaVuSans-51\"/>\n      <use x=\"222.65625\" xlink:href=\"#DejaVuSans-56\"/>\n      <use x=\"286.279297\" xlink:href=\"#DejaVuSans-49\"/>\n      <use x=\"349.902344\" xlink:href=\"#DejaVuSans-56\"/>\n      <use x=\"413.525391\" xlink:href=\"#DejaVuSans-56\"/>\n      <use x=\"477.148438\" xlink:href=\"#DejaVuSans-53\"/>\n      <use x=\"540.771484\" xlink:href=\"#DejaVuSans-55\"/>\n      <use x=\"604.394531\" xlink:href=\"#DejaVuSans-56\"/>\n      <use x=\"668.017578\" xlink:href=\"#DejaVuSans-56\"/>\n      <use x=\"731.640625\" xlink:href=\"#DejaVuSans-54\"/>\n      <use x=\"795.263672\" xlink:href=\"#DejaVuSans-50\"/>\n      <use x=\"858.886719\" xlink:href=\"#DejaVuSans-57\"/>\n      <use x=\"922.509766\" xlink:href=\"#DejaVuSans-50\"/>\n      <use x=\"986.132812\" xlink:href=\"#DejaVuSans-55\"/>\n      <use x=\"1049.755859\" xlink:href=\"#DejaVuSans-50\"/>\n     </g>\n    </g>\n    <g id=\"patch_13\">\n     <path d=\"M 141.703125 101.719219 \nL 253.303125 101.719219 \nL 253.303125 89.719219 \nL 141.703125 89.719219 \nz\n\" style=\"fill:#ffffff;stroke:#000000;stroke-linejoin:miter;\"/>\n    </g>\n    <g id=\"text_11\">\n     <!-- 0.057620899777771184 -->\n     <g transform=\"translate(155.297188 97.650781)scale(0.07 -0.07)\">\n      <use xlink:href=\"#DejaVuSans-48\"/>\n      <use x=\"63.623047\" xlink:href=\"#DejaVuSans-46\"/>\n      <use x=\"95.410156\" xlink:href=\"#DejaVuSans-48\"/>\n      <use x=\"159.033203\" xlink:href=\"#DejaVuSans-53\"/>\n      <use x=\"222.65625\" xlink:href=\"#DejaVuSans-55\"/>\n      <use x=\"286.279297\" xlink:href=\"#DejaVuSans-54\"/>\n      <use x=\"349.902344\" xlink:href=\"#DejaVuSans-50\"/>\n      <use x=\"413.525391\" xlink:href=\"#DejaVuSans-48\"/>\n      <use x=\"477.148438\" xlink:href=\"#DejaVuSans-56\"/>\n      <use x=\"540.771484\" xlink:href=\"#DejaVuSans-57\"/>\n      <use x=\"604.394531\" xlink:href=\"#DejaVuSans-57\"/>\n      <use x=\"668.017578\" xlink:href=\"#DejaVuSans-55\"/>\n      <use x=\"731.640625\" xlink:href=\"#DejaVuSans-55\"/>\n      <use x=\"795.263672\" xlink:href=\"#DejaVuSans-55\"/>\n      <use x=\"858.886719\" xlink:href=\"#DejaVuSans-55\"/>\n      <use x=\"922.509766\" xlink:href=\"#DejaVuSans-55\"/>\n      <use x=\"986.132812\" xlink:href=\"#DejaVuSans-49\"/>\n      <use x=\"1049.755859\" xlink:href=\"#DejaVuSans-49\"/>\n      <use x=\"1113.378906\" xlink:href=\"#DejaVuSans-56\"/>\n      <use x=\"1177.001953\" xlink:href=\"#DejaVuSans-52\"/>\n     </g>\n    </g>\n    <g id=\"patch_14\">\n     <path d=\"M 253.303125 101.719219 \nL 364.903125 101.719219 \nL 364.903125 89.719219 \nL 253.303125 89.719219 \nz\n\" style=\"fill:#ffffff;stroke:#000000;stroke-linejoin:miter;\"/>\n    </g>\n    <g id=\"text_12\">\n     <!-- 0.5581262306668815 -->\n     <g transform=\"translate(275.804688 97.650781)scale(0.07 -0.07)\">\n      <use xlink:href=\"#DejaVuSans-48\"/>\n      <use x=\"63.623047\" xlink:href=\"#DejaVuSans-46\"/>\n      <use x=\"95.410156\" xlink:href=\"#DejaVuSans-53\"/>\n      <use x=\"159.033203\" xlink:href=\"#DejaVuSans-53\"/>\n      <use x=\"222.65625\" xlink:href=\"#DejaVuSans-56\"/>\n      <use x=\"286.279297\" xlink:href=\"#DejaVuSans-49\"/>\n      <use x=\"349.902344\" xlink:href=\"#DejaVuSans-50\"/>\n      <use x=\"413.525391\" xlink:href=\"#DejaVuSans-54\"/>\n      <use x=\"477.148438\" xlink:href=\"#DejaVuSans-50\"/>\n      <use x=\"540.771484\" xlink:href=\"#DejaVuSans-51\"/>\n      <use x=\"604.394531\" xlink:href=\"#DejaVuSans-48\"/>\n      <use x=\"668.017578\" xlink:href=\"#DejaVuSans-54\"/>\n      <use x=\"731.640625\" xlink:href=\"#DejaVuSans-54\"/>\n      <use x=\"795.263672\" xlink:href=\"#DejaVuSans-54\"/>\n      <use x=\"858.886719\" xlink:href=\"#DejaVuSans-56\"/>\n      <use x=\"922.509766\" xlink:href=\"#DejaVuSans-56\"/>\n      <use x=\"986.132812\" xlink:href=\"#DejaVuSans-49\"/>\n      <use x=\"1049.755859\" xlink:href=\"#DejaVuSans-53\"/>\n     </g>\n    </g>\n    <g id=\"patch_15\">\n     <path d=\"M 30.103125 113.719219 \nL 141.703125 113.719219 \nL 141.703125 101.719219 \nL 30.103125 101.719219 \nz\n\" style=\"fill:#ffffff;stroke:#000000;stroke-linejoin:miter;\"/>\n    </g>\n    <g id=\"text_13\">\n     <!-- 0.9214787759516183 -->\n     <g transform=\"translate(52.604688 109.650781)scale(0.07 -0.07)\">\n      <use xlink:href=\"#DejaVuSans-48\"/>\n      <use x=\"63.623047\" xlink:href=\"#DejaVuSans-46\"/>\n      <use x=\"95.410156\" xlink:href=\"#DejaVuSans-57\"/>\n      <use x=\"159.033203\" xlink:href=\"#DejaVuSans-50\"/>\n      <use x=\"222.65625\" xlink:href=\"#DejaVuSans-49\"/>\n      <use x=\"286.279297\" xlink:href=\"#DejaVuSans-52\"/>\n      <use x=\"349.902344\" xlink:href=\"#DejaVuSans-55\"/>\n      <use x=\"413.525391\" xlink:href=\"#DejaVuSans-56\"/>\n      <use x=\"477.148438\" xlink:href=\"#DejaVuSans-55\"/>\n      <use x=\"540.771484\" xlink:href=\"#DejaVuSans-55\"/>\n      <use x=\"604.394531\" xlink:href=\"#DejaVuSans-53\"/>\n      <use x=\"668.017578\" xlink:href=\"#DejaVuSans-57\"/>\n      <use x=\"731.640625\" xlink:href=\"#DejaVuSans-53\"/>\n      <use x=\"795.263672\" xlink:href=\"#DejaVuSans-49\"/>\n      <use x=\"858.886719\" xlink:href=\"#DejaVuSans-54\"/>\n      <use x=\"922.509766\" xlink:href=\"#DejaVuSans-49\"/>\n      <use x=\"986.132812\" xlink:href=\"#DejaVuSans-56\"/>\n      <use x=\"1049.755859\" xlink:href=\"#DejaVuSans-51\"/>\n     </g>\n    </g>\n    <g id=\"patch_16\">\n     <path d=\"M 141.703125 113.719219 \nL 253.303125 113.719219 \nL 253.303125 101.719219 \nL 141.703125 101.719219 \nz\n\" style=\"fill:#ffffff;stroke:#000000;stroke-linejoin:miter;\"/>\n    </g>\n    <g id=\"text_14\">\n     <!-- 0.9805694362024516 -->\n     <g transform=\"translate(164.204688 109.650781)scale(0.07 -0.07)\">\n      <use xlink:href=\"#DejaVuSans-48\"/>\n      <use x=\"63.623047\" xlink:href=\"#DejaVuSans-46\"/>\n      <use x=\"95.410156\" xlink:href=\"#DejaVuSans-57\"/>\n      <use x=\"159.033203\" xlink:href=\"#DejaVuSans-56\"/>\n      <use x=\"222.65625\" xlink:href=\"#DejaVuSans-48\"/>\n      <use x=\"286.279297\" xlink:href=\"#DejaVuSans-53\"/>\n      <use x=\"349.902344\" xlink:href=\"#DejaVuSans-54\"/>\n      <use x=\"413.525391\" xlink:href=\"#DejaVuSans-57\"/>\n      <use x=\"477.148438\" xlink:href=\"#DejaVuSans-52\"/>\n      <use x=\"540.771484\" xlink:href=\"#DejaVuSans-51\"/>\n      <use x=\"604.394531\" xlink:href=\"#DejaVuSans-54\"/>\n      <use x=\"668.017578\" xlink:href=\"#DejaVuSans-50\"/>\n      <use x=\"731.640625\" xlink:href=\"#DejaVuSans-48\"/>\n      <use x=\"795.263672\" xlink:href=\"#DejaVuSans-50\"/>\n      <use x=\"858.886719\" xlink:href=\"#DejaVuSans-52\"/>\n      <use x=\"922.509766\" xlink:href=\"#DejaVuSans-53\"/>\n      <use x=\"986.132812\" xlink:href=\"#DejaVuSans-49\"/>\n      <use x=\"1049.755859\" xlink:href=\"#DejaVuSans-54\"/>\n     </g>\n    </g>\n    <g id=\"patch_17\">\n     <path d=\"M 253.303125 113.719219 \nL 364.903125 113.719219 \nL 364.903125 101.719219 \nL 253.303125 101.719219 \nz\n\" style=\"fill:#ffffff;stroke:#000000;stroke-linejoin:miter;\"/>\n    </g>\n    <g id=\"text_15\">\n     <!-- 0.8034535964970072 -->\n     <g transform=\"translate(275.804688 109.650781)scale(0.07 -0.07)\">\n      <use xlink:href=\"#DejaVuSans-48\"/>\n      <use x=\"63.623047\" xlink:href=\"#DejaVuSans-46\"/>\n      <use x=\"95.410156\" xlink:href=\"#DejaVuSans-56\"/>\n      <use x=\"159.033203\" xlink:href=\"#DejaVuSans-48\"/>\n      <use x=\"222.65625\" xlink:href=\"#DejaVuSans-51\"/>\n      <use x=\"286.279297\" xlink:href=\"#DejaVuSans-52\"/>\n      <use x=\"349.902344\" xlink:href=\"#DejaVuSans-53\"/>\n      <use x=\"413.525391\" xlink:href=\"#DejaVuSans-51\"/>\n      <use x=\"477.148438\" xlink:href=\"#DejaVuSans-53\"/>\n      <use x=\"540.771484\" xlink:href=\"#DejaVuSans-57\"/>\n      <use x=\"604.394531\" xlink:href=\"#DejaVuSans-54\"/>\n      <use x=\"668.017578\" xlink:href=\"#DejaVuSans-52\"/>\n      <use x=\"731.640625\" xlink:href=\"#DejaVuSans-57\"/>\n      <use x=\"795.263672\" xlink:href=\"#DejaVuSans-55\"/>\n      <use x=\"858.886719\" xlink:href=\"#DejaVuSans-48\"/>\n      <use x=\"922.509766\" xlink:href=\"#DejaVuSans-48\"/>\n      <use x=\"986.132812\" xlink:href=\"#DejaVuSans-55\"/>\n      <use x=\"1049.755859\" xlink:href=\"#DejaVuSans-50\"/>\n     </g>\n    </g>\n    <g id=\"patch_18\">\n     <path d=\"M 30.103125 125.719219 \nL 141.703125 125.719219 \nL 141.703125 113.719219 \nL 30.103125 113.719219 \nz\n\" style=\"fill:#ffffff;stroke:#000000;stroke-linejoin:miter;\"/>\n    </g>\n    <g id=\"text_16\">\n     <!-- 0.5300568453091399 -->\n     <g transform=\"translate(52.604688 121.650781)scale(0.07 -0.07)\">\n      <use xlink:href=\"#DejaVuSans-48\"/>\n      <use x=\"63.623047\" xlink:href=\"#DejaVuSans-46\"/>\n      <use x=\"95.410156\" xlink:href=\"#DejaVuSans-53\"/>\n      <use x=\"159.033203\" xlink:href=\"#DejaVuSans-51\"/>\n      <use x=\"222.65625\" xlink:href=\"#DejaVuSans-48\"/>\n      <use x=\"286.279297\" xlink:href=\"#DejaVuSans-48\"/>\n      <use x=\"349.902344\" xlink:href=\"#DejaVuSans-53\"/>\n      <use x=\"413.525391\" xlink:href=\"#DejaVuSans-54\"/>\n      <use x=\"477.148438\" xlink:href=\"#DejaVuSans-56\"/>\n      <use x=\"540.771484\" xlink:href=\"#DejaVuSans-52\"/>\n      <use x=\"604.394531\" xlink:href=\"#DejaVuSans-53\"/>\n      <use x=\"668.017578\" xlink:href=\"#DejaVuSans-51\"/>\n      <use x=\"731.640625\" xlink:href=\"#DejaVuSans-48\"/>\n      <use x=\"795.263672\" xlink:href=\"#DejaVuSans-57\"/>\n      <use x=\"858.886719\" xlink:href=\"#DejaVuSans-49\"/>\n      <use x=\"922.509766\" xlink:href=\"#DejaVuSans-51\"/>\n      <use x=\"986.132812\" xlink:href=\"#DejaVuSans-57\"/>\n      <use x=\"1049.755859\" xlink:href=\"#DejaVuSans-57\"/>\n     </g>\n    </g>\n    <g id=\"patch_19\">\n     <path d=\"M 141.703125 125.719219 \nL 253.303125 125.719219 \nL 253.303125 113.719219 \nL 141.703125 113.719219 \nz\n\" style=\"fill:#ffffff;stroke:#000000;stroke-linejoin:miter;\"/>\n    </g>\n    <g id=\"text_17\">\n     <!-- 0.1192161983322425 -->\n     <g transform=\"translate(164.204688 121.650781)scale(0.07 -0.07)\">\n      <use xlink:href=\"#DejaVuSans-48\"/>\n      <use x=\"63.623047\" xlink:href=\"#DejaVuSans-46\"/>\n      <use x=\"95.410156\" xlink:href=\"#DejaVuSans-49\"/>\n      <use x=\"159.033203\" xlink:href=\"#DejaVuSans-49\"/>\n      <use x=\"222.65625\" xlink:href=\"#DejaVuSans-57\"/>\n      <use x=\"286.279297\" xlink:href=\"#DejaVuSans-50\"/>\n      <use x=\"349.902344\" xlink:href=\"#DejaVuSans-49\"/>\n      <use x=\"413.525391\" xlink:href=\"#DejaVuSans-54\"/>\n      <use x=\"477.148438\" xlink:href=\"#DejaVuSans-49\"/>\n      <use x=\"540.771484\" xlink:href=\"#DejaVuSans-57\"/>\n      <use x=\"604.394531\" xlink:href=\"#DejaVuSans-56\"/>\n      <use x=\"668.017578\" xlink:href=\"#DejaVuSans-51\"/>\n      <use x=\"731.640625\" xlink:href=\"#DejaVuSans-51\"/>\n      <use x=\"795.263672\" xlink:href=\"#DejaVuSans-50\"/>\n      <use x=\"858.886719\" xlink:href=\"#DejaVuSans-50\"/>\n      <use x=\"922.509766\" xlink:href=\"#DejaVuSans-52\"/>\n      <use x=\"986.132812\" xlink:href=\"#DejaVuSans-50\"/>\n      <use x=\"1049.755859\" xlink:href=\"#DejaVuSans-53\"/>\n     </g>\n    </g>\n    <g id=\"patch_20\">\n     <path d=\"M 253.303125 125.719219 \nL 364.903125 125.719219 \nL 364.903125 113.719219 \nL 253.303125 113.719219 \nz\n\" style=\"fill:#ffffff;stroke:#000000;stroke-linejoin:miter;\"/>\n    </g>\n    <g id=\"text_18\">\n     <!-- 0.8623160848515042 -->\n     <g transform=\"translate(275.804688 121.650781)scale(0.07 -0.07)\">\n      <use xlink:href=\"#DejaVuSans-48\"/>\n      <use x=\"63.623047\" xlink:href=\"#DejaVuSans-46\"/>\n      <use x=\"95.410156\" xlink:href=\"#DejaVuSans-56\"/>\n      <use x=\"159.033203\" xlink:href=\"#DejaVuSans-54\"/>\n      <use x=\"222.65625\" xlink:href=\"#DejaVuSans-50\"/>\n      <use x=\"286.279297\" xlink:href=\"#DejaVuSans-51\"/>\n      <use x=\"349.902344\" xlink:href=\"#DejaVuSans-49\"/>\n      <use x=\"413.525391\" xlink:href=\"#DejaVuSans-54\"/>\n      <use x=\"477.148438\" xlink:href=\"#DejaVuSans-48\"/>\n      <use x=\"540.771484\" xlink:href=\"#DejaVuSans-56\"/>\n      <use x=\"604.394531\" xlink:href=\"#DejaVuSans-52\"/>\n      <use x=\"668.017578\" xlink:href=\"#DejaVuSans-56\"/>\n      <use x=\"731.640625\" xlink:href=\"#DejaVuSans-53\"/>\n      <use x=\"795.263672\" xlink:href=\"#DejaVuSans-49\"/>\n      <use x=\"858.886719\" xlink:href=\"#DejaVuSans-53\"/>\n      <use x=\"922.509766\" xlink:href=\"#DejaVuSans-48\"/>\n      <use x=\"986.132812\" xlink:href=\"#DejaVuSans-52\"/>\n      <use x=\"1049.755859\" xlink:href=\"#DejaVuSans-50\"/>\n     </g>\n    </g>\n    <g id=\"patch_21\">\n     <path d=\"M 30.103125 137.719219 \nL 141.703125 137.719219 \nL 141.703125 125.719219 \nL 30.103125 125.719219 \nz\n\" style=\"fill:#ffffff;stroke:#000000;stroke-linejoin:miter;\"/>\n    </g>\n    <g id=\"text_19\">\n     <!-- 0.13906054650607136 -->\n     <g transform=\"translate(48.150938 133.650781)scale(0.07 -0.07)\">\n      <use xlink:href=\"#DejaVuSans-48\"/>\n      <use x=\"63.623047\" xlink:href=\"#DejaVuSans-46\"/>\n      <use x=\"95.410156\" xlink:href=\"#DejaVuSans-49\"/>\n      <use x=\"159.033203\" xlink:href=\"#DejaVuSans-51\"/>\n      <use x=\"222.65625\" xlink:href=\"#DejaVuSans-57\"/>\n      <use x=\"286.279297\" xlink:href=\"#DejaVuSans-48\"/>\n      <use x=\"349.902344\" xlink:href=\"#DejaVuSans-54\"/>\n      <use x=\"413.525391\" xlink:href=\"#DejaVuSans-48\"/>\n      <use x=\"477.148438\" xlink:href=\"#DejaVuSans-53\"/>\n      <use x=\"540.771484\" xlink:href=\"#DejaVuSans-52\"/>\n      <use x=\"604.394531\" xlink:href=\"#DejaVuSans-54\"/>\n      <use x=\"668.017578\" xlink:href=\"#DejaVuSans-53\"/>\n      <use x=\"731.640625\" xlink:href=\"#DejaVuSans-48\"/>\n      <use x=\"795.263672\" xlink:href=\"#DejaVuSans-54\"/>\n      <use x=\"858.886719\" xlink:href=\"#DejaVuSans-48\"/>\n      <use x=\"922.509766\" xlink:href=\"#DejaVuSans-55\"/>\n      <use x=\"986.132812\" xlink:href=\"#DejaVuSans-49\"/>\n      <use x=\"1049.755859\" xlink:href=\"#DejaVuSans-51\"/>\n      <use x=\"1113.378906\" xlink:href=\"#DejaVuSans-54\"/>\n     </g>\n    </g>\n    <g id=\"patch_22\">\n     <path d=\"M 141.703125 137.719219 \nL 253.303125 137.719219 \nL 253.303125 125.719219 \nL 141.703125 125.719219 \nz\n\" style=\"fill:#ffffff;stroke:#000000;stroke-linejoin:miter;\"/>\n    </g>\n    <g id=\"text_20\">\n     <!-- 0.7614786956906663 -->\n     <g transform=\"translate(164.204688 133.650781)scale(0.07 -0.07)\">\n      <use xlink:href=\"#DejaVuSans-48\"/>\n      <use x=\"63.623047\" xlink:href=\"#DejaVuSans-46\"/>\n      <use x=\"95.410156\" xlink:href=\"#DejaVuSans-55\"/>\n      <use x=\"159.033203\" xlink:href=\"#DejaVuSans-54\"/>\n      <use x=\"222.65625\" xlink:href=\"#DejaVuSans-49\"/>\n      <use x=\"286.279297\" xlink:href=\"#DejaVuSans-52\"/>\n      <use x=\"349.902344\" xlink:href=\"#DejaVuSans-55\"/>\n      <use x=\"413.525391\" xlink:href=\"#DejaVuSans-56\"/>\n      <use x=\"477.148438\" xlink:href=\"#DejaVuSans-54\"/>\n      <use x=\"540.771484\" xlink:href=\"#DejaVuSans-57\"/>\n      <use x=\"604.394531\" xlink:href=\"#DejaVuSans-53\"/>\n      <use x=\"668.017578\" xlink:href=\"#DejaVuSans-54\"/>\n      <use x=\"731.640625\" xlink:href=\"#DejaVuSans-57\"/>\n      <use x=\"795.263672\" xlink:href=\"#DejaVuSans-48\"/>\n      <use x=\"858.886719\" xlink:href=\"#DejaVuSans-54\"/>\n      <use x=\"922.509766\" xlink:href=\"#DejaVuSans-54\"/>\n      <use x=\"986.132812\" xlink:href=\"#DejaVuSans-54\"/>\n      <use x=\"1049.755859\" xlink:href=\"#DejaVuSans-51\"/>\n     </g>\n    </g>\n    <g id=\"patch_23\">\n     <path d=\"M 253.303125 137.719219 \nL 364.903125 137.719219 \nL 364.903125 125.719219 \nL 253.303125 125.719219 \nz\n\" style=\"fill:#ffffff;stroke:#000000;stroke-linejoin:miter;\"/>\n    </g>\n    <g id=\"text_21\">\n     <!-- 0.647389261302004 -->\n     <g transform=\"translate(280.258438 133.650781)scale(0.07 -0.07)\">\n      <use xlink:href=\"#DejaVuSans-48\"/>\n      <use x=\"63.623047\" xlink:href=\"#DejaVuSans-46\"/>\n      <use x=\"95.410156\" xlink:href=\"#DejaVuSans-54\"/>\n      <use x=\"159.033203\" xlink:href=\"#DejaVuSans-52\"/>\n      <use x=\"222.65625\" xlink:href=\"#DejaVuSans-55\"/>\n      <use x=\"286.279297\" xlink:href=\"#DejaVuSans-51\"/>\n      <use x=\"349.902344\" xlink:href=\"#DejaVuSans-56\"/>\n      <use x=\"413.525391\" xlink:href=\"#DejaVuSans-57\"/>\n      <use x=\"477.148438\" xlink:href=\"#DejaVuSans-50\"/>\n      <use x=\"540.771484\" xlink:href=\"#DejaVuSans-54\"/>\n      <use x=\"604.394531\" xlink:href=\"#DejaVuSans-49\"/>\n      <use x=\"668.017578\" xlink:href=\"#DejaVuSans-51\"/>\n      <use x=\"731.640625\" xlink:href=\"#DejaVuSans-48\"/>\n      <use x=\"795.263672\" xlink:href=\"#DejaVuSans-50\"/>\n      <use x=\"858.886719\" xlink:href=\"#DejaVuSans-48\"/>\n      <use x=\"922.509766\" xlink:href=\"#DejaVuSans-48\"/>\n      <use x=\"986.132812\" xlink:href=\"#DejaVuSans-52\"/>\n     </g>\n    </g>\n    <g id=\"patch_24\">\n     <path d=\"M 30.103125 149.719219 \nL 141.703125 149.719219 \nL 141.703125 137.719219 \nL 30.103125 137.719219 \nz\n\" style=\"fill:#ffffff;stroke:#000000;stroke-linejoin:miter;\"/>\n    </g>\n    <g id=\"text_22\">\n     <!-- 0.5014904934748831 -->\n     <g transform=\"translate(52.604688 145.650781)scale(0.07 -0.07)\">\n      <use xlink:href=\"#DejaVuSans-48\"/>\n      <use x=\"63.623047\" xlink:href=\"#DejaVuSans-46\"/>\n      <use x=\"95.410156\" xlink:href=\"#DejaVuSans-53\"/>\n      <use x=\"159.033203\" xlink:href=\"#DejaVuSans-48\"/>\n      <use x=\"222.65625\" xlink:href=\"#DejaVuSans-49\"/>\n      <use x=\"286.279297\" xlink:href=\"#DejaVuSans-52\"/>\n      <use x=\"349.902344\" xlink:href=\"#DejaVuSans-57\"/>\n      <use x=\"413.525391\" xlink:href=\"#DejaVuSans-48\"/>\n      <use x=\"477.148438\" xlink:href=\"#DejaVuSans-52\"/>\n      <use x=\"540.771484\" xlink:href=\"#DejaVuSans-57\"/>\n      <use x=\"604.394531\" xlink:href=\"#DejaVuSans-51\"/>\n      <use x=\"668.017578\" xlink:href=\"#DejaVuSans-52\"/>\n      <use x=\"731.640625\" xlink:href=\"#DejaVuSans-55\"/>\n      <use x=\"795.263672\" xlink:href=\"#DejaVuSans-52\"/>\n      <use x=\"858.886719\" xlink:href=\"#DejaVuSans-56\"/>\n      <use x=\"922.509766\" xlink:href=\"#DejaVuSans-56\"/>\n      <use x=\"986.132812\" xlink:href=\"#DejaVuSans-51\"/>\n      <use x=\"1049.755859\" xlink:href=\"#DejaVuSans-49\"/>\n     </g>\n    </g>\n    <g id=\"patch_25\">\n     <path d=\"M 141.703125 149.719219 \nL 253.303125 149.719219 \nL 253.303125 137.719219 \nL 141.703125 137.719219 \nz\n\" style=\"fill:#ffffff;stroke:#000000;stroke-linejoin:miter;\"/>\n    </g>\n    <g id=\"text_23\">\n     <!-- 0.6031937346083217 -->\n     <g transform=\"translate(164.204688 145.650781)scale(0.07 -0.07)\">\n      <use xlink:href=\"#DejaVuSans-48\"/>\n      <use x=\"63.623047\" xlink:href=\"#DejaVuSans-46\"/>\n      <use x=\"95.410156\" xlink:href=\"#DejaVuSans-54\"/>\n      <use x=\"159.033203\" xlink:href=\"#DejaVuSans-48\"/>\n      <use x=\"222.65625\" xlink:href=\"#DejaVuSans-51\"/>\n      <use x=\"286.279297\" xlink:href=\"#DejaVuSans-49\"/>\n      <use x=\"349.902344\" xlink:href=\"#DejaVuSans-57\"/>\n      <use x=\"413.525391\" xlink:href=\"#DejaVuSans-51\"/>\n      <use x=\"477.148438\" xlink:href=\"#DejaVuSans-55\"/>\n      <use x=\"540.771484\" xlink:href=\"#DejaVuSans-51\"/>\n      <use x=\"604.394531\" xlink:href=\"#DejaVuSans-52\"/>\n      <use x=\"668.017578\" xlink:href=\"#DejaVuSans-54\"/>\n      <use x=\"731.640625\" xlink:href=\"#DejaVuSans-48\"/>\n      <use x=\"795.263672\" xlink:href=\"#DejaVuSans-56\"/>\n      <use x=\"858.886719\" xlink:href=\"#DejaVuSans-51\"/>\n      <use x=\"922.509766\" xlink:href=\"#DejaVuSans-50\"/>\n      <use x=\"986.132812\" xlink:href=\"#DejaVuSans-49\"/>\n      <use x=\"1049.755859\" xlink:href=\"#DejaVuSans-55\"/>\n     </g>\n    </g>\n    <g id=\"patch_26\">\n     <path d=\"M 253.303125 149.719219 \nL 364.903125 149.719219 \nL 364.903125 137.719219 \nL 253.303125 137.719219 \nz\n\" style=\"fill:#ffffff;stroke:#000000;stroke-linejoin:miter;\"/>\n    </g>\n    <g id=\"text_24\">\n     <!-- 0.6836852260807055 -->\n     <g transform=\"translate(275.804688 145.650781)scale(0.07 -0.07)\">\n      <use xlink:href=\"#DejaVuSans-48\"/>\n      <use x=\"63.623047\" xlink:href=\"#DejaVuSans-46\"/>\n      <use x=\"95.410156\" xlink:href=\"#DejaVuSans-54\"/>\n      <use x=\"159.033203\" xlink:href=\"#DejaVuSans-56\"/>\n      <use x=\"222.65625\" xlink:href=\"#DejaVuSans-51\"/>\n      <use x=\"286.279297\" xlink:href=\"#DejaVuSans-54\"/>\n      <use x=\"349.902344\" xlink:href=\"#DejaVuSans-56\"/>\n      <use x=\"413.525391\" xlink:href=\"#DejaVuSans-53\"/>\n      <use x=\"477.148438\" xlink:href=\"#DejaVuSans-50\"/>\n      <use x=\"540.771484\" xlink:href=\"#DejaVuSans-50\"/>\n      <use x=\"604.394531\" xlink:href=\"#DejaVuSans-54\"/>\n      <use x=\"668.017578\" xlink:href=\"#DejaVuSans-48\"/>\n      <use x=\"731.640625\" xlink:href=\"#DejaVuSans-56\"/>\n      <use x=\"795.263672\" xlink:href=\"#DejaVuSans-48\"/>\n      <use x=\"858.886719\" xlink:href=\"#DejaVuSans-55\"/>\n      <use x=\"922.509766\" xlink:href=\"#DejaVuSans-48\"/>\n      <use x=\"986.132812\" xlink:href=\"#DejaVuSans-53\"/>\n      <use x=\"1049.755859\" xlink:href=\"#DejaVuSans-53\"/>\n     </g>\n    </g>\n    <g id=\"patch_27\">\n     <path d=\"M 30.103125 161.719219 \nL 141.703125 161.719219 \nL 141.703125 149.719219 \nL 30.103125 149.719219 \nz\n\" style=\"fill:#ffffff;stroke:#000000;stroke-linejoin:miter;\"/>\n    </g>\n    <g id=\"text_25\">\n     <!-- 0.6998169472945234 -->\n     <g transform=\"translate(52.604688 157.650781)scale(0.07 -0.07)\">\n      <use xlink:href=\"#DejaVuSans-48\"/>\n      <use x=\"63.623047\" xlink:href=\"#DejaVuSans-46\"/>\n      <use x=\"95.410156\" xlink:href=\"#DejaVuSans-54\"/>\n      <use x=\"159.033203\" xlink:href=\"#DejaVuSans-57\"/>\n      <use x=\"222.65625\" xlink:href=\"#DejaVuSans-57\"/>\n      <use x=\"286.279297\" xlink:href=\"#DejaVuSans-56\"/>\n      <use x=\"349.902344\" xlink:href=\"#DejaVuSans-49\"/>\n      <use x=\"413.525391\" xlink:href=\"#DejaVuSans-54\"/>\n      <use x=\"477.148438\" xlink:href=\"#DejaVuSans-57\"/>\n      <use x=\"540.771484\" xlink:href=\"#DejaVuSans-52\"/>\n      <use x=\"604.394531\" xlink:href=\"#DejaVuSans-55\"/>\n      <use x=\"668.017578\" xlink:href=\"#DejaVuSans-50\"/>\n      <use x=\"731.640625\" xlink:href=\"#DejaVuSans-57\"/>\n      <use x=\"795.263672\" xlink:href=\"#DejaVuSans-52\"/>\n      <use x=\"858.886719\" xlink:href=\"#DejaVuSans-53\"/>\n      <use x=\"922.509766\" xlink:href=\"#DejaVuSans-50\"/>\n      <use x=\"986.132812\" xlink:href=\"#DejaVuSans-51\"/>\n      <use x=\"1049.755859\" xlink:href=\"#DejaVuSans-52\"/>\n     </g>\n    </g>\n    <g id=\"patch_28\">\n     <path d=\"M 141.703125 161.719219 \nL 253.303125 161.719219 \nL 253.303125 149.719219 \nL 141.703125 149.719219 \nz\n\" style=\"fill:#ffffff;stroke:#000000;stroke-linejoin:miter;\"/>\n    </g>\n    <g id=\"text_26\">\n     <!-- 0.7775599692135723 -->\n     <g transform=\"translate(164.204688 157.650781)scale(0.07 -0.07)\">\n      <use xlink:href=\"#DejaVuSans-48\"/>\n      <use x=\"63.623047\" xlink:href=\"#DejaVuSans-46\"/>\n      <use x=\"95.410156\" xlink:href=\"#DejaVuSans-55\"/>\n      <use x=\"159.033203\" xlink:href=\"#DejaVuSans-55\"/>\n      <use x=\"222.65625\" xlink:href=\"#DejaVuSans-55\"/>\n      <use x=\"286.279297\" xlink:href=\"#DejaVuSans-53\"/>\n      <use x=\"349.902344\" xlink:href=\"#DejaVuSans-53\"/>\n      <use x=\"413.525391\" xlink:href=\"#DejaVuSans-57\"/>\n      <use x=\"477.148438\" xlink:href=\"#DejaVuSans-57\"/>\n      <use x=\"540.771484\" xlink:href=\"#DejaVuSans-54\"/>\n      <use x=\"604.394531\" xlink:href=\"#DejaVuSans-57\"/>\n      <use x=\"668.017578\" xlink:href=\"#DejaVuSans-50\"/>\n      <use x=\"731.640625\" xlink:href=\"#DejaVuSans-49\"/>\n      <use x=\"795.263672\" xlink:href=\"#DejaVuSans-51\"/>\n      <use x=\"858.886719\" xlink:href=\"#DejaVuSans-53\"/>\n      <use x=\"922.509766\" xlink:href=\"#DejaVuSans-55\"/>\n      <use x=\"986.132812\" xlink:href=\"#DejaVuSans-50\"/>\n      <use x=\"1049.755859\" xlink:href=\"#DejaVuSans-51\"/>\n     </g>\n    </g>\n    <g id=\"patch_29\">\n     <path d=\"M 253.303125 161.719219 \nL 364.903125 161.719219 \nL 364.903125 149.719219 \nL 253.303125 149.719219 \nz\n\" style=\"fill:#ffffff;stroke:#000000;stroke-linejoin:miter;\"/>\n    </g>\n    <g id=\"text_27\">\n     <!-- 0.5070148374400283 -->\n     <g transform=\"translate(275.804688 157.650781)scale(0.07 -0.07)\">\n      <use xlink:href=\"#DejaVuSans-48\"/>\n      <use x=\"63.623047\" xlink:href=\"#DejaVuSans-46\"/>\n      <use x=\"95.410156\" xlink:href=\"#DejaVuSans-53\"/>\n      <use x=\"159.033203\" xlink:href=\"#DejaVuSans-48\"/>\n      <use x=\"222.65625\" xlink:href=\"#DejaVuSans-55\"/>\n      <use x=\"286.279297\" xlink:href=\"#DejaVuSans-48\"/>\n      <use x=\"349.902344\" xlink:href=\"#DejaVuSans-49\"/>\n      <use x=\"413.525391\" xlink:href=\"#DejaVuSans-52\"/>\n      <use x=\"477.148438\" xlink:href=\"#DejaVuSans-56\"/>\n      <use x=\"540.771484\" xlink:href=\"#DejaVuSans-51\"/>\n      <use x=\"604.394531\" xlink:href=\"#DejaVuSans-55\"/>\n      <use x=\"668.017578\" xlink:href=\"#DejaVuSans-52\"/>\n      <use x=\"731.640625\" xlink:href=\"#DejaVuSans-52\"/>\n      <use x=\"795.263672\" xlink:href=\"#DejaVuSans-48\"/>\n      <use x=\"858.886719\" xlink:href=\"#DejaVuSans-48\"/>\n      <use x=\"922.509766\" xlink:href=\"#DejaVuSans-50\"/>\n      <use x=\"986.132812\" xlink:href=\"#DejaVuSans-56\"/>\n      <use x=\"1049.755859\" xlink:href=\"#DejaVuSans-51\"/>\n     </g>\n    </g>\n    <g id=\"patch_30\">\n     <path d=\"M 30.103125 173.719219 \nL 141.703125 173.719219 \nL 141.703125 161.719219 \nL 30.103125 161.719219 \nz\n\" style=\"fill:#ffffff;stroke:#000000;stroke-linejoin:miter;\"/>\n    </g>\n    <g id=\"text_28\">\n     <!-- 0.9758058576937408 -->\n     <g transform=\"translate(52.604688 169.650781)scale(0.07 -0.07)\">\n      <use xlink:href=\"#DejaVuSans-48\"/>\n      <use x=\"63.623047\" xlink:href=\"#DejaVuSans-46\"/>\n      <use x=\"95.410156\" xlink:href=\"#DejaVuSans-57\"/>\n      <use x=\"159.033203\" xlink:href=\"#DejaVuSans-55\"/>\n      <use x=\"222.65625\" xlink:href=\"#DejaVuSans-53\"/>\n      <use x=\"286.279297\" xlink:href=\"#DejaVuSans-56\"/>\n      <use x=\"349.902344\" xlink:href=\"#DejaVuSans-48\"/>\n      <use x=\"413.525391\" xlink:href=\"#DejaVuSans-53\"/>\n      <use x=\"477.148438\" xlink:href=\"#DejaVuSans-56\"/>\n      <use x=\"540.771484\" xlink:href=\"#DejaVuSans-53\"/>\n      <use x=\"604.394531\" xlink:href=\"#DejaVuSans-55\"/>\n      <use x=\"668.017578\" xlink:href=\"#DejaVuSans-54\"/>\n      <use x=\"731.640625\" xlink:href=\"#DejaVuSans-57\"/>\n      <use x=\"795.263672\" xlink:href=\"#DejaVuSans-51\"/>\n      <use x=\"858.886719\" xlink:href=\"#DejaVuSans-55\"/>\n      <use x=\"922.509766\" xlink:href=\"#DejaVuSans-52\"/>\n      <use x=\"986.132812\" xlink:href=\"#DejaVuSans-48\"/>\n      <use x=\"1049.755859\" xlink:href=\"#DejaVuSans-56\"/>\n     </g>\n    </g>\n    <g id=\"patch_31\">\n     <path d=\"M 141.703125 173.719219 \nL 253.303125 173.719219 \nL 253.303125 161.719219 \nL 141.703125 161.719219 \nz\n\" style=\"fill:#ffffff;stroke:#000000;stroke-linejoin:miter;\"/>\n    </g>\n    <g id=\"text_29\">\n     <!-- 0.38902342671729284 -->\n     <g transform=\"translate(159.750938 169.650781)scale(0.07 -0.07)\">\n      <use xlink:href=\"#DejaVuSans-48\"/>\n      <use x=\"63.623047\" xlink:href=\"#DejaVuSans-46\"/>\n      <use x=\"95.410156\" xlink:href=\"#DejaVuSans-51\"/>\n      <use x=\"159.033203\" xlink:href=\"#DejaVuSans-56\"/>\n      <use x=\"222.65625\" xlink:href=\"#DejaVuSans-57\"/>\n      <use x=\"286.279297\" xlink:href=\"#DejaVuSans-48\"/>\n      <use x=\"349.902344\" xlink:href=\"#DejaVuSans-50\"/>\n      <use x=\"413.525391\" xlink:href=\"#DejaVuSans-51\"/>\n      <use x=\"477.148438\" xlink:href=\"#DejaVuSans-52\"/>\n      <use x=\"540.771484\" xlink:href=\"#DejaVuSans-50\"/>\n      <use x=\"604.394531\" xlink:href=\"#DejaVuSans-54\"/>\n      <use x=\"668.017578\" xlink:href=\"#DejaVuSans-55\"/>\n      <use x=\"731.640625\" xlink:href=\"#DejaVuSans-49\"/>\n      <use x=\"795.263672\" xlink:href=\"#DejaVuSans-55\"/>\n      <use x=\"858.886719\" xlink:href=\"#DejaVuSans-50\"/>\n      <use x=\"922.509766\" xlink:href=\"#DejaVuSans-57\"/>\n      <use x=\"986.132812\" xlink:href=\"#DejaVuSans-50\"/>\n      <use x=\"1049.755859\" xlink:href=\"#DejaVuSans-56\"/>\n      <use x=\"1113.378906\" xlink:href=\"#DejaVuSans-52\"/>\n     </g>\n    </g>\n    <g id=\"patch_32\">\n     <path d=\"M 253.303125 173.719219 \nL 364.903125 173.719219 \nL 364.903125 161.719219 \nL 253.303125 161.719219 \nz\n\" style=\"fill:#ffffff;stroke:#000000;stroke-linejoin:miter;\"/>\n    </g>\n    <g id=\"text_30\">\n     <!-- 0.5541920222521802 -->\n     <g transform=\"translate(275.804688 169.650781)scale(0.07 -0.07)\">\n      <use xlink:href=\"#DejaVuSans-48\"/>\n      <use x=\"63.623047\" xlink:href=\"#DejaVuSans-46\"/>\n      <use x=\"95.410156\" xlink:href=\"#DejaVuSans-53\"/>\n      <use x=\"159.033203\" xlink:href=\"#DejaVuSans-53\"/>\n      <use x=\"222.65625\" xlink:href=\"#DejaVuSans-52\"/>\n      <use x=\"286.279297\" xlink:href=\"#DejaVuSans-49\"/>\n      <use x=\"349.902344\" xlink:href=\"#DejaVuSans-57\"/>\n      <use x=\"413.525391\" xlink:href=\"#DejaVuSans-50\"/>\n      <use x=\"477.148438\" xlink:href=\"#DejaVuSans-48\"/>\n      <use x=\"540.771484\" xlink:href=\"#DejaVuSans-50\"/>\n      <use x=\"604.394531\" xlink:href=\"#DejaVuSans-50\"/>\n      <use x=\"668.017578\" xlink:href=\"#DejaVuSans-50\"/>\n      <use x=\"731.640625\" xlink:href=\"#DejaVuSans-53\"/>\n      <use x=\"795.263672\" xlink:href=\"#DejaVuSans-50\"/>\n      <use x=\"858.886719\" xlink:href=\"#DejaVuSans-49\"/>\n      <use x=\"922.509766\" xlink:href=\"#DejaVuSans-56\"/>\n      <use x=\"986.132812\" xlink:href=\"#DejaVuSans-48\"/>\n      <use x=\"1049.755859\" xlink:href=\"#DejaVuSans-50\"/>\n     </g>\n    </g>\n    <g id=\"patch_33\">\n     <path d=\"M 30.103125 185.719219 \nL 141.703125 185.719219 \nL 141.703125 173.719219 \nL 30.103125 173.719219 \nz\n\" style=\"fill:#ffffff;stroke:#000000;stroke-linejoin:miter;\"/>\n    </g>\n    <g id=\"text_31\">\n     <!-- 0.9907593140056254 -->\n     <g transform=\"translate(52.604688 181.650781)scale(0.07 -0.07)\">\n      <use xlink:href=\"#DejaVuSans-48\"/>\n      <use x=\"63.623047\" xlink:href=\"#DejaVuSans-46\"/>\n      <use x=\"95.410156\" xlink:href=\"#DejaVuSans-57\"/>\n      <use x=\"159.033203\" xlink:href=\"#DejaVuSans-57\"/>\n      <use x=\"222.65625\" xlink:href=\"#DejaVuSans-48\"/>\n      <use x=\"286.279297\" xlink:href=\"#DejaVuSans-55\"/>\n      <use x=\"349.902344\" xlink:href=\"#DejaVuSans-53\"/>\n      <use x=\"413.525391\" xlink:href=\"#DejaVuSans-57\"/>\n      <use x=\"477.148438\" xlink:href=\"#DejaVuSans-51\"/>\n      <use x=\"540.771484\" xlink:href=\"#DejaVuSans-49\"/>\n      <use x=\"604.394531\" xlink:href=\"#DejaVuSans-52\"/>\n      <use x=\"668.017578\" xlink:href=\"#DejaVuSans-48\"/>\n      <use x=\"731.640625\" xlink:href=\"#DejaVuSans-48\"/>\n      <use x=\"795.263672\" xlink:href=\"#DejaVuSans-53\"/>\n      <use x=\"858.886719\" xlink:href=\"#DejaVuSans-54\"/>\n      <use x=\"922.509766\" xlink:href=\"#DejaVuSans-50\"/>\n      <use x=\"986.132812\" xlink:href=\"#DejaVuSans-53\"/>\n      <use x=\"1049.755859\" xlink:href=\"#DejaVuSans-52\"/>\n     </g>\n    </g>\n    <g id=\"patch_34\">\n     <path d=\"M 141.703125 185.719219 \nL 253.303125 185.719219 \nL 253.303125 173.719219 \nL 141.703125 173.719219 \nz\n\" style=\"fill:#ffffff;stroke:#000000;stroke-linejoin:miter;\"/>\n    </g>\n    <g id=\"text_32\">\n     <!-- 0.16927450870883165 -->\n     <g transform=\"translate(159.750938 181.650781)scale(0.07 -0.07)\">\n      <use xlink:href=\"#DejaVuSans-48\"/>\n      <use x=\"63.623047\" xlink:href=\"#DejaVuSans-46\"/>\n      <use x=\"95.410156\" xlink:href=\"#DejaVuSans-49\"/>\n      <use x=\"159.033203\" xlink:href=\"#DejaVuSans-54\"/>\n      <use x=\"222.65625\" xlink:href=\"#DejaVuSans-57\"/>\n      <use x=\"286.279297\" xlink:href=\"#DejaVuSans-50\"/>\n      <use x=\"349.902344\" xlink:href=\"#DejaVuSans-55\"/>\n      <use x=\"413.525391\" xlink:href=\"#DejaVuSans-52\"/>\n      <use x=\"477.148438\" xlink:href=\"#DejaVuSans-53\"/>\n      <use x=\"540.771484\" xlink:href=\"#DejaVuSans-48\"/>\n      <use x=\"604.394531\" xlink:href=\"#DejaVuSans-56\"/>\n      <use x=\"668.017578\" xlink:href=\"#DejaVuSans-55\"/>\n      <use x=\"731.640625\" xlink:href=\"#DejaVuSans-48\"/>\n      <use x=\"795.263672\" xlink:href=\"#DejaVuSans-56\"/>\n      <use x=\"858.886719\" xlink:href=\"#DejaVuSans-56\"/>\n      <use x=\"922.509766\" xlink:href=\"#DejaVuSans-51\"/>\n      <use x=\"986.132812\" xlink:href=\"#DejaVuSans-49\"/>\n      <use x=\"1049.755859\" xlink:href=\"#DejaVuSans-54\"/>\n      <use x=\"1113.378906\" xlink:href=\"#DejaVuSans-53\"/>\n     </g>\n    </g>\n    <g id=\"patch_35\">\n     <path d=\"M 253.303125 185.719219 \nL 364.903125 185.719219 \nL 364.903125 173.719219 \nL 253.303125 173.719219 \nz\n\" style=\"fill:#ffffff;stroke:#000000;stroke-linejoin:miter;\"/>\n    </g>\n    <g id=\"text_33\">\n     <!-- 0.7448780466044123 -->\n     <g transform=\"translate(275.804688 181.650781)scale(0.07 -0.07)\">\n      <use xlink:href=\"#DejaVuSans-48\"/>\n      <use x=\"63.623047\" xlink:href=\"#DejaVuSans-46\"/>\n      <use x=\"95.410156\" xlink:href=\"#DejaVuSans-55\"/>\n      <use x=\"159.033203\" xlink:href=\"#DejaVuSans-52\"/>\n      <use x=\"222.65625\" xlink:href=\"#DejaVuSans-52\"/>\n      <use x=\"286.279297\" xlink:href=\"#DejaVuSans-56\"/>\n      <use x=\"349.902344\" xlink:href=\"#DejaVuSans-55\"/>\n      <use x=\"413.525391\" xlink:href=\"#DejaVuSans-56\"/>\n      <use x=\"477.148438\" xlink:href=\"#DejaVuSans-48\"/>\n      <use x=\"540.771484\" xlink:href=\"#DejaVuSans-52\"/>\n      <use x=\"604.394531\" xlink:href=\"#DejaVuSans-54\"/>\n      <use x=\"668.017578\" xlink:href=\"#DejaVuSans-54\"/>\n      <use x=\"731.640625\" xlink:href=\"#DejaVuSans-48\"/>\n      <use x=\"795.263672\" xlink:href=\"#DejaVuSans-52\"/>\n      <use x=\"858.886719\" xlink:href=\"#DejaVuSans-52\"/>\n      <use x=\"922.509766\" xlink:href=\"#DejaVuSans-49\"/>\n      <use x=\"986.132812\" xlink:href=\"#DejaVuSans-50\"/>\n      <use x=\"1049.755859\" xlink:href=\"#DejaVuSans-51\"/>\n     </g>\n    </g>\n   </g>\n   <g id=\"matplotlib.axis_1\">\n    <g id=\"xtick_1\">\n     <g id=\"line2d_1\">\n      <defs>\n       <path d=\"M 0 0 \nL 0 3.5 \n\" id=\"m8b9990524f\" style=\"stroke:#000000;stroke-width:0.8;\"/>\n      </defs>\n      <g>\n       <use style=\"stroke:#000000;stroke-width:0.8;\" x=\"30.103125\" xlink:href=\"#m8b9990524f\" y=\"228.439219\"/>\n      </g>\n     </g>\n     <g id=\"text_34\">\n      <!-- 0.0 -->\n      <g transform=\"translate(22.151563 243.037656)scale(0.1 -0.1)\">\n       <use xlink:href=\"#DejaVuSans-48\"/>\n       <use x=\"63.623047\" xlink:href=\"#DejaVuSans-46\"/>\n       <use x=\"95.410156\" xlink:href=\"#DejaVuSans-48\"/>\n      </g>\n     </g>\n    </g>\n    <g id=\"xtick_2\">\n     <g id=\"line2d_2\">\n      <g>\n       <use style=\"stroke:#000000;stroke-width:0.8;\" x=\"97.063125\" xlink:href=\"#m8b9990524f\" y=\"228.439219\"/>\n      </g>\n     </g>\n     <g id=\"text_35\">\n      <!-- 0.2 -->\n      <g transform=\"translate(89.111563 243.037656)scale(0.1 -0.1)\">\n       <use xlink:href=\"#DejaVuSans-48\"/>\n       <use x=\"63.623047\" xlink:href=\"#DejaVuSans-46\"/>\n       <use x=\"95.410156\" xlink:href=\"#DejaVuSans-50\"/>\n      </g>\n     </g>\n    </g>\n    <g id=\"xtick_3\">\n     <g id=\"line2d_3\">\n      <g>\n       <use style=\"stroke:#000000;stroke-width:0.8;\" x=\"164.023125\" xlink:href=\"#m8b9990524f\" y=\"228.439219\"/>\n      </g>\n     </g>\n     <g id=\"text_36\">\n      <!-- 0.4 -->\n      <g transform=\"translate(156.071563 243.037656)scale(0.1 -0.1)\">\n       <use xlink:href=\"#DejaVuSans-48\"/>\n       <use x=\"63.623047\" xlink:href=\"#DejaVuSans-46\"/>\n       <use x=\"95.410156\" xlink:href=\"#DejaVuSans-52\"/>\n      </g>\n     </g>\n    </g>\n    <g id=\"xtick_4\">\n     <g id=\"line2d_4\">\n      <g>\n       <use style=\"stroke:#000000;stroke-width:0.8;\" x=\"230.983125\" xlink:href=\"#m8b9990524f\" y=\"228.439219\"/>\n      </g>\n     </g>\n     <g id=\"text_37\">\n      <!-- 0.6 -->\n      <g transform=\"translate(223.031563 243.037656)scale(0.1 -0.1)\">\n       <use xlink:href=\"#DejaVuSans-48\"/>\n       <use x=\"63.623047\" xlink:href=\"#DejaVuSans-46\"/>\n       <use x=\"95.410156\" xlink:href=\"#DejaVuSans-54\"/>\n      </g>\n     </g>\n    </g>\n    <g id=\"xtick_5\">\n     <g id=\"line2d_5\">\n      <g>\n       <use style=\"stroke:#000000;stroke-width:0.8;\" x=\"297.943125\" xlink:href=\"#m8b9990524f\" y=\"228.439219\"/>\n      </g>\n     </g>\n     <g id=\"text_38\">\n      <!-- 0.8 -->\n      <g transform=\"translate(289.991563 243.037656)scale(0.1 -0.1)\">\n       <use xlink:href=\"#DejaVuSans-48\"/>\n       <use x=\"63.623047\" xlink:href=\"#DejaVuSans-46\"/>\n       <use x=\"95.410156\" xlink:href=\"#DejaVuSans-56\"/>\n      </g>\n     </g>\n    </g>\n    <g id=\"xtick_6\">\n     <g id=\"line2d_6\">\n      <g>\n       <use style=\"stroke:#000000;stroke-width:0.8;\" x=\"364.903125\" xlink:href=\"#m8b9990524f\" y=\"228.439219\"/>\n      </g>\n     </g>\n     <g id=\"text_39\">\n      <!-- 1.0 -->\n      <g transform=\"translate(356.951563 243.037656)scale(0.1 -0.1)\">\n       <use xlink:href=\"#DejaVuSans-49\"/>\n       <use x=\"63.623047\" xlink:href=\"#DejaVuSans-46\"/>\n       <use x=\"95.410156\" xlink:href=\"#DejaVuSans-48\"/>\n      </g>\n     </g>\n    </g>\n   </g>\n   <g id=\"matplotlib.axis_2\">\n    <g id=\"ytick_1\">\n     <g id=\"line2d_7\">\n      <defs>\n       <path d=\"M 0 0 \nL -3.5 0 \n\" id=\"md70ae61f9a\" style=\"stroke:#000000;stroke-width:0.8;\"/>\n      </defs>\n      <g>\n       <use style=\"stroke:#000000;stroke-width:0.8;\" x=\"30.103125\" xlink:href=\"#md70ae61f9a\" y=\"228.439219\"/>\n      </g>\n     </g>\n     <g id=\"text_40\">\n      <!-- 0.0 -->\n      <g transform=\"translate(7.2 232.238437)scale(0.1 -0.1)\">\n       <use xlink:href=\"#DejaVuSans-48\"/>\n       <use x=\"63.623047\" xlink:href=\"#DejaVuSans-46\"/>\n       <use x=\"95.410156\" xlink:href=\"#DejaVuSans-48\"/>\n      </g>\n     </g>\n    </g>\n    <g id=\"ytick_2\">\n     <g id=\"line2d_8\">\n      <g>\n       <use style=\"stroke:#000000;stroke-width:0.8;\" x=\"30.103125\" xlink:href=\"#md70ae61f9a\" y=\"184.951219\"/>\n      </g>\n     </g>\n     <g id=\"text_41\">\n      <!-- 0.2 -->\n      <g transform=\"translate(7.2 188.750437)scale(0.1 -0.1)\">\n       <use xlink:href=\"#DejaVuSans-48\"/>\n       <use x=\"63.623047\" xlink:href=\"#DejaVuSans-46\"/>\n       <use x=\"95.410156\" xlink:href=\"#DejaVuSans-50\"/>\n      </g>\n     </g>\n    </g>\n    <g id=\"ytick_3\">\n     <g id=\"line2d_9\">\n      <g>\n       <use style=\"stroke:#000000;stroke-width:0.8;\" x=\"30.103125\" xlink:href=\"#md70ae61f9a\" y=\"141.463219\"/>\n      </g>\n     </g>\n     <g id=\"text_42\">\n      <!-- 0.4 -->\n      <g transform=\"translate(7.2 145.262437)scale(0.1 -0.1)\">\n       <use xlink:href=\"#DejaVuSans-48\"/>\n       <use x=\"63.623047\" xlink:href=\"#DejaVuSans-46\"/>\n       <use x=\"95.410156\" xlink:href=\"#DejaVuSans-52\"/>\n      </g>\n     </g>\n    </g>\n    <g id=\"ytick_4\">\n     <g id=\"line2d_10\">\n      <g>\n       <use style=\"stroke:#000000;stroke-width:0.8;\" x=\"30.103125\" xlink:href=\"#md70ae61f9a\" y=\"97.975219\"/>\n      </g>\n     </g>\n     <g id=\"text_43\">\n      <!-- 0.6 -->\n      <g transform=\"translate(7.2 101.774437)scale(0.1 -0.1)\">\n       <use xlink:href=\"#DejaVuSans-48\"/>\n       <use x=\"63.623047\" xlink:href=\"#DejaVuSans-46\"/>\n       <use x=\"95.410156\" xlink:href=\"#DejaVuSans-54\"/>\n      </g>\n     </g>\n    </g>\n    <g id=\"ytick_5\">\n     <g id=\"line2d_11\">\n      <g>\n       <use style=\"stroke:#000000;stroke-width:0.8;\" x=\"30.103125\" xlink:href=\"#md70ae61f9a\" y=\"54.487219\"/>\n      </g>\n     </g>\n     <g id=\"text_44\">\n      <!-- 0.8 -->\n      <g transform=\"translate(7.2 58.286437)scale(0.1 -0.1)\">\n       <use xlink:href=\"#DejaVuSans-48\"/>\n       <use x=\"63.623047\" xlink:href=\"#DejaVuSans-46\"/>\n       <use x=\"95.410156\" xlink:href=\"#DejaVuSans-56\"/>\n      </g>\n     </g>\n    </g>\n    <g id=\"ytick_6\">\n     <g id=\"line2d_12\">\n      <g>\n       <use style=\"stroke:#000000;stroke-width:0.8;\" x=\"30.103125\" xlink:href=\"#md70ae61f9a\" y=\"10.999219\"/>\n      </g>\n     </g>\n     <g id=\"text_45\">\n      <!-- 1.0 -->\n      <g transform=\"translate(7.2 14.798437)scale(0.1 -0.1)\">\n       <use xlink:href=\"#DejaVuSans-49\"/>\n       <use x=\"63.623047\" xlink:href=\"#DejaVuSans-46\"/>\n       <use x=\"95.410156\" xlink:href=\"#DejaVuSans-48\"/>\n      </g>\n     </g>\n    </g>\n   </g>\n   <g id=\"patch_36\">\n    <path d=\"M 30.103125 228.439219 \nL 30.103125 10.999219 \n\" style=\"fill:none;stroke:#000000;stroke-linecap:square;stroke-linejoin:miter;stroke-width:0.8;\"/>\n   </g>\n   <g id=\"patch_37\">\n    <path d=\"M 364.903125 228.439219 \nL 364.903125 10.999219 \n\" style=\"fill:none;stroke:#000000;stroke-linecap:square;stroke-linejoin:miter;stroke-width:0.8;\"/>\n   </g>\n   <g id=\"patch_38\">\n    <path d=\"M 30.103125 228.439219 \nL 364.903125 228.439219 \n\" style=\"fill:none;stroke:#000000;stroke-linecap:square;stroke-linejoin:miter;stroke-width:0.8;\"/>\n   </g>\n   <g id=\"patch_39\">\n    <path d=\"M 30.103125 10.999219 \nL 364.903125 10.999219 \n\" style=\"fill:none;stroke:#000000;stroke-linecap:square;stroke-linejoin:miter;stroke-width:0.8;\"/>\n   </g>\n  </g>\n </g>\n</svg>\n",
      "image/png": "[encoded data removed]"
     },
     "metadata": {
      "needs_background": "light"
     }
    }
   ],
   "source": [
    "# matplotlib_table\n",
    "fig, ax = plt.subplots()\n",
    "clust_data = np.random.random((10,3))\n",
    "ax.table(cellText=clust_data, colLabels=list(range(clust_data.shape[1])), loc=\"center\")\n",
    "plt.show()"
   ]
  },
  {
   "cell_type": "code",
   "execution_count": 83,
   "metadata": {},
   "outputs": [
    {
     "output_type": "display_data",
     "data": {
      "text/plain": "<Figure size 432x288 with 1 Axes>",
      "image/svg+xml": "<?xml version=\"1.0\" encoding=\"utf-8\" standalone=\"no\"?>\n<!DOCTYPE svg PUBLIC \"-//W3C//DTD SVG 1.1//EN\"\n  \"http://www.w3.org/Graphics/SVG/1.1/DTD/svg11.dtd\">\n<!-- Created with matplotlib (https://matplotlib.org/) -->\n<svg height=\"248.518125pt\" version=\"1.1\" viewBox=\"0 0 378.465625 248.518125\" width=\"378.465625pt\" xmlns=\"http://www.w3.org/2000/svg\" xmlns:xlink=\"http://www.w3.org/1999/xlink\">\n <defs>\n  <style type=\"text/css\">\n*{stroke-linecap:butt;stroke-linejoin:round;}\n  </style>\n </defs>\n <g id=\"figure_1\">\n  <g id=\"patch_1\">\n   <path d=\"M 0 248.518125 \nL 378.465625 248.518125 \nL 378.465625 0 \nL 0 0 \nz\n\" style=\"fill:none;\"/>\n  </g>\n  <g id=\"axes_1\">\n   <g id=\"patch_2\">\n    <path d=\"M 36.465625 224.64 \nL 371.265625 224.64 \nL 371.265625 7.2 \nL 36.465625 7.2 \nz\n\" style=\"fill:#ffffff;\"/>\n   </g>\n   <g id=\"patch_3\">\n    <path clip-path=\"url(#p6416135c81)\" d=\"M 51.683807 224.64 \nL 56.573183 224.64 \nL 56.573183 168.420881 \nL 51.683807 168.420881 \nz\n\" style=\"fill:#1f77b4;\"/>\n   </g>\n   <g id=\"patch_4\">\n    <path clip-path=\"url(#p6416135c81)\" d=\"M 57.795526 224.64 \nL 62.684902 224.64 \nL 62.684902 143.125526 \nL 57.795526 143.125526 \nz\n\" style=\"fill:#1f77b4;\"/>\n   </g>\n   <g id=\"patch_5\">\n    <path clip-path=\"url(#p6416135c81)\" d=\"M 63.907246 224.64 \nL 68.796622 224.64 \nL 68.796622 121.429331 \nL 63.907246 121.429331 \nz\n\" style=\"fill:#1f77b4;\"/>\n   </g>\n   <g id=\"patch_6\">\n    <path clip-path=\"url(#p6416135c81)\" d=\"M 70.018966 224.64 \nL 74.908341 224.64 \nL 74.908341 82.069693 \nL 70.018966 82.069693 \nz\n\" style=\"fill:#1f77b4;\"/>\n   </g>\n   <g id=\"patch_7\">\n    <path clip-path=\"url(#p6416135c81)\" d=\"M 76.130685 224.64 \nL 81.020061 224.64 \nL 81.020061 60.856147 \nL 76.130685 60.856147 \nz\n\" style=\"fill:#1f77b4;\"/>\n   </g>\n   <g id=\"patch_8\">\n    <path clip-path=\"url(#p6416135c81)\" d=\"M 82.242405 224.64 \nL 87.131781 224.64 \nL 87.131781 103.646809 \nL 82.242405 103.646809 \nz\n\" style=\"fill:#1f77b4;\"/>\n   </g>\n   <g id=\"patch_9\">\n    <path clip-path=\"url(#p6416135c81)\" d=\"M 88.354124 224.64 \nL 93.2435 224.64 \nL 93.2435 72.202549 \nL 88.354124 72.202549 \nz\n\" style=\"fill:#1f77b4;\"/>\n   </g>\n   <g id=\"patch_10\">\n    <path clip-path=\"url(#p6416135c81)\" d=\"M 94.465844 224.64 \nL 99.35522 224.64 \nL 99.35522 222.19288 \nL 94.465844 222.19288 \nz\n\" style=\"fill:#1f77b4;\"/>\n   </g>\n   <g id=\"patch_11\">\n    <path clip-path=\"url(#p6416135c81)\" d=\"M 100.577564 224.64 \nL 105.466939 224.64 \nL 105.466939 44.036468 \nL 100.577564 44.036468 \nz\n\" style=\"fill:#1f77b4;\"/>\n   </g>\n   <g id=\"patch_12\">\n    <path clip-path=\"url(#p6416135c81)\" d=\"M 106.689283 224.64 \nL 111.578659 224.64 \nL 111.578659 214.009279 \nL 106.689283 214.009279 \nz\n\" style=\"fill:#1f77b4;\"/>\n   </g>\n   <g id=\"patch_13\">\n    <path clip-path=\"url(#p6416135c81)\" d=\"M 112.801003 224.64 \nL 117.690379 224.64 \nL 117.690379 214.163109 \nL 112.801003 214.163109 \nz\n\" style=\"fill:#1f77b4;\"/>\n   </g>\n   <g id=\"patch_14\">\n    <path clip-path=\"url(#p6416135c81)\" d=\"M 118.912722 224.64 \nL 123.802098 224.64 \nL 123.802098 104.125951 \nL 118.912722 104.125951 \nz\n\" style=\"fill:#1f77b4;\"/>\n   </g>\n   <g id=\"patch_15\">\n    <path clip-path=\"url(#p6416135c81)\" d=\"M 125.024442 224.64 \nL 129.913818 224.64 \nL 129.913818 186.450691 \nL 125.024442 186.450691 \nz\n\" style=\"fill:#1f77b4;\"/>\n   </g>\n   <g id=\"patch_16\">\n    <path clip-path=\"url(#p6416135c81)\" d=\"M 131.136162 224.64 \nL 136.025537 224.64 \nL 136.025537 213.170337 \nL 131.136162 213.170337 \nz\n\" style=\"fill:#1f77b4;\"/>\n   </g>\n   <g id=\"patch_17\">\n    <path clip-path=\"url(#p6416135c81)\" d=\"M 137.247881 224.64 \nL 142.137257 224.64 \nL 142.137257 86.080616 \nL 137.247881 86.080616 \nz\n\" style=\"fill:#1f77b4;\"/>\n   </g>\n   <g id=\"patch_18\">\n    <path clip-path=\"url(#p6416135c81)\" d=\"M 143.359601 224.64 \nL 148.248977 224.64 \nL 148.248977 207.167133 \nL 143.359601 207.167133 \nz\n\" style=\"fill:#1f77b4;\"/>\n   </g>\n   <g id=\"patch_19\">\n    <path clip-path=\"url(#p6416135c81)\" d=\"M 149.471321 224.64 \nL 154.360696 224.64 \nL 154.360696 224.093256 \nL 149.471321 224.093256 \nz\n\" style=\"fill:#1f77b4;\"/>\n   </g>\n   <g id=\"patch_20\">\n    <path clip-path=\"url(#p6416135c81)\" d=\"M 155.58304 224.64 \nL 160.472416 224.64 \nL 160.472416 134.131198 \nL 155.58304 134.131198 \nz\n\" style=\"fill:#1f77b4;\"/>\n   </g>\n   <g id=\"patch_21\">\n    <path clip-path=\"url(#p6416135c81)\" d=\"M 161.69476 224.64 \nL 166.584135 224.64 \nL 166.584135 183.160955 \nL 161.69476 183.160955 \nz\n\" style=\"fill:#1f77b4;\"/>\n   </g>\n   <g id=\"patch_22\">\n    <path clip-path=\"url(#p6416135c81)\" d=\"M 167.806479 224.64 \nL 172.695855 224.64 \nL 172.695855 217.883335 \nL 167.806479 217.883335 \nz\n\" style=\"fill:#1f77b4;\"/>\n   </g>\n   <g id=\"patch_23\">\n    <path clip-path=\"url(#p6416135c81)\" d=\"M 173.918199 224.64 \nL 178.807575 224.64 \nL 178.807575 94.091523 \nL 173.918199 94.091523 \nz\n\" style=\"fill:#1f77b4;\"/>\n   </g>\n   <g id=\"patch_24\">\n    <path clip-path=\"url(#p6416135c81)\" d=\"M 180.029919 224.64 \nL 184.919294 224.64 \nL 184.919294 133.856094 \nL 180.029919 133.856094 \nz\n\" style=\"fill:#1f77b4;\"/>\n   </g>\n   <g id=\"patch_25\">\n    <path clip-path=\"url(#p6416135c81)\" d=\"M 186.141638 224.64 \nL 191.031014 224.64 \nL 191.031014 69.433885 \nL 186.141638 69.433885 \nz\n\" style=\"fill:#1f77b4;\"/>\n   </g>\n   <g id=\"patch_26\">\n    <path clip-path=\"url(#p6416135c81)\" d=\"M 192.253358 224.64 \nL 197.142733 224.64 \nL 197.142733 173.023719 \nL 192.253358 173.023719 \nz\n\" style=\"fill:#1f77b4;\"/>\n   </g>\n   <g id=\"patch_27\">\n    <path clip-path=\"url(#p6416135c81)\" d=\"M 198.365077 224.64 \nL 203.254453 224.64 \nL 203.254453 62.177933 \nL 198.365077 62.177933 \nz\n\" style=\"fill:#1f77b4;\"/>\n   </g>\n   <g id=\"patch_28\">\n    <path clip-path=\"url(#p6416135c81)\" d=\"M 204.476797 224.64 \nL 209.366173 224.64 \nL 209.366173 167.95402 \nL 204.476797 167.95402 \nz\n\" style=\"fill:#1f77b4;\"/>\n   </g>\n   <g id=\"patch_29\">\n    <path clip-path=\"url(#p6416135c81)\" d=\"M 210.588517 224.64 \nL 215.477892 224.64 \nL 215.477892 120.34236 \nL 210.588517 120.34236 \nz\n\" style=\"fill:#1f77b4;\"/>\n   </g>\n   <g id=\"patch_30\">\n    <path clip-path=\"url(#p6416135c81)\" d=\"M 216.700236 224.64 \nL 221.589612 224.64 \nL 221.589612 110.813763 \nL 216.700236 110.813763 \nz\n\" style=\"fill:#1f77b4;\"/>\n   </g>\n   <g id=\"patch_31\">\n    <path clip-path=\"url(#p6416135c81)\" d=\"M 222.811956 224.64 \nL 227.701331 224.64 \nL 227.701331 178.261835 \nL 222.811956 178.261835 \nz\n\" style=\"fill:#1f77b4;\"/>\n   </g>\n   <g id=\"patch_32\">\n    <path clip-path=\"url(#p6416135c81)\" d=\"M 228.923675 224.64 \nL 233.813051 224.64 \nL 233.813051 53.770412 \nL 228.923675 53.770412 \nz\n\" style=\"fill:#1f77b4;\"/>\n   </g>\n   <g id=\"patch_33\">\n    <path clip-path=\"url(#p6416135c81)\" d=\"M 235.035395 224.64 \nL 239.924771 224.64 \nL 239.924771 114.816793 \nL 235.035395 114.816793 \nz\n\" style=\"fill:#1f77b4;\"/>\n   </g>\n   <g id=\"patch_34\">\n    <path clip-path=\"url(#p6416135c81)\" d=\"M 241.147115 224.64 \nL 246.03649 224.64 \nL 246.03649 74.52561 \nL 241.147115 74.52561 \nz\n\" style=\"fill:#1f77b4;\"/>\n   </g>\n   <g id=\"patch_35\">\n    <path clip-path=\"url(#p6416135c81)\" d=\"M 247.258834 224.64 \nL 252.14821 224.64 \nL 252.14821 17.554286 \nL 247.258834 17.554286 \nz\n\" style=\"fill:#1f77b4;\"/>\n   </g>\n   <g id=\"patch_36\">\n    <path clip-path=\"url(#p6416135c81)\" d=\"M 253.370554 224.64 \nL 258.259929 224.64 \nL 258.259929 29.434637 \nL 253.370554 29.434637 \nz\n\" style=\"fill:#1f77b4;\"/>\n   </g>\n   <g id=\"patch_37\">\n    <path clip-path=\"url(#p6416135c81)\" d=\"M 259.482273 224.64 \nL 264.371649 224.64 \nL 264.371649 118.642858 \nL 259.482273 118.642858 \nz\n\" style=\"fill:#1f77b4;\"/>\n   </g>\n   <g id=\"patch_38\">\n    <path clip-path=\"url(#p6416135c81)\" d=\"M 265.593993 224.64 \nL 270.483369 224.64 \nL 270.483369 216.000343 \nL 265.593993 216.000343 \nz\n\" style=\"fill:#1f77b4;\"/>\n   </g>\n   <g id=\"patch_39\">\n    <path clip-path=\"url(#p6416135c81)\" d=\"M 271.705713 224.64 \nL 276.595088 224.64 \nL 276.595088 69.783955 \nL 271.705713 69.783955 \nz\n\" style=\"fill:#1f77b4;\"/>\n   </g>\n   <g id=\"patch_40\">\n    <path clip-path=\"url(#p6416135c81)\" d=\"M 277.817432 224.64 \nL 282.706808 224.64 \nL 282.706808 36.640982 \nL 277.817432 36.640982 \nz\n\" style=\"fill:#1f77b4;\"/>\n   </g>\n   <g id=\"patch_41\">\n    <path clip-path=\"url(#p6416135c81)\" d=\"M 283.929152 224.64 \nL 288.818528 224.64 \nL 288.818528 200.95072 \nL 283.929152 200.95072 \nz\n\" style=\"fill:#1f77b4;\"/>\n   </g>\n   <g id=\"patch_42\">\n    <path clip-path=\"url(#p6416135c81)\" d=\"M 290.040871 224.64 \nL 294.930247 224.64 \nL 294.930247 39.088512 \nL 290.040871 39.088512 \nz\n\" style=\"fill:#1f77b4;\"/>\n   </g>\n   <g id=\"patch_43\">\n    <path clip-path=\"url(#p6416135c81)\" d=\"M 296.152591 224.64 \nL 301.041967 224.64 \nL 301.041967 146.437049 \nL 296.152591 146.437049 \nz\n\" style=\"fill:#1f77b4;\"/>\n   </g>\n   <g id=\"patch_44\">\n    <path clip-path=\"url(#p6416135c81)\" d=\"M 302.264311 224.64 \nL 307.153686 224.64 \nL 307.153686 104.780722 \nL 302.264311 104.780722 \nz\n\" style=\"fill:#1f77b4;\"/>\n   </g>\n   <g id=\"patch_45\">\n    <path clip-path=\"url(#p6416135c81)\" d=\"M 308.37603 224.64 \nL 313.265406 224.64 \nL 313.265406 113.717425 \nL 308.37603 113.717425 \nz\n\" style=\"fill:#1f77b4;\"/>\n   </g>\n   <g id=\"patch_46\">\n    <path clip-path=\"url(#p6416135c81)\" d=\"M 314.48775 224.64 \nL 319.377126 224.64 \nL 319.377126 196.189158 \nL 314.48775 196.189158 \nz\n\" style=\"fill:#1f77b4;\"/>\n   </g>\n   <g id=\"patch_47\">\n    <path clip-path=\"url(#p6416135c81)\" d=\"M 320.599469 224.64 \nL 325.488845 224.64 \nL 325.488845 37.369828 \nL 320.599469 37.369828 \nz\n\" style=\"fill:#1f77b4;\"/>\n   </g>\n   <g id=\"patch_48\">\n    <path clip-path=\"url(#p6416135c81)\" d=\"M 326.711189 224.64 \nL 331.600565 224.64 \nL 331.600565 42.516657 \nL 326.711189 42.516657 \nz\n\" style=\"fill:#1f77b4;\"/>\n   </g>\n   <g id=\"patch_49\">\n    <path clip-path=\"url(#p6416135c81)\" d=\"M 332.822909 224.64 \nL 337.712284 224.64 \nL 337.712284 176.975131 \nL 332.822909 176.975131 \nz\n\" style=\"fill:#1f77b4;\"/>\n   </g>\n   <g id=\"patch_50\">\n    <path clip-path=\"url(#p6416135c81)\" d=\"M 338.934628 224.64 \nL 343.824004 224.64 \nL 343.824004 168.460543 \nL 338.934628 168.460543 \nz\n\" style=\"fill:#1f77b4;\"/>\n   </g>\n   <g id=\"patch_51\">\n    <path clip-path=\"url(#p6416135c81)\" d=\"M 345.046348 224.64 \nL 349.935724 224.64 \nL 349.935724 22.383822 \nL 345.046348 22.383822 \nz\n\" style=\"fill:#1f77b4;\"/>\n   </g>\n   <g id=\"patch_52\">\n    <path clip-path=\"url(#p6416135c81)\" d=\"M 351.158067 224.64 \nL 356.047443 224.64 \nL 356.047443 128.591915 \nL 351.158067 128.591915 \nz\n\" style=\"fill:#1f77b4;\"/>\n   </g>\n   <g id=\"matplotlib.axis_1\">\n    <g id=\"xtick_1\">\n     <g id=\"line2d_1\">\n      <defs>\n       <path d=\"M 0 0 \nL 0 3.5 \n\" id=\"mab953fc5af\" style=\"stroke:#000000;stroke-width:0.8;\"/>\n      </defs>\n      <g>\n       <use style=\"stroke:#000000;stroke-width:0.8;\" x=\"54.128495\" xlink:href=\"#mab953fc5af\" y=\"224.64\"/>\n      </g>\n     </g>\n     <g id=\"text_1\">\n      <!-- 0 -->\n      <defs>\n       <path d=\"M 31.78125 66.40625 \nQ 24.171875 66.40625 20.328125 58.90625 \nQ 16.5 51.421875 16.5 36.375 \nQ 16.5 21.390625 20.328125 13.890625 \nQ 24.171875 6.390625 31.78125 6.390625 \nQ 39.453125 6.390625 43.28125 13.890625 \nQ 47.125 21.390625 47.125 36.375 \nQ 47.125 51.421875 43.28125 58.90625 \nQ 39.453125 66.40625 31.78125 66.40625 \nz\nM 31.78125 74.21875 \nQ 44.046875 74.21875 50.515625 64.515625 \nQ 56.984375 54.828125 56.984375 36.375 \nQ 56.984375 17.96875 50.515625 8.265625 \nQ 44.046875 -1.421875 31.78125 -1.421875 \nQ 19.53125 -1.421875 13.0625 8.265625 \nQ 6.59375 17.96875 6.59375 36.375 \nQ 6.59375 54.828125 13.0625 64.515625 \nQ 19.53125 74.21875 31.78125 74.21875 \nz\n\" id=\"DejaVuSans-48\"/>\n      </defs>\n      <g transform=\"translate(50.947245 239.238437)scale(0.1 -0.1)\">\n       <use xlink:href=\"#DejaVuSans-48\"/>\n      </g>\n     </g>\n    </g>\n    <g id=\"xtick_2\">\n     <g id=\"line2d_2\">\n      <g>\n       <use style=\"stroke:#000000;stroke-width:0.8;\" x=\"115.245691\" xlink:href=\"#mab953fc5af\" y=\"224.64\"/>\n      </g>\n     </g>\n     <g id=\"text_2\">\n      <!-- 10 -->\n      <defs>\n       <path d=\"M 12.40625 8.296875 \nL 28.515625 8.296875 \nL 28.515625 63.921875 \nL 10.984375 60.40625 \nL 10.984375 69.390625 \nL 28.421875 72.90625 \nL 38.28125 72.90625 \nL 38.28125 8.296875 \nL 54.390625 8.296875 \nL 54.390625 0 \nL 12.40625 0 \nz\n\" id=\"DejaVuSans-49\"/>\n      </defs>\n      <g transform=\"translate(108.883191 239.238437)scale(0.1 -0.1)\">\n       <use xlink:href=\"#DejaVuSans-49\"/>\n       <use x=\"63.623047\" xlink:href=\"#DejaVuSans-48\"/>\n      </g>\n     </g>\n    </g>\n    <g id=\"xtick_3\">\n     <g id=\"line2d_3\">\n      <g>\n       <use style=\"stroke:#000000;stroke-width:0.8;\" x=\"176.362887\" xlink:href=\"#mab953fc5af\" y=\"224.64\"/>\n      </g>\n     </g>\n     <g id=\"text_3\">\n      <!-- 20 -->\n      <defs>\n       <path d=\"M 19.1875 8.296875 \nL 53.609375 8.296875 \nL 53.609375 0 \nL 7.328125 0 \nL 7.328125 8.296875 \nQ 12.9375 14.109375 22.625 23.890625 \nQ 32.328125 33.6875 34.8125 36.53125 \nQ 39.546875 41.84375 41.421875 45.53125 \nQ 43.3125 49.21875 43.3125 52.78125 \nQ 43.3125 58.59375 39.234375 62.25 \nQ 35.15625 65.921875 28.609375 65.921875 \nQ 23.96875 65.921875 18.8125 64.3125 \nQ 13.671875 62.703125 7.8125 59.421875 \nL 7.8125 69.390625 \nQ 13.765625 71.78125 18.9375 73 \nQ 24.125 74.21875 28.421875 74.21875 \nQ 39.75 74.21875 46.484375 68.546875 \nQ 53.21875 62.890625 53.21875 53.421875 \nQ 53.21875 48.921875 51.53125 44.890625 \nQ 49.859375 40.875 45.40625 35.40625 \nQ 44.1875 33.984375 37.640625 27.21875 \nQ 31.109375 20.453125 19.1875 8.296875 \nz\n\" id=\"DejaVuSans-50\"/>\n      </defs>\n      <g transform=\"translate(170.000387 239.238437)scale(0.1 -0.1)\">\n       <use xlink:href=\"#DejaVuSans-50\"/>\n       <use x=\"63.623047\" xlink:href=\"#DejaVuSans-48\"/>\n      </g>\n     </g>\n    </g>\n    <g id=\"xtick_4\">\n     <g id=\"line2d_4\">\n      <g>\n       <use style=\"stroke:#000000;stroke-width:0.8;\" x=\"237.480083\" xlink:href=\"#mab953fc5af\" y=\"224.64\"/>\n      </g>\n     </g>\n     <g id=\"text_4\">\n      <!-- 30 -->\n      <defs>\n       <path d=\"M 40.578125 39.3125 \nQ 47.65625 37.796875 51.625 33 \nQ 55.609375 28.21875 55.609375 21.1875 \nQ 55.609375 10.40625 48.1875 4.484375 \nQ 40.765625 -1.421875 27.09375 -1.421875 \nQ 22.515625 -1.421875 17.65625 -0.515625 \nQ 12.796875 0.390625 7.625 2.203125 \nL 7.625 11.71875 \nQ 11.71875 9.328125 16.59375 8.109375 \nQ 21.484375 6.890625 26.8125 6.890625 \nQ 36.078125 6.890625 40.9375 10.546875 \nQ 45.796875 14.203125 45.796875 21.1875 \nQ 45.796875 27.640625 41.28125 31.265625 \nQ 36.765625 34.90625 28.71875 34.90625 \nL 20.21875 34.90625 \nL 20.21875 43.015625 \nL 29.109375 43.015625 \nQ 36.375 43.015625 40.234375 45.921875 \nQ 44.09375 48.828125 44.09375 54.296875 \nQ 44.09375 59.90625 40.109375 62.90625 \nQ 36.140625 65.921875 28.71875 65.921875 \nQ 24.65625 65.921875 20.015625 65.03125 \nQ 15.375 64.15625 9.8125 62.3125 \nL 9.8125 71.09375 \nQ 15.4375 72.65625 20.34375 73.4375 \nQ 25.25 74.21875 29.59375 74.21875 \nQ 40.828125 74.21875 47.359375 69.109375 \nQ 53.90625 64.015625 53.90625 55.328125 \nQ 53.90625 49.265625 50.4375 45.09375 \nQ 46.96875 40.921875 40.578125 39.3125 \nz\n\" id=\"DejaVuSans-51\"/>\n      </defs>\n      <g transform=\"translate(231.117583 239.238437)scale(0.1 -0.1)\">\n       <use xlink:href=\"#DejaVuSans-51\"/>\n       <use x=\"63.623047\" xlink:href=\"#DejaVuSans-48\"/>\n      </g>\n     </g>\n    </g>\n    <g id=\"xtick_5\">\n     <g id=\"line2d_5\">\n      <g>\n       <use style=\"stroke:#000000;stroke-width:0.8;\" x=\"298.597279\" xlink:href=\"#mab953fc5af\" y=\"224.64\"/>\n      </g>\n     </g>\n     <g id=\"text_5\">\n      <!-- 40 -->\n      <defs>\n       <path d=\"M 37.796875 64.3125 \nL 12.890625 25.390625 \nL 37.796875 25.390625 \nz\nM 35.203125 72.90625 \nL 47.609375 72.90625 \nL 47.609375 25.390625 \nL 58.015625 25.390625 \nL 58.015625 17.1875 \nL 47.609375 17.1875 \nL 47.609375 0 \nL 37.796875 0 \nL 37.796875 17.1875 \nL 4.890625 17.1875 \nL 4.890625 26.703125 \nz\n\" id=\"DejaVuSans-52\"/>\n      </defs>\n      <g transform=\"translate(292.234779 239.238437)scale(0.1 -0.1)\">\n       <use xlink:href=\"#DejaVuSans-52\"/>\n       <use x=\"63.623047\" xlink:href=\"#DejaVuSans-48\"/>\n      </g>\n     </g>\n    </g>\n    <g id=\"xtick_6\">\n     <g id=\"line2d_6\">\n      <g>\n       <use style=\"stroke:#000000;stroke-width:0.8;\" x=\"359.714475\" xlink:href=\"#mab953fc5af\" y=\"224.64\"/>\n      </g>\n     </g>\n     <g id=\"text_6\">\n      <!-- 50 -->\n      <defs>\n       <path d=\"M 10.796875 72.90625 \nL 49.515625 72.90625 \nL 49.515625 64.59375 \nL 19.828125 64.59375 \nL 19.828125 46.734375 \nQ 21.96875 47.46875 24.109375 47.828125 \nQ 26.265625 48.1875 28.421875 48.1875 \nQ 40.625 48.1875 47.75 41.5 \nQ 54.890625 34.8125 54.890625 23.390625 \nQ 54.890625 11.625 47.5625 5.09375 \nQ 40.234375 -1.421875 26.90625 -1.421875 \nQ 22.3125 -1.421875 17.546875 -0.640625 \nQ 12.796875 0.140625 7.71875 1.703125 \nL 7.71875 11.625 \nQ 12.109375 9.234375 16.796875 8.0625 \nQ 21.484375 6.890625 26.703125 6.890625 \nQ 35.15625 6.890625 40.078125 11.328125 \nQ 45.015625 15.765625 45.015625 23.390625 \nQ 45.015625 31 40.078125 35.4375 \nQ 35.15625 39.890625 26.703125 39.890625 \nQ 22.75 39.890625 18.8125 39.015625 \nQ 14.890625 38.140625 10.796875 36.28125 \nz\n\" id=\"DejaVuSans-53\"/>\n      </defs>\n      <g transform=\"translate(353.351975 239.238437)scale(0.1 -0.1)\">\n       <use xlink:href=\"#DejaVuSans-53\"/>\n       <use x=\"63.623047\" xlink:href=\"#DejaVuSans-48\"/>\n      </g>\n     </g>\n    </g>\n   </g>\n   <g id=\"matplotlib.axis_2\">\n    <g id=\"ytick_1\">\n     <g id=\"line2d_7\">\n      <defs>\n       <path d=\"M 0 0 \nL -3.5 0 \n\" id=\"m1809bb9328\" style=\"stroke:#000000;stroke-width:0.8;\"/>\n      </defs>\n      <g>\n       <use style=\"stroke:#000000;stroke-width:0.8;\" x=\"36.465625\" xlink:href=\"#m1809bb9328\" y=\"224.64\"/>\n      </g>\n     </g>\n     <g id=\"text_7\">\n      <!-- 0.00 -->\n      <defs>\n       <path d=\"M 10.6875 12.40625 \nL 21 12.40625 \nL 21 0 \nL 10.6875 0 \nz\n\" id=\"DejaVuSans-46\"/>\n      </defs>\n      <g transform=\"translate(7.2 228.439219)scale(0.1 -0.1)\">\n       <use xlink:href=\"#DejaVuSans-48\"/>\n       <use x=\"63.623047\" xlink:href=\"#DejaVuSans-46\"/>\n       <use x=\"95.410156\" xlink:href=\"#DejaVuSans-48\"/>\n       <use x=\"159.033203\" xlink:href=\"#DejaVuSans-48\"/>\n      </g>\n     </g>\n    </g>\n    <g id=\"ytick_2\">\n     <g id=\"line2d_8\">\n      <g>\n       <use style=\"stroke:#000000;stroke-width:0.8;\" x=\"36.465625\" xlink:href=\"#m1809bb9328\" y=\"198.219305\"/>\n      </g>\n     </g>\n     <g id=\"text_8\">\n      <!-- 0.25 -->\n      <g transform=\"translate(7.2 202.018523)scale(0.1 -0.1)\">\n       <use xlink:href=\"#DejaVuSans-48\"/>\n       <use x=\"63.623047\" xlink:href=\"#DejaVuSans-46\"/>\n       <use x=\"95.410156\" xlink:href=\"#DejaVuSans-50\"/>\n       <use x=\"159.033203\" xlink:href=\"#DejaVuSans-53\"/>\n      </g>\n     </g>\n    </g>\n    <g id=\"ytick_3\">\n     <g id=\"line2d_9\">\n      <g>\n       <use style=\"stroke:#000000;stroke-width:0.8;\" x=\"36.465625\" xlink:href=\"#m1809bb9328\" y=\"171.798609\"/>\n      </g>\n     </g>\n     <g id=\"text_9\">\n      <!-- 0.50 -->\n      <g transform=\"translate(7.2 175.597828)scale(0.1 -0.1)\">\n       <use xlink:href=\"#DejaVuSans-48\"/>\n       <use x=\"63.623047\" xlink:href=\"#DejaVuSans-46\"/>\n       <use x=\"95.410156\" xlink:href=\"#DejaVuSans-53\"/>\n       <use x=\"159.033203\" xlink:href=\"#DejaVuSans-48\"/>\n      </g>\n     </g>\n    </g>\n    <g id=\"ytick_4\">\n     <g id=\"line2d_10\">\n      <g>\n       <use style=\"stroke:#000000;stroke-width:0.8;\" x=\"36.465625\" xlink:href=\"#m1809bb9328\" y=\"145.377914\"/>\n      </g>\n     </g>\n     <g id=\"text_10\">\n      <!-- 0.75 -->\n      <defs>\n       <path d=\"M 8.203125 72.90625 \nL 55.078125 72.90625 \nL 55.078125 68.703125 \nL 28.609375 0 \nL 18.3125 0 \nL 43.21875 64.59375 \nL 8.203125 64.59375 \nz\n\" id=\"DejaVuSans-55\"/>\n      </defs>\n      <g transform=\"translate(7.2 149.177132)scale(0.1 -0.1)\">\n       <use xlink:href=\"#DejaVuSans-48\"/>\n       <use x=\"63.623047\" xlink:href=\"#DejaVuSans-46\"/>\n       <use x=\"95.410156\" xlink:href=\"#DejaVuSans-55\"/>\n       <use x=\"159.033203\" xlink:href=\"#DejaVuSans-53\"/>\n      </g>\n     </g>\n    </g>\n    <g id=\"ytick_5\">\n     <g id=\"line2d_11\">\n      <g>\n       <use style=\"stroke:#000000;stroke-width:0.8;\" x=\"36.465625\" xlink:href=\"#m1809bb9328\" y=\"118.957218\"/>\n      </g>\n     </g>\n     <g id=\"text_11\">\n      <!-- 1.00 -->\n      <g transform=\"translate(7.2 122.756437)scale(0.1 -0.1)\">\n       <use xlink:href=\"#DejaVuSans-49\"/>\n       <use x=\"63.623047\" xlink:href=\"#DejaVuSans-46\"/>\n       <use x=\"95.410156\" xlink:href=\"#DejaVuSans-48\"/>\n       <use x=\"159.033203\" xlink:href=\"#DejaVuSans-48\"/>\n      </g>\n     </g>\n    </g>\n    <g id=\"ytick_6\">\n     <g id=\"line2d_12\">\n      <g>\n       <use style=\"stroke:#000000;stroke-width:0.8;\" x=\"36.465625\" xlink:href=\"#m1809bb9328\" y=\"92.536523\"/>\n      </g>\n     </g>\n     <g id=\"text_12\">\n      <!-- 1.25 -->\n      <g transform=\"translate(7.2 96.335742)scale(0.1 -0.1)\">\n       <use xlink:href=\"#DejaVuSans-49\"/>\n       <use x=\"63.623047\" xlink:href=\"#DejaVuSans-46\"/>\n       <use x=\"95.410156\" xlink:href=\"#DejaVuSans-50\"/>\n       <use x=\"159.033203\" xlink:href=\"#DejaVuSans-53\"/>\n      </g>\n     </g>\n    </g>\n    <g id=\"ytick_7\">\n     <g id=\"line2d_13\">\n      <g>\n       <use style=\"stroke:#000000;stroke-width:0.8;\" x=\"36.465625\" xlink:href=\"#m1809bb9328\" y=\"66.115827\"/>\n      </g>\n     </g>\n     <g id=\"text_13\">\n      <!-- 1.50 -->\n      <g transform=\"translate(7.2 69.915046)scale(0.1 -0.1)\">\n       <use xlink:href=\"#DejaVuSans-49\"/>\n       <use x=\"63.623047\" xlink:href=\"#DejaVuSans-46\"/>\n       <use x=\"95.410156\" xlink:href=\"#DejaVuSans-53\"/>\n       <use x=\"159.033203\" xlink:href=\"#DejaVuSans-48\"/>\n      </g>\n     </g>\n    </g>\n    <g id=\"ytick_8\">\n     <g id=\"line2d_14\">\n      <g>\n       <use style=\"stroke:#000000;stroke-width:0.8;\" x=\"36.465625\" xlink:href=\"#m1809bb9328\" y=\"39.695132\"/>\n      </g>\n     </g>\n     <g id=\"text_14\">\n      <!-- 1.75 -->\n      <g transform=\"translate(7.2 43.494351)scale(0.1 -0.1)\">\n       <use xlink:href=\"#DejaVuSans-49\"/>\n       <use x=\"63.623047\" xlink:href=\"#DejaVuSans-46\"/>\n       <use x=\"95.410156\" xlink:href=\"#DejaVuSans-55\"/>\n       <use x=\"159.033203\" xlink:href=\"#DejaVuSans-53\"/>\n      </g>\n     </g>\n    </g>\n    <g id=\"ytick_9\">\n     <g id=\"line2d_15\">\n      <g>\n       <use style=\"stroke:#000000;stroke-width:0.8;\" x=\"36.465625\" xlink:href=\"#m1809bb9328\" y=\"13.274436\"/>\n      </g>\n     </g>\n     <g id=\"text_15\">\n      <!-- 2.00 -->\n      <g transform=\"translate(7.2 17.073655)scale(0.1 -0.1)\">\n       <use xlink:href=\"#DejaVuSans-50\"/>\n       <use x=\"63.623047\" xlink:href=\"#DejaVuSans-46\"/>\n       <use x=\"95.410156\" xlink:href=\"#DejaVuSans-48\"/>\n       <use x=\"159.033203\" xlink:href=\"#DejaVuSans-48\"/>\n      </g>\n     </g>\n    </g>\n   </g>\n   <g id=\"line2d_16\">\n    <path clip-path=\"url(#p6416135c81)\" d=\"M 54.128495 168.420881 \nL 60.240214 143.125526 \nL 66.351934 121.429331 \nL 72.463653 82.069693 \nL 78.575373 60.856147 \nL 84.687093 103.646809 \nL 90.798812 72.202549 \nL 96.910532 222.19288 \nL 103.022252 44.036468 \nL 109.133971 214.009279 \nL 115.245691 214.163109 \nL 121.35741 104.125951 \nL 127.46913 186.450691 \nL 133.58085 213.170337 \nL 139.692569 86.080616 \nL 145.804289 207.167133 \nL 151.916008 224.093256 \nL 158.027728 134.131198 \nL 164.139448 183.160955 \nL 170.251167 217.883335 \nL 176.362887 94.091523 \nL 182.474606 133.856094 \nL 188.586326 69.433885 \nL 194.698046 173.023719 \nL 200.809765 62.177933 \nL 206.921485 167.95402 \nL 213.033204 120.34236 \nL 219.144924 110.813763 \nL 225.256644 178.261835 \nL 231.368363 53.770412 \nL 237.480083 114.816793 \nL 243.591802 74.52561 \nL 249.703522 17.554286 \nL 255.815242 29.434637 \nL 261.926961 118.642858 \nL 268.038681 216.000343 \nL 274.1504 69.783955 \nL 280.26212 36.640982 \nL 286.37384 200.95072 \nL 292.485559 39.088512 \nL 298.597279 146.437049 \nL 304.708998 104.780722 \nL 310.820718 113.717425 \nL 316.932438 196.189158 \nL 323.044157 37.369828 \nL 329.155877 42.516657 \nL 335.267597 176.975131 \nL 341.379316 168.460543 \nL 347.491036 22.383822 \nL 353.602755 128.591915 \n\" style=\"fill:none;stroke:#008000;stroke-linecap:square;stroke-width:1.5;\"/>\n   </g>\n   <g id=\"patch_53\">\n    <path d=\"M 36.465625 224.64 \nL 36.465625 7.2 \n\" style=\"fill:none;stroke:#000000;stroke-linecap:square;stroke-linejoin:miter;stroke-width:0.8;\"/>\n   </g>\n   <g id=\"patch_54\">\n    <path d=\"M 371.265625 224.64 \nL 371.265625 7.2 \n\" style=\"fill:none;stroke:#000000;stroke-linecap:square;stroke-linejoin:miter;stroke-width:0.8;\"/>\n   </g>\n   <g id=\"patch_55\">\n    <path d=\"M 36.465625 224.64 \nL 371.265625 224.64 \n\" style=\"fill:none;stroke:#000000;stroke-linecap:square;stroke-linejoin:miter;stroke-width:0.8;\"/>\n   </g>\n   <g id=\"patch_56\">\n    <path d=\"M 36.465625 7.2 \nL 371.265625 7.2 \n\" style=\"fill:none;stroke:#000000;stroke-linecap:square;stroke-linejoin:miter;stroke-width:0.8;\"/>\n   </g>\n  </g>\n </g>\n <defs>\n  <clipPath id=\"p6416135c81\">\n   <rect height=\"217.44\" width=\"334.8\" x=\"36.465625\" y=\"7.2\"/>\n  </clipPath>\n </defs>\n</svg>\n",
      "image/png": "[encoded data removed]"
     },
     "metadata": {
      "needs_background": "light"
     }
    }
   ],
   "source": [
    "# matplotlib_composite_line_bar\n",
    "y = np.arange(start=0, stop=x.shape[0])\n",
    "fig, ax = plt.subplots()\n",
    "ax.bar(y, x)\n",
    "ax.plot(y, x, color=\"green\")\n",
    "plt.show()"
   ]
  },
  {
   "cell_type": "code",
   "execution_count": 39,
   "metadata": {},
   "outputs": [
    {
     "output_type": "display_data",
     "data": {
      "application/vnd.plotly.v1+json": {
       "config": {
        "plotlyServerURL": "https://plot.ly"
       },
       "data": [
        {
         "type": "scatter",
         "x": [
          0,
          0.01,
          0.02,
          0.03,
          0.04,
          0.05,
          0.06,
          0.07,
          0.08,
          0.09,
          0.1,
          0.11,
          0.12,
          0.13,
          0.14,
          0.15,
          0.16,
          0.17,
          0.18,
          0.19,
          0.2,
          0.21,
          0.22,
          0.23,
          0.24,
          0.25,
          0.26,
          0.27,
          0.28,
          0.29,
          0.3,
          0.31,
          0.32,
          0.33,
          0.34,
          0.35000000000000003,
          0.36,
          0.37,
          0.38,
          0.39,
          0.4,
          0.41000000000000003,
          0.42,
          0.43,
          0.44,
          0.45,
          0.46,
          0.47000000000000003,
          0.48,
          0.49,
          0.5,
          0.51,
          0.52,
          0.53,
          0.54,
          0.55,
          0.56,
          0.5700000000000001,
          0.58,
          0.59,
          0.6,
          0.61,
          0.62,
          0.63,
          0.64,
          0.65,
          0.66,
          0.67,
          0.68,
          0.6900000000000001,
          0.7000000000000001,
          0.71,
          0.72,
          0.73,
          0.74,
          0.75,
          0.76,
          0.77,
          0.78,
          0.79,
          0.8,
          0.81,
          0.8200000000000001,
          0.8300000000000001,
          0.84,
          0.85,
          0.86,
          0.87,
          0.88,
          0.89,
          0.9,
          0.91,
          0.92,
          0.93,
          0.9400000000000001,
          0.9500000000000001,
          0.96,
          0.97,
          0.98,
          0.99,
          1,
          1.01,
          1.02,
          1.03,
          1.04,
          1.05,
          1.06,
          1.07,
          1.08,
          1.09,
          1.1,
          1.11,
          1.12,
          1.1300000000000001,
          1.1400000000000001,
          1.1500000000000001,
          1.16,
          1.17,
          1.18,
          1.19,
          1.2,
          1.21,
          1.22,
          1.23,
          1.24,
          1.25,
          1.26,
          1.27,
          1.28,
          1.29,
          1.3,
          1.31,
          1.32,
          1.33,
          1.34,
          1.35,
          1.36,
          1.37,
          1.3800000000000001,
          1.3900000000000001,
          1.4000000000000001,
          1.41,
          1.42,
          1.43,
          1.44,
          1.45,
          1.46,
          1.47,
          1.48,
          1.49,
          1.5,
          1.51,
          1.52,
          1.53,
          1.54,
          1.55,
          1.56,
          1.57,
          1.58,
          1.59,
          1.6,
          1.61,
          1.62,
          1.6300000000000001,
          1.6400000000000001,
          1.6500000000000001,
          1.6600000000000001,
          1.67,
          1.68,
          1.69,
          1.7,
          1.71,
          1.72,
          1.73,
          1.74,
          1.75,
          1.76,
          1.77,
          1.78,
          1.79,
          1.8,
          1.81,
          1.82,
          1.83,
          1.84,
          1.85,
          1.86,
          1.87,
          1.8800000000000001,
          1.8900000000000001,
          1.9000000000000001,
          1.9100000000000001,
          1.92,
          1.93,
          1.94,
          1.95,
          1.96,
          1.97,
          1.98,
          1.99
         ],
         "y": [
          1,
          1.0627905195293135,
          1.1253332335643043,
          1.1873813145857246,
          1.2486898871648549,
          1.3090169943749475,
          1.368124552684678,
          1.4257792915650727,
          1.4817536741017152,
          1.5358267949789965,
          1.5877852522924731,
          1.6374239897486897,
          1.6845471059286887,
          1.7289686274214116,
          1.7705132427757893,
          1.8090169943749475,
          1.844327925502015,
          1.8763066800438637,
          1.9048270524660196,
          1.9297764858882513,
          1.9510565162951536,
          1.968583161128631,
          1.9822872507286886,
          1.992114701314478,
          1.9980267284282716,
          2,
          1.9980267284282716,
          1.9921147013144778,
          1.9822872507286886,
          1.968583161128631,
          1.9510565162951536,
          1.9297764858882513,
          1.9048270524660196,
          1.8763066800438635,
          1.8443279255020149,
          1.8090169943749475,
          1.7705132427757893,
          1.7289686274214113,
          1.6845471059286887,
          1.6374239897486897,
          1.5877852522924734,
          1.5358267949789965,
          1.4817536741017157,
          1.4257792915650729,
          1.3681245526846781,
          1.3090169943749475,
          1.2486898871648549,
          1.1873813145857246,
          1.1253332335643045,
          1.0627905195293135,
          1.0000000000000002,
          0.9372094804706866,
          0.8746667664356957,
          0.8126186854142752,
          0.7513101128351449,
          0.6909830056250523,
          0.6318754473153216,
          0.5742207084349273,
          0.518246325898285,
          0.46417320502100357,
          0.412214747707527,
          0.36257601025131037,
          0.3154528940713113,
          0.27103137257858867,
          0.22948675722421064,
          0.19098300562505266,
          0.1556720744979847,
          0.12369331995613642,
          0.0951729475339802,
          0.07022351411174854,
          0.04894348370484647,
          0.031416838871369035,
          0.01771274927131128,
          0.007885298685522235,
          0.001973271571728441,
          0,
          0.001973271571728441,
          0.007885298685522124,
          0.01771274927131128,
          0.031416838871368924,
          0.04894348370484636,
          0.07022351411174876,
          0.09517294753398042,
          0.12369331995613664,
          0.15567207449798448,
          0.19098300562505244,
          0.2294867572242104,
          0.27103137257858845,
          0.31545289407131105,
          0.36257601025131037,
          0.41221474770752664,
          0.4641732050210037,
          0.5182463258982847,
          0.5742207084349278,
          0.6318754473153221,
          0.6909830056250523,
          0.7513101128351447,
          0.8126186854142753,
          0.8746667664356953,
          0.9372094804706868,
          0.9999999999999998,
          1.0627905195293128,
          1.1253332335643043,
          1.1873813145857242,
          1.2486898871648549,
          1.3090169943749472,
          1.3681245526846781,
          1.4257792915650724,
          1.4817536741017157,
          1.5358267949789965,
          1.5877852522924736,
          1.6374239897486897,
          1.6845471059286892,
          1.7289686274214118,
          1.7705132427757893,
          1.809016994374948,
          1.8443279255020149,
          1.876306680043863,
          1.9048270524660194,
          1.9297764858882511,
          1.9510565162951536,
          1.968583161128631,
          1.9822872507286886,
          1.9921147013144778,
          1.9980267284282716,
          2,
          1.9980267284282716,
          1.992114701314478,
          1.9822872507286886,
          1.968583161128631,
          1.9510565162951536,
          1.9297764858882518,
          1.9048270524660191,
          1.8763066800438635,
          1.844327925502015,
          1.8090169943749477,
          1.7705132427757886,
          1.7289686274214109,
          1.6845471059286883,
          1.6374239897486897,
          1.5877852522924734,
          1.5358267949789972,
          1.481753674101716,
          1.425779291565074,
          1.368124552684678,
          1.309016994374948,
          1.2486898871648555,
          1.1873813145857257,
          1.1253332335643038,
          1.0627905195293135,
          1.0000000000000004,
          0.9372094804706873,
          0.8746667664356969,
          0.8126186854142751,
          0.7513101128351453,
          0.690983005625053,
          0.6318754473153227,
          0.5742207084349267,
          0.5182463258982845,
          0.46417320502100345,
          0.4122147477075272,
          0.3625760102513095,
          0.31545289407131083,
          0.2710313725785882,
          0.22948675722421075,
          0.19098300562505277,
          0.15567207449798437,
          0.12369331995613697,
          0.09517294753398109,
          0.07022351411174865,
          0.04894348370484658,
          0.031416838871369035,
          0.0177127492713115,
          0.007885298685522124,
          0.001973271571728441,
          0,
          0.001973271571728441,
          0.007885298685522013,
          0.01771274927131139,
          0.03141683887136881,
          0.04894348370484625,
          0.07022351411174832,
          0.09517294753398076,
          0.12369331995613653,
          0.15567207449798492,
          0.19098300562505233,
          0.2294867572242114,
          0.2710313725785889,
          0.3154528940713115,
          0.36257601025131025,
          0.41221474770752653,
          0.46417320502100423,
          0.5182463258982837,
          0.574220708434926,
          0.6318754473153219,
          0.6909830056250521,
          0.7513101128351444,
          0.8126186854142742,
          0.874666766435696,
          0.9372094804706865
         ]
        }
       ],
       "layout": {
        "template": {
         "data": {
          "bar": [
           {
            "error_x": {
             "color": "#2a3f5f"
            },
            "error_y": {
             "color": "#2a3f5f"
            },
            "marker": {
             "line": {
              "color": "#E5ECF6",
              "width": 0.5
             }
            },
            "type": "bar"
           }
          ],
          "barpolar": [
           {
            "marker": {
             "line": {
              "color": "#E5ECF6",
              "width": 0.5
             }
            },
            "type": "barpolar"
           }
          ],
          "carpet": [
           {
            "aaxis": {
             "endlinecolor": "#2a3f5f",
             "gridcolor": "white",
             "linecolor": "white",
             "minorgridcolor": "white",
             "startlinecolor": "#2a3f5f"
            },
            "baxis": {
             "endlinecolor": "#2a3f5f",
             "gridcolor": "white",
             "linecolor": "white",
             "minorgridcolor": "white",
             "startlinecolor": "#2a3f5f"
            },
            "type": "carpet"
           }
          ],
          "choropleth": [
           {
            "colorbar": {
             "outlinewidth": 0,
             "ticks": ""
            },
            "type": "choropleth"
           }
          ],
          "contour": [
           {
            "colorbar": {
             "outlinewidth": 0,
             "ticks": ""
            },
            "colorscale": [
             [
              0,
              "#0d0887"
             ],
             [
              0.1111111111111111,
              "#46039f"
             ],
             [
              0.2222222222222222,
              "#7201a8"
             ],
             [
              0.3333333333333333,
              "#9c179e"
             ],
             [
              0.4444444444444444,
              "#bd3786"
             ],
             [
              0.5555555555555556,
              "#d8576b"
             ],
             [
              0.6666666666666666,
              "#ed7953"
             ],
             [
              0.7777777777777778,
              "#fb9f3a"
             ],
             [
              0.8888888888888888,
              "#fdca26"
             ],
             [
              1,
              "#f0f921"
             ]
            ],
            "type": "contour"
           }
          ],
          "contourcarpet": [
           {
            "colorbar": {
             "outlinewidth": 0,
             "ticks": ""
            },
            "type": "contourcarpet"
           }
          ],
          "heatmap": [
           {
            "colorbar": {
             "outlinewidth": 0,
             "ticks": ""
            },
            "colorscale": [
             [
              0,
              "#0d0887"
             ],
             [
              0.1111111111111111,
              "#46039f"
             ],
             [
              0.2222222222222222,
              "#7201a8"
             ],
             [
              0.3333333333333333,
              "#9c179e"
             ],
             [
              0.4444444444444444,
              "#bd3786"
             ],
             [
              0.5555555555555556,
              "#d8576b"
             ],
             [
              0.6666666666666666,
              "#ed7953"
             ],
             [
              0.7777777777777778,
              "#fb9f3a"
             ],
             [
              0.8888888888888888,
              "#fdca26"
             ],
             [
              1,
              "#f0f921"
             ]
            ],
            "type": "heatmap"
           }
          ],
          "heatmapgl": [
           {
            "colorbar": {
             "outlinewidth": 0,
             "ticks": ""
            },
            "colorscale": [
             [
              0,
              "#0d0887"
             ],
             [
              0.1111111111111111,
              "#46039f"
             ],
             [
              0.2222222222222222,
              "#7201a8"
             ],
             [
              0.3333333333333333,
              "#9c179e"
             ],
             [
              0.4444444444444444,
              "#bd3786"
             ],
             [
              0.5555555555555556,
              "#d8576b"
             ],
             [
              0.6666666666666666,
              "#ed7953"
             ],
             [
              0.7777777777777778,
              "#fb9f3a"
             ],
             [
              0.8888888888888888,
              "#fdca26"
             ],
             [
              1,
              "#f0f921"
             ]
            ],
            "type": "heatmapgl"
           }
          ],
          "histogram": [
           {
            "marker": {
             "colorbar": {
              "outlinewidth": 0,
              "ticks": ""
             }
            },
            "type": "histogram"
           }
          ],
          "histogram2d": [
           {
            "colorbar": {
             "outlinewidth": 0,
             "ticks": ""
            },
            "colorscale": [
             [
              0,
              "#0d0887"
             ],
             [
              0.1111111111111111,
              "#46039f"
             ],
             [
              0.2222222222222222,
              "#7201a8"
             ],
             [
              0.3333333333333333,
              "#9c179e"
             ],
             [
              0.4444444444444444,
              "#bd3786"
             ],
             [
              0.5555555555555556,
              "#d8576b"
             ],
             [
              0.6666666666666666,
              "#ed7953"
             ],
             [
              0.7777777777777778,
              "#fb9f3a"
             ],
             [
              0.8888888888888888,
              "#fdca26"
             ],
             [
              1,
              "#f0f921"
             ]
            ],
            "type": "histogram2d"
           }
          ],
          "histogram2dcontour": [
           {
            "colorbar": {
             "outlinewidth": 0,
             "ticks": ""
            },
            "colorscale": [
             [
              0,
              "#0d0887"
             ],
             [
              0.1111111111111111,
              "#46039f"
             ],
             [
              0.2222222222222222,
              "#7201a8"
             ],
             [
              0.3333333333333333,
              "#9c179e"
             ],
             [
              0.4444444444444444,
              "#bd3786"
             ],
             [
              0.5555555555555556,
              "#d8576b"
             ],
             [
              0.6666666666666666,
              "#ed7953"
             ],
             [
              0.7777777777777778,
              "#fb9f3a"
             ],
             [
              0.8888888888888888,
              "#fdca26"
             ],
             [
              1,
              "#f0f921"
             ]
            ],
            "type": "histogram2dcontour"
           }
          ],
          "mesh3d": [
           {
            "colorbar": {
             "outlinewidth": 0,
             "ticks": ""
            },
            "type": "mesh3d"
           }
          ],
          "parcoords": [
           {
            "line": {
             "colorbar": {
              "outlinewidth": 0,
              "ticks": ""
             }
            },
            "type": "parcoords"
           }
          ],
          "pie": [
           {
            "automargin": true,
            "type": "pie"
           }
          ],
          "scatter": [
           {
            "marker": {
             "colorbar": {
              "outlinewidth": 0,
              "ticks": ""
             }
            },
            "type": "scatter"
           }
          ],
          "scatter3d": [
           {
            "line": {
             "colorbar": {
              "outlinewidth": 0,
              "ticks": ""
             }
            },
            "marker": {
             "colorbar": {
              "outlinewidth": 0,
              "ticks": ""
             }
            },
            "type": "scatter3d"
           }
          ],
          "scattercarpet": [
           {
            "marker": {
             "colorbar": {
              "outlinewidth": 0,
              "ticks": ""
             }
            },
            "type": "scattercarpet"
           }
          ],
          "scattergeo": [
           {
            "marker": {
             "colorbar": {
              "outlinewidth": 0,
              "ticks": ""
             }
            },
            "type": "scattergeo"
           }
          ],
          "scattergl": [
           {
            "marker": {
             "colorbar": {
              "outlinewidth": 0,
              "ticks": ""
             }
            },
            "type": "scattergl"
           }
          ],
          "scattermapbox": [
           {
            "marker": {
             "colorbar": {
              "outlinewidth": 0,
              "ticks": ""
             }
            },
            "type": "scattermapbox"
           }
          ],
          "scatterpolar": [
           {
            "marker": {
             "colorbar": {
              "outlinewidth": 0,
              "ticks": ""
             }
            },
            "type": "scatterpolar"
           }
          ],
          "scatterpolargl": [
           {
            "marker": {
             "colorbar": {
              "outlinewidth": 0,
              "ticks": ""
             }
            },
            "type": "scatterpolargl"
           }
          ],
          "scatterternary": [
           {
            "marker": {
             "colorbar": {
              "outlinewidth": 0,
              "ticks": ""
             }
            },
            "type": "scatterternary"
           }
          ],
          "surface": [
           {
            "colorbar": {
             "outlinewidth": 0,
             "ticks": ""
            },
            "colorscale": [
             [
              0,
              "#0d0887"
             ],
             [
              0.1111111111111111,
              "#46039f"
             ],
             [
              0.2222222222222222,
              "#7201a8"
             ],
             [
              0.3333333333333333,
              "#9c179e"
             ],
             [
              0.4444444444444444,
              "#bd3786"
             ],
             [
              0.5555555555555556,
              "#d8576b"
             ],
             [
              0.6666666666666666,
              "#ed7953"
             ],
             [
              0.7777777777777778,
              "#fb9f3a"
             ],
             [
              0.8888888888888888,
              "#fdca26"
             ],
             [
              1,
              "#f0f921"
             ]
            ],
            "type": "surface"
           }
          ],
          "table": [
           {
            "cells": {
             "fill": {
              "color": "#EBF0F8"
             },
             "line": {
              "color": "white"
             }
            },
            "header": {
             "fill": {
              "color": "#C8D4E3"
             },
             "line": {
              "color": "white"
             }
            },
            "type": "table"
           }
          ]
         },
         "layout": {
          "annotationdefaults": {
           "arrowcolor": "#2a3f5f",
           "arrowhead": 0,
           "arrowwidth": 1
          },
          "coloraxis": {
           "colorbar": {
            "outlinewidth": 0,
            "ticks": ""
           }
          },
          "colorscale": {
           "diverging": [
            [
             0,
             "#8e0152"
            ],
            [
             0.1,
             "#c51b7d"
            ],
            [
             0.2,
             "#de77ae"
            ],
            [
             0.3,
             "#f1b6da"
            ],
            [
             0.4,
             "#fde0ef"
            ],
            [
             0.5,
             "#f7f7f7"
            ],
            [
             0.6,
             "#e6f5d0"
            ],
            [
             0.7,
             "#b8e186"
            ],
            [
             0.8,
             "#7fbc41"
            ],
            [
             0.9,
             "#4d9221"
            ],
            [
             1,
             "#276419"
            ]
           ],
           "sequential": [
            [
             0,
             "#0d0887"
            ],
            [
             0.1111111111111111,
             "#46039f"
            ],
            [
             0.2222222222222222,
             "#7201a8"
            ],
            [
             0.3333333333333333,
             "#9c179e"
            ],
            [
             0.4444444444444444,
             "#bd3786"
            ],
            [
             0.5555555555555556,
             "#d8576b"
            ],
            [
             0.6666666666666666,
             "#ed7953"
            ],
            [
             0.7777777777777778,
             "#fb9f3a"
            ],
            [
             0.8888888888888888,
             "#fdca26"
            ],
            [
             1,
             "#f0f921"
            ]
           ],
           "sequentialminus": [
            [
             0,
             "#0d0887"
            ],
            [
             0.1111111111111111,
             "#46039f"
            ],
            [
             0.2222222222222222,
             "#7201a8"
            ],
            [
             0.3333333333333333,
             "#9c179e"
            ],
            [
             0.4444444444444444,
             "#bd3786"
            ],
            [
             0.5555555555555556,
             "#d8576b"
            ],
            [
             0.6666666666666666,
             "#ed7953"
            ],
            [
             0.7777777777777778,
             "#fb9f3a"
            ],
            [
             0.8888888888888888,
             "#fdca26"
            ],
            [
             1,
             "#f0f921"
            ]
           ]
          },
          "colorway": [
           "#636efa",
           "#EF553B",
           "#00cc96",
           "#ab63fa",
           "#FFA15A",
           "#19d3f3",
           "#FF6692",
           "#B6E880",
           "#FF97FF",
           "#FECB52"
          ],
          "font": {
           "color": "#2a3f5f"
          },
          "geo": {
           "bgcolor": "white",
           "lakecolor": "white",
           "landcolor": "#E5ECF6",
           "showlakes": true,
           "showland": true,
           "subunitcolor": "white"
          },
          "hoverlabel": {
           "align": "left"
          },
          "hovermode": "closest",
          "mapbox": {
           "style": "light"
          },
          "paper_bgcolor": "white",
          "plot_bgcolor": "#E5ECF6",
          "polar": {
           "angularaxis": {
            "gridcolor": "white",
            "linecolor": "white",
            "ticks": ""
           },
           "bgcolor": "#E5ECF6",
           "radialaxis": {
            "gridcolor": "white",
            "linecolor": "white",
            "ticks": ""
           }
          },
          "scene": {
           "xaxis": {
            "backgroundcolor": "#E5ECF6",
            "gridcolor": "white",
            "gridwidth": 2,
            "linecolor": "white",
            "showbackground": true,
            "ticks": "",
            "zerolinecolor": "white"
           },
           "yaxis": {
            "backgroundcolor": "#E5ECF6",
            "gridcolor": "white",
            "gridwidth": 2,
            "linecolor": "white",
            "showbackground": true,
            "ticks": "",
            "zerolinecolor": "white"
           },
           "zaxis": {
            "backgroundcolor": "#E5ECF6",
            "gridcolor": "white",
            "gridwidth": 2,
            "linecolor": "white",
            "showbackground": true,
            "ticks": "",
            "zerolinecolor": "white"
           }
          },
          "shapedefaults": {
           "line": {
            "color": "#2a3f5f"
           }
          },
          "ternary": {
           "aaxis": {
            "gridcolor": "white",
            "linecolor": "white",
            "ticks": ""
           },
           "baxis": {
            "gridcolor": "white",
            "linecolor": "white",
            "ticks": ""
           },
           "bgcolor": "#E5ECF6",
           "caxis": {
            "gridcolor": "white",
            "linecolor": "white",
            "ticks": ""
           }
          },
          "title": {
           "x": 0.05
          },
          "xaxis": {
           "automargin": true,
           "gridcolor": "white",
           "linecolor": "white",
           "ticks": "",
           "title": {
            "standoff": 15
           },
           "zerolinecolor": "white",
           "zerolinewidth": 2
          },
          "yaxis": {
           "automargin": true,
           "gridcolor": "white",
           "linecolor": "white",
           "ticks": "",
           "title": {
            "standoff": 15
           },
           "zerolinecolor": "white",
           "zerolinewidth": 2
          }
         }
        }
       }
      }
     },
     "metadata": {}
    }
   ],
   "source": [
    "# Plotly example\n",
    "t = np.arange(0.0, 2.0, 0.01)\n",
    "s = 1 + np.sin(2 * np.pi * t)\n",
    "\n",
    "fig = go.Figure(data=go.Scatter(x=t, y=s))\n",
    "fig.show()"
   ]
  },
  {
   "cell_type": "code",
   "execution_count": 40,
   "metadata": {},
   "outputs": [
    {
     "output_type": "display_data",
     "data": {
      "application/vnd.plotly.v1+json": {
       "config": {
        "plotlyServerURL": "https://plot.ly"
       },
       "data": [
        {
         "hovertemplate": "t=%{x}<br>s=%{y}<extra></extra>",
         "legendgroup": "",
         "line": {
          "color": "#636efa",
          "dash": "solid"
         },
         "mode": "lines",
         "name": "",
         "orientation": "v",
         "showlegend": false,
         "type": "scatter",
         "x": [
          0,
          0.01,
          0.02,
          0.03,
          0.04,
          0.05,
          0.06,
          0.07,
          0.08,
          0.09,
          0.1,
          0.11,
          0.12,
          0.13,
          0.14,
          0.15,
          0.16,
          0.17,
          0.18,
          0.19,
          0.2,
          0.21,
          0.22,
          0.23,
          0.24,
          0.25,
          0.26,
          0.27,
          0.28,
          0.29,
          0.3,
          0.31,
          0.32,
          0.33,
          0.34,
          0.35000000000000003,
          0.36,
          0.37,
          0.38,
          0.39,
          0.4,
          0.41000000000000003,
          0.42,
          0.43,
          0.44,
          0.45,
          0.46,
          0.47000000000000003,
          0.48,
          0.49,
          0.5,
          0.51,
          0.52,
          0.53,
          0.54,
          0.55,
          0.56,
          0.5700000000000001,
          0.58,
          0.59,
          0.6,
          0.61,
          0.62,
          0.63,
          0.64,
          0.65,
          0.66,
          0.67,
          0.68,
          0.6900000000000001,
          0.7000000000000001,
          0.71,
          0.72,
          0.73,
          0.74,
          0.75,
          0.76,
          0.77,
          0.78,
          0.79,
          0.8,
          0.81,
          0.8200000000000001,
          0.8300000000000001,
          0.84,
          0.85,
          0.86,
          0.87,
          0.88,
          0.89,
          0.9,
          0.91,
          0.92,
          0.93,
          0.9400000000000001,
          0.9500000000000001,
          0.96,
          0.97,
          0.98,
          0.99,
          1,
          1.01,
          1.02,
          1.03,
          1.04,
          1.05,
          1.06,
          1.07,
          1.08,
          1.09,
          1.1,
          1.11,
          1.12,
          1.1300000000000001,
          1.1400000000000001,
          1.1500000000000001,
          1.16,
          1.17,
          1.18,
          1.19,
          1.2,
          1.21,
          1.22,
          1.23,
          1.24,
          1.25,
          1.26,
          1.27,
          1.28,
          1.29,
          1.3,
          1.31,
          1.32,
          1.33,
          1.34,
          1.35,
          1.36,
          1.37,
          1.3800000000000001,
          1.3900000000000001,
          1.4000000000000001,
          1.41,
          1.42,
          1.43,
          1.44,
          1.45,
          1.46,
          1.47,
          1.48,
          1.49,
          1.5,
          1.51,
          1.52,
          1.53,
          1.54,
          1.55,
          1.56,
          1.57,
          1.58,
          1.59,
          1.6,
          1.61,
          1.62,
          1.6300000000000001,
          1.6400000000000001,
          1.6500000000000001,
          1.6600000000000001,
          1.67,
          1.68,
          1.69,
          1.7,
          1.71,
          1.72,
          1.73,
          1.74,
          1.75,
          1.76,
          1.77,
          1.78,
          1.79,
          1.8,
          1.81,
          1.82,
          1.83,
          1.84,
          1.85,
          1.86,
          1.87,
          1.8800000000000001,
          1.8900000000000001,
          1.9000000000000001,
          1.9100000000000001,
          1.92,
          1.93,
          1.94,
          1.95,
          1.96,
          1.97,
          1.98,
          1.99
         ],
         "xaxis": "x",
         "y": [
          1,
          1.0627905195293135,
          1.1253332335643043,
          1.1873813145857246,
          1.2486898871648549,
          1.3090169943749475,
          1.368124552684678,
          1.4257792915650727,
          1.4817536741017152,
          1.5358267949789965,
          1.5877852522924731,
          1.6374239897486897,
          1.6845471059286887,
          1.7289686274214116,
          1.7705132427757893,
          1.8090169943749475,
          1.844327925502015,
          1.8763066800438637,
          1.9048270524660196,
          1.9297764858882513,
          1.9510565162951536,
          1.968583161128631,
          1.9822872507286886,
          1.992114701314478,
          1.9980267284282716,
          2,
          1.9980267284282716,
          1.9921147013144778,
          1.9822872507286886,
          1.968583161128631,
          1.9510565162951536,
          1.9297764858882513,
          1.9048270524660196,
          1.8763066800438635,
          1.8443279255020149,
          1.8090169943749475,
          1.7705132427757893,
          1.7289686274214113,
          1.6845471059286887,
          1.6374239897486897,
          1.5877852522924734,
          1.5358267949789965,
          1.4817536741017157,
          1.4257792915650729,
          1.3681245526846781,
          1.3090169943749475,
          1.2486898871648549,
          1.1873813145857246,
          1.1253332335643045,
          1.0627905195293135,
          1.0000000000000002,
          0.9372094804706866,
          0.8746667664356957,
          0.8126186854142752,
          0.7513101128351449,
          0.6909830056250523,
          0.6318754473153216,
          0.5742207084349273,
          0.518246325898285,
          0.46417320502100357,
          0.412214747707527,
          0.36257601025131037,
          0.3154528940713113,
          0.27103137257858867,
          0.22948675722421064,
          0.19098300562505266,
          0.1556720744979847,
          0.12369331995613642,
          0.0951729475339802,
          0.07022351411174854,
          0.04894348370484647,
          0.031416838871369035,
          0.01771274927131128,
          0.007885298685522235,
          0.001973271571728441,
          0,
          0.001973271571728441,
          0.007885298685522124,
          0.01771274927131128,
          0.031416838871368924,
          0.04894348370484636,
          0.07022351411174876,
          0.09517294753398042,
          0.12369331995613664,
          0.15567207449798448,
          0.19098300562505244,
          0.2294867572242104,
          0.27103137257858845,
          0.31545289407131105,
          0.36257601025131037,
          0.41221474770752664,
          0.4641732050210037,
          0.5182463258982847,
          0.5742207084349278,
          0.6318754473153221,
          0.6909830056250523,
          0.7513101128351447,
          0.8126186854142753,
          0.8746667664356953,
          0.9372094804706868,
          0.9999999999999998,
          1.0627905195293128,
          1.1253332335643043,
          1.1873813145857242,
          1.2486898871648549,
          1.3090169943749472,
          1.3681245526846781,
          1.4257792915650724,
          1.4817536741017157,
          1.5358267949789965,
          1.5877852522924736,
          1.6374239897486897,
          1.6845471059286892,
          1.7289686274214118,
          1.7705132427757893,
          1.809016994374948,
          1.8443279255020149,
          1.876306680043863,
          1.9048270524660194,
          1.9297764858882511,
          1.9510565162951536,
          1.968583161128631,
          1.9822872507286886,
          1.9921147013144778,
          1.9980267284282716,
          2,
          1.9980267284282716,
          1.992114701314478,
          1.9822872507286886,
          1.968583161128631,
          1.9510565162951536,
          1.9297764858882518,
          1.9048270524660191,
          1.8763066800438635,
          1.844327925502015,
          1.8090169943749477,
          1.7705132427757886,
          1.7289686274214109,
          1.6845471059286883,
          1.6374239897486897,
          1.5877852522924734,
          1.5358267949789972,
          1.481753674101716,
          1.425779291565074,
          1.368124552684678,
          1.309016994374948,
          1.2486898871648555,
          1.1873813145857257,
          1.1253332335643038,
          1.0627905195293135,
          1.0000000000000004,
          0.9372094804706873,
          0.8746667664356969,
          0.8126186854142751,
          0.7513101128351453,
          0.690983005625053,
          0.6318754473153227,
          0.5742207084349267,
          0.5182463258982845,
          0.46417320502100345,
          0.4122147477075272,
          0.3625760102513095,
          0.31545289407131083,
          0.2710313725785882,
          0.22948675722421075,
          0.19098300562505277,
          0.15567207449798437,
          0.12369331995613697,
          0.09517294753398109,
          0.07022351411174865,
          0.04894348370484658,
          0.031416838871369035,
          0.0177127492713115,
          0.007885298685522124,
          0.001973271571728441,
          0,
          0.001973271571728441,
          0.007885298685522013,
          0.01771274927131139,
          0.03141683887136881,
          0.04894348370484625,
          0.07022351411174832,
          0.09517294753398076,
          0.12369331995613653,
          0.15567207449798492,
          0.19098300562505233,
          0.2294867572242114,
          0.2710313725785889,
          0.3154528940713115,
          0.36257601025131025,
          0.41221474770752653,
          0.46417320502100423,
          0.5182463258982837,
          0.574220708434926,
          0.6318754473153219,
          0.6909830056250521,
          0.7513101128351444,
          0.8126186854142742,
          0.874666766435696,
          0.9372094804706865
         ],
         "yaxis": "y"
        }
       ],
       "layout": {
        "legend": {
         "tracegroupgap": 0
        },
        "template": {
         "data": {
          "bar": [
           {
            "error_x": {
             "color": "#2a3f5f"
            },
            "error_y": {
             "color": "#2a3f5f"
            },
            "marker": {
             "line": {
              "color": "#E5ECF6",
              "width": 0.5
             }
            },
            "type": "bar"
           }
          ],
          "barpolar": [
           {
            "marker": {
             "line": {
              "color": "#E5ECF6",
              "width": 0.5
             }
            },
            "type": "barpolar"
           }
          ],
          "carpet": [
           {
            "aaxis": {
             "endlinecolor": "#2a3f5f",
             "gridcolor": "white",
             "linecolor": "white",
             "minorgridcolor": "white",
             "startlinecolor": "#2a3f5f"
            },
            "baxis": {
             "endlinecolor": "#2a3f5f",
             "gridcolor": "white",
             "linecolor": "white",
             "minorgridcolor": "white",
             "startlinecolor": "#2a3f5f"
            },
            "type": "carpet"
           }
          ],
          "choropleth": [
           {
            "colorbar": {
             "outlinewidth": 0,
             "ticks": ""
            },
            "type": "choropleth"
           }
          ],
          "contour": [
           {
            "colorbar": {
             "outlinewidth": 0,
             "ticks": ""
            },
            "colorscale": [
             [
              0,
              "#0d0887"
             ],
             [
              0.1111111111111111,
              "#46039f"
             ],
             [
              0.2222222222222222,
              "#7201a8"
             ],
             [
              0.3333333333333333,
              "#9c179e"
             ],
             [
              0.4444444444444444,
              "#bd3786"
             ],
             [
              0.5555555555555556,
              "#d8576b"
             ],
             [
              0.6666666666666666,
              "#ed7953"
             ],
             [
              0.7777777777777778,
              "#fb9f3a"
             ],
             [
              0.8888888888888888,
              "#fdca26"
             ],
             [
              1,
              "#f0f921"
             ]
            ],
            "type": "contour"
           }
          ],
          "contourcarpet": [
           {
            "colorbar": {
             "outlinewidth": 0,
             "ticks": ""
            },
            "type": "contourcarpet"
           }
          ],
          "heatmap": [
           {
            "colorbar": {
             "outlinewidth": 0,
             "ticks": ""
            },
            "colorscale": [
             [
              0,
              "#0d0887"
             ],
             [
              0.1111111111111111,
              "#46039f"
             ],
             [
              0.2222222222222222,
              "#7201a8"
             ],
             [
              0.3333333333333333,
              "#9c179e"
             ],
             [
              0.4444444444444444,
              "#bd3786"
             ],
             [
              0.5555555555555556,
              "#d8576b"
             ],
             [
              0.6666666666666666,
              "#ed7953"
             ],
             [
              0.7777777777777778,
              "#fb9f3a"
             ],
             [
              0.8888888888888888,
              "#fdca26"
             ],
             [
              1,
              "#f0f921"
             ]
            ],
            "type": "heatmap"
           }
          ],
          "heatmapgl": [
           {
            "colorbar": {
             "outlinewidth": 0,
             "ticks": ""
            },
            "colorscale": [
             [
              0,
              "#0d0887"
             ],
             [
              0.1111111111111111,
              "#46039f"
             ],
             [
              0.2222222222222222,
              "#7201a8"
             ],
             [
              0.3333333333333333,
              "#9c179e"
             ],
             [
              0.4444444444444444,
              "#bd3786"
             ],
             [
              0.5555555555555556,
              "#d8576b"
             ],
             [
              0.6666666666666666,
              "#ed7953"
             ],
             [
              0.7777777777777778,
              "#fb9f3a"
             ],
             [
              0.8888888888888888,
              "#fdca26"
             ],
             [
              1,
              "#f0f921"
             ]
            ],
            "type": "heatmapgl"
           }
          ],
          "histogram": [
           {
            "marker": {
             "colorbar": {
              "outlinewidth": 0,
              "ticks": ""
             }
            },
            "type": "histogram"
           }
          ],
          "histogram2d": [
           {
            "colorbar": {
             "outlinewidth": 0,
             "ticks": ""
            },
            "colorscale": [
             [
              0,
              "#0d0887"
             ],
             [
              0.1111111111111111,
              "#46039f"
             ],
             [
              0.2222222222222222,
              "#7201a8"
             ],
             [
              0.3333333333333333,
              "#9c179e"
             ],
             [
              0.4444444444444444,
              "#bd3786"
             ],
             [
              0.5555555555555556,
              "#d8576b"
             ],
             [
              0.6666666666666666,
              "#ed7953"
             ],
             [
              0.7777777777777778,
              "#fb9f3a"
             ],
             [
              0.8888888888888888,
              "#fdca26"
             ],
             [
              1,
              "#f0f921"
             ]
            ],
            "type": "histogram2d"
           }
          ],
          "histogram2dcontour": [
           {
            "colorbar": {
             "outlinewidth": 0,
             "ticks": ""
            },
            "colorscale": [
             [
              0,
              "#0d0887"
             ],
             [
              0.1111111111111111,
              "#46039f"
             ],
             [
              0.2222222222222222,
              "#7201a8"
             ],
             [
              0.3333333333333333,
              "#9c179e"
             ],
             [
              0.4444444444444444,
              "#bd3786"
             ],
             [
              0.5555555555555556,
              "#d8576b"
             ],
             [
              0.6666666666666666,
              "#ed7953"
             ],
             [
              0.7777777777777778,
              "#fb9f3a"
             ],
             [
              0.8888888888888888,
              "#fdca26"
             ],
             [
              1,
              "#f0f921"
             ]
            ],
            "type": "histogram2dcontour"
           }
          ],
          "mesh3d": [
           {
            "colorbar": {
             "outlinewidth": 0,
             "ticks": ""
            },
            "type": "mesh3d"
           }
          ],
          "parcoords": [
           {
            "line": {
             "colorbar": {
              "outlinewidth": 0,
              "ticks": ""
             }
            },
            "type": "parcoords"
           }
          ],
          "pie": [
           {
            "automargin": true,
            "type": "pie"
           }
          ],
          "scatter": [
           {
            "marker": {
             "colorbar": {
              "outlinewidth": 0,
              "ticks": ""
             }
            },
            "type": "scatter"
           }
          ],
          "scatter3d": [
           {
            "line": {
             "colorbar": {
              "outlinewidth": 0,
              "ticks": ""
             }
            },
            "marker": {
             "colorbar": {
              "outlinewidth": 0,
              "ticks": ""
             }
            },
            "type": "scatter3d"
           }
          ],
          "scattercarpet": [
           {
            "marker": {
             "colorbar": {
              "outlinewidth": 0,
              "ticks": ""
             }
            },
            "type": "scattercarpet"
           }
          ],
          "scattergeo": [
           {
            "marker": {
             "colorbar": {
              "outlinewidth": 0,
              "ticks": ""
             }
            },
            "type": "scattergeo"
           }
          ],
          "scattergl": [
           {
            "marker": {
             "colorbar": {
              "outlinewidth": 0,
              "ticks": ""
             }
            },
            "type": "scattergl"
           }
          ],
          "scattermapbox": [
           {
            "marker": {
             "colorbar": {
              "outlinewidth": 0,
              "ticks": ""
             }
            },
            "type": "scattermapbox"
           }
          ],
          "scatterpolar": [
           {
            "marker": {
             "colorbar": {
              "outlinewidth": 0,
              "ticks": ""
             }
            },
            "type": "scatterpolar"
           }
          ],
          "scatterpolargl": [
           {
            "marker": {
             "colorbar": {
              "outlinewidth": 0,
              "ticks": ""
             }
            },
            "type": "scatterpolargl"
           }
          ],
          "scatterternary": [
           {
            "marker": {
             "colorbar": {
              "outlinewidth": 0,
              "ticks": ""
             }
            },
            "type": "scatterternary"
           }
          ],
          "surface": [
           {
            "colorbar": {
             "outlinewidth": 0,
             "ticks": ""
            },
            "colorscale": [
             [
              0,
              "#0d0887"
             ],
             [
              0.1111111111111111,
              "#46039f"
             ],
             [
              0.2222222222222222,
              "#7201a8"
             ],
             [
              0.3333333333333333,
              "#9c179e"
             ],
             [
              0.4444444444444444,
              "#bd3786"
             ],
             [
              0.5555555555555556,
              "#d8576b"
             ],
             [
              0.6666666666666666,
              "#ed7953"
             ],
             [
              0.7777777777777778,
              "#fb9f3a"
             ],
             [
              0.8888888888888888,
              "#fdca26"
             ],
             [
              1,
              "#f0f921"
             ]
            ],
            "type": "surface"
           }
          ],
          "table": [
           {
            "cells": {
             "fill": {
              "color": "#EBF0F8"
             },
             "line": {
              "color": "white"
             }
            },
            "header": {
             "fill": {
              "color": "#C8D4E3"
             },
             "line": {
              "color": "white"
             }
            },
            "type": "table"
           }
          ]
         },
         "layout": {
          "annotationdefaults": {
           "arrowcolor": "#2a3f5f",
           "arrowhead": 0,
           "arrowwidth": 1
          },
          "coloraxis": {
           "colorbar": {
            "outlinewidth": 0,
            "ticks": ""
           }
          },
          "colorscale": {
           "diverging": [
            [
             0,
             "#8e0152"
            ],
            [
             0.1,
             "#c51b7d"
            ],
            [
             0.2,
             "#de77ae"
            ],
            [
             0.3,
             "#f1b6da"
            ],
            [
             0.4,
             "#fde0ef"
            ],
            [
             0.5,
             "#f7f7f7"
            ],
            [
             0.6,
             "#e6f5d0"
            ],
            [
             0.7,
             "#b8e186"
            ],
            [
             0.8,
             "#7fbc41"
            ],
            [
             0.9,
             "#4d9221"
            ],
            [
             1,
             "#276419"
            ]
           ],
           "sequential": [
            [
             0,
             "#0d0887"
            ],
            [
             0.1111111111111111,
             "#46039f"
            ],
            [
             0.2222222222222222,
             "#7201a8"
            ],
            [
             0.3333333333333333,
             "#9c179e"
            ],
            [
             0.4444444444444444,
             "#bd3786"
            ],
            [
             0.5555555555555556,
             "#d8576b"
            ],
            [
             0.6666666666666666,
             "#ed7953"
            ],
            [
             0.7777777777777778,
             "#fb9f3a"
            ],
            [
             0.8888888888888888,
             "#fdca26"
            ],
            [
             1,
             "#f0f921"
            ]
           ],
           "sequentialminus": [
            [
             0,
             "#0d0887"
            ],
            [
             0.1111111111111111,
             "#46039f"
            ],
            [
             0.2222222222222222,
             "#7201a8"
            ],
            [
             0.3333333333333333,
             "#9c179e"
            ],
            [
             0.4444444444444444,
             "#bd3786"
            ],
            [
             0.5555555555555556,
             "#d8576b"
            ],
            [
             0.6666666666666666,
             "#ed7953"
            ],
            [
             0.7777777777777778,
             "#fb9f3a"
            ],
            [
             0.8888888888888888,
             "#fdca26"
            ],
            [
             1,
             "#f0f921"
            ]
           ]
          },
          "colorway": [
           "#636efa",
           "#EF553B",
           "#00cc96",
           "#ab63fa",
           "#FFA15A",
           "#19d3f3",
           "#FF6692",
           "#B6E880",
           "#FF97FF",
           "#FECB52"
          ],
          "font": {
           "color": "#2a3f5f"
          },
          "geo": {
           "bgcolor": "white",
           "lakecolor": "white",
           "landcolor": "#E5ECF6",
           "showlakes": true,
           "showland": true,
           "subunitcolor": "white"
          },
          "hoverlabel": {
           "align": "left"
          },
          "hovermode": "closest",
          "mapbox": {
           "style": "light"
          },
          "paper_bgcolor": "white",
          "plot_bgcolor": "#E5ECF6",
          "polar": {
           "angularaxis": {
            "gridcolor": "white",
            "linecolor": "white",
            "ticks": ""
           },
           "bgcolor": "#E5ECF6",
           "radialaxis": {
            "gridcolor": "white",
            "linecolor": "white",
            "ticks": ""
           }
          },
          "scene": {
           "xaxis": {
            "backgroundcolor": "#E5ECF6",
            "gridcolor": "white",
            "gridwidth": 2,
            "linecolor": "white",
            "showbackground": true,
            "ticks": "",
            "zerolinecolor": "white"
           },
           "yaxis": {
            "backgroundcolor": "#E5ECF6",
            "gridcolor": "white",
            "gridwidth": 2,
            "linecolor": "white",
            "showbackground": true,
            "ticks": "",
            "zerolinecolor": "white"
           },
           "zaxis": {
            "backgroundcolor": "#E5ECF6",
            "gridcolor": "white",
            "gridwidth": 2,
            "linecolor": "white",
            "showbackground": true,
            "ticks": "",
            "zerolinecolor": "white"
           }
          },
          "shapedefaults": {
           "line": {
            "color": "#2a3f5f"
           }
          },
          "ternary": {
           "aaxis": {
            "gridcolor": "white",
            "linecolor": "white",
            "ticks": ""
           },
           "baxis": {
            "gridcolor": "white",
            "linecolor": "white",
            "ticks": ""
           },
           "bgcolor": "#E5ECF6",
           "caxis": {
            "gridcolor": "white",
            "linecolor": "white",
            "ticks": ""
           }
          },
          "title": {
           "x": 0.05
          },
          "xaxis": {
           "automargin": true,
           "gridcolor": "white",
           "linecolor": "white",
           "ticks": "",
           "title": {
            "standoff": 15
           },
           "zerolinecolor": "white",
           "zerolinewidth": 2
          },
          "yaxis": {
           "automargin": true,
           "gridcolor": "white",
           "linecolor": "white",
           "ticks": "",
           "title": {
            "standoff": 15
           },
           "zerolinecolor": "white",
           "zerolinewidth": 2
          }
         }
        },
        "title": {
         "text": "Sine wave"
        },
        "xaxis": {
         "anchor": "y",
         "domain": [
          0,
          1
         ],
         "title": {
          "text": "t"
         }
        },
        "yaxis": {
         "anchor": "x",
         "domain": [
          0,
          1
         ],
         "title": {
          "text": "s"
         }
        }
       }
      }
     },
     "metadata": {}
    }
   ],
   "source": [
    "# plotly_sin_line_example_pandas\n",
    "t = np.arange(0.0, 2.0, 0.01)\n",
    "s = 1 + np.sin(2 * np.pi * t)\n",
    "df = pd.DataFrame(dict(t=t, s=s))\n",
    "\n",
    "fig = px.line(df, x=\"t\", y=\"s\", title='Sine wave')\n",
    "fig.show()"
   ]
  },
  {
   "cell_type": "code",
   "execution_count": 41,
   "metadata": {},
   "outputs": [],
   "source": [
    "x = np.random.rand(50) * np.random.randint(-10, 10)\n",
    "y = np.random.rand(50) * np.random.randint(-10, 10)\n",
    "matrix_2D = np.random.rand(10, 10) * np.random.randint(-10, 10)\n",
    "\n",
    "df = pd.DataFrame(dict(x=x, y=y, z=x + y))\n",
    "df_matrix = pd.DataFrame(matrix_2D, columns=[f'grade of class {x}' for x in range(10)], index=[f'professor {x}' for x in range(10)])"
   ]
  },
  {
   "cell_type": "code",
   "execution_count": 46,
   "metadata": {},
   "outputs": [
    {
     "output_type": "execute_result",
     "data": {
      "text/plain": [
       "          x         y         z\n",
       "0  0.531961 -0.470612  0.061349\n",
       "1  0.771313 -0.772387 -0.001074\n",
       "2  0.976608 -0.373461  0.603147\n",
       "3  1.349040 -0.590724  0.758316\n",
       "4  1.549769 -0.741758  0.808010"
      ],
      "text/html": "<div>\n<style scoped>\n    .dataframe tbody tr th:only-of-type {\n        vertical-align: middle;\n    }\n\n    .dataframe tbody tr th {\n        vertical-align: top;\n    }\n\n    .dataframe thead th {\n        text-align: right;\n    }\n</style>\n<table border=\"1\" class=\"dataframe\">\n  <thead>\n    <tr style=\"text-align: right;\">\n      <th></th>\n      <th>x</th>\n      <th>y</th>\n      <th>z</th>\n    </tr>\n  </thead>\n  <tbody>\n    <tr>\n      <th>0</th>\n      <td>0.531961</td>\n      <td>-0.470612</td>\n      <td>0.061349</td>\n    </tr>\n    <tr>\n      <th>1</th>\n      <td>0.771313</td>\n      <td>-0.772387</td>\n      <td>-0.001074</td>\n    </tr>\n    <tr>\n      <th>2</th>\n      <td>0.976608</td>\n      <td>-0.373461</td>\n      <td>0.603147</td>\n    </tr>\n    <tr>\n      <th>3</th>\n      <td>1.349040</td>\n      <td>-0.590724</td>\n      <td>0.758316</td>\n    </tr>\n    <tr>\n      <th>4</th>\n      <td>1.549769</td>\n      <td>-0.741758</td>\n      <td>0.808010</td>\n    </tr>\n  </tbody>\n</table>\n</div>"
     },
     "metadata": {},
     "execution_count": 46
    }
   ],
   "source": [
    "df.head()"
   ]
  },
  {
   "cell_type": "code",
   "execution_count": 48,
   "metadata": {},
   "outputs": [
    {
     "output_type": "display_data",
     "data": {
      "application/vnd.plotly.v1+json": {
       "config": {
        "plotlyServerURL": "https://plot.ly"
       },
       "data": [
        {
         "alignmentgroup": "True",
         "hovertemplate": "x=%{x}<br>y=%{y}<extra></extra>",
         "legendgroup": "",
         "marker": {
          "color": "#636efa"
         },
         "name": "",
         "offsetgroup": "",
         "orientation": "v",
         "showlegend": false,
         "textposition": "auto",
         "type": "bar",
         "x": [
          0.5319610025898172,
          0.7713127230333698,
          0.9766081793881434,
          1.3490400629771304,
          1.5497685692847873,
          1.1448713725304653,
          1.4424057440468026,
          0.02315533030115602,
          1.7089210698708024,
          0.10059085311821003,
          0.09913527225718988,
          1.1403375957102417,
          0.36135791284185714,
          0.10852915255527917,
          1.3110875900029682,
          0.1653331460681977,
          0.005173441471192586,
          0.8564195696745629,
          0.392486312067889,
          0.06393345359901503,
          1.2352861560356072,
          0.8590226729535015,
          1.4686036114678076,
          0.4884076675047371,
          1.537261453429627,
          0.5363785768714602,
          0.9868934043433764,
          1.077055646975214,
          0.4388431538474309,
          1.6168157705731259,
          1.0391778582459477,
          1.4204242849980138,
          1.9595028710965736,
          1.8470876674051013,
          1.0029745663434422,
          0.08175084407360322,
          1.4652911495109129,
          1.7788992231912126,
          0.2241545810784924,
          1.7557400099252047,
          0.7399781637107212,
          1.1341419657696863,
          1.049580385826994,
          0.2692098126148721,
          1.772002670884723,
          1.7233019417817683,
          0.4510183018097471,
          0.5315857155811359,
          1.9138044508410703,
          0.9088338060629315
         ],
         "xaxis": "x",
         "y": [
          -0.4706121996164013,
          -0.7723871611104574,
          -0.3734611880692992,
          -0.5907243620852488,
          -0.7417583855756827,
          -0.9880963465414184,
          -0.7568474593366046,
          -0.14103007699346515,
          -0.09708621142114493,
          -0.01255830244945677,
          -0.05502049393283759,
          -0.9399139518089039,
          -0.4944332712481575,
          -0.46516638716996406,
          -0.47540327955459705,
          -0.5743145501680172,
          -0.12945787747570692,
          -0.647654147785795,
          -0.5218093789706483,
          -0.866461268810777,
          -0.5486826246921629,
          -0.30127630002653116,
          -0.36729032268926354,
          -0.457715533056391,
          -0.7165785746691454,
          -0.7389741178679774,
          -0.3149606353776474,
          -0.9853398955569131,
          -0.45334683184458047,
          -0.4336498212561326,
          -0.4792507171937447,
          -0.3367668138858544,
          -0.7080472855845904,
          -0.3861112322613932,
          -0.8746672022596779,
          -0.054097664702895565,
          -0.20913442513160696,
          -0.46357898714995516,
          -0.32311275116613347,
          -0.5199695530862968,
          -0.9404919057170714,
          -0.5556314035279127,
          -0.04549601046394325,
          -0.48866254837250067,
          -0.16264633674434725,
          -0.9044309532996989,
          -0.5226366749773423,
          -0.9209675996078943,
          -0.8838434226069601,
          -0.7999563106678167
         ],
         "yaxis": "y"
        }
       ],
       "layout": {
        "barmode": "relative",
        "legend": {
         "tracegroupgap": 0
        },
        "margin": {
         "t": 60
        },
        "template": {
         "data": {
          "bar": [
           {
            "error_x": {
             "color": "#2a3f5f"
            },
            "error_y": {
             "color": "#2a3f5f"
            },
            "marker": {
             "line": {
              "color": "#E5ECF6",
              "width": 0.5
             }
            },
            "type": "bar"
           }
          ],
          "barpolar": [
           {
            "marker": {
             "line": {
              "color": "#E5ECF6",
              "width": 0.5
             }
            },
            "type": "barpolar"
           }
          ],
          "carpet": [
           {
            "aaxis": {
             "endlinecolor": "#2a3f5f",
             "gridcolor": "white",
             "linecolor": "white",
             "minorgridcolor": "white",
             "startlinecolor": "#2a3f5f"
            },
            "baxis": {
             "endlinecolor": "#2a3f5f",
             "gridcolor": "white",
             "linecolor": "white",
             "minorgridcolor": "white",
             "startlinecolor": "#2a3f5f"
            },
            "type": "carpet"
           }
          ],
          "choropleth": [
           {
            "colorbar": {
             "outlinewidth": 0,
             "ticks": ""
            },
            "type": "choropleth"
           }
          ],
          "contour": [
           {
            "colorbar": {
             "outlinewidth": 0,
             "ticks": ""
            },
            "colorscale": [
             [
              0,
              "#0d0887"
             ],
             [
              0.1111111111111111,
              "#46039f"
             ],
             [
              0.2222222222222222,
              "#7201a8"
             ],
             [
              0.3333333333333333,
              "#9c179e"
             ],
             [
              0.4444444444444444,
              "#bd3786"
             ],
             [
              0.5555555555555556,
              "#d8576b"
             ],
             [
              0.6666666666666666,
              "#ed7953"
             ],
             [
              0.7777777777777778,
              "#fb9f3a"
             ],
             [
              0.8888888888888888,
              "#fdca26"
             ],
             [
              1,
              "#f0f921"
             ]
            ],
            "type": "contour"
           }
          ],
          "contourcarpet": [
           {
            "colorbar": {
             "outlinewidth": 0,
             "ticks": ""
            },
            "type": "contourcarpet"
           }
          ],
          "heatmap": [
           {
            "colorbar": {
             "outlinewidth": 0,
             "ticks": ""
            },
            "colorscale": [
             [
              0,
              "#0d0887"
             ],
             [
              0.1111111111111111,
              "#46039f"
             ],
             [
              0.2222222222222222,
              "#7201a8"
             ],
             [
              0.3333333333333333,
              "#9c179e"
             ],
             [
              0.4444444444444444,
              "#bd3786"
             ],
             [
              0.5555555555555556,
              "#d8576b"
             ],
             [
              0.6666666666666666,
              "#ed7953"
             ],
             [
              0.7777777777777778,
              "#fb9f3a"
             ],
             [
              0.8888888888888888,
              "#fdca26"
             ],
             [
              1,
              "#f0f921"
             ]
            ],
            "type": "heatmap"
           }
          ],
          "heatmapgl": [
           {
            "colorbar": {
             "outlinewidth": 0,
             "ticks": ""
            },
            "colorscale": [
             [
              0,
              "#0d0887"
             ],
             [
              0.1111111111111111,
              "#46039f"
             ],
             [
              0.2222222222222222,
              "#7201a8"
             ],
             [
              0.3333333333333333,
              "#9c179e"
             ],
             [
              0.4444444444444444,
              "#bd3786"
             ],
             [
              0.5555555555555556,
              "#d8576b"
             ],
             [
              0.6666666666666666,
              "#ed7953"
             ],
             [
              0.7777777777777778,
              "#fb9f3a"
             ],
             [
              0.8888888888888888,
              "#fdca26"
             ],
             [
              1,
              "#f0f921"
             ]
            ],
            "type": "heatmapgl"
           }
          ],
          "histogram": [
           {
            "marker": {
             "colorbar": {
              "outlinewidth": 0,
              "ticks": ""
             }
            },
            "type": "histogram"
           }
          ],
          "histogram2d": [
           {
            "colorbar": {
             "outlinewidth": 0,
             "ticks": ""
            },
            "colorscale": [
             [
              0,
              "#0d0887"
             ],
             [
              0.1111111111111111,
              "#46039f"
             ],
             [
              0.2222222222222222,
              "#7201a8"
             ],
             [
              0.3333333333333333,
              "#9c179e"
             ],
             [
              0.4444444444444444,
              "#bd3786"
             ],
             [
              0.5555555555555556,
              "#d8576b"
             ],
             [
              0.6666666666666666,
              "#ed7953"
             ],
             [
              0.7777777777777778,
              "#fb9f3a"
             ],
             [
              0.8888888888888888,
              "#fdca26"
             ],
             [
              1,
              "#f0f921"
             ]
            ],
            "type": "histogram2d"
           }
          ],
          "histogram2dcontour": [
           {
            "colorbar": {
             "outlinewidth": 0,
             "ticks": ""
            },
            "colorscale": [
             [
              0,
              "#0d0887"
             ],
             [
              0.1111111111111111,
              "#46039f"
             ],
             [
              0.2222222222222222,
              "#7201a8"
             ],
             [
              0.3333333333333333,
              "#9c179e"
             ],
             [
              0.4444444444444444,
              "#bd3786"
             ],
             [
              0.5555555555555556,
              "#d8576b"
             ],
             [
              0.6666666666666666,
              "#ed7953"
             ],
             [
              0.7777777777777778,
              "#fb9f3a"
             ],
             [
              0.8888888888888888,
              "#fdca26"
             ],
             [
              1,
              "#f0f921"
             ]
            ],
            "type": "histogram2dcontour"
           }
          ],
          "mesh3d": [
           {
            "colorbar": {
             "outlinewidth": 0,
             "ticks": ""
            },
            "type": "mesh3d"
           }
          ],
          "parcoords": [
           {
            "line": {
             "colorbar": {
              "outlinewidth": 0,
              "ticks": ""
             }
            },
            "type": "parcoords"
           }
          ],
          "pie": [
           {
            "automargin": true,
            "type": "pie"
           }
          ],
          "scatter": [
           {
            "marker": {
             "colorbar": {
              "outlinewidth": 0,
              "ticks": ""
             }
            },
            "type": "scatter"
           }
          ],
          "scatter3d": [
           {
            "line": {
             "colorbar": {
              "outlinewidth": 0,
              "ticks": ""
             }
            },
            "marker": {
             "colorbar": {
              "outlinewidth": 0,
              "ticks": ""
             }
            },
            "type": "scatter3d"
           }
          ],
          "scattercarpet": [
           {
            "marker": {
             "colorbar": {
              "outlinewidth": 0,
              "ticks": ""
             }
            },
            "type": "scattercarpet"
           }
          ],
          "scattergeo": [
           {
            "marker": {
             "colorbar": {
              "outlinewidth": 0,
              "ticks": ""
             }
            },
            "type": "scattergeo"
           }
          ],
          "scattergl": [
           {
            "marker": {
             "colorbar": {
              "outlinewidth": 0,
              "ticks": ""
             }
            },
            "type": "scattergl"
           }
          ],
          "scattermapbox": [
           {
            "marker": {
             "colorbar": {
              "outlinewidth": 0,
              "ticks": ""
             }
            },
            "type": "scattermapbox"
           }
          ],
          "scatterpolar": [
           {
            "marker": {
             "colorbar": {
              "outlinewidth": 0,
              "ticks": ""
             }
            },
            "type": "scatterpolar"
           }
          ],
          "scatterpolargl": [
           {
            "marker": {
             "colorbar": {
              "outlinewidth": 0,
              "ticks": ""
             }
            },
            "type": "scatterpolargl"
           }
          ],
          "scatterternary": [
           {
            "marker": {
             "colorbar": {
              "outlinewidth": 0,
              "ticks": ""
             }
            },
            "type": "scatterternary"
           }
          ],
          "surface": [
           {
            "colorbar": {
             "outlinewidth": 0,
             "ticks": ""
            },
            "colorscale": [
             [
              0,
              "#0d0887"
             ],
             [
              0.1111111111111111,
              "#46039f"
             ],
             [
              0.2222222222222222,
              "#7201a8"
             ],
             [
              0.3333333333333333,
              "#9c179e"
             ],
             [
              0.4444444444444444,
              "#bd3786"
             ],
             [
              0.5555555555555556,
              "#d8576b"
             ],
             [
              0.6666666666666666,
              "#ed7953"
             ],
             [
              0.7777777777777778,
              "#fb9f3a"
             ],
             [
              0.8888888888888888,
              "#fdca26"
             ],
             [
              1,
              "#f0f921"
             ]
            ],
            "type": "surface"
           }
          ],
          "table": [
           {
            "cells": {
             "fill": {
              "color": "#EBF0F8"
             },
             "line": {
              "color": "white"
             }
            },
            "header": {
             "fill": {
              "color": "#C8D4E3"
             },
             "line": {
              "color": "white"
             }
            },
            "type": "table"
           }
          ]
         },
         "layout": {
          "annotationdefaults": {
           "arrowcolor": "#2a3f5f",
           "arrowhead": 0,
           "arrowwidth": 1
          },
          "coloraxis": {
           "colorbar": {
            "outlinewidth": 0,
            "ticks": ""
           }
          },
          "colorscale": {
           "diverging": [
            [
             0,
             "#8e0152"
            ],
            [
             0.1,
             "#c51b7d"
            ],
            [
             0.2,
             "#de77ae"
            ],
            [
             0.3,
             "#f1b6da"
            ],
            [
             0.4,
             "#fde0ef"
            ],
            [
             0.5,
             "#f7f7f7"
            ],
            [
             0.6,
             "#e6f5d0"
            ],
            [
             0.7,
             "#b8e186"
            ],
            [
             0.8,
             "#7fbc41"
            ],
            [
             0.9,
             "#4d9221"
            ],
            [
             1,
             "#276419"
            ]
           ],
           "sequential": [
            [
             0,
             "#0d0887"
            ],
            [
             0.1111111111111111,
             "#46039f"
            ],
            [
             0.2222222222222222,
             "#7201a8"
            ],
            [
             0.3333333333333333,
             "#9c179e"
            ],
            [
             0.4444444444444444,
             "#bd3786"
            ],
            [
             0.5555555555555556,
             "#d8576b"
            ],
            [
             0.6666666666666666,
             "#ed7953"
            ],
            [
             0.7777777777777778,
             "#fb9f3a"
            ],
            [
             0.8888888888888888,
             "#fdca26"
            ],
            [
             1,
             "#f0f921"
            ]
           ],
           "sequentialminus": [
            [
             0,
             "#0d0887"
            ],
            [
             0.1111111111111111,
             "#46039f"
            ],
            [
             0.2222222222222222,
             "#7201a8"
            ],
            [
             0.3333333333333333,
             "#9c179e"
            ],
            [
             0.4444444444444444,
             "#bd3786"
            ],
            [
             0.5555555555555556,
             "#d8576b"
            ],
            [
             0.6666666666666666,
             "#ed7953"
            ],
            [
             0.7777777777777778,
             "#fb9f3a"
            ],
            [
             0.8888888888888888,
             "#fdca26"
            ],
            [
             1,
             "#f0f921"
            ]
           ]
          },
          "colorway": [
           "#636efa",
           "#EF553B",
           "#00cc96",
           "#ab63fa",
           "#FFA15A",
           "#19d3f3",
           "#FF6692",
           "#B6E880",
           "#FF97FF",
           "#FECB52"
          ],
          "font": {
           "color": "#2a3f5f"
          },
          "geo": {
           "bgcolor": "white",
           "lakecolor": "white",
           "landcolor": "#E5ECF6",
           "showlakes": true,
           "showland": true,
           "subunitcolor": "white"
          },
          "hoverlabel": {
           "align": "left"
          },
          "hovermode": "closest",
          "mapbox": {
           "style": "light"
          },
          "paper_bgcolor": "white",
          "plot_bgcolor": "#E5ECF6",
          "polar": {
           "angularaxis": {
            "gridcolor": "white",
            "linecolor": "white",
            "ticks": ""
           },
           "bgcolor": "#E5ECF6",
           "radialaxis": {
            "gridcolor": "white",
            "linecolor": "white",
            "ticks": ""
           }
          },
          "scene": {
           "xaxis": {
            "backgroundcolor": "#E5ECF6",
            "gridcolor": "white",
            "gridwidth": 2,
            "linecolor": "white",
            "showbackground": true,
            "ticks": "",
            "zerolinecolor": "white"
           },
           "yaxis": {
            "backgroundcolor": "#E5ECF6",
            "gridcolor": "white",
            "gridwidth": 2,
            "linecolor": "white",
            "showbackground": true,
            "ticks": "",
            "zerolinecolor": "white"
           },
           "zaxis": {
            "backgroundcolor": "#E5ECF6",
            "gridcolor": "white",
            "gridwidth": 2,
            "linecolor": "white",
            "showbackground": true,
            "ticks": "",
            "zerolinecolor": "white"
           }
          },
          "shapedefaults": {
           "line": {
            "color": "#2a3f5f"
           }
          },
          "ternary": {
           "aaxis": {
            "gridcolor": "white",
            "linecolor": "white",
            "ticks": ""
           },
           "baxis": {
            "gridcolor": "white",
            "linecolor": "white",
            "ticks": ""
           },
           "bgcolor": "#E5ECF6",
           "caxis": {
            "gridcolor": "white",
            "linecolor": "white",
            "ticks": ""
           }
          },
          "title": {
           "x": 0.05
          },
          "xaxis": {
           "automargin": true,
           "gridcolor": "white",
           "linecolor": "white",
           "ticks": "",
           "title": {
            "standoff": 15
           },
           "zerolinecolor": "white",
           "zerolinewidth": 2
          },
          "yaxis": {
           "automargin": true,
           "gridcolor": "white",
           "linecolor": "white",
           "ticks": "",
           "title": {
            "standoff": 15
           },
           "zerolinecolor": "white",
           "zerolinewidth": 2
          }
         }
        },
        "xaxis": {
         "anchor": "y",
         "domain": [
          0,
          1
         ],
         "title": {
          "text": "x"
         }
        },
        "yaxis": {
         "anchor": "x",
         "domain": [
          0,
          1
         ],
         "title": {
          "text": "y"
         }
        }
       }
      }
     },
     "metadata": {}
    }
   ],
   "source": [
    "# plotly_bar_chart\n",
    "fig = px.bar(df, x=\"x\", y=\"y\")\n",
    "fig.show()"
   ]
  },
  {
   "cell_type": "code",
   "execution_count": 50,
   "metadata": {},
   "outputs": [
    {
     "output_type": "display_data",
     "data": {
      "application/vnd.plotly.v1+json": {
       "config": {
        "plotlyServerURL": "https://plot.ly"
       },
       "data": [
        {
         "domain": {
          "x": [
           0,
           1
          ],
          "y": [
           0,
           1
          ]
         },
         "hovertemplate": "x=%{value}<extra></extra>",
         "labels": [
          0.5319610025898172,
          0.7713127230333698,
          0.9766081793881434,
          1.3490400629771304,
          1.5497685692847873,
          1.1448713725304653,
          1.4424057440468026,
          0.02315533030115602,
          1.7089210698708024,
          0.10059085311821003,
          0.09913527225718988,
          1.1403375957102417,
          0.36135791284185714,
          0.10852915255527917,
          1.3110875900029682,
          0.1653331460681977,
          0.005173441471192586,
          0.8564195696745629,
          0.392486312067889,
          0.06393345359901503,
          1.2352861560356072,
          0.8590226729535015,
          1.4686036114678076,
          0.4884076675047371,
          1.537261453429627,
          0.5363785768714602,
          0.9868934043433764,
          1.077055646975214,
          0.4388431538474309,
          1.6168157705731259,
          1.0391778582459477,
          1.4204242849980138,
          1.9595028710965736,
          1.8470876674051013,
          1.0029745663434422,
          0.08175084407360322,
          1.4652911495109129,
          1.7788992231912126,
          0.2241545810784924,
          1.7557400099252047,
          0.7399781637107212,
          1.1341419657696863,
          1.049580385826994,
          0.2692098126148721,
          1.772002670884723,
          1.7233019417817683,
          0.4510183018097471,
          0.5315857155811359,
          1.9138044508410703,
          0.9088338060629315
         ],
         "legendgroup": "",
         "name": "",
         "showlegend": true,
         "type": "pie",
         "values": [
          0.5319610025898172,
          0.7713127230333698,
          0.9766081793881434,
          1.3490400629771304,
          1.5497685692847873,
          1.1448713725304653,
          1.4424057440468026,
          0.02315533030115602,
          1.7089210698708024,
          0.10059085311821003,
          0.09913527225718988,
          1.1403375957102417,
          0.36135791284185714,
          0.10852915255527917,
          1.3110875900029682,
          0.1653331460681977,
          0.005173441471192586,
          0.8564195696745629,
          0.392486312067889,
          0.06393345359901503,
          1.2352861560356072,
          0.8590226729535015,
          1.4686036114678076,
          0.4884076675047371,
          1.537261453429627,
          0.5363785768714602,
          0.9868934043433764,
          1.077055646975214,
          0.4388431538474309,
          1.6168157705731259,
          1.0391778582459477,
          1.4204242849980138,
          1.9595028710965736,
          1.8470876674051013,
          1.0029745663434422,
          0.08175084407360322,
          1.4652911495109129,
          1.7788992231912126,
          0.2241545810784924,
          1.7557400099252047,
          0.7399781637107212,
          1.1341419657696863,
          1.049580385826994,
          0.2692098126148721,
          1.772002670884723,
          1.7233019417817683,
          0.4510183018097471,
          0.5315857155811359,
          1.9138044508410703,
          0.9088338060629315
         ]
        }
       ],
       "layout": {
        "legend": {
         "tracegroupgap": 0
        },
        "margin": {
         "t": 60
        },
        "template": {
         "data": {
          "bar": [
           {
            "error_x": {
             "color": "#2a3f5f"
            },
            "error_y": {
             "color": "#2a3f5f"
            },
            "marker": {
             "line": {
              "color": "#E5ECF6",
              "width": 0.5
             }
            },
            "type": "bar"
           }
          ],
          "barpolar": [
           {
            "marker": {
             "line": {
              "color": "#E5ECF6",
              "width": 0.5
             }
            },
            "type": "barpolar"
           }
          ],
          "carpet": [
           {
            "aaxis": {
             "endlinecolor": "#2a3f5f",
             "gridcolor": "white",
             "linecolor": "white",
             "minorgridcolor": "white",
             "startlinecolor": "#2a3f5f"
            },
            "baxis": {
             "endlinecolor": "#2a3f5f",
             "gridcolor": "white",
             "linecolor": "white",
             "minorgridcolor": "white",
             "startlinecolor": "#2a3f5f"
            },
            "type": "carpet"
           }
          ],
          "choropleth": [
           {
            "colorbar": {
             "outlinewidth": 0,
             "ticks": ""
            },
            "type": "choropleth"
           }
          ],
          "contour": [
           {
            "colorbar": {
             "outlinewidth": 0,
             "ticks": ""
            },
            "colorscale": [
             [
              0,
              "#0d0887"
             ],
             [
              0.1111111111111111,
              "#46039f"
             ],
             [
              0.2222222222222222,
              "#7201a8"
             ],
             [
              0.3333333333333333,
              "#9c179e"
             ],
             [
              0.4444444444444444,
              "#bd3786"
             ],
             [
              0.5555555555555556,
              "#d8576b"
             ],
             [
              0.6666666666666666,
              "#ed7953"
             ],
             [
              0.7777777777777778,
              "#fb9f3a"
             ],
             [
              0.8888888888888888,
              "#fdca26"
             ],
             [
              1,
              "#f0f921"
             ]
            ],
            "type": "contour"
           }
          ],
          "contourcarpet": [
           {
            "colorbar": {
             "outlinewidth": 0,
             "ticks": ""
            },
            "type": "contourcarpet"
           }
          ],
          "heatmap": [
           {
            "colorbar": {
             "outlinewidth": 0,
             "ticks": ""
            },
            "colorscale": [
             [
              0,
              "#0d0887"
             ],
             [
              0.1111111111111111,
              "#46039f"
             ],
             [
              0.2222222222222222,
              "#7201a8"
             ],
             [
              0.3333333333333333,
              "#9c179e"
             ],
             [
              0.4444444444444444,
              "#bd3786"
             ],
             [
              0.5555555555555556,
              "#d8576b"
             ],
             [
              0.6666666666666666,
              "#ed7953"
             ],
             [
              0.7777777777777778,
              "#fb9f3a"
             ],
             [
              0.8888888888888888,
              "#fdca26"
             ],
             [
              1,
              "#f0f921"
             ]
            ],
            "type": "heatmap"
           }
          ],
          "heatmapgl": [
           {
            "colorbar": {
             "outlinewidth": 0,
             "ticks": ""
            },
            "colorscale": [
             [
              0,
              "#0d0887"
             ],
             [
              0.1111111111111111,
              "#46039f"
             ],
             [
              0.2222222222222222,
              "#7201a8"
             ],
             [
              0.3333333333333333,
              "#9c179e"
             ],
             [
              0.4444444444444444,
              "#bd3786"
             ],
             [
              0.5555555555555556,
              "#d8576b"
             ],
             [
              0.6666666666666666,
              "#ed7953"
             ],
             [
              0.7777777777777778,
              "#fb9f3a"
             ],
             [
              0.8888888888888888,
              "#fdca26"
             ],
             [
              1,
              "#f0f921"
             ]
            ],
            "type": "heatmapgl"
           }
          ],
          "histogram": [
           {
            "marker": {
             "colorbar": {
              "outlinewidth": 0,
              "ticks": ""
             }
            },
            "type": "histogram"
           }
          ],
          "histogram2d": [
           {
            "colorbar": {
             "outlinewidth": 0,
             "ticks": ""
            },
            "colorscale": [
             [
              0,
              "#0d0887"
             ],
             [
              0.1111111111111111,
              "#46039f"
             ],
             [
              0.2222222222222222,
              "#7201a8"
             ],
             [
              0.3333333333333333,
              "#9c179e"
             ],
             [
              0.4444444444444444,
              "#bd3786"
             ],
             [
              0.5555555555555556,
              "#d8576b"
             ],
             [
              0.6666666666666666,
              "#ed7953"
             ],
             [
              0.7777777777777778,
              "#fb9f3a"
             ],
             [
              0.8888888888888888,
              "#fdca26"
             ],
             [
              1,
              "#f0f921"
             ]
            ],
            "type": "histogram2d"
           }
          ],
          "histogram2dcontour": [
           {
            "colorbar": {
             "outlinewidth": 0,
             "ticks": ""
            },
            "colorscale": [
             [
              0,
              "#0d0887"
             ],
             [
              0.1111111111111111,
              "#46039f"
             ],
             [
              0.2222222222222222,
              "#7201a8"
             ],
             [
              0.3333333333333333,
              "#9c179e"
             ],
             [
              0.4444444444444444,
              "#bd3786"
             ],
             [
              0.5555555555555556,
              "#d8576b"
             ],
             [
              0.6666666666666666,
              "#ed7953"
             ],
             [
              0.7777777777777778,
              "#fb9f3a"
             ],
             [
              0.8888888888888888,
              "#fdca26"
             ],
             [
              1,
              "#f0f921"
             ]
            ],
            "type": "histogram2dcontour"
           }
          ],
          "mesh3d": [
           {
            "colorbar": {
             "outlinewidth": 0,
             "ticks": ""
            },
            "type": "mesh3d"
           }
          ],
          "parcoords": [
           {
            "line": {
             "colorbar": {
              "outlinewidth": 0,
              "ticks": ""
             }
            },
            "type": "parcoords"
           }
          ],
          "pie": [
           {
            "automargin": true,
            "type": "pie"
           }
          ],
          "scatter": [
           {
            "marker": {
             "colorbar": {
              "outlinewidth": 0,
              "ticks": ""
             }
            },
            "type": "scatter"
           }
          ],
          "scatter3d": [
           {
            "line": {
             "colorbar": {
              "outlinewidth": 0,
              "ticks": ""
             }
            },
            "marker": {
             "colorbar": {
              "outlinewidth": 0,
              "ticks": ""
             }
            },
            "type": "scatter3d"
           }
          ],
          "scattercarpet": [
           {
            "marker": {
             "colorbar": {
              "outlinewidth": 0,
              "ticks": ""
             }
            },
            "type": "scattercarpet"
           }
          ],
          "scattergeo": [
           {
            "marker": {
             "colorbar": {
              "outlinewidth": 0,
              "ticks": ""
             }
            },
            "type": "scattergeo"
           }
          ],
          "scattergl": [
           {
            "marker": {
             "colorbar": {
              "outlinewidth": 0,
              "ticks": ""
             }
            },
            "type": "scattergl"
           }
          ],
          "scattermapbox": [
           {
            "marker": {
             "colorbar": {
              "outlinewidth": 0,
              "ticks": ""
             }
            },
            "type": "scattermapbox"
           }
          ],
          "scatterpolar": [
           {
            "marker": {
             "colorbar": {
              "outlinewidth": 0,
              "ticks": ""
             }
            },
            "type": "scatterpolar"
           }
          ],
          "scatterpolargl": [
           {
            "marker": {
             "colorbar": {
              "outlinewidth": 0,
              "ticks": ""
             }
            },
            "type": "scatterpolargl"
           }
          ],
          "scatterternary": [
           {
            "marker": {
             "colorbar": {
              "outlinewidth": 0,
              "ticks": ""
             }
            },
            "type": "scatterternary"
           }
          ],
          "surface": [
           {
            "colorbar": {
             "outlinewidth": 0,
             "ticks": ""
            },
            "colorscale": [
             [
              0,
              "#0d0887"
             ],
             [
              0.1111111111111111,
              "#46039f"
             ],
             [
              0.2222222222222222,
              "#7201a8"
             ],
             [
              0.3333333333333333,
              "#9c179e"
             ],
             [
              0.4444444444444444,
              "#bd3786"
             ],
             [
              0.5555555555555556,
              "#d8576b"
             ],
             [
              0.6666666666666666,
              "#ed7953"
             ],
             [
              0.7777777777777778,
              "#fb9f3a"
             ],
             [
              0.8888888888888888,
              "#fdca26"
             ],
             [
              1,
              "#f0f921"
             ]
            ],
            "type": "surface"
           }
          ],
          "table": [
           {
            "cells": {
             "fill": {
              "color": "#EBF0F8"
             },
             "line": {
              "color": "white"
             }
            },
            "header": {
             "fill": {
              "color": "#C8D4E3"
             },
             "line": {
              "color": "white"
             }
            },
            "type": "table"
           }
          ]
         },
         "layout": {
          "annotationdefaults": {
           "arrowcolor": "#2a3f5f",
           "arrowhead": 0,
           "arrowwidth": 1
          },
          "coloraxis": {
           "colorbar": {
            "outlinewidth": 0,
            "ticks": ""
           }
          },
          "colorscale": {
           "diverging": [
            [
             0,
             "#8e0152"
            ],
            [
             0.1,
             "#c51b7d"
            ],
            [
             0.2,
             "#de77ae"
            ],
            [
             0.3,
             "#f1b6da"
            ],
            [
             0.4,
             "#fde0ef"
            ],
            [
             0.5,
             "#f7f7f7"
            ],
            [
             0.6,
             "#e6f5d0"
            ],
            [
             0.7,
             "#b8e186"
            ],
            [
             0.8,
             "#7fbc41"
            ],
            [
             0.9,
             "#4d9221"
            ],
            [
             1,
             "#276419"
            ]
           ],
           "sequential": [
            [
             0,
             "#0d0887"
            ],
            [
             0.1111111111111111,
             "#46039f"
            ],
            [
             0.2222222222222222,
             "#7201a8"
            ],
            [
             0.3333333333333333,
             "#9c179e"
            ],
            [
             0.4444444444444444,
             "#bd3786"
            ],
            [
             0.5555555555555556,
             "#d8576b"
            ],
            [
             0.6666666666666666,
             "#ed7953"
            ],
            [
             0.7777777777777778,
             "#fb9f3a"
            ],
            [
             0.8888888888888888,
             "#fdca26"
            ],
            [
             1,
             "#f0f921"
            ]
           ],
           "sequentialminus": [
            [
             0,
             "#0d0887"
            ],
            [
             0.1111111111111111,
             "#46039f"
            ],
            [
             0.2222222222222222,
             "#7201a8"
            ],
            [
             0.3333333333333333,
             "#9c179e"
            ],
            [
             0.4444444444444444,
             "#bd3786"
            ],
            [
             0.5555555555555556,
             "#d8576b"
            ],
            [
             0.6666666666666666,
             "#ed7953"
            ],
            [
             0.7777777777777778,
             "#fb9f3a"
            ],
            [
             0.8888888888888888,
             "#fdca26"
            ],
            [
             1,
             "#f0f921"
            ]
           ]
          },
          "colorway": [
           "#636efa",
           "#EF553B",
           "#00cc96",
           "#ab63fa",
           "#FFA15A",
           "#19d3f3",
           "#FF6692",
           "#B6E880",
           "#FF97FF",
           "#FECB52"
          ],
          "font": {
           "color": "#2a3f5f"
          },
          "geo": {
           "bgcolor": "white",
           "lakecolor": "white",
           "landcolor": "#E5ECF6",
           "showlakes": true,
           "showland": true,
           "subunitcolor": "white"
          },
          "hoverlabel": {
           "align": "left"
          },
          "hovermode": "closest",
          "mapbox": {
           "style": "light"
          },
          "paper_bgcolor": "white",
          "plot_bgcolor": "#E5ECF6",
          "polar": {
           "angularaxis": {
            "gridcolor": "white",
            "linecolor": "white",
            "ticks": ""
           },
           "bgcolor": "#E5ECF6",
           "radialaxis": {
            "gridcolor": "white",
            "linecolor": "white",
            "ticks": ""
           }
          },
          "scene": {
           "xaxis": {
            "backgroundcolor": "#E5ECF6",
            "gridcolor": "white",
            "gridwidth": 2,
            "linecolor": "white",
            "showbackground": true,
            "ticks": "",
            "zerolinecolor": "white"
           },
           "yaxis": {
            "backgroundcolor": "#E5ECF6",
            "gridcolor": "white",
            "gridwidth": 2,
            "linecolor": "white",
            "showbackground": true,
            "ticks": "",
            "zerolinecolor": "white"
           },
           "zaxis": {
            "backgroundcolor": "#E5ECF6",
            "gridcolor": "white",
            "gridwidth": 2,
            "linecolor": "white",
            "showbackground": true,
            "ticks": "",
            "zerolinecolor": "white"
           }
          },
          "shapedefaults": {
           "line": {
            "color": "#2a3f5f"
           }
          },
          "ternary": {
           "aaxis": {
            "gridcolor": "white",
            "linecolor": "white",
            "ticks": ""
           },
           "baxis": {
            "gridcolor": "white",
            "linecolor": "white",
            "ticks": ""
           },
           "bgcolor": "#E5ECF6",
           "caxis": {
            "gridcolor": "white",
            "linecolor": "white",
            "ticks": ""
           }
          },
          "title": {
           "x": 0.05
          },
          "xaxis": {
           "automargin": true,
           "gridcolor": "white",
           "linecolor": "white",
           "ticks": "",
           "title": {
            "standoff": 15
           },
           "zerolinecolor": "white",
           "zerolinewidth": 2
          },
          "yaxis": {
           "automargin": true,
           "gridcolor": "white",
           "linecolor": "white",
           "ticks": "",
           "title": {
            "standoff": 15
           },
           "zerolinecolor": "white",
           "zerolinewidth": 2
          }
         }
        }
       }
      }
     },
     "metadata": {}
    }
   ],
   "source": [
    "# plotly_pie_chart\n",
    "fig = px.pie(df, names=\"x\", values=\"x\")\n",
    "fig.show()"
   ]
  },
  {
   "cell_type": "code",
   "execution_count": 51,
   "metadata": {},
   "outputs": [
    {
     "output_type": "display_data",
     "data": {
      "application/vnd.plotly.v1+json": {
       "config": {
        "plotlyServerURL": "https://plot.ly"
       },
       "data": [
        {
         "alignmentgroup": "True",
         "bingroup": "x",
         "hovertemplate": "x=%{x}<br>count=%{y}<extra></extra>",
         "legendgroup": "",
         "marker": {
          "color": "#636efa"
         },
         "name": "",
         "offsetgroup": "",
         "orientation": "v",
         "showlegend": false,
         "type": "histogram",
         "x": [
          0.5319610025898172,
          0.7713127230333698,
          0.9766081793881434,
          1.3490400629771304,
          1.5497685692847873,
          1.1448713725304653,
          1.4424057440468026,
          0.02315533030115602,
          1.7089210698708024,
          0.10059085311821003,
          0.09913527225718988,
          1.1403375957102417,
          0.36135791284185714,
          0.10852915255527917,
          1.3110875900029682,
          0.1653331460681977,
          0.005173441471192586,
          0.8564195696745629,
          0.392486312067889,
          0.06393345359901503,
          1.2352861560356072,
          0.8590226729535015,
          1.4686036114678076,
          0.4884076675047371,
          1.537261453429627,
          0.5363785768714602,
          0.9868934043433764,
          1.077055646975214,
          0.4388431538474309,
          1.6168157705731259,
          1.0391778582459477,
          1.4204242849980138,
          1.9595028710965736,
          1.8470876674051013,
          1.0029745663434422,
          0.08175084407360322,
          1.4652911495109129,
          1.7788992231912126,
          0.2241545810784924,
          1.7557400099252047,
          0.7399781637107212,
          1.1341419657696863,
          1.049580385826994,
          0.2692098126148721,
          1.772002670884723,
          1.7233019417817683,
          0.4510183018097471,
          0.5315857155811359,
          1.9138044508410703,
          0.9088338060629315
         ],
         "xaxis": "x",
         "yaxis": "y"
        }
       ],
       "layout": {
        "barmode": "relative",
        "legend": {
         "tracegroupgap": 0
        },
        "margin": {
         "t": 60
        },
        "template": {
         "data": {
          "bar": [
           {
            "error_x": {
             "color": "#2a3f5f"
            },
            "error_y": {
             "color": "#2a3f5f"
            },
            "marker": {
             "line": {
              "color": "#E5ECF6",
              "width": 0.5
             }
            },
            "type": "bar"
           }
          ],
          "barpolar": [
           {
            "marker": {
             "line": {
              "color": "#E5ECF6",
              "width": 0.5
             }
            },
            "type": "barpolar"
           }
          ],
          "carpet": [
           {
            "aaxis": {
             "endlinecolor": "#2a3f5f",
             "gridcolor": "white",
             "linecolor": "white",
             "minorgridcolor": "white",
             "startlinecolor": "#2a3f5f"
            },
            "baxis": {
             "endlinecolor": "#2a3f5f",
             "gridcolor": "white",
             "linecolor": "white",
             "minorgridcolor": "white",
             "startlinecolor": "#2a3f5f"
            },
            "type": "carpet"
           }
          ],
          "choropleth": [
           {
            "colorbar": {
             "outlinewidth": 0,
             "ticks": ""
            },
            "type": "choropleth"
           }
          ],
          "contour": [
           {
            "colorbar": {
             "outlinewidth": 0,
             "ticks": ""
            },
            "colorscale": [
             [
              0,
              "#0d0887"
             ],
             [
              0.1111111111111111,
              "#46039f"
             ],
             [
              0.2222222222222222,
              "#7201a8"
             ],
             [
              0.3333333333333333,
              "#9c179e"
             ],
             [
              0.4444444444444444,
              "#bd3786"
             ],
             [
              0.5555555555555556,
              "#d8576b"
             ],
             [
              0.6666666666666666,
              "#ed7953"
             ],
             [
              0.7777777777777778,
              "#fb9f3a"
             ],
             [
              0.8888888888888888,
              "#fdca26"
             ],
             [
              1,
              "#f0f921"
             ]
            ],
            "type": "contour"
           }
          ],
          "contourcarpet": [
           {
            "colorbar": {
             "outlinewidth": 0,
             "ticks": ""
            },
            "type": "contourcarpet"
           }
          ],
          "heatmap": [
           {
            "colorbar": {
             "outlinewidth": 0,
             "ticks": ""
            },
            "colorscale": [
             [
              0,
              "#0d0887"
             ],
             [
              0.1111111111111111,
              "#46039f"
             ],
             [
              0.2222222222222222,
              "#7201a8"
             ],
             [
              0.3333333333333333,
              "#9c179e"
             ],
             [
              0.4444444444444444,
              "#bd3786"
             ],
             [
              0.5555555555555556,
              "#d8576b"
             ],
             [
              0.6666666666666666,
              "#ed7953"
             ],
             [
              0.7777777777777778,
              "#fb9f3a"
             ],
             [
              0.8888888888888888,
              "#fdca26"
             ],
             [
              1,
              "#f0f921"
             ]
            ],
            "type": "heatmap"
           }
          ],
          "heatmapgl": [
           {
            "colorbar": {
             "outlinewidth": 0,
             "ticks": ""
            },
            "colorscale": [
             [
              0,
              "#0d0887"
             ],
             [
              0.1111111111111111,
              "#46039f"
             ],
             [
              0.2222222222222222,
              "#7201a8"
             ],
             [
              0.3333333333333333,
              "#9c179e"
             ],
             [
              0.4444444444444444,
              "#bd3786"
             ],
             [
              0.5555555555555556,
              "#d8576b"
             ],
             [
              0.6666666666666666,
              "#ed7953"
             ],
             [
              0.7777777777777778,
              "#fb9f3a"
             ],
             [
              0.8888888888888888,
              "#fdca26"
             ],
             [
              1,
              "#f0f921"
             ]
            ],
            "type": "heatmapgl"
           }
          ],
          "histogram": [
           {
            "marker": {
             "colorbar": {
              "outlinewidth": 0,
              "ticks": ""
             }
            },
            "type": "histogram"
           }
          ],
          "histogram2d": [
           {
            "colorbar": {
             "outlinewidth": 0,
             "ticks": ""
            },
            "colorscale": [
             [
              0,
              "#0d0887"
             ],
             [
              0.1111111111111111,
              "#46039f"
             ],
             [
              0.2222222222222222,
              "#7201a8"
             ],
             [
              0.3333333333333333,
              "#9c179e"
             ],
             [
              0.4444444444444444,
              "#bd3786"
             ],
             [
              0.5555555555555556,
              "#d8576b"
             ],
             [
              0.6666666666666666,
              "#ed7953"
             ],
             [
              0.7777777777777778,
              "#fb9f3a"
             ],
             [
              0.8888888888888888,
              "#fdca26"
             ],
             [
              1,
              "#f0f921"
             ]
            ],
            "type": "histogram2d"
           }
          ],
          "histogram2dcontour": [
           {
            "colorbar": {
             "outlinewidth": 0,
             "ticks": ""
            },
            "colorscale": [
             [
              0,
              "#0d0887"
             ],
             [
              0.1111111111111111,
              "#46039f"
             ],
             [
              0.2222222222222222,
              "#7201a8"
             ],
             [
              0.3333333333333333,
              "#9c179e"
             ],
             [
              0.4444444444444444,
              "#bd3786"
             ],
             [
              0.5555555555555556,
              "#d8576b"
             ],
             [
              0.6666666666666666,
              "#ed7953"
             ],
             [
              0.7777777777777778,
              "#fb9f3a"
             ],
             [
              0.8888888888888888,
              "#fdca26"
             ],
             [
              1,
              "#f0f921"
             ]
            ],
            "type": "histogram2dcontour"
           }
          ],
          "mesh3d": [
           {
            "colorbar": {
             "outlinewidth": 0,
             "ticks": ""
            },
            "type": "mesh3d"
           }
          ],
          "parcoords": [
           {
            "line": {
             "colorbar": {
              "outlinewidth": 0,
              "ticks": ""
             }
            },
            "type": "parcoords"
           }
          ],
          "pie": [
           {
            "automargin": true,
            "type": "pie"
           }
          ],
          "scatter": [
           {
            "marker": {
             "colorbar": {
              "outlinewidth": 0,
              "ticks": ""
             }
            },
            "type": "scatter"
           }
          ],
          "scatter3d": [
           {
            "line": {
             "colorbar": {
              "outlinewidth": 0,
              "ticks": ""
             }
            },
            "marker": {
             "colorbar": {
              "outlinewidth": 0,
              "ticks": ""
             }
            },
            "type": "scatter3d"
           }
          ],
          "scattercarpet": [
           {
            "marker": {
             "colorbar": {
              "outlinewidth": 0,
              "ticks": ""
             }
            },
            "type": "scattercarpet"
           }
          ],
          "scattergeo": [
           {
            "marker": {
             "colorbar": {
              "outlinewidth": 0,
              "ticks": ""
             }
            },
            "type": "scattergeo"
           }
          ],
          "scattergl": [
           {
            "marker": {
             "colorbar": {
              "outlinewidth": 0,
              "ticks": ""
             }
            },
            "type": "scattergl"
           }
          ],
          "scattermapbox": [
           {
            "marker": {
             "colorbar": {
              "outlinewidth": 0,
              "ticks": ""
             }
            },
            "type": "scattermapbox"
           }
          ],
          "scatterpolar": [
           {
            "marker": {
             "colorbar": {
              "outlinewidth": 0,
              "ticks": ""
             }
            },
            "type": "scatterpolar"
           }
          ],
          "scatterpolargl": [
           {
            "marker": {
             "colorbar": {
              "outlinewidth": 0,
              "ticks": ""
             }
            },
            "type": "scatterpolargl"
           }
          ],
          "scatterternary": [
           {
            "marker": {
             "colorbar": {
              "outlinewidth": 0,
              "ticks": ""
             }
            },
            "type": "scatterternary"
           }
          ],
          "surface": [
           {
            "colorbar": {
             "outlinewidth": 0,
             "ticks": ""
            },
            "colorscale": [
             [
              0,
              "#0d0887"
             ],
             [
              0.1111111111111111,
              "#46039f"
             ],
             [
              0.2222222222222222,
              "#7201a8"
             ],
             [
              0.3333333333333333,
              "#9c179e"
             ],
             [
              0.4444444444444444,
              "#bd3786"
             ],
             [
              0.5555555555555556,
              "#d8576b"
             ],
             [
              0.6666666666666666,
              "#ed7953"
             ],
             [
              0.7777777777777778,
              "#fb9f3a"
             ],
             [
              0.8888888888888888,
              "#fdca26"
             ],
             [
              1,
              "#f0f921"
             ]
            ],
            "type": "surface"
           }
          ],
          "table": [
           {
            "cells": {
             "fill": {
              "color": "#EBF0F8"
             },
             "line": {
              "color": "white"
             }
            },
            "header": {
             "fill": {
              "color": "#C8D4E3"
             },
             "line": {
              "color": "white"
             }
            },
            "type": "table"
           }
          ]
         },
         "layout": {
          "annotationdefaults": {
           "arrowcolor": "#2a3f5f",
           "arrowhead": 0,
           "arrowwidth": 1
          },
          "coloraxis": {
           "colorbar": {
            "outlinewidth": 0,
            "ticks": ""
           }
          },
          "colorscale": {
           "diverging": [
            [
             0,
             "#8e0152"
            ],
            [
             0.1,
             "#c51b7d"
            ],
            [
             0.2,
             "#de77ae"
            ],
            [
             0.3,
             "#f1b6da"
            ],
            [
             0.4,
             "#fde0ef"
            ],
            [
             0.5,
             "#f7f7f7"
            ],
            [
             0.6,
             "#e6f5d0"
            ],
            [
             0.7,
             "#b8e186"
            ],
            [
             0.8,
             "#7fbc41"
            ],
            [
             0.9,
             "#4d9221"
            ],
            [
             1,
             "#276419"
            ]
           ],
           "sequential": [
            [
             0,
             "#0d0887"
            ],
            [
             0.1111111111111111,
             "#46039f"
            ],
            [
             0.2222222222222222,
             "#7201a8"
            ],
            [
             0.3333333333333333,
             "#9c179e"
            ],
            [
             0.4444444444444444,
             "#bd3786"
            ],
            [
             0.5555555555555556,
             "#d8576b"
            ],
            [
             0.6666666666666666,
             "#ed7953"
            ],
            [
             0.7777777777777778,
             "#fb9f3a"
            ],
            [
             0.8888888888888888,
             "#fdca26"
            ],
            [
             1,
             "#f0f921"
            ]
           ],
           "sequentialminus": [
            [
             0,
             "#0d0887"
            ],
            [
             0.1111111111111111,
             "#46039f"
            ],
            [
             0.2222222222222222,
             "#7201a8"
            ],
            [
             0.3333333333333333,
             "#9c179e"
            ],
            [
             0.4444444444444444,
             "#bd3786"
            ],
            [
             0.5555555555555556,
             "#d8576b"
            ],
            [
             0.6666666666666666,
             "#ed7953"
            ],
            [
             0.7777777777777778,
             "#fb9f3a"
            ],
            [
             0.8888888888888888,
             "#fdca26"
            ],
            [
             1,
             "#f0f921"
            ]
           ]
          },
          "colorway": [
           "#636efa",
           "#EF553B",
           "#00cc96",
           "#ab63fa",
           "#FFA15A",
           "#19d3f3",
           "#FF6692",
           "#B6E880",
           "#FF97FF",
           "#FECB52"
          ],
          "font": {
           "color": "#2a3f5f"
          },
          "geo": {
           "bgcolor": "white",
           "lakecolor": "white",
           "landcolor": "#E5ECF6",
           "showlakes": true,
           "showland": true,
           "subunitcolor": "white"
          },
          "hoverlabel": {
           "align": "left"
          },
          "hovermode": "closest",
          "mapbox": {
           "style": "light"
          },
          "paper_bgcolor": "white",
          "plot_bgcolor": "#E5ECF6",
          "polar": {
           "angularaxis": {
            "gridcolor": "white",
            "linecolor": "white",
            "ticks": ""
           },
           "bgcolor": "#E5ECF6",
           "radialaxis": {
            "gridcolor": "white",
            "linecolor": "white",
            "ticks": ""
           }
          },
          "scene": {
           "xaxis": {
            "backgroundcolor": "#E5ECF6",
            "gridcolor": "white",
            "gridwidth": 2,
            "linecolor": "white",
            "showbackground": true,
            "ticks": "",
            "zerolinecolor": "white"
           },
           "yaxis": {
            "backgroundcolor": "#E5ECF6",
            "gridcolor": "white",
            "gridwidth": 2,
            "linecolor": "white",
            "showbackground": true,
            "ticks": "",
            "zerolinecolor": "white"
           },
           "zaxis": {
            "backgroundcolor": "#E5ECF6",
            "gridcolor": "white",
            "gridwidth": 2,
            "linecolor": "white",
            "showbackground": true,
            "ticks": "",
            "zerolinecolor": "white"
           }
          },
          "shapedefaults": {
           "line": {
            "color": "#2a3f5f"
           }
          },
          "ternary": {
           "aaxis": {
            "gridcolor": "white",
            "linecolor": "white",
            "ticks": ""
           },
           "baxis": {
            "gridcolor": "white",
            "linecolor": "white",
            "ticks": ""
           },
           "bgcolor": "#E5ECF6",
           "caxis": {
            "gridcolor": "white",
            "linecolor": "white",
            "ticks": ""
           }
          },
          "title": {
           "x": 0.05
          },
          "xaxis": {
           "automargin": true,
           "gridcolor": "white",
           "linecolor": "white",
           "ticks": "",
           "title": {
            "standoff": 15
           },
           "zerolinecolor": "white",
           "zerolinewidth": 2
          },
          "yaxis": {
           "automargin": true,
           "gridcolor": "white",
           "linecolor": "white",
           "ticks": "",
           "title": {
            "standoff": 15
           },
           "zerolinecolor": "white",
           "zerolinewidth": 2
          }
         }
        },
        "xaxis": {
         "anchor": "y",
         "domain": [
          0,
          1
         ],
         "title": {
          "text": "x"
         }
        },
        "yaxis": {
         "anchor": "x",
         "domain": [
          0,
          1
         ],
         "title": {
          "text": "count"
         }
        }
       }
      }
     },
     "metadata": {}
    }
   ],
   "source": [
    "# plotly_histogram\n",
    "fig = px.histogram(df, x=\"x\")\n",
    "fig.show()"
   ]
  },
  {
   "cell_type": "code",
   "execution_count": 59,
   "metadata": {},
   "outputs": [
    {
     "output_type": "display_data",
     "data": {
      "application/vnd.plotly.v1+json": {
       "config": {
        "plotlyServerURL": "https://plot.ly"
       },
       "data": [
        {
         "hovertemplate": "x=%{r}<br>angle=%{theta}<extra></extra>",
         "legendgroup": "",
         "line": {
          "color": "#636efa",
          "dash": "solid"
         },
         "mode": "lines",
         "name": "",
         "r": [
          0.5319610025898172,
          0.7713127230333698,
          0.9766081793881434,
          1.3490400629771304,
          1.5497685692847873,
          1.1448713725304653,
          1.4424057440468026,
          0.02315533030115602,
          1.7089210698708024,
          0.10059085311821003,
          0.09913527225718988,
          1.1403375957102417,
          0.36135791284185714,
          0.10852915255527917,
          1.3110875900029682,
          0.1653331460681977,
          0.005173441471192586,
          0.8564195696745629,
          0.392486312067889,
          0.06393345359901503,
          1.2352861560356072,
          0.8590226729535015,
          1.4686036114678076,
          0.4884076675047371,
          1.537261453429627,
          0.5363785768714602,
          0.9868934043433764,
          1.077055646975214,
          0.4388431538474309,
          1.6168157705731259,
          1.0391778582459477,
          1.4204242849980138,
          1.9595028710965736,
          1.8470876674051013,
          1.0029745663434422,
          0.08175084407360322,
          1.4652911495109129,
          1.7788992231912126,
          0.2241545810784924,
          1.7557400099252047,
          0.7399781637107212,
          1.1341419657696863,
          1.049580385826994,
          0.2692098126148721,
          1.772002670884723,
          1.7233019417817683,
          0.4510183018097471,
          0.5315857155811359,
          1.9138044508410703,
          0.9088338060629315
         ],
         "showlegend": false,
         "subplot": "polar",
         "theta": [
          -2.9569436580092394,
          -4.853051662143377,
          -2.346525849678853,
          -3.7116306324470694,
          -4.66060538972638,
          -6.208392446666869,
          -4.7554128362799535,
          -0.886118107635746,
          -0.6100106571310687,
          -0.07890614143354419,
          -0.3457039590725687,
          -5.905653532018807,
          -3.106615865287162,
          -2.922726609260129,
          -2.9870469010824334,
          -3.6085247433151393,
          -0.8134078336540168,
          -4.069331025501623,
          -3.2786250230968816,
          -5.444136713432056,
          -3.447474605770529,
          -1.8929748217281295,
          -2.3077531589904297,
          -2.875911512167788,
          -4.502395971800865,
          -4.643111319774071,
          -1.9789560365447811,
          -6.191073154341065,
          -2.8484621529022824,
          -2.7247021853775863,
          -3.0112210647270157,
          -2.1159682969532825,
          -4.448792301573487,
          -2.4260084214817903,
          -5.495696113909883,
          -0.3399056520139611,
          -1.314030347212362,
          -2.9127526807777926,
          -2.0301772906894238,
          -3.2670650561325556,
          -5.909284923522832,
          -3.491135070854153,
          -0.2858598644823369,
          -3.07035734410303,
          -1.021937073298666,
          -5.682707277131095,
          -3.28382307721083,
          -5.786610090244774,
          -5.5533520067713695,
          -5.026273737573614
         ],
         "type": "scatterpolar"
        }
       ],
       "layout": {
        "legend": {
         "tracegroupgap": 0
        },
        "margin": {
         "t": 60
        },
        "polar": {
         "angularaxis": {
          "direction": "clockwise",
          "rotation": 90
         },
         "domain": {
          "x": [
           0,
           1
          ],
          "y": [
           0,
           1
          ]
         }
        },
        "template": {
         "data": {
          "bar": [
           {
            "error_x": {
             "color": "#2a3f5f"
            },
            "error_y": {
             "color": "#2a3f5f"
            },
            "marker": {
             "line": {
              "color": "#E5ECF6",
              "width": 0.5
             }
            },
            "type": "bar"
           }
          ],
          "barpolar": [
           {
            "marker": {
             "line": {
              "color": "#E5ECF6",
              "width": 0.5
             }
            },
            "type": "barpolar"
           }
          ],
          "carpet": [
           {
            "aaxis": {
             "endlinecolor": "#2a3f5f",
             "gridcolor": "white",
             "linecolor": "white",
             "minorgridcolor": "white",
             "startlinecolor": "#2a3f5f"
            },
            "baxis": {
             "endlinecolor": "#2a3f5f",
             "gridcolor": "white",
             "linecolor": "white",
             "minorgridcolor": "white",
             "startlinecolor": "#2a3f5f"
            },
            "type": "carpet"
           }
          ],
          "choropleth": [
           {
            "colorbar": {
             "outlinewidth": 0,
             "ticks": ""
            },
            "type": "choropleth"
           }
          ],
          "contour": [
           {
            "colorbar": {
             "outlinewidth": 0,
             "ticks": ""
            },
            "colorscale": [
             [
              0,
              "#0d0887"
             ],
             [
              0.1111111111111111,
              "#46039f"
             ],
             [
              0.2222222222222222,
              "#7201a8"
             ],
             [
              0.3333333333333333,
              "#9c179e"
             ],
             [
              0.4444444444444444,
              "#bd3786"
             ],
             [
              0.5555555555555556,
              "#d8576b"
             ],
             [
              0.6666666666666666,
              "#ed7953"
             ],
             [
              0.7777777777777778,
              "#fb9f3a"
             ],
             [
              0.8888888888888888,
              "#fdca26"
             ],
             [
              1,
              "#f0f921"
             ]
            ],
            "type": "contour"
           }
          ],
          "contourcarpet": [
           {
            "colorbar": {
             "outlinewidth": 0,
             "ticks": ""
            },
            "type": "contourcarpet"
           }
          ],
          "heatmap": [
           {
            "colorbar": {
             "outlinewidth": 0,
             "ticks": ""
            },
            "colorscale": [
             [
              0,
              "#0d0887"
             ],
             [
              0.1111111111111111,
              "#46039f"
             ],
             [
              0.2222222222222222,
              "#7201a8"
             ],
             [
              0.3333333333333333,
              "#9c179e"
             ],
             [
              0.4444444444444444,
              "#bd3786"
             ],
             [
              0.5555555555555556,
              "#d8576b"
             ],
             [
              0.6666666666666666,
              "#ed7953"
             ],
             [
              0.7777777777777778,
              "#fb9f3a"
             ],
             [
              0.8888888888888888,
              "#fdca26"
             ],
             [
              1,
              "#f0f921"
             ]
            ],
            "type": "heatmap"
           }
          ],
          "heatmapgl": [
           {
            "colorbar": {
             "outlinewidth": 0,
             "ticks": ""
            },
            "colorscale": [
             [
              0,
              "#0d0887"
             ],
             [
              0.1111111111111111,
              "#46039f"
             ],
             [
              0.2222222222222222,
              "#7201a8"
             ],
             [
              0.3333333333333333,
              "#9c179e"
             ],
             [
              0.4444444444444444,
              "#bd3786"
             ],
             [
              0.5555555555555556,
              "#d8576b"
             ],
             [
              0.6666666666666666,
              "#ed7953"
             ],
             [
              0.7777777777777778,
              "#fb9f3a"
             ],
             [
              0.8888888888888888,
              "#fdca26"
             ],
             [
              1,
              "#f0f921"
             ]
            ],
            "type": "heatmapgl"
           }
          ],
          "histogram": [
           {
            "marker": {
             "colorbar": {
              "outlinewidth": 0,
              "ticks": ""
             }
            },
            "type": "histogram"
           }
          ],
          "histogram2d": [
           {
            "colorbar": {
             "outlinewidth": 0,
             "ticks": ""
            },
            "colorscale": [
             [
              0,
              "#0d0887"
             ],
             [
              0.1111111111111111,
              "#46039f"
             ],
             [
              0.2222222222222222,
              "#7201a8"
             ],
             [
              0.3333333333333333,
              "#9c179e"
             ],
             [
              0.4444444444444444,
              "#bd3786"
             ],
             [
              0.5555555555555556,
              "#d8576b"
             ],
             [
              0.6666666666666666,
              "#ed7953"
             ],
             [
              0.7777777777777778,
              "#fb9f3a"
             ],
             [
              0.8888888888888888,
              "#fdca26"
             ],
             [
              1,
              "#f0f921"
             ]
            ],
            "type": "histogram2d"
           }
          ],
          "histogram2dcontour": [
           {
            "colorbar": {
             "outlinewidth": 0,
             "ticks": ""
            },
            "colorscale": [
             [
              0,
              "#0d0887"
             ],
             [
              0.1111111111111111,
              "#46039f"
             ],
             [
              0.2222222222222222,
              "#7201a8"
             ],
             [
              0.3333333333333333,
              "#9c179e"
             ],
             [
              0.4444444444444444,
              "#bd3786"
             ],
             [
              0.5555555555555556,
              "#d8576b"
             ],
             [
              0.6666666666666666,
              "#ed7953"
             ],
             [
              0.7777777777777778,
              "#fb9f3a"
             ],
             [
              0.8888888888888888,
              "#fdca26"
             ],
             [
              1,
              "#f0f921"
             ]
            ],
            "type": "histogram2dcontour"
           }
          ],
          "mesh3d": [
           {
            "colorbar": {
             "outlinewidth": 0,
             "ticks": ""
            },
            "type": "mesh3d"
           }
          ],
          "parcoords": [
           {
            "line": {
             "colorbar": {
              "outlinewidth": 0,
              "ticks": ""
             }
            },
            "type": "parcoords"
           }
          ],
          "pie": [
           {
            "automargin": true,
            "type": "pie"
           }
          ],
          "scatter": [
           {
            "marker": {
             "colorbar": {
              "outlinewidth": 0,
              "ticks": ""
             }
            },
            "type": "scatter"
           }
          ],
          "scatter3d": [
           {
            "line": {
             "colorbar": {
              "outlinewidth": 0,
              "ticks": ""
             }
            },
            "marker": {
             "colorbar": {
              "outlinewidth": 0,
              "ticks": ""
             }
            },
            "type": "scatter3d"
           }
          ],
          "scattercarpet": [
           {
            "marker": {
             "colorbar": {
              "outlinewidth": 0,
              "ticks": ""
             }
            },
            "type": "scattercarpet"
           }
          ],
          "scattergeo": [
           {
            "marker": {
             "colorbar": {
              "outlinewidth": 0,
              "ticks": ""
             }
            },
            "type": "scattergeo"
           }
          ],
          "scattergl": [
           {
            "marker": {
             "colorbar": {
              "outlinewidth": 0,
              "ticks": ""
             }
            },
            "type": "scattergl"
           }
          ],
          "scattermapbox": [
           {
            "marker": {
             "colorbar": {
              "outlinewidth": 0,
              "ticks": ""
             }
            },
            "type": "scattermapbox"
           }
          ],
          "scatterpolar": [
           {
            "marker": {
             "colorbar": {
              "outlinewidth": 0,
              "ticks": ""
             }
            },
            "type": "scatterpolar"
           }
          ],
          "scatterpolargl": [
           {
            "marker": {
             "colorbar": {
              "outlinewidth": 0,
              "ticks": ""
             }
            },
            "type": "scatterpolargl"
           }
          ],
          "scatterternary": [
           {
            "marker": {
             "colorbar": {
              "outlinewidth": 0,
              "ticks": ""
             }
            },
            "type": "scatterternary"
           }
          ],
          "surface": [
           {
            "colorbar": {
             "outlinewidth": 0,
             "ticks": ""
            },
            "colorscale": [
             [
              0,
              "#0d0887"
             ],
             [
              0.1111111111111111,
              "#46039f"
             ],
             [
              0.2222222222222222,
              "#7201a8"
             ],
             [
              0.3333333333333333,
              "#9c179e"
             ],
             [
              0.4444444444444444,
              "#bd3786"
             ],
             [
              0.5555555555555556,
              "#d8576b"
             ],
             [
              0.6666666666666666,
              "#ed7953"
             ],
             [
              0.7777777777777778,
              "#fb9f3a"
             ],
             [
              0.8888888888888888,
              "#fdca26"
             ],
             [
              1,
              "#f0f921"
             ]
            ],
            "type": "surface"
           }
          ],
          "table": [
           {
            "cells": {
             "fill": {
              "color": "#EBF0F8"
             },
             "line": {
              "color": "white"
             }
            },
            "header": {
             "fill": {
              "color": "#C8D4E3"
             },
             "line": {
              "color": "white"
             }
            },
            "type": "table"
           }
          ]
         },
         "layout": {
          "annotationdefaults": {
           "arrowcolor": "#2a3f5f",
           "arrowhead": 0,
           "arrowwidth": 1
          },
          "coloraxis": {
           "colorbar": {
            "outlinewidth": 0,
            "ticks": ""
           }
          },
          "colorscale": {
           "diverging": [
            [
             0,
             "#8e0152"
            ],
            [
             0.1,
             "#c51b7d"
            ],
            [
             0.2,
             "#de77ae"
            ],
            [
             0.3,
             "#f1b6da"
            ],
            [
             0.4,
             "#fde0ef"
            ],
            [
             0.5,
             "#f7f7f7"
            ],
            [
             0.6,
             "#e6f5d0"
            ],
            [
             0.7,
             "#b8e186"
            ],
            [
             0.8,
             "#7fbc41"
            ],
            [
             0.9,
             "#4d9221"
            ],
            [
             1,
             "#276419"
            ]
           ],
           "sequential": [
            [
             0,
             "#0d0887"
            ],
            [
             0.1111111111111111,
             "#46039f"
            ],
            [
             0.2222222222222222,
             "#7201a8"
            ],
            [
             0.3333333333333333,
             "#9c179e"
            ],
            [
             0.4444444444444444,
             "#bd3786"
            ],
            [
             0.5555555555555556,
             "#d8576b"
            ],
            [
             0.6666666666666666,
             "#ed7953"
            ],
            [
             0.7777777777777778,
             "#fb9f3a"
            ],
            [
             0.8888888888888888,
             "#fdca26"
            ],
            [
             1,
             "#f0f921"
            ]
           ],
           "sequentialminus": [
            [
             0,
             "#0d0887"
            ],
            [
             0.1111111111111111,
             "#46039f"
            ],
            [
             0.2222222222222222,
             "#7201a8"
            ],
            [
             0.3333333333333333,
             "#9c179e"
            ],
            [
             0.4444444444444444,
             "#bd3786"
            ],
            [
             0.5555555555555556,
             "#d8576b"
            ],
            [
             0.6666666666666666,
             "#ed7953"
            ],
            [
             0.7777777777777778,
             "#fb9f3a"
            ],
            [
             0.8888888888888888,
             "#fdca26"
            ],
            [
             1,
             "#f0f921"
            ]
           ]
          },
          "colorway": [
           "#636efa",
           "#EF553B",
           "#00cc96",
           "#ab63fa",
           "#FFA15A",
           "#19d3f3",
           "#FF6692",
           "#B6E880",
           "#FF97FF",
           "#FECB52"
          ],
          "font": {
           "color": "#2a3f5f"
          },
          "geo": {
           "bgcolor": "white",
           "lakecolor": "white",
           "landcolor": "#E5ECF6",
           "showlakes": true,
           "showland": true,
           "subunitcolor": "white"
          },
          "hoverlabel": {
           "align": "left"
          },
          "hovermode": "closest",
          "mapbox": {
           "style": "light"
          },
          "paper_bgcolor": "white",
          "plot_bgcolor": "#E5ECF6",
          "polar": {
           "angularaxis": {
            "gridcolor": "white",
            "linecolor": "white",
            "ticks": ""
           },
           "bgcolor": "#E5ECF6",
           "radialaxis": {
            "gridcolor": "white",
            "linecolor": "white",
            "ticks": ""
           }
          },
          "scene": {
           "xaxis": {
            "backgroundcolor": "#E5ECF6",
            "gridcolor": "white",
            "gridwidth": 2,
            "linecolor": "white",
            "showbackground": true,
            "ticks": "",
            "zerolinecolor": "white"
           },
           "yaxis": {
            "backgroundcolor": "#E5ECF6",
            "gridcolor": "white",
            "gridwidth": 2,
            "linecolor": "white",
            "showbackground": true,
            "ticks": "",
            "zerolinecolor": "white"
           },
           "zaxis": {
            "backgroundcolor": "#E5ECF6",
            "gridcolor": "white",
            "gridwidth": 2,
            "linecolor": "white",
            "showbackground": true,
            "ticks": "",
            "zerolinecolor": "white"
           }
          },
          "shapedefaults": {
           "line": {
            "color": "#2a3f5f"
           }
          },
          "ternary": {
           "aaxis": {
            "gridcolor": "white",
            "linecolor": "white",
            "ticks": ""
           },
           "baxis": {
            "gridcolor": "white",
            "linecolor": "white",
            "ticks": ""
           },
           "bgcolor": "#E5ECF6",
           "caxis": {
            "gridcolor": "white",
            "linecolor": "white",
            "ticks": ""
           }
          },
          "title": {
           "x": 0.05
          },
          "xaxis": {
           "automargin": true,
           "gridcolor": "white",
           "linecolor": "white",
           "ticks": "",
           "title": {
            "standoff": 15
           },
           "zerolinecolor": "white",
           "zerolinewidth": 2
          },
          "yaxis": {
           "automargin": true,
           "gridcolor": "white",
           "linecolor": "white",
           "ticks": "",
           "title": {
            "standoff": 15
           },
           "zerolinecolor": "white",
           "zerolinewidth": 2
          }
         }
        }
       }
      }
     },
     "metadata": {}
    }
   ],
   "source": [
    "# plotly_polar_chart\n",
    "df_copy = df.copy()\n",
    "df_copy['angle'] = 2 * np.pi * df_copy['y']\n",
    "fig = px.line_polar(df_copy, r=\"x\", theta=\"angle\")\n",
    "fig.show()"
   ]
  },
  {
   "cell_type": "code",
   "execution_count": 63,
   "metadata": {},
   "outputs": [
    {
     "output_type": "display_data",
     "data": {
      "application/vnd.plotly.v1+json": {
       "config": {
        "plotlyServerURL": "https://plot.ly"
       },
       "data": [
        {
         "coloraxis": "coloraxis",
         "hovertemplate": "x: %{x}<br>y: %{y}<br>color: %{z}<extra></extra>",
         "type": "heatmap",
         "x": [
          "grade of class 0",
          "grade of class 1",
          "grade of class 2",
          "grade of class 3",
          "grade of class 4",
          "grade of class 5",
          "grade of class 6",
          "grade of class 7",
          "grade of class 8",
          "grade of class 9"
         ],
         "y": [
          "professor 0",
          "professor 1",
          "professor 2",
          "professor 3",
          "professor 4",
          "professor 5",
          "professor 6",
          "professor 7",
          "professor 8",
          "professor 9"
         ],
         "z": [
          [
           -5.58120262718063,
           -1.5341246705715879,
           -4.268950075551399,
           -8.552801494796276,
           -8.029973340545217,
           -6.883382618261765,
           -4.497535272281745,
           -1.8707165078323302,
           -3.1414365874722923,
           -1.3777026434690893
          ],
          [
           -8.986261973003437,
           -0.17993661035082043,
           -5.9115863503924375,
           -7.9191948922371065,
           -7.778528135506359,
           -5.246510397290218,
           -1.8624726033432832,
           -2.3077395305240205,
           -0.015033963233252123,
           -4.7034857704303565
          ],
          [
           -2.578666264895758,
           -5.652840670810213,
           -4.583282894411871,
           -7.306319374600629,
           -8.47482516029824,
           -2.380968772135388,
           -1.203750735838859,
           -7.7964830544549075,
           -1.881235034247629,
           -0.27207237843714804
          ],
          [
           -5.0702895329644955,
           -0.1568051374503192,
           -6.0920432474356545,
           -5.9507135382314,
           -0.08641818728673611,
           -1.0232759234745248,
           -3.566937052815278,
           -7.724252532372194,
           -7.295078332569885,
           -7.69559958023183
          ],
          [
           -3.9317145506142075,
           -8.974916440045947,
           -2.3495624033518734,
           -2.42126971470894,
           -2.0445714962486132,
           -5.535763169042523,
           -3.5997776601480194,
           -4.135611241799989,
           -5.476541404483327,
           -5.486022426396842
          ],
          [
           -2.7093598615207597,
           -2.3258527573487595,
           -0.3074830459948643,
           -1.949848825753289,
           -4.601725986008251,
           -0.6950497454629057,
           -1.374877204216117,
           -1.222478318313566,
           -1.7275430804278533,
           -4.308858956913076
          ],
          [
           -0.23957948578471144,
           -3.9273505058132505,
           -8.046026404438484,
           -4.491382451092797,
           -6.30335279379711,
           -0.15545851065722815,
           -5.2087796738367445,
           -3.0623100712603066,
           -6.84813830326242,
           -1.9241899396105153
          ],
          [
           -3.4418687675161683,
           -3.3275353908774923,
           -0.7862636783453444,
           -3.0204564561815506,
           -6.577716425676259,
           -5.212702931728066,
           -1.3431295246913098,
           -7.919767547639198,
           -5.253336492439454,
           -6.636015014088186
          ],
          [
           -6.1371825418252515,
           -5.588334572176709,
           -4.832251704046965,
           -4.482705073859005,
           -3.9957415691186937,
           -8.661604989573853,
           -1.6789695071714401,
           -1.8457900774859375,
           -1.8094280776972034,
           -5.961936467050304
          ],
          [
           -8.424315531795992,
           -3.733719674415356,
           -7.585349428228966,
           -3.510897815009959,
           -5.4143872765525405,
           -2.7889629459379854,
           -8.286730264570666,
           -6.330328596363039,
           -4.1441085358838015,
           -5.736958593391646
          ]
         ]
        }
       ],
       "layout": {
        "coloraxis": {
         "colorscale": [
          [
           0,
           "#0d0887"
          ],
          [
           0.1111111111111111,
           "#46039f"
          ],
          [
           0.2222222222222222,
           "#7201a8"
          ],
          [
           0.3333333333333333,
           "#9c179e"
          ],
          [
           0.4444444444444444,
           "#bd3786"
          ],
          [
           0.5555555555555556,
           "#d8576b"
          ],
          [
           0.6666666666666666,
           "#ed7953"
          ],
          [
           0.7777777777777778,
           "#fb9f3a"
          ],
          [
           0.8888888888888888,
           "#fdca26"
          ],
          [
           1,
           "#f0f921"
          ]
         ]
        },
        "margin": {
         "t": 60
        },
        "template": {
         "data": {
          "bar": [
           {
            "error_x": {
             "color": "#2a3f5f"
            },
            "error_y": {
             "color": "#2a3f5f"
            },
            "marker": {
             "line": {
              "color": "#E5ECF6",
              "width": 0.5
             }
            },
            "type": "bar"
           }
          ],
          "barpolar": [
           {
            "marker": {
             "line": {
              "color": "#E5ECF6",
              "width": 0.5
             }
            },
            "type": "barpolar"
           }
          ],
          "carpet": [
           {
            "aaxis": {
             "endlinecolor": "#2a3f5f",
             "gridcolor": "white",
             "linecolor": "white",
             "minorgridcolor": "white",
             "startlinecolor": "#2a3f5f"
            },
            "baxis": {
             "endlinecolor": "#2a3f5f",
             "gridcolor": "white",
             "linecolor": "white",
             "minorgridcolor": "white",
             "startlinecolor": "#2a3f5f"
            },
            "type": "carpet"
           }
          ],
          "choropleth": [
           {
            "colorbar": {
             "outlinewidth": 0,
             "ticks": ""
            },
            "type": "choropleth"
           }
          ],
          "contour": [
           {
            "colorbar": {
             "outlinewidth": 0,
             "ticks": ""
            },
            "colorscale": [
             [
              0,
              "#0d0887"
             ],
             [
              0.1111111111111111,
              "#46039f"
             ],
             [
              0.2222222222222222,
              "#7201a8"
             ],
             [
              0.3333333333333333,
              "#9c179e"
             ],
             [
              0.4444444444444444,
              "#bd3786"
             ],
             [
              0.5555555555555556,
              "#d8576b"
             ],
             [
              0.6666666666666666,
              "#ed7953"
             ],
             [
              0.7777777777777778,
              "#fb9f3a"
             ],
             [
              0.8888888888888888,
              "#fdca26"
             ],
             [
              1,
              "#f0f921"
             ]
            ],
            "type": "contour"
           }
          ],
          "contourcarpet": [
           {
            "colorbar": {
             "outlinewidth": 0,
             "ticks": ""
            },
            "type": "contourcarpet"
           }
          ],
          "heatmap": [
           {
            "colorbar": {
             "outlinewidth": 0,
             "ticks": ""
            },
            "colorscale": [
             [
              0,
              "#0d0887"
             ],
             [
              0.1111111111111111,
              "#46039f"
             ],
             [
              0.2222222222222222,
              "#7201a8"
             ],
             [
              0.3333333333333333,
              "#9c179e"
             ],
             [
              0.4444444444444444,
              "#bd3786"
             ],
             [
              0.5555555555555556,
              "#d8576b"
             ],
             [
              0.6666666666666666,
              "#ed7953"
             ],
             [
              0.7777777777777778,
              "#fb9f3a"
             ],
             [
              0.8888888888888888,
              "#fdca26"
             ],
             [
              1,
              "#f0f921"
             ]
            ],
            "type": "heatmap"
           }
          ],
          "heatmapgl": [
           {
            "colorbar": {
             "outlinewidth": 0,
             "ticks": ""
            },
            "colorscale": [
             [
              0,
              "#0d0887"
             ],
             [
              0.1111111111111111,
              "#46039f"
             ],
             [
              0.2222222222222222,
              "#7201a8"
             ],
             [
              0.3333333333333333,
              "#9c179e"
             ],
             [
              0.4444444444444444,
              "#bd3786"
             ],
             [
              0.5555555555555556,
              "#d8576b"
             ],
             [
              0.6666666666666666,
              "#ed7953"
             ],
             [
              0.7777777777777778,
              "#fb9f3a"
             ],
             [
              0.8888888888888888,
              "#fdca26"
             ],
             [
              1,
              "#f0f921"
             ]
            ],
            "type": "heatmapgl"
           }
          ],
          "histogram": [
           {
            "marker": {
             "colorbar": {
              "outlinewidth": 0,
              "ticks": ""
             }
            },
            "type": "histogram"
           }
          ],
          "histogram2d": [
           {
            "colorbar": {
             "outlinewidth": 0,
             "ticks": ""
            },
            "colorscale": [
             [
              0,
              "#0d0887"
             ],
             [
              0.1111111111111111,
              "#46039f"
             ],
             [
              0.2222222222222222,
              "#7201a8"
             ],
             [
              0.3333333333333333,
              "#9c179e"
             ],
             [
              0.4444444444444444,
              "#bd3786"
             ],
             [
              0.5555555555555556,
              "#d8576b"
             ],
             [
              0.6666666666666666,
              "#ed7953"
             ],
             [
              0.7777777777777778,
              "#fb9f3a"
             ],
             [
              0.8888888888888888,
              "#fdca26"
             ],
             [
              1,
              "#f0f921"
             ]
            ],
            "type": "histogram2d"
           }
          ],
          "histogram2dcontour": [
           {
            "colorbar": {
             "outlinewidth": 0,
             "ticks": ""
            },
            "colorscale": [
             [
              0,
              "#0d0887"
             ],
             [
              0.1111111111111111,
              "#46039f"
             ],
             [
              0.2222222222222222,
              "#7201a8"
             ],
             [
              0.3333333333333333,
              "#9c179e"
             ],
             [
              0.4444444444444444,
              "#bd3786"
             ],
             [
              0.5555555555555556,
              "#d8576b"
             ],
             [
              0.6666666666666666,
              "#ed7953"
             ],
             [
              0.7777777777777778,
              "#fb9f3a"
             ],
             [
              0.8888888888888888,
              "#fdca26"
             ],
             [
              1,
              "#f0f921"
             ]
            ],
            "type": "histogram2dcontour"
           }
          ],
          "mesh3d": [
           {
            "colorbar": {
             "outlinewidth": 0,
             "ticks": ""
            },
            "type": "mesh3d"
           }
          ],
          "parcoords": [
           {
            "line": {
             "colorbar": {
              "outlinewidth": 0,
              "ticks": ""
             }
            },
            "type": "parcoords"
           }
          ],
          "pie": [
           {
            "automargin": true,
            "type": "pie"
           }
          ],
          "scatter": [
           {
            "marker": {
             "colorbar": {
              "outlinewidth": 0,
              "ticks": ""
             }
            },
            "type": "scatter"
           }
          ],
          "scatter3d": [
           {
            "line": {
             "colorbar": {
              "outlinewidth": 0,
              "ticks": ""
             }
            },
            "marker": {
             "colorbar": {
              "outlinewidth": 0,
              "ticks": ""
             }
            },
            "type": "scatter3d"
           }
          ],
          "scattercarpet": [
           {
            "marker": {
             "colorbar": {
              "outlinewidth": 0,
              "ticks": ""
             }
            },
            "type": "scattercarpet"
           }
          ],
          "scattergeo": [
           {
            "marker": {
             "colorbar": {
              "outlinewidth": 0,
              "ticks": ""
             }
            },
            "type": "scattergeo"
           }
          ],
          "scattergl": [
           {
            "marker": {
             "colorbar": {
              "outlinewidth": 0,
              "ticks": ""
             }
            },
            "type": "scattergl"
           }
          ],
          "scattermapbox": [
           {
            "marker": {
             "colorbar": {
              "outlinewidth": 0,
              "ticks": ""
             }
            },
            "type": "scattermapbox"
           }
          ],
          "scatterpolar": [
           {
            "marker": {
             "colorbar": {
              "outlinewidth": 0,
              "ticks": ""
             }
            },
            "type": "scatterpolar"
           }
          ],
          "scatterpolargl": [
           {
            "marker": {
             "colorbar": {
              "outlinewidth": 0,
              "ticks": ""
             }
            },
            "type": "scatterpolargl"
           }
          ],
          "scatterternary": [
           {
            "marker": {
             "colorbar": {
              "outlinewidth": 0,
              "ticks": ""
             }
            },
            "type": "scatterternary"
           }
          ],
          "surface": [
           {
            "colorbar": {
             "outlinewidth": 0,
             "ticks": ""
            },
            "colorscale": [
             [
              0,
              "#0d0887"
             ],
             [
              0.1111111111111111,
              "#46039f"
             ],
             [
              0.2222222222222222,
              "#7201a8"
             ],
             [
              0.3333333333333333,
              "#9c179e"
             ],
             [
              0.4444444444444444,
              "#bd3786"
             ],
             [
              0.5555555555555556,
              "#d8576b"
             ],
             [
              0.6666666666666666,
              "#ed7953"
             ],
             [
              0.7777777777777778,
              "#fb9f3a"
             ],
             [
              0.8888888888888888,
              "#fdca26"
             ],
             [
              1,
              "#f0f921"
             ]
            ],
            "type": "surface"
           }
          ],
          "table": [
           {
            "cells": {
             "fill": {
              "color": "#EBF0F8"
             },
             "line": {
              "color": "white"
             }
            },
            "header": {
             "fill": {
              "color": "#C8D4E3"
             },
             "line": {
              "color": "white"
             }
            },
            "type": "table"
           }
          ]
         },
         "layout": {
          "annotationdefaults": {
           "arrowcolor": "#2a3f5f",
           "arrowhead": 0,
           "arrowwidth": 1
          },
          "coloraxis": {
           "colorbar": {
            "outlinewidth": 0,
            "ticks": ""
           }
          },
          "colorscale": {
           "diverging": [
            [
             0,
             "#8e0152"
            ],
            [
             0.1,
             "#c51b7d"
            ],
            [
             0.2,
             "#de77ae"
            ],
            [
             0.3,
             "#f1b6da"
            ],
            [
             0.4,
             "#fde0ef"
            ],
            [
             0.5,
             "#f7f7f7"
            ],
            [
             0.6,
             "#e6f5d0"
            ],
            [
             0.7,
             "#b8e186"
            ],
            [
             0.8,
             "#7fbc41"
            ],
            [
             0.9,
             "#4d9221"
            ],
            [
             1,
             "#276419"
            ]
           ],
           "sequential": [
            [
             0,
             "#0d0887"
            ],
            [
             0.1111111111111111,
             "#46039f"
            ],
            [
             0.2222222222222222,
             "#7201a8"
            ],
            [
             0.3333333333333333,
             "#9c179e"
            ],
            [
             0.4444444444444444,
             "#bd3786"
            ],
            [
             0.5555555555555556,
             "#d8576b"
            ],
            [
             0.6666666666666666,
             "#ed7953"
            ],
            [
             0.7777777777777778,
             "#fb9f3a"
            ],
            [
             0.8888888888888888,
             "#fdca26"
            ],
            [
             1,
             "#f0f921"
            ]
           ],
           "sequentialminus": [
            [
             0,
             "#0d0887"
            ],
            [
             0.1111111111111111,
             "#46039f"
            ],
            [
             0.2222222222222222,
             "#7201a8"
            ],
            [
             0.3333333333333333,
             "#9c179e"
            ],
            [
             0.4444444444444444,
             "#bd3786"
            ],
            [
             0.5555555555555556,
             "#d8576b"
            ],
            [
             0.6666666666666666,
             "#ed7953"
            ],
            [
             0.7777777777777778,
             "#fb9f3a"
            ],
            [
             0.8888888888888888,
             "#fdca26"
            ],
            [
             1,
             "#f0f921"
            ]
           ]
          },
          "colorway": [
           "#636efa",
           "#EF553B",
           "#00cc96",
           "#ab63fa",
           "#FFA15A",
           "#19d3f3",
           "#FF6692",
           "#B6E880",
           "#FF97FF",
           "#FECB52"
          ],
          "font": {
           "color": "#2a3f5f"
          },
          "geo": {
           "bgcolor": "white",
           "lakecolor": "white",
           "landcolor": "#E5ECF6",
           "showlakes": true,
           "showland": true,
           "subunitcolor": "white"
          },
          "hoverlabel": {
           "align": "left"
          },
          "hovermode": "closest",
          "mapbox": {
           "style": "light"
          },
          "paper_bgcolor": "white",
          "plot_bgcolor": "#E5ECF6",
          "polar": {
           "angularaxis": {
            "gridcolor": "white",
            "linecolor": "white",
            "ticks": ""
           },
           "bgcolor": "#E5ECF6",
           "radialaxis": {
            "gridcolor": "white",
            "linecolor": "white",
            "ticks": ""
           }
          },
          "scene": {
           "xaxis": {
            "backgroundcolor": "#E5ECF6",
            "gridcolor": "white",
            "gridwidth": 2,
            "linecolor": "white",
            "showbackground": true,
            "ticks": "",
            "zerolinecolor": "white"
           },
           "yaxis": {
            "backgroundcolor": "#E5ECF6",
            "gridcolor": "white",
            "gridwidth": 2,
            "linecolor": "white",
            "showbackground": true,
            "ticks": "",
            "zerolinecolor": "white"
           },
           "zaxis": {
            "backgroundcolor": "#E5ECF6",
            "gridcolor": "white",
            "gridwidth": 2,
            "linecolor": "white",
            "showbackground": true,
            "ticks": "",
            "zerolinecolor": "white"
           }
          },
          "shapedefaults": {
           "line": {
            "color": "#2a3f5f"
           }
          },
          "ternary": {
           "aaxis": {
            "gridcolor": "white",
            "linecolor": "white",
            "ticks": ""
           },
           "baxis": {
            "gridcolor": "white",
            "linecolor": "white",
            "ticks": ""
           },
           "bgcolor": "#E5ECF6",
           "caxis": {
            "gridcolor": "white",
            "linecolor": "white",
            "ticks": ""
           }
          },
          "title": {
           "x": 0.05
          },
          "xaxis": {
           "automargin": true,
           "gridcolor": "white",
           "linecolor": "white",
           "ticks": "",
           "title": {
            "standoff": 15
           },
           "zerolinecolor": "white",
           "zerolinewidth": 2
          },
          "yaxis": {
           "automargin": true,
           "gridcolor": "white",
           "linecolor": "white",
           "ticks": "",
           "title": {
            "standoff": 15
           },
           "zerolinecolor": "white",
           "zerolinewidth": 2
          }
         }
        },
        "xaxis": {
         "constrain": "domain",
         "scaleanchor": "y"
        },
        "yaxis": {
         "autorange": "reversed",
         "constrain": "domain"
        }
       }
      }
     },
     "metadata": {}
    }
   ],
   "source": [
    "# plotly_heatmap_chart\n",
    "fig = px.imshow(df_matrix)\n",
    "fig.show()"
   ]
  },
  {
   "cell_type": "code",
   "execution_count": 76,
   "metadata": {},
   "outputs": [
    {
     "output_type": "display_data",
     "data": {
      "application/vnd.plotly.v1+json": {
       "config": {
        "plotlyServerURL": "https://plot.ly"
       },
       "data": [
        {
         "cells": {
          "values": [
           [
            "professor 0",
            "professor 1",
            "professor 2",
            "professor 3",
            "professor 4",
            "professor 5",
            "professor 6",
            "professor 7",
            "professor 8",
            "professor 9"
           ],
           [
            -5.58120262718063,
            -8.986261973003437,
            -2.578666264895758,
            -5.0702895329644955,
            -3.9317145506142075,
            -2.7093598615207597,
            -0.23957948578471144,
            -3.4418687675161683,
            -6.1371825418252515,
            -8.424315531795992
           ],
           [
            -1.5341246705715879,
            -0.17993661035082043,
            -5.652840670810213,
            -0.1568051374503192,
            -8.974916440045947,
            -2.3258527573487595,
            -3.9273505058132505,
            -3.3275353908774923,
            -5.588334572176709,
            -3.733719674415356
           ],
           [
            -4.268950075551399,
            -5.9115863503924375,
            -4.583282894411871,
            -6.0920432474356545,
            -2.3495624033518734,
            -0.3074830459948643,
            -8.046026404438484,
            -0.7862636783453444,
            -4.832251704046965,
            -7.585349428228966
           ],
           [
            -8.552801494796276,
            -7.9191948922371065,
            -7.306319374600629,
            -5.9507135382314,
            -2.42126971470894,
            -1.949848825753289,
            -4.491382451092797,
            -3.0204564561815506,
            -4.482705073859005,
            -3.510897815009959
           ],
           [
            -8.029973340545217,
            -7.778528135506359,
            -8.47482516029824,
            -0.08641818728673611,
            -2.0445714962486132,
            -4.601725986008251,
            -6.30335279379711,
            -6.577716425676259,
            -3.9957415691186937,
            -5.4143872765525405
           ],
           [
            -6.883382618261765,
            -5.246510397290218,
            -2.380968772135388,
            -1.0232759234745248,
            -5.535763169042523,
            -0.6950497454629057,
            -0.15545851065722815,
            -5.212702931728066,
            -8.661604989573853,
            -2.7889629459379854
           ],
           [
            -4.497535272281745,
            -1.8624726033432832,
            -1.203750735838859,
            -3.566937052815278,
            -3.5997776601480194,
            -1.374877204216117,
            -5.2087796738367445,
            -1.3431295246913098,
            -1.6789695071714401,
            -8.286730264570666
           ],
           [
            -1.8707165078323302,
            -2.3077395305240205,
            -7.7964830544549075,
            -7.724252532372194,
            -4.135611241799989,
            -1.222478318313566,
            -3.0623100712603066,
            -7.919767547639198,
            -1.8457900774859375,
            -6.330328596363039
           ],
           [
            -3.1414365874722923,
            -0.015033963233252123,
            -1.881235034247629,
            -7.295078332569885,
            -5.476541404483327,
            -1.7275430804278533,
            -6.84813830326242,
            -5.253336492439454,
            -1.8094280776972034,
            -4.1441085358838015
           ],
           [
            -1.3777026434690893,
            -4.7034857704303565,
            -0.27207237843714804,
            -7.69559958023183,
            -5.486022426396842,
            -4.308858956913076,
            -1.9241899396105153,
            -6.636015014088186,
            -5.961936467050304,
            -5.736958593391646
           ]
          ]
         },
         "header": {
          "values": [
           "professor",
           "grade of class 0",
           "grade of class 1",
           "grade of class 2",
           "grade of class 3",
           "grade of class 4",
           "grade of class 5",
           "grade of class 6",
           "grade of class 7",
           "grade of class 8",
           "grade of class 9"
          ]
         },
         "type": "table"
        }
       ],
       "layout": {
        "template": {
         "data": {
          "bar": [
           {
            "error_x": {
             "color": "#2a3f5f"
            },
            "error_y": {
             "color": "#2a3f5f"
            },
            "marker": {
             "line": {
              "color": "#E5ECF6",
              "width": 0.5
             }
            },
            "type": "bar"
           }
          ],
          "barpolar": [
           {
            "marker": {
             "line": {
              "color": "#E5ECF6",
              "width": 0.5
             }
            },
            "type": "barpolar"
           }
          ],
          "carpet": [
           {
            "aaxis": {
             "endlinecolor": "#2a3f5f",
             "gridcolor": "white",
             "linecolor": "white",
             "minorgridcolor": "white",
             "startlinecolor": "#2a3f5f"
            },
            "baxis": {
             "endlinecolor": "#2a3f5f",
             "gridcolor": "white",
             "linecolor": "white",
             "minorgridcolor": "white",
             "startlinecolor": "#2a3f5f"
            },
            "type": "carpet"
           }
          ],
          "choropleth": [
           {
            "colorbar": {
             "outlinewidth": 0,
             "ticks": ""
            },
            "type": "choropleth"
           }
          ],
          "contour": [
           {
            "colorbar": {
             "outlinewidth": 0,
             "ticks": ""
            },
            "colorscale": [
             [
              0,
              "#0d0887"
             ],
             [
              0.1111111111111111,
              "#46039f"
             ],
             [
              0.2222222222222222,
              "#7201a8"
             ],
             [
              0.3333333333333333,
              "#9c179e"
             ],
             [
              0.4444444444444444,
              "#bd3786"
             ],
             [
              0.5555555555555556,
              "#d8576b"
             ],
             [
              0.6666666666666666,
              "#ed7953"
             ],
             [
              0.7777777777777778,
              "#fb9f3a"
             ],
             [
              0.8888888888888888,
              "#fdca26"
             ],
             [
              1,
              "#f0f921"
             ]
            ],
            "type": "contour"
           }
          ],
          "contourcarpet": [
           {
            "colorbar": {
             "outlinewidth": 0,
             "ticks": ""
            },
            "type": "contourcarpet"
           }
          ],
          "heatmap": [
           {
            "colorbar": {
             "outlinewidth": 0,
             "ticks": ""
            },
            "colorscale": [
             [
              0,
              "#0d0887"
             ],
             [
              0.1111111111111111,
              "#46039f"
             ],
             [
              0.2222222222222222,
              "#7201a8"
             ],
             [
              0.3333333333333333,
              "#9c179e"
             ],
             [
              0.4444444444444444,
              "#bd3786"
             ],
             [
              0.5555555555555556,
              "#d8576b"
             ],
             [
              0.6666666666666666,
              "#ed7953"
             ],
             [
              0.7777777777777778,
              "#fb9f3a"
             ],
             [
              0.8888888888888888,
              "#fdca26"
             ],
             [
              1,
              "#f0f921"
             ]
            ],
            "type": "heatmap"
           }
          ],
          "heatmapgl": [
           {
            "colorbar": {
             "outlinewidth": 0,
             "ticks": ""
            },
            "colorscale": [
             [
              0,
              "#0d0887"
             ],
             [
              0.1111111111111111,
              "#46039f"
             ],
             [
              0.2222222222222222,
              "#7201a8"
             ],
             [
              0.3333333333333333,
              "#9c179e"
             ],
             [
              0.4444444444444444,
              "#bd3786"
             ],
             [
              0.5555555555555556,
              "#d8576b"
             ],
             [
              0.6666666666666666,
              "#ed7953"
             ],
             [
              0.7777777777777778,
              "#fb9f3a"
             ],
             [
              0.8888888888888888,
              "#fdca26"
             ],
             [
              1,
              "#f0f921"
             ]
            ],
            "type": "heatmapgl"
           }
          ],
          "histogram": [
           {
            "marker": {
             "colorbar": {
              "outlinewidth": 0,
              "ticks": ""
             }
            },
            "type": "histogram"
           }
          ],
          "histogram2d": [
           {
            "colorbar": {
             "outlinewidth": 0,
             "ticks": ""
            },
            "colorscale": [
             [
              0,
              "#0d0887"
             ],
             [
              0.1111111111111111,
              "#46039f"
             ],
             [
              0.2222222222222222,
              "#7201a8"
             ],
             [
              0.3333333333333333,
              "#9c179e"
             ],
             [
              0.4444444444444444,
              "#bd3786"
             ],
             [
              0.5555555555555556,
              "#d8576b"
             ],
             [
              0.6666666666666666,
              "#ed7953"
             ],
             [
              0.7777777777777778,
              "#fb9f3a"
             ],
             [
              0.8888888888888888,
              "#fdca26"
             ],
             [
              1,
              "#f0f921"
             ]
            ],
            "type": "histogram2d"
           }
          ],
          "histogram2dcontour": [
           {
            "colorbar": {
             "outlinewidth": 0,
             "ticks": ""
            },
            "colorscale": [
             [
              0,
              "#0d0887"
             ],
             [
              0.1111111111111111,
              "#46039f"
             ],
             [
              0.2222222222222222,
              "#7201a8"
             ],
             [
              0.3333333333333333,
              "#9c179e"
             ],
             [
              0.4444444444444444,
              "#bd3786"
             ],
             [
              0.5555555555555556,
              "#d8576b"
             ],
             [
              0.6666666666666666,
              "#ed7953"
             ],
             [
              0.7777777777777778,
              "#fb9f3a"
             ],
             [
              0.8888888888888888,
              "#fdca26"
             ],
             [
              1,
              "#f0f921"
             ]
            ],
            "type": "histogram2dcontour"
           }
          ],
          "mesh3d": [
           {
            "colorbar": {
             "outlinewidth": 0,
             "ticks": ""
            },
            "type": "mesh3d"
           }
          ],
          "parcoords": [
           {
            "line": {
             "colorbar": {
              "outlinewidth": 0,
              "ticks": ""
             }
            },
            "type": "parcoords"
           }
          ],
          "pie": [
           {
            "automargin": true,
            "type": "pie"
           }
          ],
          "scatter": [
           {
            "marker": {
             "colorbar": {
              "outlinewidth": 0,
              "ticks": ""
             }
            },
            "type": "scatter"
           }
          ],
          "scatter3d": [
           {
            "line": {
             "colorbar": {
              "outlinewidth": 0,
              "ticks": ""
             }
            },
            "marker": {
             "colorbar": {
              "outlinewidth": 0,
              "ticks": ""
             }
            },
            "type": "scatter3d"
           }
          ],
          "scattercarpet": [
           {
            "marker": {
             "colorbar": {
              "outlinewidth": 0,
              "ticks": ""
             }
            },
            "type": "scattercarpet"
           }
          ],
          "scattergeo": [
           {
            "marker": {
             "colorbar": {
              "outlinewidth": 0,
              "ticks": ""
             }
            },
            "type": "scattergeo"
           }
          ],
          "scattergl": [
           {
            "marker": {
             "colorbar": {
              "outlinewidth": 0,
              "ticks": ""
             }
            },
            "type": "scattergl"
           }
          ],
          "scattermapbox": [
           {
            "marker": {
             "colorbar": {
              "outlinewidth": 0,
              "ticks": ""
             }
            },
            "type": "scattermapbox"
           }
          ],
          "scatterpolar": [
           {
            "marker": {
             "colorbar": {
              "outlinewidth": 0,
              "ticks": ""
             }
            },
            "type": "scatterpolar"
           }
          ],
          "scatterpolargl": [
           {
            "marker": {
             "colorbar": {
              "outlinewidth": 0,
              "ticks": ""
             }
            },
            "type": "scatterpolargl"
           }
          ],
          "scatterternary": [
           {
            "marker": {
             "colorbar": {
              "outlinewidth": 0,
              "ticks": ""
             }
            },
            "type": "scatterternary"
           }
          ],
          "surface": [
           {
            "colorbar": {
             "outlinewidth": 0,
             "ticks": ""
            },
            "colorscale": [
             [
              0,
              "#0d0887"
             ],
             [
              0.1111111111111111,
              "#46039f"
             ],
             [
              0.2222222222222222,
              "#7201a8"
             ],
             [
              0.3333333333333333,
              "#9c179e"
             ],
             [
              0.4444444444444444,
              "#bd3786"
             ],
             [
              0.5555555555555556,
              "#d8576b"
             ],
             [
              0.6666666666666666,
              "#ed7953"
             ],
             [
              0.7777777777777778,
              "#fb9f3a"
             ],
             [
              0.8888888888888888,
              "#fdca26"
             ],
             [
              1,
              "#f0f921"
             ]
            ],
            "type": "surface"
           }
          ],
          "table": [
           {
            "cells": {
             "fill": {
              "color": "#EBF0F8"
             },
             "line": {
              "color": "white"
             }
            },
            "header": {
             "fill": {
              "color": "#C8D4E3"
             },
             "line": {
              "color": "white"
             }
            },
            "type": "table"
           }
          ]
         },
         "layout": {
          "annotationdefaults": {
           "arrowcolor": "#2a3f5f",
           "arrowhead": 0,
           "arrowwidth": 1
          },
          "coloraxis": {
           "colorbar": {
            "outlinewidth": 0,
            "ticks": ""
           }
          },
          "colorscale": {
           "diverging": [
            [
             0,
             "#8e0152"
            ],
            [
             0.1,
             "#c51b7d"
            ],
            [
             0.2,
             "#de77ae"
            ],
            [
             0.3,
             "#f1b6da"
            ],
            [
             0.4,
             "#fde0ef"
            ],
            [
             0.5,
             "#f7f7f7"
            ],
            [
             0.6,
             "#e6f5d0"
            ],
            [
             0.7,
             "#b8e186"
            ],
            [
             0.8,
             "#7fbc41"
            ],
            [
             0.9,
             "#4d9221"
            ],
            [
             1,
             "#276419"
            ]
           ],
           "sequential": [
            [
             0,
             "#0d0887"
            ],
            [
             0.1111111111111111,
             "#46039f"
            ],
            [
             0.2222222222222222,
             "#7201a8"
            ],
            [
             0.3333333333333333,
             "#9c179e"
            ],
            [
             0.4444444444444444,
             "#bd3786"
            ],
            [
             0.5555555555555556,
             "#d8576b"
            ],
            [
             0.6666666666666666,
             "#ed7953"
            ],
            [
             0.7777777777777778,
             "#fb9f3a"
            ],
            [
             0.8888888888888888,
             "#fdca26"
            ],
            [
             1,
             "#f0f921"
            ]
           ],
           "sequentialminus": [
            [
             0,
             "#0d0887"
            ],
            [
             0.1111111111111111,
             "#46039f"
            ],
            [
             0.2222222222222222,
             "#7201a8"
            ],
            [
             0.3333333333333333,
             "#9c179e"
            ],
            [
             0.4444444444444444,
             "#bd3786"
            ],
            [
             0.5555555555555556,
             "#d8576b"
            ],
            [
             0.6666666666666666,
             "#ed7953"
            ],
            [
             0.7777777777777778,
             "#fb9f3a"
            ],
            [
             0.8888888888888888,
             "#fdca26"
            ],
            [
             1,
             "#f0f921"
            ]
           ]
          },
          "colorway": [
           "#636efa",
           "#EF553B",
           "#00cc96",
           "#ab63fa",
           "#FFA15A",
           "#19d3f3",
           "#FF6692",
           "#B6E880",
           "#FF97FF",
           "#FECB52"
          ],
          "font": {
           "color": "#2a3f5f"
          },
          "geo": {
           "bgcolor": "white",
           "lakecolor": "white",
           "landcolor": "#E5ECF6",
           "showlakes": true,
           "showland": true,
           "subunitcolor": "white"
          },
          "hoverlabel": {
           "align": "left"
          },
          "hovermode": "closest",
          "mapbox": {
           "style": "light"
          },
          "paper_bgcolor": "white",
          "plot_bgcolor": "#E5ECF6",
          "polar": {
           "angularaxis": {
            "gridcolor": "white",
            "linecolor": "white",
            "ticks": ""
           },
           "bgcolor": "#E5ECF6",
           "radialaxis": {
            "gridcolor": "white",
            "linecolor": "white",
            "ticks": ""
           }
          },
          "scene": {
           "xaxis": {
            "backgroundcolor": "#E5ECF6",
            "gridcolor": "white",
            "gridwidth": 2,
            "linecolor": "white",
            "showbackground": true,
            "ticks": "",
            "zerolinecolor": "white"
           },
           "yaxis": {
            "backgroundcolor": "#E5ECF6",
            "gridcolor": "white",
            "gridwidth": 2,
            "linecolor": "white",
            "showbackground": true,
            "ticks": "",
            "zerolinecolor": "white"
           },
           "zaxis": {
            "backgroundcolor": "#E5ECF6",
            "gridcolor": "white",
            "gridwidth": 2,
            "linecolor": "white",
            "showbackground": true,
            "ticks": "",
            "zerolinecolor": "white"
           }
          },
          "shapedefaults": {
           "line": {
            "color": "#2a3f5f"
           }
          },
          "ternary": {
           "aaxis": {
            "gridcolor": "white",
            "linecolor": "white",
            "ticks": ""
           },
           "baxis": {
            "gridcolor": "white",
            "linecolor": "white",
            "ticks": ""
           },
           "bgcolor": "#E5ECF6",
           "caxis": {
            "gridcolor": "white",
            "linecolor": "white",
            "ticks": ""
           }
          },
          "title": {
           "x": 0.05
          },
          "xaxis": {
           "automargin": true,
           "gridcolor": "white",
           "linecolor": "white",
           "ticks": "",
           "title": {
            "standoff": 15
           },
           "zerolinecolor": "white",
           "zerolinewidth": 2
          },
          "yaxis": {
           "automargin": true,
           "gridcolor": "white",
           "linecolor": "white",
           "ticks": "",
           "title": {
            "standoff": 15
           },
           "zerolinecolor": "white",
           "zerolinewidth": 2
          }
         }
        }
       }
      }
     },
     "metadata": {}
    }
   ],
   "source": [
    "table_data = [df_matrix[x] for x in list(df_matrix.columns)]\n",
    "table_data.insert(0, df_matrix.index.to_list())\n",
    "fig = go.Figure(data=[go.Table(header=dict(values=[\"professor\"]+list(df_matrix.columns)),\n",
    "    cells=dict(values=table_data))])\n",
    "\n",
    "fig.show()"
   ]
  },
  {
   "cell_type": "code",
   "execution_count": 82,
   "metadata": {},
   "outputs": [
    {
     "output_type": "display_data",
     "data": {
      "application/vnd.plotly.v1+json": {
       "config": {
        "plotlyServerURL": "https://plot.ly"
       },
       "data": [
        {
         "contours": {
          "coloring": "none"
         },
         "hovertemplate": "variable=grade of class 0<br>index=%{x}<br>value=%{y}<br>count=%{z}<extra></extra>",
         "legendgroup": "grade of class 0",
         "line": {
          "color": "#636efa"
         },
         "name": "grade of class 0",
         "showlegend": true,
         "type": "histogram2dcontour",
         "x": [
          "professor 0",
          "professor 1",
          "professor 2",
          "professor 3",
          "professor 4",
          "professor 5",
          "professor 6",
          "professor 7",
          "professor 8",
          "professor 9"
         ],
         "xaxis": "x",
         "xbingroup": "x",
         "y": [
          -5.58120262718063,
          -8.986261973003437,
          -2.578666264895758,
          -5.0702895329644955,
          -3.9317145506142075,
          -2.7093598615207597,
          -0.23957948578471144,
          -3.4418687675161683,
          -6.1371825418252515,
          -8.424315531795992
         ],
         "yaxis": "y",
         "ybingroup": "y"
        },
        {
         "contours": {
          "coloring": "none"
         },
         "hovertemplate": "variable=grade of class 1<br>index=%{x}<br>value=%{y}<br>count=%{z}<extra></extra>",
         "legendgroup": "grade of class 1",
         "line": {
          "color": "#EF553B"
         },
         "name": "grade of class 1",
         "showlegend": true,
         "type": "histogram2dcontour",
         "x": [
          "professor 0",
          "professor 1",
          "professor 2",
          "professor 3",
          "professor 4",
          "professor 5",
          "professor 6",
          "professor 7",
          "professor 8",
          "professor 9"
         ],
         "xaxis": "x",
         "xbingroup": "x",
         "y": [
          -1.5341246705715879,
          -0.17993661035082043,
          -5.652840670810213,
          -0.1568051374503192,
          -8.974916440045947,
          -2.3258527573487595,
          -3.9273505058132505,
          -3.3275353908774923,
          -5.588334572176709,
          -3.733719674415356
         ],
         "yaxis": "y",
         "ybingroup": "y"
        },
        {
         "contours": {
          "coloring": "none"
         },
         "hovertemplate": "variable=grade of class 2<br>index=%{x}<br>value=%{y}<br>count=%{z}<extra></extra>",
         "legendgroup": "grade of class 2",
         "line": {
          "color": "#00cc96"
         },
         "name": "grade of class 2",
         "showlegend": true,
         "type": "histogram2dcontour",
         "x": [
          "professor 0",
          "professor 1",
          "professor 2",
          "professor 3",
          "professor 4",
          "professor 5",
          "professor 6",
          "professor 7",
          "professor 8",
          "professor 9"
         ],
         "xaxis": "x",
         "xbingroup": "x",
         "y": [
          -4.268950075551399,
          -5.9115863503924375,
          -4.583282894411871,
          -6.0920432474356545,
          -2.3495624033518734,
          -0.3074830459948643,
          -8.046026404438484,
          -0.7862636783453444,
          -4.832251704046965,
          -7.585349428228966
         ],
         "yaxis": "y",
         "ybingroup": "y"
        },
        {
         "contours": {
          "coloring": "none"
         },
         "hovertemplate": "variable=grade of class 3<br>index=%{x}<br>value=%{y}<br>count=%{z}<extra></extra>",
         "legendgroup": "grade of class 3",
         "line": {
          "color": "#ab63fa"
         },
         "name": "grade of class 3",
         "showlegend": true,
         "type": "histogram2dcontour",
         "x": [
          "professor 0",
          "professor 1",
          "professor 2",
          "professor 3",
          "professor 4",
          "professor 5",
          "professor 6",
          "professor 7",
          "professor 8",
          "professor 9"
         ],
         "xaxis": "x",
         "xbingroup": "x",
         "y": [
          -8.552801494796276,
          -7.9191948922371065,
          -7.306319374600629,
          -5.9507135382314,
          -2.42126971470894,
          -1.949848825753289,
          -4.491382451092797,
          -3.0204564561815506,
          -4.482705073859005,
          -3.510897815009959
         ],
         "yaxis": "y",
         "ybingroup": "y"
        },
        {
         "contours": {
          "coloring": "none"
         },
         "hovertemplate": "variable=grade of class 4<br>index=%{x}<br>value=%{y}<br>count=%{z}<extra></extra>",
         "legendgroup": "grade of class 4",
         "line": {
          "color": "#FFA15A"
         },
         "name": "grade of class 4",
         "showlegend": true,
         "type": "histogram2dcontour",
         "x": [
          "professor 0",
          "professor 1",
          "professor 2",
          "professor 3",
          "professor 4",
          "professor 5",
          "professor 6",
          "professor 7",
          "professor 8",
          "professor 9"
         ],
         "xaxis": "x",
         "xbingroup": "x",
         "y": [
          -8.029973340545217,
          -7.778528135506359,
          -8.47482516029824,
          -0.08641818728673611,
          -2.0445714962486132,
          -4.601725986008251,
          -6.30335279379711,
          -6.577716425676259,
          -3.9957415691186937,
          -5.4143872765525405
         ],
         "yaxis": "y",
         "ybingroup": "y"
        },
        {
         "contours": {
          "coloring": "none"
         },
         "hovertemplate": "variable=grade of class 5<br>index=%{x}<br>value=%{y}<br>count=%{z}<extra></extra>",
         "legendgroup": "grade of class 5",
         "line": {
          "color": "#19d3f3"
         },
         "name": "grade of class 5",
         "showlegend": true,
         "type": "histogram2dcontour",
         "x": [
          "professor 0",
          "professor 1",
          "professor 2",
          "professor 3",
          "professor 4",
          "professor 5",
          "professor 6",
          "professor 7",
          "professor 8",
          "professor 9"
         ],
         "xaxis": "x",
         "xbingroup": "x",
         "y": [
          -6.883382618261765,
          -5.246510397290218,
          -2.380968772135388,
          -1.0232759234745248,
          -5.535763169042523,
          -0.6950497454629057,
          -0.15545851065722815,
          -5.212702931728066,
          -8.661604989573853,
          -2.7889629459379854
         ],
         "yaxis": "y",
         "ybingroup": "y"
        },
        {
         "contours": {
          "coloring": "none"
         },
         "hovertemplate": "variable=grade of class 6<br>index=%{x}<br>value=%{y}<br>count=%{z}<extra></extra>",
         "legendgroup": "grade of class 6",
         "line": {
          "color": "#FF6692"
         },
         "name": "grade of class 6",
         "showlegend": true,
         "type": "histogram2dcontour",
         "x": [
          "professor 0",
          "professor 1",
          "professor 2",
          "professor 3",
          "professor 4",
          "professor 5",
          "professor 6",
          "professor 7",
          "professor 8",
          "professor 9"
         ],
         "xaxis": "x",
         "xbingroup": "x",
         "y": [
          -4.497535272281745,
          -1.8624726033432832,
          -1.203750735838859,
          -3.566937052815278,
          -3.5997776601480194,
          -1.374877204216117,
          -5.2087796738367445,
          -1.3431295246913098,
          -1.6789695071714401,
          -8.286730264570666
         ],
         "yaxis": "y",
         "ybingroup": "y"
        },
        {
         "contours": {
          "coloring": "none"
         },
         "hovertemplate": "variable=grade of class 7<br>index=%{x}<br>value=%{y}<br>count=%{z}<extra></extra>",
         "legendgroup": "grade of class 7",
         "line": {
          "color": "#B6E880"
         },
         "name": "grade of class 7",
         "showlegend": true,
         "type": "histogram2dcontour",
         "x": [
          "professor 0",
          "professor 1",
          "professor 2",
          "professor 3",
          "professor 4",
          "professor 5",
          "professor 6",
          "professor 7",
          "professor 8",
          "professor 9"
         ],
         "xaxis": "x",
         "xbingroup": "x",
         "y": [
          -1.8707165078323302,
          -2.3077395305240205,
          -7.7964830544549075,
          -7.724252532372194,
          -4.135611241799989,
          -1.222478318313566,
          -3.0623100712603066,
          -7.919767547639198,
          -1.8457900774859375,
          -6.330328596363039
         ],
         "yaxis": "y",
         "ybingroup": "y"
        },
        {
         "contours": {
          "coloring": "none"
         },
         "hovertemplate": "variable=grade of class 8<br>index=%{x}<br>value=%{y}<br>count=%{z}<extra></extra>",
         "legendgroup": "grade of class 8",
         "line": {
          "color": "#FF97FF"
         },
         "name": "grade of class 8",
         "showlegend": true,
         "type": "histogram2dcontour",
         "x": [
          "professor 0",
          "professor 1",
          "professor 2",
          "professor 3",
          "professor 4",
          "professor 5",
          "professor 6",
          "professor 7",
          "professor 8",
          "professor 9"
         ],
         "xaxis": "x",
         "xbingroup": "x",
         "y": [
          -3.1414365874722923,
          -0.015033963233252123,
          -1.881235034247629,
          -7.295078332569885,
          -5.476541404483327,
          -1.7275430804278533,
          -6.84813830326242,
          -5.253336492439454,
          -1.8094280776972034,
          -4.1441085358838015
         ],
         "yaxis": "y",
         "ybingroup": "y"
        },
        {
         "contours": {
          "coloring": "none"
         },
         "hovertemplate": "variable=grade of class 9<br>index=%{x}<br>value=%{y}<br>count=%{z}<extra></extra>",
         "legendgroup": "grade of class 9",
         "line": {
          "color": "#FECB52"
         },
         "name": "grade of class 9",
         "showlegend": true,
         "type": "histogram2dcontour",
         "x": [
          "professor 0",
          "professor 1",
          "professor 2",
          "professor 3",
          "professor 4",
          "professor 5",
          "professor 6",
          "professor 7",
          "professor 8",
          "professor 9"
         ],
         "xaxis": "x",
         "xbingroup": "x",
         "y": [
          -1.3777026434690893,
          -4.7034857704303565,
          -0.27207237843714804,
          -7.69559958023183,
          -5.486022426396842,
          -4.308858956913076,
          -1.9241899396105153,
          -6.636015014088186,
          -5.961936467050304,
          -5.736958593391646
         ],
         "yaxis": "y",
         "ybingroup": "y"
        }
       ],
       "layout": {
        "legend": {
         "title": {
          "text": "variable"
         },
         "tracegroupgap": 0
        },
        "margin": {
         "t": 60
        },
        "template": {
         "data": {
          "bar": [
           {
            "error_x": {
             "color": "#2a3f5f"
            },
            "error_y": {
             "color": "#2a3f5f"
            },
            "marker": {
             "line": {
              "color": "#E5ECF6",
              "width": 0.5
             }
            },
            "type": "bar"
           }
          ],
          "barpolar": [
           {
            "marker": {
             "line": {
              "color": "#E5ECF6",
              "width": 0.5
             }
            },
            "type": "barpolar"
           }
          ],
          "carpet": [
           {
            "aaxis": {
             "endlinecolor": "#2a3f5f",
             "gridcolor": "white",
             "linecolor": "white",
             "minorgridcolor": "white",
             "startlinecolor": "#2a3f5f"
            },
            "baxis": {
             "endlinecolor": "#2a3f5f",
             "gridcolor": "white",
             "linecolor": "white",
             "minorgridcolor": "white",
             "startlinecolor": "#2a3f5f"
            },
            "type": "carpet"
           }
          ],
          "choropleth": [
           {
            "colorbar": {
             "outlinewidth": 0,
             "ticks": ""
            },
            "type": "choropleth"
           }
          ],
          "contour": [
           {
            "colorbar": {
             "outlinewidth": 0,
             "ticks": ""
            },
            "colorscale": [
             [
              0,
              "#0d0887"
             ],
             [
              0.1111111111111111,
              "#46039f"
             ],
             [
              0.2222222222222222,
              "#7201a8"
             ],
             [
              0.3333333333333333,
              "#9c179e"
             ],
             [
              0.4444444444444444,
              "#bd3786"
             ],
             [
              0.5555555555555556,
              "#d8576b"
             ],
             [
              0.6666666666666666,
              "#ed7953"
             ],
             [
              0.7777777777777778,
              "#fb9f3a"
             ],
             [
              0.8888888888888888,
              "#fdca26"
             ],
             [
              1,
              "#f0f921"
             ]
            ],
            "type": "contour"
           }
          ],
          "contourcarpet": [
           {
            "colorbar": {
             "outlinewidth": 0,
             "ticks": ""
            },
            "type": "contourcarpet"
           }
          ],
          "heatmap": [
           {
            "colorbar": {
             "outlinewidth": 0,
             "ticks": ""
            },
            "colorscale": [
             [
              0,
              "#0d0887"
             ],
             [
              0.1111111111111111,
              "#46039f"
             ],
             [
              0.2222222222222222,
              "#7201a8"
             ],
             [
              0.3333333333333333,
              "#9c179e"
             ],
             [
              0.4444444444444444,
              "#bd3786"
             ],
             [
              0.5555555555555556,
              "#d8576b"
             ],
             [
              0.6666666666666666,
              "#ed7953"
             ],
             [
              0.7777777777777778,
              "#fb9f3a"
             ],
             [
              0.8888888888888888,
              "#fdca26"
             ],
             [
              1,
              "#f0f921"
             ]
            ],
            "type": "heatmap"
           }
          ],
          "heatmapgl": [
           {
            "colorbar": {
             "outlinewidth": 0,
             "ticks": ""
            },
            "colorscale": [
             [
              0,
              "#0d0887"
             ],
             [
              0.1111111111111111,
              "#46039f"
             ],
             [
              0.2222222222222222,
              "#7201a8"
             ],
             [
              0.3333333333333333,
              "#9c179e"
             ],
             [
              0.4444444444444444,
              "#bd3786"
             ],
             [
              0.5555555555555556,
              "#d8576b"
             ],
             [
              0.6666666666666666,
              "#ed7953"
             ],
             [
              0.7777777777777778,
              "#fb9f3a"
             ],
             [
              0.8888888888888888,
              "#fdca26"
             ],
             [
              1,
              "#f0f921"
             ]
            ],
            "type": "heatmapgl"
           }
          ],
          "histogram": [
           {
            "marker": {
             "colorbar": {
              "outlinewidth": 0,
              "ticks": ""
             }
            },
            "type": "histogram"
           }
          ],
          "histogram2d": [
           {
            "colorbar": {
             "outlinewidth": 0,
             "ticks": ""
            },
            "colorscale": [
             [
              0,
              "#0d0887"
             ],
             [
              0.1111111111111111,
              "#46039f"
             ],
             [
              0.2222222222222222,
              "#7201a8"
             ],
             [
              0.3333333333333333,
              "#9c179e"
             ],
             [
              0.4444444444444444,
              "#bd3786"
             ],
             [
              0.5555555555555556,
              "#d8576b"
             ],
             [
              0.6666666666666666,
              "#ed7953"
             ],
             [
              0.7777777777777778,
              "#fb9f3a"
             ],
             [
              0.8888888888888888,
              "#fdca26"
             ],
             [
              1,
              "#f0f921"
             ]
            ],
            "type": "histogram2d"
           }
          ],
          "histogram2dcontour": [
           {
            "colorbar": {
             "outlinewidth": 0,
             "ticks": ""
            },
            "colorscale": [
             [
              0,
              "#0d0887"
             ],
             [
              0.1111111111111111,
              "#46039f"
             ],
             [
              0.2222222222222222,
              "#7201a8"
             ],
             [
              0.3333333333333333,
              "#9c179e"
             ],
             [
              0.4444444444444444,
              "#bd3786"
             ],
             [
              0.5555555555555556,
              "#d8576b"
             ],
             [
              0.6666666666666666,
              "#ed7953"
             ],
             [
              0.7777777777777778,
              "#fb9f3a"
             ],
             [
              0.8888888888888888,
              "#fdca26"
             ],
             [
              1,
              "#f0f921"
             ]
            ],
            "type": "histogram2dcontour"
           }
          ],
          "mesh3d": [
           {
            "colorbar": {
             "outlinewidth": 0,
             "ticks": ""
            },
            "type": "mesh3d"
           }
          ],
          "parcoords": [
           {
            "line": {
             "colorbar": {
              "outlinewidth": 0,
              "ticks": ""
             }
            },
            "type": "parcoords"
           }
          ],
          "pie": [
           {
            "automargin": true,
            "type": "pie"
           }
          ],
          "scatter": [
           {
            "marker": {
             "colorbar": {
              "outlinewidth": 0,
              "ticks": ""
             }
            },
            "type": "scatter"
           }
          ],
          "scatter3d": [
           {
            "line": {
             "colorbar": {
              "outlinewidth": 0,
              "ticks": ""
             }
            },
            "marker": {
             "colorbar": {
              "outlinewidth": 0,
              "ticks": ""
             }
            },
            "type": "scatter3d"
           }
          ],
          "scattercarpet": [
           {
            "marker": {
             "colorbar": {
              "outlinewidth": 0,
              "ticks": ""
             }
            },
            "type": "scattercarpet"
           }
          ],
          "scattergeo": [
           {
            "marker": {
             "colorbar": {
              "outlinewidth": 0,
              "ticks": ""
             }
            },
            "type": "scattergeo"
           }
          ],
          "scattergl": [
           {
            "marker": {
             "colorbar": {
              "outlinewidth": 0,
              "ticks": ""
             }
            },
            "type": "scattergl"
           }
          ],
          "scattermapbox": [
           {
            "marker": {
             "colorbar": {
              "outlinewidth": 0,
              "ticks": ""
             }
            },
            "type": "scattermapbox"
           }
          ],
          "scatterpolar": [
           {
            "marker": {
             "colorbar": {
              "outlinewidth": 0,
              "ticks": ""
             }
            },
            "type": "scatterpolar"
           }
          ],
          "scatterpolargl": [
           {
            "marker": {
             "colorbar": {
              "outlinewidth": 0,
              "ticks": ""
             }
            },
            "type": "scatterpolargl"
           }
          ],
          "scatterternary": [
           {
            "marker": {
             "colorbar": {
              "outlinewidth": 0,
              "ticks": ""
             }
            },
            "type": "scatterternary"
           }
          ],
          "surface": [
           {
            "colorbar": {
             "outlinewidth": 0,
             "ticks": ""
            },
            "colorscale": [
             [
              0,
              "#0d0887"
             ],
             [
              0.1111111111111111,
              "#46039f"
             ],
             [
              0.2222222222222222,
              "#7201a8"
             ],
             [
              0.3333333333333333,
              "#9c179e"
             ],
             [
              0.4444444444444444,
              "#bd3786"
             ],
             [
              0.5555555555555556,
              "#d8576b"
             ],
             [
              0.6666666666666666,
              "#ed7953"
             ],
             [
              0.7777777777777778,
              "#fb9f3a"
             ],
             [
              0.8888888888888888,
              "#fdca26"
             ],
             [
              1,
              "#f0f921"
             ]
            ],
            "type": "surface"
           }
          ],
          "table": [
           {
            "cells": {
             "fill": {
              "color": "#EBF0F8"
             },
             "line": {
              "color": "white"
             }
            },
            "header": {
             "fill": {
              "color": "#C8D4E3"
             },
             "line": {
              "color": "white"
             }
            },
            "type": "table"
           }
          ]
         },
         "layout": {
          "annotationdefaults": {
           "arrowcolor": "#2a3f5f",
           "arrowhead": 0,
           "arrowwidth": 1
          },
          "coloraxis": {
           "colorbar": {
            "outlinewidth": 0,
            "ticks": ""
           }
          },
          "colorscale": {
           "diverging": [
            [
             0,
             "#8e0152"
            ],
            [
             0.1,
             "#c51b7d"
            ],
            [
             0.2,
             "#de77ae"
            ],
            [
             0.3,
             "#f1b6da"
            ],
            [
             0.4,
             "#fde0ef"
            ],
            [
             0.5,
             "#f7f7f7"
            ],
            [
             0.6,
             "#e6f5d0"
            ],
            [
             0.7,
             "#b8e186"
            ],
            [
             0.8,
             "#7fbc41"
            ],
            [
             0.9,
             "#4d9221"
            ],
            [
             1,
             "#276419"
            ]
           ],
           "sequential": [
            [
             0,
             "#0d0887"
            ],
            [
             0.1111111111111111,
             "#46039f"
            ],
            [
             0.2222222222222222,
             "#7201a8"
            ],
            [
             0.3333333333333333,
             "#9c179e"
            ],
            [
             0.4444444444444444,
             "#bd3786"
            ],
            [
             0.5555555555555556,
             "#d8576b"
            ],
            [
             0.6666666666666666,
             "#ed7953"
            ],
            [
             0.7777777777777778,
             "#fb9f3a"
            ],
            [
             0.8888888888888888,
             "#fdca26"
            ],
            [
             1,
             "#f0f921"
            ]
           ],
           "sequentialminus": [
            [
             0,
             "#0d0887"
            ],
            [
             0.1111111111111111,
             "#46039f"
            ],
            [
             0.2222222222222222,
             "#7201a8"
            ],
            [
             0.3333333333333333,
             "#9c179e"
            ],
            [
             0.4444444444444444,
             "#bd3786"
            ],
            [
             0.5555555555555556,
             "#d8576b"
            ],
            [
             0.6666666666666666,
             "#ed7953"
            ],
            [
             0.7777777777777778,
             "#fb9f3a"
            ],
            [
             0.8888888888888888,
             "#fdca26"
            ],
            [
             1,
             "#f0f921"
            ]
           ]
          },
          "colorway": [
           "#636efa",
           "#EF553B",
           "#00cc96",
           "#ab63fa",
           "#FFA15A",
           "#19d3f3",
           "#FF6692",
           "#B6E880",
           "#FF97FF",
           "#FECB52"
          ],
          "font": {
           "color": "#2a3f5f"
          },
          "geo": {
           "bgcolor": "white",
           "lakecolor": "white",
           "landcolor": "#E5ECF6",
           "showlakes": true,
           "showland": true,
           "subunitcolor": "white"
          },
          "hoverlabel": {
           "align": "left"
          },
          "hovermode": "closest",
          "mapbox": {
           "style": "light"
          },
          "paper_bgcolor": "white",
          "plot_bgcolor": "#E5ECF6",
          "polar": {
           "angularaxis": {
            "gridcolor": "white",
            "linecolor": "white",
            "ticks": ""
           },
           "bgcolor": "#E5ECF6",
           "radialaxis": {
            "gridcolor": "white",
            "linecolor": "white",
            "ticks": ""
           }
          },
          "scene": {
           "xaxis": {
            "backgroundcolor": "#E5ECF6",
            "gridcolor": "white",
            "gridwidth": 2,
            "linecolor": "white",
            "showbackground": true,
            "ticks": "",
            "zerolinecolor": "white"
           },
           "yaxis": {
            "backgroundcolor": "#E5ECF6",
            "gridcolor": "white",
            "gridwidth": 2,
            "linecolor": "white",
            "showbackground": true,
            "ticks": "",
            "zerolinecolor": "white"
           },
           "zaxis": {
            "backgroundcolor": "#E5ECF6",
            "gridcolor": "white",
            "gridwidth": 2,
            "linecolor": "white",
            "showbackground": true,
            "ticks": "",
            "zerolinecolor": "white"
           }
          },
          "shapedefaults": {
           "line": {
            "color": "#2a3f5f"
           }
          },
          "ternary": {
           "aaxis": {
            "gridcolor": "white",
            "linecolor": "white",
            "ticks": ""
           },
           "baxis": {
            "gridcolor": "white",
            "linecolor": "white",
            "ticks": ""
           },
           "bgcolor": "#E5ECF6",
           "caxis": {
            "gridcolor": "white",
            "linecolor": "white",
            "ticks": ""
           }
          },
          "title": {
           "x": 0.05
          },
          "xaxis": {
           "automargin": true,
           "gridcolor": "white",
           "linecolor": "white",
           "ticks": "",
           "title": {
            "standoff": 15
           },
           "zerolinecolor": "white",
           "zerolinewidth": 2
          },
          "yaxis": {
           "automargin": true,
           "gridcolor": "white",
           "linecolor": "white",
           "ticks": "",
           "title": {
            "standoff": 15
           },
           "zerolinecolor": "white",
           "zerolinewidth": 2
          }
         }
        },
        "xaxis": {
         "anchor": "y",
         "domain": [
          0,
          1
         ],
         "title": {
          "text": "index"
         }
        },
        "yaxis": {
         "anchor": "x",
         "domain": [
          0,
          1
         ],
         "title": {
          "text": "value"
         }
        }
       }
      }
     },
     "metadata": {}
    }
   ],
   "source": [
    "# plotly_contour_chart\n",
    "fig = px.density_contour(df_matrix)\n",
    "fig.show()"
   ]
  },
  {
   "cell_type": "code",
   "execution_count": 93,
   "metadata": {},
   "outputs": [
    {
     "output_type": "display_data",
     "data": {
      "application/vnd.plotly.v1+json": {
       "config": {
        "plotlyServerURL": "https://plot.ly"
       },
       "data": [
        {
         "alignmentgroup": "True",
         "hovertemplate": "x=%{x}<br>y=%{y}<extra></extra>",
         "legendgroup": "",
         "marker": {
          "color": "#636efa"
         },
         "name": "",
         "offsetgroup": "",
         "orientation": "v",
         "showlegend": false,
         "textposition": "auto",
         "type": "bar",
         "x": [
          0.5319610025898172,
          0.7713127230333698,
          0.9766081793881434,
          1.3490400629771304,
          1.5497685692847873,
          1.1448713725304653,
          1.4424057440468026,
          0.02315533030115602,
          1.7089210698708024,
          0.10059085311821003,
          0.09913527225718988,
          1.1403375957102417,
          0.36135791284185714,
          0.10852915255527917,
          1.3110875900029682,
          0.1653331460681977,
          0.005173441471192586,
          0.8564195696745629,
          0.392486312067889,
          0.06393345359901503,
          1.2352861560356072,
          0.8590226729535015,
          1.4686036114678076,
          0.4884076675047371,
          1.537261453429627,
          0.5363785768714602,
          0.9868934043433764,
          1.077055646975214,
          0.4388431538474309,
          1.6168157705731259,
          1.0391778582459477,
          1.4204242849980138,
          1.9595028710965736,
          1.8470876674051013,
          1.0029745663434422,
          0.08175084407360322,
          1.4652911495109129,
          1.7788992231912126,
          0.2241545810784924,
          1.7557400099252047,
          0.7399781637107212,
          1.1341419657696863,
          1.049580385826994,
          0.2692098126148721,
          1.772002670884723,
          1.7233019417817683,
          0.4510183018097471,
          0.5315857155811359,
          1.9138044508410703,
          0.9088338060629315
         ],
         "xaxis": "x",
         "y": [
          -0.4706121996164013,
          -0.7723871611104574,
          -0.3734611880692992,
          -0.5907243620852488,
          -0.7417583855756827,
          -0.9880963465414184,
          -0.7568474593366046,
          -0.14103007699346515,
          -0.09708621142114493,
          -0.01255830244945677,
          -0.05502049393283759,
          -0.9399139518089039,
          -0.4944332712481575,
          -0.46516638716996406,
          -0.47540327955459705,
          -0.5743145501680172,
          -0.12945787747570692,
          -0.647654147785795,
          -0.5218093789706483,
          -0.866461268810777,
          -0.5486826246921629,
          -0.30127630002653116,
          -0.36729032268926354,
          -0.457715533056391,
          -0.7165785746691454,
          -0.7389741178679774,
          -0.3149606353776474,
          -0.9853398955569131,
          -0.45334683184458047,
          -0.4336498212561326,
          -0.4792507171937447,
          -0.3367668138858544,
          -0.7080472855845904,
          -0.3861112322613932,
          -0.8746672022596779,
          -0.054097664702895565,
          -0.20913442513160696,
          -0.46357898714995516,
          -0.32311275116613347,
          -0.5199695530862968,
          -0.9404919057170714,
          -0.5556314035279127,
          -0.04549601046394325,
          -0.48866254837250067,
          -0.16264633674434725,
          -0.9044309532996989,
          -0.5226366749773423,
          -0.9209675996078943,
          -0.8838434226069601,
          -0.7999563106678167
         ],
         "yaxis": "y"
        },
        {
         "type": "scatter",
         "x": [
          0.5319610025898172,
          0.7713127230333698,
          0.9766081793881434,
          1.3490400629771304,
          1.5497685692847873,
          1.1448713725304653,
          1.4424057440468026,
          0.02315533030115602,
          1.7089210698708024,
          0.10059085311821003,
          0.09913527225718988,
          1.1403375957102417,
          0.36135791284185714,
          0.10852915255527917,
          1.3110875900029682,
          0.1653331460681977,
          0.005173441471192586,
          0.8564195696745629,
          0.392486312067889,
          0.06393345359901503,
          1.2352861560356072,
          0.8590226729535015,
          1.4686036114678076,
          0.4884076675047371,
          1.537261453429627,
          0.5363785768714602,
          0.9868934043433764,
          1.077055646975214,
          0.4388431538474309,
          1.6168157705731259,
          1.0391778582459477,
          1.4204242849980138,
          1.9595028710965736,
          1.8470876674051013,
          1.0029745663434422,
          0.08175084407360322,
          1.4652911495109129,
          1.7788992231912126,
          0.2241545810784924,
          1.7557400099252047,
          0.7399781637107212,
          1.1341419657696863,
          1.049580385826994,
          0.2692098126148721,
          1.772002670884723,
          1.7233019417817683,
          0.4510183018097471,
          0.5315857155811359,
          1.9138044508410703,
          0.9088338060629315
         ],
         "y": [
          -0.4706121996164013,
          -0.7723871611104574,
          -0.3734611880692992,
          -0.5907243620852488,
          -0.7417583855756827,
          -0.9880963465414184,
          -0.7568474593366046,
          -0.14103007699346515,
          -0.09708621142114493,
          -0.01255830244945677,
          -0.05502049393283759,
          -0.9399139518089039,
          -0.4944332712481575,
          -0.46516638716996406,
          -0.47540327955459705,
          -0.5743145501680172,
          -0.12945787747570692,
          -0.647654147785795,
          -0.5218093789706483,
          -0.866461268810777,
          -0.5486826246921629,
          -0.30127630002653116,
          -0.36729032268926354,
          -0.457715533056391,
          -0.7165785746691454,
          -0.7389741178679774,
          -0.3149606353776474,
          -0.9853398955569131,
          -0.45334683184458047,
          -0.4336498212561326,
          -0.4792507171937447,
          -0.3367668138858544,
          -0.7080472855845904,
          -0.3861112322613932,
          -0.8746672022596779,
          -0.054097664702895565,
          -0.20913442513160696,
          -0.46357898714995516,
          -0.32311275116613347,
          -0.5199695530862968,
          -0.9404919057170714,
          -0.5556314035279127,
          -0.04549601046394325,
          -0.48866254837250067,
          -0.16264633674434725,
          -0.9044309532996989,
          -0.5226366749773423,
          -0.9209675996078943,
          -0.8838434226069601,
          -0.7999563106678167
         ]
        }
       ],
       "layout": {
        "barmode": "relative",
        "legend": {
         "tracegroupgap": 0
        },
        "margin": {
         "t": 60
        },
        "template": {
         "data": {
          "bar": [
           {
            "error_x": {
             "color": "#2a3f5f"
            },
            "error_y": {
             "color": "#2a3f5f"
            },
            "marker": {
             "line": {
              "color": "#E5ECF6",
              "width": 0.5
             }
            },
            "type": "bar"
           }
          ],
          "barpolar": [
           {
            "marker": {
             "line": {
              "color": "#E5ECF6",
              "width": 0.5
             }
            },
            "type": "barpolar"
           }
          ],
          "carpet": [
           {
            "aaxis": {
             "endlinecolor": "#2a3f5f",
             "gridcolor": "white",
             "linecolor": "white",
             "minorgridcolor": "white",
             "startlinecolor": "#2a3f5f"
            },
            "baxis": {
             "endlinecolor": "#2a3f5f",
             "gridcolor": "white",
             "linecolor": "white",
             "minorgridcolor": "white",
             "startlinecolor": "#2a3f5f"
            },
            "type": "carpet"
           }
          ],
          "choropleth": [
           {
            "colorbar": {
             "outlinewidth": 0,
             "ticks": ""
            },
            "type": "choropleth"
           }
          ],
          "contour": [
           {
            "colorbar": {
             "outlinewidth": 0,
             "ticks": ""
            },
            "colorscale": [
             [
              0,
              "#0d0887"
             ],
             [
              0.1111111111111111,
              "#46039f"
             ],
             [
              0.2222222222222222,
              "#7201a8"
             ],
             [
              0.3333333333333333,
              "#9c179e"
             ],
             [
              0.4444444444444444,
              "#bd3786"
             ],
             [
              0.5555555555555556,
              "#d8576b"
             ],
             [
              0.6666666666666666,
              "#ed7953"
             ],
             [
              0.7777777777777778,
              "#fb9f3a"
             ],
             [
              0.8888888888888888,
              "#fdca26"
             ],
             [
              1,
              "#f0f921"
             ]
            ],
            "type": "contour"
           }
          ],
          "contourcarpet": [
           {
            "colorbar": {
             "outlinewidth": 0,
             "ticks": ""
            },
            "type": "contourcarpet"
           }
          ],
          "heatmap": [
           {
            "colorbar": {
             "outlinewidth": 0,
             "ticks": ""
            },
            "colorscale": [
             [
              0,
              "#0d0887"
             ],
             [
              0.1111111111111111,
              "#46039f"
             ],
             [
              0.2222222222222222,
              "#7201a8"
             ],
             [
              0.3333333333333333,
              "#9c179e"
             ],
             [
              0.4444444444444444,
              "#bd3786"
             ],
             [
              0.5555555555555556,
              "#d8576b"
             ],
             [
              0.6666666666666666,
              "#ed7953"
             ],
             [
              0.7777777777777778,
              "#fb9f3a"
             ],
             [
              0.8888888888888888,
              "#fdca26"
             ],
             [
              1,
              "#f0f921"
             ]
            ],
            "type": "heatmap"
           }
          ],
          "heatmapgl": [
           {
            "colorbar": {
             "outlinewidth": 0,
             "ticks": ""
            },
            "colorscale": [
             [
              0,
              "#0d0887"
             ],
             [
              0.1111111111111111,
              "#46039f"
             ],
             [
              0.2222222222222222,
              "#7201a8"
             ],
             [
              0.3333333333333333,
              "#9c179e"
             ],
             [
              0.4444444444444444,
              "#bd3786"
             ],
             [
              0.5555555555555556,
              "#d8576b"
             ],
             [
              0.6666666666666666,
              "#ed7953"
             ],
             [
              0.7777777777777778,
              "#fb9f3a"
             ],
             [
              0.8888888888888888,
              "#fdca26"
             ],
             [
              1,
              "#f0f921"
             ]
            ],
            "type": "heatmapgl"
           }
          ],
          "histogram": [
           {
            "marker": {
             "colorbar": {
              "outlinewidth": 0,
              "ticks": ""
             }
            },
            "type": "histogram"
           }
          ],
          "histogram2d": [
           {
            "colorbar": {
             "outlinewidth": 0,
             "ticks": ""
            },
            "colorscale": [
             [
              0,
              "#0d0887"
             ],
             [
              0.1111111111111111,
              "#46039f"
             ],
             [
              0.2222222222222222,
              "#7201a8"
             ],
             [
              0.3333333333333333,
              "#9c179e"
             ],
             [
              0.4444444444444444,
              "#bd3786"
             ],
             [
              0.5555555555555556,
              "#d8576b"
             ],
             [
              0.6666666666666666,
              "#ed7953"
             ],
             [
              0.7777777777777778,
              "#fb9f3a"
             ],
             [
              0.8888888888888888,
              "#fdca26"
             ],
             [
              1,
              "#f0f921"
             ]
            ],
            "type": "histogram2d"
           }
          ],
          "histogram2dcontour": [
           {
            "colorbar": {
             "outlinewidth": 0,
             "ticks": ""
            },
            "colorscale": [
             [
              0,
              "#0d0887"
             ],
             [
              0.1111111111111111,
              "#46039f"
             ],
             [
              0.2222222222222222,
              "#7201a8"
             ],
             [
              0.3333333333333333,
              "#9c179e"
             ],
             [
              0.4444444444444444,
              "#bd3786"
             ],
             [
              0.5555555555555556,
              "#d8576b"
             ],
             [
              0.6666666666666666,
              "#ed7953"
             ],
             [
              0.7777777777777778,
              "#fb9f3a"
             ],
             [
              0.8888888888888888,
              "#fdca26"
             ],
             [
              1,
              "#f0f921"
             ]
            ],
            "type": "histogram2dcontour"
           }
          ],
          "mesh3d": [
           {
            "colorbar": {
             "outlinewidth": 0,
             "ticks": ""
            },
            "type": "mesh3d"
           }
          ],
          "parcoords": [
           {
            "line": {
             "colorbar": {
              "outlinewidth": 0,
              "ticks": ""
             }
            },
            "type": "parcoords"
           }
          ],
          "pie": [
           {
            "automargin": true,
            "type": "pie"
           }
          ],
          "scatter": [
           {
            "marker": {
             "colorbar": {
              "outlinewidth": 0,
              "ticks": ""
             }
            },
            "type": "scatter"
           }
          ],
          "scatter3d": [
           {
            "line": {
             "colorbar": {
              "outlinewidth": 0,
              "ticks": ""
             }
            },
            "marker": {
             "colorbar": {
              "outlinewidth": 0,
              "ticks": ""
             }
            },
            "type": "scatter3d"
           }
          ],
          "scattercarpet": [
           {
            "marker": {
             "colorbar": {
              "outlinewidth": 0,
              "ticks": ""
             }
            },
            "type": "scattercarpet"
           }
          ],
          "scattergeo": [
           {
            "marker": {
             "colorbar": {
              "outlinewidth": 0,
              "ticks": ""
             }
            },
            "type": "scattergeo"
           }
          ],
          "scattergl": [
           {
            "marker": {
             "colorbar": {
              "outlinewidth": 0,
              "ticks": ""
             }
            },
            "type": "scattergl"
           }
          ],
          "scattermapbox": [
           {
            "marker": {
             "colorbar": {
              "outlinewidth": 0,
              "ticks": ""
             }
            },
            "type": "scattermapbox"
           }
          ],
          "scatterpolar": [
           {
            "marker": {
             "colorbar": {
              "outlinewidth": 0,
              "ticks": ""
             }
            },
            "type": "scatterpolar"
           }
          ],
          "scatterpolargl": [
           {
            "marker": {
             "colorbar": {
              "outlinewidth": 0,
              "ticks": ""
             }
            },
            "type": "scatterpolargl"
           }
          ],
          "scatterternary": [
           {
            "marker": {
             "colorbar": {
              "outlinewidth": 0,
              "ticks": ""
             }
            },
            "type": "scatterternary"
           }
          ],
          "surface": [
           {
            "colorbar": {
             "outlinewidth": 0,
             "ticks": ""
            },
            "colorscale": [
             [
              0,
              "#0d0887"
             ],
             [
              0.1111111111111111,
              "#46039f"
             ],
             [
              0.2222222222222222,
              "#7201a8"
             ],
             [
              0.3333333333333333,
              "#9c179e"
             ],
             [
              0.4444444444444444,
              "#bd3786"
             ],
             [
              0.5555555555555556,
              "#d8576b"
             ],
             [
              0.6666666666666666,
              "#ed7953"
             ],
             [
              0.7777777777777778,
              "#fb9f3a"
             ],
             [
              0.8888888888888888,
              "#fdca26"
             ],
             [
              1,
              "#f0f921"
             ]
            ],
            "type": "surface"
           }
          ],
          "table": [
           {
            "cells": {
             "fill": {
              "color": "#EBF0F8"
             },
             "line": {
              "color": "white"
             }
            },
            "header": {
             "fill": {
              "color": "#C8D4E3"
             },
             "line": {
              "color": "white"
             }
            },
            "type": "table"
           }
          ]
         },
         "layout": {
          "annotationdefaults": {
           "arrowcolor": "#2a3f5f",
           "arrowhead": 0,
           "arrowwidth": 1
          },
          "coloraxis": {
           "colorbar": {
            "outlinewidth": 0,
            "ticks": ""
           }
          },
          "colorscale": {
           "diverging": [
            [
             0,
             "#8e0152"
            ],
            [
             0.1,
             "#c51b7d"
            ],
            [
             0.2,
             "#de77ae"
            ],
            [
             0.3,
             "#f1b6da"
            ],
            [
             0.4,
             "#fde0ef"
            ],
            [
             0.5,
             "#f7f7f7"
            ],
            [
             0.6,
             "#e6f5d0"
            ],
            [
             0.7,
             "#b8e186"
            ],
            [
             0.8,
             "#7fbc41"
            ],
            [
             0.9,
             "#4d9221"
            ],
            [
             1,
             "#276419"
            ]
           ],
           "sequential": [
            [
             0,
             "#0d0887"
            ],
            [
             0.1111111111111111,
             "#46039f"
            ],
            [
             0.2222222222222222,
             "#7201a8"
            ],
            [
             0.3333333333333333,
             "#9c179e"
            ],
            [
             0.4444444444444444,
             "#bd3786"
            ],
            [
             0.5555555555555556,
             "#d8576b"
            ],
            [
             0.6666666666666666,
             "#ed7953"
            ],
            [
             0.7777777777777778,
             "#fb9f3a"
            ],
            [
             0.8888888888888888,
             "#fdca26"
            ],
            [
             1,
             "#f0f921"
            ]
           ],
           "sequentialminus": [
            [
             0,
             "#0d0887"
            ],
            [
             0.1111111111111111,
             "#46039f"
            ],
            [
             0.2222222222222222,
             "#7201a8"
            ],
            [
             0.3333333333333333,
             "#9c179e"
            ],
            [
             0.4444444444444444,
             "#bd3786"
            ],
            [
             0.5555555555555556,
             "#d8576b"
            ],
            [
             0.6666666666666666,
             "#ed7953"
            ],
            [
             0.7777777777777778,
             "#fb9f3a"
            ],
            [
             0.8888888888888888,
             "#fdca26"
            ],
            [
             1,
             "#f0f921"
            ]
           ]
          },
          "colorway": [
           "#636efa",
           "#EF553B",
           "#00cc96",
           "#ab63fa",
           "#FFA15A",
           "#19d3f3",
           "#FF6692",
           "#B6E880",
           "#FF97FF",
           "#FECB52"
          ],
          "font": {
           "color": "#2a3f5f"
          },
          "geo": {
           "bgcolor": "white",
           "lakecolor": "white",
           "landcolor": "#E5ECF6",
           "showlakes": true,
           "showland": true,
           "subunitcolor": "white"
          },
          "hoverlabel": {
           "align": "left"
          },
          "hovermode": "closest",
          "mapbox": {
           "style": "light"
          },
          "paper_bgcolor": "white",
          "plot_bgcolor": "#E5ECF6",
          "polar": {
           "angularaxis": {
            "gridcolor": "white",
            "linecolor": "white",
            "ticks": ""
           },
           "bgcolor": "#E5ECF6",
           "radialaxis": {
            "gridcolor": "white",
            "linecolor": "white",
            "ticks": ""
           }
          },
          "scene": {
           "xaxis": {
            "backgroundcolor": "#E5ECF6",
            "gridcolor": "white",
            "gridwidth": 2,
            "linecolor": "white",
            "showbackground": true,
            "ticks": "",
            "zerolinecolor": "white"
           },
           "yaxis": {
            "backgroundcolor": "#E5ECF6",
            "gridcolor": "white",
            "gridwidth": 2,
            "linecolor": "white",
            "showbackground": true,
            "ticks": "",
            "zerolinecolor": "white"
           },
           "zaxis": {
            "backgroundcolor": "#E5ECF6",
            "gridcolor": "white",
            "gridwidth": 2,
            "linecolor": "white",
            "showbackground": true,
            "ticks": "",
            "zerolinecolor": "white"
           }
          },
          "shapedefaults": {
           "line": {
            "color": "#2a3f5f"
           }
          },
          "ternary": {
           "aaxis": {
            "gridcolor": "white",
            "linecolor": "white",
            "ticks": ""
           },
           "baxis": {
            "gridcolor": "white",
            "linecolor": "white",
            "ticks": ""
           },
           "bgcolor": "#E5ECF6",
           "caxis": {
            "gridcolor": "white",
            "linecolor": "white",
            "ticks": ""
           }
          },
          "title": {
           "x": 0.05
          },
          "xaxis": {
           "automargin": true,
           "gridcolor": "white",
           "linecolor": "white",
           "ticks": "",
           "title": {
            "standoff": 15
           },
           "zerolinecolor": "white",
           "zerolinewidth": 2
          },
          "yaxis": {
           "automargin": true,
           "gridcolor": "white",
           "linecolor": "white",
           "ticks": "",
           "title": {
            "standoff": 15
           },
           "zerolinecolor": "white",
           "zerolinewidth": 2
          }
         }
        },
        "xaxis": {
         "anchor": "y",
         "domain": [
          0,
          1
         ],
         "title": {
          "text": "x"
         }
        },
        "yaxis": {
         "anchor": "x",
         "domain": [
          0,
          1
         ],
         "title": {
          "text": "y"
         }
        }
       }
      }
     },
     "metadata": {}
    }
   ],
   "source": [
    "# plotly_composite_line_bar\n",
    "fig = px.bar(df, x=\"x\", y=\"y\")\n",
    "fig.add_trace(go.Scatter(x=df['x'], y=df['y']))\n",
    "fig.show()"
   ]
  },
  {
   "cell_type": "code",
   "execution_count": 97,
   "metadata": {},
   "outputs": [
    {
     "output_type": "execute_result",
     "data": {
      "text/plain": [
       "         x1        y1        x2        y2        x3        y3        x4  \\\n",
       "0  0.748255  4.425010 -0.253013 -5.704043  4.437969  0.162163 -1.850792   \n",
       "1  0.256017  8.711744 -0.111760 -3.673002  2.538519  1.028051 -0.823334   \n",
       "2  0.665605  8.846334 -0.319179 -6.269148  7.778995  1.030900 -0.030309   \n",
       "3  0.547155  5.507519 -0.012245 -5.526401  6.266150  1.374390 -0.577784   \n",
       "4  0.014928  6.154462 -0.495215 -5.029147  5.652299  2.240195 -0.265669   \n",
       "\n",
       "         y4  \n",
       "0  2.649444  \n",
       "1  4.718583  \n",
       "2  1.082423  \n",
       "3  2.748762  \n",
       "4  4.651754  "
      ],
      "text/html": "<div>\n<style scoped>\n    .dataframe tbody tr th:only-of-type {\n        vertical-align: middle;\n    }\n\n    .dataframe tbody tr th {\n        vertical-align: top;\n    }\n\n    .dataframe thead th {\n        text-align: right;\n    }\n</style>\n<table border=\"1\" class=\"dataframe\">\n  <thead>\n    <tr style=\"text-align: right;\">\n      <th></th>\n      <th>x1</th>\n      <th>y1</th>\n      <th>x2</th>\n      <th>y2</th>\n      <th>x3</th>\n      <th>y3</th>\n      <th>x4</th>\n      <th>y4</th>\n    </tr>\n  </thead>\n  <tbody>\n    <tr>\n      <th>0</th>\n      <td>0.748255</td>\n      <td>4.425010</td>\n      <td>-0.253013</td>\n      <td>-5.704043</td>\n      <td>4.437969</td>\n      <td>0.162163</td>\n      <td>-1.850792</td>\n      <td>2.649444</td>\n    </tr>\n    <tr>\n      <th>1</th>\n      <td>0.256017</td>\n      <td>8.711744</td>\n      <td>-0.111760</td>\n      <td>-3.673002</td>\n      <td>2.538519</td>\n      <td>1.028051</td>\n      <td>-0.823334</td>\n      <td>4.718583</td>\n    </tr>\n    <tr>\n      <th>2</th>\n      <td>0.665605</td>\n      <td>8.846334</td>\n      <td>-0.319179</td>\n      <td>-6.269148</td>\n      <td>7.778995</td>\n      <td>1.030900</td>\n      <td>-0.030309</td>\n      <td>1.082423</td>\n    </tr>\n    <tr>\n      <th>3</th>\n      <td>0.547155</td>\n      <td>5.507519</td>\n      <td>-0.012245</td>\n      <td>-5.526401</td>\n      <td>6.266150</td>\n      <td>1.374390</td>\n      <td>-0.577784</td>\n      <td>2.748762</td>\n    </tr>\n    <tr>\n      <th>4</th>\n      <td>0.014928</td>\n      <td>6.154462</td>\n      <td>-0.495215</td>\n      <td>-5.029147</td>\n      <td>5.652299</td>\n      <td>2.240195</td>\n      <td>-0.265669</td>\n      <td>4.651754</td>\n    </tr>\n  </tbody>\n</table>\n</div>"
     },
     "metadata": {},
     "execution_count": 97
    }
   ],
   "source": [
    "df_last = pd.DataFrame(dict(x1=np.random.rand(50) * np.random.randint(-10, 10), y1=np.random.rand(50) * np.random.randint(-10, 10), x2=np.random.rand(50) * np.random.randint(-10, 10), y2=np.random.rand(50) * np.random.randint(-10, 10),                     x3=np.random.rand(50) * np.random.randint(-10, 10), y3=np.random.rand(50) * np.random.randint(-10, 10),                     x4=np.random.rand(50) * np.random.randint(-10, 10), y4=np.random.rand(50) * np.random.randint(-10, 10)))\n",
    "df_last.head()"
   ]
  },
  {
   "cell_type": "code",
   "execution_count": 113,
   "metadata": {},
   "outputs": [
    {
     "output_type": "display_data",
     "data": {
      "application/vnd.plotly.v1+json": {
       "config": {
        "plotlyServerURL": "https://plot.ly"
       },
       "data": [
        {
         "type": "scatter",
         "x": [
          0.7482554973227817,
          0.2560171203185435,
          0.6656047353965562,
          0.547155054707835,
          0.014928078228011787,
          0.6201628651796958,
          0.731262742735771,
          0.3878208153235585,
          0.11337459295633556,
          0.4347700610555648,
          0.037040052695449854,
          0.06475449779859388,
          0.5093271108748906,
          0.4237394671797481,
          0.4345780647975931,
          0.13828196241833535,
          0.031697723756656915,
          0.02904186415915644,
          0.8360474626680485,
          0.1643627986320343,
          0.1845175953542193,
          0.6354200551995768,
          0.2687020617434217,
          0.6841623983390226,
          0.4780315268738854,
          0.04587009518259855,
          0.9654244447685468,
          0.6062335328646292,
          0.3879720930315995,
          0.8816363024697501,
          0.5183546651775939,
          0.9348287061407093,
          0.9922870776266729,
          0.9829312550765239,
          0.7763262379760059,
          0.011035600893318787,
          0.2505685161148069,
          0.7088434277546956,
          0.4141441407150568,
          0.3601673798106265,
          0.5778469231042273,
          0.830990406782046,
          0.8375049360704063,
          0.09907339736484488,
          0.14709576396159318,
          0.36985573439212205,
          0.05133167145097228,
          0.4663698786274678,
          0.8596204764256797,
          0.1837525724729271
         ],
         "xaxis": "x",
         "y": [
          4.425009951610681,
          8.711744152545869,
          8.846333818858655,
          5.507519386653562,
          6.154461834094907,
          3.143692653438773,
          4.62956058521782,
          4.604224884399958,
          7.477036721488166,
          5.616448081361474,
          2.5036846034538285,
          2.827311568811438,
          1.9653714051483315,
          6.698097977666848,
          7.092134378406147,
          3.6687887502300716,
          1.451932401115259,
          6.930034848986126,
          3.4043977781953005,
          0.25344029733415696,
          1.4940432234326604,
          8.558049272646327,
          4.112853973888082,
          1.9878315179905153,
          3.5551386872226414,
          0.04136923444975105,
          0.6215600510887125,
          0.9056803291168488,
          0.8344439853063988,
          6.636965892948496,
          6.537717834251084,
          3.1819056310706015,
          4.2862587526073614,
          5.522005991434081,
          3.9229283784563913,
          5.719311740076905,
          3.202241641781573,
          5.362657431453065,
          8.085477429802918,
          5.2219560060365975,
          6.2794490035643316,
          7.930699893468739,
          2.7565010693880527,
          5.905604358594392,
          0.09447431413062013,
          5.3342947635269375,
          4.49583705458079,
          2.9025789785121803,
          0.04681708664118378,
          7.741953582571007
         ],
         "yaxis": "y"
        },
        {
         "mode": "markers",
         "type": "scatter",
         "x": [
          -0.25301347429529764,
          -0.11175981586395745,
          -0.3191793236476361,
          -0.012245251987775485,
          -0.49521508644351997,
          -0.48177274066820985,
          -0.4428046528015469,
          -0.35314868750370565,
          -0.821765433279377,
          -0.4447267007526614,
          -0.5536483819567707,
          -0.9192953358000294,
          -0.5713504810540787,
          -0.8066292557100956,
          -0.6075475299591198,
          -0.49677662190721306,
          -0.5564834620118111,
          -0.3892579482183235,
          -0.23145111425107356,
          -0.7174420105446837,
          -0.4112147190173504,
          -0.032599529807807004,
          -0.5449918381730795,
          -0.611658249694283,
          -0.640573487525248,
          -0.3896010722600016,
          -0.09200957644546015,
          -0.6031704004589802,
          -0.9742147294560797,
          -0.12437725618011264,
          -0.8812669505951699,
          -0.28644938915303997,
          -0.09993968996670144,
          -0.0707882900556126,
          -0.6042524626085184,
          -0.5334157932771195,
          -0.5596695387719838,
          -0.34752390261578614,
          -0.044027992285366135,
          -0.05068192016589157,
          -0.15338809741184312,
          -0.9009018556619809,
          -0.23222701185622774,
          -0.6607224329882693,
          -0.19716180856387044,
          -0.8591211400943796,
          -0.6648920223102458,
          -0.8264082864448503,
          -0.00233612398857308,
          -0.1317576257957419
         ],
         "xaxis": "x2",
         "y": [
          -5.704042540101299,
          -3.6730017560821793,
          -6.269147589124327,
          -5.526400914654996,
          -5.0291473771662165,
          -0.6093620828539539,
          -0.3795025084567252,
          -4.431181436901215,
          -1.9012889570291134,
          -3.313004266854841,
          -0.7442160695423681,
          -4.8766023966791066,
          -3.8484682970653976,
          -0.401785245660384,
          -0.8291577462251761,
          -4.289843023612261,
          -6.378408300470471,
          -3.6719955398179085,
          -3.3547818890065844,
          -0.976168971859462,
          -5.441087729967304,
          -4.009993223641517,
          -3.131313451164313,
          -2.7603402668979338,
          -6.000413385652995,
          -6.506224835215728,
          -1.6699490968311763,
          -0.2607130988871583,
          -3.0756602618584217,
          -3.4074133317894857,
          -2.6878076761376057,
          -3.749978802022779,
          -0.47857122859999957,
          -0.1029009139353424,
          -5.486419618860942,
          -2.730070957145728,
          -0.5720728492374695,
          -4.207306490249839,
          -3.234173415181478,
          -4.640091260549227,
          -5.636671585122684,
          -2.474774903255865,
          -4.274126553984135,
          -2.0976944324886464,
          -0.17678518718757663,
          -4.560393960857836,
          -6.608567866042993,
          -1.150425964673961,
          -1.2030067567728562,
          -6.655178383712128
         ],
         "yaxis": "y2"
        },
        {
         "type": "bar",
         "x": [
          4.4379685521343095,
          2.5385188091286883,
          7.778995204813304,
          6.266150238299426,
          5.652299198122641,
          1.977564190469587,
          5.063892810272671,
          5.445241673727913,
          3.5696100786024605,
          7.505223552413532,
          6.984825206541517,
          8.82115032625271,
          6.589361712985248,
          4.5109126063868175,
          0.8516327552732812,
          3.706339758278859,
          1.567456567185788,
          7.951560909417088,
          5.919343894353415,
          4.005749648180964,
          5.644044889571321,
          5.6697730209084085,
          2.7318852765172066,
          8.422469666260357,
          1.5378653220013736,
          6.6044241326455575,
          5.697004538456383,
          5.190134313710713,
          7.429693770583213,
          1.8010859574731735,
          3.171522752247058,
          2.6832384525922346,
          5.274583300272069,
          6.873161408313766,
          7.451929590804033,
          2.407394734046078,
          6.676200769547118,
          8.31087907487126,
          4.867015069892272,
          0.3474593534766892,
          5.631413262942156,
          2.8565197065586965,
          4.127528204446055,
          1.4949576839647971,
          4.782265484434716,
          6.419148538340584,
          6.381112603324995,
          6.6730145628917406,
          4.024707802652473,
          8.697479518849269
         ],
         "xaxis": "x3",
         "y": [
          0,
          1,
          2,
          3,
          4,
          5,
          6,
          7,
          8,
          9,
          10,
          11,
          12,
          13,
          14,
          15,
          16,
          17,
          18,
          19,
          20,
          21,
          22,
          23,
          24,
          25,
          26,
          27,
          28,
          29,
          30,
          31,
          32,
          33,
          34,
          35,
          36,
          37,
          38,
          39,
          40,
          41,
          42,
          43,
          44,
          45,
          46,
          47,
          48,
          49
         ],
         "yaxis": "y3"
        },
        {
         "stackgroup": "one",
         "type": "scatter",
         "x": [
          4.4379685521343095,
          2.5385188091286883,
          7.778995204813304,
          6.266150238299426,
          5.652299198122641,
          1.977564190469587,
          5.063892810272671,
          5.445241673727913,
          3.5696100786024605,
          7.505223552413532,
          6.984825206541517,
          8.82115032625271,
          6.589361712985248,
          4.5109126063868175,
          0.8516327552732812,
          3.706339758278859,
          1.567456567185788,
          7.951560909417088,
          5.919343894353415,
          4.005749648180964,
          5.644044889571321,
          5.6697730209084085,
          2.7318852765172066,
          8.422469666260357,
          1.5378653220013736,
          6.6044241326455575,
          5.697004538456383,
          5.190134313710713,
          7.429693770583213,
          1.8010859574731735,
          3.171522752247058,
          2.6832384525922346,
          5.274583300272069,
          6.873161408313766,
          7.451929590804033,
          2.407394734046078,
          6.676200769547118,
          8.31087907487126,
          4.867015069892272,
          0.3474593534766892,
          5.631413262942156,
          2.8565197065586965,
          4.127528204446055,
          1.4949576839647971,
          4.782265484434716,
          6.419148538340584,
          6.381112603324995,
          6.6730145628917406,
          4.024707802652473,
          8.697479518849269
         ],
         "xaxis": "x4",
         "y": [
          0.16216265468340296,
          1.0280513217145937,
          1.0309000234899073,
          1.374389909106126,
          2.240194855701719,
          2.2435635897831925,
          2.5344841732193917,
          0.5990014085419954,
          0.7067534936896537,
          1.0353001329039149,
          0.524372876449408,
          0.10282379479866477,
          1.1521488487519111,
          2.41115487778881,
          0.26332528846682157,
          1.0352934338773214,
          0.5221028758243225,
          0.2038546336897421,
          1.7228813224262118,
          0.6733621754606864,
          2.7109534498365706,
          2.7115796727317867,
          2.497604179512945,
          2.8461669443236235,
          2.19034247681203,
          1.9606915215962872,
          1.8916773071537614,
          0.2473739663380402,
          0.6301509331341072,
          0.2428019569008203,
          2.0106659459990808,
          0.06564641232787005,
          2.950832223503868,
          1.9022002953019153,
          2.6419310443815105,
          2.6052501309633795,
          0.5463924559272649,
          1.1422365345610372,
          0.40720980473339063,
          2.5650762182868094,
          0.5223529884839607,
          2.7618351092354803,
          0.35529267217617844,
          2.471658597327765,
          2.6408124921704568,
          0.9710922590752541,
          0.6007073866846407,
          2.953845442072726,
          0.25262748892477227,
          1.6075565974815977
         ],
         "yaxis": "y4"
        },
        {
         "stackgroup": "one",
         "type": "scatter",
         "x": [
          -1.8507918909112662,
          -0.8233340343120625,
          -0.030309195995449123,
          -0.5777843625951862,
          -0.265668802290945,
          -2.4854577261435407,
          -2.6202533923811084,
          -3.8301357670360185,
          -2.949395381674923,
          -1.6106462778192134,
          -3.117137227879197,
          -0.3099700103534748,
          -2.0038256000016594,
          -2.9740650828536084,
          -0.6506913635023825,
          -1.5103169792661264,
          -1.5984178117686274,
          -3.1576874523580236,
          -3.444266733820786,
          -2.757338235260548,
          -1.4225475482154226,
          -3.4726455914708603,
          -3.523399626018345,
          -2.930176111328342,
          -0.9556844538441256,
          -0.12225478571956572,
          -2.933533379773546,
          -3.176360621824867,
          -1.531582813759416,
          -2.5246253029398833,
          -1.321190531450346,
          -2.900376993588161,
          -3.558719523246284,
          -2.147933488678426,
          -3.585252088433066,
          -3.5502715355868424,
          -0.9161520743609439,
          -2.5861183698485024,
          -0.4890551958366176,
          -3.737739001884823,
          -0.4999304270192053,
          -1.4867123230294141,
          -3.262385482504529,
          -0.5969327025189859,
          -3.337342719322309,
          -0.7153973921612407,
          -2.813284703736219,
          -2.5505312077452724,
          -0.723957574304968,
          -3.4819522461664913
         ],
         "xaxis": "x4",
         "y": [
          2.6494444401382182,
          4.718582683710787,
          1.0824234821209004,
          2.7487620181196495,
          4.651754129265306,
          1.0713507581033763,
          4.983555882998741,
          5.174642986480124,
          6.363622432964723,
          5.280784013702528,
          0.796352778090358,
          6.227359476910095,
          6.047608091020928,
          5.230118416368952,
          3.1775952736157436,
          7.691428804921835,
          4.732839655940877,
          8.292667730994173,
          1.272336935790384,
          8.384961809375723,
          8.98020201049618,
          5.519129877390807,
          0.3888404077621065,
          5.141109958824183,
          6.9312985335156325,
          8.179529599105896,
          5.231551496071566,
          8.890502217602027,
          3.9166541429276234,
          8.940306716562715,
          2.5567494167729037,
          5.886844390530869,
          7.963138022859372,
          4.99392868876342,
          6.669373426739696,
          0.929216503008473,
          1.7556673239508895,
          0.07507329923588069,
          7.594885772017747,
          2.6723050163910265,
          0.7768113159304237,
          4.998599047486471,
          6.098453494797246,
          4.077321450784204,
          1.1868071555338457,
          1.9350145455326442,
          8.440113877400954,
          3.5348543632397775,
          5.806678106677771,
          8.697973590604496
         ],
         "yaxis": "y4"
        }
       ],
       "layout": {
        "template": {
         "data": {
          "bar": [
           {
            "error_x": {
             "color": "#2a3f5f"
            },
            "error_y": {
             "color": "#2a3f5f"
            },
            "marker": {
             "line": {
              "color": "#E5ECF6",
              "width": 0.5
             }
            },
            "type": "bar"
           }
          ],
          "barpolar": [
           {
            "marker": {
             "line": {
              "color": "#E5ECF6",
              "width": 0.5
             }
            },
            "type": "barpolar"
           }
          ],
          "carpet": [
           {
            "aaxis": {
             "endlinecolor": "#2a3f5f",
             "gridcolor": "white",
             "linecolor": "white",
             "minorgridcolor": "white",
             "startlinecolor": "#2a3f5f"
            },
            "baxis": {
             "endlinecolor": "#2a3f5f",
             "gridcolor": "white",
             "linecolor": "white",
             "minorgridcolor": "white",
             "startlinecolor": "#2a3f5f"
            },
            "type": "carpet"
           }
          ],
          "choropleth": [
           {
            "colorbar": {
             "outlinewidth": 0,
             "ticks": ""
            },
            "type": "choropleth"
           }
          ],
          "contour": [
           {
            "colorbar": {
             "outlinewidth": 0,
             "ticks": ""
            },
            "colorscale": [
             [
              0,
              "#0d0887"
             ],
             [
              0.1111111111111111,
              "#46039f"
             ],
             [
              0.2222222222222222,
              "#7201a8"
             ],
             [
              0.3333333333333333,
              "#9c179e"
             ],
             [
              0.4444444444444444,
              "#bd3786"
             ],
             [
              0.5555555555555556,
              "#d8576b"
             ],
             [
              0.6666666666666666,
              "#ed7953"
             ],
             [
              0.7777777777777778,
              "#fb9f3a"
             ],
             [
              0.8888888888888888,
              "#fdca26"
             ],
             [
              1,
              "#f0f921"
             ]
            ],
            "type": "contour"
           }
          ],
          "contourcarpet": [
           {
            "colorbar": {
             "outlinewidth": 0,
             "ticks": ""
            },
            "type": "contourcarpet"
           }
          ],
          "heatmap": [
           {
            "colorbar": {
             "outlinewidth": 0,
             "ticks": ""
            },
            "colorscale": [
             [
              0,
              "#0d0887"
             ],
             [
              0.1111111111111111,
              "#46039f"
             ],
             [
              0.2222222222222222,
              "#7201a8"
             ],
             [
              0.3333333333333333,
              "#9c179e"
             ],
             [
              0.4444444444444444,
              "#bd3786"
             ],
             [
              0.5555555555555556,
              "#d8576b"
             ],
             [
              0.6666666666666666,
              "#ed7953"
             ],
             [
              0.7777777777777778,
              "#fb9f3a"
             ],
             [
              0.8888888888888888,
              "#fdca26"
             ],
             [
              1,
              "#f0f921"
             ]
            ],
            "type": "heatmap"
           }
          ],
          "heatmapgl": [
           {
            "colorbar": {
             "outlinewidth": 0,
             "ticks": ""
            },
            "colorscale": [
             [
              0,
              "#0d0887"
             ],
             [
              0.1111111111111111,
              "#46039f"
             ],
             [
              0.2222222222222222,
              "#7201a8"
             ],
             [
              0.3333333333333333,
              "#9c179e"
             ],
             [
              0.4444444444444444,
              "#bd3786"
             ],
             [
              0.5555555555555556,
              "#d8576b"
             ],
             [
              0.6666666666666666,
              "#ed7953"
             ],
             [
              0.7777777777777778,
              "#fb9f3a"
             ],
             [
              0.8888888888888888,
              "#fdca26"
             ],
             [
              1,
              "#f0f921"
             ]
            ],
            "type": "heatmapgl"
           }
          ],
          "histogram": [
           {
            "marker": {
             "colorbar": {
              "outlinewidth": 0,
              "ticks": ""
             }
            },
            "type": "histogram"
           }
          ],
          "histogram2d": [
           {
            "colorbar": {
             "outlinewidth": 0,
             "ticks": ""
            },
            "colorscale": [
             [
              0,
              "#0d0887"
             ],
             [
              0.1111111111111111,
              "#46039f"
             ],
             [
              0.2222222222222222,
              "#7201a8"
             ],
             [
              0.3333333333333333,
              "#9c179e"
             ],
             [
              0.4444444444444444,
              "#bd3786"
             ],
             [
              0.5555555555555556,
              "#d8576b"
             ],
             [
              0.6666666666666666,
              "#ed7953"
             ],
             [
              0.7777777777777778,
              "#fb9f3a"
             ],
             [
              0.8888888888888888,
              "#fdca26"
             ],
             [
              1,
              "#f0f921"
             ]
            ],
            "type": "histogram2d"
           }
          ],
          "histogram2dcontour": [
           {
            "colorbar": {
             "outlinewidth": 0,
             "ticks": ""
            },
            "colorscale": [
             [
              0,
              "#0d0887"
             ],
             [
              0.1111111111111111,
              "#46039f"
             ],
             [
              0.2222222222222222,
              "#7201a8"
             ],
             [
              0.3333333333333333,
              "#9c179e"
             ],
             [
              0.4444444444444444,
              "#bd3786"
             ],
             [
              0.5555555555555556,
              "#d8576b"
             ],
             [
              0.6666666666666666,
              "#ed7953"
             ],
             [
              0.7777777777777778,
              "#fb9f3a"
             ],
             [
              0.8888888888888888,
              "#fdca26"
             ],
             [
              1,
              "#f0f921"
             ]
            ],
            "type": "histogram2dcontour"
           }
          ],
          "mesh3d": [
           {
            "colorbar": {
             "outlinewidth": 0,
             "ticks": ""
            },
            "type": "mesh3d"
           }
          ],
          "parcoords": [
           {
            "line": {
             "colorbar": {
              "outlinewidth": 0,
              "ticks": ""
             }
            },
            "type": "parcoords"
           }
          ],
          "pie": [
           {
            "automargin": true,
            "type": "pie"
           }
          ],
          "scatter": [
           {
            "marker": {
             "colorbar": {
              "outlinewidth": 0,
              "ticks": ""
             }
            },
            "type": "scatter"
           }
          ],
          "scatter3d": [
           {
            "line": {
             "colorbar": {
              "outlinewidth": 0,
              "ticks": ""
             }
            },
            "marker": {
             "colorbar": {
              "outlinewidth": 0,
              "ticks": ""
             }
            },
            "type": "scatter3d"
           }
          ],
          "scattercarpet": [
           {
            "marker": {
             "colorbar": {
              "outlinewidth": 0,
              "ticks": ""
             }
            },
            "type": "scattercarpet"
           }
          ],
          "scattergeo": [
           {
            "marker": {
             "colorbar": {
              "outlinewidth": 0,
              "ticks": ""
             }
            },
            "type": "scattergeo"
           }
          ],
          "scattergl": [
           {
            "marker": {
             "colorbar": {
              "outlinewidth": 0,
              "ticks": ""
             }
            },
            "type": "scattergl"
           }
          ],
          "scattermapbox": [
           {
            "marker": {
             "colorbar": {
              "outlinewidth": 0,
              "ticks": ""
             }
            },
            "type": "scattermapbox"
           }
          ],
          "scatterpolar": [
           {
            "marker": {
             "colorbar": {
              "outlinewidth": 0,
              "ticks": ""
             }
            },
            "type": "scatterpolar"
           }
          ],
          "scatterpolargl": [
           {
            "marker": {
             "colorbar": {
              "outlinewidth": 0,
              "ticks": ""
             }
            },
            "type": "scatterpolargl"
           }
          ],
          "scatterternary": [
           {
            "marker": {
             "colorbar": {
              "outlinewidth": 0,
              "ticks": ""
             }
            },
            "type": "scatterternary"
           }
          ],
          "surface": [
           {
            "colorbar": {
             "outlinewidth": 0,
             "ticks": ""
            },
            "colorscale": [
             [
              0,
              "#0d0887"
             ],
             [
              0.1111111111111111,
              "#46039f"
             ],
             [
              0.2222222222222222,
              "#7201a8"
             ],
             [
              0.3333333333333333,
              "#9c179e"
             ],
             [
              0.4444444444444444,
              "#bd3786"
             ],
             [
              0.5555555555555556,
              "#d8576b"
             ],
             [
              0.6666666666666666,
              "#ed7953"
             ],
             [
              0.7777777777777778,
              "#fb9f3a"
             ],
             [
              0.8888888888888888,
              "#fdca26"
             ],
             [
              1,
              "#f0f921"
             ]
            ],
            "type": "surface"
           }
          ],
          "table": [
           {
            "cells": {
             "fill": {
              "color": "#EBF0F8"
             },
             "line": {
              "color": "white"
             }
            },
            "header": {
             "fill": {
              "color": "#C8D4E3"
             },
             "line": {
              "color": "white"
             }
            },
            "type": "table"
           }
          ]
         },
         "layout": {
          "annotationdefaults": {
           "arrowcolor": "#2a3f5f",
           "arrowhead": 0,
           "arrowwidth": 1
          },
          "coloraxis": {
           "colorbar": {
            "outlinewidth": 0,
            "ticks": ""
           }
          },
          "colorscale": {
           "diverging": [
            [
             0,
             "#8e0152"
            ],
            [
             0.1,
             "#c51b7d"
            ],
            [
             0.2,
             "#de77ae"
            ],
            [
             0.3,
             "#f1b6da"
            ],
            [
             0.4,
             "#fde0ef"
            ],
            [
             0.5,
             "#f7f7f7"
            ],
            [
             0.6,
             "#e6f5d0"
            ],
            [
             0.7,
             "#b8e186"
            ],
            [
             0.8,
             "#7fbc41"
            ],
            [
             0.9,
             "#4d9221"
            ],
            [
             1,
             "#276419"
            ]
           ],
           "sequential": [
            [
             0,
             "#0d0887"
            ],
            [
             0.1111111111111111,
             "#46039f"
            ],
            [
             0.2222222222222222,
             "#7201a8"
            ],
            [
             0.3333333333333333,
             "#9c179e"
            ],
            [
             0.4444444444444444,
             "#bd3786"
            ],
            [
             0.5555555555555556,
             "#d8576b"
            ],
            [
             0.6666666666666666,
             "#ed7953"
            ],
            [
             0.7777777777777778,
             "#fb9f3a"
            ],
            [
             0.8888888888888888,
             "#fdca26"
            ],
            [
             1,
             "#f0f921"
            ]
           ],
           "sequentialminus": [
            [
             0,
             "#0d0887"
            ],
            [
             0.1111111111111111,
             "#46039f"
            ],
            [
             0.2222222222222222,
             "#7201a8"
            ],
            [
             0.3333333333333333,
             "#9c179e"
            ],
            [
             0.4444444444444444,
             "#bd3786"
            ],
            [
             0.5555555555555556,
             "#d8576b"
            ],
            [
             0.6666666666666666,
             "#ed7953"
            ],
            [
             0.7777777777777778,
             "#fb9f3a"
            ],
            [
             0.8888888888888888,
             "#fdca26"
            ],
            [
             1,
             "#f0f921"
            ]
           ]
          },
          "colorway": [
           "#636efa",
           "#EF553B",
           "#00cc96",
           "#ab63fa",
           "#FFA15A",
           "#19d3f3",
           "#FF6692",
           "#B6E880",
           "#FF97FF",
           "#FECB52"
          ],
          "font": {
           "color": "#2a3f5f"
          },
          "geo": {
           "bgcolor": "white",
           "lakecolor": "white",
           "landcolor": "#E5ECF6",
           "showlakes": true,
           "showland": true,
           "subunitcolor": "white"
          },
          "hoverlabel": {
           "align": "left"
          },
          "hovermode": "closest",
          "mapbox": {
           "style": "light"
          },
          "paper_bgcolor": "white",
          "plot_bgcolor": "#E5ECF6",
          "polar": {
           "angularaxis": {
            "gridcolor": "white",
            "linecolor": "white",
            "ticks": ""
           },
           "bgcolor": "#E5ECF6",
           "radialaxis": {
            "gridcolor": "white",
            "linecolor": "white",
            "ticks": ""
           }
          },
          "scene": {
           "xaxis": {
            "backgroundcolor": "#E5ECF6",
            "gridcolor": "white",
            "gridwidth": 2,
            "linecolor": "white",
            "showbackground": true,
            "ticks": "",
            "zerolinecolor": "white"
           },
           "yaxis": {
            "backgroundcolor": "#E5ECF6",
            "gridcolor": "white",
            "gridwidth": 2,
            "linecolor": "white",
            "showbackground": true,
            "ticks": "",
            "zerolinecolor": "white"
           },
           "zaxis": {
            "backgroundcolor": "#E5ECF6",
            "gridcolor": "white",
            "gridwidth": 2,
            "linecolor": "white",
            "showbackground": true,
            "ticks": "",
            "zerolinecolor": "white"
           }
          },
          "shapedefaults": {
           "line": {
            "color": "#2a3f5f"
           }
          },
          "ternary": {
           "aaxis": {
            "gridcolor": "white",
            "linecolor": "white",
            "ticks": ""
           },
           "baxis": {
            "gridcolor": "white",
            "linecolor": "white",
            "ticks": ""
           },
           "bgcolor": "#E5ECF6",
           "caxis": {
            "gridcolor": "white",
            "linecolor": "white",
            "ticks": ""
           }
          },
          "title": {
           "x": 0.05
          },
          "xaxis": {
           "automargin": true,
           "gridcolor": "white",
           "linecolor": "white",
           "ticks": "",
           "title": {
            "standoff": 15
           },
           "zerolinecolor": "white",
           "zerolinewidth": 2
          },
          "yaxis": {
           "automargin": true,
           "gridcolor": "white",
           "linecolor": "white",
           "ticks": "",
           "title": {
            "standoff": 15
           },
           "zerolinecolor": "white",
           "zerolinewidth": 2
          }
         }
        },
        "xaxis": {
         "anchor": "y",
         "domain": [
          0,
          0.45
         ]
        },
        "xaxis2": {
         "anchor": "y2",
         "domain": [
          0.55,
          1
         ]
        },
        "xaxis3": {
         "anchor": "y3",
         "domain": [
          0,
          0.45
         ]
        },
        "xaxis4": {
         "anchor": "y4",
         "domain": [
          0.55,
          1
         ]
        },
        "yaxis": {
         "anchor": "x",
         "domain": [
          0.575,
          1
         ]
        },
        "yaxis2": {
         "anchor": "x2",
         "domain": [
          0.575,
          1
         ]
        },
        "yaxis3": {
         "anchor": "x3",
         "domain": [
          0,
          0.425
         ]
        },
        "yaxis4": {
         "anchor": "x4",
         "domain": [
          0,
          0.425
         ]
        }
       }
      }
     },
     "metadata": {}
    }
   ],
   "source": [
    "from plotly.subplots import make_subplots\n",
    "\n",
    "fig = make_subplots(rows=2, cols=2, start_cell=\"top-left\")\n",
    "\n",
    "fig.add_trace(go.Scatter(x = df_last['x1'], y = df_last['y1']), row = 1, col = 1)\n",
    "\n",
    "fig.add_trace(go.Scatter(x = df_last['x2'], y = df_last['y2'], mode=\"markers\"), row = 1, col = 2)\n",
    "\n",
    "fig.add_trace(go.Bar(x = df_last['x3'], y = df_last.index), row = 2, col = 1)\n",
    "\n",
    "trace1 = go.Scatter(x = df_last['x3'], y = df_last['y3'], stackgroup='one')\n",
    "trace2 = go.Scatter(x = df_last['x4'], y = df_last['y4'], stackgroup='one')\n",
    "fig.add_traces([trace1, trace2], rows=2, cols=2)\n",
    "# fig.add_trace(go.Figure(data=datax), row = 2, col = 2)\n",
    "\n",
    "fig.show()"
   ]
  },
  {
   "cell_type": "code",
   "execution_count": 109,
   "metadata": {},
   "outputs": [
    {
     "output_type": "display_data",
     "data": {
      "application/vnd.plotly.v1+json": {
       "config": {
        "plotlyServerURL": "https://plot.ly"
       },
       "data": [
        {
         "stackgroup": "one",
         "type": "scatter",
         "x": [
          4.4379685521343095,
          2.5385188091286883,
          7.778995204813304,
          6.266150238299426,
          5.652299198122641,
          1.977564190469587,
          5.063892810272671,
          5.445241673727913,
          3.5696100786024605,
          7.505223552413532,
          6.984825206541517,
          8.82115032625271,
          6.589361712985248,
          4.5109126063868175,
          0.8516327552732812,
          3.706339758278859,
          1.567456567185788,
          7.951560909417088,
          5.919343894353415,
          4.005749648180964,
          5.644044889571321,
          5.6697730209084085,
          2.7318852765172066,
          8.422469666260357,
          1.5378653220013736,
          6.6044241326455575,
          5.697004538456383,
          5.190134313710713,
          7.429693770583213,
          1.8010859574731735,
          3.171522752247058,
          2.6832384525922346,
          5.274583300272069,
          6.873161408313766,
          7.451929590804033,
          2.407394734046078,
          6.676200769547118,
          8.31087907487126,
          4.867015069892272,
          0.3474593534766892,
          5.631413262942156,
          2.8565197065586965,
          4.127528204446055,
          1.4949576839647971,
          4.782265484434716,
          6.419148538340584,
          6.381112603324995,
          6.6730145628917406,
          4.024707802652473,
          8.697479518849269
         ],
         "y": [
          0.16216265468340296,
          1.0280513217145937,
          1.0309000234899073,
          1.374389909106126,
          2.240194855701719,
          2.2435635897831925,
          2.5344841732193917,
          0.5990014085419954,
          0.7067534936896537,
          1.0353001329039149,
          0.524372876449408,
          0.10282379479866477,
          1.1521488487519111,
          2.41115487778881,
          0.26332528846682157,
          1.0352934338773214,
          0.5221028758243225,
          0.2038546336897421,
          1.7228813224262118,
          0.6733621754606864,
          2.7109534498365706,
          2.7115796727317867,
          2.497604179512945,
          2.8461669443236235,
          2.19034247681203,
          1.9606915215962872,
          1.8916773071537614,
          0.2473739663380402,
          0.6301509331341072,
          0.2428019569008203,
          2.0106659459990808,
          0.06564641232787005,
          2.950832223503868,
          1.9022002953019153,
          2.6419310443815105,
          2.6052501309633795,
          0.5463924559272649,
          1.1422365345610372,
          0.40720980473339063,
          2.5650762182868094,
          0.5223529884839607,
          2.7618351092354803,
          0.35529267217617844,
          2.471658597327765,
          2.6408124921704568,
          0.9710922590752541,
          0.6007073866846407,
          2.953845442072726,
          0.25262748892477227,
          1.6075565974815977
         ]
        },
        {
         "stackgroup": "one",
         "type": "scatter",
         "x": [
          -1.8507918909112662,
          -0.8233340343120625,
          -0.030309195995449123,
          -0.5777843625951862,
          -0.265668802290945,
          -2.4854577261435407,
          -2.6202533923811084,
          -3.8301357670360185,
          -2.949395381674923,
          -1.6106462778192134,
          -3.117137227879197,
          -0.3099700103534748,
          -2.0038256000016594,
          -2.9740650828536084,
          -0.6506913635023825,
          -1.5103169792661264,
          -1.5984178117686274,
          -3.1576874523580236,
          -3.444266733820786,
          -2.757338235260548,
          -1.4225475482154226,
          -3.4726455914708603,
          -3.523399626018345,
          -2.930176111328342,
          -0.9556844538441256,
          -0.12225478571956572,
          -2.933533379773546,
          -3.176360621824867,
          -1.531582813759416,
          -2.5246253029398833,
          -1.321190531450346,
          -2.900376993588161,
          -3.558719523246284,
          -2.147933488678426,
          -3.585252088433066,
          -3.5502715355868424,
          -0.9161520743609439,
          -2.5861183698485024,
          -0.4890551958366176,
          -3.737739001884823,
          -0.4999304270192053,
          -1.4867123230294141,
          -3.262385482504529,
          -0.5969327025189859,
          -3.337342719322309,
          -0.7153973921612407,
          -2.813284703736219,
          -2.5505312077452724,
          -0.723957574304968,
          -3.4819522461664913
         ],
         "y": [
          2.6494444401382182,
          4.718582683710787,
          1.0824234821209004,
          2.7487620181196495,
          4.651754129265306,
          1.0713507581033763,
          4.983555882998741,
          5.174642986480124,
          6.363622432964723,
          5.280784013702528,
          0.796352778090358,
          6.227359476910095,
          6.047608091020928,
          5.230118416368952,
          3.1775952736157436,
          7.691428804921835,
          4.732839655940877,
          8.292667730994173,
          1.272336935790384,
          8.384961809375723,
          8.98020201049618,
          5.519129877390807,
          0.3888404077621065,
          5.141109958824183,
          6.9312985335156325,
          8.179529599105896,
          5.231551496071566,
          8.890502217602027,
          3.9166541429276234,
          8.940306716562715,
          2.5567494167729037,
          5.886844390530869,
          7.963138022859372,
          4.99392868876342,
          6.669373426739696,
          0.929216503008473,
          1.7556673239508895,
          0.07507329923588069,
          7.594885772017747,
          2.6723050163910265,
          0.7768113159304237,
          4.998599047486471,
          6.098453494797246,
          4.077321450784204,
          1.1868071555338457,
          1.9350145455326442,
          8.440113877400954,
          3.5348543632397775,
          5.806678106677771,
          8.697973590604496
         ]
        }
       ],
       "layout": {
        "template": {
         "data": {
          "bar": [
           {
            "error_x": {
             "color": "#2a3f5f"
            },
            "error_y": {
             "color": "#2a3f5f"
            },
            "marker": {
             "line": {
              "color": "#E5ECF6",
              "width": 0.5
             }
            },
            "type": "bar"
           }
          ],
          "barpolar": [
           {
            "marker": {
             "line": {
              "color": "#E5ECF6",
              "width": 0.5
             }
            },
            "type": "barpolar"
           }
          ],
          "carpet": [
           {
            "aaxis": {
             "endlinecolor": "#2a3f5f",
             "gridcolor": "white",
             "linecolor": "white",
             "minorgridcolor": "white",
             "startlinecolor": "#2a3f5f"
            },
            "baxis": {
             "endlinecolor": "#2a3f5f",
             "gridcolor": "white",
             "linecolor": "white",
             "minorgridcolor": "white",
             "startlinecolor": "#2a3f5f"
            },
            "type": "carpet"
           }
          ],
          "choropleth": [
           {
            "colorbar": {
             "outlinewidth": 0,
             "ticks": ""
            },
            "type": "choropleth"
           }
          ],
          "contour": [
           {
            "colorbar": {
             "outlinewidth": 0,
             "ticks": ""
            },
            "colorscale": [
             [
              0,
              "#0d0887"
             ],
             [
              0.1111111111111111,
              "#46039f"
             ],
             [
              0.2222222222222222,
              "#7201a8"
             ],
             [
              0.3333333333333333,
              "#9c179e"
             ],
             [
              0.4444444444444444,
              "#bd3786"
             ],
             [
              0.5555555555555556,
              "#d8576b"
             ],
             [
              0.6666666666666666,
              "#ed7953"
             ],
             [
              0.7777777777777778,
              "#fb9f3a"
             ],
             [
              0.8888888888888888,
              "#fdca26"
             ],
             [
              1,
              "#f0f921"
             ]
            ],
            "type": "contour"
           }
          ],
          "contourcarpet": [
           {
            "colorbar": {
             "outlinewidth": 0,
             "ticks": ""
            },
            "type": "contourcarpet"
           }
          ],
          "heatmap": [
           {
            "colorbar": {
             "outlinewidth": 0,
             "ticks": ""
            },
            "colorscale": [
             [
              0,
              "#0d0887"
             ],
             [
              0.1111111111111111,
              "#46039f"
             ],
             [
              0.2222222222222222,
              "#7201a8"
             ],
             [
              0.3333333333333333,
              "#9c179e"
             ],
             [
              0.4444444444444444,
              "#bd3786"
             ],
             [
              0.5555555555555556,
              "#d8576b"
             ],
             [
              0.6666666666666666,
              "#ed7953"
             ],
             [
              0.7777777777777778,
              "#fb9f3a"
             ],
             [
              0.8888888888888888,
              "#fdca26"
             ],
             [
              1,
              "#f0f921"
             ]
            ],
            "type": "heatmap"
           }
          ],
          "heatmapgl": [
           {
            "colorbar": {
             "outlinewidth": 0,
             "ticks": ""
            },
            "colorscale": [
             [
              0,
              "#0d0887"
             ],
             [
              0.1111111111111111,
              "#46039f"
             ],
             [
              0.2222222222222222,
              "#7201a8"
             ],
             [
              0.3333333333333333,
              "#9c179e"
             ],
             [
              0.4444444444444444,
              "#bd3786"
             ],
             [
              0.5555555555555556,
              "#d8576b"
             ],
             [
              0.6666666666666666,
              "#ed7953"
             ],
             [
              0.7777777777777778,
              "#fb9f3a"
             ],
             [
              0.8888888888888888,
              "#fdca26"
             ],
             [
              1,
              "#f0f921"
             ]
            ],
            "type": "heatmapgl"
           }
          ],
          "histogram": [
           {
            "marker": {
             "colorbar": {
              "outlinewidth": 0,
              "ticks": ""
             }
            },
            "type": "histogram"
           }
          ],
          "histogram2d": [
           {
            "colorbar": {
             "outlinewidth": 0,
             "ticks": ""
            },
            "colorscale": [
             [
              0,
              "#0d0887"
             ],
             [
              0.1111111111111111,
              "#46039f"
             ],
             [
              0.2222222222222222,
              "#7201a8"
             ],
             [
              0.3333333333333333,
              "#9c179e"
             ],
             [
              0.4444444444444444,
              "#bd3786"
             ],
             [
              0.5555555555555556,
              "#d8576b"
             ],
             [
              0.6666666666666666,
              "#ed7953"
             ],
             [
              0.7777777777777778,
              "#fb9f3a"
             ],
             [
              0.8888888888888888,
              "#fdca26"
             ],
             [
              1,
              "#f0f921"
             ]
            ],
            "type": "histogram2d"
           }
          ],
          "histogram2dcontour": [
           {
            "colorbar": {
             "outlinewidth": 0,
             "ticks": ""
            },
            "colorscale": [
             [
              0,
              "#0d0887"
             ],
             [
              0.1111111111111111,
              "#46039f"
             ],
             [
              0.2222222222222222,
              "#7201a8"
             ],
             [
              0.3333333333333333,
              "#9c179e"
             ],
             [
              0.4444444444444444,
              "#bd3786"
             ],
             [
              0.5555555555555556,
              "#d8576b"
             ],
             [
              0.6666666666666666,
              "#ed7953"
             ],
             [
              0.7777777777777778,
              "#fb9f3a"
             ],
             [
              0.8888888888888888,
              "#fdca26"
             ],
             [
              1,
              "#f0f921"
             ]
            ],
            "type": "histogram2dcontour"
           }
          ],
          "mesh3d": [
           {
            "colorbar": {
             "outlinewidth": 0,
             "ticks": ""
            },
            "type": "mesh3d"
           }
          ],
          "parcoords": [
           {
            "line": {
             "colorbar": {
              "outlinewidth": 0,
              "ticks": ""
             }
            },
            "type": "parcoords"
           }
          ],
          "pie": [
           {
            "automargin": true,
            "type": "pie"
           }
          ],
          "scatter": [
           {
            "marker": {
             "colorbar": {
              "outlinewidth": 0,
              "ticks": ""
             }
            },
            "type": "scatter"
           }
          ],
          "scatter3d": [
           {
            "line": {
             "colorbar": {
              "outlinewidth": 0,
              "ticks": ""
             }
            },
            "marker": {
             "colorbar": {
              "outlinewidth": 0,
              "ticks": ""
             }
            },
            "type": "scatter3d"
           }
          ],
          "scattercarpet": [
           {
            "marker": {
             "colorbar": {
              "outlinewidth": 0,
              "ticks": ""
             }
            },
            "type": "scattercarpet"
           }
          ],
          "scattergeo": [
           {
            "marker": {
             "colorbar": {
              "outlinewidth": 0,
              "ticks": ""
             }
            },
            "type": "scattergeo"
           }
          ],
          "scattergl": [
           {
            "marker": {
             "colorbar": {
              "outlinewidth": 0,
              "ticks": ""
             }
            },
            "type": "scattergl"
           }
          ],
          "scattermapbox": [
           {
            "marker": {
             "colorbar": {
              "outlinewidth": 0,
              "ticks": ""
             }
            },
            "type": "scattermapbox"
           }
          ],
          "scatterpolar": [
           {
            "marker": {
             "colorbar": {
              "outlinewidth": 0,
              "ticks": ""
             }
            },
            "type": "scatterpolar"
           }
          ],
          "scatterpolargl": [
           {
            "marker": {
             "colorbar": {
              "outlinewidth": 0,
              "ticks": ""
             }
            },
            "type": "scatterpolargl"
           }
          ],
          "scatterternary": [
           {
            "marker": {
             "colorbar": {
              "outlinewidth": 0,
              "ticks": ""
             }
            },
            "type": "scatterternary"
           }
          ],
          "surface": [
           {
            "colorbar": {
             "outlinewidth": 0,
             "ticks": ""
            },
            "colorscale": [
             [
              0,
              "#0d0887"
             ],
             [
              0.1111111111111111,
              "#46039f"
             ],
             [
              0.2222222222222222,
              "#7201a8"
             ],
             [
              0.3333333333333333,
              "#9c179e"
             ],
             [
              0.4444444444444444,
              "#bd3786"
             ],
             [
              0.5555555555555556,
              "#d8576b"
             ],
             [
              0.6666666666666666,
              "#ed7953"
             ],
             [
              0.7777777777777778,
              "#fb9f3a"
             ],
             [
              0.8888888888888888,
              "#fdca26"
             ],
             [
              1,
              "#f0f921"
             ]
            ],
            "type": "surface"
           }
          ],
          "table": [
           {
            "cells": {
             "fill": {
              "color": "#EBF0F8"
             },
             "line": {
              "color": "white"
             }
            },
            "header": {
             "fill": {
              "color": "#C8D4E3"
             },
             "line": {
              "color": "white"
             }
            },
            "type": "table"
           }
          ]
         },
         "layout": {
          "annotationdefaults": {
           "arrowcolor": "#2a3f5f",
           "arrowhead": 0,
           "arrowwidth": 1
          },
          "coloraxis": {
           "colorbar": {
            "outlinewidth": 0,
            "ticks": ""
           }
          },
          "colorscale": {
           "diverging": [
            [
             0,
             "#8e0152"
            ],
            [
             0.1,
             "#c51b7d"
            ],
            [
             0.2,
             "#de77ae"
            ],
            [
             0.3,
             "#f1b6da"
            ],
            [
             0.4,
             "#fde0ef"
            ],
            [
             0.5,
             "#f7f7f7"
            ],
            [
             0.6,
             "#e6f5d0"
            ],
            [
             0.7,
             "#b8e186"
            ],
            [
             0.8,
             "#7fbc41"
            ],
            [
             0.9,
             "#4d9221"
            ],
            [
             1,
             "#276419"
            ]
           ],
           "sequential": [
            [
             0,
             "#0d0887"
            ],
            [
             0.1111111111111111,
             "#46039f"
            ],
            [
             0.2222222222222222,
             "#7201a8"
            ],
            [
             0.3333333333333333,
             "#9c179e"
            ],
            [
             0.4444444444444444,
             "#bd3786"
            ],
            [
             0.5555555555555556,
             "#d8576b"
            ],
            [
             0.6666666666666666,
             "#ed7953"
            ],
            [
             0.7777777777777778,
             "#fb9f3a"
            ],
            [
             0.8888888888888888,
             "#fdca26"
            ],
            [
             1,
             "#f0f921"
            ]
           ],
           "sequentialminus": [
            [
             0,
             "#0d0887"
            ],
            [
             0.1111111111111111,
             "#46039f"
            ],
            [
             0.2222222222222222,
             "#7201a8"
            ],
            [
             0.3333333333333333,
             "#9c179e"
            ],
            [
             0.4444444444444444,
             "#bd3786"
            ],
            [
             0.5555555555555556,
             "#d8576b"
            ],
            [
             0.6666666666666666,
             "#ed7953"
            ],
            [
             0.7777777777777778,
             "#fb9f3a"
            ],
            [
             0.8888888888888888,
             "#fdca26"
            ],
            [
             1,
             "#f0f921"
            ]
           ]
          },
          "colorway": [
           "#636efa",
           "#EF553B",
           "#00cc96",
           "#ab63fa",
           "#FFA15A",
           "#19d3f3",
           "#FF6692",
           "#B6E880",
           "#FF97FF",
           "#FECB52"
          ],
          "font": {
           "color": "#2a3f5f"
          },
          "geo": {
           "bgcolor": "white",
           "lakecolor": "white",
           "landcolor": "#E5ECF6",
           "showlakes": true,
           "showland": true,
           "subunitcolor": "white"
          },
          "hoverlabel": {
           "align": "left"
          },
          "hovermode": "closest",
          "mapbox": {
           "style": "light"
          },
          "paper_bgcolor": "white",
          "plot_bgcolor": "#E5ECF6",
          "polar": {
           "angularaxis": {
            "gridcolor": "white",
            "linecolor": "white",
            "ticks": ""
           },
           "bgcolor": "#E5ECF6",
           "radialaxis": {
            "gridcolor": "white",
            "linecolor": "white",
            "ticks": ""
           }
          },
          "scene": {
           "xaxis": {
            "backgroundcolor": "#E5ECF6",
            "gridcolor": "white",
            "gridwidth": 2,
            "linecolor": "white",
            "showbackground": true,
            "ticks": "",
            "zerolinecolor": "white"
           },
           "yaxis": {
            "backgroundcolor": "#E5ECF6",
            "gridcolor": "white",
            "gridwidth": 2,
            "linecolor": "white",
            "showbackground": true,
            "ticks": "",
            "zerolinecolor": "white"
           },
           "zaxis": {
            "backgroundcolor": "#E5ECF6",
            "gridcolor": "white",
            "gridwidth": 2,
            "linecolor": "white",
            "showbackground": true,
            "ticks": "",
            "zerolinecolor": "white"
           }
          },
          "shapedefaults": {
           "line": {
            "color": "#2a3f5f"
           }
          },
          "ternary": {
           "aaxis": {
            "gridcolor": "white",
            "linecolor": "white",
            "ticks": ""
           },
           "baxis": {
            "gridcolor": "white",
            "linecolor": "white",
            "ticks": ""
           },
           "bgcolor": "#E5ECF6",
           "caxis": {
            "gridcolor": "white",
            "linecolor": "white",
            "ticks": ""
           }
          },
          "title": {
           "x": 0.05
          },
          "xaxis": {
           "automargin": true,
           "gridcolor": "white",
           "linecolor": "white",
           "ticks": "",
           "title": {
            "standoff": 15
           },
           "zerolinecolor": "white",
           "zerolinewidth": 2
          },
          "yaxis": {
           "automargin": true,
           "gridcolor": "white",
           "linecolor": "white",
           "ticks": "",
           "title": {
            "standoff": 15
           },
           "zerolinecolor": "white",
           "zerolinewidth": 2
          }
         }
        }
       }
      }
     },
     "metadata": {}
    }
   ],
   "source": [
    "trace1 = go.Scatter(x = df_last['x3'], y = df_last['y3'], stackgroup='one')\n",
    "trace2 = go.Scatter(x = df_last['x4'], y = df_last['y4'], stackgroup='one')\n",
    "datax = [trace1, trace2]\n",
    "fig = go.Figure(data=datax)\n",
    "fig.show()"
   ]
  },
  {
   "cell_type": "code",
   "execution_count": null,
   "metadata": {},
   "outputs": [],
   "source": []
  }
 ]
}