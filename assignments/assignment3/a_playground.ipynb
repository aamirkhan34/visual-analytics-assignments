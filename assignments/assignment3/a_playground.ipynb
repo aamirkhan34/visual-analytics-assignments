{
 "metadata": {
  "language_info": {
   "codemirror_mode": {
    "name": "ipython",
    "version": 3
   },
   "file_extension": ".py",
   "mimetype": "text/x-python",
   "name": "python",
   "nbconvert_exporter": "python",
   "pygments_lexer": "ipython3",
   "version": "3.8.5-final"
  },
  "orig_nbformat": 2,
  "kernelspec": {
   "name": "python38564bitvaconda764d43b5ca0a4ef08d9f7536efd0e99c",
   "display_name": "Python 3.8.5 64-bit ('va': conda)"
  }
 },
 "nbformat": 4,
 "nbformat_minor": 2,
 "cells": [
  {
   "cell_type": "code",
   "execution_count": 1,
   "metadata": {},
   "outputs": [],
   "source": [
    "from typing import Tuple\n",
    "\n",
    "import matplotlib.pyplot as plt\n",
    "import numpy as np\n",
    "import pandas as pd\n",
    "import plotly.graph_objects as go\n",
    "import plotly.express as px"
   ]
  },
  {
   "cell_type": "code",
   "execution_count": 2,
   "metadata": {},
   "outputs": [
    {
     "output_type": "display_data",
     "data": {
      "text/plain": "<Figure size 432x288 with 1 Axes>",
      "image/svg+xml": "<?xml version=\"1.0\" encoding=\"utf-8\" standalone=\"no\"?>\n<!DOCTYPE svg PUBLIC \"-//W3C//DTD SVG 1.1//EN\"\n  \"http://www.w3.org/Graphics/SVG/1.1/DTD/svg11.dtd\">\n<!-- Created with matplotlib (https://matplotlib.org/) -->\n<svg height=\"277.314375pt\" version=\"1.1\" viewBox=\"0 0 392.14375 277.314375\" width=\"392.14375pt\" xmlns=\"http://www.w3.org/2000/svg\" xmlns:xlink=\"http://www.w3.org/1999/xlink\">\n <defs>\n  <style type=\"text/css\">\n*{stroke-linecap:butt;stroke-linejoin:round;}\n  </style>\n </defs>\n <g id=\"figure_1\">\n  <g id=\"patch_1\">\n   <path d=\"M 0 277.314375 \nL 392.14375 277.314375 \nL 392.14375 0 \nL 0 0 \nz\n\" style=\"fill:none;\"/>\n  </g>\n  <g id=\"axes_1\">\n   <g id=\"patch_2\">\n    <path d=\"M 50.14375 239.758125 \nL 384.94375 239.758125 \nL 384.94375 22.318125 \nL 50.14375 22.318125 \nz\n\" style=\"fill:#ffffff;\"/>\n   </g>\n   <g id=\"matplotlib.axis_1\">\n    <g id=\"xtick_1\">\n     <g id=\"line2d_1\">\n      <path clip-path=\"url(#p8c4420c0b7)\" d=\"M 65.361932 239.758125 \nL 65.361932 22.318125 \n\" style=\"fill:none;stroke:#b0b0b0;stroke-linecap:square;stroke-width:0.8;\"/>\n     </g>\n     <g id=\"line2d_2\">\n      <defs>\n       <path d=\"M 0 0 \nL 0 3.5 \n\" id=\"m7da4f57617\" style=\"stroke:#000000;stroke-width:0.8;\"/>\n      </defs>\n      <g>\n       <use style=\"stroke:#000000;stroke-width:0.8;\" x=\"65.361932\" xlink:href=\"#m7da4f57617\" y=\"239.758125\"/>\n      </g>\n     </g>\n     <g id=\"text_1\">\n      <!-- 0.00 -->\n      <defs>\n       <path d=\"M 31.78125 66.40625 \nQ 24.171875 66.40625 20.328125 58.90625 \nQ 16.5 51.421875 16.5 36.375 \nQ 16.5 21.390625 20.328125 13.890625 \nQ 24.171875 6.390625 31.78125 6.390625 \nQ 39.453125 6.390625 43.28125 13.890625 \nQ 47.125 21.390625 47.125 36.375 \nQ 47.125 51.421875 43.28125 58.90625 \nQ 39.453125 66.40625 31.78125 66.40625 \nz\nM 31.78125 74.21875 \nQ 44.046875 74.21875 50.515625 64.515625 \nQ 56.984375 54.828125 56.984375 36.375 \nQ 56.984375 17.96875 50.515625 8.265625 \nQ 44.046875 -1.421875 31.78125 -1.421875 \nQ 19.53125 -1.421875 13.0625 8.265625 \nQ 6.59375 17.96875 6.59375 36.375 \nQ 6.59375 54.828125 13.0625 64.515625 \nQ 19.53125 74.21875 31.78125 74.21875 \nz\n\" id=\"DejaVuSans-48\"/>\n       <path d=\"M 10.6875 12.40625 \nL 21 12.40625 \nL 21 0 \nL 10.6875 0 \nz\n\" id=\"DejaVuSans-46\"/>\n      </defs>\n      <g transform=\"translate(54.229119 254.356562)scale(0.1 -0.1)\">\n       <use xlink:href=\"#DejaVuSans-48\"/>\n       <use x=\"63.623047\" xlink:href=\"#DejaVuSans-46\"/>\n       <use x=\"95.410156\" xlink:href=\"#DejaVuSans-48\"/>\n       <use x=\"159.033203\" xlink:href=\"#DejaVuSans-48\"/>\n      </g>\n     </g>\n    </g>\n    <g id=\"xtick_2\">\n     <g id=\"line2d_3\">\n      <path clip-path=\"url(#p8c4420c0b7)\" d=\"M 103.59857 239.758125 \nL 103.59857 22.318125 \n\" style=\"fill:none;stroke:#b0b0b0;stroke-linecap:square;stroke-width:0.8;\"/>\n     </g>\n     <g id=\"line2d_4\">\n      <g>\n       <use style=\"stroke:#000000;stroke-width:0.8;\" x=\"103.59857\" xlink:href=\"#m7da4f57617\" y=\"239.758125\"/>\n      </g>\n     </g>\n     <g id=\"text_2\">\n      <!-- 0.25 -->\n      <defs>\n       <path d=\"M 19.1875 8.296875 \nL 53.609375 8.296875 \nL 53.609375 0 \nL 7.328125 0 \nL 7.328125 8.296875 \nQ 12.9375 14.109375 22.625 23.890625 \nQ 32.328125 33.6875 34.8125 36.53125 \nQ 39.546875 41.84375 41.421875 45.53125 \nQ 43.3125 49.21875 43.3125 52.78125 \nQ 43.3125 58.59375 39.234375 62.25 \nQ 35.15625 65.921875 28.609375 65.921875 \nQ 23.96875 65.921875 18.8125 64.3125 \nQ 13.671875 62.703125 7.8125 59.421875 \nL 7.8125 69.390625 \nQ 13.765625 71.78125 18.9375 73 \nQ 24.125 74.21875 28.421875 74.21875 \nQ 39.75 74.21875 46.484375 68.546875 \nQ 53.21875 62.890625 53.21875 53.421875 \nQ 53.21875 48.921875 51.53125 44.890625 \nQ 49.859375 40.875 45.40625 35.40625 \nQ 44.1875 33.984375 37.640625 27.21875 \nQ 31.109375 20.453125 19.1875 8.296875 \nz\n\" id=\"DejaVuSans-50\"/>\n       <path d=\"M 10.796875 72.90625 \nL 49.515625 72.90625 \nL 49.515625 64.59375 \nL 19.828125 64.59375 \nL 19.828125 46.734375 \nQ 21.96875 47.46875 24.109375 47.828125 \nQ 26.265625 48.1875 28.421875 48.1875 \nQ 40.625 48.1875 47.75 41.5 \nQ 54.890625 34.8125 54.890625 23.390625 \nQ 54.890625 11.625 47.5625 5.09375 \nQ 40.234375 -1.421875 26.90625 -1.421875 \nQ 22.3125 -1.421875 17.546875 -0.640625 \nQ 12.796875 0.140625 7.71875 1.703125 \nL 7.71875 11.625 \nQ 12.109375 9.234375 16.796875 8.0625 \nQ 21.484375 6.890625 26.703125 6.890625 \nQ 35.15625 6.890625 40.078125 11.328125 \nQ 45.015625 15.765625 45.015625 23.390625 \nQ 45.015625 31 40.078125 35.4375 \nQ 35.15625 39.890625 26.703125 39.890625 \nQ 22.75 39.890625 18.8125 39.015625 \nQ 14.890625 38.140625 10.796875 36.28125 \nz\n\" id=\"DejaVuSans-53\"/>\n      </defs>\n      <g transform=\"translate(92.465757 254.356562)scale(0.1 -0.1)\">\n       <use xlink:href=\"#DejaVuSans-48\"/>\n       <use x=\"63.623047\" xlink:href=\"#DejaVuSans-46\"/>\n       <use x=\"95.410156\" xlink:href=\"#DejaVuSans-50\"/>\n       <use x=\"159.033203\" xlink:href=\"#DejaVuSans-53\"/>\n      </g>\n     </g>\n    </g>\n    <g id=\"xtick_3\">\n     <g id=\"line2d_5\">\n      <path clip-path=\"url(#p8c4420c0b7)\" d=\"M 141.835207 239.758125 \nL 141.835207 22.318125 \n\" style=\"fill:none;stroke:#b0b0b0;stroke-linecap:square;stroke-width:0.8;\"/>\n     </g>\n     <g id=\"line2d_6\">\n      <g>\n       <use style=\"stroke:#000000;stroke-width:0.8;\" x=\"141.835207\" xlink:href=\"#m7da4f57617\" y=\"239.758125\"/>\n      </g>\n     </g>\n     <g id=\"text_3\">\n      <!-- 0.50 -->\n      <g transform=\"translate(130.702395 254.356562)scale(0.1 -0.1)\">\n       <use xlink:href=\"#DejaVuSans-48\"/>\n       <use x=\"63.623047\" xlink:href=\"#DejaVuSans-46\"/>\n       <use x=\"95.410156\" xlink:href=\"#DejaVuSans-53\"/>\n       <use x=\"159.033203\" xlink:href=\"#DejaVuSans-48\"/>\n      </g>\n     </g>\n    </g>\n    <g id=\"xtick_4\">\n     <g id=\"line2d_7\">\n      <path clip-path=\"url(#p8c4420c0b7)\" d=\"M 180.071845 239.758125 \nL 180.071845 22.318125 \n\" style=\"fill:none;stroke:#b0b0b0;stroke-linecap:square;stroke-width:0.8;\"/>\n     </g>\n     <g id=\"line2d_8\">\n      <g>\n       <use style=\"stroke:#000000;stroke-width:0.8;\" x=\"180.071845\" xlink:href=\"#m7da4f57617\" y=\"239.758125\"/>\n      </g>\n     </g>\n     <g id=\"text_4\">\n      <!-- 0.75 -->\n      <defs>\n       <path d=\"M 8.203125 72.90625 \nL 55.078125 72.90625 \nL 55.078125 68.703125 \nL 28.609375 0 \nL 18.3125 0 \nL 43.21875 64.59375 \nL 8.203125 64.59375 \nz\n\" id=\"DejaVuSans-55\"/>\n      </defs>\n      <g transform=\"translate(168.939033 254.356562)scale(0.1 -0.1)\">\n       <use xlink:href=\"#DejaVuSans-48\"/>\n       <use x=\"63.623047\" xlink:href=\"#DejaVuSans-46\"/>\n       <use x=\"95.410156\" xlink:href=\"#DejaVuSans-55\"/>\n       <use x=\"159.033203\" xlink:href=\"#DejaVuSans-53\"/>\n      </g>\n     </g>\n    </g>\n    <g id=\"xtick_5\">\n     <g id=\"line2d_9\">\n      <path clip-path=\"url(#p8c4420c0b7)\" d=\"M 218.308483 239.758125 \nL 218.308483 22.318125 \n\" style=\"fill:none;stroke:#b0b0b0;stroke-linecap:square;stroke-width:0.8;\"/>\n     </g>\n     <g id=\"line2d_10\">\n      <g>\n       <use style=\"stroke:#000000;stroke-width:0.8;\" x=\"218.308483\" xlink:href=\"#m7da4f57617\" y=\"239.758125\"/>\n      </g>\n     </g>\n     <g id=\"text_5\">\n      <!-- 1.00 -->\n      <defs>\n       <path d=\"M 12.40625 8.296875 \nL 28.515625 8.296875 \nL 28.515625 63.921875 \nL 10.984375 60.40625 \nL 10.984375 69.390625 \nL 28.421875 72.90625 \nL 38.28125 72.90625 \nL 38.28125 8.296875 \nL 54.390625 8.296875 \nL 54.390625 0 \nL 12.40625 0 \nz\n\" id=\"DejaVuSans-49\"/>\n      </defs>\n      <g transform=\"translate(207.17567 254.356562)scale(0.1 -0.1)\">\n       <use xlink:href=\"#DejaVuSans-49\"/>\n       <use x=\"63.623047\" xlink:href=\"#DejaVuSans-46\"/>\n       <use x=\"95.410156\" xlink:href=\"#DejaVuSans-48\"/>\n       <use x=\"159.033203\" xlink:href=\"#DejaVuSans-48\"/>\n      </g>\n     </g>\n    </g>\n    <g id=\"xtick_6\">\n     <g id=\"line2d_11\">\n      <path clip-path=\"url(#p8c4420c0b7)\" d=\"M 256.54512 239.758125 \nL 256.54512 22.318125 \n\" style=\"fill:none;stroke:#b0b0b0;stroke-linecap:square;stroke-width:0.8;\"/>\n     </g>\n     <g id=\"line2d_12\">\n      <g>\n       <use style=\"stroke:#000000;stroke-width:0.8;\" x=\"256.54512\" xlink:href=\"#m7da4f57617\" y=\"239.758125\"/>\n      </g>\n     </g>\n     <g id=\"text_6\">\n      <!-- 1.25 -->\n      <g transform=\"translate(245.412308 254.356562)scale(0.1 -0.1)\">\n       <use xlink:href=\"#DejaVuSans-49\"/>\n       <use x=\"63.623047\" xlink:href=\"#DejaVuSans-46\"/>\n       <use x=\"95.410156\" xlink:href=\"#DejaVuSans-50\"/>\n       <use x=\"159.033203\" xlink:href=\"#DejaVuSans-53\"/>\n      </g>\n     </g>\n    </g>\n    <g id=\"xtick_7\">\n     <g id=\"line2d_13\">\n      <path clip-path=\"url(#p8c4420c0b7)\" d=\"M 294.781758 239.758125 \nL 294.781758 22.318125 \n\" style=\"fill:none;stroke:#b0b0b0;stroke-linecap:square;stroke-width:0.8;\"/>\n     </g>\n     <g id=\"line2d_14\">\n      <g>\n       <use style=\"stroke:#000000;stroke-width:0.8;\" x=\"294.781758\" xlink:href=\"#m7da4f57617\" y=\"239.758125\"/>\n      </g>\n     </g>\n     <g id=\"text_7\">\n      <!-- 1.50 -->\n      <g transform=\"translate(283.648946 254.356562)scale(0.1 -0.1)\">\n       <use xlink:href=\"#DejaVuSans-49\"/>\n       <use x=\"63.623047\" xlink:href=\"#DejaVuSans-46\"/>\n       <use x=\"95.410156\" xlink:href=\"#DejaVuSans-53\"/>\n       <use x=\"159.033203\" xlink:href=\"#DejaVuSans-48\"/>\n      </g>\n     </g>\n    </g>\n    <g id=\"xtick_8\">\n     <g id=\"line2d_15\">\n      <path clip-path=\"url(#p8c4420c0b7)\" d=\"M 333.018396 239.758125 \nL 333.018396 22.318125 \n\" style=\"fill:none;stroke:#b0b0b0;stroke-linecap:square;stroke-width:0.8;\"/>\n     </g>\n     <g id=\"line2d_16\">\n      <g>\n       <use style=\"stroke:#000000;stroke-width:0.8;\" x=\"333.018396\" xlink:href=\"#m7da4f57617\" y=\"239.758125\"/>\n      </g>\n     </g>\n     <g id=\"text_8\">\n      <!-- 1.75 -->\n      <g transform=\"translate(321.885583 254.356562)scale(0.1 -0.1)\">\n       <use xlink:href=\"#DejaVuSans-49\"/>\n       <use x=\"63.623047\" xlink:href=\"#DejaVuSans-46\"/>\n       <use x=\"95.410156\" xlink:href=\"#DejaVuSans-55\"/>\n       <use x=\"159.033203\" xlink:href=\"#DejaVuSans-53\"/>\n      </g>\n     </g>\n    </g>\n    <g id=\"xtick_9\">\n     <g id=\"line2d_17\">\n      <path clip-path=\"url(#p8c4420c0b7)\" d=\"M 371.255034 239.758125 \nL 371.255034 22.318125 \n\" style=\"fill:none;stroke:#b0b0b0;stroke-linecap:square;stroke-width:0.8;\"/>\n     </g>\n     <g id=\"line2d_18\">\n      <g>\n       <use style=\"stroke:#000000;stroke-width:0.8;\" x=\"371.255034\" xlink:href=\"#m7da4f57617\" y=\"239.758125\"/>\n      </g>\n     </g>\n     <g id=\"text_9\">\n      <!-- 2.00 -->\n      <g transform=\"translate(360.122221 254.356562)scale(0.1 -0.1)\">\n       <use xlink:href=\"#DejaVuSans-50\"/>\n       <use x=\"63.623047\" xlink:href=\"#DejaVuSans-46\"/>\n       <use x=\"95.410156\" xlink:href=\"#DejaVuSans-48\"/>\n       <use x=\"159.033203\" xlink:href=\"#DejaVuSans-48\"/>\n      </g>\n     </g>\n    </g>\n    <g id=\"text_10\">\n     <!-- time (s) -->\n     <defs>\n      <path d=\"M 18.3125 70.21875 \nL 18.3125 54.6875 \nL 36.8125 54.6875 \nL 36.8125 47.703125 \nL 18.3125 47.703125 \nL 18.3125 18.015625 \nQ 18.3125 11.328125 20.140625 9.421875 \nQ 21.96875 7.515625 27.59375 7.515625 \nL 36.8125 7.515625 \nL 36.8125 0 \nL 27.59375 0 \nQ 17.1875 0 13.234375 3.875 \nQ 9.28125 7.765625 9.28125 18.015625 \nL 9.28125 47.703125 \nL 2.6875 47.703125 \nL 2.6875 54.6875 \nL 9.28125 54.6875 \nL 9.28125 70.21875 \nz\n\" id=\"DejaVuSans-116\"/>\n      <path d=\"M 9.421875 54.6875 \nL 18.40625 54.6875 \nL 18.40625 0 \nL 9.421875 0 \nz\nM 9.421875 75.984375 \nL 18.40625 75.984375 \nL 18.40625 64.59375 \nL 9.421875 64.59375 \nz\n\" id=\"DejaVuSans-105\"/>\n      <path d=\"M 52 44.1875 \nQ 55.375 50.25 60.0625 53.125 \nQ 64.75 56 71.09375 56 \nQ 79.640625 56 84.28125 50.015625 \nQ 88.921875 44.046875 88.921875 33.015625 \nL 88.921875 0 \nL 79.890625 0 \nL 79.890625 32.71875 \nQ 79.890625 40.578125 77.09375 44.375 \nQ 74.3125 48.1875 68.609375 48.1875 \nQ 61.625 48.1875 57.5625 43.546875 \nQ 53.515625 38.921875 53.515625 30.90625 \nL 53.515625 0 \nL 44.484375 0 \nL 44.484375 32.71875 \nQ 44.484375 40.625 41.703125 44.40625 \nQ 38.921875 48.1875 33.109375 48.1875 \nQ 26.21875 48.1875 22.15625 43.53125 \nQ 18.109375 38.875 18.109375 30.90625 \nL 18.109375 0 \nL 9.078125 0 \nL 9.078125 54.6875 \nL 18.109375 54.6875 \nL 18.109375 46.1875 \nQ 21.1875 51.21875 25.484375 53.609375 \nQ 29.78125 56 35.6875 56 \nQ 41.65625 56 45.828125 52.96875 \nQ 50 49.953125 52 44.1875 \nz\n\" id=\"DejaVuSans-109\"/>\n      <path d=\"M 56.203125 29.59375 \nL 56.203125 25.203125 \nL 14.890625 25.203125 \nQ 15.484375 15.921875 20.484375 11.0625 \nQ 25.484375 6.203125 34.421875 6.203125 \nQ 39.59375 6.203125 44.453125 7.46875 \nQ 49.3125 8.734375 54.109375 11.28125 \nL 54.109375 2.78125 \nQ 49.265625 0.734375 44.1875 -0.34375 \nQ 39.109375 -1.421875 33.890625 -1.421875 \nQ 20.796875 -1.421875 13.15625 6.1875 \nQ 5.515625 13.8125 5.515625 26.8125 \nQ 5.515625 40.234375 12.765625 48.109375 \nQ 20.015625 56 32.328125 56 \nQ 43.359375 56 49.78125 48.890625 \nQ 56.203125 41.796875 56.203125 29.59375 \nz\nM 47.21875 32.234375 \nQ 47.125 39.59375 43.09375 43.984375 \nQ 39.0625 48.390625 32.421875 48.390625 \nQ 24.90625 48.390625 20.390625 44.140625 \nQ 15.875 39.890625 15.1875 32.171875 \nz\n\" id=\"DejaVuSans-101\"/>\n      <path id=\"DejaVuSans-32\"/>\n      <path d=\"M 31 75.875 \nQ 24.46875 64.65625 21.28125 53.65625 \nQ 18.109375 42.671875 18.109375 31.390625 \nQ 18.109375 20.125 21.3125 9.0625 \nQ 24.515625 -2 31 -13.1875 \nL 23.1875 -13.1875 \nQ 15.875 -1.703125 12.234375 9.375 \nQ 8.59375 20.453125 8.59375 31.390625 \nQ 8.59375 42.28125 12.203125 53.3125 \nQ 15.828125 64.359375 23.1875 75.875 \nz\n\" id=\"DejaVuSans-40\"/>\n      <path d=\"M 44.28125 53.078125 \nL 44.28125 44.578125 \nQ 40.484375 46.53125 36.375 47.5 \nQ 32.28125 48.484375 27.875 48.484375 \nQ 21.1875 48.484375 17.84375 46.4375 \nQ 14.5 44.390625 14.5 40.28125 \nQ 14.5 37.15625 16.890625 35.375 \nQ 19.28125 33.59375 26.515625 31.984375 \nL 29.59375 31.296875 \nQ 39.15625 29.25 43.1875 25.515625 \nQ 47.21875 21.78125 47.21875 15.09375 \nQ 47.21875 7.46875 41.1875 3.015625 \nQ 35.15625 -1.421875 24.609375 -1.421875 \nQ 20.21875 -1.421875 15.453125 -0.5625 \nQ 10.6875 0.296875 5.421875 2 \nL 5.421875 11.28125 \nQ 10.40625 8.6875 15.234375 7.390625 \nQ 20.0625 6.109375 24.8125 6.109375 \nQ 31.15625 6.109375 34.5625 8.28125 \nQ 37.984375 10.453125 37.984375 14.40625 \nQ 37.984375 18.0625 35.515625 20.015625 \nQ 33.0625 21.96875 24.703125 23.78125 \nL 21.578125 24.515625 \nQ 13.234375 26.265625 9.515625 29.90625 \nQ 5.8125 33.546875 5.8125 39.890625 \nQ 5.8125 47.609375 11.28125 51.796875 \nQ 16.75 56 26.8125 56 \nQ 31.78125 56 36.171875 55.265625 \nQ 40.578125 54.546875 44.28125 53.078125 \nz\n\" id=\"DejaVuSans-115\"/>\n      <path d=\"M 8.015625 75.875 \nL 15.828125 75.875 \nQ 23.140625 64.359375 26.78125 53.3125 \nQ 30.421875 42.28125 30.421875 31.390625 \nQ 30.421875 20.453125 26.78125 9.375 \nQ 23.140625 -1.703125 15.828125 -13.1875 \nL 8.015625 -13.1875 \nQ 14.5 -2 17.703125 9.0625 \nQ 20.90625 20.125 20.90625 31.390625 \nQ 20.90625 42.671875 17.703125 53.65625 \nQ 14.5 64.65625 8.015625 75.875 \nz\n\" id=\"DejaVuSans-41\"/>\n     </defs>\n     <g transform=\"translate(198.152344 268.034687)scale(0.1 -0.1)\">\n      <use xlink:href=\"#DejaVuSans-116\"/>\n      <use x=\"39.208984\" xlink:href=\"#DejaVuSans-105\"/>\n      <use x=\"66.992188\" xlink:href=\"#DejaVuSans-109\"/>\n      <use x=\"164.404297\" xlink:href=\"#DejaVuSans-101\"/>\n      <use x=\"225.927734\" xlink:href=\"#DejaVuSans-32\"/>\n      <use x=\"257.714844\" xlink:href=\"#DejaVuSans-40\"/>\n      <use x=\"296.728516\" xlink:href=\"#DejaVuSans-115\"/>\n      <use x=\"348.828125\" xlink:href=\"#DejaVuSans-41\"/>\n     </g>\n    </g>\n   </g>\n   <g id=\"matplotlib.axis_2\">\n    <g id=\"ytick_1\">\n     <g id=\"line2d_19\">\n      <path clip-path=\"url(#p8c4420c0b7)\" d=\"M 50.14375 229.874489 \nL 384.94375 229.874489 \n\" style=\"fill:none;stroke:#b0b0b0;stroke-linecap:square;stroke-width:0.8;\"/>\n     </g>\n     <g id=\"line2d_20\">\n      <defs>\n       <path d=\"M 0 0 \nL -3.5 0 \n\" id=\"me6c5964896\" style=\"stroke:#000000;stroke-width:0.8;\"/>\n      </defs>\n      <g>\n       <use style=\"stroke:#000000;stroke-width:0.8;\" x=\"50.14375\" xlink:href=\"#me6c5964896\" y=\"229.874489\"/>\n      </g>\n     </g>\n     <g id=\"text_11\">\n      <!-- 0.00 -->\n      <g transform=\"translate(20.878125 233.673707)scale(0.1 -0.1)\">\n       <use xlink:href=\"#DejaVuSans-48\"/>\n       <use x=\"63.623047\" xlink:href=\"#DejaVuSans-46\"/>\n       <use x=\"95.410156\" xlink:href=\"#DejaVuSans-48\"/>\n       <use x=\"159.033203\" xlink:href=\"#DejaVuSans-48\"/>\n      </g>\n     </g>\n    </g>\n    <g id=\"ytick_2\">\n     <g id=\"line2d_21\">\n      <path clip-path=\"url(#p8c4420c0b7)\" d=\"M 50.14375 205.165398 \nL 384.94375 205.165398 \n\" style=\"fill:none;stroke:#b0b0b0;stroke-linecap:square;stroke-width:0.8;\"/>\n     </g>\n     <g id=\"line2d_22\">\n      <g>\n       <use style=\"stroke:#000000;stroke-width:0.8;\" x=\"50.14375\" xlink:href=\"#me6c5964896\" y=\"205.165398\"/>\n      </g>\n     </g>\n     <g id=\"text_12\">\n      <!-- 0.25 -->\n      <g transform=\"translate(20.878125 208.964616)scale(0.1 -0.1)\">\n       <use xlink:href=\"#DejaVuSans-48\"/>\n       <use x=\"63.623047\" xlink:href=\"#DejaVuSans-46\"/>\n       <use x=\"95.410156\" xlink:href=\"#DejaVuSans-50\"/>\n       <use x=\"159.033203\" xlink:href=\"#DejaVuSans-53\"/>\n      </g>\n     </g>\n    </g>\n    <g id=\"ytick_3\">\n     <g id=\"line2d_23\">\n      <path clip-path=\"url(#p8c4420c0b7)\" d=\"M 50.14375 180.456307 \nL 384.94375 180.456307 \n\" style=\"fill:none;stroke:#b0b0b0;stroke-linecap:square;stroke-width:0.8;\"/>\n     </g>\n     <g id=\"line2d_24\">\n      <g>\n       <use style=\"stroke:#000000;stroke-width:0.8;\" x=\"50.14375\" xlink:href=\"#me6c5964896\" y=\"180.456307\"/>\n      </g>\n     </g>\n     <g id=\"text_13\">\n      <!-- 0.50 -->\n      <g transform=\"translate(20.878125 184.255526)scale(0.1 -0.1)\">\n       <use xlink:href=\"#DejaVuSans-48\"/>\n       <use x=\"63.623047\" xlink:href=\"#DejaVuSans-46\"/>\n       <use x=\"95.410156\" xlink:href=\"#DejaVuSans-53\"/>\n       <use x=\"159.033203\" xlink:href=\"#DejaVuSans-48\"/>\n      </g>\n     </g>\n    </g>\n    <g id=\"ytick_4\">\n     <g id=\"line2d_25\">\n      <path clip-path=\"url(#p8c4420c0b7)\" d=\"M 50.14375 155.747216 \nL 384.94375 155.747216 \n\" style=\"fill:none;stroke:#b0b0b0;stroke-linecap:square;stroke-width:0.8;\"/>\n     </g>\n     <g id=\"line2d_26\">\n      <g>\n       <use style=\"stroke:#000000;stroke-width:0.8;\" x=\"50.14375\" xlink:href=\"#me6c5964896\" y=\"155.747216\"/>\n      </g>\n     </g>\n     <g id=\"text_14\">\n      <!-- 0.75 -->\n      <g transform=\"translate(20.878125 159.546435)scale(0.1 -0.1)\">\n       <use xlink:href=\"#DejaVuSans-48\"/>\n       <use x=\"63.623047\" xlink:href=\"#DejaVuSans-46\"/>\n       <use x=\"95.410156\" xlink:href=\"#DejaVuSans-55\"/>\n       <use x=\"159.033203\" xlink:href=\"#DejaVuSans-53\"/>\n      </g>\n     </g>\n    </g>\n    <g id=\"ytick_5\">\n     <g id=\"line2d_27\">\n      <path clip-path=\"url(#p8c4420c0b7)\" d=\"M 50.14375 131.038125 \nL 384.94375 131.038125 \n\" style=\"fill:none;stroke:#b0b0b0;stroke-linecap:square;stroke-width:0.8;\"/>\n     </g>\n     <g id=\"line2d_28\">\n      <g>\n       <use style=\"stroke:#000000;stroke-width:0.8;\" x=\"50.14375\" xlink:href=\"#me6c5964896\" y=\"131.038125\"/>\n      </g>\n     </g>\n     <g id=\"text_15\">\n      <!-- 1.00 -->\n      <g transform=\"translate(20.878125 134.837344)scale(0.1 -0.1)\">\n       <use xlink:href=\"#DejaVuSans-49\"/>\n       <use x=\"63.623047\" xlink:href=\"#DejaVuSans-46\"/>\n       <use x=\"95.410156\" xlink:href=\"#DejaVuSans-48\"/>\n       <use x=\"159.033203\" xlink:href=\"#DejaVuSans-48\"/>\n      </g>\n     </g>\n    </g>\n    <g id=\"ytick_6\">\n     <g id=\"line2d_29\">\n      <path clip-path=\"url(#p8c4420c0b7)\" d=\"M 50.14375 106.329034 \nL 384.94375 106.329034 \n\" style=\"fill:none;stroke:#b0b0b0;stroke-linecap:square;stroke-width:0.8;\"/>\n     </g>\n     <g id=\"line2d_30\">\n      <g>\n       <use style=\"stroke:#000000;stroke-width:0.8;\" x=\"50.14375\" xlink:href=\"#me6c5964896\" y=\"106.329034\"/>\n      </g>\n     </g>\n     <g id=\"text_16\">\n      <!-- 1.25 -->\n      <g transform=\"translate(20.878125 110.128253)scale(0.1 -0.1)\">\n       <use xlink:href=\"#DejaVuSans-49\"/>\n       <use x=\"63.623047\" xlink:href=\"#DejaVuSans-46\"/>\n       <use x=\"95.410156\" xlink:href=\"#DejaVuSans-50\"/>\n       <use x=\"159.033203\" xlink:href=\"#DejaVuSans-53\"/>\n      </g>\n     </g>\n    </g>\n    <g id=\"ytick_7\">\n     <g id=\"line2d_31\">\n      <path clip-path=\"url(#p8c4420c0b7)\" d=\"M 50.14375 81.619943 \nL 384.94375 81.619943 \n\" style=\"fill:none;stroke:#b0b0b0;stroke-linecap:square;stroke-width:0.8;\"/>\n     </g>\n     <g id=\"line2d_32\">\n      <g>\n       <use style=\"stroke:#000000;stroke-width:0.8;\" x=\"50.14375\" xlink:href=\"#me6c5964896\" y=\"81.619943\"/>\n      </g>\n     </g>\n     <g id=\"text_17\">\n      <!-- 1.50 -->\n      <g transform=\"translate(20.878125 85.419162)scale(0.1 -0.1)\">\n       <use xlink:href=\"#DejaVuSans-49\"/>\n       <use x=\"63.623047\" xlink:href=\"#DejaVuSans-46\"/>\n       <use x=\"95.410156\" xlink:href=\"#DejaVuSans-53\"/>\n       <use x=\"159.033203\" xlink:href=\"#DejaVuSans-48\"/>\n      </g>\n     </g>\n    </g>\n    <g id=\"ytick_8\">\n     <g id=\"line2d_33\">\n      <path clip-path=\"url(#p8c4420c0b7)\" d=\"M 50.14375 56.910852 \nL 384.94375 56.910852 \n\" style=\"fill:none;stroke:#b0b0b0;stroke-linecap:square;stroke-width:0.8;\"/>\n     </g>\n     <g id=\"line2d_34\">\n      <g>\n       <use style=\"stroke:#000000;stroke-width:0.8;\" x=\"50.14375\" xlink:href=\"#me6c5964896\" y=\"56.910852\"/>\n      </g>\n     </g>\n     <g id=\"text_18\">\n      <!-- 1.75 -->\n      <g transform=\"translate(20.878125 60.710071)scale(0.1 -0.1)\">\n       <use xlink:href=\"#DejaVuSans-49\"/>\n       <use x=\"63.623047\" xlink:href=\"#DejaVuSans-46\"/>\n       <use x=\"95.410156\" xlink:href=\"#DejaVuSans-55\"/>\n       <use x=\"159.033203\" xlink:href=\"#DejaVuSans-53\"/>\n      </g>\n     </g>\n    </g>\n    <g id=\"ytick_9\">\n     <g id=\"line2d_35\">\n      <path clip-path=\"url(#p8c4420c0b7)\" d=\"M 50.14375 32.201761 \nL 384.94375 32.201761 \n\" style=\"fill:none;stroke:#b0b0b0;stroke-linecap:square;stroke-width:0.8;\"/>\n     </g>\n     <g id=\"line2d_36\">\n      <g>\n       <use style=\"stroke:#000000;stroke-width:0.8;\" x=\"50.14375\" xlink:href=\"#me6c5964896\" y=\"32.201761\"/>\n      </g>\n     </g>\n     <g id=\"text_19\">\n      <!-- 2.00 -->\n      <g transform=\"translate(20.878125 36.00098)scale(0.1 -0.1)\">\n       <use xlink:href=\"#DejaVuSans-50\"/>\n       <use x=\"63.623047\" xlink:href=\"#DejaVuSans-46\"/>\n       <use x=\"95.410156\" xlink:href=\"#DejaVuSans-48\"/>\n       <use x=\"159.033203\" xlink:href=\"#DejaVuSans-48\"/>\n      </g>\n     </g>\n    </g>\n    <g id=\"text_20\">\n     <!-- voltage (mV) -->\n     <defs>\n      <path d=\"M 2.984375 54.6875 \nL 12.5 54.6875 \nL 29.59375 8.796875 \nL 46.6875 54.6875 \nL 56.203125 54.6875 \nL 35.6875 0 \nL 23.484375 0 \nz\n\" id=\"DejaVuSans-118\"/>\n      <path d=\"M 30.609375 48.390625 \nQ 23.390625 48.390625 19.1875 42.75 \nQ 14.984375 37.109375 14.984375 27.296875 \nQ 14.984375 17.484375 19.15625 11.84375 \nQ 23.34375 6.203125 30.609375 6.203125 \nQ 37.796875 6.203125 41.984375 11.859375 \nQ 46.1875 17.53125 46.1875 27.296875 \nQ 46.1875 37.015625 41.984375 42.703125 \nQ 37.796875 48.390625 30.609375 48.390625 \nz\nM 30.609375 56 \nQ 42.328125 56 49.015625 48.375 \nQ 55.71875 40.765625 55.71875 27.296875 \nQ 55.71875 13.875 49.015625 6.21875 \nQ 42.328125 -1.421875 30.609375 -1.421875 \nQ 18.84375 -1.421875 12.171875 6.21875 \nQ 5.515625 13.875 5.515625 27.296875 \nQ 5.515625 40.765625 12.171875 48.375 \nQ 18.84375 56 30.609375 56 \nz\n\" id=\"DejaVuSans-111\"/>\n      <path d=\"M 9.421875 75.984375 \nL 18.40625 75.984375 \nL 18.40625 0 \nL 9.421875 0 \nz\n\" id=\"DejaVuSans-108\"/>\n      <path d=\"M 34.28125 27.484375 \nQ 23.390625 27.484375 19.1875 25 \nQ 14.984375 22.515625 14.984375 16.5 \nQ 14.984375 11.71875 18.140625 8.90625 \nQ 21.296875 6.109375 26.703125 6.109375 \nQ 34.1875 6.109375 38.703125 11.40625 \nQ 43.21875 16.703125 43.21875 25.484375 \nL 43.21875 27.484375 \nz\nM 52.203125 31.203125 \nL 52.203125 0 \nL 43.21875 0 \nL 43.21875 8.296875 \nQ 40.140625 3.328125 35.546875 0.953125 \nQ 30.953125 -1.421875 24.3125 -1.421875 \nQ 15.921875 -1.421875 10.953125 3.296875 \nQ 6 8.015625 6 15.921875 \nQ 6 25.140625 12.171875 29.828125 \nQ 18.359375 34.515625 30.609375 34.515625 \nL 43.21875 34.515625 \nL 43.21875 35.40625 \nQ 43.21875 41.609375 39.140625 45 \nQ 35.0625 48.390625 27.6875 48.390625 \nQ 23 48.390625 18.546875 47.265625 \nQ 14.109375 46.140625 10.015625 43.890625 \nL 10.015625 52.203125 \nQ 14.9375 54.109375 19.578125 55.046875 \nQ 24.21875 56 28.609375 56 \nQ 40.484375 56 46.34375 49.84375 \nQ 52.203125 43.703125 52.203125 31.203125 \nz\n\" id=\"DejaVuSans-97\"/>\n      <path d=\"M 45.40625 27.984375 \nQ 45.40625 37.75 41.375 43.109375 \nQ 37.359375 48.484375 30.078125 48.484375 \nQ 22.859375 48.484375 18.828125 43.109375 \nQ 14.796875 37.75 14.796875 27.984375 \nQ 14.796875 18.265625 18.828125 12.890625 \nQ 22.859375 7.515625 30.078125 7.515625 \nQ 37.359375 7.515625 41.375 12.890625 \nQ 45.40625 18.265625 45.40625 27.984375 \nz\nM 54.390625 6.78125 \nQ 54.390625 -7.171875 48.1875 -13.984375 \nQ 42 -20.796875 29.203125 -20.796875 \nQ 24.46875 -20.796875 20.265625 -20.09375 \nQ 16.0625 -19.390625 12.109375 -17.921875 \nL 12.109375 -9.1875 \nQ 16.0625 -11.328125 19.921875 -12.34375 \nQ 23.78125 -13.375 27.78125 -13.375 \nQ 36.625 -13.375 41.015625 -8.765625 \nQ 45.40625 -4.15625 45.40625 5.171875 \nL 45.40625 9.625 \nQ 42.625 4.78125 38.28125 2.390625 \nQ 33.9375 0 27.875 0 \nQ 17.828125 0 11.671875 7.65625 \nQ 5.515625 15.328125 5.515625 27.984375 \nQ 5.515625 40.671875 11.671875 48.328125 \nQ 17.828125 56 27.875 56 \nQ 33.9375 56 38.28125 53.609375 \nQ 42.625 51.21875 45.40625 46.390625 \nL 45.40625 54.6875 \nL 54.390625 54.6875 \nz\n\" id=\"DejaVuSans-103\"/>\n      <path d=\"M 28.609375 0 \nL 0.78125 72.90625 \nL 11.078125 72.90625 \nL 34.1875 11.53125 \nL 57.328125 72.90625 \nL 67.578125 72.90625 \nL 39.796875 0 \nz\n\" id=\"DejaVuSans-86\"/>\n     </defs>\n     <g transform=\"translate(14.798438 163.502187)rotate(-90)scale(0.1 -0.1)\">\n      <use xlink:href=\"#DejaVuSans-118\"/>\n      <use x=\"59.179688\" xlink:href=\"#DejaVuSans-111\"/>\n      <use x=\"120.361328\" xlink:href=\"#DejaVuSans-108\"/>\n      <use x=\"148.144531\" xlink:href=\"#DejaVuSans-116\"/>\n      <use x=\"187.353516\" xlink:href=\"#DejaVuSans-97\"/>\n      <use x=\"248.632812\" xlink:href=\"#DejaVuSans-103\"/>\n      <use x=\"312.109375\" xlink:href=\"#DejaVuSans-101\"/>\n      <use x=\"373.632812\" xlink:href=\"#DejaVuSans-32\"/>\n      <use x=\"405.419922\" xlink:href=\"#DejaVuSans-40\"/>\n      <use x=\"444.433594\" xlink:href=\"#DejaVuSans-109\"/>\n      <use x=\"541.845703\" xlink:href=\"#DejaVuSans-86\"/>\n      <use x=\"610.253906\" xlink:href=\"#DejaVuSans-41\"/>\n     </g>\n    </g>\n   </g>\n   <g id=\"line2d_37\">\n    <path clip-path=\"url(#p8c4420c0b7)\" d=\"M 65.361932 131.038125 \nL 71.479794 106.458521 \nL 76.06819 88.955648 \nL 79.127121 78.078953 \nL 82.186052 68.037456 \nL 85.244983 58.989517 \nL 88.303914 51.077827 \nL 89.83338 47.587823 \nL 91.362845 44.427159 \nL 92.892311 41.608309 \nL 94.421776 39.142398 \nL 95.951242 37.039157 \nL 97.480708 35.306887 \nL 99.010173 33.952425 \nL 100.539639 32.981116 \nL 102.069104 32.396792 \nL 103.59857 32.201761 \nL 105.128035 32.396792 \nL 106.657501 32.981116 \nL 108.186966 33.952425 \nL 109.716432 35.306887 \nL 111.245897 37.039157 \nL 112.775363 39.142398 \nL 114.304828 41.608309 \nL 115.834294 44.427159 \nL 117.363759 47.587823 \nL 118.893225 51.077827 \nL 120.42269 54.883398 \nL 123.481621 63.379978 \nL 126.540552 72.943568 \nL 129.599483 83.423344 \nL 132.658414 94.654033 \nL 137.246811 112.518037 \nL 151.012 167.422217 \nL 154.070931 178.652906 \nL 157.129862 189.132682 \nL 160.188793 198.696272 \nL 163.247724 207.192852 \nL 164.77719 210.998423 \nL 166.306655 214.488427 \nL 167.836121 217.649091 \nL 169.365586 220.467941 \nL 170.895052 222.933852 \nL 172.424517 225.037093 \nL 173.953983 226.769363 \nL 175.483448 228.123825 \nL 177.012914 229.095134 \nL 178.54238 229.679458 \nL 180.071845 229.874489 \nL 181.601311 229.679458 \nL 183.130776 229.095134 \nL 184.660242 228.123825 \nL 186.189707 226.769363 \nL 187.719173 225.037093 \nL 189.248638 222.933852 \nL 190.778104 220.467941 \nL 192.307569 217.649091 \nL 193.837035 214.488427 \nL 195.3665 210.998423 \nL 196.895966 207.192852 \nL 199.954897 198.696272 \nL 203.013828 189.132682 \nL 206.072759 178.652906 \nL 209.13169 167.422217 \nL 213.720086 149.558213 \nL 227.485276 94.654033 \nL 230.544207 83.423344 \nL 233.603138 72.943568 \nL 236.662069 63.379978 \nL 239.721 54.883398 \nL 241.250465 51.077827 \nL 242.779931 47.587823 \nL 244.309396 44.427159 \nL 245.838862 41.608309 \nL 247.368327 39.142398 \nL 248.897793 37.039157 \nL 250.427258 35.306887 \nL 251.956724 33.952425 \nL 253.486189 32.981116 \nL 255.015655 32.396792 \nL 256.54512 32.201761 \nL 258.074586 32.396792 \nL 259.604052 32.981116 \nL 261.133517 33.952425 \nL 262.662983 35.306887 \nL 264.192448 37.039157 \nL 265.721914 39.142398 \nL 267.251379 41.608309 \nL 268.780845 44.427159 \nL 270.31031 47.587823 \nL 271.839776 51.077827 \nL 273.369241 54.883398 \nL 276.428172 63.379978 \nL 279.487103 72.943568 \nL 282.546034 83.423344 \nL 285.604965 94.654033 \nL 290.193362 112.518037 \nL 303.958551 167.422217 \nL 307.017482 178.652906 \nL 310.076413 189.132682 \nL 313.135344 198.696272 \nL 316.194275 207.192852 \nL 317.723741 210.998423 \nL 319.253206 214.488427 \nL 320.782672 217.649091 \nL 322.312137 220.467941 \nL 323.841603 222.933852 \nL 325.371068 225.037093 \nL 326.900534 226.769363 \nL 328.429999 228.123825 \nL 329.959465 229.095134 \nL 331.48893 229.679458 \nL 333.018396 229.874489 \nL 334.547861 229.679458 \nL 336.077327 229.095134 \nL 337.606792 228.123825 \nL 339.136258 226.769363 \nL 340.665724 225.037093 \nL 342.195189 222.933852 \nL 343.724655 220.467941 \nL 345.25412 217.649091 \nL 346.783586 214.488427 \nL 348.313051 210.998423 \nL 349.842517 207.192852 \nL 352.901448 198.696272 \nL 355.960379 189.132682 \nL 359.01931 178.652906 \nL 362.078241 167.422217 \nL 366.666637 149.558213 \nL 369.725568 137.244112 \nL 369.725568 137.244112 \n\" style=\"fill:none;stroke:#1f77b4;stroke-linecap:square;stroke-width:1.5;\"/>\n   </g>\n   <g id=\"patch_3\">\n    <path d=\"M 50.14375 239.758125 \nL 50.14375 22.318125 \n\" style=\"fill:none;stroke:#000000;stroke-linecap:square;stroke-linejoin:miter;stroke-width:0.8;\"/>\n   </g>\n   <g id=\"patch_4\">\n    <path d=\"M 384.94375 239.758125 \nL 384.94375 22.318125 \n\" style=\"fill:none;stroke:#000000;stroke-linecap:square;stroke-linejoin:miter;stroke-width:0.8;\"/>\n   </g>\n   <g id=\"patch_5\">\n    <path d=\"M 50.14375 239.758125 \nL 384.94375 239.758125 \n\" style=\"fill:none;stroke:#000000;stroke-linecap:square;stroke-linejoin:miter;stroke-width:0.8;\"/>\n   </g>\n   <g id=\"patch_6\">\n    <path d=\"M 50.14375 22.318125 \nL 384.94375 22.318125 \n\" style=\"fill:none;stroke:#000000;stroke-linecap:square;stroke-linejoin:miter;stroke-width:0.8;\"/>\n   </g>\n   <g id=\"text_21\">\n    <!-- About as simple as it gets, folks -->\n    <defs>\n     <path d=\"M 34.1875 63.1875 \nL 20.796875 26.90625 \nL 47.609375 26.90625 \nz\nM 28.609375 72.90625 \nL 39.796875 72.90625 \nL 67.578125 0 \nL 57.328125 0 \nL 50.6875 18.703125 \nL 17.828125 18.703125 \nL 11.1875 0 \nL 0.78125 0 \nz\n\" id=\"DejaVuSans-65\"/>\n     <path d=\"M 48.6875 27.296875 \nQ 48.6875 37.203125 44.609375 42.84375 \nQ 40.53125 48.484375 33.40625 48.484375 \nQ 26.265625 48.484375 22.1875 42.84375 \nQ 18.109375 37.203125 18.109375 27.296875 \nQ 18.109375 17.390625 22.1875 11.75 \nQ 26.265625 6.109375 33.40625 6.109375 \nQ 40.53125 6.109375 44.609375 11.75 \nQ 48.6875 17.390625 48.6875 27.296875 \nz\nM 18.109375 46.390625 \nQ 20.953125 51.265625 25.265625 53.625 \nQ 29.59375 56 35.59375 56 \nQ 45.5625 56 51.78125 48.09375 \nQ 58.015625 40.1875 58.015625 27.296875 \nQ 58.015625 14.40625 51.78125 6.484375 \nQ 45.5625 -1.421875 35.59375 -1.421875 \nQ 29.59375 -1.421875 25.265625 0.953125 \nQ 20.953125 3.328125 18.109375 8.203125 \nL 18.109375 0 \nL 9.078125 0 \nL 9.078125 75.984375 \nL 18.109375 75.984375 \nz\n\" id=\"DejaVuSans-98\"/>\n     <path d=\"M 8.5 21.578125 \nL 8.5 54.6875 \nL 17.484375 54.6875 \nL 17.484375 21.921875 \nQ 17.484375 14.15625 20.5 10.265625 \nQ 23.53125 6.390625 29.59375 6.390625 \nQ 36.859375 6.390625 41.078125 11.03125 \nQ 45.3125 15.671875 45.3125 23.6875 \nL 45.3125 54.6875 \nL 54.296875 54.6875 \nL 54.296875 0 \nL 45.3125 0 \nL 45.3125 8.40625 \nQ 42.046875 3.421875 37.71875 1 \nQ 33.40625 -1.421875 27.6875 -1.421875 \nQ 18.265625 -1.421875 13.375 4.4375 \nQ 8.5 10.296875 8.5 21.578125 \nz\nM 31.109375 56 \nz\n\" id=\"DejaVuSans-117\"/>\n     <path d=\"M 18.109375 8.203125 \nL 18.109375 -20.796875 \nL 9.078125 -20.796875 \nL 9.078125 54.6875 \nL 18.109375 54.6875 \nL 18.109375 46.390625 \nQ 20.953125 51.265625 25.265625 53.625 \nQ 29.59375 56 35.59375 56 \nQ 45.5625 56 51.78125 48.09375 \nQ 58.015625 40.1875 58.015625 27.296875 \nQ 58.015625 14.40625 51.78125 6.484375 \nQ 45.5625 -1.421875 35.59375 -1.421875 \nQ 29.59375 -1.421875 25.265625 0.953125 \nQ 20.953125 3.328125 18.109375 8.203125 \nz\nM 48.6875 27.296875 \nQ 48.6875 37.203125 44.609375 42.84375 \nQ 40.53125 48.484375 33.40625 48.484375 \nQ 26.265625 48.484375 22.1875 42.84375 \nQ 18.109375 37.203125 18.109375 27.296875 \nQ 18.109375 17.390625 22.1875 11.75 \nQ 26.265625 6.109375 33.40625 6.109375 \nQ 40.53125 6.109375 44.609375 11.75 \nQ 48.6875 17.390625 48.6875 27.296875 \nz\n\" id=\"DejaVuSans-112\"/>\n     <path d=\"M 11.71875 12.40625 \nL 22.015625 12.40625 \nL 22.015625 4 \nL 14.015625 -11.625 \nL 7.71875 -11.625 \nL 11.71875 4 \nz\n\" id=\"DejaVuSans-44\"/>\n     <path d=\"M 37.109375 75.984375 \nL 37.109375 68.5 \nL 28.515625 68.5 \nQ 23.6875 68.5 21.796875 66.546875 \nQ 19.921875 64.59375 19.921875 59.515625 \nL 19.921875 54.6875 \nL 34.71875 54.6875 \nL 34.71875 47.703125 \nL 19.921875 47.703125 \nL 19.921875 0 \nL 10.890625 0 \nL 10.890625 47.703125 \nL 2.296875 47.703125 \nL 2.296875 54.6875 \nL 10.890625 54.6875 \nL 10.890625 58.5 \nQ 10.890625 67.625 15.140625 71.796875 \nQ 19.390625 75.984375 28.609375 75.984375 \nz\n\" id=\"DejaVuSans-102\"/>\n     <path d=\"M 9.078125 75.984375 \nL 18.109375 75.984375 \nL 18.109375 31.109375 \nL 44.921875 54.6875 \nL 56.390625 54.6875 \nL 27.390625 29.109375 \nL 57.625 0 \nL 45.90625 0 \nL 18.109375 26.703125 \nL 18.109375 0 \nL 9.078125 0 \nz\n\" id=\"DejaVuSans-107\"/>\n    </defs>\n    <g transform=\"translate(121.998438 16.318125)scale(0.12 -0.12)\">\n     <use xlink:href=\"#DejaVuSans-65\"/>\n     <use x=\"68.408203\" xlink:href=\"#DejaVuSans-98\"/>\n     <use x=\"131.884766\" xlink:href=\"#DejaVuSans-111\"/>\n     <use x=\"193.066406\" xlink:href=\"#DejaVuSans-117\"/>\n     <use x=\"256.445312\" xlink:href=\"#DejaVuSans-116\"/>\n     <use x=\"295.654297\" xlink:href=\"#DejaVuSans-32\"/>\n     <use x=\"327.441406\" xlink:href=\"#DejaVuSans-97\"/>\n     <use x=\"388.720703\" xlink:href=\"#DejaVuSans-115\"/>\n     <use x=\"440.820312\" xlink:href=\"#DejaVuSans-32\"/>\n     <use x=\"472.607422\" xlink:href=\"#DejaVuSans-115\"/>\n     <use x=\"524.707031\" xlink:href=\"#DejaVuSans-105\"/>\n     <use x=\"552.490234\" xlink:href=\"#DejaVuSans-109\"/>\n     <use x=\"649.902344\" xlink:href=\"#DejaVuSans-112\"/>\n     <use x=\"713.378906\" xlink:href=\"#DejaVuSans-108\"/>\n     <use x=\"741.162109\" xlink:href=\"#DejaVuSans-101\"/>\n     <use x=\"802.685547\" xlink:href=\"#DejaVuSans-32\"/>\n     <use x=\"834.472656\" xlink:href=\"#DejaVuSans-97\"/>\n     <use x=\"895.751953\" xlink:href=\"#DejaVuSans-115\"/>\n     <use x=\"947.851562\" xlink:href=\"#DejaVuSans-32\"/>\n     <use x=\"979.638672\" xlink:href=\"#DejaVuSans-105\"/>\n     <use x=\"1007.421875\" xlink:href=\"#DejaVuSans-116\"/>\n     <use x=\"1046.630859\" xlink:href=\"#DejaVuSans-32\"/>\n     <use x=\"1078.417969\" xlink:href=\"#DejaVuSans-103\"/>\n     <use x=\"1141.894531\" xlink:href=\"#DejaVuSans-101\"/>\n     <use x=\"1203.417969\" xlink:href=\"#DejaVuSans-116\"/>\n     <use x=\"1242.626953\" xlink:href=\"#DejaVuSans-115\"/>\n     <use x=\"1294.726562\" xlink:href=\"#DejaVuSans-44\"/>\n     <use x=\"1326.513672\" xlink:href=\"#DejaVuSans-32\"/>\n     <use x=\"1358.300781\" xlink:href=\"#DejaVuSans-102\"/>\n     <use x=\"1393.505859\" xlink:href=\"#DejaVuSans-111\"/>\n     <use x=\"1454.6875\" xlink:href=\"#DejaVuSans-108\"/>\n     <use x=\"1482.470703\" xlink:href=\"#DejaVuSans-107\"/>\n     <use x=\"1540.380859\" xlink:href=\"#DejaVuSans-115\"/>\n    </g>\n   </g>\n  </g>\n </g>\n <defs>\n  <clipPath id=\"p8c4420c0b7\">\n   <rect height=\"217.44\" width=\"334.8\" x=\"50.14375\" y=\"22.318125\"/>\n  </clipPath>\n </defs>\n</svg>\n",
      "image/png": "[encoded data removed]"
     },
     "metadata": {
      "needs_background": "light"
     }
    }
   ],
   "source": [
    "t = np.arange(0.0, 2.0, 0.01)\n",
    "s = 1 + np.sin(2 * np.pi * t)\n",
    "\n",
    "fig, ax = plt.subplots()\n",
    "ax.plot(t, s)\n",
    "\n",
    "ax.set(xlabel='time (s)', ylabel='voltage (mV)',\n",
    "        title='About as simple as it gets, folks')\n",
    "ax.grid()\n",
    "plt.show()"
   ]
  },
  {
   "cell_type": "code",
   "execution_count": 3,
   "metadata": {},
   "outputs": [
    {
     "output_type": "display_data",
     "data": {
      "application/vnd.plotly.v1+json": {
       "config": {
        "plotlyServerURL": "https://plot.ly"
       },
       "data": [
        {
         "type": "scatter",
         "x": [
          0,
          0.01,
          0.02,
          0.03,
          0.04,
          0.05,
          0.06,
          0.07,
          0.08,
          0.09,
          0.1,
          0.11,
          0.12,
          0.13,
          0.14,
          0.15,
          0.16,
          0.17,
          0.18,
          0.19,
          0.2,
          0.21,
          0.22,
          0.23,
          0.24,
          0.25,
          0.26,
          0.27,
          0.28,
          0.29,
          0.3,
          0.31,
          0.32,
          0.33,
          0.34,
          0.35000000000000003,
          0.36,
          0.37,
          0.38,
          0.39,
          0.4,
          0.41000000000000003,
          0.42,
          0.43,
          0.44,
          0.45,
          0.46,
          0.47000000000000003,
          0.48,
          0.49,
          0.5,
          0.51,
          0.52,
          0.53,
          0.54,
          0.55,
          0.56,
          0.5700000000000001,
          0.58,
          0.59,
          0.6,
          0.61,
          0.62,
          0.63,
          0.64,
          0.65,
          0.66,
          0.67,
          0.68,
          0.6900000000000001,
          0.7000000000000001,
          0.71,
          0.72,
          0.73,
          0.74,
          0.75,
          0.76,
          0.77,
          0.78,
          0.79,
          0.8,
          0.81,
          0.8200000000000001,
          0.8300000000000001,
          0.84,
          0.85,
          0.86,
          0.87,
          0.88,
          0.89,
          0.9,
          0.91,
          0.92,
          0.93,
          0.9400000000000001,
          0.9500000000000001,
          0.96,
          0.97,
          0.98,
          0.99,
          1,
          1.01,
          1.02,
          1.03,
          1.04,
          1.05,
          1.06,
          1.07,
          1.08,
          1.09,
          1.1,
          1.11,
          1.12,
          1.1300000000000001,
          1.1400000000000001,
          1.1500000000000001,
          1.16,
          1.17,
          1.18,
          1.19,
          1.2,
          1.21,
          1.22,
          1.23,
          1.24,
          1.25,
          1.26,
          1.27,
          1.28,
          1.29,
          1.3,
          1.31,
          1.32,
          1.33,
          1.34,
          1.35,
          1.36,
          1.37,
          1.3800000000000001,
          1.3900000000000001,
          1.4000000000000001,
          1.41,
          1.42,
          1.43,
          1.44,
          1.45,
          1.46,
          1.47,
          1.48,
          1.49,
          1.5,
          1.51,
          1.52,
          1.53,
          1.54,
          1.55,
          1.56,
          1.57,
          1.58,
          1.59,
          1.6,
          1.61,
          1.62,
          1.6300000000000001,
          1.6400000000000001,
          1.6500000000000001,
          1.6600000000000001,
          1.67,
          1.68,
          1.69,
          1.7,
          1.71,
          1.72,
          1.73,
          1.74,
          1.75,
          1.76,
          1.77,
          1.78,
          1.79,
          1.8,
          1.81,
          1.82,
          1.83,
          1.84,
          1.85,
          1.86,
          1.87,
          1.8800000000000001,
          1.8900000000000001,
          1.9000000000000001,
          1.9100000000000001,
          1.92,
          1.93,
          1.94,
          1.95,
          1.96,
          1.97,
          1.98,
          1.99
         ],
         "y": [
          1,
          1.0627905195293135,
          1.1253332335643043,
          1.1873813145857246,
          1.2486898871648549,
          1.3090169943749475,
          1.368124552684678,
          1.4257792915650727,
          1.4817536741017152,
          1.5358267949789965,
          1.5877852522924731,
          1.6374239897486897,
          1.6845471059286887,
          1.7289686274214116,
          1.7705132427757893,
          1.8090169943749475,
          1.844327925502015,
          1.8763066800438637,
          1.9048270524660196,
          1.9297764858882513,
          1.9510565162951536,
          1.968583161128631,
          1.9822872507286886,
          1.992114701314478,
          1.9980267284282716,
          2,
          1.9980267284282716,
          1.9921147013144778,
          1.9822872507286886,
          1.968583161128631,
          1.9510565162951536,
          1.9297764858882513,
          1.9048270524660196,
          1.8763066800438635,
          1.8443279255020149,
          1.8090169943749475,
          1.7705132427757893,
          1.7289686274214113,
          1.6845471059286887,
          1.6374239897486897,
          1.5877852522924734,
          1.5358267949789965,
          1.4817536741017157,
          1.4257792915650729,
          1.3681245526846781,
          1.3090169943749475,
          1.2486898871648549,
          1.1873813145857246,
          1.1253332335643045,
          1.0627905195293135,
          1.0000000000000002,
          0.9372094804706866,
          0.8746667664356957,
          0.8126186854142752,
          0.7513101128351449,
          0.6909830056250523,
          0.6318754473153216,
          0.5742207084349273,
          0.518246325898285,
          0.46417320502100357,
          0.412214747707527,
          0.36257601025131037,
          0.3154528940713113,
          0.27103137257858867,
          0.22948675722421064,
          0.19098300562505266,
          0.1556720744979847,
          0.12369331995613642,
          0.0951729475339802,
          0.07022351411174854,
          0.04894348370484647,
          0.031416838871369035,
          0.01771274927131128,
          0.007885298685522235,
          0.001973271571728441,
          0,
          0.001973271571728441,
          0.007885298685522124,
          0.01771274927131128,
          0.031416838871368924,
          0.04894348370484636,
          0.07022351411174876,
          0.09517294753398042,
          0.12369331995613664,
          0.15567207449798448,
          0.19098300562505244,
          0.2294867572242104,
          0.27103137257858845,
          0.31545289407131105,
          0.36257601025131037,
          0.41221474770752664,
          0.4641732050210037,
          0.5182463258982847,
          0.5742207084349278,
          0.6318754473153221,
          0.6909830056250523,
          0.7513101128351447,
          0.8126186854142753,
          0.8746667664356953,
          0.9372094804706868,
          0.9999999999999998,
          1.0627905195293128,
          1.1253332335643043,
          1.1873813145857242,
          1.2486898871648549,
          1.3090169943749472,
          1.3681245526846781,
          1.4257792915650724,
          1.4817536741017157,
          1.5358267949789965,
          1.5877852522924736,
          1.6374239897486897,
          1.6845471059286892,
          1.7289686274214118,
          1.7705132427757893,
          1.809016994374948,
          1.8443279255020149,
          1.876306680043863,
          1.9048270524660194,
          1.9297764858882511,
          1.9510565162951536,
          1.968583161128631,
          1.9822872507286886,
          1.9921147013144778,
          1.9980267284282716,
          2,
          1.9980267284282716,
          1.992114701314478,
          1.9822872507286886,
          1.968583161128631,
          1.9510565162951536,
          1.9297764858882518,
          1.9048270524660191,
          1.8763066800438635,
          1.844327925502015,
          1.8090169943749477,
          1.7705132427757886,
          1.7289686274214109,
          1.6845471059286883,
          1.6374239897486897,
          1.5877852522924734,
          1.5358267949789972,
          1.481753674101716,
          1.425779291565074,
          1.368124552684678,
          1.309016994374948,
          1.2486898871648555,
          1.1873813145857257,
          1.1253332335643038,
          1.0627905195293135,
          1.0000000000000004,
          0.9372094804706873,
          0.8746667664356969,
          0.8126186854142751,
          0.7513101128351453,
          0.690983005625053,
          0.6318754473153227,
          0.5742207084349267,
          0.5182463258982845,
          0.46417320502100345,
          0.4122147477075272,
          0.3625760102513095,
          0.31545289407131083,
          0.2710313725785882,
          0.22948675722421075,
          0.19098300562505277,
          0.15567207449798437,
          0.12369331995613697,
          0.09517294753398109,
          0.07022351411174865,
          0.04894348370484658,
          0.031416838871369035,
          0.0177127492713115,
          0.007885298685522124,
          0.001973271571728441,
          0,
          0.001973271571728441,
          0.007885298685522013,
          0.01771274927131139,
          0.03141683887136881,
          0.04894348370484625,
          0.07022351411174832,
          0.09517294753398076,
          0.12369331995613653,
          0.15567207449798492,
          0.19098300562505233,
          0.2294867572242114,
          0.2710313725785889,
          0.3154528940713115,
          0.36257601025131025,
          0.41221474770752653,
          0.46417320502100423,
          0.5182463258982837,
          0.574220708434926,
          0.6318754473153219,
          0.6909830056250521,
          0.7513101128351444,
          0.8126186854142742,
          0.874666766435696,
          0.9372094804706865
         ]
        }
       ],
       "layout": {
        "template": {
         "data": {
          "bar": [
           {
            "error_x": {
             "color": "#2a3f5f"
            },
            "error_y": {
             "color": "#2a3f5f"
            },
            "marker": {
             "line": {
              "color": "#E5ECF6",
              "width": 0.5
             }
            },
            "type": "bar"
           }
          ],
          "barpolar": [
           {
            "marker": {
             "line": {
              "color": "#E5ECF6",
              "width": 0.5
             }
            },
            "type": "barpolar"
           }
          ],
          "carpet": [
           {
            "aaxis": {
             "endlinecolor": "#2a3f5f",
             "gridcolor": "white",
             "linecolor": "white",
             "minorgridcolor": "white",
             "startlinecolor": "#2a3f5f"
            },
            "baxis": {
             "endlinecolor": "#2a3f5f",
             "gridcolor": "white",
             "linecolor": "white",
             "minorgridcolor": "white",
             "startlinecolor": "#2a3f5f"
            },
            "type": "carpet"
           }
          ],
          "choropleth": [
           {
            "colorbar": {
             "outlinewidth": 0,
             "ticks": ""
            },
            "type": "choropleth"
           }
          ],
          "contour": [
           {
            "colorbar": {
             "outlinewidth": 0,
             "ticks": ""
            },
            "colorscale": [
             [
              0,
              "#0d0887"
             ],
             [
              0.1111111111111111,
              "#46039f"
             ],
             [
              0.2222222222222222,
              "#7201a8"
             ],
             [
              0.3333333333333333,
              "#9c179e"
             ],
             [
              0.4444444444444444,
              "#bd3786"
             ],
             [
              0.5555555555555556,
              "#d8576b"
             ],
             [
              0.6666666666666666,
              "#ed7953"
             ],
             [
              0.7777777777777778,
              "#fb9f3a"
             ],
             [
              0.8888888888888888,
              "#fdca26"
             ],
             [
              1,
              "#f0f921"
             ]
            ],
            "type": "contour"
           }
          ],
          "contourcarpet": [
           {
            "colorbar": {
             "outlinewidth": 0,
             "ticks": ""
            },
            "type": "contourcarpet"
           }
          ],
          "heatmap": [
           {
            "colorbar": {
             "outlinewidth": 0,
             "ticks": ""
            },
            "colorscale": [
             [
              0,
              "#0d0887"
             ],
             [
              0.1111111111111111,
              "#46039f"
             ],
             [
              0.2222222222222222,
              "#7201a8"
             ],
             [
              0.3333333333333333,
              "#9c179e"
             ],
             [
              0.4444444444444444,
              "#bd3786"
             ],
             [
              0.5555555555555556,
              "#d8576b"
             ],
             [
              0.6666666666666666,
              "#ed7953"
             ],
             [
              0.7777777777777778,
              "#fb9f3a"
             ],
             [
              0.8888888888888888,
              "#fdca26"
             ],
             [
              1,
              "#f0f921"
             ]
            ],
            "type": "heatmap"
           }
          ],
          "heatmapgl": [
           {
            "colorbar": {
             "outlinewidth": 0,
             "ticks": ""
            },
            "colorscale": [
             [
              0,
              "#0d0887"
             ],
             [
              0.1111111111111111,
              "#46039f"
             ],
             [
              0.2222222222222222,
              "#7201a8"
             ],
             [
              0.3333333333333333,
              "#9c179e"
             ],
             [
              0.4444444444444444,
              "#bd3786"
             ],
             [
              0.5555555555555556,
              "#d8576b"
             ],
             [
              0.6666666666666666,
              "#ed7953"
             ],
             [
              0.7777777777777778,
              "#fb9f3a"
             ],
             [
              0.8888888888888888,
              "#fdca26"
             ],
             [
              1,
              "#f0f921"
             ]
            ],
            "type": "heatmapgl"
           }
          ],
          "histogram": [
           {
            "marker": {
             "colorbar": {
              "outlinewidth": 0,
              "ticks": ""
             }
            },
            "type": "histogram"
           }
          ],
          "histogram2d": [
           {
            "colorbar": {
             "outlinewidth": 0,
             "ticks": ""
            },
            "colorscale": [
             [
              0,
              "#0d0887"
             ],
             [
              0.1111111111111111,
              "#46039f"
             ],
             [
              0.2222222222222222,
              "#7201a8"
             ],
             [
              0.3333333333333333,
              "#9c179e"
             ],
             [
              0.4444444444444444,
              "#bd3786"
             ],
             [
              0.5555555555555556,
              "#d8576b"
             ],
             [
              0.6666666666666666,
              "#ed7953"
             ],
             [
              0.7777777777777778,
              "#fb9f3a"
             ],
             [
              0.8888888888888888,
              "#fdca26"
             ],
             [
              1,
              "#f0f921"
             ]
            ],
            "type": "histogram2d"
           }
          ],
          "histogram2dcontour": [
           {
            "colorbar": {
             "outlinewidth": 0,
             "ticks": ""
            },
            "colorscale": [
             [
              0,
              "#0d0887"
             ],
             [
              0.1111111111111111,
              "#46039f"
             ],
             [
              0.2222222222222222,
              "#7201a8"
             ],
             [
              0.3333333333333333,
              "#9c179e"
             ],
             [
              0.4444444444444444,
              "#bd3786"
             ],
             [
              0.5555555555555556,
              "#d8576b"
             ],
             [
              0.6666666666666666,
              "#ed7953"
             ],
             [
              0.7777777777777778,
              "#fb9f3a"
             ],
             [
              0.8888888888888888,
              "#fdca26"
             ],
             [
              1,
              "#f0f921"
             ]
            ],
            "type": "histogram2dcontour"
           }
          ],
          "mesh3d": [
           {
            "colorbar": {
             "outlinewidth": 0,
             "ticks": ""
            },
            "type": "mesh3d"
           }
          ],
          "parcoords": [
           {
            "line": {
             "colorbar": {
              "outlinewidth": 0,
              "ticks": ""
             }
            },
            "type": "parcoords"
           }
          ],
          "pie": [
           {
            "automargin": true,
            "type": "pie"
           }
          ],
          "scatter": [
           {
            "marker": {
             "colorbar": {
              "outlinewidth": 0,
              "ticks": ""
             }
            },
            "type": "scatter"
           }
          ],
          "scatter3d": [
           {
            "line": {
             "colorbar": {
              "outlinewidth": 0,
              "ticks": ""
             }
            },
            "marker": {
             "colorbar": {
              "outlinewidth": 0,
              "ticks": ""
             }
            },
            "type": "scatter3d"
           }
          ],
          "scattercarpet": [
           {
            "marker": {
             "colorbar": {
              "outlinewidth": 0,
              "ticks": ""
             }
            },
            "type": "scattercarpet"
           }
          ],
          "scattergeo": [
           {
            "marker": {
             "colorbar": {
              "outlinewidth": 0,
              "ticks": ""
             }
            },
            "type": "scattergeo"
           }
          ],
          "scattergl": [
           {
            "marker": {
             "colorbar": {
              "outlinewidth": 0,
              "ticks": ""
             }
            },
            "type": "scattergl"
           }
          ],
          "scattermapbox": [
           {
            "marker": {
             "colorbar": {
              "outlinewidth": 0,
              "ticks": ""
             }
            },
            "type": "scattermapbox"
           }
          ],
          "scatterpolar": [
           {
            "marker": {
             "colorbar": {
              "outlinewidth": 0,
              "ticks": ""
             }
            },
            "type": "scatterpolar"
           }
          ],
          "scatterpolargl": [
           {
            "marker": {
             "colorbar": {
              "outlinewidth": 0,
              "ticks": ""
             }
            },
            "type": "scatterpolargl"
           }
          ],
          "scatterternary": [
           {
            "marker": {
             "colorbar": {
              "outlinewidth": 0,
              "ticks": ""
             }
            },
            "type": "scatterternary"
           }
          ],
          "surface": [
           {
            "colorbar": {
             "outlinewidth": 0,
             "ticks": ""
            },
            "colorscale": [
             [
              0,
              "#0d0887"
             ],
             [
              0.1111111111111111,
              "#46039f"
             ],
             [
              0.2222222222222222,
              "#7201a8"
             ],
             [
              0.3333333333333333,
              "#9c179e"
             ],
             [
              0.4444444444444444,
              "#bd3786"
             ],
             [
              0.5555555555555556,
              "#d8576b"
             ],
             [
              0.6666666666666666,
              "#ed7953"
             ],
             [
              0.7777777777777778,
              "#fb9f3a"
             ],
             [
              0.8888888888888888,
              "#fdca26"
             ],
             [
              1,
              "#f0f921"
             ]
            ],
            "type": "surface"
           }
          ],
          "table": [
           {
            "cells": {
             "fill": {
              "color": "#EBF0F8"
             },
             "line": {
              "color": "white"
             }
            },
            "header": {
             "fill": {
              "color": "#C8D4E3"
             },
             "line": {
              "color": "white"
             }
            },
            "type": "table"
           }
          ]
         },
         "layout": {
          "annotationdefaults": {
           "arrowcolor": "#2a3f5f",
           "arrowhead": 0,
           "arrowwidth": 1
          },
          "coloraxis": {
           "colorbar": {
            "outlinewidth": 0,
            "ticks": ""
           }
          },
          "colorscale": {
           "diverging": [
            [
             0,
             "#8e0152"
            ],
            [
             0.1,
             "#c51b7d"
            ],
            [
             0.2,
             "#de77ae"
            ],
            [
             0.3,
             "#f1b6da"
            ],
            [
             0.4,
             "#fde0ef"
            ],
            [
             0.5,
             "#f7f7f7"
            ],
            [
             0.6,
             "#e6f5d0"
            ],
            [
             0.7,
             "#b8e186"
            ],
            [
             0.8,
             "#7fbc41"
            ],
            [
             0.9,
             "#4d9221"
            ],
            [
             1,
             "#276419"
            ]
           ],
           "sequential": [
            [
             0,
             "#0d0887"
            ],
            [
             0.1111111111111111,
             "#46039f"
            ],
            [
             0.2222222222222222,
             "#7201a8"
            ],
            [
             0.3333333333333333,
             "#9c179e"
            ],
            [
             0.4444444444444444,
             "#bd3786"
            ],
            [
             0.5555555555555556,
             "#d8576b"
            ],
            [
             0.6666666666666666,
             "#ed7953"
            ],
            [
             0.7777777777777778,
             "#fb9f3a"
            ],
            [
             0.8888888888888888,
             "#fdca26"
            ],
            [
             1,
             "#f0f921"
            ]
           ],
           "sequentialminus": [
            [
             0,
             "#0d0887"
            ],
            [
             0.1111111111111111,
             "#46039f"
            ],
            [
             0.2222222222222222,
             "#7201a8"
            ],
            [
             0.3333333333333333,
             "#9c179e"
            ],
            [
             0.4444444444444444,
             "#bd3786"
            ],
            [
             0.5555555555555556,
             "#d8576b"
            ],
            [
             0.6666666666666666,
             "#ed7953"
            ],
            [
             0.7777777777777778,
             "#fb9f3a"
            ],
            [
             0.8888888888888888,
             "#fdca26"
            ],
            [
             1,
             "#f0f921"
            ]
           ]
          },
          "colorway": [
           "#636efa",
           "#EF553B",
           "#00cc96",
           "#ab63fa",
           "#FFA15A",
           "#19d3f3",
           "#FF6692",
           "#B6E880",
           "#FF97FF",
           "#FECB52"
          ],
          "font": {
           "color": "#2a3f5f"
          },
          "geo": {
           "bgcolor": "white",
           "lakecolor": "white",
           "landcolor": "#E5ECF6",
           "showlakes": true,
           "showland": true,
           "subunitcolor": "white"
          },
          "hoverlabel": {
           "align": "left"
          },
          "hovermode": "closest",
          "mapbox": {
           "style": "light"
          },
          "paper_bgcolor": "white",
          "plot_bgcolor": "#E5ECF6",
          "polar": {
           "angularaxis": {
            "gridcolor": "white",
            "linecolor": "white",
            "ticks": ""
           },
           "bgcolor": "#E5ECF6",
           "radialaxis": {
            "gridcolor": "white",
            "linecolor": "white",
            "ticks": ""
           }
          },
          "scene": {
           "xaxis": {
            "backgroundcolor": "#E5ECF6",
            "gridcolor": "white",
            "gridwidth": 2,
            "linecolor": "white",
            "showbackground": true,
            "ticks": "",
            "zerolinecolor": "white"
           },
           "yaxis": {
            "backgroundcolor": "#E5ECF6",
            "gridcolor": "white",
            "gridwidth": 2,
            "linecolor": "white",
            "showbackground": true,
            "ticks": "",
            "zerolinecolor": "white"
           },
           "zaxis": {
            "backgroundcolor": "#E5ECF6",
            "gridcolor": "white",
            "gridwidth": 2,
            "linecolor": "white",
            "showbackground": true,
            "ticks": "",
            "zerolinecolor": "white"
           }
          },
          "shapedefaults": {
           "line": {
            "color": "#2a3f5f"
           }
          },
          "ternary": {
           "aaxis": {
            "gridcolor": "white",
            "linecolor": "white",
            "ticks": ""
           },
           "baxis": {
            "gridcolor": "white",
            "linecolor": "white",
            "ticks": ""
           },
           "bgcolor": "#E5ECF6",
           "caxis": {
            "gridcolor": "white",
            "linecolor": "white",
            "ticks": ""
           }
          },
          "title": {
           "x": 0.05
          },
          "xaxis": {
           "automargin": true,
           "gridcolor": "white",
           "linecolor": "white",
           "ticks": "",
           "title": {
            "standoff": 15
           },
           "zerolinecolor": "white",
           "zerolinewidth": 2
          },
          "yaxis": {
           "automargin": true,
           "gridcolor": "white",
           "linecolor": "white",
           "ticks": "",
           "title": {
            "standoff": 15
           },
           "zerolinecolor": "white",
           "zerolinewidth": 2
          }
         }
        }
       }
      }
     },
     "metadata": {}
    }
   ],
   "source": [
    "t = np.arange(0.0, 2.0, 0.01)\n",
    "s = 1 + np.sin(2 * np.pi * t)\n",
    "\n",
    "fig = go.Figure(data=go.Scatter(x=t, y=s))\n",
    "fig.show()"
   ]
  },
  {
   "cell_type": "code",
   "execution_count": 4,
   "metadata": {},
   "outputs": [],
   "source": [
    "x = np.random.rand(50) * np.random.randint(-10, 10)\n",
    "y = np.random.rand(50) * np.random.randint(-10, 10)\n",
    "matrix_2D = np.random.rand(10, 10) * np.random.randint(-10, 10)"
   ]
  },
  {
   "cell_type": "code",
   "execution_count": 5,
   "metadata": {},
   "outputs": [
    {
     "output_type": "display_data",
     "data": {
      "text/plain": "<Figure size 432x288 with 1 Axes>",
      "image/svg+xml": "<?xml version=\"1.0\" encoding=\"utf-8\" standalone=\"no\"?>\n<!DOCTYPE svg PUBLIC \"-//W3C//DTD SVG 1.1//EN\"\n  \"http://www.w3.org/Graphics/SVG/1.1/DTD/svg11.dtd\">\n<!-- Created with matplotlib (https://matplotlib.org/) -->\n<svg height=\"248.518125pt\" version=\"1.1\" viewBox=\"0 0 372.409128 248.518125\" width=\"372.409128pt\" xmlns=\"http://www.w3.org/2000/svg\" xmlns:xlink=\"http://www.w3.org/1999/xlink\">\n <defs>\n  <style type=\"text/css\">\n*{stroke-linecap:butt;stroke-linejoin:round;}\n  </style>\n </defs>\n <g id=\"figure_1\">\n  <g id=\"patch_1\">\n   <path d=\"M 0 248.518125 \nL 372.409128 248.518125 \nL 372.409128 0 \nL 0 0 \nz\n\" style=\"fill:none;\"/>\n  </g>\n  <g id=\"axes_1\">\n   <g id=\"patch_2\">\n    <path d=\"M 30.103125 224.64 \nL 364.903125 224.64 \nL 364.903125 7.2 \nL 30.103125 7.2 \nz\n\" style=\"fill:#ffffff;\"/>\n   </g>\n   <g id=\"matplotlib.axis_1\">\n    <g id=\"xtick_1\">\n     <g id=\"line2d_1\">\n      <defs>\n       <path d=\"M 0 0 \nL 0 3.5 \n\" id=\"m3dd0235ffa\" style=\"stroke:#000000;stroke-width:0.8;\"/>\n      </defs>\n      <g>\n       <use style=\"stroke:#000000;stroke-width:0.8;\" x=\"91.445384\" xlink:href=\"#m3dd0235ffa\" y=\"224.64\"/>\n      </g>\n     </g>\n     <g id=\"text_1\">\n      <!-- −8 -->\n      <defs>\n       <path d=\"M 10.59375 35.5 \nL 73.1875 35.5 \nL 73.1875 27.203125 \nL 10.59375 27.203125 \nz\n\" id=\"DejaVuSans-8722\"/>\n       <path d=\"M 31.78125 34.625 \nQ 24.75 34.625 20.71875 30.859375 \nQ 16.703125 27.09375 16.703125 20.515625 \nQ 16.703125 13.921875 20.71875 10.15625 \nQ 24.75 6.390625 31.78125 6.390625 \nQ 38.8125 6.390625 42.859375 10.171875 \nQ 46.921875 13.96875 46.921875 20.515625 \nQ 46.921875 27.09375 42.890625 30.859375 \nQ 38.875 34.625 31.78125 34.625 \nz\nM 21.921875 38.8125 \nQ 15.578125 40.375 12.03125 44.71875 \nQ 8.5 49.078125 8.5 55.328125 \nQ 8.5 64.0625 14.71875 69.140625 \nQ 20.953125 74.21875 31.78125 74.21875 \nQ 42.671875 74.21875 48.875 69.140625 \nQ 55.078125 64.0625 55.078125 55.328125 \nQ 55.078125 49.078125 51.53125 44.71875 \nQ 48 40.375 41.703125 38.8125 \nQ 48.828125 37.15625 52.796875 32.3125 \nQ 56.78125 27.484375 56.78125 20.515625 \nQ 56.78125 9.90625 50.3125 4.234375 \nQ 43.84375 -1.421875 31.78125 -1.421875 \nQ 19.734375 -1.421875 13.25 4.234375 \nQ 6.78125 9.90625 6.78125 20.515625 \nQ 6.78125 27.484375 10.78125 32.3125 \nQ 14.796875 37.15625 21.921875 38.8125 \nz\nM 18.3125 54.390625 \nQ 18.3125 48.734375 21.84375 45.5625 \nQ 25.390625 42.390625 31.78125 42.390625 \nQ 38.140625 42.390625 41.71875 45.5625 \nQ 45.3125 48.734375 45.3125 54.390625 \nQ 45.3125 60.0625 41.71875 63.234375 \nQ 38.140625 66.40625 31.78125 66.40625 \nQ 25.390625 66.40625 21.84375 63.234375 \nQ 18.3125 60.0625 18.3125 54.390625 \nz\n\" id=\"DejaVuSans-56\"/>\n      </defs>\n      <g transform=\"translate(84.07429 239.238438)scale(0.1 -0.1)\">\n       <use xlink:href=\"#DejaVuSans-8722\"/>\n       <use x=\"83.789062\" xlink:href=\"#DejaVuSans-56\"/>\n      </g>\n     </g>\n    </g>\n    <g id=\"xtick_2\">\n     <g id=\"line2d_2\">\n      <g>\n       <use style=\"stroke:#000000;stroke-width:0.8;\" x=\"159.091007\" xlink:href=\"#m3dd0235ffa\" y=\"224.64\"/>\n      </g>\n     </g>\n     <g id=\"text_2\">\n      <!-- −6 -->\n      <defs>\n       <path d=\"M 33.015625 40.375 \nQ 26.375 40.375 22.484375 35.828125 \nQ 18.609375 31.296875 18.609375 23.390625 \nQ 18.609375 15.53125 22.484375 10.953125 \nQ 26.375 6.390625 33.015625 6.390625 \nQ 39.65625 6.390625 43.53125 10.953125 \nQ 47.40625 15.53125 47.40625 23.390625 \nQ 47.40625 31.296875 43.53125 35.828125 \nQ 39.65625 40.375 33.015625 40.375 \nz\nM 52.59375 71.296875 \nL 52.59375 62.3125 \nQ 48.875 64.0625 45.09375 64.984375 \nQ 41.3125 65.921875 37.59375 65.921875 \nQ 27.828125 65.921875 22.671875 59.328125 \nQ 17.53125 52.734375 16.796875 39.40625 \nQ 19.671875 43.65625 24.015625 45.921875 \nQ 28.375 48.1875 33.59375 48.1875 \nQ 44.578125 48.1875 50.953125 41.515625 \nQ 57.328125 34.859375 57.328125 23.390625 \nQ 57.328125 12.15625 50.6875 5.359375 \nQ 44.046875 -1.421875 33.015625 -1.421875 \nQ 20.359375 -1.421875 13.671875 8.265625 \nQ 6.984375 17.96875 6.984375 36.375 \nQ 6.984375 53.65625 15.1875 63.9375 \nQ 23.390625 74.21875 37.203125 74.21875 \nQ 40.921875 74.21875 44.703125 73.484375 \nQ 48.484375 72.75 52.59375 71.296875 \nz\n\" id=\"DejaVuSans-54\"/>\n      </defs>\n      <g transform=\"translate(151.719914 239.238438)scale(0.1 -0.1)\">\n       <use xlink:href=\"#DejaVuSans-8722\"/>\n       <use x=\"83.789062\" xlink:href=\"#DejaVuSans-54\"/>\n      </g>\n     </g>\n    </g>\n    <g id=\"xtick_3\">\n     <g id=\"line2d_3\">\n      <g>\n       <use style=\"stroke:#000000;stroke-width:0.8;\" x=\"226.736631\" xlink:href=\"#m3dd0235ffa\" y=\"224.64\"/>\n      </g>\n     </g>\n     <g id=\"text_3\">\n      <!-- −4 -->\n      <defs>\n       <path d=\"M 37.796875 64.3125 \nL 12.890625 25.390625 \nL 37.796875 25.390625 \nz\nM 35.203125 72.90625 \nL 47.609375 72.90625 \nL 47.609375 25.390625 \nL 58.015625 25.390625 \nL 58.015625 17.1875 \nL 47.609375 17.1875 \nL 47.609375 0 \nL 37.796875 0 \nL 37.796875 17.1875 \nL 4.890625 17.1875 \nL 4.890625 26.703125 \nz\n\" id=\"DejaVuSans-52\"/>\n      </defs>\n      <g transform=\"translate(219.365537 239.238438)scale(0.1 -0.1)\">\n       <use xlink:href=\"#DejaVuSans-8722\"/>\n       <use x=\"83.789062\" xlink:href=\"#DejaVuSans-52\"/>\n      </g>\n     </g>\n    </g>\n    <g id=\"xtick_4\">\n     <g id=\"line2d_4\">\n      <g>\n       <use style=\"stroke:#000000;stroke-width:0.8;\" x=\"294.382255\" xlink:href=\"#m3dd0235ffa\" y=\"224.64\"/>\n      </g>\n     </g>\n     <g id=\"text_4\">\n      <!-- −2 -->\n      <defs>\n       <path d=\"M 19.1875 8.296875 \nL 53.609375 8.296875 \nL 53.609375 0 \nL 7.328125 0 \nL 7.328125 8.296875 \nQ 12.9375 14.109375 22.625 23.890625 \nQ 32.328125 33.6875 34.8125 36.53125 \nQ 39.546875 41.84375 41.421875 45.53125 \nQ 43.3125 49.21875 43.3125 52.78125 \nQ 43.3125 58.59375 39.234375 62.25 \nQ 35.15625 65.921875 28.609375 65.921875 \nQ 23.96875 65.921875 18.8125 64.3125 \nQ 13.671875 62.703125 7.8125 59.421875 \nL 7.8125 69.390625 \nQ 13.765625 71.78125 18.9375 73 \nQ 24.125 74.21875 28.421875 74.21875 \nQ 39.75 74.21875 46.484375 68.546875 \nQ 53.21875 62.890625 53.21875 53.421875 \nQ 53.21875 48.921875 51.53125 44.890625 \nQ 49.859375 40.875 45.40625 35.40625 \nQ 44.1875 33.984375 37.640625 27.21875 \nQ 31.109375 20.453125 19.1875 8.296875 \nz\n\" id=\"DejaVuSans-50\"/>\n      </defs>\n      <g transform=\"translate(287.011161 239.238438)scale(0.1 -0.1)\">\n       <use xlink:href=\"#DejaVuSans-8722\"/>\n       <use x=\"83.789062\" xlink:href=\"#DejaVuSans-50\"/>\n      </g>\n     </g>\n    </g>\n    <g id=\"xtick_5\">\n     <g id=\"line2d_5\">\n      <g>\n       <use style=\"stroke:#000000;stroke-width:0.8;\" x=\"362.027878\" xlink:href=\"#m3dd0235ffa\" y=\"224.64\"/>\n      </g>\n     </g>\n     <g id=\"text_5\">\n      <!-- 0 -->\n      <defs>\n       <path d=\"M 31.78125 66.40625 \nQ 24.171875 66.40625 20.328125 58.90625 \nQ 16.5 51.421875 16.5 36.375 \nQ 16.5 21.390625 20.328125 13.890625 \nQ 24.171875 6.390625 31.78125 6.390625 \nQ 39.453125 6.390625 43.28125 13.890625 \nQ 47.125 21.390625 47.125 36.375 \nQ 47.125 51.421875 43.28125 58.90625 \nQ 39.453125 66.40625 31.78125 66.40625 \nz\nM 31.78125 74.21875 \nQ 44.046875 74.21875 50.515625 64.515625 \nQ 56.984375 54.828125 56.984375 36.375 \nQ 56.984375 17.96875 50.515625 8.265625 \nQ 44.046875 -1.421875 31.78125 -1.421875 \nQ 19.53125 -1.421875 13.0625 8.265625 \nQ 6.59375 17.96875 6.59375 36.375 \nQ 6.59375 54.828125 13.0625 64.515625 \nQ 19.53125 74.21875 31.78125 74.21875 \nz\n\" id=\"DejaVuSans-48\"/>\n      </defs>\n      <g transform=\"translate(358.846628 239.238438)scale(0.1 -0.1)\">\n       <use xlink:href=\"#DejaVuSans-48\"/>\n      </g>\n     </g>\n    </g>\n   </g>\n   <g id=\"matplotlib.axis_2\">\n    <g id=\"ytick_1\">\n     <g id=\"line2d_6\">\n      <defs>\n       <path d=\"M 0 0 \nL -3.5 0 \n\" id=\"m1449b58884\" style=\"stroke:#000000;stroke-width:0.8;\"/>\n      </defs>\n      <g>\n       <use style=\"stroke:#000000;stroke-width:0.8;\" x=\"30.103125\" xlink:href=\"#m1449b58884\" y=\"216.469709\"/>\n      </g>\n     </g>\n     <g id=\"text_6\">\n      <!-- 0.0 -->\n      <defs>\n       <path d=\"M 10.6875 12.40625 \nL 21 12.40625 \nL 21 0 \nL 10.6875 0 \nz\n\" id=\"DejaVuSans-46\"/>\n      </defs>\n      <g transform=\"translate(7.2 220.268928)scale(0.1 -0.1)\">\n       <use xlink:href=\"#DejaVuSans-48\"/>\n       <use x=\"63.623047\" xlink:href=\"#DejaVuSans-46\"/>\n       <use x=\"95.410156\" xlink:href=\"#DejaVuSans-48\"/>\n      </g>\n     </g>\n    </g>\n    <g id=\"ytick_2\">\n     <g id=\"line2d_7\">\n      <g>\n       <use style=\"stroke:#000000;stroke-width:0.8;\" x=\"30.103125\" xlink:href=\"#m1449b58884\" y=\"191.423656\"/>\n      </g>\n     </g>\n     <g id=\"text_7\">\n      <!-- 0.5 -->\n      <defs>\n       <path d=\"M 10.796875 72.90625 \nL 49.515625 72.90625 \nL 49.515625 64.59375 \nL 19.828125 64.59375 \nL 19.828125 46.734375 \nQ 21.96875 47.46875 24.109375 47.828125 \nQ 26.265625 48.1875 28.421875 48.1875 \nQ 40.625 48.1875 47.75 41.5 \nQ 54.890625 34.8125 54.890625 23.390625 \nQ 54.890625 11.625 47.5625 5.09375 \nQ 40.234375 -1.421875 26.90625 -1.421875 \nQ 22.3125 -1.421875 17.546875 -0.640625 \nQ 12.796875 0.140625 7.71875 1.703125 \nL 7.71875 11.625 \nQ 12.109375 9.234375 16.796875 8.0625 \nQ 21.484375 6.890625 26.703125 6.890625 \nQ 35.15625 6.890625 40.078125 11.328125 \nQ 45.015625 15.765625 45.015625 23.390625 \nQ 45.015625 31 40.078125 35.4375 \nQ 35.15625 39.890625 26.703125 39.890625 \nQ 22.75 39.890625 18.8125 39.015625 \nQ 14.890625 38.140625 10.796875 36.28125 \nz\n\" id=\"DejaVuSans-53\"/>\n      </defs>\n      <g transform=\"translate(7.2 195.222875)scale(0.1 -0.1)\">\n       <use xlink:href=\"#DejaVuSans-48\"/>\n       <use x=\"63.623047\" xlink:href=\"#DejaVuSans-46\"/>\n       <use x=\"95.410156\" xlink:href=\"#DejaVuSans-53\"/>\n      </g>\n     </g>\n    </g>\n    <g id=\"ytick_3\">\n     <g id=\"line2d_8\">\n      <g>\n       <use style=\"stroke:#000000;stroke-width:0.8;\" x=\"30.103125\" xlink:href=\"#m1449b58884\" y=\"166.377603\"/>\n      </g>\n     </g>\n     <g id=\"text_8\">\n      <!-- 1.0 -->\n      <defs>\n       <path d=\"M 12.40625 8.296875 \nL 28.515625 8.296875 \nL 28.515625 63.921875 \nL 10.984375 60.40625 \nL 10.984375 69.390625 \nL 28.421875 72.90625 \nL 38.28125 72.90625 \nL 38.28125 8.296875 \nL 54.390625 8.296875 \nL 54.390625 0 \nL 12.40625 0 \nz\n\" id=\"DejaVuSans-49\"/>\n      </defs>\n      <g transform=\"translate(7.2 170.176822)scale(0.1 -0.1)\">\n       <use xlink:href=\"#DejaVuSans-49\"/>\n       <use x=\"63.623047\" xlink:href=\"#DejaVuSans-46\"/>\n       <use x=\"95.410156\" xlink:href=\"#DejaVuSans-48\"/>\n      </g>\n     </g>\n    </g>\n    <g id=\"ytick_4\">\n     <g id=\"line2d_9\">\n      <g>\n       <use style=\"stroke:#000000;stroke-width:0.8;\" x=\"30.103125\" xlink:href=\"#m1449b58884\" y=\"141.33155\"/>\n      </g>\n     </g>\n     <g id=\"text_9\">\n      <!-- 1.5 -->\n      <g transform=\"translate(7.2 145.130768)scale(0.1 -0.1)\">\n       <use xlink:href=\"#DejaVuSans-49\"/>\n       <use x=\"63.623047\" xlink:href=\"#DejaVuSans-46\"/>\n       <use x=\"95.410156\" xlink:href=\"#DejaVuSans-53\"/>\n      </g>\n     </g>\n    </g>\n    <g id=\"ytick_5\">\n     <g id=\"line2d_10\">\n      <g>\n       <use style=\"stroke:#000000;stroke-width:0.8;\" x=\"30.103125\" xlink:href=\"#m1449b58884\" y=\"116.285496\"/>\n      </g>\n     </g>\n     <g id=\"text_10\">\n      <!-- 2.0 -->\n      <g transform=\"translate(7.2 120.084715)scale(0.1 -0.1)\">\n       <use xlink:href=\"#DejaVuSans-50\"/>\n       <use x=\"63.623047\" xlink:href=\"#DejaVuSans-46\"/>\n       <use x=\"95.410156\" xlink:href=\"#DejaVuSans-48\"/>\n      </g>\n     </g>\n    </g>\n    <g id=\"ytick_6\">\n     <g id=\"line2d_11\">\n      <g>\n       <use style=\"stroke:#000000;stroke-width:0.8;\" x=\"30.103125\" xlink:href=\"#m1449b58884\" y=\"91.239443\"/>\n      </g>\n     </g>\n     <g id=\"text_11\">\n      <!-- 2.5 -->\n      <g transform=\"translate(7.2 95.038662)scale(0.1 -0.1)\">\n       <use xlink:href=\"#DejaVuSans-50\"/>\n       <use x=\"63.623047\" xlink:href=\"#DejaVuSans-46\"/>\n       <use x=\"95.410156\" xlink:href=\"#DejaVuSans-53\"/>\n      </g>\n     </g>\n    </g>\n    <g id=\"ytick_7\">\n     <g id=\"line2d_12\">\n      <g>\n       <use style=\"stroke:#000000;stroke-width:0.8;\" x=\"30.103125\" xlink:href=\"#m1449b58884\" y=\"66.19339\"/>\n      </g>\n     </g>\n     <g id=\"text_12\">\n      <!-- 3.0 -->\n      <defs>\n       <path d=\"M 40.578125 39.3125 \nQ 47.65625 37.796875 51.625 33 \nQ 55.609375 28.21875 55.609375 21.1875 \nQ 55.609375 10.40625 48.1875 4.484375 \nQ 40.765625 -1.421875 27.09375 -1.421875 \nQ 22.515625 -1.421875 17.65625 -0.515625 \nQ 12.796875 0.390625 7.625 2.203125 \nL 7.625 11.71875 \nQ 11.71875 9.328125 16.59375 8.109375 \nQ 21.484375 6.890625 26.8125 6.890625 \nQ 36.078125 6.890625 40.9375 10.546875 \nQ 45.796875 14.203125 45.796875 21.1875 \nQ 45.796875 27.640625 41.28125 31.265625 \nQ 36.765625 34.90625 28.71875 34.90625 \nL 20.21875 34.90625 \nL 20.21875 43.015625 \nL 29.109375 43.015625 \nQ 36.375 43.015625 40.234375 45.921875 \nQ 44.09375 48.828125 44.09375 54.296875 \nQ 44.09375 59.90625 40.109375 62.90625 \nQ 36.140625 65.921875 28.71875 65.921875 \nQ 24.65625 65.921875 20.015625 65.03125 \nQ 15.375 64.15625 9.8125 62.3125 \nL 9.8125 71.09375 \nQ 15.4375 72.65625 20.34375 73.4375 \nQ 25.25 74.21875 29.59375 74.21875 \nQ 40.828125 74.21875 47.359375 69.109375 \nQ 53.90625 64.015625 53.90625 55.328125 \nQ 53.90625 49.265625 50.4375 45.09375 \nQ 46.96875 40.921875 40.578125 39.3125 \nz\n\" id=\"DejaVuSans-51\"/>\n      </defs>\n      <g transform=\"translate(7.2 69.992609)scale(0.1 -0.1)\">\n       <use xlink:href=\"#DejaVuSans-51\"/>\n       <use x=\"63.623047\" xlink:href=\"#DejaVuSans-46\"/>\n       <use x=\"95.410156\" xlink:href=\"#DejaVuSans-48\"/>\n      </g>\n     </g>\n    </g>\n    <g id=\"ytick_8\">\n     <g id=\"line2d_13\">\n      <g>\n       <use style=\"stroke:#000000;stroke-width:0.8;\" x=\"30.103125\" xlink:href=\"#m1449b58884\" y=\"41.147337\"/>\n      </g>\n     </g>\n     <g id=\"text_13\">\n      <!-- 3.5 -->\n      <g transform=\"translate(7.2 44.946556)scale(0.1 -0.1)\">\n       <use xlink:href=\"#DejaVuSans-51\"/>\n       <use x=\"63.623047\" xlink:href=\"#DejaVuSans-46\"/>\n       <use x=\"95.410156\" xlink:href=\"#DejaVuSans-53\"/>\n      </g>\n     </g>\n    </g>\n    <g id=\"ytick_9\">\n     <g id=\"line2d_14\">\n      <g>\n       <use style=\"stroke:#000000;stroke-width:0.8;\" x=\"30.103125\" xlink:href=\"#m1449b58884\" y=\"16.101284\"/>\n      </g>\n     </g>\n     <g id=\"text_14\">\n      <!-- 4.0 -->\n      <g transform=\"translate(7.2 19.900502)scale(0.1 -0.1)\">\n       <use xlink:href=\"#DejaVuSans-52\"/>\n       <use x=\"63.623047\" xlink:href=\"#DejaVuSans-46\"/>\n       <use x=\"95.410156\" xlink:href=\"#DejaVuSans-48\"/>\n      </g>\n     </g>\n    </g>\n   </g>\n   <g id=\"line2d_15\">\n    <path clip-path=\"url(#p620209e7a8)\" d=\"M 124.637099 76.137159 \nL 228.211293 30.070132 \nL 289.436979 33.050246 \nL 215.278976 21.832594 \nL 105.144658 185.365629 \nL 307.945699 148.456854 \nL 82.846246 120.491231 \nL 328.209177 51.564279 \nL 202.752668 26.126521 \nL 139.937221 174.823001 \nL 194.165808 128.421153 \nL 285.99232 109.50945 \nL 279.658012 210.451784 \nL 146.968886 167.768171 \nL 295.410025 54.014645 \nL 80.546789 115.875995 \nL 211.746853 161.746511 \nL 237.095886 204.080866 \nL 252.552241 128.611358 \nL 199.396371 129.992206 \nL 93.316022 156.37547 \nL 188.985772 191.226406 \nL 328.848019 214.756364 \nL 241.910192 17.083636 \nL 280.854256 69.816029 \nL 208.942423 198.418253 \nL 297.475966 17.289887 \nL 314.648514 109.335358 \nL 144.446918 174.505029 \nL 78.50291 157.73232 \nL 349.684943 25.251502 \nL 316.84619 115.887469 \nL 89.016245 30.748476 \nL 292.027507 163.012273 \nL 306.294251 71.48615 \nL 283.300483 138.499641 \nL 138.390789 195.686394 \nL 129.50518 122.318096 \nL 302.634166 69.269612 \nL 146.33816 86.28038 \nL 319.936636 17.411457 \nL 45.321307 26.704297 \nL 295.835399 177.576613 \nL 88.299883 73.677152 \nL 113.020216 153.43209 \nL 205.705844 156.534884 \nL 199.125905 69.278721 \nL 150.570174 48.810492 \nL 233.912543 20.862856 \nL 261.594233 199.368691 \n\" style=\"fill:none;stroke:#1f77b4;stroke-linecap:square;stroke-width:1.5;\"/>\n   </g>\n   <g id=\"patch_3\">\n    <path d=\"M 30.103125 224.64 \nL 30.103125 7.2 \n\" style=\"fill:none;stroke:#000000;stroke-linecap:square;stroke-linejoin:miter;stroke-width:0.8;\"/>\n   </g>\n   <g id=\"patch_4\">\n    <path d=\"M 364.903125 224.64 \nL 364.903125 7.2 \n\" style=\"fill:none;stroke:#000000;stroke-linecap:square;stroke-linejoin:miter;stroke-width:0.8;\"/>\n   </g>\n   <g id=\"patch_5\">\n    <path d=\"M 30.103125 224.64 \nL 364.903125 224.64 \n\" style=\"fill:none;stroke:#000000;stroke-linecap:square;stroke-linejoin:miter;stroke-width:0.8;\"/>\n   </g>\n   <g id=\"patch_6\">\n    <path d=\"M 30.103125 7.2 \nL 364.903125 7.2 \n\" style=\"fill:none;stroke:#000000;stroke-linecap:square;stroke-linejoin:miter;stroke-width:0.8;\"/>\n   </g>\n  </g>\n </g>\n <defs>\n  <clipPath id=\"p620209e7a8\">\n   <rect height=\"217.44\" width=\"334.8\" x=\"30.103125\" y=\"7.2\"/>\n  </clipPath>\n </defs>\n</svg>\n",
      "image/png": "[encoded data removed]"
     },
     "metadata": {
      "needs_background": "light"
     }
    }
   ],
   "source": [
    "fig, ax = plt.subplots()\n",
    "ax.plot(x, y)\n",
    "plt.show()"
   ]
  },
  {
   "cell_type": "code",
   "execution_count": 6,
   "metadata": {},
   "outputs": [
    {
     "output_type": "display_data",
     "data": {
      "text/plain": "<Figure size 432x288 with 1 Axes>",
      "image/svg+xml": "<?xml version=\"1.0\" encoding=\"utf-8\" standalone=\"no\"?>\n<!DOCTYPE svg PUBLIC \"-//W3C//DTD SVG 1.1//EN\"\n  \"http://www.w3.org/Graphics/SVG/1.1/DTD/svg11.dtd\">\n<!-- Created with matplotlib (https://matplotlib.org/) -->\n<svg height=\"252.317344pt\" version=\"1.1\" viewBox=\"0 0 370.942187 252.317344\" width=\"370.942187pt\" xmlns=\"http://www.w3.org/2000/svg\" xmlns:xlink=\"http://www.w3.org/1999/xlink\">\n <defs>\n  <style type=\"text/css\">\n*{stroke-linecap:butt;stroke-linejoin:round;}\n  </style>\n </defs>\n <g id=\"figure_1\">\n  <g id=\"patch_1\">\n   <path d=\"M 0 252.317344 \nL 370.942187 252.317344 \nL 370.942187 0 \nL 0 0 \nz\n\" style=\"fill:none;\"/>\n  </g>\n  <g id=\"axes_1\">\n   <g id=\"patch_2\">\n    <path d=\"M 28.942188 228.439219 \nL 363.742188 228.439219 \nL 363.742188 10.999219 \nL 28.942188 10.999219 \nz\n\" style=\"fill:#ffffff;\"/>\n   </g>\n   <g id=\"patch_3\">\n    <path clip-path=\"url(#pc68e95b85c)\" d=\"M 44.160369 10.999219 \nL 49.049745 10.999219 \nL 49.049745 166.222518 \nL 44.160369 166.222518 \nz\n\" style=\"fill:#1f77b4;\"/>\n   </g>\n   <g id=\"patch_4\">\n    <path clip-path=\"url(#pc68e95b85c)\" d=\"M 50.272089 10.999219 \nL 55.161465 10.999219 \nL 55.161465 98.498203 \nL 50.272089 98.498203 \nz\n\" style=\"fill:#1f77b4;\"/>\n   </g>\n   <g id=\"patch_5\">\n    <path clip-path=\"url(#pc68e95b85c)\" d=\"M 56.383809 10.999219 \nL 61.273184 10.999219 \nL 61.273184 58.464411 \nL 56.383809 58.464411 \nz\n\" style=\"fill:#1f77b4;\"/>\n   </g>\n   <g id=\"patch_6\">\n    <path clip-path=\"url(#pc68e95b85c)\" d=\"M 62.495528 10.999219 \nL 67.384904 10.999219 \nL 67.384904 106.954289 \nL 62.495528 106.954289 \nz\n\" style=\"fill:#1f77b4;\"/>\n   </g>\n   <g id=\"patch_7\">\n    <path clip-path=\"url(#pc68e95b85c)\" d=\"M 68.607248 10.999219 \nL 73.496623 10.999219 \nL 73.496623 178.968089 \nL 68.607248 178.968089 \nz\n\" style=\"fill:#1f77b4;\"/>\n   </g>\n   <g id=\"patch_8\">\n    <path clip-path=\"url(#pc68e95b85c)\" d=\"M 74.718967 10.999219 \nL 79.608343 10.999219 \nL 79.608343 46.362068 \nL 74.718967 46.362068 \nz\n\" style=\"fill:#1f77b4;\"/>\n   </g>\n   <g id=\"patch_9\">\n    <path clip-path=\"url(#pc68e95b85c)\" d=\"M 80.830687 10.999219 \nL 85.720063 10.999219 \nL 85.720063 193.548408 \nL 80.830687 193.548408 \nz\n\" style=\"fill:#1f77b4;\"/>\n   </g>\n   <g id=\"patch_10\">\n    <path clip-path=\"url(#pc68e95b85c)\" d=\"M 86.942407 10.999219 \nL 91.831782 10.999219 \nL 91.831782 33.112337 \nL 86.942407 33.112337 \nz\n\" style=\"fill:#1f77b4;\"/>\n   </g>\n   <g id=\"patch_11\">\n    <path clip-path=\"url(#pc68e95b85c)\" d=\"M 93.054126 10.999219 \nL 97.943502 10.999219 \nL 97.943502 115.144897 \nL 93.054126 115.144897 \nz\n\" style=\"fill:#1f77b4;\"/>\n   </g>\n   <g id=\"patch_12\">\n    <path clip-path=\"url(#pc68e95b85c)\" d=\"M 99.165846 10.999219 \nL 104.055221 10.999219 \nL 104.055221 156.21819 \nL 99.165846 156.21819 \nz\n\" style=\"fill:#1f77b4;\"/>\n   </g>\n   <g id=\"patch_13\">\n    <path clip-path=\"url(#pc68e95b85c)\" d=\"M 105.277565 10.999219 \nL 110.166941 10.999219 \nL 110.166941 120.759609 \nL 105.277565 120.759609 \nz\n\" style=\"fill:#1f77b4;\"/>\n   </g>\n   <g id=\"patch_14\">\n    <path clip-path=\"url(#pc68e95b85c)\" d=\"M 111.389285 10.999219 \nL 116.278661 10.999219 \nL 116.278661 60.716779 \nL 111.389285 60.716779 \nz\n\" style=\"fill:#1f77b4;\"/>\n   </g>\n   <g id=\"patch_15\">\n    <path clip-path=\"url(#pc68e95b85c)\" d=\"M 117.501005 10.999219 \nL 122.39038 10.999219 \nL 122.39038 64.858608 \nL 117.501005 64.858608 \nz\n\" style=\"fill:#1f77b4;\"/>\n   </g>\n   <g id=\"patch_16\">\n    <path clip-path=\"url(#pc68e95b85c)\" d=\"M 123.612724 10.999219 \nL 128.5021 10.999219 \nL 128.5021 151.620377 \nL 123.612724 151.620377 \nz\n\" style=\"fill:#1f77b4;\"/>\n   </g>\n   <g id=\"patch_17\">\n    <path clip-path=\"url(#pc68e95b85c)\" d=\"M 129.724444 10.999219 \nL 134.613819 10.999219 \nL 134.613819 54.558801 \nL 129.724444 54.558801 \nz\n\" style=\"fill:#1f77b4;\"/>\n   </g>\n   <g id=\"patch_18\">\n    <path clip-path=\"url(#pc68e95b85c)\" d=\"M 135.836163 10.999219 \nL 140.725539 10.999219 \nL 140.725539 195.051959 \nL 135.836163 195.051959 \nz\n\" style=\"fill:#1f77b4;\"/>\n   </g>\n   <g id=\"patch_19\">\n    <path clip-path=\"url(#pc68e95b85c)\" d=\"M 141.947883 10.999219 \nL 146.837259 10.999219 \nL 146.837259 109.263847 \nL 141.947883 109.263847 \nz\n\" style=\"fill:#1f77b4;\"/>\n   </g>\n   <g id=\"patch_20\">\n    <path clip-path=\"url(#pc68e95b85c)\" d=\"M 148.059603 10.999219 \nL 152.948978 10.999219 \nL 152.948978 92.688811 \nL 148.059603 92.688811 \nz\n\" style=\"fill:#1f77b4;\"/>\n   </g>\n   <g id=\"patch_21\">\n    <path clip-path=\"url(#pc68e95b85c)\" d=\"M 154.171322 10.999219 \nL 159.060698 10.999219 \nL 159.060698 82.582327 \nL 154.171322 82.582327 \nz\n\" style=\"fill:#1f77b4;\"/>\n   </g>\n   <g id=\"patch_22\">\n    <path clip-path=\"url(#pc68e95b85c)\" d=\"M 160.283042 10.999219 \nL 165.172418 10.999219 \nL 165.172418 117.339487 \nL 160.283042 117.339487 \nz\n\" style=\"fill:#1f77b4;\"/>\n   </g>\n   <g id=\"patch_23\">\n    <path clip-path=\"url(#pc68e95b85c)\" d=\"M 166.394761 10.999219 \nL 171.284137 10.999219 \nL 171.284137 186.702509 \nL 166.394761 186.702509 \nz\n\" style=\"fill:#1f77b4;\"/>\n   </g>\n   <g id=\"patch_24\">\n    <path clip-path=\"url(#pc68e95b85c)\" d=\"M 172.506481 10.999219 \nL 177.395857 10.999219 \nL 177.395857 124.146691 \nL 172.506481 124.146691 \nz\n\" style=\"fill:#1f77b4;\"/>\n   </g>\n   <g id=\"patch_25\">\n    <path clip-path=\"url(#pc68e95b85c)\" d=\"M 178.618201 10.999219 \nL 183.507576 10.999219 \nL 183.507576 32.694616 \nL 178.618201 32.694616 \nz\n\" style=\"fill:#1f77b4;\"/>\n   </g>\n   <g id=\"patch_26\">\n    <path clip-path=\"url(#pc68e95b85c)\" d=\"M 184.72992 10.999219 \nL 189.619296 10.999219 \nL 189.619296 89.540869 \nL 184.72992 89.540869 \nz\n\" style=\"fill:#1f77b4;\"/>\n   </g>\n   <g id=\"patch_27\">\n    <path clip-path=\"url(#pc68e95b85c)\" d=\"M 190.84164 10.999219 \nL 195.731016 10.999219 \nL 195.731016 64.076417 \nL 190.84164 64.076417 \nz\n\" style=\"fill:#1f77b4;\"/>\n   </g>\n   <g id=\"patch_28\">\n    <path clip-path=\"url(#pc68e95b85c)\" d=\"M 196.953359 10.999219 \nL 201.842735 10.999219 \nL 201.842735 111.097586 \nL 196.953359 111.097586 \nz\n\" style=\"fill:#1f77b4;\"/>\n   </g>\n   <g id=\"patch_29\">\n    <path clip-path=\"url(#pc68e95b85c)\" d=\"M 203.065079 10.999219 \nL 207.954455 10.999219 \nL 207.954455 53.207938 \nL 203.065079 53.207938 \nz\n\" style=\"fill:#1f77b4;\"/>\n   </g>\n   <g id=\"patch_30\">\n    <path clip-path=\"url(#pc68e95b85c)\" d=\"M 209.176799 10.999219 \nL 214.066174 10.999219 \nL 214.066174 41.979282 \nL 209.176799 41.979282 \nz\n\" style=\"fill:#1f77b4;\"/>\n   </g>\n   <g id=\"patch_31\">\n    <path clip-path=\"url(#pc68e95b85c)\" d=\"M 215.288518 10.999219 \nL 220.177894 10.999219 \nL 220.177894 153.269423 \nL 215.288518 153.269423 \nz\n\" style=\"fill:#1f77b4;\"/>\n   </g>\n   <g id=\"patch_32\">\n    <path clip-path=\"url(#pc68e95b85c)\" d=\"M 221.400238 10.999219 \nL 226.289614 10.999219 \nL 226.289614 196.388395 \nL 221.400238 196.388395 \nz\n\" style=\"fill:#1f77b4;\"/>\n   </g>\n   <g id=\"patch_33\">\n    <path clip-path=\"url(#pc68e95b85c)\" d=\"M 227.511957 10.999219 \nL 232.401333 10.999219 \nL 232.401333 19.069925 \nL 227.511957 19.069925 \nz\n\" style=\"fill:#1f77b4;\"/>\n   </g>\n   <g id=\"patch_34\">\n    <path clip-path=\"url(#pc68e95b85c)\" d=\"M 233.623677 10.999219 \nL 238.513053 10.999219 \nL 238.513053 40.542282 \nL 233.623677 40.542282 \nz\n\" style=\"fill:#1f77b4;\"/>\n   </g>\n   <g id=\"patch_35\">\n    <path clip-path=\"url(#pc68e95b85c)\" d=\"M 239.735397 10.999219 \nL 244.624772 10.999219 \nL 244.624772 189.514015 \nL 239.735397 189.514015 \nz\n\" style=\"fill:#1f77b4;\"/>\n   </g>\n   <g id=\"patch_36\">\n    <path clip-path=\"url(#pc68e95b85c)\" d=\"M 245.847116 10.999219 \nL 250.736492 10.999219 \nL 250.736492 56.770536 \nL 245.847116 56.770536 \nz\n\" style=\"fill:#1f77b4;\"/>\n   </g>\n   <g id=\"patch_37\">\n    <path clip-path=\"url(#pc68e95b85c)\" d=\"M 251.958836 10.999219 \nL 256.848212 10.999219 \nL 256.848212 47.441905 \nL 251.958836 47.441905 \nz\n\" style=\"fill:#1f77b4;\"/>\n   </g>\n   <g id=\"patch_38\">\n    <path clip-path=\"url(#pc68e95b85c)\" d=\"M 258.070556 10.999219 \nL 262.959931 10.999219 \nL 262.959931 62.476897 \nL 258.070556 62.476897 \nz\n\" style=\"fill:#1f77b4;\"/>\n   </g>\n   <g id=\"patch_39\">\n    <path clip-path=\"url(#pc68e95b85c)\" d=\"M 264.182275 10.999219 \nL 269.071651 10.999219 \nL 269.071651 157.229359 \nL 264.182275 157.229359 \nz\n\" style=\"fill:#1f77b4;\"/>\n   </g>\n   <g id=\"patch_40\">\n    <path clip-path=\"url(#pc68e95b85c)\" d=\"M 270.293995 10.999219 \nL 275.18337 10.999219 \nL 275.18337 163.039414 \nL 270.293995 163.039414 \nz\n\" style=\"fill:#1f77b4;\"/>\n   </g>\n   <g id=\"patch_41\">\n    <path clip-path=\"url(#pc68e95b85c)\" d=\"M 276.405714 10.999219 \nL 281.29509 10.999219 \nL 281.29509 49.835134 \nL 276.405714 49.835134 \nz\n\" style=\"fill:#1f77b4;\"/>\n   </g>\n   <g id=\"patch_42\">\n    <path clip-path=\"url(#pc68e95b85c)\" d=\"M 282.517434 10.999219 \nL 287.40681 10.999219 \nL 287.40681 152.032792 \nL 282.517434 152.032792 \nz\n\" style=\"fill:#1f77b4;\"/>\n   </g>\n   <g id=\"patch_43\">\n    <path clip-path=\"url(#pc68e95b85c)\" d=\"M 288.629154 10.999219 \nL 293.518529 10.999219 \nL 293.518529 38.521524 \nL 288.629154 38.521524 \nz\n\" style=\"fill:#1f77b4;\"/>\n   </g>\n   <g id=\"patch_44\">\n    <path clip-path=\"url(#pc68e95b85c)\" d=\"M 294.740873 10.999219 \nL 299.630249 10.999219 \nL 299.630249 218.084933 \nL 294.740873 218.084933 \nz\n\" style=\"fill:#1f77b4;\"/>\n   </g>\n   <g id=\"patch_45\">\n    <path clip-path=\"url(#pc68e95b85c)\" d=\"M 300.852593 10.999219 \nL 305.741968 10.999219 \nL 305.741968 54.28066 \nL 300.852593 54.28066 \nz\n\" style=\"fill:#1f77b4;\"/>\n   </g>\n   <g id=\"patch_46\">\n    <path clip-path=\"url(#pc68e95b85c)\" d=\"M 306.964312 10.999219 \nL 311.853688 10.999219 \nL 311.853688 189.982425 \nL 306.964312 189.982425 \nz\n\" style=\"fill:#1f77b4;\"/>\n   </g>\n   <g id=\"patch_47\">\n    <path clip-path=\"url(#pc68e95b85c)\" d=\"M 313.076032 10.999219 \nL 317.965408 10.999219 \nL 317.965408 173.818479 \nL 313.076032 173.818479 \nz\n\" style=\"fill:#1f77b4;\"/>\n   </g>\n   <g id=\"patch_48\">\n    <path clip-path=\"url(#pc68e95b85c)\" d=\"M 319.187752 10.999219 \nL 324.077127 10.999219 \nL 324.077127 113.213897 \nL 319.187752 113.213897 \nz\n\" style=\"fill:#1f77b4;\"/>\n   </g>\n   <g id=\"patch_49\">\n    <path clip-path=\"url(#pc68e95b85c)\" d=\"M 325.299471 10.999219 \nL 330.188847 10.999219 \nL 330.188847 117.516338 \nL 325.299471 117.516338 \nz\n\" style=\"fill:#1f77b4;\"/>\n   </g>\n   <g id=\"patch_50\">\n    <path clip-path=\"url(#pc68e95b85c)\" d=\"M 331.411191 10.999219 \nL 336.300566 10.999219 \nL 336.300566 149.265594 \nL 331.411191 149.265594 \nz\n\" style=\"fill:#1f77b4;\"/>\n   </g>\n   <g id=\"patch_51\">\n    <path clip-path=\"url(#pc68e95b85c)\" d=\"M 337.52291 10.999219 \nL 342.412286 10.999219 \nL 342.412286 94.770312 \nL 337.52291 94.770312 \nz\n\" style=\"fill:#1f77b4;\"/>\n   </g>\n   <g id=\"patch_52\">\n    <path clip-path=\"url(#pc68e95b85c)\" d=\"M 343.63463 10.999219 \nL 348.524006 10.999219 \nL 348.524006 76.670016 \nL 343.63463 76.670016 \nz\n\" style=\"fill:#1f77b4;\"/>\n   </g>\n   <g id=\"matplotlib.axis_1\">\n    <g id=\"xtick_1\">\n     <g id=\"line2d_1\">\n      <defs>\n       <path d=\"M 0 0 \nL 0 3.5 \n\" id=\"m490fa280a9\" style=\"stroke:#000000;stroke-width:0.8;\"/>\n      </defs>\n      <g>\n       <use style=\"stroke:#000000;stroke-width:0.8;\" x=\"46.605057\" xlink:href=\"#m490fa280a9\" y=\"228.439219\"/>\n      </g>\n     </g>\n     <g id=\"text_1\">\n      <!-- 0 -->\n      <defs>\n       <path d=\"M 31.78125 66.40625 \nQ 24.171875 66.40625 20.328125 58.90625 \nQ 16.5 51.421875 16.5 36.375 \nQ 16.5 21.390625 20.328125 13.890625 \nQ 24.171875 6.390625 31.78125 6.390625 \nQ 39.453125 6.390625 43.28125 13.890625 \nQ 47.125 21.390625 47.125 36.375 \nQ 47.125 51.421875 43.28125 58.90625 \nQ 39.453125 66.40625 31.78125 66.40625 \nz\nM 31.78125 74.21875 \nQ 44.046875 74.21875 50.515625 64.515625 \nQ 56.984375 54.828125 56.984375 36.375 \nQ 56.984375 17.96875 50.515625 8.265625 \nQ 44.046875 -1.421875 31.78125 -1.421875 \nQ 19.53125 -1.421875 13.0625 8.265625 \nQ 6.59375 17.96875 6.59375 36.375 \nQ 6.59375 54.828125 13.0625 64.515625 \nQ 19.53125 74.21875 31.78125 74.21875 \nz\n\" id=\"DejaVuSans-48\"/>\n      </defs>\n      <g transform=\"translate(43.423807 243.037656)scale(0.1 -0.1)\">\n       <use xlink:href=\"#DejaVuSans-48\"/>\n      </g>\n     </g>\n    </g>\n    <g id=\"xtick_2\">\n     <g id=\"line2d_2\">\n      <g>\n       <use style=\"stroke:#000000;stroke-width:0.8;\" x=\"107.722253\" xlink:href=\"#m490fa280a9\" y=\"228.439219\"/>\n      </g>\n     </g>\n     <g id=\"text_2\">\n      <!-- 10 -->\n      <defs>\n       <path d=\"M 12.40625 8.296875 \nL 28.515625 8.296875 \nL 28.515625 63.921875 \nL 10.984375 60.40625 \nL 10.984375 69.390625 \nL 28.421875 72.90625 \nL 38.28125 72.90625 \nL 38.28125 8.296875 \nL 54.390625 8.296875 \nL 54.390625 0 \nL 12.40625 0 \nz\n\" id=\"DejaVuSans-49\"/>\n      </defs>\n      <g transform=\"translate(101.359753 243.037656)scale(0.1 -0.1)\">\n       <use xlink:href=\"#DejaVuSans-49\"/>\n       <use x=\"63.623047\" xlink:href=\"#DejaVuSans-48\"/>\n      </g>\n     </g>\n    </g>\n    <g id=\"xtick_3\">\n     <g id=\"line2d_3\">\n      <g>\n       <use style=\"stroke:#000000;stroke-width:0.8;\" x=\"168.839449\" xlink:href=\"#m490fa280a9\" y=\"228.439219\"/>\n      </g>\n     </g>\n     <g id=\"text_3\">\n      <!-- 20 -->\n      <defs>\n       <path d=\"M 19.1875 8.296875 \nL 53.609375 8.296875 \nL 53.609375 0 \nL 7.328125 0 \nL 7.328125 8.296875 \nQ 12.9375 14.109375 22.625 23.890625 \nQ 32.328125 33.6875 34.8125 36.53125 \nQ 39.546875 41.84375 41.421875 45.53125 \nQ 43.3125 49.21875 43.3125 52.78125 \nQ 43.3125 58.59375 39.234375 62.25 \nQ 35.15625 65.921875 28.609375 65.921875 \nQ 23.96875 65.921875 18.8125 64.3125 \nQ 13.671875 62.703125 7.8125 59.421875 \nL 7.8125 69.390625 \nQ 13.765625 71.78125 18.9375 73 \nQ 24.125 74.21875 28.421875 74.21875 \nQ 39.75 74.21875 46.484375 68.546875 \nQ 53.21875 62.890625 53.21875 53.421875 \nQ 53.21875 48.921875 51.53125 44.890625 \nQ 49.859375 40.875 45.40625 35.40625 \nQ 44.1875 33.984375 37.640625 27.21875 \nQ 31.109375 20.453125 19.1875 8.296875 \nz\n\" id=\"DejaVuSans-50\"/>\n      </defs>\n      <g transform=\"translate(162.476949 243.037656)scale(0.1 -0.1)\">\n       <use xlink:href=\"#DejaVuSans-50\"/>\n       <use x=\"63.623047\" xlink:href=\"#DejaVuSans-48\"/>\n      </g>\n     </g>\n    </g>\n    <g id=\"xtick_4\">\n     <g id=\"line2d_4\">\n      <g>\n       <use style=\"stroke:#000000;stroke-width:0.8;\" x=\"229.956645\" xlink:href=\"#m490fa280a9\" y=\"228.439219\"/>\n      </g>\n     </g>\n     <g id=\"text_4\">\n      <!-- 30 -->\n      <defs>\n       <path d=\"M 40.578125 39.3125 \nQ 47.65625 37.796875 51.625 33 \nQ 55.609375 28.21875 55.609375 21.1875 \nQ 55.609375 10.40625 48.1875 4.484375 \nQ 40.765625 -1.421875 27.09375 -1.421875 \nQ 22.515625 -1.421875 17.65625 -0.515625 \nQ 12.796875 0.390625 7.625 2.203125 \nL 7.625 11.71875 \nQ 11.71875 9.328125 16.59375 8.109375 \nQ 21.484375 6.890625 26.8125 6.890625 \nQ 36.078125 6.890625 40.9375 10.546875 \nQ 45.796875 14.203125 45.796875 21.1875 \nQ 45.796875 27.640625 41.28125 31.265625 \nQ 36.765625 34.90625 28.71875 34.90625 \nL 20.21875 34.90625 \nL 20.21875 43.015625 \nL 29.109375 43.015625 \nQ 36.375 43.015625 40.234375 45.921875 \nQ 44.09375 48.828125 44.09375 54.296875 \nQ 44.09375 59.90625 40.109375 62.90625 \nQ 36.140625 65.921875 28.71875 65.921875 \nQ 24.65625 65.921875 20.015625 65.03125 \nQ 15.375 64.15625 9.8125 62.3125 \nL 9.8125 71.09375 \nQ 15.4375 72.65625 20.34375 73.4375 \nQ 25.25 74.21875 29.59375 74.21875 \nQ 40.828125 74.21875 47.359375 69.109375 \nQ 53.90625 64.015625 53.90625 55.328125 \nQ 53.90625 49.265625 50.4375 45.09375 \nQ 46.96875 40.921875 40.578125 39.3125 \nz\n\" id=\"DejaVuSans-51\"/>\n      </defs>\n      <g transform=\"translate(223.594145 243.037656)scale(0.1 -0.1)\">\n       <use xlink:href=\"#DejaVuSans-51\"/>\n       <use x=\"63.623047\" xlink:href=\"#DejaVuSans-48\"/>\n      </g>\n     </g>\n    </g>\n    <g id=\"xtick_5\">\n     <g id=\"line2d_5\">\n      <g>\n       <use style=\"stroke:#000000;stroke-width:0.8;\" x=\"291.073841\" xlink:href=\"#m490fa280a9\" y=\"228.439219\"/>\n      </g>\n     </g>\n     <g id=\"text_5\">\n      <!-- 40 -->\n      <defs>\n       <path d=\"M 37.796875 64.3125 \nL 12.890625 25.390625 \nL 37.796875 25.390625 \nz\nM 35.203125 72.90625 \nL 47.609375 72.90625 \nL 47.609375 25.390625 \nL 58.015625 25.390625 \nL 58.015625 17.1875 \nL 47.609375 17.1875 \nL 47.609375 0 \nL 37.796875 0 \nL 37.796875 17.1875 \nL 4.890625 17.1875 \nL 4.890625 26.703125 \nz\n\" id=\"DejaVuSans-52\"/>\n      </defs>\n      <g transform=\"translate(284.711341 243.037656)scale(0.1 -0.1)\">\n       <use xlink:href=\"#DejaVuSans-52\"/>\n       <use x=\"63.623047\" xlink:href=\"#DejaVuSans-48\"/>\n      </g>\n     </g>\n    </g>\n    <g id=\"xtick_6\">\n     <g id=\"line2d_6\">\n      <g>\n       <use style=\"stroke:#000000;stroke-width:0.8;\" x=\"352.191037\" xlink:href=\"#m490fa280a9\" y=\"228.439219\"/>\n      </g>\n     </g>\n     <g id=\"text_6\">\n      <!-- 50 -->\n      <defs>\n       <path d=\"M 10.796875 72.90625 \nL 49.515625 72.90625 \nL 49.515625 64.59375 \nL 19.828125 64.59375 \nL 19.828125 46.734375 \nQ 21.96875 47.46875 24.109375 47.828125 \nQ 26.265625 48.1875 28.421875 48.1875 \nQ 40.625 48.1875 47.75 41.5 \nQ 54.890625 34.8125 54.890625 23.390625 \nQ 54.890625 11.625 47.5625 5.09375 \nQ 40.234375 -1.421875 26.90625 -1.421875 \nQ 22.3125 -1.421875 17.546875 -0.640625 \nQ 12.796875 0.140625 7.71875 1.703125 \nL 7.71875 11.625 \nQ 12.109375 9.234375 16.796875 8.0625 \nQ 21.484375 6.890625 26.703125 6.890625 \nQ 35.15625 6.890625 40.078125 11.328125 \nQ 45.015625 15.765625 45.015625 23.390625 \nQ 45.015625 31 40.078125 35.4375 \nQ 35.15625 39.890625 26.703125 39.890625 \nQ 22.75 39.890625 18.8125 39.015625 \nQ 14.890625 38.140625 10.796875 36.28125 \nz\n\" id=\"DejaVuSans-53\"/>\n      </defs>\n      <g transform=\"translate(345.828537 243.037656)scale(0.1 -0.1)\">\n       <use xlink:href=\"#DejaVuSans-53\"/>\n       <use x=\"63.623047\" xlink:href=\"#DejaVuSans-48\"/>\n      </g>\n     </g>\n    </g>\n   </g>\n   <g id=\"matplotlib.axis_2\">\n    <g id=\"ytick_1\">\n     <g id=\"line2d_7\">\n      <defs>\n       <path d=\"M 0 0 \nL -3.5 0 \n\" id=\"me491f94d9c\" style=\"stroke:#000000;stroke-width:0.8;\"/>\n      </defs>\n      <g>\n       <use style=\"stroke:#000000;stroke-width:0.8;\" x=\"28.942188\" xlink:href=\"#me491f94d9c\" y=\"187.925668\"/>\n      </g>\n     </g>\n     <g id=\"text_7\">\n      <!-- −8 -->\n      <defs>\n       <path d=\"M 10.59375 35.5 \nL 73.1875 35.5 \nL 73.1875 27.203125 \nL 10.59375 27.203125 \nz\n\" id=\"DejaVuSans-8722\"/>\n       <path d=\"M 31.78125 34.625 \nQ 24.75 34.625 20.71875 30.859375 \nQ 16.703125 27.09375 16.703125 20.515625 \nQ 16.703125 13.921875 20.71875 10.15625 \nQ 24.75 6.390625 31.78125 6.390625 \nQ 38.8125 6.390625 42.859375 10.171875 \nQ 46.921875 13.96875 46.921875 20.515625 \nQ 46.921875 27.09375 42.890625 30.859375 \nQ 38.875 34.625 31.78125 34.625 \nz\nM 21.921875 38.8125 \nQ 15.578125 40.375 12.03125 44.71875 \nQ 8.5 49.078125 8.5 55.328125 \nQ 8.5 64.0625 14.71875 69.140625 \nQ 20.953125 74.21875 31.78125 74.21875 \nQ 42.671875 74.21875 48.875 69.140625 \nQ 55.078125 64.0625 55.078125 55.328125 \nQ 55.078125 49.078125 51.53125 44.71875 \nQ 48 40.375 41.703125 38.8125 \nQ 48.828125 37.15625 52.796875 32.3125 \nQ 56.78125 27.484375 56.78125 20.515625 \nQ 56.78125 9.90625 50.3125 4.234375 \nQ 43.84375 -1.421875 31.78125 -1.421875 \nQ 19.734375 -1.421875 13.25 4.234375 \nQ 6.78125 9.90625 6.78125 20.515625 \nQ 6.78125 27.484375 10.78125 32.3125 \nQ 14.796875 37.15625 21.921875 38.8125 \nz\nM 18.3125 54.390625 \nQ 18.3125 48.734375 21.84375 45.5625 \nQ 25.390625 42.390625 31.78125 42.390625 \nQ 38.140625 42.390625 41.71875 45.5625 \nQ 45.3125 48.734375 45.3125 54.390625 \nQ 45.3125 60.0625 41.71875 63.234375 \nQ 38.140625 66.40625 31.78125 66.40625 \nQ 25.390625 66.40625 21.84375 63.234375 \nQ 18.3125 60.0625 18.3125 54.390625 \nz\n\" id=\"DejaVuSans-56\"/>\n      </defs>\n      <g transform=\"translate(7.2 191.724887)scale(0.1 -0.1)\">\n       <use xlink:href=\"#DejaVuSans-8722\"/>\n       <use x=\"83.789062\" xlink:href=\"#DejaVuSans-56\"/>\n      </g>\n     </g>\n    </g>\n    <g id=\"ytick_2\">\n     <g id=\"line2d_8\">\n      <g>\n       <use style=\"stroke:#000000;stroke-width:0.8;\" x=\"28.942188\" xlink:href=\"#me491f94d9c\" y=\"143.694056\"/>\n      </g>\n     </g>\n     <g id=\"text_8\">\n      <!-- −6 -->\n      <defs>\n       <path d=\"M 33.015625 40.375 \nQ 26.375 40.375 22.484375 35.828125 \nQ 18.609375 31.296875 18.609375 23.390625 \nQ 18.609375 15.53125 22.484375 10.953125 \nQ 26.375 6.390625 33.015625 6.390625 \nQ 39.65625 6.390625 43.53125 10.953125 \nQ 47.40625 15.53125 47.40625 23.390625 \nQ 47.40625 31.296875 43.53125 35.828125 \nQ 39.65625 40.375 33.015625 40.375 \nz\nM 52.59375 71.296875 \nL 52.59375 62.3125 \nQ 48.875 64.0625 45.09375 64.984375 \nQ 41.3125 65.921875 37.59375 65.921875 \nQ 27.828125 65.921875 22.671875 59.328125 \nQ 17.53125 52.734375 16.796875 39.40625 \nQ 19.671875 43.65625 24.015625 45.921875 \nQ 28.375 48.1875 33.59375 48.1875 \nQ 44.578125 48.1875 50.953125 41.515625 \nQ 57.328125 34.859375 57.328125 23.390625 \nQ 57.328125 12.15625 50.6875 5.359375 \nQ 44.046875 -1.421875 33.015625 -1.421875 \nQ 20.359375 -1.421875 13.671875 8.265625 \nQ 6.984375 17.96875 6.984375 36.375 \nQ 6.984375 53.65625 15.1875 63.9375 \nQ 23.390625 74.21875 37.203125 74.21875 \nQ 40.921875 74.21875 44.703125 73.484375 \nQ 48.484375 72.75 52.59375 71.296875 \nz\n\" id=\"DejaVuSans-54\"/>\n      </defs>\n      <g transform=\"translate(7.2 147.493274)scale(0.1 -0.1)\">\n       <use xlink:href=\"#DejaVuSans-8722\"/>\n       <use x=\"83.789062\" xlink:href=\"#DejaVuSans-54\"/>\n      </g>\n     </g>\n    </g>\n    <g id=\"ytick_3\">\n     <g id=\"line2d_9\">\n      <g>\n       <use style=\"stroke:#000000;stroke-width:0.8;\" x=\"28.942188\" xlink:href=\"#me491f94d9c\" y=\"99.462443\"/>\n      </g>\n     </g>\n     <g id=\"text_9\">\n      <!-- −4 -->\n      <g transform=\"translate(7.2 103.261662)scale(0.1 -0.1)\">\n       <use xlink:href=\"#DejaVuSans-8722\"/>\n       <use x=\"83.789062\" xlink:href=\"#DejaVuSans-52\"/>\n      </g>\n     </g>\n    </g>\n    <g id=\"ytick_4\">\n     <g id=\"line2d_10\">\n      <g>\n       <use style=\"stroke:#000000;stroke-width:0.8;\" x=\"28.942188\" xlink:href=\"#me491f94d9c\" y=\"55.230831\"/>\n      </g>\n     </g>\n     <g id=\"text_10\">\n      <!-- −2 -->\n      <g transform=\"translate(7.2 59.03005)scale(0.1 -0.1)\">\n       <use xlink:href=\"#DejaVuSans-8722\"/>\n       <use x=\"83.789062\" xlink:href=\"#DejaVuSans-50\"/>\n      </g>\n     </g>\n    </g>\n    <g id=\"ytick_5\">\n     <g id=\"line2d_11\">\n      <g>\n       <use style=\"stroke:#000000;stroke-width:0.8;\" x=\"28.942188\" xlink:href=\"#me491f94d9c\" y=\"10.999219\"/>\n      </g>\n     </g>\n     <g id=\"text_11\">\n      <!-- 0 -->\n      <g transform=\"translate(15.579688 14.798437)scale(0.1 -0.1)\">\n       <use xlink:href=\"#DejaVuSans-48\"/>\n      </g>\n     </g>\n    </g>\n   </g>\n   <g id=\"patch_53\">\n    <path d=\"M 28.942188 228.439219 \nL 28.942188 10.999219 \n\" style=\"fill:none;stroke:#000000;stroke-linecap:square;stroke-linejoin:miter;stroke-width:0.8;\"/>\n   </g>\n   <g id=\"patch_54\">\n    <path d=\"M 363.742188 228.439219 \nL 363.742188 10.999219 \n\" style=\"fill:none;stroke:#000000;stroke-linecap:square;stroke-linejoin:miter;stroke-width:0.8;\"/>\n   </g>\n   <g id=\"patch_55\">\n    <path d=\"M 28.942187 228.439219 \nL 363.742188 228.439219 \n\" style=\"fill:none;stroke:#000000;stroke-linecap:square;stroke-linejoin:miter;stroke-width:0.8;\"/>\n   </g>\n   <g id=\"patch_56\">\n    <path d=\"M 28.942187 10.999219 \nL 363.742188 10.999219 \n\" style=\"fill:none;stroke:#000000;stroke-linecap:square;stroke-linejoin:miter;stroke-width:0.8;\"/>\n   </g>\n  </g>\n </g>\n <defs>\n  <clipPath id=\"pc68e95b85c\">\n   <rect height=\"217.44\" width=\"334.8\" x=\"28.942188\" y=\"10.999219\"/>\n  </clipPath>\n </defs>\n</svg>\n",
      "image/png": "[encoded data removed]"
     },
     "metadata": {
      "needs_background": "light"
     }
    }
   ],
   "source": [
    "# matplotlib_bar_chart\n",
    "y_arr = np.arange(start=0, stop=x.shape[0])\n",
    "fig, ax = plt.subplots()\n",
    "ax.bar(y_arr, x)\n",
    "plt.show()"
   ]
  },
  {
   "cell_type": "code",
   "execution_count": 7,
   "metadata": {},
   "outputs": [
    {
     "output_type": "display_data",
     "data": {
      "text/plain": "<Figure size 432x288 with 1 Axes>",
      "image/svg+xml": "<?xml version=\"1.0\" encoding=\"utf-8\" standalone=\"no\"?>\n<!DOCTYPE svg PUBLIC \"-//W3C//DTD SVG 1.1//EN\"\n  \"http://www.w3.org/Graphics/SVG/1.1/DTD/svg11.dtd\">\n<!-- Created with matplotlib (https://matplotlib.org/) -->\n<svg height=\"231.84pt\" version=\"1.1\" viewBox=\"0 0 231.84 231.84\" width=\"231.84pt\" xmlns=\"http://www.w3.org/2000/svg\" xmlns:xlink=\"http://www.w3.org/1999/xlink\">\n <defs>\n  <style type=\"text/css\">\n*{stroke-linecap:butt;stroke-linejoin:round;}\n  </style>\n </defs>\n <g id=\"figure_1\">\n  <g id=\"patch_1\">\n   <path d=\"M 0 231.84 \nL 231.84 231.84 \nL 231.84 0 \nL 0 0 \nz\n\" style=\"fill:none;\"/>\n  </g>\n  <g id=\"axes_1\">\n   <g id=\"patch_2\">\n    <path d=\"M 202.298946 126.093608 \nC 202.49775 124.405661 202.647035 122.71225 202.746608 121.015556 \nC 202.846181 119.318862 202.896 117.619614 202.896 115.92 \nL 115.92 115.92 \nL 202.298946 126.093608 \nz\n\" style=\"fill:#1f77b4;\"/>\n   </g>\n   <g id=\"patch_3\">\n    <path d=\"M 201.830263 102.346078 \nC 200.125931 91.559248 196.405167 81.189279 190.862918 71.779501 \nC 185.320669 62.369723 178.055451 54.087397 169.44792 47.366471 \nC 160.840389 40.645544 151.043546 35.605484 140.570693 32.510361 \nC 130.09784 29.415238 119.135133 28.320069 108.256959 29.282235 \nC 97.378784 30.244401 86.778504 33.246798 77.011515 38.132119 \nC 67.244526 43.01744 58.484438 49.698846 51.190231 57.826269 \nC 43.896025 65.953691 38.197356 75.382663 34.392805 85.619158 \nC 30.588253 95.855653 28.745445 106.717715 28.960934 117.636232 \nC 29.176423 128.554748 31.446378 139.33564 35.651866 149.414049 \nC 39.857355 159.492457 45.923622 168.689235 53.532831 176.522522 \nC 61.142039 184.355809 70.158932 190.686367 80.111075 195.18251 \nC 90.063218 199.678652 100.773708 202.260459 111.681375 202.792658 \nC 122.589043 203.324856 133.500001 201.797987 143.842575 198.292049 \nC 154.185149 194.786111 163.775498 189.363423 172.111139 182.308105 \nC 180.446781 175.252786 187.379548 166.690247 192.546201 157.069117 \nC 197.712854 147.447988 201.021555 136.939285 202.298946 126.093608 \nL 115.92 115.92 \nL 201.830263 102.346078 \nz\n\" style=\"fill:#ff7f0e;\"/>\n   </g>\n   <g id=\"patch_4\">\n    <path d=\"M 178.845413 175.963459 \nC 188.079003 166.286677 194.957183 154.609114 198.943456 141.841618 \nC 202.929729 129.074123 203.917685 115.557511 201.830263 102.346078 \nL 115.92 115.92 \nL 178.845413 175.963459 \nz\n\" style=\"fill:#2ca02c;\"/>\n   </g>\n   <g id=\"patch_5\">\n    <path d=\"M 31.673007 137.536402 \nC 35.529619 152.567022 43.339317 166.295212 54.288592 177.290955 \nC 65.237867 188.286698 78.932861 196.154463 93.947014 200.074694 \nC 108.961166 203.994924 124.754401 203.826603 139.681591 199.587266 \nC 154.608781 195.347928 168.132978 187.190067 178.845413 175.963459 \nL 115.92 115.92 \nL 31.673007 137.536402 \nz\n\" style=\"fill:#d62728;\"/>\n   </g>\n   <g id=\"patch_6\">\n    <path d=\"M 197.75496 145.379529 \nC 202.364425 132.575002 203.904949 118.865571 202.252238 105.357364 \nC 200.599527 91.849158 195.799257 78.915515 188.238733 67.599969 \nC 180.67821 56.284424 170.566388 46.899714 158.719129 40.203033 \nC 146.871869 33.506352 133.616605 29.682782 120.022821 29.040823 \nC 106.429036 28.398864 92.872434 30.956258 80.446813 36.506666 \nC 68.021192 42.057074 57.069969 50.447093 48.47673 60.999787 \nC 39.88349 71.55248 33.885734 83.976192 30.967382 97.268533 \nC 28.04903 110.560873 28.290739 124.354469 31.673007 137.536402 \nL 115.92 115.92 \nL 197.75496 145.379529 \nz\n\" style=\"fill:#9467bd;\"/>\n   </g>\n   <g id=\"patch_7\">\n    <path d=\"M 66.572384 44.298513 \nC 55.289606 52.072412 46.001857 62.403532 39.468504 74.447197 \nC 32.935152 86.490863 29.339242 99.909647 28.974776 113.606425 \nC 28.610311 127.303203 31.487501 140.894233 37.371108 153.268309 \nC 43.254715 165.642384 51.979897 176.45282 62.83328 184.815753 \nC 73.686664 193.178685 86.364169 198.85981 99.829281 201.394636 \nC 113.294392 203.929462 127.169858 203.246971 140.321214 199.402964 \nC 153.472571 195.558958 165.531358 188.661132 175.511644 179.273457 \nC 185.491931 169.885781 193.1141 158.27127 197.75496 145.379529 \nL 115.92 115.92 \nL 66.572384 44.298513 \nz\n\" style=\"fill:#8c564b;\"/>\n   </g>\n   <g id=\"patch_8\">\n    <path d=\"M 188.830867 68.498169 \nC 182.497159 58.76012 174.27623 50.388935 164.654482 43.879908 \nC 155.032734 37.370881 144.203748 32.854967 132.808236 30.599357 \nC 121.412725 28.343747 109.679954 28.393822 98.304111 30.746618 \nC 86.928268 33.099414 76.138222 37.707596 66.572384 44.298513 \nL 115.92 115.92 \nL 188.830867 68.498169 \nz\n\" style=\"fill:#e377c2;\"/>\n   </g>\n   <g id=\"patch_9\">\n    <path d=\"M 188.794633 68.442507 \nC 182.560709 58.873868 174.502803 50.626046 165.081957 44.170947 \nC 155.66111 37.715848 145.060488 33.178975 133.886613 30.81991 \nC 122.712738 28.460844 111.182861 28.325452 99.956672 30.421481 \nC 88.730483 32.51751 78.026248 36.804206 68.45642 43.036304 \nC 58.886591 49.268402 50.637231 57.324733 44.180334 66.744347 \nC 37.723436 76.163962 33.18454 86.763717 30.823341 97.937141 \nC 28.462142 109.110565 28.32455 120.640416 30.418435 131.867006 \nC 32.512321 143.093595 36.796974 153.798647 43.027244 163.369666 \nC 49.257515 172.940684 57.312271 181.191581 66.730653 187.650277 \nC 76.149034 194.108973 86.747923 198.649893 97.920896 201.013224 \nC 109.093869 203.376556 120.623694 203.51635 131.850683 201.424608 \nC 143.077672 199.332865 153.783542 195.050256 163.355749 188.821813 \nC 172.927957 182.593369 181.180392 174.540189 187.640885 165.12304 \nC 194.101379 155.705892 198.644322 145.10787 201.009787 133.935348 \nC 203.375251 122.762826 203.517246 111.233029 201.427647 100.005641 \nC 199.338048 88.778253 195.057483 78.071565 188.830867 68.498169 \nL 115.92 115.92 \nL 188.794633 68.442507 \nz\n\" style=\"fill:#7f7f7f;\"/>\n   </g>\n   <g id=\"patch_10\">\n    <path d=\"M 51.481751 57.503079 \nC 40.567446 69.542377 33.242545 84.402864 30.341362 100.39192 \nC 27.440178 116.380975 29.077207 132.867587 35.06599 147.973918 \nC 41.054773 163.080249 51.15896 176.210124 64.227679 185.868041 \nC 77.296397 195.525959 92.813886 201.330765 109.012691 202.62129 \nC 125.211497 203.911815 141.45233 200.637126 155.885347 193.170214 \nC 170.318364 185.703302 182.373963 174.338851 190.679002 160.371278 \nC 198.984042 146.403706 203.210761 130.384246 202.877733 114.137528 \nC 202.544706 97.89081 197.665075 82.058014 188.794633 68.442507 \nL 115.92 115.92 \nL 51.481751 57.503079 \nz\n\" style=\"fill:#bcbd22;\"/>\n   </g>\n   <g id=\"patch_11\">\n    <path d=\"M 151.211199 195.414376 \nC 163.04511 190.16076 173.557927 182.33036 181.980149 172.496331 \nC 190.402371 162.662303 196.523367 151.070586 199.895103 138.569652 \nC 203.266838 126.068718 203.804988 112.971204 201.470163 100.235799 \nC 199.135338 87.500394 193.98593 75.445599 186.398856 64.953781 \nC 178.811782 54.461963 168.976787 45.795512 157.613758 39.58878 \nC 146.250729 33.382049 133.643844 29.790261 120.715881 29.076324 \nC 107.787917 28.362386 94.862192 30.544153 82.88482 35.461927 \nC 70.907448 40.379702 60.177972 47.910495 51.481751 57.503079 \nL 115.92 115.92 \nL 151.211199 195.414376 \nz\n\" style=\"fill:#17becf;\"/>\n   </g>\n   <g id=\"patch_12\">\n    <path d=\"M 168.583399 185.139874 \nC 177.334776 178.48171 184.744617 170.223908 190.419375 160.80505 \nC 196.094132 151.386193 199.931532 140.976034 201.727764 130.127471 \nC 203.523996 119.278909 203.246687 108.187465 200.910565 97.44222 \nC 198.574444 86.696974 194.221614 76.491588 188.083259 67.368083 \nC 181.944904 58.244577 174.131655 50.367383 165.058484 44.15487 \nC 155.985313 37.942356 145.815745 33.506489 135.089898 31.082864 \nC 124.36405 28.659239 113.275235 28.291537 102.412392 29.999286 \nC 91.54955 31.707035 81.108459 35.459457 71.643661 41.057256 \nC 62.178863 46.655055 53.86094 53.997343 47.131668 62.694161 \nC 40.402395 71.39098 35.383054 81.285587 32.340227 91.852467 \nC 29.297401 102.419348 28.28593 113.468056 29.359534 124.411782 \nC 30.433139 135.355507 33.57247 145.997013 38.610794 155.771114 \nC 43.649118 165.545215 50.495629 174.275754 58.786701 181.499042 \nC 67.077773 188.722329 76.663976 194.308181 87.036176 197.959925 \nC 97.408375 201.611669 108.379634 203.26349 119.367255 202.827658 \nC 130.354876 202.391826 141.16083 199.876196 151.211199 195.414376 \nL 115.92 115.92 \nL 168.583399 185.139874 \nz\n\" style=\"fill:#1f77b4;\"/>\n   </g>\n   <g id=\"patch_13\">\n    <path d=\"M 47.348713 169.42517 \nC 61.420706 187.459589 82.054395 199.233904 104.739517 202.174399 \nC 127.424638 205.114894 150.3784 198.990479 168.583399 185.139874 \nL 115.92 115.92 \nL 47.348713 169.42517 \nz\n\" style=\"fill:#ff7f0e;\"/>\n   </g>\n   <g id=\"patch_14\">\n    <path d=\"M 157.762586 39.670262 \nC 140.214684 30.040726 119.869346 26.757878 100.18329 30.37948 \nC 80.497233 34.001083 62.652292 44.309717 49.68036 59.553923 \nC 36.708428 74.798128 29.388264 94.062735 28.963579 114.074643 \nC 28.538893 134.086551 35.035183 153.644365 47.348713 169.42517 \nL 115.92 115.92 \nL 157.762586 39.670262 \nz\n\" style=\"fill:#2ca02c;\"/>\n   </g>\n   <g id=\"patch_15\">\n    <path d=\"M 148.810644 196.437266 \nC 164.01942 190.224606 177.16117 179.828119 186.707072 166.457263 \nC 196.252974 153.086408 201.817926 137.280591 202.75454 120.878555 \nC 203.691153 104.476519 199.961643 88.139956 191.999875 73.769351 \nC 184.038107 59.398747 172.165276 47.57384 157.762586 39.670262 \nL 115.92 115.92 \nL 148.810644 196.437266 \nz\n\" style=\"fill:#d62728;\"/>\n   </g>\n   <g id=\"patch_16\">\n    <path d=\"M 163.492648 188.732552 \nC 172.76199 182.676355 180.79017 174.905455 187.144968 165.838218 \nC 193.499766 156.770982 198.065055 146.573104 200.595049 135.793616 \nC 203.125044 125.014128 203.573511 113.850014 201.916306 102.902325 \nC 200.259102 91.954635 196.526509 81.423428 190.919483 71.87568 \nC 185.312457 62.327932 177.93346 53.938118 169.17976 47.157928 \nC 160.426061 40.377738 150.457624 35.331072 139.811128 32.289631 \nC 129.164633 29.248191 118.034631 28.267555 107.02034 29.400519 \nC 96.006048 30.533483 85.30874 33.759343 75.504335 38.904426 \nC 65.699931 44.049509 56.967594 51.019795 49.777456 59.440017 \nC 42.587318 67.860239 37.07077 77.576529 33.524812 88.065781 \nC 29.978853 98.555033 28.468282 109.625568 29.074425 120.681373 \nC 29.680568 131.737178 32.392347 142.576219 37.063768 152.614948 \nC 41.735188 162.653676 48.280884 171.708643 56.348449 179.292351 \nC 64.416014 186.876059 73.858023 192.849922 84.166138 196.892321 \nC 94.474253 200.934721 105.460105 202.971786 116.532239 202.893845 \nC 127.604374 202.815905 138.560459 200.624383 148.810644 196.437266 \nL 115.92 115.92 \nL 163.492648 188.732552 \nz\n\" style=\"fill:#9467bd;\"/>\n   </g>\n   <g id=\"patch_17\">\n    <path d=\"M 29.621742 126.756758 \nC 31.459794 141.394038 36.991983 155.325852 45.695954 167.236742 \nC 54.399925 179.147631 65.992829 188.650534 79.380049 194.848173 \nC 92.767269 201.045813 107.513768 203.736788 122.227163 202.667013 \nC 136.940558 201.597238 151.142714 196.801477 163.492648 188.732552 \nL 115.92 115.92 \nL 29.621742 126.756758 \nz\n\" style=\"fill:#8c564b;\"/>\n   </g>\n   <g id=\"patch_18\">\n    <path d=\"M 192.990959 75.610054 \nC 183.543606 57.547102 168.040377 43.367856 149.208036 35.566212 \nC 130.375695 27.764568 109.387103 26.826406 89.93381 32.916732 \nC 70.480516 39.007059 53.774054 51.746574 42.752815 68.894606 \nC 31.731577 86.042639 27.081955 106.531224 29.621742 126.756758 \nL 115.92 115.92 \nL 192.990959 75.610054 \nz\n\" style=\"fill:#e377c2;\"/>\n   </g>\n   <g id=\"patch_19\">\n    <path d=\"M 51.414935 57.576867 \nC 40.753832 69.363946 33.524716 83.850761 30.516352 99.456661 \nC 27.507989 115.062561 28.833921 131.19854 34.349477 146.104009 \nC 39.865033 161.009478 49.362043 174.121866 61.80429 184.010488 \nC 74.246538 193.89911 89.164423 200.190742 104.93026 202.198909 \nC 120.696097 204.207076 136.714845 201.855984 151.238705 195.402159 \nC 165.762565 188.948334 178.24337 178.635361 187.319345 165.588482 \nC 196.39532 152.541603 201.723915 137.253241 202.723728 121.391503 \nC 203.723542 105.529765 200.356839 89.693312 192.990959 75.610054 \nL 115.92 115.92 \nL 51.414935 57.576867 \nz\n\" style=\"fill:#7f7f7f;\"/>\n   </g>\n   <g id=\"patch_20\">\n    <path d=\"M 168.692574 46.783324 \nC 151.357723 33.551494 129.664912 27.311421 107.948929 29.310032 \nC 86.232946 31.308643 66.043488 41.403314 51.414935 57.576867 \nL 115.92 115.92 \nL 168.692574 46.783324 \nz\n\" style=\"fill:#bcbd22;\"/>\n   </g>\n   <g id=\"patch_21\">\n    <path d=\"M 70.289378 41.87494 \nC 62.438174 46.713282 55.406235 52.769705 49.457469 59.816912 \nC 43.508702 66.864119 38.718469 74.812834 35.266544 83.364745 \nC 31.81462 91.916655 29.744735 100.963422 29.134572 110.165523 \nC 28.524408 119.367623 29.381697 128.608482 31.674262 137.541292 \nC 33.966828 146.474102 37.665629 154.985699 42.631848 162.756646 \nC 47.598068 170.527593 53.768794 177.459444 60.91244 183.292049 \nC 68.056086 189.124653 76.082154 193.784122 84.689427 197.095587 \nC 93.296701 200.407051 102.37614 202.328561 111.586996 202.788001 \nC 120.797852 203.247442 130.023438 202.238993 138.917521 199.800502 \nC 147.811604 197.362011 156.261511 193.524369 163.950118 188.431602 \nC 171.638725 183.338835 178.46863 177.055459 184.18351 169.817289 \nC 189.898389 162.579119 194.425845 154.47785 197.595962 145.817521 \nC 200.76608 137.157191 202.538699 128.047513 202.847293 118.83037 \nC 203.155888 109.613227 201.996549 100.405386 199.412786 91.552413 \nC 196.829023 82.699441 192.853568 74.31349 187.635618 66.709283 \nC 182.417669 59.105076 176.023328 52.378947 168.692574 46.783324 \nL 115.92 115.92 \nL 70.289378 41.87494 \nz\n\" style=\"fill:#17becf;\"/>\n   </g>\n   <g id=\"patch_22\">\n    <path d=\"M 47.800743 61.840509 \nC 41.094155 70.288217 36.017157 79.910247 32.829341 90.214611 \nC 29.641526 100.518976 28.398168 111.327003 29.162843 122.086062 \nC 29.927518 132.845122 32.686967 143.368658 37.300094 153.118589 \nC 41.913222 162.868519 48.30004 171.675786 56.133981 179.09006 \nC 63.967921 186.504334 73.11315 192.397057 83.102057 196.466925 \nC 93.090964 200.536794 103.750348 202.713238 114.53518 202.884975 \nC 125.320011 203.056711 136.043289 201.220762 146.156714 197.471 \nC 156.27014 193.721239 165.598354 188.122685 173.664391 180.961601 \nC 181.730429 173.800516 188.394429 165.201069 193.315653 155.602963 \nC 198.236876 146.004856 201.329992 135.574515 202.436844 124.845258 \nC 203.543697 114.116 202.645094 103.273865 199.786983 92.873226 \nC 196.928871 82.472587 192.160809 72.693785 185.726595 64.036824 \nC 179.29238 55.379863 171.303578 47.99485 162.168667 42.25939 \nC 153.033756 36.523931 142.91113 32.537475 132.318374 30.503855 \nC 121.725618 28.470235 110.846404 28.424713 100.237 30.369617 \nC 89.627597 32.31452 79.471965 36.216127 70.289378 41.87494 \nL 115.92 115.92 \nL 47.800743 61.840509 \nz\n\" style=\"fill:#1f77b4;\"/>\n   </g>\n   <g id=\"patch_23\">\n    <path d=\"M 101.197911 30.19903 \nC 90.743922 31.994443 80.70601 35.687159 71.580763 41.094492 \nC 62.455516 46.501826 54.395937 53.533114 47.800743 61.840509 \nL 115.92 115.92 \nL 101.197911 30.19903 \nz\n\" style=\"fill:#ff7f0e;\"/>\n   </g>\n   <g id=\"patch_24\">\n    <path d=\"M 91.08864 32.563967 \nC 80.351794 35.762422 70.33336 41.00543 61.585314 48.004122 \nC 52.837269 55.002814 45.523278 63.626252 40.046314 73.399319 \nC 34.569349 83.172387 31.031879 93.91224 29.628804 105.027157 \nC 28.225729 116.142073 28.983298 127.424105 31.859773 138.251656 \nC 34.736249 149.079208 39.677814 159.249709 46.412209 168.202804 \nC 53.146604 177.155899 61.547835 184.724086 71.153029 190.490389 \nC 80.758222 196.256691 91.387675 200.113228 102.455748 201.847519 \nC 113.52382 203.58181 124.82344 203.161408 135.732043 200.609477 \nC 146.640647 198.057546 156.954146 193.421828 166.104309 186.957734 \nC 175.254472 180.49364 183.070108 172.322106 189.120608 162.89335 \nC 195.171108 153.464594 199.343272 142.955018 201.407233 131.943657 \nC 203.471193 120.932297 203.388335 109.625163 201.163223 98.645233 \nC 198.93811 87.665303 194.612374 77.217999 188.424344 67.878927 \nC 182.236314 58.539855 174.301762 50.483737 165.057849 44.154435 \nC 155.813937 37.825132 145.433608 33.341059 134.488777 30.949269 \nC 123.543945 28.557479 112.239378 28.302721 101.197911 30.19903 \nL 115.92 115.92 \nL 91.08864 32.563967 \nz\n\" style=\"fill:#2ca02c;\"/>\n   </g>\n   <g id=\"patch_25\">\n    <path d=\"M 113.023287 202.847749 \nC 125.620229 203.26752 138.159175 200.944131 149.76943 196.038916 \nC 161.379685 191.133701 171.786146 183.762888 180.266196 174.438302 \nC 188.746246 165.113715 195.098952 154.0563 198.883186 142.033874 \nC 202.66742 130.011447 203.793516 117.30888 202.183278 104.808228 \nC 200.57304 92.307577 196.264623 80.305042 189.5572 69.63407 \nC 182.849777 58.963098 173.90228 49.876537 163.336015 43.00535 \nC 152.76975 36.134164 140.835084 31.641163 128.360751 29.838339 \nC 115.886418 28.035516 103.167995 28.965586 91.08864 32.563967 \nL 115.92 115.92 \nL 113.023287 202.847749 \nz\n\" style=\"fill:#d62728;\"/>\n   </g>\n   <g id=\"patch_26\">\n    <path d=\"M 67.153579 43.901525 \nC 51.948419 54.197511 40.387593 69.049067 34.137287 86.315737 \nC 27.88698 103.582407 27.262618 122.392818 32.354185 140.035952 \nC 37.445752 157.679085 47.9963 173.264571 62.485248 184.546175 \nC 76.974197 195.827779 94.670353 202.23617 113.023287 202.847749 \nL 115.92 115.92 \nL 67.153579 43.901525 \nz\n\" style=\"fill:#9467bd;\"/>\n   </g>\n   <g id=\"patch_27\">\n    <path d=\"M 152.274307 194.933853 \nC 163.19567 189.908929 172.957525 182.673812 180.942047 173.686408 \nC 188.92657 164.699005 194.961685 154.153005 198.665432 142.71586 \nC 202.369179 131.278715 203.661737 119.196909 202.461302 107.235096 \nC 201.260867 95.273283 197.59331 83.689253 191.690747 73.216155 \nC 185.788185 62.743057 177.777825 53.606598 168.166641 46.385023 \nC 158.555456 39.163447 147.55058 34.012387 135.848505 31.257852 \nC 124.14643 28.503317 111.99935 28.20467 100.17605 30.380812 \nC 88.35275 32.556955 77.108035 37.160988 67.153579 43.901525 \nL 115.92 115.92 \nL 152.274307 194.933853 \nz\n\" style=\"fill:#8c564b;\"/>\n   </g>\n   <g id=\"patch_28\">\n    <path d=\"M 189.385319 162.478259 \nC 194.936974 153.718179 198.877296 144.035324 201.019811 133.887936 \nC 203.162326 123.740547 203.472694 113.291266 201.936226 103.034603 \nC 200.399758 92.77794 197.041081 82.878288 192.019144 73.804149 \nC 186.997206 64.730009 180.3925 56.62682 172.517592 49.878065 \nC 164.642684 43.129311 155.623793 37.843158 145.887736 34.269774 \nC 136.15168 30.696391 125.854507 28.89305 115.48353 28.945095 \nC 105.112554 28.99714 94.833998 30.903737 85.134296 34.574656 \nC 75.434594 38.245575 66.469211 43.621979 58.662433 50.44943 \nC 50.855655 57.27688 44.332609 65.445949 39.401996 74.570034 \nC 34.471384 83.694119 31.212233 93.626981 29.778783 103.898548 \nC 28.345333 114.170115 28.760558 124.615755 31.004809 134.741129 \nC 33.24906 144.866503 37.286365 154.509324 42.92566 163.213243 \nC 48.564954 171.917163 55.715853 179.542678 64.039939 185.728909 \nC 72.364024 191.915141 81.72788 196.562938 91.688362 199.452343 \nC 101.648844 202.341748 112.046307 203.426451 122.388691 202.655118 \nC 132.731075 201.883784 142.852615 199.268777 152.274307 194.933853 \nL 115.92 115.92 \nL 189.385319 162.478259 \nz\n\" style=\"fill:#e377c2;\"/>\n   </g>\n   <g id=\"patch_29\">\n    <path d=\"M 29.092074 120.993054 \nC 30.165438 139.364228 37.042099 156.929188 48.726894 171.146 \nC 60.411688 185.362812 76.312388 195.510916 94.127906 200.121717 \nC 111.943423 204.732519 130.770803 203.572327 147.88542 196.809038 \nC 165.000036 190.04575 179.534458 178.022154 189.385319 162.478259 \nL 115.92 115.92 \nL 29.092074 120.993054 \nz\n\" style=\"fill:#7f7f7f;\"/>\n   </g>\n   <g id=\"patch_30\">\n    <path d=\"M 193.085146 75.790648 \nC 183.901105 58.130561 168.927113 44.147471 150.680521 36.192146 \nC 132.43393 28.23682 111.997948 26.781527 92.80817 32.070922 \nC 73.618391 37.360317 56.814017 49.080396 45.220114 65.260838 \nC 33.626211 81.44128 27.93105 101.121534 29.092074 120.993054 \nL 115.92 115.92 \nL 193.085146 75.790648 \nz\n\" style=\"fill:#bcbd22;\"/>\n   </g>\n   <g id=\"patch_31\">\n    <path d=\"M 85.774272 197.504678 \nC 102.242413 203.589694 120.173356 204.548216 137.196358 200.253511 \nC 154.219361 195.958807 169.549602 186.608878 181.160192 173.439926 \nC 192.770782 160.270974 200.126432 143.890135 202.254613 126.463204 \nC 204.382794 109.036272 201.18539 91.366692 193.085146 75.790648 \nL 115.92 115.92 \nL 85.774272 197.504678 \nz\n\" style=\"fill:#17becf;\"/>\n   </g>\n   <g id=\"patch_32\">\n    <path d=\"M 74.624158 39.372772 \nC 59.898401 47.317051 47.773222 59.344381 39.709887 74.005286 \nC 31.646553 88.66619 27.982538 105.347067 29.159414 122.037617 \nC 30.336289 138.728167 36.304798 154.72984 46.345645 168.114192 \nC 56.386492 181.498544 70.079437 191.7054 85.774272 197.504678 \nL 115.92 115.92 \nL 74.624158 39.372772 \nz\n\" style=\"fill:#1f77b4;\"/>\n   </g>\n   <g id=\"patch_33\">\n    <path d=\"M 202.809573 119.796416 \nC 203.49514 104.429499 200.092 89.152276 192.948678 75.529315 \nC 185.805355 61.906355 175.174321 50.419144 162.144319 42.244109 \nC 149.114318 34.069075 134.14588 29.495154 118.77195 28.99077 \nC 103.39802 28.486387 88.161972 32.069367 74.624158 39.372772 \nL 115.92 115.92 \nL 202.809573 119.796416 \nz\n\" style=\"fill:#ff7f0e;\"/>\n   </g>\n   <g id=\"patch_34\">\n    <path d=\"M 192.421526 157.300443 \nC 195.537005 151.540744 197.992082 145.447584 199.740051 139.136884 \nC 201.488019 132.826183 202.517723 126.338216 202.809573 119.796416 \nL 115.92 115.92 \nL 192.421526 157.300443 \nz\n\" style=\"fill:#2ca02c;\"/>\n   </g>\n   <g id=\"patch_35\">\n    <path d=\"M 167.688678 185.811549 \nC 172.789266 182.033542 177.460992 177.708512 181.620321 172.913793 \nC 185.779649 168.119075 189.401639 162.883418 192.421526 157.300443 \nL 115.92 115.92 \nL 167.688678 185.811549 \nz\n\" style=\"fill:#d62728;\"/>\n   </g>\n   <g id=\"patch_36\">\n    <path d=\"M 140.891491 32.60584 \nC 126.685925 28.348051 111.624654 27.793378 97.144385 30.994734 \nC 82.664116 34.196089 69.240397 41.048336 58.153726 50.897834 \nC 47.067055 60.747331 38.681531 73.27061 33.797057 87.273067 \nC 28.912582 101.275523 27.689568 116.297299 30.244679 130.905457 \nC 32.79979 145.513616 39.049112 159.228407 48.39652 170.741567 \nC 57.743927 182.254727 69.882439 191.18815 83.654154 196.689671 \nC 97.425869 202.191192 112.378509 204.080134 127.085729 202.17631 \nC 141.792949 200.272486 155.771748 194.63842 167.688678 185.811549 \nL 115.92 115.92 \nL 140.891491 32.60584 \nz\n\" style=\"fill:#9467bd;\"/>\n   </g>\n   <g id=\"patch_37\">\n    <path d=\"M 177.810802 177.029355 \nC 188.351794 166.353567 195.953358 153.129826 199.873851 138.648297 \nC 203.794344 124.166767 203.90198 108.914242 200.186259 94.378825 \nC 196.470537 79.843407 189.05636 66.5137 178.667087 55.690209 \nC 168.277814 44.866718 155.262677 36.913271 140.891491 32.60584 \nL 115.92 115.92 \nL 177.810802 177.029355 \nz\n\" style=\"fill:#8c564b;\"/>\n   </g>\n   <g id=\"patch_38\">\n    <path d=\"M 108.28363 29.27988 \nC 94.335126 30.509286 80.887619 35.089133 69.088198 42.628753 \nC 57.288777 50.168373 47.482762 60.447113 40.506617 72.588184 \nC 33.530473 84.729255 29.588361 98.377339 29.01655 112.368237 \nC 28.444739 126.359136 31.259963 140.283393 37.22208 152.953254 \nC 43.184196 165.623115 52.118719 176.667785 63.263523 185.14514 \nC 74.408327 193.622495 87.437249 199.284439 101.238908 201.648001 \nC 115.040567 204.011562 129.211044 203.00757 142.541582 198.721666 \nC 155.872119 194.435762 167.972587 186.993377 177.810802 177.029355 \nL 115.92 115.92 \nL 108.28363 29.27988 \nz\n\" style=\"fill:#e377c2;\"/>\n   </g>\n   <g id=\"patch_39\">\n    <path d=\"M 49.161818 60.169039 \nC 42.762575 67.831719 37.73016 76.539289 34.285477 85.909515 \nC 30.840794 95.279741 29.034996 105.17348 28.947352 115.156431 \nC 28.859707 125.139381 30.491518 135.0633 33.771152 144.492562 \nC 37.050786 153.921824 41.929543 162.716408 48.193262 170.490262 \nC 54.45698 178.264116 62.012648 184.901802 70.528596 190.111947 \nC 79.044543 195.322092 88.394313 199.027329 98.167482 201.06501 \nC 107.940651 203.102691 117.992093 203.442557 127.880582 202.06969 \nC 137.769071 200.696823 147.347768 197.631608 156.196201 193.0086 \nC 165.044634 188.385591 173.031408 182.273437 179.80593 174.940441 \nC 186.580452 167.607446 192.042124 159.162499 195.951197 149.976307 \nC 199.86027 140.790115 202.158696 130.999087 202.745582 121.033018 \nC 203.332467 111.066948 202.199098 101.073828 199.395224 91.492321 \nC 196.591351 81.910814 192.158609 72.883202 186.291583 64.805766 \nC 180.424556 56.72833 173.210366 49.721016 164.965692 44.091422 \nC 156.721018 38.461828 147.56829 34.29355 137.90928 31.769562 \nC 128.250271 29.245575 118.228412 28.403357 108.28363 29.27988 \nL 115.92 115.92 \nL 49.161818 60.169039 \nz\n\" style=\"fill:#7f7f7f;\"/>\n   </g>\n   <g id=\"patch_40\">\n    <path d=\"M 57.682247 180.520222 \nC 64.087027 186.294196 71.315034 191.083699 79.128775 194.731359 \nC 86.942516 198.37902 95.255464 200.844446 103.794476 202.046629 \nC 112.333489 203.248812 121.004007 203.174441 129.521141 201.825958 \nC 138.038275 200.477474 146.307708 197.869812 154.057728 194.088653 \nC 161.807748 190.307493 168.952533 185.394708 175.257325 179.511717 \nC 181.562117 173.628726 186.957097 166.840678 191.265001 159.370608 \nC 195.572906 151.900539 198.746029 143.83117 200.680112 135.427641 \nC 202.614194 127.024112 203.287817 118.37948 202.678848 109.777787 \nC 202.06988 101.176093 200.185062 92.71259 197.086326 84.665366 \nC 193.98759 76.618142 189.709249 69.076311 184.39188 62.287676 \nC 179.074511 55.499041 172.776996 49.538779 165.706255 44.602727 \nC 158.635514 39.666676 150.869847 35.809497 142.664413 33.157926 \nC 134.458979 30.506355 125.904643 29.089755 117.282478 28.954672 \nC 108.660313 28.81959 100.065799 29.96752 91.781328 32.360745 \nC 83.496858 34.75397 75.614171 38.365988 68.392273 43.078118 \nC 61.170375 47.790248 54.689239 53.550308 49.161818 60.169039 \nL 115.92 115.92 \nL 57.682247 180.520222 \nz\n\" style=\"fill:#bcbd22;\"/>\n   </g>\n   <g id=\"patch_41\">\n    <path d=\"M 112.539371 29.009725 \nC 95.256976 29.681974 78.561668 35.494179 64.59813 45.699702 \nC 50.634592 55.905225 40.027491 70.047517 34.139416 86.309856 \nC 28.251341 102.572196 27.345699 120.227077 31.538829 137.006551 \nC 35.73196 153.786025 44.83628 168.939453 57.682247 180.520222 \nL 115.92 115.92 \nL 112.539371 29.009725 \nz\n\" style=\"fill:#17becf;\"/>\n   </g>\n   <g id=\"patch_42\">\n    <path d=\"M 202.6601 109.518465 \nC 201.001441 87.043824 190.671143 66.07071 173.864928 51.056991 \nC 157.058712 36.043273 135.058105 28.133793 112.539371 29.009725 \nL 115.92 115.92 \nL 202.6601 109.518465 \nz\n\" style=\"fill:#1f77b4;\"/>\n   </g>\n   <g id=\"patch_43\">\n    <path d=\"M 63.92868 185.646087 \nC 77.296325 195.613683 93.252581 201.529927 109.887159 202.686522 \nC 126.521736 203.843118 143.143209 200.19199 157.761644 192.170255 \nC 172.380079 184.14852 184.387853 172.089605 192.347389 157.437211 \nC 200.306925 142.784816 203.88738 126.147977 202.6601 109.518465 \nL 115.92 115.92 \nL 63.92868 185.646087 \nz\n\" style=\"fill:#ff7f0e;\"/>\n   </g>\n   <g id=\"patch_44\">\n    <path d=\"M 84.406115 196.98602 \nC 94.591516 200.945528 105.432499 202.950207 116.360309 202.894885 \nC 127.288119 202.839564 138.10825 200.725225 148.25304 196.662796 \nC 158.39783 192.600367 167.68671 186.662154 175.632353 179.159698 \nC 183.577996 171.657242 190.038977 162.72408 194.676329 152.828876 \nC 199.313682 142.933673 202.044865 132.252554 202.726591 121.345889 \nC 203.408318 110.439224 202.028454 99.501142 198.659391 89.105493 \nC 195.290328 78.709845 189.992034 69.041663 183.042475 60.608175 \nC 176.092916 52.174687 167.615788 45.126002 158.055832 39.831918 \nC 148.495875 34.537834 138.023249 31.092581 127.187385 29.67691 \nC 116.35152 28.261239 105.345285 28.900347 94.746106 31.560704 \nC 84.146928 34.221062 74.143461 38.855316 65.260524 45.220339 \nC 56.377586 51.585362 48.773287 59.567861 42.846573 68.749046 \nC 36.91986 77.930231 32.776223 88.146685 30.633052 98.862417 \nC 28.489882 109.578149 28.385324 120.602428 30.324864 131.356882 \nC 32.264405 142.111335 36.213521 152.404544 41.96503 161.696489 \nC 47.716538 170.988434 55.168066 179.113727 63.92868 185.646087 \nL 115.92 115.92 \nL 84.406115 196.98602 \nz\n\" style=\"fill:#2ca02c;\"/>\n   </g>\n   <g id=\"patch_45\">\n    <path d=\"M 44.915384 166.151156 \nC 49.816019 173.078485 55.704144 179.251504 62.392363 184.47375 \nC 69.080581 189.695996 76.497179 193.911473 84.406115 196.98602 \nL 115.92 115.92 \nL 44.915384 166.151156 \nz\n\" style=\"fill:#d62728;\"/>\n   </g>\n   <g id=\"patch_46\">\n    <path d=\"M 123.632034 29.286582 \nC 107.095851 27.814545 90.478848 31.107356 75.753604 38.77413 \nC 61.02836 46.440904 48.801552 58.165773 40.524604 72.556895 \nC 32.247657 86.948016 28.261579 103.41248 29.039552 119.995815 \nC 29.817524 136.57915 35.327495 152.598126 44.915384 166.151156 \nL 115.92 115.92 \nL 123.632034 29.286582 \nz\n\" style=\"fill:#9467bd;\"/>\n   </g>\n   <g id=\"patch_47\">\n    <path d=\"M 50.34573 173.058776 \nC 59.69303 183.786033 71.531387 192.057518 84.818989 197.145315 \nC 98.106592 202.233111 112.441879 203.983462 126.563299 202.242331 \nC 140.68472 200.501199 154.165514 195.321204 165.819331 187.158201 \nC 177.473148 178.995198 186.947799 168.09588 193.409486 155.419419 \nC 199.871174 142.742958 203.12462 128.672448 202.883511 114.446137 \nC 202.642403 100.219825 198.914026 86.267644 192.02649 73.817427 \nC 185.138954 61.367209 175.300406 50.795212 163.376668 43.031803 \nC 151.452929 35.268394 137.804346 30.548189 123.632034 29.286582 \nL 115.92 115.92 \nL 50.34573 173.058776 \nz\n\" style=\"fill:#8c564b;\"/>\n   </g>\n   <g id=\"patch_48\">\n    <path d=\"M 141.621017 199.012011 \nC 150.519021 196.259788 158.91745 192.096067 166.494887 186.680196 \nC 174.072325 181.264325 180.730859 174.666288 186.215662 167.138595 \nC 191.700465 159.610902 195.940664 151.250825 198.773982 142.37831 \nC 201.607301 133.505795 202.997129 124.23549 202.890276 114.922177 \nC 202.783423 105.608864 201.18127 96.372886 198.145132 87.567712 \nC 195.108994 78.762538 190.678104 70.501946 185.022035 63.102074 \nC 179.365966 55.702202 172.557804 49.25867 164.858103 44.018076 \nC 157.158402 38.777483 148.666655 34.807545 139.707848 32.260196 \nC 130.74904 29.712846 121.438936 28.621001 112.133838 29.026447 \nC 102.828741 29.431893 93.648889 31.329389 84.945603 34.646319 \nC 76.242316 37.963248 68.128056 42.65675 60.913361 48.5472 \nC 53.698666 54.437649 47.476763 61.448933 42.485769 69.312723 \nC 37.494774 77.176513 33.799181 85.791196 31.540421 94.827081 \nC 29.281661 103.862967 28.488922 113.203295 29.192543 122.490606 \nC 29.896164 131.777917 32.087053 140.892201 35.681363 149.484649 \nC 39.275672 158.077097 44.226958 166.036679 50.34573 173.058776 \nL 115.92 115.92 \nL 141.621017 199.012011 \nz\n\" style=\"fill:#e377c2;\"/>\n   </g>\n   <g id=\"patch_49\">\n    <path d=\"M 32.523144 140.613907 \nC 35.791055 151.650372 41.217487 161.92915 48.487138 170.852993 \nC 55.756789 179.776836 64.726078 187.169489 74.873842 192.601402 \nC 85.021606 198.033316 96.147418 201.397204 107.604814 202.497608 \nC 119.062209 203.598013 130.624894 202.413199 141.621017 199.012011 \nL 115.92 115.92 \nL 32.523144 140.613907 \nz\n\" style=\"fill:#7f7f7f;\"/>\n   </g>\n   <g id=\"patch_50\">\n    <path d=\"M 120.278412 202.78673 \nC 129.254612 202.336362 138.10701 200.497397 146.519909 197.335417 \nC 154.932808 194.173437 162.804996 189.726482 169.855731 184.153141 \nC 176.906466 178.5798 183.050924 171.947124 188.069978 164.491651 \nC 193.089032 157.036178 196.922301 148.8476 199.43308 140.217943 \nC 201.943859 131.588286 203.101943 122.62137 202.866031 113.636976 \nC 202.63012 104.652582 201.003051 95.758798 198.042849 87.272798 \nC 195.082648 78.786798 190.824927 70.810673 185.421529 63.628872 \nC 180.01813 56.44707 173.534058 50.145994 166.200552 44.950354 \nC 158.867046 39.754714 150.772331 35.727016 142.205085 33.0109 \nC 133.637839 30.294783 124.701131 28.922924 115.713666 28.944245 \nC 106.7262 28.965566 97.796102 30.379811 89.241839 33.136546 \nC 80.687577 35.89328 72.612063 39.959338 65.303291 45.189714 \nC 57.994518 50.42009 51.540416 56.751861 46.171153 63.959218 \nC 40.801889 71.166575 36.58206 79.162812 33.662155 87.662761 \nC 30.74225 96.162711 29.157397 105.064115 28.964115 114.049527 \nC 28.770834 123.034939 29.971449 131.99626 32.523144 140.613907 \nL 115.92 115.92 \nL 120.278412 202.78673 \nz\n\" style=\"fill:#bcbd22;\"/>\n   </g>\n   <g id=\"patch_51\">\n    <path d=\"M 136.79387 200.354034 \nC 147.540363 197.697275 157.681492 193.013112 166.671512 186.553622 \nC 175.661533 180.094133 183.336232 171.977307 189.282598 162.639951 \nC 195.228963 153.302596 199.338377 142.915267 201.389692 132.036959 \nC 203.441006 121.158652 203.396753 109.988069 201.259311 99.126355 \nC 199.12187 88.264642 194.930285 77.910199 188.910125 68.620251 \nC 182.889965 59.330302 175.151194 51.274539 166.110277 44.886482 \nC 157.069359 38.498425 146.891435 33.894758 136.12423 31.323229 \nC 125.357025 28.7517 114.197212 28.259279 103.245359 29.872466 \nC 92.293506 31.485654 81.749657 35.174983 72.181232 40.741913 \nC 62.612807 46.308843 54.194582 53.651687 47.379583 62.375291 \nC 40.564585 71.098895 35.477296 81.043913 32.39149 91.675153 \nC 29.305684 102.306393 28.277726 113.429666 29.362935 124.446371 \nC 30.448144 135.463076 33.626698 146.171982 38.727543 155.99679 \nC 43.828388 165.821598 50.758351 174.582847 59.144498 181.80905 \nC 67.530644 189.035254 77.219792 194.594417 87.690519 198.187375 \nC 98.161246 201.780333 109.222294 203.341455 120.278412 202.78673 \nL 115.92 115.92 \nL 136.79387 200.354034 \nz\n\" style=\"fill:#17becf;\"/>\n   </g>\n   <g id=\"matplotlib.axis_1\"/>\n   <g id=\"matplotlib.axis_2\"/>\n  </g>\n </g>\n</svg>\n",
      "image/png": "[encoded data removed]"
     },
     "metadata": {}
    }
   ],
   "source": [
    "# matplotlib_pie_chart\n",
    "fig, ax = plt.subplots()\n",
    "ax.pie(x)\n",
    "plt.show()"
   ]
  },
  {
   "cell_type": "code",
   "execution_count": 8,
   "metadata": {},
   "outputs": [
    {
     "output_type": "display_data",
     "data": {
      "text/plain": "<Figure size 432x288 with 1 Axes>",
      "image/svg+xml": "<?xml version=\"1.0\" encoding=\"utf-8\" standalone=\"no\"?>\n<!DOCTYPE svg PUBLIC \"-//W3C//DTD SVG 1.1//EN\"\n  \"http://www.w3.org/Graphics/SVG/1.1/DTD/svg11.dtd\">\n<!-- Created with matplotlib (https://matplotlib.org/) -->\n<svg height=\"248.518125pt\" version=\"1.1\" viewBox=\"0 0 369.231003 248.518125\" width=\"369.231003pt\" xmlns=\"http://www.w3.org/2000/svg\" xmlns:xlink=\"http://www.w3.org/1999/xlink\">\n <defs>\n  <style type=\"text/css\">\n*{stroke-linecap:butt;stroke-linejoin:round;}\n  </style>\n </defs>\n <g id=\"figure_1\">\n  <g id=\"patch_1\">\n   <path d=\"M -0 248.518125 \nL 369.231003 248.518125 \nL 369.231003 0 \nL -0 0 \nz\n\" style=\"fill:none;\"/>\n  </g>\n  <g id=\"axes_1\">\n   <g id=\"patch_2\">\n    <path d=\"M 26.925 224.64 \nL 361.725 224.64 \nL 361.725 7.2 \nL 26.925 7.2 \nz\n\" style=\"fill:#ffffff;\"/>\n   </g>\n   <g id=\"patch_3\">\n    <path clip-path=\"url(#pac2e2f6a2b)\" d=\"M 42.143182 224.64 \nL 72.579545 224.64 \nL 72.579545 203.931429 \nL 42.143182 203.931429 \nz\n\" style=\"fill:#1f77b4;\"/>\n   </g>\n   <g id=\"patch_4\">\n    <path clip-path=\"url(#pac2e2f6a2b)\" d=\"M 72.579545 224.64 \nL 103.015909 224.64 \nL 103.015909 79.68 \nL 72.579545 79.68 \nz\n\" style=\"fill:#1f77b4;\"/>\n   </g>\n   <g id=\"patch_5\">\n    <path clip-path=\"url(#pac2e2f6a2b)\" d=\"M 103.015909 224.64 \nL 133.452273 224.64 \nL 133.452273 162.514286 \nL 103.015909 162.514286 \nz\n\" style=\"fill:#1f77b4;\"/>\n   </g>\n   <g id=\"patch_6\">\n    <path clip-path=\"url(#pac2e2f6a2b)\" d=\"M 133.452273 224.64 \nL 163.888636 224.64 \nL 163.888636 100.388571 \nL 133.452273 100.388571 \nz\n\" style=\"fill:#1f77b4;\"/>\n   </g>\n   <g id=\"patch_7\">\n    <path clip-path=\"url(#pac2e2f6a2b)\" d=\"M 163.888636 224.64 \nL 194.325 224.64 \nL 194.325 183.222857 \nL 163.888636 183.222857 \nz\n\" style=\"fill:#1f77b4;\"/>\n   </g>\n   <g id=\"patch_8\">\n    <path clip-path=\"url(#pac2e2f6a2b)\" d=\"M 194.325 224.64 \nL 224.761364 224.64 \nL 224.761364 79.68 \nL 194.325 79.68 \nz\n\" style=\"fill:#1f77b4;\"/>\n   </g>\n   <g id=\"patch_9\">\n    <path clip-path=\"url(#pac2e2f6a2b)\" d=\"M 224.761364 224.64 \nL 255.197727 224.64 \nL 255.197727 121.097143 \nL 224.761364 121.097143 \nz\n\" style=\"fill:#1f77b4;\"/>\n   </g>\n   <g id=\"patch_10\">\n    <path clip-path=\"url(#pac2e2f6a2b)\" d=\"M 255.197727 224.64 \nL 285.634091 224.64 \nL 285.634091 121.097143 \nL 255.197727 121.097143 \nz\n\" style=\"fill:#1f77b4;\"/>\n   </g>\n   <g id=\"patch_11\">\n    <path clip-path=\"url(#pac2e2f6a2b)\" d=\"M 285.634091 224.64 \nL 316.070455 224.64 \nL 316.070455 17.554286 \nL 285.634091 17.554286 \nz\n\" style=\"fill:#1f77b4;\"/>\n   </g>\n   <g id=\"patch_12\">\n    <path clip-path=\"url(#pac2e2f6a2b)\" d=\"M 316.070455 224.64 \nL 346.506818 224.64 \nL 346.506818 141.805714 \nL 316.070455 141.805714 \nz\n\" style=\"fill:#1f77b4;\"/>\n   </g>\n   <g id=\"matplotlib.axis_1\">\n    <g id=\"xtick_1\">\n     <g id=\"line2d_1\">\n      <defs>\n       <path d=\"M 0 0 \nL 0 3.5 \n\" id=\"m805036c485\" style=\"stroke:#000000;stroke-width:0.8;\"/>\n      </defs>\n      <g>\n       <use style=\"stroke:#000000;stroke-width:0.8;\" x=\"88.267259\" xlink:href=\"#m805036c485\" y=\"224.64\"/>\n      </g>\n     </g>\n     <g id=\"text_1\">\n      <!-- −8 -->\n      <defs>\n       <path d=\"M 10.59375 35.5 \nL 73.1875 35.5 \nL 73.1875 27.203125 \nL 10.59375 27.203125 \nz\n\" id=\"DejaVuSans-8722\"/>\n       <path d=\"M 31.78125 34.625 \nQ 24.75 34.625 20.71875 30.859375 \nQ 16.703125 27.09375 16.703125 20.515625 \nQ 16.703125 13.921875 20.71875 10.15625 \nQ 24.75 6.390625 31.78125 6.390625 \nQ 38.8125 6.390625 42.859375 10.171875 \nQ 46.921875 13.96875 46.921875 20.515625 \nQ 46.921875 27.09375 42.890625 30.859375 \nQ 38.875 34.625 31.78125 34.625 \nz\nM 21.921875 38.8125 \nQ 15.578125 40.375 12.03125 44.71875 \nQ 8.5 49.078125 8.5 55.328125 \nQ 8.5 64.0625 14.71875 69.140625 \nQ 20.953125 74.21875 31.78125 74.21875 \nQ 42.671875 74.21875 48.875 69.140625 \nQ 55.078125 64.0625 55.078125 55.328125 \nQ 55.078125 49.078125 51.53125 44.71875 \nQ 48 40.375 41.703125 38.8125 \nQ 48.828125 37.15625 52.796875 32.3125 \nQ 56.78125 27.484375 56.78125 20.515625 \nQ 56.78125 9.90625 50.3125 4.234375 \nQ 43.84375 -1.421875 31.78125 -1.421875 \nQ 19.734375 -1.421875 13.25 4.234375 \nQ 6.78125 9.90625 6.78125 20.515625 \nQ 6.78125 27.484375 10.78125 32.3125 \nQ 14.796875 37.15625 21.921875 38.8125 \nz\nM 18.3125 54.390625 \nQ 18.3125 48.734375 21.84375 45.5625 \nQ 25.390625 42.390625 31.78125 42.390625 \nQ 38.140625 42.390625 41.71875 45.5625 \nQ 45.3125 48.734375 45.3125 54.390625 \nQ 45.3125 60.0625 41.71875 63.234375 \nQ 38.140625 66.40625 31.78125 66.40625 \nQ 25.390625 66.40625 21.84375 63.234375 \nQ 18.3125 60.0625 18.3125 54.390625 \nz\n\" id=\"DejaVuSans-56\"/>\n      </defs>\n      <g transform=\"translate(80.896165 239.238437)scale(0.1 -0.1)\">\n       <use xlink:href=\"#DejaVuSans-8722\"/>\n       <use x=\"83.789062\" xlink:href=\"#DejaVuSans-56\"/>\n      </g>\n     </g>\n    </g>\n    <g id=\"xtick_2\">\n     <g id=\"line2d_2\">\n      <g>\n       <use style=\"stroke:#000000;stroke-width:0.8;\" x=\"155.912882\" xlink:href=\"#m805036c485\" y=\"224.64\"/>\n      </g>\n     </g>\n     <g id=\"text_2\">\n      <!-- −6 -->\n      <defs>\n       <path d=\"M 33.015625 40.375 \nQ 26.375 40.375 22.484375 35.828125 \nQ 18.609375 31.296875 18.609375 23.390625 \nQ 18.609375 15.53125 22.484375 10.953125 \nQ 26.375 6.390625 33.015625 6.390625 \nQ 39.65625 6.390625 43.53125 10.953125 \nQ 47.40625 15.53125 47.40625 23.390625 \nQ 47.40625 31.296875 43.53125 35.828125 \nQ 39.65625 40.375 33.015625 40.375 \nz\nM 52.59375 71.296875 \nL 52.59375 62.3125 \nQ 48.875 64.0625 45.09375 64.984375 \nQ 41.3125 65.921875 37.59375 65.921875 \nQ 27.828125 65.921875 22.671875 59.328125 \nQ 17.53125 52.734375 16.796875 39.40625 \nQ 19.671875 43.65625 24.015625 45.921875 \nQ 28.375 48.1875 33.59375 48.1875 \nQ 44.578125 48.1875 50.953125 41.515625 \nQ 57.328125 34.859375 57.328125 23.390625 \nQ 57.328125 12.15625 50.6875 5.359375 \nQ 44.046875 -1.421875 33.015625 -1.421875 \nQ 20.359375 -1.421875 13.671875 8.265625 \nQ 6.984375 17.96875 6.984375 36.375 \nQ 6.984375 53.65625 15.1875 63.9375 \nQ 23.390625 74.21875 37.203125 74.21875 \nQ 40.921875 74.21875 44.703125 73.484375 \nQ 48.484375 72.75 52.59375 71.296875 \nz\n\" id=\"DejaVuSans-54\"/>\n      </defs>\n      <g transform=\"translate(148.541789 239.238437)scale(0.1 -0.1)\">\n       <use xlink:href=\"#DejaVuSans-8722\"/>\n       <use x=\"83.789062\" xlink:href=\"#DejaVuSans-54\"/>\n      </g>\n     </g>\n    </g>\n    <g id=\"xtick_3\">\n     <g id=\"line2d_3\">\n      <g>\n       <use style=\"stroke:#000000;stroke-width:0.8;\" x=\"223.558506\" xlink:href=\"#m805036c485\" y=\"224.64\"/>\n      </g>\n     </g>\n     <g id=\"text_3\">\n      <!-- −4 -->\n      <defs>\n       <path d=\"M 37.796875 64.3125 \nL 12.890625 25.390625 \nL 37.796875 25.390625 \nz\nM 35.203125 72.90625 \nL 47.609375 72.90625 \nL 47.609375 25.390625 \nL 58.015625 25.390625 \nL 58.015625 17.1875 \nL 47.609375 17.1875 \nL 47.609375 0 \nL 37.796875 0 \nL 37.796875 17.1875 \nL 4.890625 17.1875 \nL 4.890625 26.703125 \nz\n\" id=\"DejaVuSans-52\"/>\n      </defs>\n      <g transform=\"translate(216.187412 239.238437)scale(0.1 -0.1)\">\n       <use xlink:href=\"#DejaVuSans-8722\"/>\n       <use x=\"83.789062\" xlink:href=\"#DejaVuSans-52\"/>\n      </g>\n     </g>\n    </g>\n    <g id=\"xtick_4\">\n     <g id=\"line2d_4\">\n      <g>\n       <use style=\"stroke:#000000;stroke-width:0.8;\" x=\"291.20413\" xlink:href=\"#m805036c485\" y=\"224.64\"/>\n      </g>\n     </g>\n     <g id=\"text_4\">\n      <!-- −2 -->\n      <defs>\n       <path d=\"M 19.1875 8.296875 \nL 53.609375 8.296875 \nL 53.609375 0 \nL 7.328125 0 \nL 7.328125 8.296875 \nQ 12.9375 14.109375 22.625 23.890625 \nQ 32.328125 33.6875 34.8125 36.53125 \nQ 39.546875 41.84375 41.421875 45.53125 \nQ 43.3125 49.21875 43.3125 52.78125 \nQ 43.3125 58.59375 39.234375 62.25 \nQ 35.15625 65.921875 28.609375 65.921875 \nQ 23.96875 65.921875 18.8125 64.3125 \nQ 13.671875 62.703125 7.8125 59.421875 \nL 7.8125 69.390625 \nQ 13.765625 71.78125 18.9375 73 \nQ 24.125 74.21875 28.421875 74.21875 \nQ 39.75 74.21875 46.484375 68.546875 \nQ 53.21875 62.890625 53.21875 53.421875 \nQ 53.21875 48.921875 51.53125 44.890625 \nQ 49.859375 40.875 45.40625 35.40625 \nQ 44.1875 33.984375 37.640625 27.21875 \nQ 31.109375 20.453125 19.1875 8.296875 \nz\n\" id=\"DejaVuSans-50\"/>\n      </defs>\n      <g transform=\"translate(283.833036 239.238437)scale(0.1 -0.1)\">\n       <use xlink:href=\"#DejaVuSans-8722\"/>\n       <use x=\"83.789062\" xlink:href=\"#DejaVuSans-50\"/>\n      </g>\n     </g>\n    </g>\n    <g id=\"xtick_5\">\n     <g id=\"line2d_5\">\n      <g>\n       <use style=\"stroke:#000000;stroke-width:0.8;\" x=\"358.849753\" xlink:href=\"#m805036c485\" y=\"224.64\"/>\n      </g>\n     </g>\n     <g id=\"text_5\">\n      <!-- 0 -->\n      <defs>\n       <path d=\"M 31.78125 66.40625 \nQ 24.171875 66.40625 20.328125 58.90625 \nQ 16.5 51.421875 16.5 36.375 \nQ 16.5 21.390625 20.328125 13.890625 \nQ 24.171875 6.390625 31.78125 6.390625 \nQ 39.453125 6.390625 43.28125 13.890625 \nQ 47.125 21.390625 47.125 36.375 \nQ 47.125 51.421875 43.28125 58.90625 \nQ 39.453125 66.40625 31.78125 66.40625 \nz\nM 31.78125 74.21875 \nQ 44.046875 74.21875 50.515625 64.515625 \nQ 56.984375 54.828125 56.984375 36.375 \nQ 56.984375 17.96875 50.515625 8.265625 \nQ 44.046875 -1.421875 31.78125 -1.421875 \nQ 19.53125 -1.421875 13.0625 8.265625 \nQ 6.59375 17.96875 6.59375 36.375 \nQ 6.59375 54.828125 13.0625 64.515625 \nQ 19.53125 74.21875 31.78125 74.21875 \nz\n\" id=\"DejaVuSans-48\"/>\n      </defs>\n      <g transform=\"translate(355.668503 239.238437)scale(0.1 -0.1)\">\n       <use xlink:href=\"#DejaVuSans-48\"/>\n      </g>\n     </g>\n    </g>\n   </g>\n   <g id=\"matplotlib.axis_2\">\n    <g id=\"ytick_1\">\n     <g id=\"line2d_6\">\n      <defs>\n       <path d=\"M 0 0 \nL -3.5 0 \n\" id=\"m250e1f0be0\" style=\"stroke:#000000;stroke-width:0.8;\"/>\n      </defs>\n      <g>\n       <use style=\"stroke:#000000;stroke-width:0.8;\" x=\"26.925\" xlink:href=\"#m250e1f0be0\" y=\"224.64\"/>\n      </g>\n     </g>\n     <g id=\"text_6\">\n      <!-- 0 -->\n      <g transform=\"translate(13.5625 228.439219)scale(0.1 -0.1)\">\n       <use xlink:href=\"#DejaVuSans-48\"/>\n      </g>\n     </g>\n    </g>\n    <g id=\"ytick_2\">\n     <g id=\"line2d_7\">\n      <g>\n       <use style=\"stroke:#000000;stroke-width:0.8;\" x=\"26.925\" xlink:href=\"#m250e1f0be0\" y=\"183.222857\"/>\n      </g>\n     </g>\n     <g id=\"text_7\">\n      <!-- 2 -->\n      <g transform=\"translate(13.5625 187.022076)scale(0.1 -0.1)\">\n       <use xlink:href=\"#DejaVuSans-50\"/>\n      </g>\n     </g>\n    </g>\n    <g id=\"ytick_3\">\n     <g id=\"line2d_8\">\n      <g>\n       <use style=\"stroke:#000000;stroke-width:0.8;\" x=\"26.925\" xlink:href=\"#m250e1f0be0\" y=\"141.805714\"/>\n      </g>\n     </g>\n     <g id=\"text_8\">\n      <!-- 4 -->\n      <g transform=\"translate(13.5625 145.604933)scale(0.1 -0.1)\">\n       <use xlink:href=\"#DejaVuSans-52\"/>\n      </g>\n     </g>\n    </g>\n    <g id=\"ytick_4\">\n     <g id=\"line2d_9\">\n      <g>\n       <use style=\"stroke:#000000;stroke-width:0.8;\" x=\"26.925\" xlink:href=\"#m250e1f0be0\" y=\"100.388571\"/>\n      </g>\n     </g>\n     <g id=\"text_9\">\n      <!-- 6 -->\n      <g transform=\"translate(13.5625 104.18779)scale(0.1 -0.1)\">\n       <use xlink:href=\"#DejaVuSans-54\"/>\n      </g>\n     </g>\n    </g>\n    <g id=\"ytick_5\">\n     <g id=\"line2d_10\">\n      <g>\n       <use style=\"stroke:#000000;stroke-width:0.8;\" x=\"26.925\" xlink:href=\"#m250e1f0be0\" y=\"58.971429\"/>\n      </g>\n     </g>\n     <g id=\"text_10\">\n      <!-- 8 -->\n      <g transform=\"translate(13.5625 62.770647)scale(0.1 -0.1)\">\n       <use xlink:href=\"#DejaVuSans-56\"/>\n      </g>\n     </g>\n    </g>\n    <g id=\"ytick_6\">\n     <g id=\"line2d_11\">\n      <g>\n       <use style=\"stroke:#000000;stroke-width:0.8;\" x=\"26.925\" xlink:href=\"#m250e1f0be0\" y=\"17.554286\"/>\n      </g>\n     </g>\n     <g id=\"text_11\">\n      <!-- 10 -->\n      <defs>\n       <path d=\"M 12.40625 8.296875 \nL 28.515625 8.296875 \nL 28.515625 63.921875 \nL 10.984375 60.40625 \nL 10.984375 69.390625 \nL 28.421875 72.90625 \nL 38.28125 72.90625 \nL 38.28125 8.296875 \nL 54.390625 8.296875 \nL 54.390625 0 \nL 12.40625 0 \nz\n\" id=\"DejaVuSans-49\"/>\n      </defs>\n      <g transform=\"translate(7.2 21.353504)scale(0.1 -0.1)\">\n       <use xlink:href=\"#DejaVuSans-49\"/>\n       <use x=\"63.623047\" xlink:href=\"#DejaVuSans-48\"/>\n      </g>\n     </g>\n    </g>\n   </g>\n   <g id=\"patch_13\">\n    <path d=\"M 26.925 224.64 \nL 26.925 7.2 \n\" style=\"fill:none;stroke:#000000;stroke-linecap:square;stroke-linejoin:miter;stroke-width:0.8;\"/>\n   </g>\n   <g id=\"patch_14\">\n    <path d=\"M 361.725 224.64 \nL 361.725 7.2 \n\" style=\"fill:none;stroke:#000000;stroke-linecap:square;stroke-linejoin:miter;stroke-width:0.8;\"/>\n   </g>\n   <g id=\"patch_15\">\n    <path d=\"M 26.925 224.64 \nL 361.725 224.64 \n\" style=\"fill:none;stroke:#000000;stroke-linecap:square;stroke-linejoin:miter;stroke-width:0.8;\"/>\n   </g>\n   <g id=\"patch_16\">\n    <path d=\"M 26.925 7.2 \nL 361.725 7.2 \n\" style=\"fill:none;stroke:#000000;stroke-linecap:square;stroke-linejoin:miter;stroke-width:0.8;\"/>\n   </g>\n  </g>\n </g>\n <defs>\n  <clipPath id=\"pac2e2f6a2b\">\n   <rect height=\"217.44\" width=\"334.8\" x=\"26.925\" y=\"7.2\"/>\n  </clipPath>\n </defs>\n</svg>\n",
      "image/png": "[encoded data removed]"
     },
     "metadata": {
      "needs_background": "light"
     }
    }
   ],
   "source": [
    "# matplotlib_histogram\n",
    "fig, ax = plt.subplots()\n",
    "ax.hist(x, 10)\n",
    "plt.show()"
   ]
  },
  {
   "cell_type": "code",
   "execution_count": 9,
   "metadata": {},
   "outputs": [
    {
     "output_type": "display_data",
     "data": {
      "text/plain": "<Figure size 432x288 with 1 Axes>",
      "image/svg+xml": "<?xml version=\"1.0\" encoding=\"utf-8\" standalone=\"no\"?>\n<!DOCTYPE svg PUBLIC \"-//W3C//DTD SVG 1.1//EN\"\n  \"http://www.w3.org/Graphics/SVG/1.1/DTD/svg11.dtd\">\n<!-- Created with matplotlib (https://matplotlib.org/) -->\n<svg height=\"269.518125pt\" version=\"1.1\" viewBox=\"0 0 277.565 269.518125\" width=\"277.565pt\" xmlns=\"http://www.w3.org/2000/svg\" xmlns:xlink=\"http://www.w3.org/1999/xlink\">\n <defs>\n  <style type=\"text/css\">\n*{stroke-linecap:butt;stroke-linejoin:round;}\n  </style>\n </defs>\n <g id=\"figure_1\">\n  <g id=\"patch_1\">\n   <path d=\"M 0 269.518125 \nL 277.565 269.518125 \nL 277.565 0 \nL 0 0 \nz\n\" style=\"fill:none;\"/>\n  </g>\n  <g id=\"axes_1\">\n   <g id=\"patch_2\">\n    <path d=\"M 250.68375 134.759062 \nC 250.68375 120.482083 247.871496 106.343929 242.407933 93.15372 \nC 236.944369 79.963511 228.935748 67.977762 218.840399 57.882413 \nC 208.74505 47.787064 196.759302 39.778443 183.569093 34.31488 \nC 170.378884 28.851316 156.24073 26.039062 141.96375 26.039062 \nC 127.68677 26.039062 113.548616 28.851316 100.358407 34.31488 \nC 87.168198 39.778443 75.18245 47.787064 65.087101 57.882413 \nC 54.991752 67.977762 46.983131 79.963511 41.519567 93.15372 \nC 36.056004 106.343929 33.24375 120.482083 33.24375 134.759062 \nC 33.24375 149.036042 36.056004 163.174196 41.519567 176.364405 \nC 46.983131 189.554614 54.991752 201.540363 65.087101 211.635712 \nC 75.18245 221.731061 87.168198 229.739682 100.358407 235.203245 \nC 113.548616 240.666809 127.68677 243.479062 141.96375 243.479062 \nC 156.24073 243.479062 170.378884 240.666809 183.569093 235.203245 \nC 196.759302 229.739682 208.74505 221.731061 218.840399 211.635712 \nC 228.935748 201.540363 236.944369 189.554614 242.407933 176.364405 \nC 247.871496 163.174196 250.68375 149.036042 250.68375 134.759063 \nM 141.96375 134.759062 \nC 141.96375 134.759062 141.96375 134.759062 141.96375 134.759062 \nC 141.96375 134.759062 141.96375 134.759062 141.96375 134.759062 \nC 141.96375 134.759062 141.96375 134.759062 141.96375 134.759062 \nC 141.96375 134.759062 141.96375 134.759062 141.96375 134.759062 \nC 141.96375 134.759062 141.96375 134.759062 141.96375 134.759062 \nC 141.96375 134.759062 141.96375 134.759062 141.96375 134.759062 \nC 141.96375 134.759062 141.96375 134.759062 141.96375 134.759062 \nC 141.96375 134.759062 141.96375 134.759062 141.96375 134.759062 \nC 141.96375 134.759062 141.96375 134.759062 141.96375 134.759062 \nC 141.96375 134.759062 141.96375 134.759062 141.96375 134.759062 \nC 141.96375 134.759062 141.96375 134.759062 141.96375 134.759062 \nC 141.96375 134.759062 141.96375 134.759062 141.96375 134.759062 \nC 141.96375 134.759062 141.96375 134.759062 141.96375 134.759062 \nC 141.96375 134.759062 141.96375 134.759062 141.96375 134.759062 \nC 141.96375 134.759062 141.96375 134.759062 141.96375 134.759062 \nC 141.96375 134.759062 141.96375 134.759062 141.96375 134.759062 \nM 250.68375 134.759062 \nz\n\" style=\"fill:#ffffff;\"/>\n   </g>\n   <g id=\"matplotlib.axis_1\">\n    <g id=\"xtick_1\">\n     <g id=\"line2d_1\">\n      <path clip-path=\"url(#p97031660c3)\" d=\"M 141.96375 134.759062 \nL 250.68375 134.759062 \n\" style=\"fill:none;stroke:#b0b0b0;stroke-linecap:square;stroke-width:0.8;\"/>\n     </g>\n     <g id=\"text_1\">\n      <!-- 0° -->\n      <defs>\n       <path d=\"M 31.78125 66.40625 \nQ 24.171875 66.40625 20.328125 58.90625 \nQ 16.5 51.421875 16.5 36.375 \nQ 16.5 21.390625 20.328125 13.890625 \nQ 24.171875 6.390625 31.78125 6.390625 \nQ 39.453125 6.390625 43.28125 13.890625 \nQ 47.125 21.390625 47.125 36.375 \nQ 47.125 51.421875 43.28125 58.90625 \nQ 39.453125 66.40625 31.78125 66.40625 \nz\nM 31.78125 74.21875 \nQ 44.046875 74.21875 50.515625 64.515625 \nQ 56.984375 54.828125 56.984375 36.375 \nQ 56.984375 17.96875 50.515625 8.265625 \nQ 44.046875 -1.421875 31.78125 -1.421875 \nQ 19.53125 -1.421875 13.0625 8.265625 \nQ 6.59375 17.96875 6.59375 36.375 \nQ 6.59375 54.828125 13.0625 64.515625 \nQ 19.53125 74.21875 31.78125 74.21875 \nz\n\" id=\"DejaVuSans-48\"/>\n       <path d=\"M 25 67.921875 \nQ 21.09375 67.921875 18.40625 65.203125 \nQ 15.71875 62.5 15.71875 58.59375 \nQ 15.71875 54.734375 18.40625 52.078125 \nQ 21.09375 49.421875 25 49.421875 \nQ 28.90625 49.421875 31.59375 52.078125 \nQ 34.28125 54.734375 34.28125 58.59375 \nQ 34.28125 62.453125 31.5625 65.1875 \nQ 28.859375 67.921875 25 67.921875 \nz\nM 25 74.21875 \nQ 28.125 74.21875 31 73.015625 \nQ 33.890625 71.828125 35.984375 69.578125 \nQ 38.234375 67.390625 39.359375 64.59375 \nQ 40.484375 61.8125 40.484375 58.59375 \nQ 40.484375 52.15625 35.96875 47.6875 \nQ 31.453125 43.21875 24.90625 43.21875 \nQ 18.3125 43.21875 13.90625 47.609375 \nQ 9.515625 52 9.515625 58.59375 \nQ 9.515625 65.140625 14 69.671875 \nQ 18.5 74.21875 25 74.21875 \nz\n\" id=\"DejaVuSans-176\"/>\n      </defs>\n      <g transform=\"translate(259.0025 137.518437)scale(0.1 -0.1)\">\n       <use xlink:href=\"#DejaVuSans-48\"/>\n       <use x=\"63.623047\" xlink:href=\"#DejaVuSans-176\"/>\n      </g>\n     </g>\n    </g>\n    <g id=\"xtick_2\">\n     <g id=\"line2d_2\">\n      <path clip-path=\"url(#p97031660c3)\" d=\"M 141.96375 134.759062 \nL 218.840399 57.882413 \n\" style=\"fill:none;stroke:#b0b0b0;stroke-linecap:square;stroke-width:0.8;\"/>\n     </g>\n     <g id=\"text_2\">\n      <!-- 45° -->\n      <defs>\n       <path d=\"M 37.796875 64.3125 \nL 12.890625 25.390625 \nL 37.796875 25.390625 \nz\nM 35.203125 72.90625 \nL 47.609375 72.90625 \nL 47.609375 25.390625 \nL 58.015625 25.390625 \nL 58.015625 17.1875 \nL 47.609375 17.1875 \nL 47.609375 0 \nL 37.796875 0 \nL 37.796875 17.1875 \nL 4.890625 17.1875 \nL 4.890625 26.703125 \nz\n\" id=\"DejaVuSans-52\"/>\n       <path d=\"M 10.796875 72.90625 \nL 49.515625 72.90625 \nL 49.515625 64.59375 \nL 19.828125 64.59375 \nL 19.828125 46.734375 \nQ 21.96875 47.46875 24.109375 47.828125 \nQ 26.265625 48.1875 28.421875 48.1875 \nQ 40.625 48.1875 47.75 41.5 \nQ 54.890625 34.8125 54.890625 23.390625 \nQ 54.890625 11.625 47.5625 5.09375 \nQ 40.234375 -1.421875 26.90625 -1.421875 \nQ 22.3125 -1.421875 17.546875 -0.640625 \nQ 12.796875 0.140625 7.71875 1.703125 \nL 7.71875 11.625 \nQ 12.109375 9.234375 16.796875 8.0625 \nQ 21.484375 6.890625 26.703125 6.890625 \nQ 35.15625 6.890625 40.078125 11.328125 \nQ 45.015625 15.765625 45.015625 23.390625 \nQ 45.015625 31 40.078125 35.4375 \nQ 35.15625 39.890625 26.703125 39.890625 \nQ 22.75 39.890625 18.8125 39.015625 \nQ 14.890625 38.140625 10.796875 36.28125 \nz\n\" id=\"DejaVuSans-53\"/>\n      </defs>\n      <g transform=\"translate(219.877394 50.742293)scale(0.1 -0.1)\">\n       <use xlink:href=\"#DejaVuSans-52\"/>\n       <use x=\"63.623047\" xlink:href=\"#DejaVuSans-53\"/>\n       <use x=\"127.246094\" xlink:href=\"#DejaVuSans-176\"/>\n      </g>\n     </g>\n    </g>\n    <g id=\"xtick_3\">\n     <g id=\"line2d_3\">\n      <path clip-path=\"url(#p97031660c3)\" d=\"M 141.96375 134.759062 \nL 141.96375 26.039062 \n\" style=\"fill:none;stroke:#b0b0b0;stroke-linecap:square;stroke-width:0.8;\"/>\n     </g>\n     <g id=\"text_3\">\n      <!-- 90° -->\n      <defs>\n       <path d=\"M 10.984375 1.515625 \nL 10.984375 10.5 \nQ 14.703125 8.734375 18.5 7.8125 \nQ 22.3125 6.890625 25.984375 6.890625 \nQ 35.75 6.890625 40.890625 13.453125 \nQ 46.046875 20.015625 46.78125 33.40625 \nQ 43.953125 29.203125 39.59375 26.953125 \nQ 35.25 24.703125 29.984375 24.703125 \nQ 19.046875 24.703125 12.671875 31.3125 \nQ 6.296875 37.9375 6.296875 49.421875 \nQ 6.296875 60.640625 12.9375 67.421875 \nQ 19.578125 74.21875 30.609375 74.21875 \nQ 43.265625 74.21875 49.921875 64.515625 \nQ 56.59375 54.828125 56.59375 36.375 \nQ 56.59375 19.140625 48.40625 8.859375 \nQ 40.234375 -1.421875 26.421875 -1.421875 \nQ 22.703125 -1.421875 18.890625 -0.6875 \nQ 15.09375 0.046875 10.984375 1.515625 \nz\nM 30.609375 32.421875 \nQ 37.25 32.421875 41.125 36.953125 \nQ 45.015625 41.5 45.015625 49.421875 \nQ 45.015625 57.28125 41.125 61.84375 \nQ 37.25 66.40625 30.609375 66.40625 \nQ 23.96875 66.40625 20.09375 61.84375 \nQ 16.21875 57.28125 16.21875 49.421875 \nQ 16.21875 41.5 20.09375 36.953125 \nQ 23.96875 32.421875 30.609375 32.421875 \nz\n\" id=\"DejaVuSans-57\"/>\n      </defs>\n      <g transform=\"translate(133.10125 14.798437)scale(0.1 -0.1)\">\n       <use xlink:href=\"#DejaVuSans-57\"/>\n       <use x=\"63.623047\" xlink:href=\"#DejaVuSans-48\"/>\n       <use x=\"127.246094\" xlink:href=\"#DejaVuSans-176\"/>\n      </g>\n     </g>\n    </g>\n    <g id=\"xtick_4\">\n     <g id=\"line2d_4\">\n      <path clip-path=\"url(#p97031660c3)\" d=\"M 141.96375 134.759062 \nL 65.087101 57.882413 \n\" style=\"fill:none;stroke:#b0b0b0;stroke-linecap:square;stroke-width:0.8;\"/>\n     </g>\n     <g id=\"text_4\">\n      <!-- 135° -->\n      <defs>\n       <path d=\"M 12.40625 8.296875 \nL 28.515625 8.296875 \nL 28.515625 63.921875 \nL 10.984375 60.40625 \nL 10.984375 69.390625 \nL 28.421875 72.90625 \nL 38.28125 72.90625 \nL 38.28125 8.296875 \nL 54.390625 8.296875 \nL 54.390625 0 \nL 12.40625 0 \nz\n\" id=\"DejaVuSans-49\"/>\n       <path d=\"M 40.578125 39.3125 \nQ 47.65625 37.796875 51.625 33 \nQ 55.609375 28.21875 55.609375 21.1875 \nQ 55.609375 10.40625 48.1875 4.484375 \nQ 40.765625 -1.421875 27.09375 -1.421875 \nQ 22.515625 -1.421875 17.65625 -0.515625 \nQ 12.796875 0.390625 7.625 2.203125 \nL 7.625 11.71875 \nQ 11.71875 9.328125 16.59375 8.109375 \nQ 21.484375 6.890625 26.8125 6.890625 \nQ 36.078125 6.890625 40.9375 10.546875 \nQ 45.796875 14.203125 45.796875 21.1875 \nQ 45.796875 27.640625 41.28125 31.265625 \nQ 36.765625 34.90625 28.71875 34.90625 \nL 20.21875 34.90625 \nL 20.21875 43.015625 \nL 29.109375 43.015625 \nQ 36.375 43.015625 40.234375 45.921875 \nQ 44.09375 48.828125 44.09375 54.296875 \nQ 44.09375 59.90625 40.109375 62.90625 \nQ 36.140625 65.921875 28.71875 65.921875 \nQ 24.65625 65.921875 20.015625 65.03125 \nQ 15.375 64.15625 9.8125 62.3125 \nL 9.8125 71.09375 \nQ 15.4375 72.65625 20.34375 73.4375 \nQ 25.25 74.21875 29.59375 74.21875 \nQ 40.828125 74.21875 47.359375 69.109375 \nQ 53.90625 64.015625 53.90625 55.328125 \nQ 53.90625 49.265625 50.4375 45.09375 \nQ 46.96875 40.921875 40.578125 39.3125 \nz\n\" id=\"DejaVuSans-51\"/>\n      </defs>\n      <g transform=\"translate(43.143856 50.742293)scale(0.1 -0.1)\">\n       <use xlink:href=\"#DejaVuSans-49\"/>\n       <use x=\"63.623047\" xlink:href=\"#DejaVuSans-51\"/>\n       <use x=\"127.246094\" xlink:href=\"#DejaVuSans-53\"/>\n       <use x=\"190.869141\" xlink:href=\"#DejaVuSans-176\"/>\n      </g>\n     </g>\n    </g>\n    <g id=\"xtick_5\">\n     <g id=\"line2d_5\">\n      <path clip-path=\"url(#p97031660c3)\" d=\"M 141.96375 134.759062 \nL 33.24375 134.759062 \n\" style=\"fill:none;stroke:#b0b0b0;stroke-linecap:square;stroke-width:0.8;\"/>\n     </g>\n     <g id=\"text_5\">\n      <!-- 180° -->\n      <defs>\n       <path d=\"M 31.78125 34.625 \nQ 24.75 34.625 20.71875 30.859375 \nQ 16.703125 27.09375 16.703125 20.515625 \nQ 16.703125 13.921875 20.71875 10.15625 \nQ 24.75 6.390625 31.78125 6.390625 \nQ 38.8125 6.390625 42.859375 10.171875 \nQ 46.921875 13.96875 46.921875 20.515625 \nQ 46.921875 27.09375 42.890625 30.859375 \nQ 38.875 34.625 31.78125 34.625 \nz\nM 21.921875 38.8125 \nQ 15.578125 40.375 12.03125 44.71875 \nQ 8.5 49.078125 8.5 55.328125 \nQ 8.5 64.0625 14.71875 69.140625 \nQ 20.953125 74.21875 31.78125 74.21875 \nQ 42.671875 74.21875 48.875 69.140625 \nQ 55.078125 64.0625 55.078125 55.328125 \nQ 55.078125 49.078125 51.53125 44.71875 \nQ 48 40.375 41.703125 38.8125 \nQ 48.828125 37.15625 52.796875 32.3125 \nQ 56.78125 27.484375 56.78125 20.515625 \nQ 56.78125 9.90625 50.3125 4.234375 \nQ 43.84375 -1.421875 31.78125 -1.421875 \nQ 19.734375 -1.421875 13.25 4.234375 \nQ 6.78125 9.90625 6.78125 20.515625 \nQ 6.78125 27.484375 10.78125 32.3125 \nQ 14.796875 37.15625 21.921875 38.8125 \nz\nM 18.3125 54.390625 \nQ 18.3125 48.734375 21.84375 45.5625 \nQ 25.390625 42.390625 31.78125 42.390625 \nQ 38.140625 42.390625 41.71875 45.5625 \nQ 45.3125 48.734375 45.3125 54.390625 \nQ 45.3125 60.0625 41.71875 63.234375 \nQ 38.140625 66.40625 31.78125 66.40625 \nQ 25.390625 66.40625 21.84375 63.234375 \nQ 18.3125 60.0625 18.3125 54.390625 \nz\n\" id=\"DejaVuSans-56\"/>\n      </defs>\n      <g transform=\"translate(7.2 137.518437)scale(0.1 -0.1)\">\n       <use xlink:href=\"#DejaVuSans-49\"/>\n       <use x=\"63.623047\" xlink:href=\"#DejaVuSans-56\"/>\n       <use x=\"127.246094\" xlink:href=\"#DejaVuSans-48\"/>\n       <use x=\"190.869141\" xlink:href=\"#DejaVuSans-176\"/>\n      </g>\n     </g>\n    </g>\n    <g id=\"xtick_6\">\n     <g id=\"line2d_6\">\n      <path clip-path=\"url(#p97031660c3)\" d=\"M 141.96375 134.759062 \nL 65.087101 211.635712 \n\" style=\"fill:none;stroke:#b0b0b0;stroke-linecap:square;stroke-width:0.8;\"/>\n     </g>\n     <g id=\"text_6\">\n      <!-- 225° -->\n      <defs>\n       <path d=\"M 19.1875 8.296875 \nL 53.609375 8.296875 \nL 53.609375 0 \nL 7.328125 0 \nL 7.328125 8.296875 \nQ 12.9375 14.109375 22.625 23.890625 \nQ 32.328125 33.6875 34.8125 36.53125 \nQ 39.546875 41.84375 41.421875 45.53125 \nQ 43.3125 49.21875 43.3125 52.78125 \nQ 43.3125 58.59375 39.234375 62.25 \nQ 35.15625 65.921875 28.609375 65.921875 \nQ 23.96875 65.921875 18.8125 64.3125 \nQ 13.671875 62.703125 7.8125 59.421875 \nL 7.8125 69.390625 \nQ 13.765625 71.78125 18.9375 73 \nQ 24.125 74.21875 28.421875 74.21875 \nQ 39.75 74.21875 46.484375 68.546875 \nQ 53.21875 62.890625 53.21875 53.421875 \nQ 53.21875 48.921875 51.53125 44.890625 \nQ 49.859375 40.875 45.40625 35.40625 \nQ 44.1875 33.984375 37.640625 27.21875 \nQ 31.109375 20.453125 19.1875 8.296875 \nz\n\" id=\"DejaVuSans-50\"/>\n      </defs>\n      <g transform=\"translate(43.143856 224.294582)scale(0.1 -0.1)\">\n       <use xlink:href=\"#DejaVuSans-50\"/>\n       <use x=\"63.623047\" xlink:href=\"#DejaVuSans-50\"/>\n       <use x=\"127.246094\" xlink:href=\"#DejaVuSans-53\"/>\n       <use x=\"190.869141\" xlink:href=\"#DejaVuSans-176\"/>\n      </g>\n     </g>\n    </g>\n    <g id=\"xtick_7\">\n     <g id=\"line2d_7\">\n      <path clip-path=\"url(#p97031660c3)\" d=\"M 141.96375 134.759062 \nL 141.96375 243.479062 \n\" style=\"fill:none;stroke:#b0b0b0;stroke-linecap:square;stroke-width:0.8;\"/>\n     </g>\n     <g id=\"text_7\">\n      <!-- 270° -->\n      <defs>\n       <path d=\"M 8.203125 72.90625 \nL 55.078125 72.90625 \nL 55.078125 68.703125 \nL 28.609375 0 \nL 18.3125 0 \nL 43.21875 64.59375 \nL 8.203125 64.59375 \nz\n\" id=\"DejaVuSans-55\"/>\n      </defs>\n      <g transform=\"translate(129.92 260.238437)scale(0.1 -0.1)\">\n       <use xlink:href=\"#DejaVuSans-50\"/>\n       <use x=\"63.623047\" xlink:href=\"#DejaVuSans-55\"/>\n       <use x=\"127.246094\" xlink:href=\"#DejaVuSans-48\"/>\n       <use x=\"190.869141\" xlink:href=\"#DejaVuSans-176\"/>\n      </g>\n     </g>\n    </g>\n    <g id=\"xtick_8\">\n     <g id=\"line2d_8\">\n      <path clip-path=\"url(#p97031660c3)\" d=\"M 141.96375 134.759062 \nL 218.840399 211.635712 \n\" style=\"fill:none;stroke:#b0b0b0;stroke-linecap:square;stroke-width:0.8;\"/>\n     </g>\n     <g id=\"text_8\">\n      <!-- 315° -->\n      <g transform=\"translate(216.696144 224.294582)scale(0.1 -0.1)\">\n       <use xlink:href=\"#DejaVuSans-51\"/>\n       <use x=\"63.623047\" xlink:href=\"#DejaVuSans-49\"/>\n       <use x=\"127.246094\" xlink:href=\"#DejaVuSans-53\"/>\n       <use x=\"190.869141\" xlink:href=\"#DejaVuSans-176\"/>\n      </g>\n     </g>\n    </g>\n   </g>\n   <g id=\"matplotlib.axis_2\">\n    <g id=\"ytick_1\">\n     <g id=\"line2d_9\">\n      <path clip-path=\"url(#p97031660c3)\" d=\"M 162.056046 134.759062 \nL 161.945978 132.658846 \nL 161.616981 130.581639 \nL 161.072659 128.550202 \nL 160.318976 126.586789 \nL 159.364189 124.712915 \nL 158.218759 122.949107 \nL 156.895236 121.314692 \nL 155.40812 119.827577 \nL 153.773705 118.504054 \nL 152.009898 117.358624 \nL 150.136023 116.403837 \nL 148.172611 115.650154 \nL 146.141173 115.105831 \nL 144.063967 114.776834 \nL 141.96375 114.666767 \nL 139.863533 114.776834 \nL 137.786327 115.105831 \nL 135.754889 115.650154 \nL 133.791477 116.403837 \nL 131.917602 117.358624 \nL 130.153795 118.504054 \nL 128.51938 119.827577 \nL 127.032264 121.314692 \nL 125.708741 122.949107 \nL 124.563311 124.712915 \nL 123.608524 126.586789 \nL 122.854841 128.550202 \nL 122.310519 130.581639 \nL 121.981522 132.658846 \nL 121.871454 134.759062 \nL 121.981522 136.859279 \nL 122.310519 138.936486 \nL 122.854841 140.967923 \nL 123.608524 142.931336 \nL 124.563311 144.80521 \nL 125.708741 146.569018 \nL 127.032264 148.203433 \nL 128.51938 149.690548 \nL 130.153795 151.014071 \nL 131.917602 152.159501 \nL 133.791477 153.114288 \nL 135.754889 153.867971 \nL 137.786327 154.412294 \nL 139.863533 154.741291 \nL 141.96375 154.851358 \nL 144.063967 154.741291 \nL 146.141173 154.412294 \nL 148.172611 153.867971 \nL 150.136023 153.114288 \nL 152.009898 152.159501 \nL 153.773705 151.014071 \nL 155.40812 149.690548 \nL 156.895236 148.203433 \nL 158.218759 146.569018 \nL 159.364189 144.80521 \nL 160.318976 142.931336 \nL 161.072659 140.967923 \nL 161.616981 138.936486 \nL 161.945978 136.859279 \nL 162.056046 134.759062 \nL 162.056046 134.759062 \n\" style=\"fill:none;stroke:#b0b0b0;stroke-linecap:square;stroke-width:0.8;\"/>\n     </g>\n     <g id=\"text_9\">\n      <!-- −8 -->\n      <defs>\n       <path d=\"M 10.59375 35.5 \nL 73.1875 35.5 \nL 73.1875 27.203125 \nL 10.59375 27.203125 \nz\n\" id=\"DejaVuSans-8722\"/>\n      </defs>\n      <g transform=\"translate(160.526611 124.990386)scale(0.1 -0.1)\">\n       <use xlink:href=\"#DejaVuSans-8722\"/>\n       <use x=\"83.789062\" xlink:href=\"#DejaVuSans-56\"/>\n      </g>\n     </g>\n    </g>\n    <g id=\"ytick_2\">\n     <g id=\"line2d_10\">\n      <path clip-path=\"url(#p97031660c3)\" d=\"M 184.212972 134.759062 \nL 184.110055 131.811906 \nL 183.801805 128.879107 \nL 183.289725 125.974955 \nL 182.576309 123.113599 \nL 181.665032 120.308978 \nL 180.560335 117.574756 \nL 179.267599 114.924254 \nL 177.793122 112.370386 \nL 176.144089 109.925593 \nL 174.328532 107.601786 \nL 172.355297 105.410287 \nL 170.233998 103.361772 \nL 167.974968 101.466221 \nL 165.589215 99.73287 \nL 163.088361 98.170163 \nL 160.48459 96.785713 \nL 157.790587 95.586266 \nL 155.019478 94.577665 \nL 152.184762 93.764823 \nL 149.30025 93.151701 \nL 146.379996 92.741286 \nL 143.438227 92.535578 \nL 140.489273 92.535578 \nL 137.547504 92.741286 \nL 134.62725 93.151701 \nL 131.742738 93.764823 \nL 128.908022 94.577665 \nL 126.136913 95.586266 \nL 123.44291 96.785713 \nL 120.839139 98.170163 \nL 118.338285 99.73287 \nL 115.952532 101.466221 \nL 113.693502 103.361772 \nL 111.572203 105.410287 \nL 109.598968 107.601786 \nL 107.783411 109.925593 \nL 106.134378 112.370386 \nL 104.659901 114.924254 \nL 103.367165 117.574756 \nL 102.262468 120.308978 \nL 101.351191 123.113599 \nL 100.637775 125.974955 \nL 100.125695 128.879107 \nL 99.817445 131.811906 \nL 99.714528 134.759062 \nL 99.817445 137.706219 \nL 100.125695 140.639018 \nL 100.637775 143.54317 \nL 101.351191 146.404526 \nL 102.262468 149.209147 \nL 103.367165 151.943369 \nL 104.659901 154.593871 \nL 106.134378 157.147739 \nL 107.783411 159.592532 \nL 109.598968 161.916339 \nL 111.572203 164.107838 \nL 113.693502 166.156353 \nL 115.952532 168.051904 \nL 118.338285 169.785255 \nL 120.839139 171.347962 \nL 123.44291 172.732412 \nL 126.136913 173.931859 \nL 128.908022 174.94046 \nL 131.742738 175.753302 \nL 134.62725 176.366424 \nL 137.547504 176.776839 \nL 140.489273 176.982547 \nL 143.438227 176.982547 \nL 146.379996 176.776839 \nL 149.30025 176.366424 \nL 152.184762 175.753302 \nL 155.019478 174.94046 \nL 157.790587 173.931859 \nL 160.48459 172.732412 \nL 163.088361 171.347962 \nL 165.589215 169.785255 \nL 167.974968 168.051904 \nL 170.233998 166.156353 \nL 172.355297 164.107838 \nL 174.328532 161.916339 \nL 176.144089 159.592532 \nL 177.793122 157.147739 \nL 179.267599 154.593871 \nL 180.560335 151.943369 \nL 181.665032 149.209147 \nL 182.576309 146.404526 \nL 183.289725 143.54317 \nL 183.801805 140.639018 \nL 184.110055 137.706219 \nL 184.212972 134.759062 \nL 184.212972 134.759062 \n\" style=\"fill:none;stroke:#b0b0b0;stroke-linecap:square;stroke-width:0.8;\"/>\n     </g>\n     <g id=\"text_10\">\n      <!-- −6 -->\n      <defs>\n       <path d=\"M 33.015625 40.375 \nQ 26.375 40.375 22.484375 35.828125 \nQ 18.609375 31.296875 18.609375 23.390625 \nQ 18.609375 15.53125 22.484375 10.953125 \nQ 26.375 6.390625 33.015625 6.390625 \nQ 39.65625 6.390625 43.53125 10.953125 \nQ 47.40625 15.53125 47.40625 23.390625 \nQ 47.40625 31.296875 43.53125 35.828125 \nQ 39.65625 40.375 33.015625 40.375 \nz\nM 52.59375 71.296875 \nL 52.59375 62.3125 \nQ 48.875 64.0625 45.09375 64.984375 \nQ 41.3125 65.921875 37.59375 65.921875 \nQ 27.828125 65.921875 22.671875 59.328125 \nQ 17.53125 52.734375 16.796875 39.40625 \nQ 19.671875 43.65625 24.015625 45.921875 \nQ 28.375 48.1875 33.59375 48.1875 \nQ 44.578125 48.1875 50.953125 41.515625 \nQ 57.328125 34.859375 57.328125 23.390625 \nQ 57.328125 12.15625 50.6875 5.359375 \nQ 44.046875 -1.421875 33.015625 -1.421875 \nQ 20.359375 -1.421875 13.671875 8.265625 \nQ 6.984375 17.96875 6.984375 36.375 \nQ 6.984375 53.65625 15.1875 63.9375 \nQ 23.390625 74.21875 37.203125 74.21875 \nQ 40.921875 74.21875 44.703125 73.484375 \nQ 48.484375 72.75 52.59375 71.296875 \nz\n\" id=\"DejaVuSans-54\"/>\n      </defs>\n      <g transform=\"translate(180.996941 116.511298)scale(0.1 -0.1)\">\n       <use xlink:href=\"#DejaVuSans-8722\"/>\n       <use x=\"83.789062\" xlink:href=\"#DejaVuSans-54\"/>\n      </g>\n     </g>\n    </g>\n    <g id=\"ytick_3\">\n     <g id=\"line2d_11\">\n      <path clip-path=\"url(#p97031660c3)\" d=\"M 206.369898 134.759062 \nL 206.213008 130.266317 \nL 205.743102 125.795459 \nL 204.962469 121.368271 \nL 203.874913 117.006322 \nL 202.485732 112.730863 \nL 200.801694 108.562722 \nL 198.831003 104.522208 \nL 196.583261 100.629004 \nL 194.069418 96.902079 \nL 191.301722 93.359589 \nL 188.293656 90.018793 \nL 185.059875 86.895967 \nL 181.616134 84.006325 \nL 177.979211 81.363946 \nL 174.166824 78.981702 \nL 170.197547 76.8712 \nL 166.090718 75.042722 \nL 161.866344 73.505176 \nL 157.545007 72.266052 \nL 153.14776 71.331389 \nL 148.696026 70.705738 \nL 144.211492 70.392149 \nL 139.716008 70.392149 \nL 135.231474 70.705738 \nL 130.77974 71.331389 \nL 126.382493 72.266052 \nL 122.061156 73.505176 \nL 117.836782 75.042722 \nL 113.729953 76.8712 \nL 109.760676 78.981702 \nL 105.948289 81.363946 \nL 102.311366 84.006325 \nL 98.867625 86.895967 \nL 95.633844 90.018793 \nL 92.625778 93.359589 \nL 89.858082 96.902079 \nL 87.344239 100.629004 \nL 85.096497 104.522208 \nL 83.125806 108.562722 \nL 81.441768 112.730863 \nL 80.052587 117.006322 \nL 78.965031 121.368271 \nL 78.184398 125.795459 \nL 77.714492 130.266317 \nL 77.557602 134.759062 \nL 77.714492 139.251808 \nL 78.184398 143.722666 \nL 78.965031 148.149854 \nL 80.052587 152.511803 \nL 81.441768 156.787262 \nL 83.125806 160.955403 \nL 85.096497 164.995917 \nL 87.344239 168.889121 \nL 89.858082 172.616046 \nL 92.625778 176.158536 \nL 95.633844 179.499332 \nL 98.867625 182.622158 \nL 102.311366 185.5118 \nL 105.948289 188.154179 \nL 109.760676 190.536423 \nL 113.729953 192.646925 \nL 117.836782 194.475403 \nL 122.061156 196.012949 \nL 126.382493 197.252073 \nL 130.77974 198.186736 \nL 135.231474 198.812387 \nL 139.716008 199.125976 \nL 144.211492 199.125976 \nL 148.696026 198.812387 \nL 153.14776 198.186736 \nL 157.545007 197.252073 \nL 161.866344 196.012949 \nL 166.090718 194.475403 \nL 170.197547 192.646925 \nL 174.166824 190.536423 \nL 177.979211 188.154179 \nL 181.616134 185.5118 \nL 185.059875 182.622158 \nL 188.293656 179.499332 \nL 191.301722 176.158536 \nL 194.069418 172.616046 \nL 196.583261 168.889121 \nL 198.831003 164.995917 \nL 200.801694 160.955403 \nL 202.485732 156.787262 \nL 203.874913 152.511803 \nL 204.962469 148.149854 \nL 205.743102 143.722666 \nL 206.213008 139.251808 \nL 206.369898 134.759062 \nL 206.369898 134.759062 \n\" style=\"fill:none;stroke:#b0b0b0;stroke-linecap:square;stroke-width:0.8;\"/>\n     </g>\n     <g id=\"text_11\">\n      <!-- −4 -->\n      <g transform=\"translate(201.467272 108.032209)scale(0.1 -0.1)\">\n       <use xlink:href=\"#DejaVuSans-8722\"/>\n       <use x=\"83.789062\" xlink:href=\"#DejaVuSans-52\"/>\n      </g>\n     </g>\n    </g>\n    <g id=\"ytick_4\">\n     <g id=\"line2d_12\">\n      <path clip-path=\"url(#p97031660c3)\" d=\"M 228.526824 134.759062 \nL 228.315961 128.720728 \nL 227.684398 122.711811 \nL 226.635213 116.761587 \nL 225.173517 110.899046 \nL 223.306432 105.152748 \nL 221.043053 99.550688 \nL 218.394408 94.120161 \nL 215.3734 88.887622 \nL 211.994748 83.878564 \nL 208.274912 79.117391 \nL 204.232014 74.627299 \nL 199.885752 70.430162 \nL 195.2573 66.546429 \nL 190.369207 62.995022 \nL 185.245287 59.793241 \nL 179.910504 56.956687 \nL 174.390848 54.499178 \nL 168.713211 52.432687 \nL 162.905253 50.767282 \nL 156.99527 49.511076 \nL 151.012055 48.67019 \nL 144.984758 48.24872 \nL 138.942742 48.24872 \nL 132.915445 48.67019 \nL 126.93223 49.511076 \nL 121.022247 50.767282 \nL 115.214289 52.432687 \nL 109.536652 54.499178 \nL 104.016996 56.956687 \nL 98.682213 59.793241 \nL 93.558293 62.995022 \nL 88.6702 66.546429 \nL 84.041748 70.430162 \nL 79.695486 74.627299 \nL 75.652588 79.117391 \nL 71.932752 83.878564 \nL 68.5541 88.887622 \nL 65.533092 94.120161 \nL 62.884447 99.550688 \nL 60.621068 105.152748 \nL 58.753983 110.899046 \nL 57.292287 116.761587 \nL 56.243102 122.711811 \nL 55.611539 128.720728 \nL 55.400676 134.759062 \nL 55.611539 140.797397 \nL 56.243102 146.806314 \nL 57.292287 152.756538 \nL 58.753983 158.619079 \nL 60.621068 164.365377 \nL 62.884447 169.967437 \nL 65.533092 175.397964 \nL 68.5541 180.630503 \nL 71.932752 185.639561 \nL 75.652588 190.400734 \nL 79.695486 194.890826 \nL 84.041748 199.087963 \nL 88.6702 202.971696 \nL 93.558293 206.523103 \nL 98.682213 209.724884 \nL 104.016996 212.561438 \nL 109.536652 215.018947 \nL 115.214289 217.085438 \nL 121.022247 218.750843 \nL 126.93223 220.007049 \nL 132.915445 220.847935 \nL 138.942742 221.269405 \nL 144.984758 221.269405 \nL 151.012055 220.847935 \nL 156.99527 220.007049 \nL 162.905253 218.750843 \nL 168.713211 217.085438 \nL 174.390848 215.018947 \nL 179.910504 212.561438 \nL 185.245287 209.724884 \nL 190.369207 206.523103 \nL 195.2573 202.971696 \nL 199.885752 199.087963 \nL 204.232014 194.890826 \nL 208.274912 190.400734 \nL 211.994748 185.639561 \nL 215.3734 180.630503 \nL 218.394408 175.397964 \nL 221.043053 169.967437 \nL 223.306432 164.365377 \nL 225.173517 158.619079 \nL 226.635213 152.756538 \nL 227.684398 146.806314 \nL 228.315961 140.797397 \nL 228.526824 134.759062 \nL 228.526824 134.759062 \n\" style=\"fill:none;stroke:#b0b0b0;stroke-linecap:square;stroke-width:0.8;\"/>\n     </g>\n     <g id=\"text_12\">\n      <!-- −2 -->\n      <g transform=\"translate(221.937602 99.553121)scale(0.1 -0.1)\">\n       <use xlink:href=\"#DejaVuSans-8722\"/>\n       <use x=\"83.789062\" xlink:href=\"#DejaVuSans-50\"/>\n      </g>\n     </g>\n    </g>\n    <g id=\"ytick_5\">\n     <g id=\"line2d_13\">\n      <path clip-path=\"url(#p97031660c3)\" d=\"M 250.68375 134.759062 \nL 250.617521 130.964789 \nL 250.418914 127.175139 \nL 250.08817 123.394728 \nL 249.625694 119.628163 \nL 249.032049 115.880033 \nL 248.307957 112.154903 \nL 247.454301 108.457314 \nL 246.472122 104.791769 \nL 245.362614 101.162735 \nL 244.127132 97.574633 \nL 242.767179 94.031834 \nL 241.284412 90.538655 \nL 239.680639 87.099351 \nL 237.957812 83.718114 \nL 236.118032 80.399062 \nL 234.163539 77.14624 \nL 232.096715 73.96361 \nL 229.920078 70.85505 \nL 227.636279 67.824347 \nL 225.248102 64.875194 \nL 222.758455 62.011183 \nL 220.170373 59.235804 \nL 217.487008 56.552439 \nL 214.71163 53.964357 \nL 211.847619 51.474711 \nL 208.898466 49.086533 \nL 205.867763 46.802735 \nL 202.759202 44.626098 \nL 199.576572 42.559273 \nL 196.32375 40.604781 \nL 193.004698 38.765 \nL 189.623461 37.042174 \nL 186.184158 35.4384 \nL 182.690979 33.955634 \nL 179.14818 32.595681 \nL 175.560078 31.360198 \nL 171.931043 30.250691 \nL 168.265498 29.268511 \nL 164.567909 28.414855 \nL 160.84278 27.690764 \nL 157.09465 27.097118 \nL 153.328085 26.634642 \nL 149.547674 26.303899 \nL 145.758023 26.105292 \nL 141.96375 26.039062 \nL 138.169477 26.105292 \nL 134.379826 26.303899 \nL 130.599415 26.634642 \nL 126.83285 27.097118 \nL 123.08472 27.690764 \nL 119.359591 28.414855 \nL 115.662002 29.268511 \nL 111.996457 30.250691 \nL 108.367422 31.360198 \nL 104.77932 32.595681 \nL 101.236521 33.955634 \nL 97.743342 35.4384 \nL 94.304039 37.042174 \nL 90.922802 38.765 \nL 87.60375 40.604781 \nL 84.350928 42.559273 \nL 81.168298 44.626098 \nL 78.059737 46.802735 \nL 75.029034 49.086533 \nL 72.079881 51.474711 \nL 69.21587 53.964357 \nL 66.440492 56.552439 \nL 63.757127 59.235804 \nL 61.169045 62.011183 \nL 58.679398 64.875194 \nL 56.291221 67.824347 \nL 54.007422 70.85505 \nL 51.830785 73.96361 \nL 49.763961 77.14624 \nL 47.809468 80.399062 \nL 45.969688 83.718114 \nL 44.246861 87.099351 \nL 42.643088 90.538655 \nL 41.160321 94.031834 \nL 39.800368 97.574633 \nL 38.564886 101.162735 \nL 37.455378 104.791769 \nL 36.473199 108.457314 \nL 35.619543 112.154903 \nL 34.895451 115.880033 \nL 34.301806 119.628163 \nL 33.83933 123.394728 \nL 33.508586 127.175139 \nL 33.309979 130.964789 \nL 33.24375 134.759062 \nL 33.309979 138.553336 \nL 33.508586 142.342986 \nL 33.83933 146.123397 \nL 34.301806 149.889962 \nL 34.895451 153.638092 \nL 35.619543 157.363222 \nL 36.473199 161.060811 \nL 37.455378 164.726356 \nL 38.564886 168.35539 \nL 39.800368 171.943492 \nL 41.160321 175.486291 \nL 42.643088 178.97947 \nL 44.246861 182.418774 \nL 45.969688 185.800011 \nL 47.809468 189.119062 \nL 49.763961 192.371885 \nL 51.830785 195.554515 \nL 54.007422 198.663075 \nL 56.291221 201.693778 \nL 58.679398 204.642931 \nL 61.169045 207.506942 \nL 63.757127 210.282321 \nL 66.440492 212.965686 \nL 69.21587 215.553768 \nL 72.079881 218.043414 \nL 75.029034 220.431592 \nL 78.059737 222.71539 \nL 81.168298 224.892027 \nL 84.350928 226.958852 \nL 87.60375 228.913344 \nL 90.922802 230.753125 \nL 94.304039 232.475951 \nL 97.743342 234.079725 \nL 101.236521 235.562491 \nL 104.77932 236.922444 \nL 108.367422 238.157927 \nL 111.996457 239.267434 \nL 115.662002 240.249614 \nL 119.359591 241.10327 \nL 123.08472 241.827361 \nL 126.83285 242.421007 \nL 130.599415 242.883483 \nL 134.379826 243.214226 \nL 138.169477 243.412833 \nL 141.96375 243.479062 \nL 145.758023 243.412833 \nL 149.547674 243.214226 \nL 153.328085 242.883483 \nL 157.09465 242.421007 \nL 160.84278 241.827361 \nL 164.567909 241.10327 \nL 168.265498 240.249614 \nL 171.931043 239.267434 \nL 175.560078 238.157927 \nL 179.14818 236.922444 \nL 182.690979 235.562491 \nL 186.184158 234.079725 \nL 189.623461 232.475951 \nL 193.004698 230.753125 \nL 196.32375 228.913344 \nL 199.576572 226.958852 \nL 202.759202 224.892027 \nL 205.867763 222.71539 \nL 208.898466 220.431592 \nL 211.847619 218.043414 \nL 214.71163 215.553768 \nL 217.487008 212.965686 \nL 220.170373 210.282321 \nL 222.758455 207.506942 \nL 225.248102 204.642931 \nL 227.636279 201.693778 \nL 229.920078 198.663075 \nL 232.096715 195.554515 \nL 234.163539 192.371885 \nL 236.118032 189.119063 \nL 237.957812 185.800011 \nL 239.680639 182.418774 \nL 241.284412 178.97947 \nL 242.767179 175.486291 \nL 244.127132 171.943492 \nL 245.362614 168.35539 \nL 246.472122 164.726356 \nL 247.454301 161.060811 \nL 248.307957 157.363222 \nL 249.032049 153.638092 \nL 249.625694 149.889962 \nL 250.08817 146.123397 \nL 250.418914 142.342986 \nL 250.617521 138.553336 \nL 250.68375 134.759062 \nL 250.68375 134.759062 \n\" style=\"fill:none;stroke:#b0b0b0;stroke-linecap:square;stroke-width:0.8;\"/>\n     </g>\n     <g id=\"text_13\">\n      <!-- 0 -->\n      <g transform=\"translate(242.407933 91.074032)scale(0.1 -0.1)\">\n       <use xlink:href=\"#DejaVuSans-48\"/>\n      </g>\n     </g>\n    </g>\n   </g>\n   <g id=\"line2d_14\">\n    <path clip-path=\"url(#p97031660c3)\" d=\"M 151.807496 164.116734 \nL 130.260286 198.584078 \nL 97.192139 206.945372 \nL 187.607445 174.702411 \nL 124.145579 151.690108 \nL 84.948959 63.827045 \nL 156.890815 143.455757 \nL 116.468234 40.503498 \nL 159.39278 188.556554 \nL 159.572238 166.130683 \nL 144.573778 188.433407 \nL 197.284175 71.793955 \nL 201.501561 78.752678 \nL 179.661636 141.40193 \nL 145.715276 47.940364 \nL 158.464484 133.910759 \nL 191.701172 102.109366 \nL 143.104822 66.969404 \nL 143.76551 207.598681 \nL 133.761015 189.600008 \nL 148.402168 115.080539 \nL 89.938601 136.046512 \nL 237.564863 113.891218 \nL 210.813907 143.285915 \nL 215.76152 170.80853 \nL 104.521389 89.709939 \nL 228.56864 147.767481 \nL 201.935854 63.416197 \nL 161.582909 166.661862 \nL 149.374149 120.744582 \nL 184.939248 230.207536 \nL 235.767726 130.071944 \nL 136.882973 153.374815 \nL 220.22487 99.610402 \nL 213.214204 190.501765 \nL 64.207794 163.602508 \nL 111.445225 116.685084 \nL 165.637594 157.110994 \nL 224.666467 168.354723 \nL 111.022622 156.9431 \nL 235.617955 150.290128 \nL 143.152639 139.599831 \nL 156.35239 220.600556 \nL 153.226171 150.138202 \nL 140.52517 107.638184 \nL 160.938841 80.461507 \nL 193.231841 155.653562 \nL 119.372766 102.407822 \nL 197.163531 172.301367 \nL 100.777298 71.096774 \n\" style=\"fill:none;stroke:#1f77b4;stroke-linecap:square;stroke-width:1.5;\"/>\n   </g>\n   <g id=\"patch_3\">\n    <path d=\"M 250.68375 134.759062 \nC 250.68375 120.482083 247.871496 106.343929 242.407933 93.15372 \nC 236.944369 79.963511 228.935748 67.977762 218.840399 57.882413 \nC 208.74505 47.787064 196.759302 39.778443 183.569093 34.31488 \nC 170.378884 28.851316 156.24073 26.039062 141.96375 26.039062 \nC 127.68677 26.039062 113.548616 28.851316 100.358407 34.31488 \nC 87.168198 39.778443 75.18245 47.787064 65.087101 57.882413 \nC 54.991752 67.977762 46.983131 79.963511 41.519567 93.15372 \nC 36.056004 106.343929 33.24375 120.482083 33.24375 134.759062 \nC 33.24375 149.036042 36.056004 163.174196 41.519567 176.364405 \nC 46.983131 189.554614 54.991752 201.540363 65.087101 211.635712 \nC 75.18245 221.731061 87.168198 229.739682 100.358407 235.203245 \nC 113.548616 240.666809 127.68677 243.479062 141.96375 243.479062 \nC 156.24073 243.479062 170.378884 240.666809 183.569093 235.203245 \nC 196.759302 229.739682 208.74505 221.731061 218.840399 211.635712 \nC 228.935748 201.540363 236.944369 189.554614 242.407933 176.364405 \nC 247.871496 163.174196 250.68375 149.036042 250.68375 134.759062 \n\" style=\"fill:none;stroke:#000000;stroke-linecap:square;stroke-linejoin:miter;stroke-width:0.8;\"/>\n   </g>\n  </g>\n </g>\n <defs>\n  <clipPath id=\"p97031660c3\">\n   <path d=\"M 250.68375 134.759062 \nC 250.68375 120.482083 247.871496 106.343929 242.407933 93.15372 \nC 236.944369 79.963511 228.935748 67.977762 218.840399 57.882413 \nC 208.74505 47.787064 196.759302 39.778443 183.569093 34.31488 \nC 170.378884 28.851316 156.24073 26.039062 141.96375 26.039062 \nC 127.68677 26.039062 113.548616 28.851316 100.358407 34.31488 \nC 87.168198 39.778443 75.18245 47.787064 65.087101 57.882413 \nC 54.991752 67.977762 46.983131 79.963511 41.519567 93.15372 \nC 36.056004 106.343929 33.24375 120.482083 33.24375 134.759062 \nC 33.24375 149.036042 36.056004 163.174196 41.519567 176.364405 \nC 46.983131 189.554614 54.991752 201.540363 65.087101 211.635712 \nC 75.18245 221.731061 87.168198 229.739682 100.358407 235.203245 \nC 113.548616 240.666809 127.68677 243.479062 141.96375 243.479062 \nC 156.24073 243.479062 170.378884 240.666809 183.569093 235.203245 \nC 196.759302 229.739682 208.74505 221.731061 218.840399 211.635712 \nC 228.935748 201.540363 236.944369 189.554614 242.407933 176.364405 \nC 247.871496 163.174196 250.68375 149.036042 250.68375 134.759063 \nM 141.96375 134.759062 \nC 141.96375 134.759062 141.96375 134.759062 141.96375 134.759062 \nC 141.96375 134.759062 141.96375 134.759062 141.96375 134.759062 \nC 141.96375 134.759062 141.96375 134.759062 141.96375 134.759062 \nC 141.96375 134.759062 141.96375 134.759062 141.96375 134.759062 \nC 141.96375 134.759062 141.96375 134.759062 141.96375 134.759062 \nC 141.96375 134.759062 141.96375 134.759062 141.96375 134.759062 \nC 141.96375 134.759062 141.96375 134.759062 141.96375 134.759062 \nC 141.96375 134.759062 141.96375 134.759062 141.96375 134.759062 \nC 141.96375 134.759062 141.96375 134.759062 141.96375 134.759062 \nC 141.96375 134.759062 141.96375 134.759062 141.96375 134.759062 \nC 141.96375 134.759062 141.96375 134.759062 141.96375 134.759062 \nC 141.96375 134.759062 141.96375 134.759062 141.96375 134.759062 \nC 141.96375 134.759062 141.96375 134.759062 141.96375 134.759062 \nC 141.96375 134.759062 141.96375 134.759062 141.96375 134.759062 \nC 141.96375 134.759062 141.96375 134.759062 141.96375 134.759062 \nC 141.96375 134.759062 141.96375 134.759062 141.96375 134.759062 \nM 250.68375 134.759062 \nz\n\"/>\n  </clipPath>\n </defs>\n</svg>\n",
      "image/png": "[encoded data removed]"
     },
     "metadata": {
      "needs_background": "light"
     }
    }
   ],
   "source": [
    "angle = 2 * np.pi * y\n",
    "fig, ax = plt.subplots(subplot_kw=dict(polar=True))\n",
    "ax.plot(angle, x)\n",
    "plt.show()"
   ]
  },
  {
   "cell_type": "code",
   "execution_count": 10,
   "metadata": {},
   "outputs": [
    {
     "output_type": "execute_result",
     "data": {
      "text/plain": [
       "<matplotlib.image.AxesImage at 0x7f78f40bfca0>"
      ]
     },
     "metadata": {},
     "execution_count": 10
    },
    {
     "output_type": "display_data",
     "data": {
      "text/plain": "<Figure size 432x288 with 1 Axes>",
      "image/svg+xml": "<?xml version=\"1.0\" encoding=\"utf-8\" standalone=\"no\"?>\n<!DOCTYPE svg PUBLIC \"-//W3C//DTD SVG 1.1//EN\"\n  \"http://www.w3.org/Graphics/SVG/1.1/DTD/svg11.dtd\">\n<!-- Created with matplotlib (https://matplotlib.org/) -->\n<svg height=\"248.518125pt\" version=\"1.1\" viewBox=\"0 0 245.2025 248.518125\" width=\"245.2025pt\" xmlns=\"http://www.w3.org/2000/svg\" xmlns:xlink=\"http://www.w3.org/1999/xlink\">\n <defs>\n  <style type=\"text/css\">\n*{stroke-linecap:butt;stroke-linejoin:round;}\n  </style>\n </defs>\n <g id=\"figure_1\">\n  <g id=\"patch_1\">\n   <path d=\"M 0 248.518125 \nL 245.2025 248.518125 \nL 245.2025 0 \nL 0 0 \nz\n\" style=\"fill:none;\"/>\n  </g>\n  <g id=\"axes_1\">\n   <g id=\"patch_2\">\n    <path d=\"M 20.5625 224.64 \nL 238.0025 224.64 \nL 238.0025 7.2 \nL 20.5625 7.2 \nz\n\" style=\"fill:#ffffff;\"/>\n   </g>\n   <g clip-path=\"url(#p4b5eb3309a)\">\n    <image height=\"218\" id=\"imagea9d7fd6f73\" transform=\"scale(1 -1)translate(0 -218)\" width=\"218\" x=\"20.5625\" xlink:href=\"data:image/png;base64,\niVBORw0KGgoAAAANSUhEUgAAANoAAADaCAYAAADAHVzbAAAABHNCSVQICAgIfAhkiAAABR1JREFUeJzt3L+r11Ucx/H37X5L82ZkpKUIV0QhrKAIjCyI8AeCZEUttoZlSoigg2JBJQ2pF4dUIigopGjJQJeWFhE1cBEHkUAjsNDUzG7lVW9z+zmv6fH4A15cPvc+73s7Q8+u/miyOrg+e7jHbH27fWfzzRXH3mq+WVV14+K0Lrtzv+/yK6tLjw667M46OdF88/wrfb7B6ZX7uuze0WUV+B+hQYDQIEBoECA0CBAaBAgNAoQGAUKDAKFBgNAgQGgQIDQIEBoECA0ChAYBQoMAoUGA0CBAaBAgNAgYWr74vS7PCf2xcKTHbM1e91PzzTl3X2u+WVV1dvGNLrvLTvX5eQ9tXdpl97OPx5pvvrZ9S/PNqqqpV2912XXRIEBoECA0CBAaBAgNAoQGAUKDAKFBgNAgQGgQIDQIEBoECA0ChAYBQoMAoUGA0CBAaBAgNAgQGgQIDQKGFn6wu8srWJPDPVarPl2zv/nmG1+ub75ZVTX3h3+67N518a8uu/8+eE+X3Ynp7f8Ydu3Z23yzqmrHzy902XXRIEBoECA0CBAaBAgNAoQGAUKDAKFBgNAgQGgQIDQIEBoECA0ChAYBQoMAoUGA0CBAaBAgNAgQGgQM5n91qcvwlbHbXXbffXtt883Rw0ebb1ZV/bJ1SZfd4xv2ddldum1Tl93xh4aabx4dX9h8s6rq4vhIl10XDQKEBgFCgwChQYDQIEBoECA0CBAaBAgNAoQGAUKDAKFBgNAgQGgQIDQIEBoECA0ChAYBQoMAoUGA0CBgaPSLDyd7DM+aea3HbE0cnNl88/aqK803q6ru2z+9y+712YMuu9X+saqqqlq75bvmm3sOvNR8s6rqxqLxLrsuGgQIDQKEBgFCgwChQYDQIEBoECA0CBAaBAgNAoQGAUKDAKFBgNAgQGgQIDQIEBoECA0ChAYBQoMAoUHAYNHohS7DZ4/M67I7eqr9K0Vnnx5pvllVNXXGcJfdw+/v6rK7/tyLXXa/Wb+y+eaUR5pPVlXVnsUHuuy6aBAgNAgQGgQIDQKEBgFCgwChQYDQIEBoECA0CBAaBAgNAoQGAUKDAKFBgNAgQGgQIDQIEBoECA0ChAYBg18PzOsz/MBQl93Li6Y13/xxWZ9XpVac2Nxld/nuLV12b7b/tFVVNXrqTPPNOzff33yzqurxKVe77LpoECA0CBAaBAgNAoQGAUKDAKFBgNAgQGgQIDQIEBoECA0ChAYBQoMAoUGA0CBAaBAgNAgQGgQIDQKEBgFDty4smOwx/MzGN3vM1pWHh5tvTj/X5RPUyG8TXXbHPtnbZXfdOxu77N5e83vzzVVzTzffrKo6tmRGl10XDQKEBgFCgwChQYDQIEBoECA0CBAaBAgNAoQGAUKDAKFBgNAgQGgQIDQIEBoECA0ChAYBQoMAoUHAYOzy/C7DVxe0f0Snqmp058nmm38enNN8s6pqeMe9XXa3nXu5y+7nO8a67K46tKn55uuPnWi+WVV19O/nuuy6aBAgNAgQGgQIDQKEBgFCgwChQYDQIEBoECA0CBAaBAgNAoQGAUKDAKFBgNAgQGgQIDQIEBoECA0ChAYBg6/PP9ll+PiGPi8qPTGj/YtKq2ceb75ZVXVk/lNddl+deabL7pzBUJfdGafa/z9/fnxL882qqpt7b3XZddEgQGgQIDQIEBoECA0ChAYBQoMAoUGA0CBAaBAgNAgQGgQIDQKEBgFCgwChQYDQIEBoECA0CBAaBAgNAv4DV+iVjqm1CsoAAAAASUVORK5CYII=\" y=\"-6.64\"/>\n   </g>\n   <g id=\"matplotlib.axis_1\">\n    <g id=\"xtick_1\">\n     <g id=\"line2d_1\">\n      <defs>\n       <path d=\"M 0 0 \nL 0 3.5 \n\" id=\"m7dd4932fb1\" style=\"stroke:#000000;stroke-width:0.8;\"/>\n      </defs>\n      <g>\n       <use style=\"stroke:#000000;stroke-width:0.8;\" x=\"31.4345\" xlink:href=\"#m7dd4932fb1\" y=\"224.64\"/>\n      </g>\n     </g>\n     <g id=\"text_1\">\n      <!-- 0 -->\n      <defs>\n       <path d=\"M 31.78125 66.40625 \nQ 24.171875 66.40625 20.328125 58.90625 \nQ 16.5 51.421875 16.5 36.375 \nQ 16.5 21.390625 20.328125 13.890625 \nQ 24.171875 6.390625 31.78125 6.390625 \nQ 39.453125 6.390625 43.28125 13.890625 \nQ 47.125 21.390625 47.125 36.375 \nQ 47.125 51.421875 43.28125 58.90625 \nQ 39.453125 66.40625 31.78125 66.40625 \nz\nM 31.78125 74.21875 \nQ 44.046875 74.21875 50.515625 64.515625 \nQ 56.984375 54.828125 56.984375 36.375 \nQ 56.984375 17.96875 50.515625 8.265625 \nQ 44.046875 -1.421875 31.78125 -1.421875 \nQ 19.53125 -1.421875 13.0625 8.265625 \nQ 6.59375 17.96875 6.59375 36.375 \nQ 6.59375 54.828125 13.0625 64.515625 \nQ 19.53125 74.21875 31.78125 74.21875 \nz\n\" id=\"DejaVuSans-48\"/>\n      </defs>\n      <g transform=\"translate(28.25325 239.238437)scale(0.1 -0.1)\">\n       <use xlink:href=\"#DejaVuSans-48\"/>\n      </g>\n     </g>\n    </g>\n    <g id=\"xtick_2\">\n     <g id=\"line2d_2\">\n      <g>\n       <use style=\"stroke:#000000;stroke-width:0.8;\" x=\"74.9225\" xlink:href=\"#m7dd4932fb1\" y=\"224.64\"/>\n      </g>\n     </g>\n     <g id=\"text_2\">\n      <!-- 2 -->\n      <defs>\n       <path d=\"M 19.1875 8.296875 \nL 53.609375 8.296875 \nL 53.609375 0 \nL 7.328125 0 \nL 7.328125 8.296875 \nQ 12.9375 14.109375 22.625 23.890625 \nQ 32.328125 33.6875 34.8125 36.53125 \nQ 39.546875 41.84375 41.421875 45.53125 \nQ 43.3125 49.21875 43.3125 52.78125 \nQ 43.3125 58.59375 39.234375 62.25 \nQ 35.15625 65.921875 28.609375 65.921875 \nQ 23.96875 65.921875 18.8125 64.3125 \nQ 13.671875 62.703125 7.8125 59.421875 \nL 7.8125 69.390625 \nQ 13.765625 71.78125 18.9375 73 \nQ 24.125 74.21875 28.421875 74.21875 \nQ 39.75 74.21875 46.484375 68.546875 \nQ 53.21875 62.890625 53.21875 53.421875 \nQ 53.21875 48.921875 51.53125 44.890625 \nQ 49.859375 40.875 45.40625 35.40625 \nQ 44.1875 33.984375 37.640625 27.21875 \nQ 31.109375 20.453125 19.1875 8.296875 \nz\n\" id=\"DejaVuSans-50\"/>\n      </defs>\n      <g transform=\"translate(71.74125 239.238437)scale(0.1 -0.1)\">\n       <use xlink:href=\"#DejaVuSans-50\"/>\n      </g>\n     </g>\n    </g>\n    <g id=\"xtick_3\">\n     <g id=\"line2d_3\">\n      <g>\n       <use style=\"stroke:#000000;stroke-width:0.8;\" x=\"118.4105\" xlink:href=\"#m7dd4932fb1\" y=\"224.64\"/>\n      </g>\n     </g>\n     <g id=\"text_3\">\n      <!-- 4 -->\n      <defs>\n       <path d=\"M 37.796875 64.3125 \nL 12.890625 25.390625 \nL 37.796875 25.390625 \nz\nM 35.203125 72.90625 \nL 47.609375 72.90625 \nL 47.609375 25.390625 \nL 58.015625 25.390625 \nL 58.015625 17.1875 \nL 47.609375 17.1875 \nL 47.609375 0 \nL 37.796875 0 \nL 37.796875 17.1875 \nL 4.890625 17.1875 \nL 4.890625 26.703125 \nz\n\" id=\"DejaVuSans-52\"/>\n      </defs>\n      <g transform=\"translate(115.22925 239.238437)scale(0.1 -0.1)\">\n       <use xlink:href=\"#DejaVuSans-52\"/>\n      </g>\n     </g>\n    </g>\n    <g id=\"xtick_4\">\n     <g id=\"line2d_4\">\n      <g>\n       <use style=\"stroke:#000000;stroke-width:0.8;\" x=\"161.8985\" xlink:href=\"#m7dd4932fb1\" y=\"224.64\"/>\n      </g>\n     </g>\n     <g id=\"text_4\">\n      <!-- 6 -->\n      <defs>\n       <path d=\"M 33.015625 40.375 \nQ 26.375 40.375 22.484375 35.828125 \nQ 18.609375 31.296875 18.609375 23.390625 \nQ 18.609375 15.53125 22.484375 10.953125 \nQ 26.375 6.390625 33.015625 6.390625 \nQ 39.65625 6.390625 43.53125 10.953125 \nQ 47.40625 15.53125 47.40625 23.390625 \nQ 47.40625 31.296875 43.53125 35.828125 \nQ 39.65625 40.375 33.015625 40.375 \nz\nM 52.59375 71.296875 \nL 52.59375 62.3125 \nQ 48.875 64.0625 45.09375 64.984375 \nQ 41.3125 65.921875 37.59375 65.921875 \nQ 27.828125 65.921875 22.671875 59.328125 \nQ 17.53125 52.734375 16.796875 39.40625 \nQ 19.671875 43.65625 24.015625 45.921875 \nQ 28.375 48.1875 33.59375 48.1875 \nQ 44.578125 48.1875 50.953125 41.515625 \nQ 57.328125 34.859375 57.328125 23.390625 \nQ 57.328125 12.15625 50.6875 5.359375 \nQ 44.046875 -1.421875 33.015625 -1.421875 \nQ 20.359375 -1.421875 13.671875 8.265625 \nQ 6.984375 17.96875 6.984375 36.375 \nQ 6.984375 53.65625 15.1875 63.9375 \nQ 23.390625 74.21875 37.203125 74.21875 \nQ 40.921875 74.21875 44.703125 73.484375 \nQ 48.484375 72.75 52.59375 71.296875 \nz\n\" id=\"DejaVuSans-54\"/>\n      </defs>\n      <g transform=\"translate(158.71725 239.238437)scale(0.1 -0.1)\">\n       <use xlink:href=\"#DejaVuSans-54\"/>\n      </g>\n     </g>\n    </g>\n    <g id=\"xtick_5\">\n     <g id=\"line2d_5\">\n      <g>\n       <use style=\"stroke:#000000;stroke-width:0.8;\" x=\"205.3865\" xlink:href=\"#m7dd4932fb1\" y=\"224.64\"/>\n      </g>\n     </g>\n     <g id=\"text_5\">\n      <!-- 8 -->\n      <defs>\n       <path d=\"M 31.78125 34.625 \nQ 24.75 34.625 20.71875 30.859375 \nQ 16.703125 27.09375 16.703125 20.515625 \nQ 16.703125 13.921875 20.71875 10.15625 \nQ 24.75 6.390625 31.78125 6.390625 \nQ 38.8125 6.390625 42.859375 10.171875 \nQ 46.921875 13.96875 46.921875 20.515625 \nQ 46.921875 27.09375 42.890625 30.859375 \nQ 38.875 34.625 31.78125 34.625 \nz\nM 21.921875 38.8125 \nQ 15.578125 40.375 12.03125 44.71875 \nQ 8.5 49.078125 8.5 55.328125 \nQ 8.5 64.0625 14.71875 69.140625 \nQ 20.953125 74.21875 31.78125 74.21875 \nQ 42.671875 74.21875 48.875 69.140625 \nQ 55.078125 64.0625 55.078125 55.328125 \nQ 55.078125 49.078125 51.53125 44.71875 \nQ 48 40.375 41.703125 38.8125 \nQ 48.828125 37.15625 52.796875 32.3125 \nQ 56.78125 27.484375 56.78125 20.515625 \nQ 56.78125 9.90625 50.3125 4.234375 \nQ 43.84375 -1.421875 31.78125 -1.421875 \nQ 19.734375 -1.421875 13.25 4.234375 \nQ 6.78125 9.90625 6.78125 20.515625 \nQ 6.78125 27.484375 10.78125 32.3125 \nQ 14.796875 37.15625 21.921875 38.8125 \nz\nM 18.3125 54.390625 \nQ 18.3125 48.734375 21.84375 45.5625 \nQ 25.390625 42.390625 31.78125 42.390625 \nQ 38.140625 42.390625 41.71875 45.5625 \nQ 45.3125 48.734375 45.3125 54.390625 \nQ 45.3125 60.0625 41.71875 63.234375 \nQ 38.140625 66.40625 31.78125 66.40625 \nQ 25.390625 66.40625 21.84375 63.234375 \nQ 18.3125 60.0625 18.3125 54.390625 \nz\n\" id=\"DejaVuSans-56\"/>\n      </defs>\n      <g transform=\"translate(202.20525 239.238437)scale(0.1 -0.1)\">\n       <use xlink:href=\"#DejaVuSans-56\"/>\n      </g>\n     </g>\n    </g>\n   </g>\n   <g id=\"matplotlib.axis_2\">\n    <g id=\"ytick_1\">\n     <g id=\"line2d_6\">\n      <defs>\n       <path d=\"M 0 0 \nL -3.5 0 \n\" id=\"m9e03675de9\" style=\"stroke:#000000;stroke-width:0.8;\"/>\n      </defs>\n      <g>\n       <use style=\"stroke:#000000;stroke-width:0.8;\" x=\"20.5625\" xlink:href=\"#m9e03675de9\" y=\"18.072\"/>\n      </g>\n     </g>\n     <g id=\"text_6\">\n      <!-- 0 -->\n      <g transform=\"translate(7.2 21.871219)scale(0.1 -0.1)\">\n       <use xlink:href=\"#DejaVuSans-48\"/>\n      </g>\n     </g>\n    </g>\n    <g id=\"ytick_2\">\n     <g id=\"line2d_7\">\n      <g>\n       <use style=\"stroke:#000000;stroke-width:0.8;\" x=\"20.5625\" xlink:href=\"#m9e03675de9\" y=\"61.56\"/>\n      </g>\n     </g>\n     <g id=\"text_7\">\n      <!-- 2 -->\n      <g transform=\"translate(7.2 65.359219)scale(0.1 -0.1)\">\n       <use xlink:href=\"#DejaVuSans-50\"/>\n      </g>\n     </g>\n    </g>\n    <g id=\"ytick_3\">\n     <g id=\"line2d_8\">\n      <g>\n       <use style=\"stroke:#000000;stroke-width:0.8;\" x=\"20.5625\" xlink:href=\"#m9e03675de9\" y=\"105.048\"/>\n      </g>\n     </g>\n     <g id=\"text_8\">\n      <!-- 4 -->\n      <g transform=\"translate(7.2 108.847219)scale(0.1 -0.1)\">\n       <use xlink:href=\"#DejaVuSans-52\"/>\n      </g>\n     </g>\n    </g>\n    <g id=\"ytick_4\">\n     <g id=\"line2d_9\">\n      <g>\n       <use style=\"stroke:#000000;stroke-width:0.8;\" x=\"20.5625\" xlink:href=\"#m9e03675de9\" y=\"148.536\"/>\n      </g>\n     </g>\n     <g id=\"text_9\">\n      <!-- 6 -->\n      <g transform=\"translate(7.2 152.335219)scale(0.1 -0.1)\">\n       <use xlink:href=\"#DejaVuSans-54\"/>\n      </g>\n     </g>\n    </g>\n    <g id=\"ytick_5\">\n     <g id=\"line2d_10\">\n      <g>\n       <use style=\"stroke:#000000;stroke-width:0.8;\" x=\"20.5625\" xlink:href=\"#m9e03675de9\" y=\"192.024\"/>\n      </g>\n     </g>\n     <g id=\"text_10\">\n      <!-- 8 -->\n      <g transform=\"translate(7.2 195.823219)scale(0.1 -0.1)\">\n       <use xlink:href=\"#DejaVuSans-56\"/>\n      </g>\n     </g>\n    </g>\n   </g>\n   <g id=\"patch_3\">\n    <path d=\"M 20.5625 224.64 \nL 20.5625 7.2 \n\" style=\"fill:none;stroke:#000000;stroke-linecap:square;stroke-linejoin:miter;stroke-width:0.8;\"/>\n   </g>\n   <g id=\"patch_4\">\n    <path d=\"M 238.0025 224.64 \nL 238.0025 7.2 \n\" style=\"fill:none;stroke:#000000;stroke-linecap:square;stroke-linejoin:miter;stroke-width:0.8;\"/>\n   </g>\n   <g id=\"patch_5\">\n    <path d=\"M 20.5625 224.64 \nL 238.0025 224.64 \n\" style=\"fill:none;stroke:#000000;stroke-linecap:square;stroke-linejoin:miter;stroke-width:0.8;\"/>\n   </g>\n   <g id=\"patch_6\">\n    <path d=\"M 20.5625 7.2 \nL 238.0025 7.2 \n\" style=\"fill:none;stroke:#000000;stroke-linecap:square;stroke-linejoin:miter;stroke-width:0.8;\"/>\n   </g>\n  </g>\n </g>\n <defs>\n  <clipPath id=\"p4b5eb3309a\">\n   <rect height=\"217.44\" width=\"217.44\" x=\"20.5625\" y=\"7.2\"/>\n  </clipPath>\n </defs>\n</svg>\n",
      "image/png": "[encoded data removed]"
     },
     "metadata": {
      "needs_background": "light"
     }
    }
   ],
   "source": [
    "# matplotlib_heatmap_chart\n",
    "fig, ax = plt.subplots()\n",
    "ax.imshow(matrix_2D)"
   ]
  },
  {
   "cell_type": "code",
   "execution_count": 11,
   "metadata": {},
   "outputs": [
    {
     "output_type": "display_data",
     "data": {
      "text/plain": "<Figure size 432x288 with 1 Axes>",
      "image/svg+xml": "<?xml version=\"1.0\" encoding=\"utf-8\" standalone=\"no\"?>\n<!DOCTYPE svg PUBLIC \"-//W3C//DTD SVG 1.1//EN\"\n  \"http://www.w3.org/Graphics/SVG/1.1/DTD/svg11.dtd\">\n<!-- Created with matplotlib (https://matplotlib.org/) -->\n<svg height=\"252.317344pt\" version=\"1.1\" viewBox=\"0 0 380.054687 252.317344\" width=\"380.054687pt\" xmlns=\"http://www.w3.org/2000/svg\" xmlns:xlink=\"http://www.w3.org/1999/xlink\">\n <defs>\n  <style type=\"text/css\">\n*{stroke-linecap:butt;stroke-linejoin:round;}\n  </style>\n </defs>\n <g id=\"figure_1\">\n  <g id=\"patch_1\">\n   <path d=\"M 0 252.317344 \nL 380.054687 252.317344 \nL 380.054687 0 \nL 0 0 \nz\n\" style=\"fill:none;\"/>\n  </g>\n  <g id=\"axes_1\">\n   <g id=\"patch_2\">\n    <path d=\"M 30.103125 228.439219 \nL 364.903125 228.439219 \nL 364.903125 10.999219 \nL 30.103125 10.999219 \nz\n\" style=\"fill:#ffffff;\"/>\n   </g>\n   <g id=\"table_1\">\n    <g id=\"patch_3\">\n     <path d=\"M 30.103125 65.719219 \nL 141.703125 65.719219 \nL 141.703125 53.719219 \nL 30.103125 53.719219 \nz\n\" style=\"fill:#ffffff;stroke:#000000;stroke-linejoin:miter;\"/>\n    </g>\n    <g id=\"text_1\">\n     <!-- 0 -->\n     <defs>\n      <path d=\"M 31.78125 66.40625 \nQ 24.171875 66.40625 20.328125 58.90625 \nQ 16.5 51.421875 16.5 36.375 \nQ 16.5 21.390625 20.328125 13.890625 \nQ 24.171875 6.390625 31.78125 6.390625 \nQ 39.453125 6.390625 43.28125 13.890625 \nQ 47.125 21.390625 47.125 36.375 \nQ 47.125 51.421875 43.28125 58.90625 \nQ 39.453125 66.40625 31.78125 66.40625 \nz\nM 31.78125 74.21875 \nQ 44.046875 74.21875 50.515625 64.515625 \nQ 56.984375 54.828125 56.984375 36.375 \nQ 56.984375 17.96875 50.515625 8.265625 \nQ 44.046875 -1.421875 31.78125 -1.421875 \nQ 19.53125 -1.421875 13.0625 8.265625 \nQ 6.59375 17.96875 6.59375 36.375 \nQ 6.59375 54.828125 13.0625 64.515625 \nQ 19.53125 74.21875 31.78125 74.21875 \nz\n\" id=\"DejaVuSans-48\"/>\n     </defs>\n     <g transform=\"translate(83.67625 61.650781)scale(0.07 -0.07)\">\n      <use xlink:href=\"#DejaVuSans-48\"/>\n     </g>\n    </g>\n    <g id=\"patch_4\">\n     <path d=\"M 141.703125 65.719219 \nL 253.303125 65.719219 \nL 253.303125 53.719219 \nL 141.703125 53.719219 \nz\n\" style=\"fill:#ffffff;stroke:#000000;stroke-linejoin:miter;\"/>\n    </g>\n    <g id=\"text_2\">\n     <!-- 1 -->\n     <defs>\n      <path d=\"M 12.40625 8.296875 \nL 28.515625 8.296875 \nL 28.515625 63.921875 \nL 10.984375 60.40625 \nL 10.984375 69.390625 \nL 28.421875 72.90625 \nL 38.28125 72.90625 \nL 38.28125 8.296875 \nL 54.390625 8.296875 \nL 54.390625 0 \nL 12.40625 0 \nz\n\" id=\"DejaVuSans-49\"/>\n     </defs>\n     <g transform=\"translate(195.27625 61.650781)scale(0.07 -0.07)\">\n      <use xlink:href=\"#DejaVuSans-49\"/>\n     </g>\n    </g>\n    <g id=\"patch_5\">\n     <path d=\"M 253.303125 65.719219 \nL 364.903125 65.719219 \nL 364.903125 53.719219 \nL 253.303125 53.719219 \nz\n\" style=\"fill:#ffffff;stroke:#000000;stroke-linejoin:miter;\"/>\n    </g>\n    <g id=\"text_3\">\n     <!-- 2 -->\n     <defs>\n      <path d=\"M 19.1875 8.296875 \nL 53.609375 8.296875 \nL 53.609375 0 \nL 7.328125 0 \nL 7.328125 8.296875 \nQ 12.9375 14.109375 22.625 23.890625 \nQ 32.328125 33.6875 34.8125 36.53125 \nQ 39.546875 41.84375 41.421875 45.53125 \nQ 43.3125 49.21875 43.3125 52.78125 \nQ 43.3125 58.59375 39.234375 62.25 \nQ 35.15625 65.921875 28.609375 65.921875 \nQ 23.96875 65.921875 18.8125 64.3125 \nQ 13.671875 62.703125 7.8125 59.421875 \nL 7.8125 69.390625 \nQ 13.765625 71.78125 18.9375 73 \nQ 24.125 74.21875 28.421875 74.21875 \nQ 39.75 74.21875 46.484375 68.546875 \nQ 53.21875 62.890625 53.21875 53.421875 \nQ 53.21875 48.921875 51.53125 44.890625 \nQ 49.859375 40.875 45.40625 35.40625 \nQ 44.1875 33.984375 37.640625 27.21875 \nQ 31.109375 20.453125 19.1875 8.296875 \nz\n\" id=\"DejaVuSans-50\"/>\n     </defs>\n     <g transform=\"translate(306.87625 61.650781)scale(0.07 -0.07)\">\n      <use xlink:href=\"#DejaVuSans-50\"/>\n     </g>\n    </g>\n    <g id=\"patch_6\">\n     <path d=\"M 30.103125 77.719219 \nL 141.703125 77.719219 \nL 141.703125 65.719219 \nL 30.103125 65.719219 \nz\n\" style=\"fill:#ffffff;stroke:#000000;stroke-linejoin:miter;\"/>\n    </g>\n    <g id=\"text_4\">\n     <!-- 0.039379308290872106 -->\n     <defs>\n      <path d=\"M 10.6875 12.40625 \nL 21 12.40625 \nL 21 0 \nL 10.6875 0 \nz\n\" id=\"DejaVuSans-46\"/>\n      <path d=\"M 40.578125 39.3125 \nQ 47.65625 37.796875 51.625 33 \nQ 55.609375 28.21875 55.609375 21.1875 \nQ 55.609375 10.40625 48.1875 4.484375 \nQ 40.765625 -1.421875 27.09375 -1.421875 \nQ 22.515625 -1.421875 17.65625 -0.515625 \nQ 12.796875 0.390625 7.625 2.203125 \nL 7.625 11.71875 \nQ 11.71875 9.328125 16.59375 8.109375 \nQ 21.484375 6.890625 26.8125 6.890625 \nQ 36.078125 6.890625 40.9375 10.546875 \nQ 45.796875 14.203125 45.796875 21.1875 \nQ 45.796875 27.640625 41.28125 31.265625 \nQ 36.765625 34.90625 28.71875 34.90625 \nL 20.21875 34.90625 \nL 20.21875 43.015625 \nL 29.109375 43.015625 \nQ 36.375 43.015625 40.234375 45.921875 \nQ 44.09375 48.828125 44.09375 54.296875 \nQ 44.09375 59.90625 40.109375 62.90625 \nQ 36.140625 65.921875 28.71875 65.921875 \nQ 24.65625 65.921875 20.015625 65.03125 \nQ 15.375 64.15625 9.8125 62.3125 \nL 9.8125 71.09375 \nQ 15.4375 72.65625 20.34375 73.4375 \nQ 25.25 74.21875 29.59375 74.21875 \nQ 40.828125 74.21875 47.359375 69.109375 \nQ 53.90625 64.015625 53.90625 55.328125 \nQ 53.90625 49.265625 50.4375 45.09375 \nQ 46.96875 40.921875 40.578125 39.3125 \nz\n\" id=\"DejaVuSans-51\"/>\n      <path d=\"M 10.984375 1.515625 \nL 10.984375 10.5 \nQ 14.703125 8.734375 18.5 7.8125 \nQ 22.3125 6.890625 25.984375 6.890625 \nQ 35.75 6.890625 40.890625 13.453125 \nQ 46.046875 20.015625 46.78125 33.40625 \nQ 43.953125 29.203125 39.59375 26.953125 \nQ 35.25 24.703125 29.984375 24.703125 \nQ 19.046875 24.703125 12.671875 31.3125 \nQ 6.296875 37.9375 6.296875 49.421875 \nQ 6.296875 60.640625 12.9375 67.421875 \nQ 19.578125 74.21875 30.609375 74.21875 \nQ 43.265625 74.21875 49.921875 64.515625 \nQ 56.59375 54.828125 56.59375 36.375 \nQ 56.59375 19.140625 48.40625 8.859375 \nQ 40.234375 -1.421875 26.421875 -1.421875 \nQ 22.703125 -1.421875 18.890625 -0.6875 \nQ 15.09375 0.046875 10.984375 1.515625 \nz\nM 30.609375 32.421875 \nQ 37.25 32.421875 41.125 36.953125 \nQ 45.015625 41.5 45.015625 49.421875 \nQ 45.015625 57.28125 41.125 61.84375 \nQ 37.25 66.40625 30.609375 66.40625 \nQ 23.96875 66.40625 20.09375 61.84375 \nQ 16.21875 57.28125 16.21875 49.421875 \nQ 16.21875 41.5 20.09375 36.953125 \nQ 23.96875 32.421875 30.609375 32.421875 \nz\n\" id=\"DejaVuSans-57\"/>\n      <path d=\"M 8.203125 72.90625 \nL 55.078125 72.90625 \nL 55.078125 68.703125 \nL 28.609375 0 \nL 18.3125 0 \nL 43.21875 64.59375 \nL 8.203125 64.59375 \nz\n\" id=\"DejaVuSans-55\"/>\n      <path d=\"M 31.78125 34.625 \nQ 24.75 34.625 20.71875 30.859375 \nQ 16.703125 27.09375 16.703125 20.515625 \nQ 16.703125 13.921875 20.71875 10.15625 \nQ 24.75 6.390625 31.78125 6.390625 \nQ 38.8125 6.390625 42.859375 10.171875 \nQ 46.921875 13.96875 46.921875 20.515625 \nQ 46.921875 27.09375 42.890625 30.859375 \nQ 38.875 34.625 31.78125 34.625 \nz\nM 21.921875 38.8125 \nQ 15.578125 40.375 12.03125 44.71875 \nQ 8.5 49.078125 8.5 55.328125 \nQ 8.5 64.0625 14.71875 69.140625 \nQ 20.953125 74.21875 31.78125 74.21875 \nQ 42.671875 74.21875 48.875 69.140625 \nQ 55.078125 64.0625 55.078125 55.328125 \nQ 55.078125 49.078125 51.53125 44.71875 \nQ 48 40.375 41.703125 38.8125 \nQ 48.828125 37.15625 52.796875 32.3125 \nQ 56.78125 27.484375 56.78125 20.515625 \nQ 56.78125 9.90625 50.3125 4.234375 \nQ 43.84375 -1.421875 31.78125 -1.421875 \nQ 19.734375 -1.421875 13.25 4.234375 \nQ 6.78125 9.90625 6.78125 20.515625 \nQ 6.78125 27.484375 10.78125 32.3125 \nQ 14.796875 37.15625 21.921875 38.8125 \nz\nM 18.3125 54.390625 \nQ 18.3125 48.734375 21.84375 45.5625 \nQ 25.390625 42.390625 31.78125 42.390625 \nQ 38.140625 42.390625 41.71875 45.5625 \nQ 45.3125 48.734375 45.3125 54.390625 \nQ 45.3125 60.0625 41.71875 63.234375 \nQ 38.140625 66.40625 31.78125 66.40625 \nQ 25.390625 66.40625 21.84375 63.234375 \nQ 18.3125 60.0625 18.3125 54.390625 \nz\n\" id=\"DejaVuSans-56\"/>\n      <path d=\"M 33.015625 40.375 \nQ 26.375 40.375 22.484375 35.828125 \nQ 18.609375 31.296875 18.609375 23.390625 \nQ 18.609375 15.53125 22.484375 10.953125 \nQ 26.375 6.390625 33.015625 6.390625 \nQ 39.65625 6.390625 43.53125 10.953125 \nQ 47.40625 15.53125 47.40625 23.390625 \nQ 47.40625 31.296875 43.53125 35.828125 \nQ 39.65625 40.375 33.015625 40.375 \nz\nM 52.59375 71.296875 \nL 52.59375 62.3125 \nQ 48.875 64.0625 45.09375 64.984375 \nQ 41.3125 65.921875 37.59375 65.921875 \nQ 27.828125 65.921875 22.671875 59.328125 \nQ 17.53125 52.734375 16.796875 39.40625 \nQ 19.671875 43.65625 24.015625 45.921875 \nQ 28.375 48.1875 33.59375 48.1875 \nQ 44.578125 48.1875 50.953125 41.515625 \nQ 57.328125 34.859375 57.328125 23.390625 \nQ 57.328125 12.15625 50.6875 5.359375 \nQ 44.046875 -1.421875 33.015625 -1.421875 \nQ 20.359375 -1.421875 13.671875 8.265625 \nQ 6.984375 17.96875 6.984375 36.375 \nQ 6.984375 53.65625 15.1875 63.9375 \nQ 23.390625 74.21875 37.203125 74.21875 \nQ 40.921875 74.21875 44.703125 73.484375 \nQ 48.484375 72.75 52.59375 71.296875 \nz\n\" id=\"DejaVuSans-54\"/>\n     </defs>\n     <g transform=\"translate(43.697188 73.650781)scale(0.07 -0.07)\">\n      <use xlink:href=\"#DejaVuSans-48\"/>\n      <use x=\"63.623047\" xlink:href=\"#DejaVuSans-46\"/>\n      <use x=\"95.410156\" xlink:href=\"#DejaVuSans-48\"/>\n      <use x=\"159.033203\" xlink:href=\"#DejaVuSans-51\"/>\n      <use x=\"222.65625\" xlink:href=\"#DejaVuSans-57\"/>\n      <use x=\"286.279297\" xlink:href=\"#DejaVuSans-51\"/>\n      <use x=\"349.902344\" xlink:href=\"#DejaVuSans-55\"/>\n      <use x=\"413.525391\" xlink:href=\"#DejaVuSans-57\"/>\n      <use x=\"477.148438\" xlink:href=\"#DejaVuSans-51\"/>\n      <use x=\"540.771484\" xlink:href=\"#DejaVuSans-48\"/>\n      <use x=\"604.394531\" xlink:href=\"#DejaVuSans-56\"/>\n      <use x=\"668.017578\" xlink:href=\"#DejaVuSans-50\"/>\n      <use x=\"731.640625\" xlink:href=\"#DejaVuSans-57\"/>\n      <use x=\"795.263672\" xlink:href=\"#DejaVuSans-48\"/>\n      <use x=\"858.886719\" xlink:href=\"#DejaVuSans-56\"/>\n      <use x=\"922.509766\" xlink:href=\"#DejaVuSans-55\"/>\n      <use x=\"986.132812\" xlink:href=\"#DejaVuSans-50\"/>\n      <use x=\"1049.755859\" xlink:href=\"#DejaVuSans-49\"/>\n      <use x=\"1113.378906\" xlink:href=\"#DejaVuSans-48\"/>\n      <use x=\"1177.001953\" xlink:href=\"#DejaVuSans-54\"/>\n     </g>\n    </g>\n    <g id=\"patch_7\">\n     <path d=\"M 141.703125 77.719219 \nL 253.303125 77.719219 \nL 253.303125 65.719219 \nL 141.703125 65.719219 \nz\n\" style=\"fill:#ffffff;stroke:#000000;stroke-linejoin:miter;\"/>\n    </g>\n    <g id=\"text_5\">\n     <!-- 0.0909472185435436 -->\n     <defs>\n      <path d=\"M 37.796875 64.3125 \nL 12.890625 25.390625 \nL 37.796875 25.390625 \nz\nM 35.203125 72.90625 \nL 47.609375 72.90625 \nL 47.609375 25.390625 \nL 58.015625 25.390625 \nL 58.015625 17.1875 \nL 47.609375 17.1875 \nL 47.609375 0 \nL 37.796875 0 \nL 37.796875 17.1875 \nL 4.890625 17.1875 \nL 4.890625 26.703125 \nz\n\" id=\"DejaVuSans-52\"/>\n      <path d=\"M 10.796875 72.90625 \nL 49.515625 72.90625 \nL 49.515625 64.59375 \nL 19.828125 64.59375 \nL 19.828125 46.734375 \nQ 21.96875 47.46875 24.109375 47.828125 \nQ 26.265625 48.1875 28.421875 48.1875 \nQ 40.625 48.1875 47.75 41.5 \nQ 54.890625 34.8125 54.890625 23.390625 \nQ 54.890625 11.625 47.5625 5.09375 \nQ 40.234375 -1.421875 26.90625 -1.421875 \nQ 22.3125 -1.421875 17.546875 -0.640625 \nQ 12.796875 0.140625 7.71875 1.703125 \nL 7.71875 11.625 \nQ 12.109375 9.234375 16.796875 8.0625 \nQ 21.484375 6.890625 26.703125 6.890625 \nQ 35.15625 6.890625 40.078125 11.328125 \nQ 45.015625 15.765625 45.015625 23.390625 \nQ 45.015625 31 40.078125 35.4375 \nQ 35.15625 39.890625 26.703125 39.890625 \nQ 22.75 39.890625 18.8125 39.015625 \nQ 14.890625 38.140625 10.796875 36.28125 \nz\n\" id=\"DejaVuSans-53\"/>\n     </defs>\n     <g transform=\"translate(164.204688 73.650781)scale(0.07 -0.07)\">\n      <use xlink:href=\"#DejaVuSans-48\"/>\n      <use x=\"63.623047\" xlink:href=\"#DejaVuSans-46\"/>\n      <use x=\"95.410156\" xlink:href=\"#DejaVuSans-48\"/>\n      <use x=\"159.033203\" xlink:href=\"#DejaVuSans-57\"/>\n      <use x=\"222.65625\" xlink:href=\"#DejaVuSans-48\"/>\n      <use x=\"286.279297\" xlink:href=\"#DejaVuSans-57\"/>\n      <use x=\"349.902344\" xlink:href=\"#DejaVuSans-52\"/>\n      <use x=\"413.525391\" xlink:href=\"#DejaVuSans-55\"/>\n      <use x=\"477.148438\" xlink:href=\"#DejaVuSans-50\"/>\n      <use x=\"540.771484\" xlink:href=\"#DejaVuSans-49\"/>\n      <use x=\"604.394531\" xlink:href=\"#DejaVuSans-56\"/>\n      <use x=\"668.017578\" xlink:href=\"#DejaVuSans-53\"/>\n      <use x=\"731.640625\" xlink:href=\"#DejaVuSans-52\"/>\n      <use x=\"795.263672\" xlink:href=\"#DejaVuSans-51\"/>\n      <use x=\"858.886719\" xlink:href=\"#DejaVuSans-53\"/>\n      <use x=\"922.509766\" xlink:href=\"#DejaVuSans-52\"/>\n      <use x=\"986.132812\" xlink:href=\"#DejaVuSans-51\"/>\n      <use x=\"1049.755859\" xlink:href=\"#DejaVuSans-54\"/>\n     </g>\n    </g>\n    <g id=\"patch_8\">\n     <path d=\"M 253.303125 77.719219 \nL 364.903125 77.719219 \nL 364.903125 65.719219 \nL 253.303125 65.719219 \nz\n\" style=\"fill:#ffffff;stroke:#000000;stroke-linejoin:miter;\"/>\n    </g>\n    <g id=\"text_6\">\n     <!-- 0.8921027064276265 -->\n     <g transform=\"translate(275.804688 73.650781)scale(0.07 -0.07)\">\n      <use xlink:href=\"#DejaVuSans-48\"/>\n      <use x=\"63.623047\" xlink:href=\"#DejaVuSans-46\"/>\n      <use x=\"95.410156\" xlink:href=\"#DejaVuSans-56\"/>\n      <use x=\"159.033203\" xlink:href=\"#DejaVuSans-57\"/>\n      <use x=\"222.65625\" xlink:href=\"#DejaVuSans-50\"/>\n      <use x=\"286.279297\" xlink:href=\"#DejaVuSans-49\"/>\n      <use x=\"349.902344\" xlink:href=\"#DejaVuSans-48\"/>\n      <use x=\"413.525391\" xlink:href=\"#DejaVuSans-50\"/>\n      <use x=\"477.148438\" xlink:href=\"#DejaVuSans-55\"/>\n      <use x=\"540.771484\" xlink:href=\"#DejaVuSans-48\"/>\n      <use x=\"604.394531\" xlink:href=\"#DejaVuSans-54\"/>\n      <use x=\"668.017578\" xlink:href=\"#DejaVuSans-52\"/>\n      <use x=\"731.640625\" xlink:href=\"#DejaVuSans-50\"/>\n      <use x=\"795.263672\" xlink:href=\"#DejaVuSans-55\"/>\n      <use x=\"858.886719\" xlink:href=\"#DejaVuSans-54\"/>\n      <use x=\"922.509766\" xlink:href=\"#DejaVuSans-50\"/>\n      <use x=\"986.132812\" xlink:href=\"#DejaVuSans-54\"/>\n      <use x=\"1049.755859\" xlink:href=\"#DejaVuSans-53\"/>\n     </g>\n    </g>\n    <g id=\"patch_9\">\n     <path d=\"M 30.103125 89.719219 \nL 141.703125 89.719219 \nL 141.703125 77.719219 \nL 30.103125 77.719219 \nz\n\" style=\"fill:#ffffff;stroke:#000000;stroke-linejoin:miter;\"/>\n    </g>\n    <g id=\"text_7\">\n     <!-- 0.4429149645432502 -->\n     <g transform=\"translate(52.604688 85.650781)scale(0.07 -0.07)\">\n      <use xlink:href=\"#DejaVuSans-48\"/>\n      <use x=\"63.623047\" xlink:href=\"#DejaVuSans-46\"/>\n      <use x=\"95.410156\" xlink:href=\"#DejaVuSans-52\"/>\n      <use x=\"159.033203\" xlink:href=\"#DejaVuSans-52\"/>\n      <use x=\"222.65625\" xlink:href=\"#DejaVuSans-50\"/>\n      <use x=\"286.279297\" xlink:href=\"#DejaVuSans-57\"/>\n      <use x=\"349.902344\" xlink:href=\"#DejaVuSans-49\"/>\n      <use x=\"413.525391\" xlink:href=\"#DejaVuSans-52\"/>\n      <use x=\"477.148438\" xlink:href=\"#DejaVuSans-57\"/>\n      <use x=\"540.771484\" xlink:href=\"#DejaVuSans-54\"/>\n      <use x=\"604.394531\" xlink:href=\"#DejaVuSans-52\"/>\n      <use x=\"668.017578\" xlink:href=\"#DejaVuSans-53\"/>\n      <use x=\"731.640625\" xlink:href=\"#DejaVuSans-52\"/>\n      <use x=\"795.263672\" xlink:href=\"#DejaVuSans-51\"/>\n      <use x=\"858.886719\" xlink:href=\"#DejaVuSans-50\"/>\n      <use x=\"922.509766\" xlink:href=\"#DejaVuSans-53\"/>\n      <use x=\"986.132812\" xlink:href=\"#DejaVuSans-48\"/>\n      <use x=\"1049.755859\" xlink:href=\"#DejaVuSans-50\"/>\n     </g>\n    </g>\n    <g id=\"patch_10\">\n     <path d=\"M 141.703125 89.719219 \nL 253.303125 89.719219 \nL 253.303125 77.719219 \nL 141.703125 77.719219 \nz\n\" style=\"fill:#ffffff;stroke:#000000;stroke-linejoin:miter;\"/>\n    </g>\n    <g id=\"text_8\">\n     <!-- 0.17836368035712358 -->\n     <g transform=\"translate(159.750938 85.650781)scale(0.07 -0.07)\">\n      <use xlink:href=\"#DejaVuSans-48\"/>\n      <use x=\"63.623047\" xlink:href=\"#DejaVuSans-46\"/>\n      <use x=\"95.410156\" xlink:href=\"#DejaVuSans-49\"/>\n      <use x=\"159.033203\" xlink:href=\"#DejaVuSans-55\"/>\n      <use x=\"222.65625\" xlink:href=\"#DejaVuSans-56\"/>\n      <use x=\"286.279297\" xlink:href=\"#DejaVuSans-51\"/>\n      <use x=\"349.902344\" xlink:href=\"#DejaVuSans-54\"/>\n      <use x=\"413.525391\" xlink:href=\"#DejaVuSans-51\"/>\n      <use x=\"477.148438\" xlink:href=\"#DejaVuSans-54\"/>\n      <use x=\"540.771484\" xlink:href=\"#DejaVuSans-56\"/>\n      <use x=\"604.394531\" xlink:href=\"#DejaVuSans-48\"/>\n      <use x=\"668.017578\" xlink:href=\"#DejaVuSans-51\"/>\n      <use x=\"731.640625\" xlink:href=\"#DejaVuSans-53\"/>\n      <use x=\"795.263672\" xlink:href=\"#DejaVuSans-55\"/>\n      <use x=\"858.886719\" xlink:href=\"#DejaVuSans-49\"/>\n      <use x=\"922.509766\" xlink:href=\"#DejaVuSans-50\"/>\n      <use x=\"986.132812\" xlink:href=\"#DejaVuSans-51\"/>\n      <use x=\"1049.755859\" xlink:href=\"#DejaVuSans-53\"/>\n      <use x=\"1113.378906\" xlink:href=\"#DejaVuSans-56\"/>\n     </g>\n    </g>\n    <g id=\"patch_11\">\n     <path d=\"M 253.303125 89.719219 \nL 364.903125 89.719219 \nL 364.903125 77.719219 \nL 253.303125 77.719219 \nz\n\" style=\"fill:#ffffff;stroke:#000000;stroke-linejoin:miter;\"/>\n    </g>\n    <g id=\"text_9\">\n     <!-- 0.8247642562538714 -->\n     <g transform=\"translate(275.804688 85.650781)scale(0.07 -0.07)\">\n      <use xlink:href=\"#DejaVuSans-48\"/>\n      <use x=\"63.623047\" xlink:href=\"#DejaVuSans-46\"/>\n      <use x=\"95.410156\" xlink:href=\"#DejaVuSans-56\"/>\n      <use x=\"159.033203\" xlink:href=\"#DejaVuSans-50\"/>\n      <use x=\"222.65625\" xlink:href=\"#DejaVuSans-52\"/>\n      <use x=\"286.279297\" xlink:href=\"#DejaVuSans-55\"/>\n      <use x=\"349.902344\" xlink:href=\"#DejaVuSans-54\"/>\n      <use x=\"413.525391\" xlink:href=\"#DejaVuSans-52\"/>\n      <use x=\"477.148438\" xlink:href=\"#DejaVuSans-50\"/>\n      <use x=\"540.771484\" xlink:href=\"#DejaVuSans-53\"/>\n      <use x=\"604.394531\" xlink:href=\"#DejaVuSans-54\"/>\n      <use x=\"668.017578\" xlink:href=\"#DejaVuSans-50\"/>\n      <use x=\"731.640625\" xlink:href=\"#DejaVuSans-53\"/>\n      <use x=\"795.263672\" xlink:href=\"#DejaVuSans-51\"/>\n      <use x=\"858.886719\" xlink:href=\"#DejaVuSans-56\"/>\n      <use x=\"922.509766\" xlink:href=\"#DejaVuSans-55\"/>\n      <use x=\"986.132812\" xlink:href=\"#DejaVuSans-49\"/>\n      <use x=\"1049.755859\" xlink:href=\"#DejaVuSans-52\"/>\n     </g>\n    </g>\n    <g id=\"patch_12\">\n     <path d=\"M 30.103125 101.719219 \nL 141.703125 101.719219 \nL 141.703125 89.719219 \nL 30.103125 89.719219 \nz\n\" style=\"fill:#ffffff;stroke:#000000;stroke-linejoin:miter;\"/>\n    </g>\n    <g id=\"text_10\">\n     <!-- 0.3909612176059851 -->\n     <g transform=\"translate(52.604688 97.650781)scale(0.07 -0.07)\">\n      <use xlink:href=\"#DejaVuSans-48\"/>\n      <use x=\"63.623047\" xlink:href=\"#DejaVuSans-46\"/>\n      <use x=\"95.410156\" xlink:href=\"#DejaVuSans-51\"/>\n      <use x=\"159.033203\" xlink:href=\"#DejaVuSans-57\"/>\n      <use x=\"222.65625\" xlink:href=\"#DejaVuSans-48\"/>\n      <use x=\"286.279297\" xlink:href=\"#DejaVuSans-57\"/>\n      <use x=\"349.902344\" xlink:href=\"#DejaVuSans-54\"/>\n      <use x=\"413.525391\" xlink:href=\"#DejaVuSans-49\"/>\n      <use x=\"477.148438\" xlink:href=\"#DejaVuSans-50\"/>\n      <use x=\"540.771484\" xlink:href=\"#DejaVuSans-49\"/>\n      <use x=\"604.394531\" xlink:href=\"#DejaVuSans-55\"/>\n      <use x=\"668.017578\" xlink:href=\"#DejaVuSans-54\"/>\n      <use x=\"731.640625\" xlink:href=\"#DejaVuSans-48\"/>\n      <use x=\"795.263672\" xlink:href=\"#DejaVuSans-53\"/>\n      <use x=\"858.886719\" xlink:href=\"#DejaVuSans-57\"/>\n      <use x=\"922.509766\" xlink:href=\"#DejaVuSans-56\"/>\n      <use x=\"986.132812\" xlink:href=\"#DejaVuSans-53\"/>\n      <use x=\"1049.755859\" xlink:href=\"#DejaVuSans-49\"/>\n     </g>\n    </g>\n    <g id=\"patch_13\">\n     <path d=\"M 141.703125 101.719219 \nL 253.303125 101.719219 \nL 253.303125 89.719219 \nL 141.703125 89.719219 \nz\n\" style=\"fill:#ffffff;stroke:#000000;stroke-linejoin:miter;\"/>\n    </g>\n    <g id=\"text_11\">\n     <!-- 0.7578548594267035 -->\n     <g transform=\"translate(164.204688 97.650781)scale(0.07 -0.07)\">\n      <use xlink:href=\"#DejaVuSans-48\"/>\n      <use x=\"63.623047\" xlink:href=\"#DejaVuSans-46\"/>\n      <use x=\"95.410156\" xlink:href=\"#DejaVuSans-55\"/>\n      <use x=\"159.033203\" xlink:href=\"#DejaVuSans-53\"/>\n      <use x=\"222.65625\" xlink:href=\"#DejaVuSans-55\"/>\n      <use x=\"286.279297\" xlink:href=\"#DejaVuSans-56\"/>\n      <use x=\"349.902344\" xlink:href=\"#DejaVuSans-53\"/>\n      <use x=\"413.525391\" xlink:href=\"#DejaVuSans-52\"/>\n      <use x=\"477.148438\" xlink:href=\"#DejaVuSans-56\"/>\n      <use x=\"540.771484\" xlink:href=\"#DejaVuSans-53\"/>\n      <use x=\"604.394531\" xlink:href=\"#DejaVuSans-57\"/>\n      <use x=\"668.017578\" xlink:href=\"#DejaVuSans-52\"/>\n      <use x=\"731.640625\" xlink:href=\"#DejaVuSans-50\"/>\n      <use x=\"795.263672\" xlink:href=\"#DejaVuSans-54\"/>\n      <use x=\"858.886719\" xlink:href=\"#DejaVuSans-55\"/>\n      <use x=\"922.509766\" xlink:href=\"#DejaVuSans-48\"/>\n      <use x=\"986.132812\" xlink:href=\"#DejaVuSans-51\"/>\n      <use x=\"1049.755859\" xlink:href=\"#DejaVuSans-53\"/>\n     </g>\n    </g>\n    <g id=\"patch_14\">\n     <path d=\"M 253.303125 101.719219 \nL 364.903125 101.719219 \nL 364.903125 89.719219 \nL 253.303125 89.719219 \nz\n\" style=\"fill:#ffffff;stroke:#000000;stroke-linejoin:miter;\"/>\n    </g>\n    <g id=\"text_12\">\n     <!-- 0.8236986538780513 -->\n     <g transform=\"translate(275.804688 97.650781)scale(0.07 -0.07)\">\n      <use xlink:href=\"#DejaVuSans-48\"/>\n      <use x=\"63.623047\" xlink:href=\"#DejaVuSans-46\"/>\n      <use x=\"95.410156\" xlink:href=\"#DejaVuSans-56\"/>\n      <use x=\"159.033203\" xlink:href=\"#DejaVuSans-50\"/>\n      <use x=\"222.65625\" xlink:href=\"#DejaVuSans-51\"/>\n      <use x=\"286.279297\" xlink:href=\"#DejaVuSans-54\"/>\n      <use x=\"349.902344\" xlink:href=\"#DejaVuSans-57\"/>\n      <use x=\"413.525391\" xlink:href=\"#DejaVuSans-56\"/>\n      <use x=\"477.148438\" xlink:href=\"#DejaVuSans-54\"/>\n      <use x=\"540.771484\" xlink:href=\"#DejaVuSans-53\"/>\n      <use x=\"604.394531\" xlink:href=\"#DejaVuSans-51\"/>\n      <use x=\"668.017578\" xlink:href=\"#DejaVuSans-56\"/>\n      <use x=\"731.640625\" xlink:href=\"#DejaVuSans-55\"/>\n      <use x=\"795.263672\" xlink:href=\"#DejaVuSans-56\"/>\n      <use x=\"858.886719\" xlink:href=\"#DejaVuSans-48\"/>\n      <use x=\"922.509766\" xlink:href=\"#DejaVuSans-53\"/>\n      <use x=\"986.132812\" xlink:href=\"#DejaVuSans-49\"/>\n      <use x=\"1049.755859\" xlink:href=\"#DejaVuSans-51\"/>\n     </g>\n    </g>\n    <g id=\"patch_15\">\n     <path d=\"M 30.103125 113.719219 \nL 141.703125 113.719219 \nL 141.703125 101.719219 \nL 30.103125 101.719219 \nz\n\" style=\"fill:#ffffff;stroke:#000000;stroke-linejoin:miter;\"/>\n    </g>\n    <g id=\"text_13\">\n     <!-- 0.14000383449254872 -->\n     <g transform=\"translate(48.150938 109.650781)scale(0.07 -0.07)\">\n      <use xlink:href=\"#DejaVuSans-48\"/>\n      <use x=\"63.623047\" xlink:href=\"#DejaVuSans-46\"/>\n      <use x=\"95.410156\" xlink:href=\"#DejaVuSans-49\"/>\n      <use x=\"159.033203\" xlink:href=\"#DejaVuSans-52\"/>\n      <use x=\"222.65625\" xlink:href=\"#DejaVuSans-48\"/>\n      <use x=\"286.279297\" xlink:href=\"#DejaVuSans-48\"/>\n      <use x=\"349.902344\" xlink:href=\"#DejaVuSans-48\"/>\n      <use x=\"413.525391\" xlink:href=\"#DejaVuSans-51\"/>\n      <use x=\"477.148438\" xlink:href=\"#DejaVuSans-56\"/>\n      <use x=\"540.771484\" xlink:href=\"#DejaVuSans-51\"/>\n      <use x=\"604.394531\" xlink:href=\"#DejaVuSans-52\"/>\n      <use x=\"668.017578\" xlink:href=\"#DejaVuSans-52\"/>\n      <use x=\"731.640625\" xlink:href=\"#DejaVuSans-57\"/>\n      <use x=\"795.263672\" xlink:href=\"#DejaVuSans-50\"/>\n      <use x=\"858.886719\" xlink:href=\"#DejaVuSans-53\"/>\n      <use x=\"922.509766\" xlink:href=\"#DejaVuSans-52\"/>\n      <use x=\"986.132812\" xlink:href=\"#DejaVuSans-56\"/>\n      <use x=\"1049.755859\" xlink:href=\"#DejaVuSans-55\"/>\n      <use x=\"1113.378906\" xlink:href=\"#DejaVuSans-50\"/>\n     </g>\n    </g>\n    <g id=\"patch_16\">\n     <path d=\"M 141.703125 113.719219 \nL 253.303125 113.719219 \nL 253.303125 101.719219 \nL 141.703125 101.719219 \nz\n\" style=\"fill:#ffffff;stroke:#000000;stroke-linejoin:miter;\"/>\n    </g>\n    <g id=\"text_14\">\n     <!-- 0.7784604818161567 -->\n     <g transform=\"translate(164.204688 109.650781)scale(0.07 -0.07)\">\n      <use xlink:href=\"#DejaVuSans-48\"/>\n      <use x=\"63.623047\" xlink:href=\"#DejaVuSans-46\"/>\n      <use x=\"95.410156\" xlink:href=\"#DejaVuSans-55\"/>\n      <use x=\"159.033203\" xlink:href=\"#DejaVuSans-55\"/>\n      <use x=\"222.65625\" xlink:href=\"#DejaVuSans-56\"/>\n      <use x=\"286.279297\" xlink:href=\"#DejaVuSans-52\"/>\n      <use x=\"349.902344\" xlink:href=\"#DejaVuSans-54\"/>\n      <use x=\"413.525391\" xlink:href=\"#DejaVuSans-48\"/>\n      <use x=\"477.148438\" xlink:href=\"#DejaVuSans-52\"/>\n      <use x=\"540.771484\" xlink:href=\"#DejaVuSans-56\"/>\n      <use x=\"604.394531\" xlink:href=\"#DejaVuSans-49\"/>\n      <use x=\"668.017578\" xlink:href=\"#DejaVuSans-56\"/>\n      <use x=\"731.640625\" xlink:href=\"#DejaVuSans-49\"/>\n      <use x=\"795.263672\" xlink:href=\"#DejaVuSans-54\"/>\n      <use x=\"858.886719\" xlink:href=\"#DejaVuSans-49\"/>\n      <use x=\"922.509766\" xlink:href=\"#DejaVuSans-53\"/>\n      <use x=\"986.132812\" xlink:href=\"#DejaVuSans-54\"/>\n      <use x=\"1049.755859\" xlink:href=\"#DejaVuSans-55\"/>\n     </g>\n    </g>\n    <g id=\"patch_17\">\n     <path d=\"M 253.303125 113.719219 \nL 364.903125 113.719219 \nL 364.903125 101.719219 \nL 253.303125 101.719219 \nz\n\" style=\"fill:#ffffff;stroke:#000000;stroke-linejoin:miter;\"/>\n    </g>\n    <g id=\"text_15\">\n     <!-- 0.016864475776727672 -->\n     <g transform=\"translate(266.897188 109.650781)scale(0.07 -0.07)\">\n      <use xlink:href=\"#DejaVuSans-48\"/>\n      <use x=\"63.623047\" xlink:href=\"#DejaVuSans-46\"/>\n      <use x=\"95.410156\" xlink:href=\"#DejaVuSans-48\"/>\n      <use x=\"159.033203\" xlink:href=\"#DejaVuSans-49\"/>\n      <use x=\"222.65625\" xlink:href=\"#DejaVuSans-54\"/>\n      <use x=\"286.279297\" xlink:href=\"#DejaVuSans-56\"/>\n      <use x=\"349.902344\" xlink:href=\"#DejaVuSans-54\"/>\n      <use x=\"413.525391\" xlink:href=\"#DejaVuSans-52\"/>\n      <use x=\"477.148438\" xlink:href=\"#DejaVuSans-52\"/>\n      <use x=\"540.771484\" xlink:href=\"#DejaVuSans-55\"/>\n      <use x=\"604.394531\" xlink:href=\"#DejaVuSans-53\"/>\n      <use x=\"668.017578\" xlink:href=\"#DejaVuSans-55\"/>\n      <use x=\"731.640625\" xlink:href=\"#DejaVuSans-55\"/>\n      <use x=\"795.263672\" xlink:href=\"#DejaVuSans-54\"/>\n      <use x=\"858.886719\" xlink:href=\"#DejaVuSans-55\"/>\n      <use x=\"922.509766\" xlink:href=\"#DejaVuSans-50\"/>\n      <use x=\"986.132812\" xlink:href=\"#DejaVuSans-55\"/>\n      <use x=\"1049.755859\" xlink:href=\"#DejaVuSans-54\"/>\n      <use x=\"1113.378906\" xlink:href=\"#DejaVuSans-55\"/>\n      <use x=\"1177.001953\" xlink:href=\"#DejaVuSans-50\"/>\n     </g>\n    </g>\n    <g id=\"patch_18\">\n     <path d=\"M 30.103125 125.719219 \nL 141.703125 125.719219 \nL 141.703125 113.719219 \nL 30.103125 113.719219 \nz\n\" style=\"fill:#ffffff;stroke:#000000;stroke-linejoin:miter;\"/>\n    </g>\n    <g id=\"text_16\">\n     <!-- 0.8534145497312349 -->\n     <g transform=\"translate(52.604688 121.650781)scale(0.07 -0.07)\">\n      <use xlink:href=\"#DejaVuSans-48\"/>\n      <use x=\"63.623047\" xlink:href=\"#DejaVuSans-46\"/>\n      <use x=\"95.410156\" xlink:href=\"#DejaVuSans-56\"/>\n      <use x=\"159.033203\" xlink:href=\"#DejaVuSans-53\"/>\n      <use x=\"222.65625\" xlink:href=\"#DejaVuSans-51\"/>\n      <use x=\"286.279297\" xlink:href=\"#DejaVuSans-52\"/>\n      <use x=\"349.902344\" xlink:href=\"#DejaVuSans-49\"/>\n      <use x=\"413.525391\" xlink:href=\"#DejaVuSans-52\"/>\n      <use x=\"477.148438\" xlink:href=\"#DejaVuSans-53\"/>\n      <use x=\"540.771484\" xlink:href=\"#DejaVuSans-52\"/>\n      <use x=\"604.394531\" xlink:href=\"#DejaVuSans-57\"/>\n      <use x=\"668.017578\" xlink:href=\"#DejaVuSans-55\"/>\n      <use x=\"731.640625\" xlink:href=\"#DejaVuSans-51\"/>\n      <use x=\"795.263672\" xlink:href=\"#DejaVuSans-49\"/>\n      <use x=\"858.886719\" xlink:href=\"#DejaVuSans-50\"/>\n      <use x=\"922.509766\" xlink:href=\"#DejaVuSans-51\"/>\n      <use x=\"986.132812\" xlink:href=\"#DejaVuSans-52\"/>\n      <use x=\"1049.755859\" xlink:href=\"#DejaVuSans-57\"/>\n     </g>\n    </g>\n    <g id=\"patch_19\">\n     <path d=\"M 141.703125 125.719219 \nL 253.303125 125.719219 \nL 253.303125 113.719219 \nL 141.703125 113.719219 \nz\n\" style=\"fill:#ffffff;stroke:#000000;stroke-linejoin:miter;\"/>\n    </g>\n    <g id=\"text_17\">\n     <!-- 0.19684858946717465 -->\n     <g transform=\"translate(159.750938 121.650781)scale(0.07 -0.07)\">\n      <use xlink:href=\"#DejaVuSans-48\"/>\n      <use x=\"63.623047\" xlink:href=\"#DejaVuSans-46\"/>\n      <use x=\"95.410156\" xlink:href=\"#DejaVuSans-49\"/>\n      <use x=\"159.033203\" xlink:href=\"#DejaVuSans-57\"/>\n      <use x=\"222.65625\" xlink:href=\"#DejaVuSans-54\"/>\n      <use x=\"286.279297\" xlink:href=\"#DejaVuSans-56\"/>\n      <use x=\"349.902344\" xlink:href=\"#DejaVuSans-52\"/>\n      <use x=\"413.525391\" xlink:href=\"#DejaVuSans-56\"/>\n      <use x=\"477.148438\" xlink:href=\"#DejaVuSans-53\"/>\n      <use x=\"540.771484\" xlink:href=\"#DejaVuSans-56\"/>\n      <use x=\"604.394531\" xlink:href=\"#DejaVuSans-57\"/>\n      <use x=\"668.017578\" xlink:href=\"#DejaVuSans-52\"/>\n      <use x=\"731.640625\" xlink:href=\"#DejaVuSans-54\"/>\n      <use x=\"795.263672\" xlink:href=\"#DejaVuSans-55\"/>\n      <use x=\"858.886719\" xlink:href=\"#DejaVuSans-49\"/>\n      <use x=\"922.509766\" xlink:href=\"#DejaVuSans-55\"/>\n      <use x=\"986.132812\" xlink:href=\"#DejaVuSans-52\"/>\n      <use x=\"1049.755859\" xlink:href=\"#DejaVuSans-54\"/>\n      <use x=\"1113.378906\" xlink:href=\"#DejaVuSans-53\"/>\n     </g>\n    </g>\n    <g id=\"patch_20\">\n     <path d=\"M 253.303125 125.719219 \nL 364.903125 125.719219 \nL 364.903125 113.719219 \nL 253.303125 113.719219 \nz\n\" style=\"fill:#ffffff;stroke:#000000;stroke-linejoin:miter;\"/>\n    </g>\n    <g id=\"text_18\">\n     <!-- 0.03488027292996776 -->\n     <g transform=\"translate(271.350938 121.650781)scale(0.07 -0.07)\">\n      <use xlink:href=\"#DejaVuSans-48\"/>\n      <use x=\"63.623047\" xlink:href=\"#DejaVuSans-46\"/>\n      <use x=\"95.410156\" xlink:href=\"#DejaVuSans-48\"/>\n      <use x=\"159.033203\" xlink:href=\"#DejaVuSans-51\"/>\n      <use x=\"222.65625\" xlink:href=\"#DejaVuSans-52\"/>\n      <use x=\"286.279297\" xlink:href=\"#DejaVuSans-56\"/>\n      <use x=\"349.902344\" xlink:href=\"#DejaVuSans-56\"/>\n      <use x=\"413.525391\" xlink:href=\"#DejaVuSans-48\"/>\n      <use x=\"477.148438\" xlink:href=\"#DejaVuSans-50\"/>\n      <use x=\"540.771484\" xlink:href=\"#DejaVuSans-55\"/>\n      <use x=\"604.394531\" xlink:href=\"#DejaVuSans-50\"/>\n      <use x=\"668.017578\" xlink:href=\"#DejaVuSans-57\"/>\n      <use x=\"731.640625\" xlink:href=\"#DejaVuSans-50\"/>\n      <use x=\"795.263672\" xlink:href=\"#DejaVuSans-57\"/>\n      <use x=\"858.886719\" xlink:href=\"#DejaVuSans-57\"/>\n      <use x=\"922.509766\" xlink:href=\"#DejaVuSans-54\"/>\n      <use x=\"986.132812\" xlink:href=\"#DejaVuSans-55\"/>\n      <use x=\"1049.755859\" xlink:href=\"#DejaVuSans-55\"/>\n      <use x=\"1113.378906\" xlink:href=\"#DejaVuSans-54\"/>\n     </g>\n    </g>\n    <g id=\"patch_21\">\n     <path d=\"M 30.103125 137.719219 \nL 141.703125 137.719219 \nL 141.703125 125.719219 \nL 30.103125 125.719219 \nz\n\" style=\"fill:#ffffff;stroke:#000000;stroke-linejoin:miter;\"/>\n    </g>\n    <g id=\"text_19\">\n     <!-- 0.8754695995048876 -->\n     <g transform=\"translate(52.604688 133.650781)scale(0.07 -0.07)\">\n      <use xlink:href=\"#DejaVuSans-48\"/>\n      <use x=\"63.623047\" xlink:href=\"#DejaVuSans-46\"/>\n      <use x=\"95.410156\" xlink:href=\"#DejaVuSans-56\"/>\n      <use x=\"159.033203\" xlink:href=\"#DejaVuSans-55\"/>\n      <use x=\"222.65625\" xlink:href=\"#DejaVuSans-53\"/>\n      <use x=\"286.279297\" xlink:href=\"#DejaVuSans-52\"/>\n      <use x=\"349.902344\" xlink:href=\"#DejaVuSans-54\"/>\n      <use x=\"413.525391\" xlink:href=\"#DejaVuSans-57\"/>\n      <use x=\"477.148438\" xlink:href=\"#DejaVuSans-53\"/>\n      <use x=\"540.771484\" xlink:href=\"#DejaVuSans-57\"/>\n      <use x=\"604.394531\" xlink:href=\"#DejaVuSans-57\"/>\n      <use x=\"668.017578\" xlink:href=\"#DejaVuSans-53\"/>\n      <use x=\"731.640625\" xlink:href=\"#DejaVuSans-48\"/>\n      <use x=\"795.263672\" xlink:href=\"#DejaVuSans-52\"/>\n      <use x=\"858.886719\" xlink:href=\"#DejaVuSans-56\"/>\n      <use x=\"922.509766\" xlink:href=\"#DejaVuSans-56\"/>\n      <use x=\"986.132812\" xlink:href=\"#DejaVuSans-55\"/>\n      <use x=\"1049.755859\" xlink:href=\"#DejaVuSans-54\"/>\n     </g>\n    </g>\n    <g id=\"patch_22\">\n     <path d=\"M 141.703125 137.719219 \nL 253.303125 137.719219 \nL 253.303125 125.719219 \nL 141.703125 125.719219 \nz\n\" style=\"fill:#ffffff;stroke:#000000;stroke-linejoin:miter;\"/>\n    </g>\n    <g id=\"text_20\">\n     <!-- 0.9974191558623137 -->\n     <g transform=\"translate(164.204688 133.650781)scale(0.07 -0.07)\">\n      <use xlink:href=\"#DejaVuSans-48\"/>\n      <use x=\"63.623047\" xlink:href=\"#DejaVuSans-46\"/>\n      <use x=\"95.410156\" xlink:href=\"#DejaVuSans-57\"/>\n      <use x=\"159.033203\" xlink:href=\"#DejaVuSans-57\"/>\n      <use x=\"222.65625\" xlink:href=\"#DejaVuSans-55\"/>\n      <use x=\"286.279297\" xlink:href=\"#DejaVuSans-52\"/>\n      <use x=\"349.902344\" xlink:href=\"#DejaVuSans-49\"/>\n      <use x=\"413.525391\" xlink:href=\"#DejaVuSans-57\"/>\n      <use x=\"477.148438\" xlink:href=\"#DejaVuSans-49\"/>\n      <use x=\"540.771484\" xlink:href=\"#DejaVuSans-53\"/>\n      <use x=\"604.394531\" xlink:href=\"#DejaVuSans-53\"/>\n      <use x=\"668.017578\" xlink:href=\"#DejaVuSans-56\"/>\n      <use x=\"731.640625\" xlink:href=\"#DejaVuSans-54\"/>\n      <use x=\"795.263672\" xlink:href=\"#DejaVuSans-50\"/>\n      <use x=\"858.886719\" xlink:href=\"#DejaVuSans-51\"/>\n      <use x=\"922.509766\" xlink:href=\"#DejaVuSans-49\"/>\n      <use x=\"986.132812\" xlink:href=\"#DejaVuSans-51\"/>\n      <use x=\"1049.755859\" xlink:href=\"#DejaVuSans-55\"/>\n     </g>\n    </g>\n    <g id=\"patch_23\">\n     <path d=\"M 253.303125 137.719219 \nL 364.903125 137.719219 \nL 364.903125 125.719219 \nL 253.303125 125.719219 \nz\n\" style=\"fill:#ffffff;stroke:#000000;stroke-linejoin:miter;\"/>\n    </g>\n    <g id=\"text_21\">\n     <!-- 0.4311234493699331 -->\n     <g transform=\"translate(275.804688 133.650781)scale(0.07 -0.07)\">\n      <use xlink:href=\"#DejaVuSans-48\"/>\n      <use x=\"63.623047\" xlink:href=\"#DejaVuSans-46\"/>\n      <use x=\"95.410156\" xlink:href=\"#DejaVuSans-52\"/>\n      <use x=\"159.033203\" xlink:href=\"#DejaVuSans-51\"/>\n      <use x=\"222.65625\" xlink:href=\"#DejaVuSans-49\"/>\n      <use x=\"286.279297\" xlink:href=\"#DejaVuSans-49\"/>\n      <use x=\"349.902344\" xlink:href=\"#DejaVuSans-50\"/>\n      <use x=\"413.525391\" xlink:href=\"#DejaVuSans-51\"/>\n      <use x=\"477.148438\" xlink:href=\"#DejaVuSans-52\"/>\n      <use x=\"540.771484\" xlink:href=\"#DejaVuSans-52\"/>\n      <use x=\"604.394531\" xlink:href=\"#DejaVuSans-57\"/>\n      <use x=\"668.017578\" xlink:href=\"#DejaVuSans-51\"/>\n      <use x=\"731.640625\" xlink:href=\"#DejaVuSans-54\"/>\n      <use x=\"795.263672\" xlink:href=\"#DejaVuSans-57\"/>\n      <use x=\"858.886719\" xlink:href=\"#DejaVuSans-57\"/>\n      <use x=\"922.509766\" xlink:href=\"#DejaVuSans-51\"/>\n      <use x=\"986.132812\" xlink:href=\"#DejaVuSans-51\"/>\n      <use x=\"1049.755859\" xlink:href=\"#DejaVuSans-49\"/>\n     </g>\n    </g>\n    <g id=\"patch_24\">\n     <path d=\"M 30.103125 149.719219 \nL 141.703125 149.719219 \nL 141.703125 137.719219 \nL 30.103125 137.719219 \nz\n\" style=\"fill:#ffffff;stroke:#000000;stroke-linejoin:miter;\"/>\n    </g>\n    <g id=\"text_22\">\n     <!-- 0.3729494881350969 -->\n     <g transform=\"translate(52.604688 145.650781)scale(0.07 -0.07)\">\n      <use xlink:href=\"#DejaVuSans-48\"/>\n      <use x=\"63.623047\" xlink:href=\"#DejaVuSans-46\"/>\n      <use x=\"95.410156\" xlink:href=\"#DejaVuSans-51\"/>\n      <use x=\"159.033203\" xlink:href=\"#DejaVuSans-55\"/>\n      <use x=\"222.65625\" xlink:href=\"#DejaVuSans-50\"/>\n      <use x=\"286.279297\" xlink:href=\"#DejaVuSans-57\"/>\n      <use x=\"349.902344\" xlink:href=\"#DejaVuSans-52\"/>\n      <use x=\"413.525391\" xlink:href=\"#DejaVuSans-57\"/>\n      <use x=\"477.148438\" xlink:href=\"#DejaVuSans-52\"/>\n      <use x=\"540.771484\" xlink:href=\"#DejaVuSans-56\"/>\n      <use x=\"604.394531\" xlink:href=\"#DejaVuSans-56\"/>\n      <use x=\"668.017578\" xlink:href=\"#DejaVuSans-49\"/>\n      <use x=\"731.640625\" xlink:href=\"#DejaVuSans-51\"/>\n      <use x=\"795.263672\" xlink:href=\"#DejaVuSans-53\"/>\n      <use x=\"858.886719\" xlink:href=\"#DejaVuSans-48\"/>\n      <use x=\"922.509766\" xlink:href=\"#DejaVuSans-57\"/>\n      <use x=\"986.132812\" xlink:href=\"#DejaVuSans-54\"/>\n      <use x=\"1049.755859\" xlink:href=\"#DejaVuSans-57\"/>\n     </g>\n    </g>\n    <g id=\"patch_25\">\n     <path d=\"M 141.703125 149.719219 \nL 253.303125 149.719219 \nL 253.303125 137.719219 \nL 141.703125 137.719219 \nz\n\" style=\"fill:#ffffff;stroke:#000000;stroke-linejoin:miter;\"/>\n    </g>\n    <g id=\"text_23\">\n     <!-- 0.37253365516185577 -->\n     <g transform=\"translate(159.750938 145.650781)scale(0.07 -0.07)\">\n      <use xlink:href=\"#DejaVuSans-48\"/>\n      <use x=\"63.623047\" xlink:href=\"#DejaVuSans-46\"/>\n      <use x=\"95.410156\" xlink:href=\"#DejaVuSans-51\"/>\n      <use x=\"159.033203\" xlink:href=\"#DejaVuSans-55\"/>\n      <use x=\"222.65625\" xlink:href=\"#DejaVuSans-50\"/>\n      <use x=\"286.279297\" xlink:href=\"#DejaVuSans-53\"/>\n      <use x=\"349.902344\" xlink:href=\"#DejaVuSans-51\"/>\n      <use x=\"413.525391\" xlink:href=\"#DejaVuSans-51\"/>\n      <use x=\"477.148438\" xlink:href=\"#DejaVuSans-54\"/>\n      <use x=\"540.771484\" xlink:href=\"#DejaVuSans-53\"/>\n      <use x=\"604.394531\" xlink:href=\"#DejaVuSans-53\"/>\n      <use x=\"668.017578\" xlink:href=\"#DejaVuSans-49\"/>\n      <use x=\"731.640625\" xlink:href=\"#DejaVuSans-54\"/>\n      <use x=\"795.263672\" xlink:href=\"#DejaVuSans-49\"/>\n      <use x=\"858.886719\" xlink:href=\"#DejaVuSans-56\"/>\n      <use x=\"922.509766\" xlink:href=\"#DejaVuSans-53\"/>\n      <use x=\"986.132812\" xlink:href=\"#DejaVuSans-53\"/>\n      <use x=\"1049.755859\" xlink:href=\"#DejaVuSans-55\"/>\n      <use x=\"1113.378906\" xlink:href=\"#DejaVuSans-55\"/>\n     </g>\n    </g>\n    <g id=\"patch_26\">\n     <path d=\"M 253.303125 149.719219 \nL 364.903125 149.719219 \nL 364.903125 137.719219 \nL 253.303125 137.719219 \nz\n\" style=\"fill:#ffffff;stroke:#000000;stroke-linejoin:miter;\"/>\n    </g>\n    <g id=\"text_24\">\n     <!-- 0.6612848856274518 -->\n     <g transform=\"translate(275.804688 145.650781)scale(0.07 -0.07)\">\n      <use xlink:href=\"#DejaVuSans-48\"/>\n      <use x=\"63.623047\" xlink:href=\"#DejaVuSans-46\"/>\n      <use x=\"95.410156\" xlink:href=\"#DejaVuSans-54\"/>\n      <use x=\"159.033203\" xlink:href=\"#DejaVuSans-54\"/>\n      <use x=\"222.65625\" xlink:href=\"#DejaVuSans-49\"/>\n      <use x=\"286.279297\" xlink:href=\"#DejaVuSans-50\"/>\n      <use x=\"349.902344\" xlink:href=\"#DejaVuSans-56\"/>\n      <use x=\"413.525391\" xlink:href=\"#DejaVuSans-52\"/>\n      <use x=\"477.148438\" xlink:href=\"#DejaVuSans-56\"/>\n      <use x=\"540.771484\" xlink:href=\"#DejaVuSans-56\"/>\n      <use x=\"604.394531\" xlink:href=\"#DejaVuSans-53\"/>\n      <use x=\"668.017578\" xlink:href=\"#DejaVuSans-54\"/>\n      <use x=\"731.640625\" xlink:href=\"#DejaVuSans-50\"/>\n      <use x=\"795.263672\" xlink:href=\"#DejaVuSans-55\"/>\n      <use x=\"858.886719\" xlink:href=\"#DejaVuSans-52\"/>\n      <use x=\"922.509766\" xlink:href=\"#DejaVuSans-53\"/>\n      <use x=\"986.132812\" xlink:href=\"#DejaVuSans-49\"/>\n      <use x=\"1049.755859\" xlink:href=\"#DejaVuSans-56\"/>\n     </g>\n    </g>\n    <g id=\"patch_27\">\n     <path d=\"M 30.103125 161.719219 \nL 141.703125 161.719219 \nL 141.703125 149.719219 \nL 30.103125 149.719219 \nz\n\" style=\"fill:#ffffff;stroke:#000000;stroke-linejoin:miter;\"/>\n    </g>\n    <g id=\"text_25\">\n     <!-- 0.056458304613349886 -->\n     <g transform=\"translate(43.697188 157.650781)scale(0.07 -0.07)\">\n      <use xlink:href=\"#DejaVuSans-48\"/>\n      <use x=\"63.623047\" xlink:href=\"#DejaVuSans-46\"/>\n      <use x=\"95.410156\" xlink:href=\"#DejaVuSans-48\"/>\n      <use x=\"159.033203\" xlink:href=\"#DejaVuSans-53\"/>\n      <use x=\"222.65625\" xlink:href=\"#DejaVuSans-54\"/>\n      <use x=\"286.279297\" xlink:href=\"#DejaVuSans-52\"/>\n      <use x=\"349.902344\" xlink:href=\"#DejaVuSans-53\"/>\n      <use x=\"413.525391\" xlink:href=\"#DejaVuSans-56\"/>\n      <use x=\"477.148438\" xlink:href=\"#DejaVuSans-51\"/>\n      <use x=\"540.771484\" xlink:href=\"#DejaVuSans-48\"/>\n      <use x=\"604.394531\" xlink:href=\"#DejaVuSans-52\"/>\n      <use x=\"668.017578\" xlink:href=\"#DejaVuSans-54\"/>\n      <use x=\"731.640625\" xlink:href=\"#DejaVuSans-49\"/>\n      <use x=\"795.263672\" xlink:href=\"#DejaVuSans-51\"/>\n      <use x=\"858.886719\" xlink:href=\"#DejaVuSans-51\"/>\n      <use x=\"922.509766\" xlink:href=\"#DejaVuSans-52\"/>\n      <use x=\"986.132812\" xlink:href=\"#DejaVuSans-57\"/>\n      <use x=\"1049.755859\" xlink:href=\"#DejaVuSans-56\"/>\n      <use x=\"1113.378906\" xlink:href=\"#DejaVuSans-56\"/>\n      <use x=\"1177.001953\" xlink:href=\"#DejaVuSans-54\"/>\n     </g>\n    </g>\n    <g id=\"patch_28\">\n     <path d=\"M 141.703125 161.719219 \nL 253.303125 161.719219 \nL 253.303125 149.719219 \nL 141.703125 149.719219 \nz\n\" style=\"fill:#ffffff;stroke:#000000;stroke-linejoin:miter;\"/>\n    </g>\n    <g id=\"text_26\">\n     <!-- 0.22121701168174468 -->\n     <g transform=\"translate(159.750938 157.650781)scale(0.07 -0.07)\">\n      <use xlink:href=\"#DejaVuSans-48\"/>\n      <use x=\"63.623047\" xlink:href=\"#DejaVuSans-46\"/>\n      <use x=\"95.410156\" xlink:href=\"#DejaVuSans-50\"/>\n      <use x=\"159.033203\" xlink:href=\"#DejaVuSans-50\"/>\n      <use x=\"222.65625\" xlink:href=\"#DejaVuSans-49\"/>\n      <use x=\"286.279297\" xlink:href=\"#DejaVuSans-50\"/>\n      <use x=\"349.902344\" xlink:href=\"#DejaVuSans-49\"/>\n      <use x=\"413.525391\" xlink:href=\"#DejaVuSans-55\"/>\n      <use x=\"477.148438\" xlink:href=\"#DejaVuSans-48\"/>\n      <use x=\"540.771484\" xlink:href=\"#DejaVuSans-49\"/>\n      <use x=\"604.394531\" xlink:href=\"#DejaVuSans-49\"/>\n      <use x=\"668.017578\" xlink:href=\"#DejaVuSans-54\"/>\n      <use x=\"731.640625\" xlink:href=\"#DejaVuSans-56\"/>\n      <use x=\"795.263672\" xlink:href=\"#DejaVuSans-49\"/>\n      <use x=\"858.886719\" xlink:href=\"#DejaVuSans-55\"/>\n      <use x=\"922.509766\" xlink:href=\"#DejaVuSans-52\"/>\n      <use x=\"986.132812\" xlink:href=\"#DejaVuSans-52\"/>\n      <use x=\"1049.755859\" xlink:href=\"#DejaVuSans-54\"/>\n      <use x=\"1113.378906\" xlink:href=\"#DejaVuSans-56\"/>\n     </g>\n    </g>\n    <g id=\"patch_29\">\n     <path d=\"M 253.303125 161.719219 \nL 364.903125 161.719219 \nL 364.903125 149.719219 \nL 253.303125 149.719219 \nz\n\" style=\"fill:#ffffff;stroke:#000000;stroke-linejoin:miter;\"/>\n    </g>\n    <g id=\"text_27\">\n     <!-- 0.6918827882019508 -->\n     <g transform=\"translate(275.804688 157.650781)scale(0.07 -0.07)\">\n      <use xlink:href=\"#DejaVuSans-48\"/>\n      <use x=\"63.623047\" xlink:href=\"#DejaVuSans-46\"/>\n      <use x=\"95.410156\" xlink:href=\"#DejaVuSans-54\"/>\n      <use x=\"159.033203\" xlink:href=\"#DejaVuSans-57\"/>\n      <use x=\"222.65625\" xlink:href=\"#DejaVuSans-49\"/>\n      <use x=\"286.279297\" xlink:href=\"#DejaVuSans-56\"/>\n      <use x=\"349.902344\" xlink:href=\"#DejaVuSans-56\"/>\n      <use x=\"413.525391\" xlink:href=\"#DejaVuSans-50\"/>\n      <use x=\"477.148438\" xlink:href=\"#DejaVuSans-55\"/>\n      <use x=\"540.771484\" xlink:href=\"#DejaVuSans-56\"/>\n      <use x=\"604.394531\" xlink:href=\"#DejaVuSans-56\"/>\n      <use x=\"668.017578\" xlink:href=\"#DejaVuSans-50\"/>\n      <use x=\"731.640625\" xlink:href=\"#DejaVuSans-48\"/>\n      <use x=\"795.263672\" xlink:href=\"#DejaVuSans-49\"/>\n      <use x=\"858.886719\" xlink:href=\"#DejaVuSans-57\"/>\n      <use x=\"922.509766\" xlink:href=\"#DejaVuSans-53\"/>\n      <use x=\"986.132812\" xlink:href=\"#DejaVuSans-48\"/>\n      <use x=\"1049.755859\" xlink:href=\"#DejaVuSans-56\"/>\n     </g>\n    </g>\n    <g id=\"patch_30\">\n     <path d=\"M 30.103125 173.719219 \nL 141.703125 173.719219 \nL 141.703125 161.719219 \nL 30.103125 161.719219 \nz\n\" style=\"fill:#ffffff;stroke:#000000;stroke-linejoin:miter;\"/>\n    </g>\n    <g id=\"text_28\">\n     <!-- 0.0610213444934361 -->\n     <g transform=\"translate(52.604688 169.650781)scale(0.07 -0.07)\">\n      <use xlink:href=\"#DejaVuSans-48\"/>\n      <use x=\"63.623047\" xlink:href=\"#DejaVuSans-46\"/>\n      <use x=\"95.410156\" xlink:href=\"#DejaVuSans-48\"/>\n      <use x=\"159.033203\" xlink:href=\"#DejaVuSans-54\"/>\n      <use x=\"222.65625\" xlink:href=\"#DejaVuSans-49\"/>\n      <use x=\"286.279297\" xlink:href=\"#DejaVuSans-48\"/>\n      <use x=\"349.902344\" xlink:href=\"#DejaVuSans-50\"/>\n      <use x=\"413.525391\" xlink:href=\"#DejaVuSans-49\"/>\n      <use x=\"477.148438\" xlink:href=\"#DejaVuSans-51\"/>\n      <use x=\"540.771484\" xlink:href=\"#DejaVuSans-52\"/>\n      <use x=\"604.394531\" xlink:href=\"#DejaVuSans-52\"/>\n      <use x=\"668.017578\" xlink:href=\"#DejaVuSans-52\"/>\n      <use x=\"731.640625\" xlink:href=\"#DejaVuSans-57\"/>\n      <use x=\"795.263672\" xlink:href=\"#DejaVuSans-51\"/>\n      <use x=\"858.886719\" xlink:href=\"#DejaVuSans-52\"/>\n      <use x=\"922.509766\" xlink:href=\"#DejaVuSans-51\"/>\n      <use x=\"986.132812\" xlink:href=\"#DejaVuSans-54\"/>\n      <use x=\"1049.755859\" xlink:href=\"#DejaVuSans-49\"/>\n     </g>\n    </g>\n    <g id=\"patch_31\">\n     <path d=\"M 141.703125 173.719219 \nL 253.303125 173.719219 \nL 253.303125 161.719219 \nL 141.703125 161.719219 \nz\n\" style=\"fill:#ffffff;stroke:#000000;stroke-linejoin:miter;\"/>\n    </g>\n    <g id=\"text_29\">\n     <!-- 0.12804500274118635 -->\n     <g transform=\"translate(159.750938 169.650781)scale(0.07 -0.07)\">\n      <use xlink:href=\"#DejaVuSans-48\"/>\n      <use x=\"63.623047\" xlink:href=\"#DejaVuSans-46\"/>\n      <use x=\"95.410156\" xlink:href=\"#DejaVuSans-49\"/>\n      <use x=\"159.033203\" xlink:href=\"#DejaVuSans-50\"/>\n      <use x=\"222.65625\" xlink:href=\"#DejaVuSans-56\"/>\n      <use x=\"286.279297\" xlink:href=\"#DejaVuSans-48\"/>\n      <use x=\"349.902344\" xlink:href=\"#DejaVuSans-52\"/>\n      <use x=\"413.525391\" xlink:href=\"#DejaVuSans-53\"/>\n      <use x=\"477.148438\" xlink:href=\"#DejaVuSans-48\"/>\n      <use x=\"540.771484\" xlink:href=\"#DejaVuSans-48\"/>\n      <use x=\"604.394531\" xlink:href=\"#DejaVuSans-50\"/>\n      <use x=\"668.017578\" xlink:href=\"#DejaVuSans-55\"/>\n      <use x=\"731.640625\" xlink:href=\"#DejaVuSans-52\"/>\n      <use x=\"795.263672\" xlink:href=\"#DejaVuSans-49\"/>\n      <use x=\"858.886719\" xlink:href=\"#DejaVuSans-49\"/>\n      <use x=\"922.509766\" xlink:href=\"#DejaVuSans-56\"/>\n      <use x=\"986.132812\" xlink:href=\"#DejaVuSans-54\"/>\n      <use x=\"1049.755859\" xlink:href=\"#DejaVuSans-51\"/>\n      <use x=\"1113.378906\" xlink:href=\"#DejaVuSans-53\"/>\n     </g>\n    </g>\n    <g id=\"patch_32\">\n     <path d=\"M 253.303125 173.719219 \nL 364.903125 173.719219 \nL 364.903125 161.719219 \nL 253.303125 161.719219 \nz\n\" style=\"fill:#ffffff;stroke:#000000;stroke-linejoin:miter;\"/>\n    </g>\n    <g id=\"text_30\">\n     <!-- 0.6352510236649217 -->\n     <g transform=\"translate(275.804688 169.650781)scale(0.07 -0.07)\">\n      <use xlink:href=\"#DejaVuSans-48\"/>\n      <use x=\"63.623047\" xlink:href=\"#DejaVuSans-46\"/>\n      <use x=\"95.410156\" xlink:href=\"#DejaVuSans-54\"/>\n      <use x=\"159.033203\" xlink:href=\"#DejaVuSans-51\"/>\n      <use x=\"222.65625\" xlink:href=\"#DejaVuSans-53\"/>\n      <use x=\"286.279297\" xlink:href=\"#DejaVuSans-50\"/>\n      <use x=\"349.902344\" xlink:href=\"#DejaVuSans-53\"/>\n      <use x=\"413.525391\" xlink:href=\"#DejaVuSans-49\"/>\n      <use x=\"477.148438\" xlink:href=\"#DejaVuSans-48\"/>\n      <use x=\"540.771484\" xlink:href=\"#DejaVuSans-50\"/>\n      <use x=\"604.394531\" xlink:href=\"#DejaVuSans-51\"/>\n      <use x=\"668.017578\" xlink:href=\"#DejaVuSans-54\"/>\n      <use x=\"731.640625\" xlink:href=\"#DejaVuSans-54\"/>\n      <use x=\"795.263672\" xlink:href=\"#DejaVuSans-52\"/>\n      <use x=\"858.886719\" xlink:href=\"#DejaVuSans-57\"/>\n      <use x=\"922.509766\" xlink:href=\"#DejaVuSans-50\"/>\n      <use x=\"986.132812\" xlink:href=\"#DejaVuSans-49\"/>\n      <use x=\"1049.755859\" xlink:href=\"#DejaVuSans-55\"/>\n     </g>\n    </g>\n    <g id=\"patch_33\">\n     <path d=\"M 30.103125 185.719219 \nL 141.703125 185.719219 \nL 141.703125 173.719219 \nL 30.103125 173.719219 \nz\n\" style=\"fill:#ffffff;stroke:#000000;stroke-linejoin:miter;\"/>\n    </g>\n    <g id=\"text_31\">\n     <!-- 0.543807221488216 -->\n     <g transform=\"translate(57.058438 181.650781)scale(0.07 -0.07)\">\n      <use xlink:href=\"#DejaVuSans-48\"/>\n      <use x=\"63.623047\" xlink:href=\"#DejaVuSans-46\"/>\n      <use x=\"95.410156\" xlink:href=\"#DejaVuSans-53\"/>\n      <use x=\"159.033203\" xlink:href=\"#DejaVuSans-52\"/>\n      <use x=\"222.65625\" xlink:href=\"#DejaVuSans-51\"/>\n      <use x=\"286.279297\" xlink:href=\"#DejaVuSans-56\"/>\n      <use x=\"349.902344\" xlink:href=\"#DejaVuSans-48\"/>\n      <use x=\"413.525391\" xlink:href=\"#DejaVuSans-55\"/>\n      <use x=\"477.148438\" xlink:href=\"#DejaVuSans-50\"/>\n      <use x=\"540.771484\" xlink:href=\"#DejaVuSans-50\"/>\n      <use x=\"604.394531\" xlink:href=\"#DejaVuSans-49\"/>\n      <use x=\"668.017578\" xlink:href=\"#DejaVuSans-52\"/>\n      <use x=\"731.640625\" xlink:href=\"#DejaVuSans-56\"/>\n      <use x=\"795.263672\" xlink:href=\"#DejaVuSans-56\"/>\n      <use x=\"858.886719\" xlink:href=\"#DejaVuSans-50\"/>\n      <use x=\"922.509766\" xlink:href=\"#DejaVuSans-49\"/>\n      <use x=\"986.132812\" xlink:href=\"#DejaVuSans-54\"/>\n     </g>\n    </g>\n    <g id=\"patch_34\">\n     <path d=\"M 141.703125 185.719219 \nL 253.303125 185.719219 \nL 253.303125 173.719219 \nL 141.703125 173.719219 \nz\n\" style=\"fill:#ffffff;stroke:#000000;stroke-linejoin:miter;\"/>\n    </g>\n    <g id=\"text_32\">\n     <!-- 0.7672742768428814 -->\n     <g transform=\"translate(164.204688 181.650781)scale(0.07 -0.07)\">\n      <use xlink:href=\"#DejaVuSans-48\"/>\n      <use x=\"63.623047\" xlink:href=\"#DejaVuSans-46\"/>\n      <use x=\"95.410156\" xlink:href=\"#DejaVuSans-55\"/>\n      <use x=\"159.033203\" xlink:href=\"#DejaVuSans-54\"/>\n      <use x=\"222.65625\" xlink:href=\"#DejaVuSans-55\"/>\n      <use x=\"286.279297\" xlink:href=\"#DejaVuSans-50\"/>\n      <use x=\"349.902344\" xlink:href=\"#DejaVuSans-55\"/>\n      <use x=\"413.525391\" xlink:href=\"#DejaVuSans-52\"/>\n      <use x=\"477.148438\" xlink:href=\"#DejaVuSans-50\"/>\n      <use x=\"540.771484\" xlink:href=\"#DejaVuSans-55\"/>\n      <use x=\"604.394531\" xlink:href=\"#DejaVuSans-54\"/>\n      <use x=\"668.017578\" xlink:href=\"#DejaVuSans-56\"/>\n      <use x=\"731.640625\" xlink:href=\"#DejaVuSans-52\"/>\n      <use x=\"795.263672\" xlink:href=\"#DejaVuSans-50\"/>\n      <use x=\"858.886719\" xlink:href=\"#DejaVuSans-56\"/>\n      <use x=\"922.509766\" xlink:href=\"#DejaVuSans-56\"/>\n      <use x=\"986.132812\" xlink:href=\"#DejaVuSans-49\"/>\n      <use x=\"1049.755859\" xlink:href=\"#DejaVuSans-52\"/>\n     </g>\n    </g>\n    <g id=\"patch_35\">\n     <path d=\"M 253.303125 185.719219 \nL 364.903125 185.719219 \nL 364.903125 173.719219 \nL 253.303125 173.719219 \nz\n\" style=\"fill:#ffffff;stroke:#000000;stroke-linejoin:miter;\"/>\n    </g>\n    <g id=\"text_33\">\n     <!-- 0.1526455802172697 -->\n     <g transform=\"translate(275.804688 181.650781)scale(0.07 -0.07)\">\n      <use xlink:href=\"#DejaVuSans-48\"/>\n      <use x=\"63.623047\" xlink:href=\"#DejaVuSans-46\"/>\n      <use x=\"95.410156\" xlink:href=\"#DejaVuSans-49\"/>\n      <use x=\"159.033203\" xlink:href=\"#DejaVuSans-53\"/>\n      <use x=\"222.65625\" xlink:href=\"#DejaVuSans-50\"/>\n      <use x=\"286.279297\" xlink:href=\"#DejaVuSans-54\"/>\n      <use x=\"349.902344\" xlink:href=\"#DejaVuSans-52\"/>\n      <use x=\"413.525391\" xlink:href=\"#DejaVuSans-53\"/>\n      <use x=\"477.148438\" xlink:href=\"#DejaVuSans-53\"/>\n      <use x=\"540.771484\" xlink:href=\"#DejaVuSans-56\"/>\n      <use x=\"604.394531\" xlink:href=\"#DejaVuSans-48\"/>\n      <use x=\"668.017578\" xlink:href=\"#DejaVuSans-50\"/>\n      <use x=\"731.640625\" xlink:href=\"#DejaVuSans-49\"/>\n      <use x=\"795.263672\" xlink:href=\"#DejaVuSans-55\"/>\n      <use x=\"858.886719\" xlink:href=\"#DejaVuSans-50\"/>\n      <use x=\"922.509766\" xlink:href=\"#DejaVuSans-54\"/>\n      <use x=\"986.132812\" xlink:href=\"#DejaVuSans-57\"/>\n      <use x=\"1049.755859\" xlink:href=\"#DejaVuSans-55\"/>\n     </g>\n    </g>\n   </g>\n   <g id=\"matplotlib.axis_1\">\n    <g id=\"xtick_1\">\n     <g id=\"line2d_1\">\n      <defs>\n       <path d=\"M 0 0 \nL 0 3.5 \n\" id=\"mf9778e6742\" style=\"stroke:#000000;stroke-width:0.8;\"/>\n      </defs>\n      <g>\n       <use style=\"stroke:#000000;stroke-width:0.8;\" x=\"30.103125\" xlink:href=\"#mf9778e6742\" y=\"228.439219\"/>\n      </g>\n     </g>\n     <g id=\"text_34\">\n      <!-- 0.0 -->\n      <g transform=\"translate(22.151563 243.037656)scale(0.1 -0.1)\">\n       <use xlink:href=\"#DejaVuSans-48\"/>\n       <use x=\"63.623047\" xlink:href=\"#DejaVuSans-46\"/>\n       <use x=\"95.410156\" xlink:href=\"#DejaVuSans-48\"/>\n      </g>\n     </g>\n    </g>\n    <g id=\"xtick_2\">\n     <g id=\"line2d_2\">\n      <g>\n       <use style=\"stroke:#000000;stroke-width:0.8;\" x=\"97.063125\" xlink:href=\"#mf9778e6742\" y=\"228.439219\"/>\n      </g>\n     </g>\n     <g id=\"text_35\">\n      <!-- 0.2 -->\n      <g transform=\"translate(89.111563 243.037656)scale(0.1 -0.1)\">\n       <use xlink:href=\"#DejaVuSans-48\"/>\n       <use x=\"63.623047\" xlink:href=\"#DejaVuSans-46\"/>\n       <use x=\"95.410156\" xlink:href=\"#DejaVuSans-50\"/>\n      </g>\n     </g>\n    </g>\n    <g id=\"xtick_3\">\n     <g id=\"line2d_3\">\n      <g>\n       <use style=\"stroke:#000000;stroke-width:0.8;\" x=\"164.023125\" xlink:href=\"#mf9778e6742\" y=\"228.439219\"/>\n      </g>\n     </g>\n     <g id=\"text_36\">\n      <!-- 0.4 -->\n      <g transform=\"translate(156.071563 243.037656)scale(0.1 -0.1)\">\n       <use xlink:href=\"#DejaVuSans-48\"/>\n       <use x=\"63.623047\" xlink:href=\"#DejaVuSans-46\"/>\n       <use x=\"95.410156\" xlink:href=\"#DejaVuSans-52\"/>\n      </g>\n     </g>\n    </g>\n    <g id=\"xtick_4\">\n     <g id=\"line2d_4\">\n      <g>\n       <use style=\"stroke:#000000;stroke-width:0.8;\" x=\"230.983125\" xlink:href=\"#mf9778e6742\" y=\"228.439219\"/>\n      </g>\n     </g>\n     <g id=\"text_37\">\n      <!-- 0.6 -->\n      <g transform=\"translate(223.031563 243.037656)scale(0.1 -0.1)\">\n       <use xlink:href=\"#DejaVuSans-48\"/>\n       <use x=\"63.623047\" xlink:href=\"#DejaVuSans-46\"/>\n       <use x=\"95.410156\" xlink:href=\"#DejaVuSans-54\"/>\n      </g>\n     </g>\n    </g>\n    <g id=\"xtick_5\">\n     <g id=\"line2d_5\">\n      <g>\n       <use style=\"stroke:#000000;stroke-width:0.8;\" x=\"297.943125\" xlink:href=\"#mf9778e6742\" y=\"228.439219\"/>\n      </g>\n     </g>\n     <g id=\"text_38\">\n      <!-- 0.8 -->\n      <g transform=\"translate(289.991563 243.037656)scale(0.1 -0.1)\">\n       <use xlink:href=\"#DejaVuSans-48\"/>\n       <use x=\"63.623047\" xlink:href=\"#DejaVuSans-46\"/>\n       <use x=\"95.410156\" xlink:href=\"#DejaVuSans-56\"/>\n      </g>\n     </g>\n    </g>\n    <g id=\"xtick_6\">\n     <g id=\"line2d_6\">\n      <g>\n       <use style=\"stroke:#000000;stroke-width:0.8;\" x=\"364.903125\" xlink:href=\"#mf9778e6742\" y=\"228.439219\"/>\n      </g>\n     </g>\n     <g id=\"text_39\">\n      <!-- 1.0 -->\n      <g transform=\"translate(356.951563 243.037656)scale(0.1 -0.1)\">\n       <use xlink:href=\"#DejaVuSans-49\"/>\n       <use x=\"63.623047\" xlink:href=\"#DejaVuSans-46\"/>\n       <use x=\"95.410156\" xlink:href=\"#DejaVuSans-48\"/>\n      </g>\n     </g>\n    </g>\n   </g>\n   <g id=\"matplotlib.axis_2\">\n    <g id=\"ytick_1\">\n     <g id=\"line2d_7\">\n      <defs>\n       <path d=\"M 0 0 \nL -3.5 0 \n\" id=\"m58e039fa16\" style=\"stroke:#000000;stroke-width:0.8;\"/>\n      </defs>\n      <g>\n       <use style=\"stroke:#000000;stroke-width:0.8;\" x=\"30.103125\" xlink:href=\"#m58e039fa16\" y=\"228.439219\"/>\n      </g>\n     </g>\n     <g id=\"text_40\">\n      <!-- 0.0 -->\n      <g transform=\"translate(7.2 232.238437)scale(0.1 -0.1)\">\n       <use xlink:href=\"#DejaVuSans-48\"/>\n       <use x=\"63.623047\" xlink:href=\"#DejaVuSans-46\"/>\n       <use x=\"95.410156\" xlink:href=\"#DejaVuSans-48\"/>\n      </g>\n     </g>\n    </g>\n    <g id=\"ytick_2\">\n     <g id=\"line2d_8\">\n      <g>\n       <use style=\"stroke:#000000;stroke-width:0.8;\" x=\"30.103125\" xlink:href=\"#m58e039fa16\" y=\"184.951219\"/>\n      </g>\n     </g>\n     <g id=\"text_41\">\n      <!-- 0.2 -->\n      <g transform=\"translate(7.2 188.750437)scale(0.1 -0.1)\">\n       <use xlink:href=\"#DejaVuSans-48\"/>\n       <use x=\"63.623047\" xlink:href=\"#DejaVuSans-46\"/>\n       <use x=\"95.410156\" xlink:href=\"#DejaVuSans-50\"/>\n      </g>\n     </g>\n    </g>\n    <g id=\"ytick_3\">\n     <g id=\"line2d_9\">\n      <g>\n       <use style=\"stroke:#000000;stroke-width:0.8;\" x=\"30.103125\" xlink:href=\"#m58e039fa16\" y=\"141.463219\"/>\n      </g>\n     </g>\n     <g id=\"text_42\">\n      <!-- 0.4 -->\n      <g transform=\"translate(7.2 145.262437)scale(0.1 -0.1)\">\n       <use xlink:href=\"#DejaVuSans-48\"/>\n       <use x=\"63.623047\" xlink:href=\"#DejaVuSans-46\"/>\n       <use x=\"95.410156\" xlink:href=\"#DejaVuSans-52\"/>\n      </g>\n     </g>\n    </g>\n    <g id=\"ytick_4\">\n     <g id=\"line2d_10\">\n      <g>\n       <use style=\"stroke:#000000;stroke-width:0.8;\" x=\"30.103125\" xlink:href=\"#m58e039fa16\" y=\"97.975219\"/>\n      </g>\n     </g>\n     <g id=\"text_43\">\n      <!-- 0.6 -->\n      <g transform=\"translate(7.2 101.774437)scale(0.1 -0.1)\">\n       <use xlink:href=\"#DejaVuSans-48\"/>\n       <use x=\"63.623047\" xlink:href=\"#DejaVuSans-46\"/>\n       <use x=\"95.410156\" xlink:href=\"#DejaVuSans-54\"/>\n      </g>\n     </g>\n    </g>\n    <g id=\"ytick_5\">\n     <g id=\"line2d_11\">\n      <g>\n       <use style=\"stroke:#000000;stroke-width:0.8;\" x=\"30.103125\" xlink:href=\"#m58e039fa16\" y=\"54.487219\"/>\n      </g>\n     </g>\n     <g id=\"text_44\">\n      <!-- 0.8 -->\n      <g transform=\"translate(7.2 58.286437)scale(0.1 -0.1)\">\n       <use xlink:href=\"#DejaVuSans-48\"/>\n       <use x=\"63.623047\" xlink:href=\"#DejaVuSans-46\"/>\n       <use x=\"95.410156\" xlink:href=\"#DejaVuSans-56\"/>\n      </g>\n     </g>\n    </g>\n    <g id=\"ytick_6\">\n     <g id=\"line2d_12\">\n      <g>\n       <use style=\"stroke:#000000;stroke-width:0.8;\" x=\"30.103125\" xlink:href=\"#m58e039fa16\" y=\"10.999219\"/>\n      </g>\n     </g>\n     <g id=\"text_45\">\n      <!-- 1.0 -->\n      <g transform=\"translate(7.2 14.798437)scale(0.1 -0.1)\">\n       <use xlink:href=\"#DejaVuSans-49\"/>\n       <use x=\"63.623047\" xlink:href=\"#DejaVuSans-46\"/>\n       <use x=\"95.410156\" xlink:href=\"#DejaVuSans-48\"/>\n      </g>\n     </g>\n    </g>\n   </g>\n   <g id=\"patch_36\">\n    <path d=\"M 30.103125 228.439219 \nL 30.103125 10.999219 \n\" style=\"fill:none;stroke:#000000;stroke-linecap:square;stroke-linejoin:miter;stroke-width:0.8;\"/>\n   </g>\n   <g id=\"patch_37\">\n    <path d=\"M 364.903125 228.439219 \nL 364.903125 10.999219 \n\" style=\"fill:none;stroke:#000000;stroke-linecap:square;stroke-linejoin:miter;stroke-width:0.8;\"/>\n   </g>\n   <g id=\"patch_38\">\n    <path d=\"M 30.103125 228.439219 \nL 364.903125 228.439219 \n\" style=\"fill:none;stroke:#000000;stroke-linecap:square;stroke-linejoin:miter;stroke-width:0.8;\"/>\n   </g>\n   <g id=\"patch_39\">\n    <path d=\"M 30.103125 10.999219 \nL 364.903125 10.999219 \n\" style=\"fill:none;stroke:#000000;stroke-linecap:square;stroke-linejoin:miter;stroke-width:0.8;\"/>\n   </g>\n  </g>\n </g>\n</svg>\n",
      "image/png": "[encoded data removed]"
     },
     "metadata": {
      "needs_background": "light"
     }
    }
   ],
   "source": [
    "# matplotlib_table\n",
    "fig, ax = plt.subplots()\n",
    "clust_data = np.random.random((10,3))\n",
    "ax.table(cellText=clust_data, colLabels=list(range(clust_data.shape[1])), loc=\"center\")\n",
    "plt.show()"
   ]
  },
  {
   "cell_type": "code",
   "execution_count": 12,
   "metadata": {},
   "outputs": [
    {
     "output_type": "display_data",
     "data": {
      "text/plain": "<Figure size 432x288 with 1 Axes>",
      "image/svg+xml": "<?xml version=\"1.0\" encoding=\"utf-8\" standalone=\"no\"?>\n<!DOCTYPE svg PUBLIC \"-//W3C//DTD SVG 1.1//EN\"\n  \"http://www.w3.org/Graphics/SVG/1.1/DTD/svg11.dtd\">\n<!-- Created with matplotlib (https://matplotlib.org/) -->\n<svg height=\"252.317344pt\" version=\"1.1\" viewBox=\"0 0 370.942187 252.317344\" width=\"370.942187pt\" xmlns=\"http://www.w3.org/2000/svg\" xmlns:xlink=\"http://www.w3.org/1999/xlink\">\n <defs>\n  <style type=\"text/css\">\n*{stroke-linecap:butt;stroke-linejoin:round;}\n  </style>\n </defs>\n <g id=\"figure_1\">\n  <g id=\"patch_1\">\n   <path d=\"M 0 252.317344 \nL 370.942187 252.317344 \nL 370.942187 0 \nL 0 0 \nz\n\" style=\"fill:none;\"/>\n  </g>\n  <g id=\"axes_1\">\n   <g id=\"patch_2\">\n    <path d=\"M 28.942188 228.439219 \nL 363.742188 228.439219 \nL 363.742188 10.999219 \nL 28.942188 10.999219 \nz\n\" style=\"fill:#ffffff;\"/>\n   </g>\n   <g id=\"patch_3\">\n    <path clip-path=\"url(#p7dbe516fb0)\" d=\"M 44.160369 10.999219 \nL 49.049745 10.999219 \nL 49.049745 166.222518 \nL 44.160369 166.222518 \nz\n\" style=\"fill:#1f77b4;\"/>\n   </g>\n   <g id=\"patch_4\">\n    <path clip-path=\"url(#p7dbe516fb0)\" d=\"M 50.272089 10.999219 \nL 55.161465 10.999219 \nL 55.161465 98.498203 \nL 50.272089 98.498203 \nz\n\" style=\"fill:#1f77b4;\"/>\n   </g>\n   <g id=\"patch_5\">\n    <path clip-path=\"url(#p7dbe516fb0)\" d=\"M 56.383809 10.999219 \nL 61.273184 10.999219 \nL 61.273184 58.464411 \nL 56.383809 58.464411 \nz\n\" style=\"fill:#1f77b4;\"/>\n   </g>\n   <g id=\"patch_6\">\n    <path clip-path=\"url(#p7dbe516fb0)\" d=\"M 62.495528 10.999219 \nL 67.384904 10.999219 \nL 67.384904 106.954289 \nL 62.495528 106.954289 \nz\n\" style=\"fill:#1f77b4;\"/>\n   </g>\n   <g id=\"patch_7\">\n    <path clip-path=\"url(#p7dbe516fb0)\" d=\"M 68.607248 10.999219 \nL 73.496623 10.999219 \nL 73.496623 178.968089 \nL 68.607248 178.968089 \nz\n\" style=\"fill:#1f77b4;\"/>\n   </g>\n   <g id=\"patch_8\">\n    <path clip-path=\"url(#p7dbe516fb0)\" d=\"M 74.718967 10.999219 \nL 79.608343 10.999219 \nL 79.608343 46.362068 \nL 74.718967 46.362068 \nz\n\" style=\"fill:#1f77b4;\"/>\n   </g>\n   <g id=\"patch_9\">\n    <path clip-path=\"url(#p7dbe516fb0)\" d=\"M 80.830687 10.999219 \nL 85.720063 10.999219 \nL 85.720063 193.548408 \nL 80.830687 193.548408 \nz\n\" style=\"fill:#1f77b4;\"/>\n   </g>\n   <g id=\"patch_10\">\n    <path clip-path=\"url(#p7dbe516fb0)\" d=\"M 86.942407 10.999219 \nL 91.831782 10.999219 \nL 91.831782 33.112337 \nL 86.942407 33.112337 \nz\n\" style=\"fill:#1f77b4;\"/>\n   </g>\n   <g id=\"patch_11\">\n    <path clip-path=\"url(#p7dbe516fb0)\" d=\"M 93.054126 10.999219 \nL 97.943502 10.999219 \nL 97.943502 115.144897 \nL 93.054126 115.144897 \nz\n\" style=\"fill:#1f77b4;\"/>\n   </g>\n   <g id=\"patch_12\">\n    <path clip-path=\"url(#p7dbe516fb0)\" d=\"M 99.165846 10.999219 \nL 104.055221 10.999219 \nL 104.055221 156.21819 \nL 99.165846 156.21819 \nz\n\" style=\"fill:#1f77b4;\"/>\n   </g>\n   <g id=\"patch_13\">\n    <path clip-path=\"url(#p7dbe516fb0)\" d=\"M 105.277565 10.999219 \nL 110.166941 10.999219 \nL 110.166941 120.759609 \nL 105.277565 120.759609 \nz\n\" style=\"fill:#1f77b4;\"/>\n   </g>\n   <g id=\"patch_14\">\n    <path clip-path=\"url(#p7dbe516fb0)\" d=\"M 111.389285 10.999219 \nL 116.278661 10.999219 \nL 116.278661 60.716779 \nL 111.389285 60.716779 \nz\n\" style=\"fill:#1f77b4;\"/>\n   </g>\n   <g id=\"patch_15\">\n    <path clip-path=\"url(#p7dbe516fb0)\" d=\"M 117.501005 10.999219 \nL 122.39038 10.999219 \nL 122.39038 64.858608 \nL 117.501005 64.858608 \nz\n\" style=\"fill:#1f77b4;\"/>\n   </g>\n   <g id=\"patch_16\">\n    <path clip-path=\"url(#p7dbe516fb0)\" d=\"M 123.612724 10.999219 \nL 128.5021 10.999219 \nL 128.5021 151.620377 \nL 123.612724 151.620377 \nz\n\" style=\"fill:#1f77b4;\"/>\n   </g>\n   <g id=\"patch_17\">\n    <path clip-path=\"url(#p7dbe516fb0)\" d=\"M 129.724444 10.999219 \nL 134.613819 10.999219 \nL 134.613819 54.558801 \nL 129.724444 54.558801 \nz\n\" style=\"fill:#1f77b4;\"/>\n   </g>\n   <g id=\"patch_18\">\n    <path clip-path=\"url(#p7dbe516fb0)\" d=\"M 135.836163 10.999219 \nL 140.725539 10.999219 \nL 140.725539 195.051959 \nL 135.836163 195.051959 \nz\n\" style=\"fill:#1f77b4;\"/>\n   </g>\n   <g id=\"patch_19\">\n    <path clip-path=\"url(#p7dbe516fb0)\" d=\"M 141.947883 10.999219 \nL 146.837259 10.999219 \nL 146.837259 109.263847 \nL 141.947883 109.263847 \nz\n\" style=\"fill:#1f77b4;\"/>\n   </g>\n   <g id=\"patch_20\">\n    <path clip-path=\"url(#p7dbe516fb0)\" d=\"M 148.059603 10.999219 \nL 152.948978 10.999219 \nL 152.948978 92.688811 \nL 148.059603 92.688811 \nz\n\" style=\"fill:#1f77b4;\"/>\n   </g>\n   <g id=\"patch_21\">\n    <path clip-path=\"url(#p7dbe516fb0)\" d=\"M 154.171322 10.999219 \nL 159.060698 10.999219 \nL 159.060698 82.582327 \nL 154.171322 82.582327 \nz\n\" style=\"fill:#1f77b4;\"/>\n   </g>\n   <g id=\"patch_22\">\n    <path clip-path=\"url(#p7dbe516fb0)\" d=\"M 160.283042 10.999219 \nL 165.172418 10.999219 \nL 165.172418 117.339487 \nL 160.283042 117.339487 \nz\n\" style=\"fill:#1f77b4;\"/>\n   </g>\n   <g id=\"patch_23\">\n    <path clip-path=\"url(#p7dbe516fb0)\" d=\"M 166.394761 10.999219 \nL 171.284137 10.999219 \nL 171.284137 186.702509 \nL 166.394761 186.702509 \nz\n\" style=\"fill:#1f77b4;\"/>\n   </g>\n   <g id=\"patch_24\">\n    <path clip-path=\"url(#p7dbe516fb0)\" d=\"M 172.506481 10.999219 \nL 177.395857 10.999219 \nL 177.395857 124.146691 \nL 172.506481 124.146691 \nz\n\" style=\"fill:#1f77b4;\"/>\n   </g>\n   <g id=\"patch_25\">\n    <path clip-path=\"url(#p7dbe516fb0)\" d=\"M 178.618201 10.999219 \nL 183.507576 10.999219 \nL 183.507576 32.694616 \nL 178.618201 32.694616 \nz\n\" style=\"fill:#1f77b4;\"/>\n   </g>\n   <g id=\"patch_26\">\n    <path clip-path=\"url(#p7dbe516fb0)\" d=\"M 184.72992 10.999219 \nL 189.619296 10.999219 \nL 189.619296 89.540869 \nL 184.72992 89.540869 \nz\n\" style=\"fill:#1f77b4;\"/>\n   </g>\n   <g id=\"patch_27\">\n    <path clip-path=\"url(#p7dbe516fb0)\" d=\"M 190.84164 10.999219 \nL 195.731016 10.999219 \nL 195.731016 64.076417 \nL 190.84164 64.076417 \nz\n\" style=\"fill:#1f77b4;\"/>\n   </g>\n   <g id=\"patch_28\">\n    <path clip-path=\"url(#p7dbe516fb0)\" d=\"M 196.953359 10.999219 \nL 201.842735 10.999219 \nL 201.842735 111.097586 \nL 196.953359 111.097586 \nz\n\" style=\"fill:#1f77b4;\"/>\n   </g>\n   <g id=\"patch_29\">\n    <path clip-path=\"url(#p7dbe516fb0)\" d=\"M 203.065079 10.999219 \nL 207.954455 10.999219 \nL 207.954455 53.207938 \nL 203.065079 53.207938 \nz\n\" style=\"fill:#1f77b4;\"/>\n   </g>\n   <g id=\"patch_30\">\n    <path clip-path=\"url(#p7dbe516fb0)\" d=\"M 209.176799 10.999219 \nL 214.066174 10.999219 \nL 214.066174 41.979282 \nL 209.176799 41.979282 \nz\n\" style=\"fill:#1f77b4;\"/>\n   </g>\n   <g id=\"patch_31\">\n    <path clip-path=\"url(#p7dbe516fb0)\" d=\"M 215.288518 10.999219 \nL 220.177894 10.999219 \nL 220.177894 153.269423 \nL 215.288518 153.269423 \nz\n\" style=\"fill:#1f77b4;\"/>\n   </g>\n   <g id=\"patch_32\">\n    <path clip-path=\"url(#p7dbe516fb0)\" d=\"M 221.400238 10.999219 \nL 226.289614 10.999219 \nL 226.289614 196.388395 \nL 221.400238 196.388395 \nz\n\" style=\"fill:#1f77b4;\"/>\n   </g>\n   <g id=\"patch_33\">\n    <path clip-path=\"url(#p7dbe516fb0)\" d=\"M 227.511957 10.999219 \nL 232.401333 10.999219 \nL 232.401333 19.069925 \nL 227.511957 19.069925 \nz\n\" style=\"fill:#1f77b4;\"/>\n   </g>\n   <g id=\"patch_34\">\n    <path clip-path=\"url(#p7dbe516fb0)\" d=\"M 233.623677 10.999219 \nL 238.513053 10.999219 \nL 238.513053 40.542282 \nL 233.623677 40.542282 \nz\n\" style=\"fill:#1f77b4;\"/>\n   </g>\n   <g id=\"patch_35\">\n    <path clip-path=\"url(#p7dbe516fb0)\" d=\"M 239.735397 10.999219 \nL 244.624772 10.999219 \nL 244.624772 189.514015 \nL 239.735397 189.514015 \nz\n\" style=\"fill:#1f77b4;\"/>\n   </g>\n   <g id=\"patch_36\">\n    <path clip-path=\"url(#p7dbe516fb0)\" d=\"M 245.847116 10.999219 \nL 250.736492 10.999219 \nL 250.736492 56.770536 \nL 245.847116 56.770536 \nz\n\" style=\"fill:#1f77b4;\"/>\n   </g>\n   <g id=\"patch_37\">\n    <path clip-path=\"url(#p7dbe516fb0)\" d=\"M 251.958836 10.999219 \nL 256.848212 10.999219 \nL 256.848212 47.441905 \nL 251.958836 47.441905 \nz\n\" style=\"fill:#1f77b4;\"/>\n   </g>\n   <g id=\"patch_38\">\n    <path clip-path=\"url(#p7dbe516fb0)\" d=\"M 258.070556 10.999219 \nL 262.959931 10.999219 \nL 262.959931 62.476897 \nL 258.070556 62.476897 \nz\n\" style=\"fill:#1f77b4;\"/>\n   </g>\n   <g id=\"patch_39\">\n    <path clip-path=\"url(#p7dbe516fb0)\" d=\"M 264.182275 10.999219 \nL 269.071651 10.999219 \nL 269.071651 157.229359 \nL 264.182275 157.229359 \nz\n\" style=\"fill:#1f77b4;\"/>\n   </g>\n   <g id=\"patch_40\">\n    <path clip-path=\"url(#p7dbe516fb0)\" d=\"M 270.293995 10.999219 \nL 275.18337 10.999219 \nL 275.18337 163.039414 \nL 270.293995 163.039414 \nz\n\" style=\"fill:#1f77b4;\"/>\n   </g>\n   <g id=\"patch_41\">\n    <path clip-path=\"url(#p7dbe516fb0)\" d=\"M 276.405714 10.999219 \nL 281.29509 10.999219 \nL 281.29509 49.835134 \nL 276.405714 49.835134 \nz\n\" style=\"fill:#1f77b4;\"/>\n   </g>\n   <g id=\"patch_42\">\n    <path clip-path=\"url(#p7dbe516fb0)\" d=\"M 282.517434 10.999219 \nL 287.40681 10.999219 \nL 287.40681 152.032792 \nL 282.517434 152.032792 \nz\n\" style=\"fill:#1f77b4;\"/>\n   </g>\n   <g id=\"patch_43\">\n    <path clip-path=\"url(#p7dbe516fb0)\" d=\"M 288.629154 10.999219 \nL 293.518529 10.999219 \nL 293.518529 38.521524 \nL 288.629154 38.521524 \nz\n\" style=\"fill:#1f77b4;\"/>\n   </g>\n   <g id=\"patch_44\">\n    <path clip-path=\"url(#p7dbe516fb0)\" d=\"M 294.740873 10.999219 \nL 299.630249 10.999219 \nL 299.630249 218.084933 \nL 294.740873 218.084933 \nz\n\" style=\"fill:#1f77b4;\"/>\n   </g>\n   <g id=\"patch_45\">\n    <path clip-path=\"url(#p7dbe516fb0)\" d=\"M 300.852593 10.999219 \nL 305.741968 10.999219 \nL 305.741968 54.28066 \nL 300.852593 54.28066 \nz\n\" style=\"fill:#1f77b4;\"/>\n   </g>\n   <g id=\"patch_46\">\n    <path clip-path=\"url(#p7dbe516fb0)\" d=\"M 306.964312 10.999219 \nL 311.853688 10.999219 \nL 311.853688 189.982425 \nL 306.964312 189.982425 \nz\n\" style=\"fill:#1f77b4;\"/>\n   </g>\n   <g id=\"patch_47\">\n    <path clip-path=\"url(#p7dbe516fb0)\" d=\"M 313.076032 10.999219 \nL 317.965408 10.999219 \nL 317.965408 173.818479 \nL 313.076032 173.818479 \nz\n\" style=\"fill:#1f77b4;\"/>\n   </g>\n   <g id=\"patch_48\">\n    <path clip-path=\"url(#p7dbe516fb0)\" d=\"M 319.187752 10.999219 \nL 324.077127 10.999219 \nL 324.077127 113.213897 \nL 319.187752 113.213897 \nz\n\" style=\"fill:#1f77b4;\"/>\n   </g>\n   <g id=\"patch_49\">\n    <path clip-path=\"url(#p7dbe516fb0)\" d=\"M 325.299471 10.999219 \nL 330.188847 10.999219 \nL 330.188847 117.516338 \nL 325.299471 117.516338 \nz\n\" style=\"fill:#1f77b4;\"/>\n   </g>\n   <g id=\"patch_50\">\n    <path clip-path=\"url(#p7dbe516fb0)\" d=\"M 331.411191 10.999219 \nL 336.300566 10.999219 \nL 336.300566 149.265594 \nL 331.411191 149.265594 \nz\n\" style=\"fill:#1f77b4;\"/>\n   </g>\n   <g id=\"patch_51\">\n    <path clip-path=\"url(#p7dbe516fb0)\" d=\"M 337.52291 10.999219 \nL 342.412286 10.999219 \nL 342.412286 94.770312 \nL 337.52291 94.770312 \nz\n\" style=\"fill:#1f77b4;\"/>\n   </g>\n   <g id=\"patch_52\">\n    <path clip-path=\"url(#p7dbe516fb0)\" d=\"M 343.63463 10.999219 \nL 348.524006 10.999219 \nL 348.524006 76.670016 \nL 343.63463 76.670016 \nz\n\" style=\"fill:#1f77b4;\"/>\n   </g>\n   <g id=\"matplotlib.axis_1\">\n    <g id=\"xtick_1\">\n     <g id=\"line2d_1\">\n      <defs>\n       <path d=\"M 0 0 \nL 0 3.5 \n\" id=\"m0e31662a87\" style=\"stroke:#000000;stroke-width:0.8;\"/>\n      </defs>\n      <g>\n       <use style=\"stroke:#000000;stroke-width:0.8;\" x=\"46.605057\" xlink:href=\"#m0e31662a87\" y=\"228.439219\"/>\n      </g>\n     </g>\n     <g id=\"text_1\">\n      <!-- 0 -->\n      <defs>\n       <path d=\"M 31.78125 66.40625 \nQ 24.171875 66.40625 20.328125 58.90625 \nQ 16.5 51.421875 16.5 36.375 \nQ 16.5 21.390625 20.328125 13.890625 \nQ 24.171875 6.390625 31.78125 6.390625 \nQ 39.453125 6.390625 43.28125 13.890625 \nQ 47.125 21.390625 47.125 36.375 \nQ 47.125 51.421875 43.28125 58.90625 \nQ 39.453125 66.40625 31.78125 66.40625 \nz\nM 31.78125 74.21875 \nQ 44.046875 74.21875 50.515625 64.515625 \nQ 56.984375 54.828125 56.984375 36.375 \nQ 56.984375 17.96875 50.515625 8.265625 \nQ 44.046875 -1.421875 31.78125 -1.421875 \nQ 19.53125 -1.421875 13.0625 8.265625 \nQ 6.59375 17.96875 6.59375 36.375 \nQ 6.59375 54.828125 13.0625 64.515625 \nQ 19.53125 74.21875 31.78125 74.21875 \nz\n\" id=\"DejaVuSans-48\"/>\n      </defs>\n      <g transform=\"translate(43.423807 243.037656)scale(0.1 -0.1)\">\n       <use xlink:href=\"#DejaVuSans-48\"/>\n      </g>\n     </g>\n    </g>\n    <g id=\"xtick_2\">\n     <g id=\"line2d_2\">\n      <g>\n       <use style=\"stroke:#000000;stroke-width:0.8;\" x=\"107.722253\" xlink:href=\"#m0e31662a87\" y=\"228.439219\"/>\n      </g>\n     </g>\n     <g id=\"text_2\">\n      <!-- 10 -->\n      <defs>\n       <path d=\"M 12.40625 8.296875 \nL 28.515625 8.296875 \nL 28.515625 63.921875 \nL 10.984375 60.40625 \nL 10.984375 69.390625 \nL 28.421875 72.90625 \nL 38.28125 72.90625 \nL 38.28125 8.296875 \nL 54.390625 8.296875 \nL 54.390625 0 \nL 12.40625 0 \nz\n\" id=\"DejaVuSans-49\"/>\n      </defs>\n      <g transform=\"translate(101.359753 243.037656)scale(0.1 -0.1)\">\n       <use xlink:href=\"#DejaVuSans-49\"/>\n       <use x=\"63.623047\" xlink:href=\"#DejaVuSans-48\"/>\n      </g>\n     </g>\n    </g>\n    <g id=\"xtick_3\">\n     <g id=\"line2d_3\">\n      <g>\n       <use style=\"stroke:#000000;stroke-width:0.8;\" x=\"168.839449\" xlink:href=\"#m0e31662a87\" y=\"228.439219\"/>\n      </g>\n     </g>\n     <g id=\"text_3\">\n      <!-- 20 -->\n      <defs>\n       <path d=\"M 19.1875 8.296875 \nL 53.609375 8.296875 \nL 53.609375 0 \nL 7.328125 0 \nL 7.328125 8.296875 \nQ 12.9375 14.109375 22.625 23.890625 \nQ 32.328125 33.6875 34.8125 36.53125 \nQ 39.546875 41.84375 41.421875 45.53125 \nQ 43.3125 49.21875 43.3125 52.78125 \nQ 43.3125 58.59375 39.234375 62.25 \nQ 35.15625 65.921875 28.609375 65.921875 \nQ 23.96875 65.921875 18.8125 64.3125 \nQ 13.671875 62.703125 7.8125 59.421875 \nL 7.8125 69.390625 \nQ 13.765625 71.78125 18.9375 73 \nQ 24.125 74.21875 28.421875 74.21875 \nQ 39.75 74.21875 46.484375 68.546875 \nQ 53.21875 62.890625 53.21875 53.421875 \nQ 53.21875 48.921875 51.53125 44.890625 \nQ 49.859375 40.875 45.40625 35.40625 \nQ 44.1875 33.984375 37.640625 27.21875 \nQ 31.109375 20.453125 19.1875 8.296875 \nz\n\" id=\"DejaVuSans-50\"/>\n      </defs>\n      <g transform=\"translate(162.476949 243.037656)scale(0.1 -0.1)\">\n       <use xlink:href=\"#DejaVuSans-50\"/>\n       <use x=\"63.623047\" xlink:href=\"#DejaVuSans-48\"/>\n      </g>\n     </g>\n    </g>\n    <g id=\"xtick_4\">\n     <g id=\"line2d_4\">\n      <g>\n       <use style=\"stroke:#000000;stroke-width:0.8;\" x=\"229.956645\" xlink:href=\"#m0e31662a87\" y=\"228.439219\"/>\n      </g>\n     </g>\n     <g id=\"text_4\">\n      <!-- 30 -->\n      <defs>\n       <path d=\"M 40.578125 39.3125 \nQ 47.65625 37.796875 51.625 33 \nQ 55.609375 28.21875 55.609375 21.1875 \nQ 55.609375 10.40625 48.1875 4.484375 \nQ 40.765625 -1.421875 27.09375 -1.421875 \nQ 22.515625 -1.421875 17.65625 -0.515625 \nQ 12.796875 0.390625 7.625 2.203125 \nL 7.625 11.71875 \nQ 11.71875 9.328125 16.59375 8.109375 \nQ 21.484375 6.890625 26.8125 6.890625 \nQ 36.078125 6.890625 40.9375 10.546875 \nQ 45.796875 14.203125 45.796875 21.1875 \nQ 45.796875 27.640625 41.28125 31.265625 \nQ 36.765625 34.90625 28.71875 34.90625 \nL 20.21875 34.90625 \nL 20.21875 43.015625 \nL 29.109375 43.015625 \nQ 36.375 43.015625 40.234375 45.921875 \nQ 44.09375 48.828125 44.09375 54.296875 \nQ 44.09375 59.90625 40.109375 62.90625 \nQ 36.140625 65.921875 28.71875 65.921875 \nQ 24.65625 65.921875 20.015625 65.03125 \nQ 15.375 64.15625 9.8125 62.3125 \nL 9.8125 71.09375 \nQ 15.4375 72.65625 20.34375 73.4375 \nQ 25.25 74.21875 29.59375 74.21875 \nQ 40.828125 74.21875 47.359375 69.109375 \nQ 53.90625 64.015625 53.90625 55.328125 \nQ 53.90625 49.265625 50.4375 45.09375 \nQ 46.96875 40.921875 40.578125 39.3125 \nz\n\" id=\"DejaVuSans-51\"/>\n      </defs>\n      <g transform=\"translate(223.594145 243.037656)scale(0.1 -0.1)\">\n       <use xlink:href=\"#DejaVuSans-51\"/>\n       <use x=\"63.623047\" xlink:href=\"#DejaVuSans-48\"/>\n      </g>\n     </g>\n    </g>\n    <g id=\"xtick_5\">\n     <g id=\"line2d_5\">\n      <g>\n       <use style=\"stroke:#000000;stroke-width:0.8;\" x=\"291.073841\" xlink:href=\"#m0e31662a87\" y=\"228.439219\"/>\n      </g>\n     </g>\n     <g id=\"text_5\">\n      <!-- 40 -->\n      <defs>\n       <path d=\"M 37.796875 64.3125 \nL 12.890625 25.390625 \nL 37.796875 25.390625 \nz\nM 35.203125 72.90625 \nL 47.609375 72.90625 \nL 47.609375 25.390625 \nL 58.015625 25.390625 \nL 58.015625 17.1875 \nL 47.609375 17.1875 \nL 47.609375 0 \nL 37.796875 0 \nL 37.796875 17.1875 \nL 4.890625 17.1875 \nL 4.890625 26.703125 \nz\n\" id=\"DejaVuSans-52\"/>\n      </defs>\n      <g transform=\"translate(284.711341 243.037656)scale(0.1 -0.1)\">\n       <use xlink:href=\"#DejaVuSans-52\"/>\n       <use x=\"63.623047\" xlink:href=\"#DejaVuSans-48\"/>\n      </g>\n     </g>\n    </g>\n    <g id=\"xtick_6\">\n     <g id=\"line2d_6\">\n      <g>\n       <use style=\"stroke:#000000;stroke-width:0.8;\" x=\"352.191037\" xlink:href=\"#m0e31662a87\" y=\"228.439219\"/>\n      </g>\n     </g>\n     <g id=\"text_6\">\n      <!-- 50 -->\n      <defs>\n       <path d=\"M 10.796875 72.90625 \nL 49.515625 72.90625 \nL 49.515625 64.59375 \nL 19.828125 64.59375 \nL 19.828125 46.734375 \nQ 21.96875 47.46875 24.109375 47.828125 \nQ 26.265625 48.1875 28.421875 48.1875 \nQ 40.625 48.1875 47.75 41.5 \nQ 54.890625 34.8125 54.890625 23.390625 \nQ 54.890625 11.625 47.5625 5.09375 \nQ 40.234375 -1.421875 26.90625 -1.421875 \nQ 22.3125 -1.421875 17.546875 -0.640625 \nQ 12.796875 0.140625 7.71875 1.703125 \nL 7.71875 11.625 \nQ 12.109375 9.234375 16.796875 8.0625 \nQ 21.484375 6.890625 26.703125 6.890625 \nQ 35.15625 6.890625 40.078125 11.328125 \nQ 45.015625 15.765625 45.015625 23.390625 \nQ 45.015625 31 40.078125 35.4375 \nQ 35.15625 39.890625 26.703125 39.890625 \nQ 22.75 39.890625 18.8125 39.015625 \nQ 14.890625 38.140625 10.796875 36.28125 \nz\n\" id=\"DejaVuSans-53\"/>\n      </defs>\n      <g transform=\"translate(345.828537 243.037656)scale(0.1 -0.1)\">\n       <use xlink:href=\"#DejaVuSans-53\"/>\n       <use x=\"63.623047\" xlink:href=\"#DejaVuSans-48\"/>\n      </g>\n     </g>\n    </g>\n   </g>\n   <g id=\"matplotlib.axis_2\">\n    <g id=\"ytick_1\">\n     <g id=\"line2d_7\">\n      <defs>\n       <path d=\"M 0 0 \nL -3.5 0 \n\" id=\"m435c671d8e\" style=\"stroke:#000000;stroke-width:0.8;\"/>\n      </defs>\n      <g>\n       <use style=\"stroke:#000000;stroke-width:0.8;\" x=\"28.942188\" xlink:href=\"#m435c671d8e\" y=\"187.925668\"/>\n      </g>\n     </g>\n     <g id=\"text_7\">\n      <!-- −8 -->\n      <defs>\n       <path d=\"M 10.59375 35.5 \nL 73.1875 35.5 \nL 73.1875 27.203125 \nL 10.59375 27.203125 \nz\n\" id=\"DejaVuSans-8722\"/>\n       <path d=\"M 31.78125 34.625 \nQ 24.75 34.625 20.71875 30.859375 \nQ 16.703125 27.09375 16.703125 20.515625 \nQ 16.703125 13.921875 20.71875 10.15625 \nQ 24.75 6.390625 31.78125 6.390625 \nQ 38.8125 6.390625 42.859375 10.171875 \nQ 46.921875 13.96875 46.921875 20.515625 \nQ 46.921875 27.09375 42.890625 30.859375 \nQ 38.875 34.625 31.78125 34.625 \nz\nM 21.921875 38.8125 \nQ 15.578125 40.375 12.03125 44.71875 \nQ 8.5 49.078125 8.5 55.328125 \nQ 8.5 64.0625 14.71875 69.140625 \nQ 20.953125 74.21875 31.78125 74.21875 \nQ 42.671875 74.21875 48.875 69.140625 \nQ 55.078125 64.0625 55.078125 55.328125 \nQ 55.078125 49.078125 51.53125 44.71875 \nQ 48 40.375 41.703125 38.8125 \nQ 48.828125 37.15625 52.796875 32.3125 \nQ 56.78125 27.484375 56.78125 20.515625 \nQ 56.78125 9.90625 50.3125 4.234375 \nQ 43.84375 -1.421875 31.78125 -1.421875 \nQ 19.734375 -1.421875 13.25 4.234375 \nQ 6.78125 9.90625 6.78125 20.515625 \nQ 6.78125 27.484375 10.78125 32.3125 \nQ 14.796875 37.15625 21.921875 38.8125 \nz\nM 18.3125 54.390625 \nQ 18.3125 48.734375 21.84375 45.5625 \nQ 25.390625 42.390625 31.78125 42.390625 \nQ 38.140625 42.390625 41.71875 45.5625 \nQ 45.3125 48.734375 45.3125 54.390625 \nQ 45.3125 60.0625 41.71875 63.234375 \nQ 38.140625 66.40625 31.78125 66.40625 \nQ 25.390625 66.40625 21.84375 63.234375 \nQ 18.3125 60.0625 18.3125 54.390625 \nz\n\" id=\"DejaVuSans-56\"/>\n      </defs>\n      <g transform=\"translate(7.2 191.724887)scale(0.1 -0.1)\">\n       <use xlink:href=\"#DejaVuSans-8722\"/>\n       <use x=\"83.789062\" xlink:href=\"#DejaVuSans-56\"/>\n      </g>\n     </g>\n    </g>\n    <g id=\"ytick_2\">\n     <g id=\"line2d_8\">\n      <g>\n       <use style=\"stroke:#000000;stroke-width:0.8;\" x=\"28.942188\" xlink:href=\"#m435c671d8e\" y=\"143.694056\"/>\n      </g>\n     </g>\n     <g id=\"text_8\">\n      <!-- −6 -->\n      <defs>\n       <path d=\"M 33.015625 40.375 \nQ 26.375 40.375 22.484375 35.828125 \nQ 18.609375 31.296875 18.609375 23.390625 \nQ 18.609375 15.53125 22.484375 10.953125 \nQ 26.375 6.390625 33.015625 6.390625 \nQ 39.65625 6.390625 43.53125 10.953125 \nQ 47.40625 15.53125 47.40625 23.390625 \nQ 47.40625 31.296875 43.53125 35.828125 \nQ 39.65625 40.375 33.015625 40.375 \nz\nM 52.59375 71.296875 \nL 52.59375 62.3125 \nQ 48.875 64.0625 45.09375 64.984375 \nQ 41.3125 65.921875 37.59375 65.921875 \nQ 27.828125 65.921875 22.671875 59.328125 \nQ 17.53125 52.734375 16.796875 39.40625 \nQ 19.671875 43.65625 24.015625 45.921875 \nQ 28.375 48.1875 33.59375 48.1875 \nQ 44.578125 48.1875 50.953125 41.515625 \nQ 57.328125 34.859375 57.328125 23.390625 \nQ 57.328125 12.15625 50.6875 5.359375 \nQ 44.046875 -1.421875 33.015625 -1.421875 \nQ 20.359375 -1.421875 13.671875 8.265625 \nQ 6.984375 17.96875 6.984375 36.375 \nQ 6.984375 53.65625 15.1875 63.9375 \nQ 23.390625 74.21875 37.203125 74.21875 \nQ 40.921875 74.21875 44.703125 73.484375 \nQ 48.484375 72.75 52.59375 71.296875 \nz\n\" id=\"DejaVuSans-54\"/>\n      </defs>\n      <g transform=\"translate(7.2 147.493274)scale(0.1 -0.1)\">\n       <use xlink:href=\"#DejaVuSans-8722\"/>\n       <use x=\"83.789062\" xlink:href=\"#DejaVuSans-54\"/>\n      </g>\n     </g>\n    </g>\n    <g id=\"ytick_3\">\n     <g id=\"line2d_9\">\n      <g>\n       <use style=\"stroke:#000000;stroke-width:0.8;\" x=\"28.942188\" xlink:href=\"#m435c671d8e\" y=\"99.462443\"/>\n      </g>\n     </g>\n     <g id=\"text_9\">\n      <!-- −4 -->\n      <g transform=\"translate(7.2 103.261662)scale(0.1 -0.1)\">\n       <use xlink:href=\"#DejaVuSans-8722\"/>\n       <use x=\"83.789062\" xlink:href=\"#DejaVuSans-52\"/>\n      </g>\n     </g>\n    </g>\n    <g id=\"ytick_4\">\n     <g id=\"line2d_10\">\n      <g>\n       <use style=\"stroke:#000000;stroke-width:0.8;\" x=\"28.942188\" xlink:href=\"#m435c671d8e\" y=\"55.230831\"/>\n      </g>\n     </g>\n     <g id=\"text_10\">\n      <!-- −2 -->\n      <g transform=\"translate(7.2 59.03005)scale(0.1 -0.1)\">\n       <use xlink:href=\"#DejaVuSans-8722\"/>\n       <use x=\"83.789062\" xlink:href=\"#DejaVuSans-50\"/>\n      </g>\n     </g>\n    </g>\n    <g id=\"ytick_5\">\n     <g id=\"line2d_11\">\n      <g>\n       <use style=\"stroke:#000000;stroke-width:0.8;\" x=\"28.942188\" xlink:href=\"#m435c671d8e\" y=\"10.999219\"/>\n      </g>\n     </g>\n     <g id=\"text_11\">\n      <!-- 0 -->\n      <g transform=\"translate(15.579688 14.798437)scale(0.1 -0.1)\">\n       <use xlink:href=\"#DejaVuSans-48\"/>\n      </g>\n     </g>\n    </g>\n   </g>\n   <g id=\"line2d_12\">\n    <path clip-path=\"url(#p7dbe516fb0)\" d=\"M 46.605057 166.222518 \nL 52.716777 98.498203 \nL 58.828496 58.464411 \nL 64.940216 106.954289 \nL 71.051936 178.968089 \nL 77.163655 46.362068 \nL 83.275375 193.548408 \nL 89.387094 33.112337 \nL 95.498814 115.144897 \nL 101.610534 156.21819 \nL 107.722253 120.759609 \nL 113.833973 60.716779 \nL 119.945692 64.858608 \nL 126.057412 151.620377 \nL 132.169132 54.558801 \nL 138.280851 195.051959 \nL 144.392571 109.263847 \nL 150.50429 92.688811 \nL 156.61601 82.582327 \nL 162.72773 117.339487 \nL 168.839449 186.702509 \nL 174.951169 124.146691 \nL 181.062888 32.694616 \nL 187.174608 89.540869 \nL 193.286328 64.076417 \nL 199.398047 111.097586 \nL 205.509767 53.207938 \nL 211.621487 41.979282 \nL 217.733206 153.269423 \nL 223.844926 196.388395 \nL 229.956645 19.069925 \nL 236.068365 40.542282 \nL 242.180085 189.514015 \nL 248.291804 56.770536 \nL 254.403524 47.441905 \nL 260.515243 62.476897 \nL 266.626963 157.229359 \nL 272.738683 163.039414 \nL 278.850402 49.835134 \nL 284.962122 152.032792 \nL 291.073841 38.521524 \nL 297.185561 218.084933 \nL 303.297281 54.28066 \nL 309.409 189.982425 \nL 315.52072 173.818479 \nL 321.632439 113.213897 \nL 327.744159 117.516338 \nL 333.855879 149.265594 \nL 339.967598 94.770312 \nL 346.079318 76.670016 \n\" style=\"fill:none;stroke:#008000;stroke-linecap:square;stroke-width:1.5;\"/>\n   </g>\n   <g id=\"patch_53\">\n    <path d=\"M 28.942188 228.439219 \nL 28.942188 10.999219 \n\" style=\"fill:none;stroke:#000000;stroke-linecap:square;stroke-linejoin:miter;stroke-width:0.8;\"/>\n   </g>\n   <g id=\"patch_54\">\n    <path d=\"M 363.742188 228.439219 \nL 363.742188 10.999219 \n\" style=\"fill:none;stroke:#000000;stroke-linecap:square;stroke-linejoin:miter;stroke-width:0.8;\"/>\n   </g>\n   <g id=\"patch_55\">\n    <path d=\"M 28.942187 228.439219 \nL 363.742188 228.439219 \n\" style=\"fill:none;stroke:#000000;stroke-linecap:square;stroke-linejoin:miter;stroke-width:0.8;\"/>\n   </g>\n   <g id=\"patch_56\">\n    <path d=\"M 28.942187 10.999219 \nL 363.742188 10.999219 \n\" style=\"fill:none;stroke:#000000;stroke-linecap:square;stroke-linejoin:miter;stroke-width:0.8;\"/>\n   </g>\n  </g>\n </g>\n <defs>\n  <clipPath id=\"p7dbe516fb0\">\n   <rect height=\"217.44\" width=\"334.8\" x=\"28.942188\" y=\"10.999219\"/>\n  </clipPath>\n </defs>\n</svg>\n",
      "image/png": "[encoded data removed]"
     },
     "metadata": {
      "needs_background": "light"
     }
    }
   ],
   "source": [
    "# matplotlib_composite_line_bar\n",
    "y = np.arange(start=0, stop=x.shape[0])\n",
    "fig, ax = plt.subplots()\n",
    "ax.bar(y, x)\n",
    "ax.plot(y, x, color=\"green\")\n",
    "plt.show()"
   ]
  },
  {
   "cell_type": "code",
   "execution_count": 13,
   "metadata": {},
   "outputs": [
    {
     "output_type": "display_data",
     "data": {
      "application/vnd.plotly.v1+json": {
       "config": {
        "plotlyServerURL": "https://plot.ly"
       },
       "data": [
        {
         "type": "scatter",
         "x": [
          0,
          0.01,
          0.02,
          0.03,
          0.04,
          0.05,
          0.06,
          0.07,
          0.08,
          0.09,
          0.1,
          0.11,
          0.12,
          0.13,
          0.14,
          0.15,
          0.16,
          0.17,
          0.18,
          0.19,
          0.2,
          0.21,
          0.22,
          0.23,
          0.24,
          0.25,
          0.26,
          0.27,
          0.28,
          0.29,
          0.3,
          0.31,
          0.32,
          0.33,
          0.34,
          0.35000000000000003,
          0.36,
          0.37,
          0.38,
          0.39,
          0.4,
          0.41000000000000003,
          0.42,
          0.43,
          0.44,
          0.45,
          0.46,
          0.47000000000000003,
          0.48,
          0.49,
          0.5,
          0.51,
          0.52,
          0.53,
          0.54,
          0.55,
          0.56,
          0.5700000000000001,
          0.58,
          0.59,
          0.6,
          0.61,
          0.62,
          0.63,
          0.64,
          0.65,
          0.66,
          0.67,
          0.68,
          0.6900000000000001,
          0.7000000000000001,
          0.71,
          0.72,
          0.73,
          0.74,
          0.75,
          0.76,
          0.77,
          0.78,
          0.79,
          0.8,
          0.81,
          0.8200000000000001,
          0.8300000000000001,
          0.84,
          0.85,
          0.86,
          0.87,
          0.88,
          0.89,
          0.9,
          0.91,
          0.92,
          0.93,
          0.9400000000000001,
          0.9500000000000001,
          0.96,
          0.97,
          0.98,
          0.99,
          1,
          1.01,
          1.02,
          1.03,
          1.04,
          1.05,
          1.06,
          1.07,
          1.08,
          1.09,
          1.1,
          1.11,
          1.12,
          1.1300000000000001,
          1.1400000000000001,
          1.1500000000000001,
          1.16,
          1.17,
          1.18,
          1.19,
          1.2,
          1.21,
          1.22,
          1.23,
          1.24,
          1.25,
          1.26,
          1.27,
          1.28,
          1.29,
          1.3,
          1.31,
          1.32,
          1.33,
          1.34,
          1.35,
          1.36,
          1.37,
          1.3800000000000001,
          1.3900000000000001,
          1.4000000000000001,
          1.41,
          1.42,
          1.43,
          1.44,
          1.45,
          1.46,
          1.47,
          1.48,
          1.49,
          1.5,
          1.51,
          1.52,
          1.53,
          1.54,
          1.55,
          1.56,
          1.57,
          1.58,
          1.59,
          1.6,
          1.61,
          1.62,
          1.6300000000000001,
          1.6400000000000001,
          1.6500000000000001,
          1.6600000000000001,
          1.67,
          1.68,
          1.69,
          1.7,
          1.71,
          1.72,
          1.73,
          1.74,
          1.75,
          1.76,
          1.77,
          1.78,
          1.79,
          1.8,
          1.81,
          1.82,
          1.83,
          1.84,
          1.85,
          1.86,
          1.87,
          1.8800000000000001,
          1.8900000000000001,
          1.9000000000000001,
          1.9100000000000001,
          1.92,
          1.93,
          1.94,
          1.95,
          1.96,
          1.97,
          1.98,
          1.99
         ],
         "y": [
          1,
          1.0627905195293135,
          1.1253332335643043,
          1.1873813145857246,
          1.2486898871648549,
          1.3090169943749475,
          1.368124552684678,
          1.4257792915650727,
          1.4817536741017152,
          1.5358267949789965,
          1.5877852522924731,
          1.6374239897486897,
          1.6845471059286887,
          1.7289686274214116,
          1.7705132427757893,
          1.8090169943749475,
          1.844327925502015,
          1.8763066800438637,
          1.9048270524660196,
          1.9297764858882513,
          1.9510565162951536,
          1.968583161128631,
          1.9822872507286886,
          1.992114701314478,
          1.9980267284282716,
          2,
          1.9980267284282716,
          1.9921147013144778,
          1.9822872507286886,
          1.968583161128631,
          1.9510565162951536,
          1.9297764858882513,
          1.9048270524660196,
          1.8763066800438635,
          1.8443279255020149,
          1.8090169943749475,
          1.7705132427757893,
          1.7289686274214113,
          1.6845471059286887,
          1.6374239897486897,
          1.5877852522924734,
          1.5358267949789965,
          1.4817536741017157,
          1.4257792915650729,
          1.3681245526846781,
          1.3090169943749475,
          1.2486898871648549,
          1.1873813145857246,
          1.1253332335643045,
          1.0627905195293135,
          1.0000000000000002,
          0.9372094804706866,
          0.8746667664356957,
          0.8126186854142752,
          0.7513101128351449,
          0.6909830056250523,
          0.6318754473153216,
          0.5742207084349273,
          0.518246325898285,
          0.46417320502100357,
          0.412214747707527,
          0.36257601025131037,
          0.3154528940713113,
          0.27103137257858867,
          0.22948675722421064,
          0.19098300562505266,
          0.1556720744979847,
          0.12369331995613642,
          0.0951729475339802,
          0.07022351411174854,
          0.04894348370484647,
          0.031416838871369035,
          0.01771274927131128,
          0.007885298685522235,
          0.001973271571728441,
          0,
          0.001973271571728441,
          0.007885298685522124,
          0.01771274927131128,
          0.031416838871368924,
          0.04894348370484636,
          0.07022351411174876,
          0.09517294753398042,
          0.12369331995613664,
          0.15567207449798448,
          0.19098300562505244,
          0.2294867572242104,
          0.27103137257858845,
          0.31545289407131105,
          0.36257601025131037,
          0.41221474770752664,
          0.4641732050210037,
          0.5182463258982847,
          0.5742207084349278,
          0.6318754473153221,
          0.6909830056250523,
          0.7513101128351447,
          0.8126186854142753,
          0.8746667664356953,
          0.9372094804706868,
          0.9999999999999998,
          1.0627905195293128,
          1.1253332335643043,
          1.1873813145857242,
          1.2486898871648549,
          1.3090169943749472,
          1.3681245526846781,
          1.4257792915650724,
          1.4817536741017157,
          1.5358267949789965,
          1.5877852522924736,
          1.6374239897486897,
          1.6845471059286892,
          1.7289686274214118,
          1.7705132427757893,
          1.809016994374948,
          1.8443279255020149,
          1.876306680043863,
          1.9048270524660194,
          1.9297764858882511,
          1.9510565162951536,
          1.968583161128631,
          1.9822872507286886,
          1.9921147013144778,
          1.9980267284282716,
          2,
          1.9980267284282716,
          1.992114701314478,
          1.9822872507286886,
          1.968583161128631,
          1.9510565162951536,
          1.9297764858882518,
          1.9048270524660191,
          1.8763066800438635,
          1.844327925502015,
          1.8090169943749477,
          1.7705132427757886,
          1.7289686274214109,
          1.6845471059286883,
          1.6374239897486897,
          1.5877852522924734,
          1.5358267949789972,
          1.481753674101716,
          1.425779291565074,
          1.368124552684678,
          1.309016994374948,
          1.2486898871648555,
          1.1873813145857257,
          1.1253332335643038,
          1.0627905195293135,
          1.0000000000000004,
          0.9372094804706873,
          0.8746667664356969,
          0.8126186854142751,
          0.7513101128351453,
          0.690983005625053,
          0.6318754473153227,
          0.5742207084349267,
          0.5182463258982845,
          0.46417320502100345,
          0.4122147477075272,
          0.3625760102513095,
          0.31545289407131083,
          0.2710313725785882,
          0.22948675722421075,
          0.19098300562505277,
          0.15567207449798437,
          0.12369331995613697,
          0.09517294753398109,
          0.07022351411174865,
          0.04894348370484658,
          0.031416838871369035,
          0.0177127492713115,
          0.007885298685522124,
          0.001973271571728441,
          0,
          0.001973271571728441,
          0.007885298685522013,
          0.01771274927131139,
          0.03141683887136881,
          0.04894348370484625,
          0.07022351411174832,
          0.09517294753398076,
          0.12369331995613653,
          0.15567207449798492,
          0.19098300562505233,
          0.2294867572242114,
          0.2710313725785889,
          0.3154528940713115,
          0.36257601025131025,
          0.41221474770752653,
          0.46417320502100423,
          0.5182463258982837,
          0.574220708434926,
          0.6318754473153219,
          0.6909830056250521,
          0.7513101128351444,
          0.8126186854142742,
          0.874666766435696,
          0.9372094804706865
         ]
        }
       ],
       "layout": {
        "template": {
         "data": {
          "bar": [
           {
            "error_x": {
             "color": "#2a3f5f"
            },
            "error_y": {
             "color": "#2a3f5f"
            },
            "marker": {
             "line": {
              "color": "#E5ECF6",
              "width": 0.5
             }
            },
            "type": "bar"
           }
          ],
          "barpolar": [
           {
            "marker": {
             "line": {
              "color": "#E5ECF6",
              "width": 0.5
             }
            },
            "type": "barpolar"
           }
          ],
          "carpet": [
           {
            "aaxis": {
             "endlinecolor": "#2a3f5f",
             "gridcolor": "white",
             "linecolor": "white",
             "minorgridcolor": "white",
             "startlinecolor": "#2a3f5f"
            },
            "baxis": {
             "endlinecolor": "#2a3f5f",
             "gridcolor": "white",
             "linecolor": "white",
             "minorgridcolor": "white",
             "startlinecolor": "#2a3f5f"
            },
            "type": "carpet"
           }
          ],
          "choropleth": [
           {
            "colorbar": {
             "outlinewidth": 0,
             "ticks": ""
            },
            "type": "choropleth"
           }
          ],
          "contour": [
           {
            "colorbar": {
             "outlinewidth": 0,
             "ticks": ""
            },
            "colorscale": [
             [
              0,
              "#0d0887"
             ],
             [
              0.1111111111111111,
              "#46039f"
             ],
             [
              0.2222222222222222,
              "#7201a8"
             ],
             [
              0.3333333333333333,
              "#9c179e"
             ],
             [
              0.4444444444444444,
              "#bd3786"
             ],
             [
              0.5555555555555556,
              "#d8576b"
             ],
             [
              0.6666666666666666,
              "#ed7953"
             ],
             [
              0.7777777777777778,
              "#fb9f3a"
             ],
             [
              0.8888888888888888,
              "#fdca26"
             ],
             [
              1,
              "#f0f921"
             ]
            ],
            "type": "contour"
           }
          ],
          "contourcarpet": [
           {
            "colorbar": {
             "outlinewidth": 0,
             "ticks": ""
            },
            "type": "contourcarpet"
           }
          ],
          "heatmap": [
           {
            "colorbar": {
             "outlinewidth": 0,
             "ticks": ""
            },
            "colorscale": [
             [
              0,
              "#0d0887"
             ],
             [
              0.1111111111111111,
              "#46039f"
             ],
             [
              0.2222222222222222,
              "#7201a8"
             ],
             [
              0.3333333333333333,
              "#9c179e"
             ],
             [
              0.4444444444444444,
              "#bd3786"
             ],
             [
              0.5555555555555556,
              "#d8576b"
             ],
             [
              0.6666666666666666,
              "#ed7953"
             ],
             [
              0.7777777777777778,
              "#fb9f3a"
             ],
             [
              0.8888888888888888,
              "#fdca26"
             ],
             [
              1,
              "#f0f921"
             ]
            ],
            "type": "heatmap"
           }
          ],
          "heatmapgl": [
           {
            "colorbar": {
             "outlinewidth": 0,
             "ticks": ""
            },
            "colorscale": [
             [
              0,
              "#0d0887"
             ],
             [
              0.1111111111111111,
              "#46039f"
             ],
             [
              0.2222222222222222,
              "#7201a8"
             ],
             [
              0.3333333333333333,
              "#9c179e"
             ],
             [
              0.4444444444444444,
              "#bd3786"
             ],
             [
              0.5555555555555556,
              "#d8576b"
             ],
             [
              0.6666666666666666,
              "#ed7953"
             ],
             [
              0.7777777777777778,
              "#fb9f3a"
             ],
             [
              0.8888888888888888,
              "#fdca26"
             ],
             [
              1,
              "#f0f921"
             ]
            ],
            "type": "heatmapgl"
           }
          ],
          "histogram": [
           {
            "marker": {
             "colorbar": {
              "outlinewidth": 0,
              "ticks": ""
             }
            },
            "type": "histogram"
           }
          ],
          "histogram2d": [
           {
            "colorbar": {
             "outlinewidth": 0,
             "ticks": ""
            },
            "colorscale": [
             [
              0,
              "#0d0887"
             ],
             [
              0.1111111111111111,
              "#46039f"
             ],
             [
              0.2222222222222222,
              "#7201a8"
             ],
             [
              0.3333333333333333,
              "#9c179e"
             ],
             [
              0.4444444444444444,
              "#bd3786"
             ],
             [
              0.5555555555555556,
              "#d8576b"
             ],
             [
              0.6666666666666666,
              "#ed7953"
             ],
             [
              0.7777777777777778,
              "#fb9f3a"
             ],
             [
              0.8888888888888888,
              "#fdca26"
             ],
             [
              1,
              "#f0f921"
             ]
            ],
            "type": "histogram2d"
           }
          ],
          "histogram2dcontour": [
           {
            "colorbar": {
             "outlinewidth": 0,
             "ticks": ""
            },
            "colorscale": [
             [
              0,
              "#0d0887"
             ],
             [
              0.1111111111111111,
              "#46039f"
             ],
             [
              0.2222222222222222,
              "#7201a8"
             ],
             [
              0.3333333333333333,
              "#9c179e"
             ],
             [
              0.4444444444444444,
              "#bd3786"
             ],
             [
              0.5555555555555556,
              "#d8576b"
             ],
             [
              0.6666666666666666,
              "#ed7953"
             ],
             [
              0.7777777777777778,
              "#fb9f3a"
             ],
             [
              0.8888888888888888,
              "#fdca26"
             ],
             [
              1,
              "#f0f921"
             ]
            ],
            "type": "histogram2dcontour"
           }
          ],
          "mesh3d": [
           {
            "colorbar": {
             "outlinewidth": 0,
             "ticks": ""
            },
            "type": "mesh3d"
           }
          ],
          "parcoords": [
           {
            "line": {
             "colorbar": {
              "outlinewidth": 0,
              "ticks": ""
             }
            },
            "type": "parcoords"
           }
          ],
          "pie": [
           {
            "automargin": true,
            "type": "pie"
           }
          ],
          "scatter": [
           {
            "marker": {
             "colorbar": {
              "outlinewidth": 0,
              "ticks": ""
             }
            },
            "type": "scatter"
           }
          ],
          "scatter3d": [
           {
            "line": {
             "colorbar": {
              "outlinewidth": 0,
              "ticks": ""
             }
            },
            "marker": {
             "colorbar": {
              "outlinewidth": 0,
              "ticks": ""
             }
            },
            "type": "scatter3d"
           }
          ],
          "scattercarpet": [
           {
            "marker": {
             "colorbar": {
              "outlinewidth": 0,
              "ticks": ""
             }
            },
            "type": "scattercarpet"
           }
          ],
          "scattergeo": [
           {
            "marker": {
             "colorbar": {
              "outlinewidth": 0,
              "ticks": ""
             }
            },
            "type": "scattergeo"
           }
          ],
          "scattergl": [
           {
            "marker": {
             "colorbar": {
              "outlinewidth": 0,
              "ticks": ""
             }
            },
            "type": "scattergl"
           }
          ],
          "scattermapbox": [
           {
            "marker": {
             "colorbar": {
              "outlinewidth": 0,
              "ticks": ""
             }
            },
            "type": "scattermapbox"
           }
          ],
          "scatterpolar": [
           {
            "marker": {
             "colorbar": {
              "outlinewidth": 0,
              "ticks": ""
             }
            },
            "type": "scatterpolar"
           }
          ],
          "scatterpolargl": [
           {
            "marker": {
             "colorbar": {
              "outlinewidth": 0,
              "ticks": ""
             }
            },
            "type": "scatterpolargl"
           }
          ],
          "scatterternary": [
           {
            "marker": {
             "colorbar": {
              "outlinewidth": 0,
              "ticks": ""
             }
            },
            "type": "scatterternary"
           }
          ],
          "surface": [
           {
            "colorbar": {
             "outlinewidth": 0,
             "ticks": ""
            },
            "colorscale": [
             [
              0,
              "#0d0887"
             ],
             [
              0.1111111111111111,
              "#46039f"
             ],
             [
              0.2222222222222222,
              "#7201a8"
             ],
             [
              0.3333333333333333,
              "#9c179e"
             ],
             [
              0.4444444444444444,
              "#bd3786"
             ],
             [
              0.5555555555555556,
              "#d8576b"
             ],
             [
              0.6666666666666666,
              "#ed7953"
             ],
             [
              0.7777777777777778,
              "#fb9f3a"
             ],
             [
              0.8888888888888888,
              "#fdca26"
             ],
             [
              1,
              "#f0f921"
             ]
            ],
            "type": "surface"
           }
          ],
          "table": [
           {
            "cells": {
             "fill": {
              "color": "#EBF0F8"
             },
             "line": {
              "color": "white"
             }
            },
            "header": {
             "fill": {
              "color": "#C8D4E3"
             },
             "line": {
              "color": "white"
             }
            },
            "type": "table"
           }
          ]
         },
         "layout": {
          "annotationdefaults": {
           "arrowcolor": "#2a3f5f",
           "arrowhead": 0,
           "arrowwidth": 1
          },
          "coloraxis": {
           "colorbar": {
            "outlinewidth": 0,
            "ticks": ""
           }
          },
          "colorscale": {
           "diverging": [
            [
             0,
             "#8e0152"
            ],
            [
             0.1,
             "#c51b7d"
            ],
            [
             0.2,
             "#de77ae"
            ],
            [
             0.3,
             "#f1b6da"
            ],
            [
             0.4,
             "#fde0ef"
            ],
            [
             0.5,
             "#f7f7f7"
            ],
            [
             0.6,
             "#e6f5d0"
            ],
            [
             0.7,
             "#b8e186"
            ],
            [
             0.8,
             "#7fbc41"
            ],
            [
             0.9,
             "#4d9221"
            ],
            [
             1,
             "#276419"
            ]
           ],
           "sequential": [
            [
             0,
             "#0d0887"
            ],
            [
             0.1111111111111111,
             "#46039f"
            ],
            [
             0.2222222222222222,
             "#7201a8"
            ],
            [
             0.3333333333333333,
             "#9c179e"
            ],
            [
             0.4444444444444444,
             "#bd3786"
            ],
            [
             0.5555555555555556,
             "#d8576b"
            ],
            [
             0.6666666666666666,
             "#ed7953"
            ],
            [
             0.7777777777777778,
             "#fb9f3a"
            ],
            [
             0.8888888888888888,
             "#fdca26"
            ],
            [
             1,
             "#f0f921"
            ]
           ],
           "sequentialminus": [
            [
             0,
             "#0d0887"
            ],
            [
             0.1111111111111111,
             "#46039f"
            ],
            [
             0.2222222222222222,
             "#7201a8"
            ],
            [
             0.3333333333333333,
             "#9c179e"
            ],
            [
             0.4444444444444444,
             "#bd3786"
            ],
            [
             0.5555555555555556,
             "#d8576b"
            ],
            [
             0.6666666666666666,
             "#ed7953"
            ],
            [
             0.7777777777777778,
             "#fb9f3a"
            ],
            [
             0.8888888888888888,
             "#fdca26"
            ],
            [
             1,
             "#f0f921"
            ]
           ]
          },
          "colorway": [
           "#636efa",
           "#EF553B",
           "#00cc96",
           "#ab63fa",
           "#FFA15A",
           "#19d3f3",
           "#FF6692",
           "#B6E880",
           "#FF97FF",
           "#FECB52"
          ],
          "font": {
           "color": "#2a3f5f"
          },
          "geo": {
           "bgcolor": "white",
           "lakecolor": "white",
           "landcolor": "#E5ECF6",
           "showlakes": true,
           "showland": true,
           "subunitcolor": "white"
          },
          "hoverlabel": {
           "align": "left"
          },
          "hovermode": "closest",
          "mapbox": {
           "style": "light"
          },
          "paper_bgcolor": "white",
          "plot_bgcolor": "#E5ECF6",
          "polar": {
           "angularaxis": {
            "gridcolor": "white",
            "linecolor": "white",
            "ticks": ""
           },
           "bgcolor": "#E5ECF6",
           "radialaxis": {
            "gridcolor": "white",
            "linecolor": "white",
            "ticks": ""
           }
          },
          "scene": {
           "xaxis": {
            "backgroundcolor": "#E5ECF6",
            "gridcolor": "white",
            "gridwidth": 2,
            "linecolor": "white",
            "showbackground": true,
            "ticks": "",
            "zerolinecolor": "white"
           },
           "yaxis": {
            "backgroundcolor": "#E5ECF6",
            "gridcolor": "white",
            "gridwidth": 2,
            "linecolor": "white",
            "showbackground": true,
            "ticks": "",
            "zerolinecolor": "white"
           },
           "zaxis": {
            "backgroundcolor": "#E5ECF6",
            "gridcolor": "white",
            "gridwidth": 2,
            "linecolor": "white",
            "showbackground": true,
            "ticks": "",
            "zerolinecolor": "white"
           }
          },
          "shapedefaults": {
           "line": {
            "color": "#2a3f5f"
           }
          },
          "ternary": {
           "aaxis": {
            "gridcolor": "white",
            "linecolor": "white",
            "ticks": ""
           },
           "baxis": {
            "gridcolor": "white",
            "linecolor": "white",
            "ticks": ""
           },
           "bgcolor": "#E5ECF6",
           "caxis": {
            "gridcolor": "white",
            "linecolor": "white",
            "ticks": ""
           }
          },
          "title": {
           "x": 0.05
          },
          "xaxis": {
           "automargin": true,
           "gridcolor": "white",
           "linecolor": "white",
           "ticks": "",
           "title": {
            "standoff": 15
           },
           "zerolinecolor": "white",
           "zerolinewidth": 2
          },
          "yaxis": {
           "automargin": true,
           "gridcolor": "white",
           "linecolor": "white",
           "ticks": "",
           "title": {
            "standoff": 15
           },
           "zerolinecolor": "white",
           "zerolinewidth": 2
          }
         }
        }
       }
      }
     },
     "metadata": {}
    }
   ],
   "source": [
    "# Plotly example\n",
    "t = np.arange(0.0, 2.0, 0.01)\n",
    "s = 1 + np.sin(2 * np.pi * t)\n",
    "\n",
    "fig = go.Figure(data=go.Scatter(x=t, y=s))\n",
    "fig.show()"
   ]
  },
  {
   "cell_type": "code",
   "execution_count": 14,
   "metadata": {},
   "outputs": [
    {
     "output_type": "display_data",
     "data": {
      "application/vnd.plotly.v1+json": {
       "config": {
        "plotlyServerURL": "https://plot.ly"
       },
       "data": [
        {
         "hovertemplate": "t=%{x}<br>s=%{y}<extra></extra>",
         "legendgroup": "",
         "line": {
          "color": "#636efa",
          "dash": "solid"
         },
         "mode": "lines",
         "name": "",
         "orientation": "v",
         "showlegend": false,
         "type": "scatter",
         "x": [
          0,
          0.01,
          0.02,
          0.03,
          0.04,
          0.05,
          0.06,
          0.07,
          0.08,
          0.09,
          0.1,
          0.11,
          0.12,
          0.13,
          0.14,
          0.15,
          0.16,
          0.17,
          0.18,
          0.19,
          0.2,
          0.21,
          0.22,
          0.23,
          0.24,
          0.25,
          0.26,
          0.27,
          0.28,
          0.29,
          0.3,
          0.31,
          0.32,
          0.33,
          0.34,
          0.35000000000000003,
          0.36,
          0.37,
          0.38,
          0.39,
          0.4,
          0.41000000000000003,
          0.42,
          0.43,
          0.44,
          0.45,
          0.46,
          0.47000000000000003,
          0.48,
          0.49,
          0.5,
          0.51,
          0.52,
          0.53,
          0.54,
          0.55,
          0.56,
          0.5700000000000001,
          0.58,
          0.59,
          0.6,
          0.61,
          0.62,
          0.63,
          0.64,
          0.65,
          0.66,
          0.67,
          0.68,
          0.6900000000000001,
          0.7000000000000001,
          0.71,
          0.72,
          0.73,
          0.74,
          0.75,
          0.76,
          0.77,
          0.78,
          0.79,
          0.8,
          0.81,
          0.8200000000000001,
          0.8300000000000001,
          0.84,
          0.85,
          0.86,
          0.87,
          0.88,
          0.89,
          0.9,
          0.91,
          0.92,
          0.93,
          0.9400000000000001,
          0.9500000000000001,
          0.96,
          0.97,
          0.98,
          0.99,
          1,
          1.01,
          1.02,
          1.03,
          1.04,
          1.05,
          1.06,
          1.07,
          1.08,
          1.09,
          1.1,
          1.11,
          1.12,
          1.1300000000000001,
          1.1400000000000001,
          1.1500000000000001,
          1.16,
          1.17,
          1.18,
          1.19,
          1.2,
          1.21,
          1.22,
          1.23,
          1.24,
          1.25,
          1.26,
          1.27,
          1.28,
          1.29,
          1.3,
          1.31,
          1.32,
          1.33,
          1.34,
          1.35,
          1.36,
          1.37,
          1.3800000000000001,
          1.3900000000000001,
          1.4000000000000001,
          1.41,
          1.42,
          1.43,
          1.44,
          1.45,
          1.46,
          1.47,
          1.48,
          1.49,
          1.5,
          1.51,
          1.52,
          1.53,
          1.54,
          1.55,
          1.56,
          1.57,
          1.58,
          1.59,
          1.6,
          1.61,
          1.62,
          1.6300000000000001,
          1.6400000000000001,
          1.6500000000000001,
          1.6600000000000001,
          1.67,
          1.68,
          1.69,
          1.7,
          1.71,
          1.72,
          1.73,
          1.74,
          1.75,
          1.76,
          1.77,
          1.78,
          1.79,
          1.8,
          1.81,
          1.82,
          1.83,
          1.84,
          1.85,
          1.86,
          1.87,
          1.8800000000000001,
          1.8900000000000001,
          1.9000000000000001,
          1.9100000000000001,
          1.92,
          1.93,
          1.94,
          1.95,
          1.96,
          1.97,
          1.98,
          1.99
         ],
         "xaxis": "x",
         "y": [
          1,
          1.0627905195293135,
          1.1253332335643043,
          1.1873813145857246,
          1.2486898871648549,
          1.3090169943749475,
          1.368124552684678,
          1.4257792915650727,
          1.4817536741017152,
          1.5358267949789965,
          1.5877852522924731,
          1.6374239897486897,
          1.6845471059286887,
          1.7289686274214116,
          1.7705132427757893,
          1.8090169943749475,
          1.844327925502015,
          1.8763066800438637,
          1.9048270524660196,
          1.9297764858882513,
          1.9510565162951536,
          1.968583161128631,
          1.9822872507286886,
          1.992114701314478,
          1.9980267284282716,
          2,
          1.9980267284282716,
          1.9921147013144778,
          1.9822872507286886,
          1.968583161128631,
          1.9510565162951536,
          1.9297764858882513,
          1.9048270524660196,
          1.8763066800438635,
          1.8443279255020149,
          1.8090169943749475,
          1.7705132427757893,
          1.7289686274214113,
          1.6845471059286887,
          1.6374239897486897,
          1.5877852522924734,
          1.5358267949789965,
          1.4817536741017157,
          1.4257792915650729,
          1.3681245526846781,
          1.3090169943749475,
          1.2486898871648549,
          1.1873813145857246,
          1.1253332335643045,
          1.0627905195293135,
          1.0000000000000002,
          0.9372094804706866,
          0.8746667664356957,
          0.8126186854142752,
          0.7513101128351449,
          0.6909830056250523,
          0.6318754473153216,
          0.5742207084349273,
          0.518246325898285,
          0.46417320502100357,
          0.412214747707527,
          0.36257601025131037,
          0.3154528940713113,
          0.27103137257858867,
          0.22948675722421064,
          0.19098300562505266,
          0.1556720744979847,
          0.12369331995613642,
          0.0951729475339802,
          0.07022351411174854,
          0.04894348370484647,
          0.031416838871369035,
          0.01771274927131128,
          0.007885298685522235,
          0.001973271571728441,
          0,
          0.001973271571728441,
          0.007885298685522124,
          0.01771274927131128,
          0.031416838871368924,
          0.04894348370484636,
          0.07022351411174876,
          0.09517294753398042,
          0.12369331995613664,
          0.15567207449798448,
          0.19098300562505244,
          0.2294867572242104,
          0.27103137257858845,
          0.31545289407131105,
          0.36257601025131037,
          0.41221474770752664,
          0.4641732050210037,
          0.5182463258982847,
          0.5742207084349278,
          0.6318754473153221,
          0.6909830056250523,
          0.7513101128351447,
          0.8126186854142753,
          0.8746667664356953,
          0.9372094804706868,
          0.9999999999999998,
          1.0627905195293128,
          1.1253332335643043,
          1.1873813145857242,
          1.2486898871648549,
          1.3090169943749472,
          1.3681245526846781,
          1.4257792915650724,
          1.4817536741017157,
          1.5358267949789965,
          1.5877852522924736,
          1.6374239897486897,
          1.6845471059286892,
          1.7289686274214118,
          1.7705132427757893,
          1.809016994374948,
          1.8443279255020149,
          1.876306680043863,
          1.9048270524660194,
          1.9297764858882511,
          1.9510565162951536,
          1.968583161128631,
          1.9822872507286886,
          1.9921147013144778,
          1.9980267284282716,
          2,
          1.9980267284282716,
          1.992114701314478,
          1.9822872507286886,
          1.968583161128631,
          1.9510565162951536,
          1.9297764858882518,
          1.9048270524660191,
          1.8763066800438635,
          1.844327925502015,
          1.8090169943749477,
          1.7705132427757886,
          1.7289686274214109,
          1.6845471059286883,
          1.6374239897486897,
          1.5877852522924734,
          1.5358267949789972,
          1.481753674101716,
          1.425779291565074,
          1.368124552684678,
          1.309016994374948,
          1.2486898871648555,
          1.1873813145857257,
          1.1253332335643038,
          1.0627905195293135,
          1.0000000000000004,
          0.9372094804706873,
          0.8746667664356969,
          0.8126186854142751,
          0.7513101128351453,
          0.690983005625053,
          0.6318754473153227,
          0.5742207084349267,
          0.5182463258982845,
          0.46417320502100345,
          0.4122147477075272,
          0.3625760102513095,
          0.31545289407131083,
          0.2710313725785882,
          0.22948675722421075,
          0.19098300562505277,
          0.15567207449798437,
          0.12369331995613697,
          0.09517294753398109,
          0.07022351411174865,
          0.04894348370484658,
          0.031416838871369035,
          0.0177127492713115,
          0.007885298685522124,
          0.001973271571728441,
          0,
          0.001973271571728441,
          0.007885298685522013,
          0.01771274927131139,
          0.03141683887136881,
          0.04894348370484625,
          0.07022351411174832,
          0.09517294753398076,
          0.12369331995613653,
          0.15567207449798492,
          0.19098300562505233,
          0.2294867572242114,
          0.2710313725785889,
          0.3154528940713115,
          0.36257601025131025,
          0.41221474770752653,
          0.46417320502100423,
          0.5182463258982837,
          0.574220708434926,
          0.6318754473153219,
          0.6909830056250521,
          0.7513101128351444,
          0.8126186854142742,
          0.874666766435696,
          0.9372094804706865
         ],
         "yaxis": "y"
        }
       ],
       "layout": {
        "legend": {
         "tracegroupgap": 0
        },
        "template": {
         "data": {
          "bar": [
           {
            "error_x": {
             "color": "#2a3f5f"
            },
            "error_y": {
             "color": "#2a3f5f"
            },
            "marker": {
             "line": {
              "color": "#E5ECF6",
              "width": 0.5
             }
            },
            "type": "bar"
           }
          ],
          "barpolar": [
           {
            "marker": {
             "line": {
              "color": "#E5ECF6",
              "width": 0.5
             }
            },
            "type": "barpolar"
           }
          ],
          "carpet": [
           {
            "aaxis": {
             "endlinecolor": "#2a3f5f",
             "gridcolor": "white",
             "linecolor": "white",
             "minorgridcolor": "white",
             "startlinecolor": "#2a3f5f"
            },
            "baxis": {
             "endlinecolor": "#2a3f5f",
             "gridcolor": "white",
             "linecolor": "white",
             "minorgridcolor": "white",
             "startlinecolor": "#2a3f5f"
            },
            "type": "carpet"
           }
          ],
          "choropleth": [
           {
            "colorbar": {
             "outlinewidth": 0,
             "ticks": ""
            },
            "type": "choropleth"
           }
          ],
          "contour": [
           {
            "colorbar": {
             "outlinewidth": 0,
             "ticks": ""
            },
            "colorscale": [
             [
              0,
              "#0d0887"
             ],
             [
              0.1111111111111111,
              "#46039f"
             ],
             [
              0.2222222222222222,
              "#7201a8"
             ],
             [
              0.3333333333333333,
              "#9c179e"
             ],
             [
              0.4444444444444444,
              "#bd3786"
             ],
             [
              0.5555555555555556,
              "#d8576b"
             ],
             [
              0.6666666666666666,
              "#ed7953"
             ],
             [
              0.7777777777777778,
              "#fb9f3a"
             ],
             [
              0.8888888888888888,
              "#fdca26"
             ],
             [
              1,
              "#f0f921"
             ]
            ],
            "type": "contour"
           }
          ],
          "contourcarpet": [
           {
            "colorbar": {
             "outlinewidth": 0,
             "ticks": ""
            },
            "type": "contourcarpet"
           }
          ],
          "heatmap": [
           {
            "colorbar": {
             "outlinewidth": 0,
             "ticks": ""
            },
            "colorscale": [
             [
              0,
              "#0d0887"
             ],
             [
              0.1111111111111111,
              "#46039f"
             ],
             [
              0.2222222222222222,
              "#7201a8"
             ],
             [
              0.3333333333333333,
              "#9c179e"
             ],
             [
              0.4444444444444444,
              "#bd3786"
             ],
             [
              0.5555555555555556,
              "#d8576b"
             ],
             [
              0.6666666666666666,
              "#ed7953"
             ],
             [
              0.7777777777777778,
              "#fb9f3a"
             ],
             [
              0.8888888888888888,
              "#fdca26"
             ],
             [
              1,
              "#f0f921"
             ]
            ],
            "type": "heatmap"
           }
          ],
          "heatmapgl": [
           {
            "colorbar": {
             "outlinewidth": 0,
             "ticks": ""
            },
            "colorscale": [
             [
              0,
              "#0d0887"
             ],
             [
              0.1111111111111111,
              "#46039f"
             ],
             [
              0.2222222222222222,
              "#7201a8"
             ],
             [
              0.3333333333333333,
              "#9c179e"
             ],
             [
              0.4444444444444444,
              "#bd3786"
             ],
             [
              0.5555555555555556,
              "#d8576b"
             ],
             [
              0.6666666666666666,
              "#ed7953"
             ],
             [
              0.7777777777777778,
              "#fb9f3a"
             ],
             [
              0.8888888888888888,
              "#fdca26"
             ],
             [
              1,
              "#f0f921"
             ]
            ],
            "type": "heatmapgl"
           }
          ],
          "histogram": [
           {
            "marker": {
             "colorbar": {
              "outlinewidth": 0,
              "ticks": ""
             }
            },
            "type": "histogram"
           }
          ],
          "histogram2d": [
           {
            "colorbar": {
             "outlinewidth": 0,
             "ticks": ""
            },
            "colorscale": [
             [
              0,
              "#0d0887"
             ],
             [
              0.1111111111111111,
              "#46039f"
             ],
             [
              0.2222222222222222,
              "#7201a8"
             ],
             [
              0.3333333333333333,
              "#9c179e"
             ],
             [
              0.4444444444444444,
              "#bd3786"
             ],
             [
              0.5555555555555556,
              "#d8576b"
             ],
             [
              0.6666666666666666,
              "#ed7953"
             ],
             [
              0.7777777777777778,
              "#fb9f3a"
             ],
             [
              0.8888888888888888,
              "#fdca26"
             ],
             [
              1,
              "#f0f921"
             ]
            ],
            "type": "histogram2d"
           }
          ],
          "histogram2dcontour": [
           {
            "colorbar": {
             "outlinewidth": 0,
             "ticks": ""
            },
            "colorscale": [
             [
              0,
              "#0d0887"
             ],
             [
              0.1111111111111111,
              "#46039f"
             ],
             [
              0.2222222222222222,
              "#7201a8"
             ],
             [
              0.3333333333333333,
              "#9c179e"
             ],
             [
              0.4444444444444444,
              "#bd3786"
             ],
             [
              0.5555555555555556,
              "#d8576b"
             ],
             [
              0.6666666666666666,
              "#ed7953"
             ],
             [
              0.7777777777777778,
              "#fb9f3a"
             ],
             [
              0.8888888888888888,
              "#fdca26"
             ],
             [
              1,
              "#f0f921"
             ]
            ],
            "type": "histogram2dcontour"
           }
          ],
          "mesh3d": [
           {
            "colorbar": {
             "outlinewidth": 0,
             "ticks": ""
            },
            "type": "mesh3d"
           }
          ],
          "parcoords": [
           {
            "line": {
             "colorbar": {
              "outlinewidth": 0,
              "ticks": ""
             }
            },
            "type": "parcoords"
           }
          ],
          "pie": [
           {
            "automargin": true,
            "type": "pie"
           }
          ],
          "scatter": [
           {
            "marker": {
             "colorbar": {
              "outlinewidth": 0,
              "ticks": ""
             }
            },
            "type": "scatter"
           }
          ],
          "scatter3d": [
           {
            "line": {
             "colorbar": {
              "outlinewidth": 0,
              "ticks": ""
             }
            },
            "marker": {
             "colorbar": {
              "outlinewidth": 0,
              "ticks": ""
             }
            },
            "type": "scatter3d"
           }
          ],
          "scattercarpet": [
           {
            "marker": {
             "colorbar": {
              "outlinewidth": 0,
              "ticks": ""
             }
            },
            "type": "scattercarpet"
           }
          ],
          "scattergeo": [
           {
            "marker": {
             "colorbar": {
              "outlinewidth": 0,
              "ticks": ""
             }
            },
            "type": "scattergeo"
           }
          ],
          "scattergl": [
           {
            "marker": {
             "colorbar": {
              "outlinewidth": 0,
              "ticks": ""
             }
            },
            "type": "scattergl"
           }
          ],
          "scattermapbox": [
           {
            "marker": {
             "colorbar": {
              "outlinewidth": 0,
              "ticks": ""
             }
            },
            "type": "scattermapbox"
           }
          ],
          "scatterpolar": [
           {
            "marker": {
             "colorbar": {
              "outlinewidth": 0,
              "ticks": ""
             }
            },
            "type": "scatterpolar"
           }
          ],
          "scatterpolargl": [
           {
            "marker": {
             "colorbar": {
              "outlinewidth": 0,
              "ticks": ""
             }
            },
            "type": "scatterpolargl"
           }
          ],
          "scatterternary": [
           {
            "marker": {
             "colorbar": {
              "outlinewidth": 0,
              "ticks": ""
             }
            },
            "type": "scatterternary"
           }
          ],
          "surface": [
           {
            "colorbar": {
             "outlinewidth": 0,
             "ticks": ""
            },
            "colorscale": [
             [
              0,
              "#0d0887"
             ],
             [
              0.1111111111111111,
              "#46039f"
             ],
             [
              0.2222222222222222,
              "#7201a8"
             ],
             [
              0.3333333333333333,
              "#9c179e"
             ],
             [
              0.4444444444444444,
              "#bd3786"
             ],
             [
              0.5555555555555556,
              "#d8576b"
             ],
             [
              0.6666666666666666,
              "#ed7953"
             ],
             [
              0.7777777777777778,
              "#fb9f3a"
             ],
             [
              0.8888888888888888,
              "#fdca26"
             ],
             [
              1,
              "#f0f921"
             ]
            ],
            "type": "surface"
           }
          ],
          "table": [
           {
            "cells": {
             "fill": {
              "color": "#EBF0F8"
             },
             "line": {
              "color": "white"
             }
            },
            "header": {
             "fill": {
              "color": "#C8D4E3"
             },
             "line": {
              "color": "white"
             }
            },
            "type": "table"
           }
          ]
         },
         "layout": {
          "annotationdefaults": {
           "arrowcolor": "#2a3f5f",
           "arrowhead": 0,
           "arrowwidth": 1
          },
          "coloraxis": {
           "colorbar": {
            "outlinewidth": 0,
            "ticks": ""
           }
          },
          "colorscale": {
           "diverging": [
            [
             0,
             "#8e0152"
            ],
            [
             0.1,
             "#c51b7d"
            ],
            [
             0.2,
             "#de77ae"
            ],
            [
             0.3,
             "#f1b6da"
            ],
            [
             0.4,
             "#fde0ef"
            ],
            [
             0.5,
             "#f7f7f7"
            ],
            [
             0.6,
             "#e6f5d0"
            ],
            [
             0.7,
             "#b8e186"
            ],
            [
             0.8,
             "#7fbc41"
            ],
            [
             0.9,
             "#4d9221"
            ],
            [
             1,
             "#276419"
            ]
           ],
           "sequential": [
            [
             0,
             "#0d0887"
            ],
            [
             0.1111111111111111,
             "#46039f"
            ],
            [
             0.2222222222222222,
             "#7201a8"
            ],
            [
             0.3333333333333333,
             "#9c179e"
            ],
            [
             0.4444444444444444,
             "#bd3786"
            ],
            [
             0.5555555555555556,
             "#d8576b"
            ],
            [
             0.6666666666666666,
             "#ed7953"
            ],
            [
             0.7777777777777778,
             "#fb9f3a"
            ],
            [
             0.8888888888888888,
             "#fdca26"
            ],
            [
             1,
             "#f0f921"
            ]
           ],
           "sequentialminus": [
            [
             0,
             "#0d0887"
            ],
            [
             0.1111111111111111,
             "#46039f"
            ],
            [
             0.2222222222222222,
             "#7201a8"
            ],
            [
             0.3333333333333333,
             "#9c179e"
            ],
            [
             0.4444444444444444,
             "#bd3786"
            ],
            [
             0.5555555555555556,
             "#d8576b"
            ],
            [
             0.6666666666666666,
             "#ed7953"
            ],
            [
             0.7777777777777778,
             "#fb9f3a"
            ],
            [
             0.8888888888888888,
             "#fdca26"
            ],
            [
             1,
             "#f0f921"
            ]
           ]
          },
          "colorway": [
           "#636efa",
           "#EF553B",
           "#00cc96",
           "#ab63fa",
           "#FFA15A",
           "#19d3f3",
           "#FF6692",
           "#B6E880",
           "#FF97FF",
           "#FECB52"
          ],
          "font": {
           "color": "#2a3f5f"
          },
          "geo": {
           "bgcolor": "white",
           "lakecolor": "white",
           "landcolor": "#E5ECF6",
           "showlakes": true,
           "showland": true,
           "subunitcolor": "white"
          },
          "hoverlabel": {
           "align": "left"
          },
          "hovermode": "closest",
          "mapbox": {
           "style": "light"
          },
          "paper_bgcolor": "white",
          "plot_bgcolor": "#E5ECF6",
          "polar": {
           "angularaxis": {
            "gridcolor": "white",
            "linecolor": "white",
            "ticks": ""
           },
           "bgcolor": "#E5ECF6",
           "radialaxis": {
            "gridcolor": "white",
            "linecolor": "white",
            "ticks": ""
           }
          },
          "scene": {
           "xaxis": {
            "backgroundcolor": "#E5ECF6",
            "gridcolor": "white",
            "gridwidth": 2,
            "linecolor": "white",
            "showbackground": true,
            "ticks": "",
            "zerolinecolor": "white"
           },
           "yaxis": {
            "backgroundcolor": "#E5ECF6",
            "gridcolor": "white",
            "gridwidth": 2,
            "linecolor": "white",
            "showbackground": true,
            "ticks": "",
            "zerolinecolor": "white"
           },
           "zaxis": {
            "backgroundcolor": "#E5ECF6",
            "gridcolor": "white",
            "gridwidth": 2,
            "linecolor": "white",
            "showbackground": true,
            "ticks": "",
            "zerolinecolor": "white"
           }
          },
          "shapedefaults": {
           "line": {
            "color": "#2a3f5f"
           }
          },
          "ternary": {
           "aaxis": {
            "gridcolor": "white",
            "linecolor": "white",
            "ticks": ""
           },
           "baxis": {
            "gridcolor": "white",
            "linecolor": "white",
            "ticks": ""
           },
           "bgcolor": "#E5ECF6",
           "caxis": {
            "gridcolor": "white",
            "linecolor": "white",
            "ticks": ""
           }
          },
          "title": {
           "x": 0.05
          },
          "xaxis": {
           "automargin": true,
           "gridcolor": "white",
           "linecolor": "white",
           "ticks": "",
           "title": {
            "standoff": 15
           },
           "zerolinecolor": "white",
           "zerolinewidth": 2
          },
          "yaxis": {
           "automargin": true,
           "gridcolor": "white",
           "linecolor": "white",
           "ticks": "",
           "title": {
            "standoff": 15
           },
           "zerolinecolor": "white",
           "zerolinewidth": 2
          }
         }
        },
        "title": {
         "text": "Sine wave"
        },
        "xaxis": {
         "anchor": "y",
         "domain": [
          0,
          1
         ],
         "title": {
          "text": "t"
         }
        },
        "yaxis": {
         "anchor": "x",
         "domain": [
          0,
          1
         ],
         "title": {
          "text": "s"
         }
        }
       }
      }
     },
     "metadata": {}
    }
   ],
   "source": [
    "# plotly_sin_line_example_pandas\n",
    "t = np.arange(0.0, 2.0, 0.01)\n",
    "s = 1 + np.sin(2 * np.pi * t)\n",
    "df = pd.DataFrame(dict(t=t, s=s))\n",
    "\n",
    "fig = px.line(df, x=\"t\", y=\"s\", title='Sine wave')\n",
    "fig.show()"
   ]
  },
  {
   "cell_type": "code",
   "execution_count": 15,
   "metadata": {},
   "outputs": [],
   "source": [
    "x = np.random.rand(50) * np.random.randint(-10, 10)\n",
    "y = np.random.rand(50) * np.random.randint(-10, 10)\n",
    "matrix_2D = np.random.rand(10, 10) * np.random.randint(-10, 10)\n",
    "\n",
    "df = pd.DataFrame(dict(x=x, y=y, z=x + y))\n",
    "df_matrix = pd.DataFrame(matrix_2D, columns=[f'grade of class {x}' for x in range(10)], index=[f'professor {x}' for x in range(10)])"
   ]
  },
  {
   "cell_type": "code",
   "execution_count": 16,
   "metadata": {},
   "outputs": [
    {
     "output_type": "execute_result",
     "data": {
      "text/plain": [
       "          x         y         z\n",
       "0 -0.924014  5.943599  5.019586\n",
       "1 -0.639792  6.123951  5.484158\n",
       "2 -0.600022  0.759910  0.159887\n",
       "3 -0.318484  5.076376  4.757892\n",
       "4 -0.628879  6.672514  6.043634"
      ],
      "text/html": "<div>\n<style scoped>\n    .dataframe tbody tr th:only-of-type {\n        vertical-align: middle;\n    }\n\n    .dataframe tbody tr th {\n        vertical-align: top;\n    }\n\n    .dataframe thead th {\n        text-align: right;\n    }\n</style>\n<table border=\"1\" class=\"dataframe\">\n  <thead>\n    <tr style=\"text-align: right;\">\n      <th></th>\n      <th>x</th>\n      <th>y</th>\n      <th>z</th>\n    </tr>\n  </thead>\n  <tbody>\n    <tr>\n      <th>0</th>\n      <td>-0.924014</td>\n      <td>5.943599</td>\n      <td>5.019586</td>\n    </tr>\n    <tr>\n      <th>1</th>\n      <td>-0.639792</td>\n      <td>6.123951</td>\n      <td>5.484158</td>\n    </tr>\n    <tr>\n      <th>2</th>\n      <td>-0.600022</td>\n      <td>0.759910</td>\n      <td>0.159887</td>\n    </tr>\n    <tr>\n      <th>3</th>\n      <td>-0.318484</td>\n      <td>5.076376</td>\n      <td>4.757892</td>\n    </tr>\n    <tr>\n      <th>4</th>\n      <td>-0.628879</td>\n      <td>6.672514</td>\n      <td>6.043634</td>\n    </tr>\n  </tbody>\n</table>\n</div>"
     },
     "metadata": {},
     "execution_count": 16
    }
   ],
   "source": [
    "df.head()"
   ]
  },
  {
   "cell_type": "code",
   "execution_count": 17,
   "metadata": {},
   "outputs": [
    {
     "output_type": "display_data",
     "data": {
      "application/vnd.plotly.v1+json": {
       "config": {
        "plotlyServerURL": "https://plot.ly"
       },
       "data": [
        {
         "alignmentgroup": "True",
         "hovertemplate": "x=%{x}<br>y=%{y}<extra></extra>",
         "legendgroup": "",
         "marker": {
          "color": "#636efa"
         },
         "name": "",
         "offsetgroup": "",
         "orientation": "v",
         "showlegend": false,
         "textposition": "auto",
         "type": "bar",
         "x": [
          -0.9240135913439741,
          -0.6397923338916238,
          -0.6000223422922621,
          -0.3184842700773801,
          -0.6288793668081891,
          -0.2749322203728912,
          -0.8095248677627642,
          -0.9258379181511869,
          -0.7554440774595256,
          -0.2025269989886287,
          -0.4934417336975824,
          -0.9301009004919626,
          -0.49074365575916434,
          -0.5288143697402669,
          -0.3526548057785177,
          -0.34423632585297814,
          -0.10132865014066961,
          -0.3714416139079352,
          -0.3943414027794281,
          -0.9556438271887279,
          -0.9470641870123482,
          -0.16206104289744117,
          -0.3303455954826858,
          -0.5684798602578447,
          -0.1879261288023173,
          -0.4190899056436731,
          -0.49661016552403003,
          -0.25003272162005696,
          -0.3368806027070287,
          -0.07596546126833681,
          -0.4422763805514841,
          -0.08744542069321193,
          -0.9713055480775634,
          -0.5672267774751572,
          -0.6645015156746245,
          -0.7652243601524875,
          -0.2919719903340853,
          -0.936040016440033,
          -0.8698449167045644,
          -0.9677499244079111,
          -0.18431758529013031,
          -0.48325531684887957,
          -0.20500365167505896,
          -0.7375153339955816,
          -0.3653514322181516,
          -0.34919844881119666,
          -0.07200600435950688,
          -0.8671817261026279,
          -0.34580391843614555,
          -0.07778784391887983
         ],
         "xaxis": "x",
         "y": [
          5.943599194541459,
          6.123950588063415,
          0.759909586126291,
          5.076376037418194,
          6.672513737698344,
          4.542693896331126,
          4.8019244925590945,
          0.10170163235544916,
          2.731816301737485,
          6.045643828775158,
          3.6685245839312977,
          4.38490261014306,
          7.182209581286777,
          4.402428888298758,
          7.774517289720092,
          1.8904886549836437,
          7.733103150222218,
          3.6307719756141585,
          6.550631070979995,
          0.4656082805230879,
          6.936044581547964,
          7.724365180460697,
          7.602451431247661,
          0.19619946494695828,
          4.588030028860844,
          4.2391346396094605,
          1.935810791084391,
          7.32432004981837,
          4.779261528711782,
          5.049524577736072,
          5.93131926924061,
          1.9465881896429584,
          7.358866521194142,
          5.961902991893027,
          0.5522459766185213,
          4.597381439590917,
          3.286380724166947,
          7.743593656511237,
          3.411740503323684,
          4.622260904245578,
          5.491452601450597,
          5.380871300212548,
          2.5496518129259655,
          7.493765829878366,
          6.891742558614267,
          4.143306130588379,
          0.7402440954139626,
          4.349989491590172,
          4.720353260765156,
          4.523491174232828
         ],
         "yaxis": "y"
        }
       ],
       "layout": {
        "barmode": "relative",
        "legend": {
         "tracegroupgap": 0
        },
        "margin": {
         "t": 60
        },
        "template": {
         "data": {
          "bar": [
           {
            "error_x": {
             "color": "#2a3f5f"
            },
            "error_y": {
             "color": "#2a3f5f"
            },
            "marker": {
             "line": {
              "color": "#E5ECF6",
              "width": 0.5
             }
            },
            "type": "bar"
           }
          ],
          "barpolar": [
           {
            "marker": {
             "line": {
              "color": "#E5ECF6",
              "width": 0.5
             }
            },
            "type": "barpolar"
           }
          ],
          "carpet": [
           {
            "aaxis": {
             "endlinecolor": "#2a3f5f",
             "gridcolor": "white",
             "linecolor": "white",
             "minorgridcolor": "white",
             "startlinecolor": "#2a3f5f"
            },
            "baxis": {
             "endlinecolor": "#2a3f5f",
             "gridcolor": "white",
             "linecolor": "white",
             "minorgridcolor": "white",
             "startlinecolor": "#2a3f5f"
            },
            "type": "carpet"
           }
          ],
          "choropleth": [
           {
            "colorbar": {
             "outlinewidth": 0,
             "ticks": ""
            },
            "type": "choropleth"
           }
          ],
          "contour": [
           {
            "colorbar": {
             "outlinewidth": 0,
             "ticks": ""
            },
            "colorscale": [
             [
              0,
              "#0d0887"
             ],
             [
              0.1111111111111111,
              "#46039f"
             ],
             [
              0.2222222222222222,
              "#7201a8"
             ],
             [
              0.3333333333333333,
              "#9c179e"
             ],
             [
              0.4444444444444444,
              "#bd3786"
             ],
             [
              0.5555555555555556,
              "#d8576b"
             ],
             [
              0.6666666666666666,
              "#ed7953"
             ],
             [
              0.7777777777777778,
              "#fb9f3a"
             ],
             [
              0.8888888888888888,
              "#fdca26"
             ],
             [
              1,
              "#f0f921"
             ]
            ],
            "type": "contour"
           }
          ],
          "contourcarpet": [
           {
            "colorbar": {
             "outlinewidth": 0,
             "ticks": ""
            },
            "type": "contourcarpet"
           }
          ],
          "heatmap": [
           {
            "colorbar": {
             "outlinewidth": 0,
             "ticks": ""
            },
            "colorscale": [
             [
              0,
              "#0d0887"
             ],
             [
              0.1111111111111111,
              "#46039f"
             ],
             [
              0.2222222222222222,
              "#7201a8"
             ],
             [
              0.3333333333333333,
              "#9c179e"
             ],
             [
              0.4444444444444444,
              "#bd3786"
             ],
             [
              0.5555555555555556,
              "#d8576b"
             ],
             [
              0.6666666666666666,
              "#ed7953"
             ],
             [
              0.7777777777777778,
              "#fb9f3a"
             ],
             [
              0.8888888888888888,
              "#fdca26"
             ],
             [
              1,
              "#f0f921"
             ]
            ],
            "type": "heatmap"
           }
          ],
          "heatmapgl": [
           {
            "colorbar": {
             "outlinewidth": 0,
             "ticks": ""
            },
            "colorscale": [
             [
              0,
              "#0d0887"
             ],
             [
              0.1111111111111111,
              "#46039f"
             ],
             [
              0.2222222222222222,
              "#7201a8"
             ],
             [
              0.3333333333333333,
              "#9c179e"
             ],
             [
              0.4444444444444444,
              "#bd3786"
             ],
             [
              0.5555555555555556,
              "#d8576b"
             ],
             [
              0.6666666666666666,
              "#ed7953"
             ],
             [
              0.7777777777777778,
              "#fb9f3a"
             ],
             [
              0.8888888888888888,
              "#fdca26"
             ],
             [
              1,
              "#f0f921"
             ]
            ],
            "type": "heatmapgl"
           }
          ],
          "histogram": [
           {
            "marker": {
             "colorbar": {
              "outlinewidth": 0,
              "ticks": ""
             }
            },
            "type": "histogram"
           }
          ],
          "histogram2d": [
           {
            "colorbar": {
             "outlinewidth": 0,
             "ticks": ""
            },
            "colorscale": [
             [
              0,
              "#0d0887"
             ],
             [
              0.1111111111111111,
              "#46039f"
             ],
             [
              0.2222222222222222,
              "#7201a8"
             ],
             [
              0.3333333333333333,
              "#9c179e"
             ],
             [
              0.4444444444444444,
              "#bd3786"
             ],
             [
              0.5555555555555556,
              "#d8576b"
             ],
             [
              0.6666666666666666,
              "#ed7953"
             ],
             [
              0.7777777777777778,
              "#fb9f3a"
             ],
             [
              0.8888888888888888,
              "#fdca26"
             ],
             [
              1,
              "#f0f921"
             ]
            ],
            "type": "histogram2d"
           }
          ],
          "histogram2dcontour": [
           {
            "colorbar": {
             "outlinewidth": 0,
             "ticks": ""
            },
            "colorscale": [
             [
              0,
              "#0d0887"
             ],
             [
              0.1111111111111111,
              "#46039f"
             ],
             [
              0.2222222222222222,
              "#7201a8"
             ],
             [
              0.3333333333333333,
              "#9c179e"
             ],
             [
              0.4444444444444444,
              "#bd3786"
             ],
             [
              0.5555555555555556,
              "#d8576b"
             ],
             [
              0.6666666666666666,
              "#ed7953"
             ],
             [
              0.7777777777777778,
              "#fb9f3a"
             ],
             [
              0.8888888888888888,
              "#fdca26"
             ],
             [
              1,
              "#f0f921"
             ]
            ],
            "type": "histogram2dcontour"
           }
          ],
          "mesh3d": [
           {
            "colorbar": {
             "outlinewidth": 0,
             "ticks": ""
            },
            "type": "mesh3d"
           }
          ],
          "parcoords": [
           {
            "line": {
             "colorbar": {
              "outlinewidth": 0,
              "ticks": ""
             }
            },
            "type": "parcoords"
           }
          ],
          "pie": [
           {
            "automargin": true,
            "type": "pie"
           }
          ],
          "scatter": [
           {
            "marker": {
             "colorbar": {
              "outlinewidth": 0,
              "ticks": ""
             }
            },
            "type": "scatter"
           }
          ],
          "scatter3d": [
           {
            "line": {
             "colorbar": {
              "outlinewidth": 0,
              "ticks": ""
             }
            },
            "marker": {
             "colorbar": {
              "outlinewidth": 0,
              "ticks": ""
             }
            },
            "type": "scatter3d"
           }
          ],
          "scattercarpet": [
           {
            "marker": {
             "colorbar": {
              "outlinewidth": 0,
              "ticks": ""
             }
            },
            "type": "scattercarpet"
           }
          ],
          "scattergeo": [
           {
            "marker": {
             "colorbar": {
              "outlinewidth": 0,
              "ticks": ""
             }
            },
            "type": "scattergeo"
           }
          ],
          "scattergl": [
           {
            "marker": {
             "colorbar": {
              "outlinewidth": 0,
              "ticks": ""
             }
            },
            "type": "scattergl"
           }
          ],
          "scattermapbox": [
           {
            "marker": {
             "colorbar": {
              "outlinewidth": 0,
              "ticks": ""
             }
            },
            "type": "scattermapbox"
           }
          ],
          "scatterpolar": [
           {
            "marker": {
             "colorbar": {
              "outlinewidth": 0,
              "ticks": ""
             }
            },
            "type": "scatterpolar"
           }
          ],
          "scatterpolargl": [
           {
            "marker": {
             "colorbar": {
              "outlinewidth": 0,
              "ticks": ""
             }
            },
            "type": "scatterpolargl"
           }
          ],
          "scatterternary": [
           {
            "marker": {
             "colorbar": {
              "outlinewidth": 0,
              "ticks": ""
             }
            },
            "type": "scatterternary"
           }
          ],
          "surface": [
           {
            "colorbar": {
             "outlinewidth": 0,
             "ticks": ""
            },
            "colorscale": [
             [
              0,
              "#0d0887"
             ],
             [
              0.1111111111111111,
              "#46039f"
             ],
             [
              0.2222222222222222,
              "#7201a8"
             ],
             [
              0.3333333333333333,
              "#9c179e"
             ],
             [
              0.4444444444444444,
              "#bd3786"
             ],
             [
              0.5555555555555556,
              "#d8576b"
             ],
             [
              0.6666666666666666,
              "#ed7953"
             ],
             [
              0.7777777777777778,
              "#fb9f3a"
             ],
             [
              0.8888888888888888,
              "#fdca26"
             ],
             [
              1,
              "#f0f921"
             ]
            ],
            "type": "surface"
           }
          ],
          "table": [
           {
            "cells": {
             "fill": {
              "color": "#EBF0F8"
             },
             "line": {
              "color": "white"
             }
            },
            "header": {
             "fill": {
              "color": "#C8D4E3"
             },
             "line": {
              "color": "white"
             }
            },
            "type": "table"
           }
          ]
         },
         "layout": {
          "annotationdefaults": {
           "arrowcolor": "#2a3f5f",
           "arrowhead": 0,
           "arrowwidth": 1
          },
          "coloraxis": {
           "colorbar": {
            "outlinewidth": 0,
            "ticks": ""
           }
          },
          "colorscale": {
           "diverging": [
            [
             0,
             "#8e0152"
            ],
            [
             0.1,
             "#c51b7d"
            ],
            [
             0.2,
             "#de77ae"
            ],
            [
             0.3,
             "#f1b6da"
            ],
            [
             0.4,
             "#fde0ef"
            ],
            [
             0.5,
             "#f7f7f7"
            ],
            [
             0.6,
             "#e6f5d0"
            ],
            [
             0.7,
             "#b8e186"
            ],
            [
             0.8,
             "#7fbc41"
            ],
            [
             0.9,
             "#4d9221"
            ],
            [
             1,
             "#276419"
            ]
           ],
           "sequential": [
            [
             0,
             "#0d0887"
            ],
            [
             0.1111111111111111,
             "#46039f"
            ],
            [
             0.2222222222222222,
             "#7201a8"
            ],
            [
             0.3333333333333333,
             "#9c179e"
            ],
            [
             0.4444444444444444,
             "#bd3786"
            ],
            [
             0.5555555555555556,
             "#d8576b"
            ],
            [
             0.6666666666666666,
             "#ed7953"
            ],
            [
             0.7777777777777778,
             "#fb9f3a"
            ],
            [
             0.8888888888888888,
             "#fdca26"
            ],
            [
             1,
             "#f0f921"
            ]
           ],
           "sequentialminus": [
            [
             0,
             "#0d0887"
            ],
            [
             0.1111111111111111,
             "#46039f"
            ],
            [
             0.2222222222222222,
             "#7201a8"
            ],
            [
             0.3333333333333333,
             "#9c179e"
            ],
            [
             0.4444444444444444,
             "#bd3786"
            ],
            [
             0.5555555555555556,
             "#d8576b"
            ],
            [
             0.6666666666666666,
             "#ed7953"
            ],
            [
             0.7777777777777778,
             "#fb9f3a"
            ],
            [
             0.8888888888888888,
             "#fdca26"
            ],
            [
             1,
             "#f0f921"
            ]
           ]
          },
          "colorway": [
           "#636efa",
           "#EF553B",
           "#00cc96",
           "#ab63fa",
           "#FFA15A",
           "#19d3f3",
           "#FF6692",
           "#B6E880",
           "#FF97FF",
           "#FECB52"
          ],
          "font": {
           "color": "#2a3f5f"
          },
          "geo": {
           "bgcolor": "white",
           "lakecolor": "white",
           "landcolor": "#E5ECF6",
           "showlakes": true,
           "showland": true,
           "subunitcolor": "white"
          },
          "hoverlabel": {
           "align": "left"
          },
          "hovermode": "closest",
          "mapbox": {
           "style": "light"
          },
          "paper_bgcolor": "white",
          "plot_bgcolor": "#E5ECF6",
          "polar": {
           "angularaxis": {
            "gridcolor": "white",
            "linecolor": "white",
            "ticks": ""
           },
           "bgcolor": "#E5ECF6",
           "radialaxis": {
            "gridcolor": "white",
            "linecolor": "white",
            "ticks": ""
           }
          },
          "scene": {
           "xaxis": {
            "backgroundcolor": "#E5ECF6",
            "gridcolor": "white",
            "gridwidth": 2,
            "linecolor": "white",
            "showbackground": true,
            "ticks": "",
            "zerolinecolor": "white"
           },
           "yaxis": {
            "backgroundcolor": "#E5ECF6",
            "gridcolor": "white",
            "gridwidth": 2,
            "linecolor": "white",
            "showbackground": true,
            "ticks": "",
            "zerolinecolor": "white"
           },
           "zaxis": {
            "backgroundcolor": "#E5ECF6",
            "gridcolor": "white",
            "gridwidth": 2,
            "linecolor": "white",
            "showbackground": true,
            "ticks": "",
            "zerolinecolor": "white"
           }
          },
          "shapedefaults": {
           "line": {
            "color": "#2a3f5f"
           }
          },
          "ternary": {
           "aaxis": {
            "gridcolor": "white",
            "linecolor": "white",
            "ticks": ""
           },
           "baxis": {
            "gridcolor": "white",
            "linecolor": "white",
            "ticks": ""
           },
           "bgcolor": "#E5ECF6",
           "caxis": {
            "gridcolor": "white",
            "linecolor": "white",
            "ticks": ""
           }
          },
          "title": {
           "x": 0.05
          },
          "xaxis": {
           "automargin": true,
           "gridcolor": "white",
           "linecolor": "white",
           "ticks": "",
           "title": {
            "standoff": 15
           },
           "zerolinecolor": "white",
           "zerolinewidth": 2
          },
          "yaxis": {
           "automargin": true,
           "gridcolor": "white",
           "linecolor": "white",
           "ticks": "",
           "title": {
            "standoff": 15
           },
           "zerolinecolor": "white",
           "zerolinewidth": 2
          }
         }
        },
        "xaxis": {
         "anchor": "y",
         "domain": [
          0,
          1
         ],
         "title": {
          "text": "x"
         }
        },
        "yaxis": {
         "anchor": "x",
         "domain": [
          0,
          1
         ],
         "title": {
          "text": "y"
         }
        }
       }
      }
     },
     "metadata": {}
    }
   ],
   "source": [
    "# plotly_bar_chart\n",
    "fig = px.bar(df, x=\"x\", y=\"y\")\n",
    "fig.show()"
   ]
  },
  {
   "cell_type": "code",
   "execution_count": 29,
   "metadata": {},
   "outputs": [
    {
     "output_type": "display_data",
     "data": {
      "application/vnd.plotly.v1+json": {
       "config": {
        "plotlyServerURL": "https://plot.ly"
       },
       "data": [
        {
         "domain": {
          "x": [
           0,
           1
          ],
          "y": [
           0,
           1
          ]
         },
         "hovertemplate": "y=%{value}<extra></extra>",
         "labels": [
          5.943599194541459,
          6.123950588063415,
          0.759909586126291,
          5.076376037418194,
          6.672513737698344,
          4.542693896331126,
          4.8019244925590945,
          0.10170163235544916,
          2.731816301737485,
          6.045643828775158,
          3.6685245839312977,
          4.38490261014306,
          7.182209581286777,
          4.402428888298758,
          7.774517289720092,
          1.8904886549836437,
          7.733103150222218,
          3.6307719756141585,
          6.550631070979995,
          0.4656082805230879,
          6.936044581547964,
          7.724365180460697,
          7.602451431247661,
          0.19619946494695828,
          4.588030028860844,
          4.2391346396094605,
          1.935810791084391,
          7.32432004981837,
          4.779261528711782,
          5.049524577736072,
          5.93131926924061,
          1.9465881896429584,
          7.358866521194142,
          5.961902991893027,
          0.5522459766185213,
          4.597381439590917,
          3.286380724166947,
          7.743593656511237,
          3.411740503323684,
          4.622260904245578,
          5.491452601450597,
          5.380871300212548,
          2.5496518129259655,
          7.493765829878366,
          6.891742558614267,
          4.143306130588379,
          0.7402440954139626,
          4.349989491590172,
          4.720353260765156,
          4.523491174232828
         ],
         "legendgroup": "",
         "name": "",
         "showlegend": true,
         "type": "pie",
         "values": [
          5.943599194541459,
          6.123950588063415,
          0.759909586126291,
          5.076376037418194,
          6.672513737698344,
          4.542693896331126,
          4.8019244925590945,
          0.10170163235544916,
          2.731816301737485,
          6.045643828775158,
          3.6685245839312977,
          4.38490261014306,
          7.182209581286777,
          4.402428888298758,
          7.774517289720092,
          1.8904886549836437,
          7.733103150222218,
          3.6307719756141585,
          6.550631070979995,
          0.4656082805230879,
          6.936044581547964,
          7.724365180460697,
          7.602451431247661,
          0.19619946494695828,
          4.588030028860844,
          4.2391346396094605,
          1.935810791084391,
          7.32432004981837,
          4.779261528711782,
          5.049524577736072,
          5.93131926924061,
          1.9465881896429584,
          7.358866521194142,
          5.961902991893027,
          0.5522459766185213,
          4.597381439590917,
          3.286380724166947,
          7.743593656511237,
          3.411740503323684,
          4.622260904245578,
          5.491452601450597,
          5.380871300212548,
          2.5496518129259655,
          7.493765829878366,
          6.891742558614267,
          4.143306130588379,
          0.7402440954139626,
          4.349989491590172,
          4.720353260765156,
          4.523491174232828
         ]
        }
       ],
       "layout": {
        "legend": {
         "tracegroupgap": 0
        },
        "margin": {
         "t": 60
        },
        "template": {
         "data": {
          "bar": [
           {
            "error_x": {
             "color": "#2a3f5f"
            },
            "error_y": {
             "color": "#2a3f5f"
            },
            "marker": {
             "line": {
              "color": "#E5ECF6",
              "width": 0.5
             }
            },
            "type": "bar"
           }
          ],
          "barpolar": [
           {
            "marker": {
             "line": {
              "color": "#E5ECF6",
              "width": 0.5
             }
            },
            "type": "barpolar"
           }
          ],
          "carpet": [
           {
            "aaxis": {
             "endlinecolor": "#2a3f5f",
             "gridcolor": "white",
             "linecolor": "white",
             "minorgridcolor": "white",
             "startlinecolor": "#2a3f5f"
            },
            "baxis": {
             "endlinecolor": "#2a3f5f",
             "gridcolor": "white",
             "linecolor": "white",
             "minorgridcolor": "white",
             "startlinecolor": "#2a3f5f"
            },
            "type": "carpet"
           }
          ],
          "choropleth": [
           {
            "colorbar": {
             "outlinewidth": 0,
             "ticks": ""
            },
            "type": "choropleth"
           }
          ],
          "contour": [
           {
            "colorbar": {
             "outlinewidth": 0,
             "ticks": ""
            },
            "colorscale": [
             [
              0,
              "#0d0887"
             ],
             [
              0.1111111111111111,
              "#46039f"
             ],
             [
              0.2222222222222222,
              "#7201a8"
             ],
             [
              0.3333333333333333,
              "#9c179e"
             ],
             [
              0.4444444444444444,
              "#bd3786"
             ],
             [
              0.5555555555555556,
              "#d8576b"
             ],
             [
              0.6666666666666666,
              "#ed7953"
             ],
             [
              0.7777777777777778,
              "#fb9f3a"
             ],
             [
              0.8888888888888888,
              "#fdca26"
             ],
             [
              1,
              "#f0f921"
             ]
            ],
            "type": "contour"
           }
          ],
          "contourcarpet": [
           {
            "colorbar": {
             "outlinewidth": 0,
             "ticks": ""
            },
            "type": "contourcarpet"
           }
          ],
          "heatmap": [
           {
            "colorbar": {
             "outlinewidth": 0,
             "ticks": ""
            },
            "colorscale": [
             [
              0,
              "#0d0887"
             ],
             [
              0.1111111111111111,
              "#46039f"
             ],
             [
              0.2222222222222222,
              "#7201a8"
             ],
             [
              0.3333333333333333,
              "#9c179e"
             ],
             [
              0.4444444444444444,
              "#bd3786"
             ],
             [
              0.5555555555555556,
              "#d8576b"
             ],
             [
              0.6666666666666666,
              "#ed7953"
             ],
             [
              0.7777777777777778,
              "#fb9f3a"
             ],
             [
              0.8888888888888888,
              "#fdca26"
             ],
             [
              1,
              "#f0f921"
             ]
            ],
            "type": "heatmap"
           }
          ],
          "heatmapgl": [
           {
            "colorbar": {
             "outlinewidth": 0,
             "ticks": ""
            },
            "colorscale": [
             [
              0,
              "#0d0887"
             ],
             [
              0.1111111111111111,
              "#46039f"
             ],
             [
              0.2222222222222222,
              "#7201a8"
             ],
             [
              0.3333333333333333,
              "#9c179e"
             ],
             [
              0.4444444444444444,
              "#bd3786"
             ],
             [
              0.5555555555555556,
              "#d8576b"
             ],
             [
              0.6666666666666666,
              "#ed7953"
             ],
             [
              0.7777777777777778,
              "#fb9f3a"
             ],
             [
              0.8888888888888888,
              "#fdca26"
             ],
             [
              1,
              "#f0f921"
             ]
            ],
            "type": "heatmapgl"
           }
          ],
          "histogram": [
           {
            "marker": {
             "colorbar": {
              "outlinewidth": 0,
              "ticks": ""
             }
            },
            "type": "histogram"
           }
          ],
          "histogram2d": [
           {
            "colorbar": {
             "outlinewidth": 0,
             "ticks": ""
            },
            "colorscale": [
             [
              0,
              "#0d0887"
             ],
             [
              0.1111111111111111,
              "#46039f"
             ],
             [
              0.2222222222222222,
              "#7201a8"
             ],
             [
              0.3333333333333333,
              "#9c179e"
             ],
             [
              0.4444444444444444,
              "#bd3786"
             ],
             [
              0.5555555555555556,
              "#d8576b"
             ],
             [
              0.6666666666666666,
              "#ed7953"
             ],
             [
              0.7777777777777778,
              "#fb9f3a"
             ],
             [
              0.8888888888888888,
              "#fdca26"
             ],
             [
              1,
              "#f0f921"
             ]
            ],
            "type": "histogram2d"
           }
          ],
          "histogram2dcontour": [
           {
            "colorbar": {
             "outlinewidth": 0,
             "ticks": ""
            },
            "colorscale": [
             [
              0,
              "#0d0887"
             ],
             [
              0.1111111111111111,
              "#46039f"
             ],
             [
              0.2222222222222222,
              "#7201a8"
             ],
             [
              0.3333333333333333,
              "#9c179e"
             ],
             [
              0.4444444444444444,
              "#bd3786"
             ],
             [
              0.5555555555555556,
              "#d8576b"
             ],
             [
              0.6666666666666666,
              "#ed7953"
             ],
             [
              0.7777777777777778,
              "#fb9f3a"
             ],
             [
              0.8888888888888888,
              "#fdca26"
             ],
             [
              1,
              "#f0f921"
             ]
            ],
            "type": "histogram2dcontour"
           }
          ],
          "mesh3d": [
           {
            "colorbar": {
             "outlinewidth": 0,
             "ticks": ""
            },
            "type": "mesh3d"
           }
          ],
          "parcoords": [
           {
            "line": {
             "colorbar": {
              "outlinewidth": 0,
              "ticks": ""
             }
            },
            "type": "parcoords"
           }
          ],
          "pie": [
           {
            "automargin": true,
            "type": "pie"
           }
          ],
          "scatter": [
           {
            "marker": {
             "colorbar": {
              "outlinewidth": 0,
              "ticks": ""
             }
            },
            "type": "scatter"
           }
          ],
          "scatter3d": [
           {
            "line": {
             "colorbar": {
              "outlinewidth": 0,
              "ticks": ""
             }
            },
            "marker": {
             "colorbar": {
              "outlinewidth": 0,
              "ticks": ""
             }
            },
            "type": "scatter3d"
           }
          ],
          "scattercarpet": [
           {
            "marker": {
             "colorbar": {
              "outlinewidth": 0,
              "ticks": ""
             }
            },
            "type": "scattercarpet"
           }
          ],
          "scattergeo": [
           {
            "marker": {
             "colorbar": {
              "outlinewidth": 0,
              "ticks": ""
             }
            },
            "type": "scattergeo"
           }
          ],
          "scattergl": [
           {
            "marker": {
             "colorbar": {
              "outlinewidth": 0,
              "ticks": ""
             }
            },
            "type": "scattergl"
           }
          ],
          "scattermapbox": [
           {
            "marker": {
             "colorbar": {
              "outlinewidth": 0,
              "ticks": ""
             }
            },
            "type": "scattermapbox"
           }
          ],
          "scatterpolar": [
           {
            "marker": {
             "colorbar": {
              "outlinewidth": 0,
              "ticks": ""
             }
            },
            "type": "scatterpolar"
           }
          ],
          "scatterpolargl": [
           {
            "marker": {
             "colorbar": {
              "outlinewidth": 0,
              "ticks": ""
             }
            },
            "type": "scatterpolargl"
           }
          ],
          "scatterternary": [
           {
            "marker": {
             "colorbar": {
              "outlinewidth": 0,
              "ticks": ""
             }
            },
            "type": "scatterternary"
           }
          ],
          "surface": [
           {
            "colorbar": {
             "outlinewidth": 0,
             "ticks": ""
            },
            "colorscale": [
             [
              0,
              "#0d0887"
             ],
             [
              0.1111111111111111,
              "#46039f"
             ],
             [
              0.2222222222222222,
              "#7201a8"
             ],
             [
              0.3333333333333333,
              "#9c179e"
             ],
             [
              0.4444444444444444,
              "#bd3786"
             ],
             [
              0.5555555555555556,
              "#d8576b"
             ],
             [
              0.6666666666666666,
              "#ed7953"
             ],
             [
              0.7777777777777778,
              "#fb9f3a"
             ],
             [
              0.8888888888888888,
              "#fdca26"
             ],
             [
              1,
              "#f0f921"
             ]
            ],
            "type": "surface"
           }
          ],
          "table": [
           {
            "cells": {
             "fill": {
              "color": "#EBF0F8"
             },
             "line": {
              "color": "white"
             }
            },
            "header": {
             "fill": {
              "color": "#C8D4E3"
             },
             "line": {
              "color": "white"
             }
            },
            "type": "table"
           }
          ]
         },
         "layout": {
          "annotationdefaults": {
           "arrowcolor": "#2a3f5f",
           "arrowhead": 0,
           "arrowwidth": 1
          },
          "coloraxis": {
           "colorbar": {
            "outlinewidth": 0,
            "ticks": ""
           }
          },
          "colorscale": {
           "diverging": [
            [
             0,
             "#8e0152"
            ],
            [
             0.1,
             "#c51b7d"
            ],
            [
             0.2,
             "#de77ae"
            ],
            [
             0.3,
             "#f1b6da"
            ],
            [
             0.4,
             "#fde0ef"
            ],
            [
             0.5,
             "#f7f7f7"
            ],
            [
             0.6,
             "#e6f5d0"
            ],
            [
             0.7,
             "#b8e186"
            ],
            [
             0.8,
             "#7fbc41"
            ],
            [
             0.9,
             "#4d9221"
            ],
            [
             1,
             "#276419"
            ]
           ],
           "sequential": [
            [
             0,
             "#0d0887"
            ],
            [
             0.1111111111111111,
             "#46039f"
            ],
            [
             0.2222222222222222,
             "#7201a8"
            ],
            [
             0.3333333333333333,
             "#9c179e"
            ],
            [
             0.4444444444444444,
             "#bd3786"
            ],
            [
             0.5555555555555556,
             "#d8576b"
            ],
            [
             0.6666666666666666,
             "#ed7953"
            ],
            [
             0.7777777777777778,
             "#fb9f3a"
            ],
            [
             0.8888888888888888,
             "#fdca26"
            ],
            [
             1,
             "#f0f921"
            ]
           ],
           "sequentialminus": [
            [
             0,
             "#0d0887"
            ],
            [
             0.1111111111111111,
             "#46039f"
            ],
            [
             0.2222222222222222,
             "#7201a8"
            ],
            [
             0.3333333333333333,
             "#9c179e"
            ],
            [
             0.4444444444444444,
             "#bd3786"
            ],
            [
             0.5555555555555556,
             "#d8576b"
            ],
            [
             0.6666666666666666,
             "#ed7953"
            ],
            [
             0.7777777777777778,
             "#fb9f3a"
            ],
            [
             0.8888888888888888,
             "#fdca26"
            ],
            [
             1,
             "#f0f921"
            ]
           ]
          },
          "colorway": [
           "#636efa",
           "#EF553B",
           "#00cc96",
           "#ab63fa",
           "#FFA15A",
           "#19d3f3",
           "#FF6692",
           "#B6E880",
           "#FF97FF",
           "#FECB52"
          ],
          "font": {
           "color": "#2a3f5f"
          },
          "geo": {
           "bgcolor": "white",
           "lakecolor": "white",
           "landcolor": "#E5ECF6",
           "showlakes": true,
           "showland": true,
           "subunitcolor": "white"
          },
          "hoverlabel": {
           "align": "left"
          },
          "hovermode": "closest",
          "mapbox": {
           "style": "light"
          },
          "paper_bgcolor": "white",
          "plot_bgcolor": "#E5ECF6",
          "polar": {
           "angularaxis": {
            "gridcolor": "white",
            "linecolor": "white",
            "ticks": ""
           },
           "bgcolor": "#E5ECF6",
           "radialaxis": {
            "gridcolor": "white",
            "linecolor": "white",
            "ticks": ""
           }
          },
          "scene": {
           "xaxis": {
            "backgroundcolor": "#E5ECF6",
            "gridcolor": "white",
            "gridwidth": 2,
            "linecolor": "white",
            "showbackground": true,
            "ticks": "",
            "zerolinecolor": "white"
           },
           "yaxis": {
            "backgroundcolor": "#E5ECF6",
            "gridcolor": "white",
            "gridwidth": 2,
            "linecolor": "white",
            "showbackground": true,
            "ticks": "",
            "zerolinecolor": "white"
           },
           "zaxis": {
            "backgroundcolor": "#E5ECF6",
            "gridcolor": "white",
            "gridwidth": 2,
            "linecolor": "white",
            "showbackground": true,
            "ticks": "",
            "zerolinecolor": "white"
           }
          },
          "shapedefaults": {
           "line": {
            "color": "#2a3f5f"
           }
          },
          "ternary": {
           "aaxis": {
            "gridcolor": "white",
            "linecolor": "white",
            "ticks": ""
           },
           "baxis": {
            "gridcolor": "white",
            "linecolor": "white",
            "ticks": ""
           },
           "bgcolor": "#E5ECF6",
           "caxis": {
            "gridcolor": "white",
            "linecolor": "white",
            "ticks": ""
           }
          },
          "title": {
           "x": 0.05
          },
          "xaxis": {
           "automargin": true,
           "gridcolor": "white",
           "linecolor": "white",
           "ticks": "",
           "title": {
            "standoff": 15
           },
           "zerolinecolor": "white",
           "zerolinewidth": 2
          },
          "yaxis": {
           "automargin": true,
           "gridcolor": "white",
           "linecolor": "white",
           "ticks": "",
           "title": {
            "standoff": 15
           },
           "zerolinecolor": "white",
           "zerolinewidth": 2
          }
         }
        }
       }
      }
     },
     "metadata": {}
    }
   ],
   "source": [
    "# plotly_pie_chart\n",
    "fig = px.pie(df, names=\"y\", values=\"y\")\n",
    "fig.show()"
   ]
  },
  {
   "cell_type": "code",
   "execution_count": 20,
   "metadata": {},
   "outputs": [
    {
     "output_type": "display_data",
     "data": {
      "application/vnd.plotly.v1+json": {
       "config": {
        "plotlyServerURL": "https://plot.ly"
       },
       "data": [
        {
         "alignmentgroup": "True",
         "bingroup": "x",
         "hovertemplate": "x=%{x}<br>count=%{y}<extra></extra>",
         "legendgroup": "",
         "marker": {
          "color": "#636efa"
         },
         "name": "",
         "offsetgroup": "",
         "orientation": "v",
         "showlegend": false,
         "type": "histogram",
         "x": [
          -0.9240135913439741,
          -0.6397923338916238,
          -0.6000223422922621,
          -0.3184842700773801,
          -0.6288793668081891,
          -0.2749322203728912,
          -0.8095248677627642,
          -0.9258379181511869,
          -0.7554440774595256,
          -0.2025269989886287,
          -0.4934417336975824,
          -0.9301009004919626,
          -0.49074365575916434,
          -0.5288143697402669,
          -0.3526548057785177,
          -0.34423632585297814,
          -0.10132865014066961,
          -0.3714416139079352,
          -0.3943414027794281,
          -0.9556438271887279,
          -0.9470641870123482,
          -0.16206104289744117,
          -0.3303455954826858,
          -0.5684798602578447,
          -0.1879261288023173,
          -0.4190899056436731,
          -0.49661016552403003,
          -0.25003272162005696,
          -0.3368806027070287,
          -0.07596546126833681,
          -0.4422763805514841,
          -0.08744542069321193,
          -0.9713055480775634,
          -0.5672267774751572,
          -0.6645015156746245,
          -0.7652243601524875,
          -0.2919719903340853,
          -0.936040016440033,
          -0.8698449167045644,
          -0.9677499244079111,
          -0.18431758529013031,
          -0.48325531684887957,
          -0.20500365167505896,
          -0.7375153339955816,
          -0.3653514322181516,
          -0.34919844881119666,
          -0.07200600435950688,
          -0.8671817261026279,
          -0.34580391843614555,
          -0.07778784391887983
         ],
         "xaxis": "x",
         "yaxis": "y"
        }
       ],
       "layout": {
        "barmode": "relative",
        "legend": {
         "tracegroupgap": 0
        },
        "margin": {
         "t": 60
        },
        "template": {
         "data": {
          "bar": [
           {
            "error_x": {
             "color": "#2a3f5f"
            },
            "error_y": {
             "color": "#2a3f5f"
            },
            "marker": {
             "line": {
              "color": "#E5ECF6",
              "width": 0.5
             }
            },
            "type": "bar"
           }
          ],
          "barpolar": [
           {
            "marker": {
             "line": {
              "color": "#E5ECF6",
              "width": 0.5
             }
            },
            "type": "barpolar"
           }
          ],
          "carpet": [
           {
            "aaxis": {
             "endlinecolor": "#2a3f5f",
             "gridcolor": "white",
             "linecolor": "white",
             "minorgridcolor": "white",
             "startlinecolor": "#2a3f5f"
            },
            "baxis": {
             "endlinecolor": "#2a3f5f",
             "gridcolor": "white",
             "linecolor": "white",
             "minorgridcolor": "white",
             "startlinecolor": "#2a3f5f"
            },
            "type": "carpet"
           }
          ],
          "choropleth": [
           {
            "colorbar": {
             "outlinewidth": 0,
             "ticks": ""
            },
            "type": "choropleth"
           }
          ],
          "contour": [
           {
            "colorbar": {
             "outlinewidth": 0,
             "ticks": ""
            },
            "colorscale": [
             [
              0,
              "#0d0887"
             ],
             [
              0.1111111111111111,
              "#46039f"
             ],
             [
              0.2222222222222222,
              "#7201a8"
             ],
             [
              0.3333333333333333,
              "#9c179e"
             ],
             [
              0.4444444444444444,
              "#bd3786"
             ],
             [
              0.5555555555555556,
              "#d8576b"
             ],
             [
              0.6666666666666666,
              "#ed7953"
             ],
             [
              0.7777777777777778,
              "#fb9f3a"
             ],
             [
              0.8888888888888888,
              "#fdca26"
             ],
             [
              1,
              "#f0f921"
             ]
            ],
            "type": "contour"
           }
          ],
          "contourcarpet": [
           {
            "colorbar": {
             "outlinewidth": 0,
             "ticks": ""
            },
            "type": "contourcarpet"
           }
          ],
          "heatmap": [
           {
            "colorbar": {
             "outlinewidth": 0,
             "ticks": ""
            },
            "colorscale": [
             [
              0,
              "#0d0887"
             ],
             [
              0.1111111111111111,
              "#46039f"
             ],
             [
              0.2222222222222222,
              "#7201a8"
             ],
             [
              0.3333333333333333,
              "#9c179e"
             ],
             [
              0.4444444444444444,
              "#bd3786"
             ],
             [
              0.5555555555555556,
              "#d8576b"
             ],
             [
              0.6666666666666666,
              "#ed7953"
             ],
             [
              0.7777777777777778,
              "#fb9f3a"
             ],
             [
              0.8888888888888888,
              "#fdca26"
             ],
             [
              1,
              "#f0f921"
             ]
            ],
            "type": "heatmap"
           }
          ],
          "heatmapgl": [
           {
            "colorbar": {
             "outlinewidth": 0,
             "ticks": ""
            },
            "colorscale": [
             [
              0,
              "#0d0887"
             ],
             [
              0.1111111111111111,
              "#46039f"
             ],
             [
              0.2222222222222222,
              "#7201a8"
             ],
             [
              0.3333333333333333,
              "#9c179e"
             ],
             [
              0.4444444444444444,
              "#bd3786"
             ],
             [
              0.5555555555555556,
              "#d8576b"
             ],
             [
              0.6666666666666666,
              "#ed7953"
             ],
             [
              0.7777777777777778,
              "#fb9f3a"
             ],
             [
              0.8888888888888888,
              "#fdca26"
             ],
             [
              1,
              "#f0f921"
             ]
            ],
            "type": "heatmapgl"
           }
          ],
          "histogram": [
           {
            "marker": {
             "colorbar": {
              "outlinewidth": 0,
              "ticks": ""
             }
            },
            "type": "histogram"
           }
          ],
          "histogram2d": [
           {
            "colorbar": {
             "outlinewidth": 0,
             "ticks": ""
            },
            "colorscale": [
             [
              0,
              "#0d0887"
             ],
             [
              0.1111111111111111,
              "#46039f"
             ],
             [
              0.2222222222222222,
              "#7201a8"
             ],
             [
              0.3333333333333333,
              "#9c179e"
             ],
             [
              0.4444444444444444,
              "#bd3786"
             ],
             [
              0.5555555555555556,
              "#d8576b"
             ],
             [
              0.6666666666666666,
              "#ed7953"
             ],
             [
              0.7777777777777778,
              "#fb9f3a"
             ],
             [
              0.8888888888888888,
              "#fdca26"
             ],
             [
              1,
              "#f0f921"
             ]
            ],
            "type": "histogram2d"
           }
          ],
          "histogram2dcontour": [
           {
            "colorbar": {
             "outlinewidth": 0,
             "ticks": ""
            },
            "colorscale": [
             [
              0,
              "#0d0887"
             ],
             [
              0.1111111111111111,
              "#46039f"
             ],
             [
              0.2222222222222222,
              "#7201a8"
             ],
             [
              0.3333333333333333,
              "#9c179e"
             ],
             [
              0.4444444444444444,
              "#bd3786"
             ],
             [
              0.5555555555555556,
              "#d8576b"
             ],
             [
              0.6666666666666666,
              "#ed7953"
             ],
             [
              0.7777777777777778,
              "#fb9f3a"
             ],
             [
              0.8888888888888888,
              "#fdca26"
             ],
             [
              1,
              "#f0f921"
             ]
            ],
            "type": "histogram2dcontour"
           }
          ],
          "mesh3d": [
           {
            "colorbar": {
             "outlinewidth": 0,
             "ticks": ""
            },
            "type": "mesh3d"
           }
          ],
          "parcoords": [
           {
            "line": {
             "colorbar": {
              "outlinewidth": 0,
              "ticks": ""
             }
            },
            "type": "parcoords"
           }
          ],
          "pie": [
           {
            "automargin": true,
            "type": "pie"
           }
          ],
          "scatter": [
           {
            "marker": {
             "colorbar": {
              "outlinewidth": 0,
              "ticks": ""
             }
            },
            "type": "scatter"
           }
          ],
          "scatter3d": [
           {
            "line": {
             "colorbar": {
              "outlinewidth": 0,
              "ticks": ""
             }
            },
            "marker": {
             "colorbar": {
              "outlinewidth": 0,
              "ticks": ""
             }
            },
            "type": "scatter3d"
           }
          ],
          "scattercarpet": [
           {
            "marker": {
             "colorbar": {
              "outlinewidth": 0,
              "ticks": ""
             }
            },
            "type": "scattercarpet"
           }
          ],
          "scattergeo": [
           {
            "marker": {
             "colorbar": {
              "outlinewidth": 0,
              "ticks": ""
             }
            },
            "type": "scattergeo"
           }
          ],
          "scattergl": [
           {
            "marker": {
             "colorbar": {
              "outlinewidth": 0,
              "ticks": ""
             }
            },
            "type": "scattergl"
           }
          ],
          "scattermapbox": [
           {
            "marker": {
             "colorbar": {
              "outlinewidth": 0,
              "ticks": ""
             }
            },
            "type": "scattermapbox"
           }
          ],
          "scatterpolar": [
           {
            "marker": {
             "colorbar": {
              "outlinewidth": 0,
              "ticks": ""
             }
            },
            "type": "scatterpolar"
           }
          ],
          "scatterpolargl": [
           {
            "marker": {
             "colorbar": {
              "outlinewidth": 0,
              "ticks": ""
             }
            },
            "type": "scatterpolargl"
           }
          ],
          "scatterternary": [
           {
            "marker": {
             "colorbar": {
              "outlinewidth": 0,
              "ticks": ""
             }
            },
            "type": "scatterternary"
           }
          ],
          "surface": [
           {
            "colorbar": {
             "outlinewidth": 0,
             "ticks": ""
            },
            "colorscale": [
             [
              0,
              "#0d0887"
             ],
             [
              0.1111111111111111,
              "#46039f"
             ],
             [
              0.2222222222222222,
              "#7201a8"
             ],
             [
              0.3333333333333333,
              "#9c179e"
             ],
             [
              0.4444444444444444,
              "#bd3786"
             ],
             [
              0.5555555555555556,
              "#d8576b"
             ],
             [
              0.6666666666666666,
              "#ed7953"
             ],
             [
              0.7777777777777778,
              "#fb9f3a"
             ],
             [
              0.8888888888888888,
              "#fdca26"
             ],
             [
              1,
              "#f0f921"
             ]
            ],
            "type": "surface"
           }
          ],
          "table": [
           {
            "cells": {
             "fill": {
              "color": "#EBF0F8"
             },
             "line": {
              "color": "white"
             }
            },
            "header": {
             "fill": {
              "color": "#C8D4E3"
             },
             "line": {
              "color": "white"
             }
            },
            "type": "table"
           }
          ]
         },
         "layout": {
          "annotationdefaults": {
           "arrowcolor": "#2a3f5f",
           "arrowhead": 0,
           "arrowwidth": 1
          },
          "coloraxis": {
           "colorbar": {
            "outlinewidth": 0,
            "ticks": ""
           }
          },
          "colorscale": {
           "diverging": [
            [
             0,
             "#8e0152"
            ],
            [
             0.1,
             "#c51b7d"
            ],
            [
             0.2,
             "#de77ae"
            ],
            [
             0.3,
             "#f1b6da"
            ],
            [
             0.4,
             "#fde0ef"
            ],
            [
             0.5,
             "#f7f7f7"
            ],
            [
             0.6,
             "#e6f5d0"
            ],
            [
             0.7,
             "#b8e186"
            ],
            [
             0.8,
             "#7fbc41"
            ],
            [
             0.9,
             "#4d9221"
            ],
            [
             1,
             "#276419"
            ]
           ],
           "sequential": [
            [
             0,
             "#0d0887"
            ],
            [
             0.1111111111111111,
             "#46039f"
            ],
            [
             0.2222222222222222,
             "#7201a8"
            ],
            [
             0.3333333333333333,
             "#9c179e"
            ],
            [
             0.4444444444444444,
             "#bd3786"
            ],
            [
             0.5555555555555556,
             "#d8576b"
            ],
            [
             0.6666666666666666,
             "#ed7953"
            ],
            [
             0.7777777777777778,
             "#fb9f3a"
            ],
            [
             0.8888888888888888,
             "#fdca26"
            ],
            [
             1,
             "#f0f921"
            ]
           ],
           "sequentialminus": [
            [
             0,
             "#0d0887"
            ],
            [
             0.1111111111111111,
             "#46039f"
            ],
            [
             0.2222222222222222,
             "#7201a8"
            ],
            [
             0.3333333333333333,
             "#9c179e"
            ],
            [
             0.4444444444444444,
             "#bd3786"
            ],
            [
             0.5555555555555556,
             "#d8576b"
            ],
            [
             0.6666666666666666,
             "#ed7953"
            ],
            [
             0.7777777777777778,
             "#fb9f3a"
            ],
            [
             0.8888888888888888,
             "#fdca26"
            ],
            [
             1,
             "#f0f921"
            ]
           ]
          },
          "colorway": [
           "#636efa",
           "#EF553B",
           "#00cc96",
           "#ab63fa",
           "#FFA15A",
           "#19d3f3",
           "#FF6692",
           "#B6E880",
           "#FF97FF",
           "#FECB52"
          ],
          "font": {
           "color": "#2a3f5f"
          },
          "geo": {
           "bgcolor": "white",
           "lakecolor": "white",
           "landcolor": "#E5ECF6",
           "showlakes": true,
           "showland": true,
           "subunitcolor": "white"
          },
          "hoverlabel": {
           "align": "left"
          },
          "hovermode": "closest",
          "mapbox": {
           "style": "light"
          },
          "paper_bgcolor": "white",
          "plot_bgcolor": "#E5ECF6",
          "polar": {
           "angularaxis": {
            "gridcolor": "white",
            "linecolor": "white",
            "ticks": ""
           },
           "bgcolor": "#E5ECF6",
           "radialaxis": {
            "gridcolor": "white",
            "linecolor": "white",
            "ticks": ""
           }
          },
          "scene": {
           "xaxis": {
            "backgroundcolor": "#E5ECF6",
            "gridcolor": "white",
            "gridwidth": 2,
            "linecolor": "white",
            "showbackground": true,
            "ticks": "",
            "zerolinecolor": "white"
           },
           "yaxis": {
            "backgroundcolor": "#E5ECF6",
            "gridcolor": "white",
            "gridwidth": 2,
            "linecolor": "white",
            "showbackground": true,
            "ticks": "",
            "zerolinecolor": "white"
           },
           "zaxis": {
            "backgroundcolor": "#E5ECF6",
            "gridcolor": "white",
            "gridwidth": 2,
            "linecolor": "white",
            "showbackground": true,
            "ticks": "",
            "zerolinecolor": "white"
           }
          },
          "shapedefaults": {
           "line": {
            "color": "#2a3f5f"
           }
          },
          "ternary": {
           "aaxis": {
            "gridcolor": "white",
            "linecolor": "white",
            "ticks": ""
           },
           "baxis": {
            "gridcolor": "white",
            "linecolor": "white",
            "ticks": ""
           },
           "bgcolor": "#E5ECF6",
           "caxis": {
            "gridcolor": "white",
            "linecolor": "white",
            "ticks": ""
           }
          },
          "title": {
           "x": 0.05
          },
          "xaxis": {
           "automargin": true,
           "gridcolor": "white",
           "linecolor": "white",
           "ticks": "",
           "title": {
            "standoff": 15
           },
           "zerolinecolor": "white",
           "zerolinewidth": 2
          },
          "yaxis": {
           "automargin": true,
           "gridcolor": "white",
           "linecolor": "white",
           "ticks": "",
           "title": {
            "standoff": 15
           },
           "zerolinecolor": "white",
           "zerolinewidth": 2
          }
         }
        },
        "xaxis": {
         "anchor": "y",
         "domain": [
          0,
          1
         ],
         "title": {
          "text": "x"
         }
        },
        "yaxis": {
         "anchor": "x",
         "domain": [
          0,
          1
         ],
         "title": {
          "text": "count"
         }
        }
       }
      }
     },
     "metadata": {}
    }
   ],
   "source": [
    "# plotly_histogram\n",
    "fig = px.histogram(df, x=\"x\")\n",
    "fig.show()"
   ]
  },
  {
   "cell_type": "code",
   "execution_count": 21,
   "metadata": {},
   "outputs": [
    {
     "output_type": "display_data",
     "data": {
      "application/vnd.plotly.v1+json": {
       "config": {
        "plotlyServerURL": "https://plot.ly"
       },
       "data": [
        {
         "hovertemplate": "x=%{r}<br>angle=%{theta}<extra></extra>",
         "legendgroup": "",
         "line": {
          "color": "#636efa",
          "dash": "solid"
         },
         "mode": "lines",
         "name": "",
         "r": [
          -0.9240135913439741,
          -0.6397923338916238,
          -0.6000223422922621,
          -0.3184842700773801,
          -0.6288793668081891,
          -0.2749322203728912,
          -0.8095248677627642,
          -0.9258379181511869,
          -0.7554440774595256,
          -0.2025269989886287,
          -0.4934417336975824,
          -0.9301009004919626,
          -0.49074365575916434,
          -0.5288143697402669,
          -0.3526548057785177,
          -0.34423632585297814,
          -0.10132865014066961,
          -0.3714416139079352,
          -0.3943414027794281,
          -0.9556438271887279,
          -0.9470641870123482,
          -0.16206104289744117,
          -0.3303455954826858,
          -0.5684798602578447,
          -0.1879261288023173,
          -0.4190899056436731,
          -0.49661016552403003,
          -0.25003272162005696,
          -0.3368806027070287,
          -0.07596546126833681,
          -0.4422763805514841,
          -0.08744542069321193,
          -0.9713055480775634,
          -0.5672267774751572,
          -0.6645015156746245,
          -0.7652243601524875,
          -0.2919719903340853,
          -0.936040016440033,
          -0.8698449167045644,
          -0.9677499244079111,
          -0.18431758529013031,
          -0.48325531684887957,
          -0.20500365167505896,
          -0.7375153339955816,
          -0.3653514322181516,
          -0.34919844881119666,
          -0.07200600435950688,
          -0.8671817261026279,
          -0.34580391843614555,
          -0.07778784391887983
         ],
         "showlegend": false,
         "subplot": "polar",
         "theta": [
          37.34473513090732,
          38.477916356813836,
          4.774652746333632,
          31.895811332024525,
          41.92464027866018,
          28.542587544442114,
          30.171381417833093,
          0.6390102021319382,
          17.16450804899064,
          37.98590047740101,
          23.050019764784235,
          27.551155653464292,
          45.12715371422553,
          27.661276506861714,
          48.84873280518294,
          11.878290540382928,
          48.58852009238041,
          22.81281313089828,
          41.158828897935585,
          2.925503107083817,
          43.58045340472475,
          48.53361780916024,
          47.76761113136172,
          1.2327575954312244,
          28.827442866237188,
          26.63526848275019,
          12.163057920021137,
          46.020060122099636,
          30.028985816370515,
          31.727098635073492,
          37.267578084683755,
          12.230774312293946,
          46.23712200346279,
          37.45974128149228,
          3.4698638062385343,
          28.886199512737782,
          20.64893907988397,
          48.654433887360454,
          21.436597802392857,
          29.042521799506442,
          34.50381430050751,
          33.8090114933198,
          16.019934809400223,
          47.084719357736184,
          43.30209558514941,
          26.033160202860007,
          4.651090824031454,
          27.331790059944968,
          29.65885425273688,
          28.42193328309624
         ],
         "type": "scatterpolar"
        }
       ],
       "layout": {
        "legend": {
         "tracegroupgap": 0
        },
        "margin": {
         "t": 60
        },
        "polar": {
         "angularaxis": {
          "direction": "clockwise",
          "rotation": 90
         },
         "domain": {
          "x": [
           0,
           1
          ],
          "y": [
           0,
           1
          ]
         }
        },
        "template": {
         "data": {
          "bar": [
           {
            "error_x": {
             "color": "#2a3f5f"
            },
            "error_y": {
             "color": "#2a3f5f"
            },
            "marker": {
             "line": {
              "color": "#E5ECF6",
              "width": 0.5
             }
            },
            "type": "bar"
           }
          ],
          "barpolar": [
           {
            "marker": {
             "line": {
              "color": "#E5ECF6",
              "width": 0.5
             }
            },
            "type": "barpolar"
           }
          ],
          "carpet": [
           {
            "aaxis": {
             "endlinecolor": "#2a3f5f",
             "gridcolor": "white",
             "linecolor": "white",
             "minorgridcolor": "white",
             "startlinecolor": "#2a3f5f"
            },
            "baxis": {
             "endlinecolor": "#2a3f5f",
             "gridcolor": "white",
             "linecolor": "white",
             "minorgridcolor": "white",
             "startlinecolor": "#2a3f5f"
            },
            "type": "carpet"
           }
          ],
          "choropleth": [
           {
            "colorbar": {
             "outlinewidth": 0,
             "ticks": ""
            },
            "type": "choropleth"
           }
          ],
          "contour": [
           {
            "colorbar": {
             "outlinewidth": 0,
             "ticks": ""
            },
            "colorscale": [
             [
              0,
              "#0d0887"
             ],
             [
              0.1111111111111111,
              "#46039f"
             ],
             [
              0.2222222222222222,
              "#7201a8"
             ],
             [
              0.3333333333333333,
              "#9c179e"
             ],
             [
              0.4444444444444444,
              "#bd3786"
             ],
             [
              0.5555555555555556,
              "#d8576b"
             ],
             [
              0.6666666666666666,
              "#ed7953"
             ],
             [
              0.7777777777777778,
              "#fb9f3a"
             ],
             [
              0.8888888888888888,
              "#fdca26"
             ],
             [
              1,
              "#f0f921"
             ]
            ],
            "type": "contour"
           }
          ],
          "contourcarpet": [
           {
            "colorbar": {
             "outlinewidth": 0,
             "ticks": ""
            },
            "type": "contourcarpet"
           }
          ],
          "heatmap": [
           {
            "colorbar": {
             "outlinewidth": 0,
             "ticks": ""
            },
            "colorscale": [
             [
              0,
              "#0d0887"
             ],
             [
              0.1111111111111111,
              "#46039f"
             ],
             [
              0.2222222222222222,
              "#7201a8"
             ],
             [
              0.3333333333333333,
              "#9c179e"
             ],
             [
              0.4444444444444444,
              "#bd3786"
             ],
             [
              0.5555555555555556,
              "#d8576b"
             ],
             [
              0.6666666666666666,
              "#ed7953"
             ],
             [
              0.7777777777777778,
              "#fb9f3a"
             ],
             [
              0.8888888888888888,
              "#fdca26"
             ],
             [
              1,
              "#f0f921"
             ]
            ],
            "type": "heatmap"
           }
          ],
          "heatmapgl": [
           {
            "colorbar": {
             "outlinewidth": 0,
             "ticks": ""
            },
            "colorscale": [
             [
              0,
              "#0d0887"
             ],
             [
              0.1111111111111111,
              "#46039f"
             ],
             [
              0.2222222222222222,
              "#7201a8"
             ],
             [
              0.3333333333333333,
              "#9c179e"
             ],
             [
              0.4444444444444444,
              "#bd3786"
             ],
             [
              0.5555555555555556,
              "#d8576b"
             ],
             [
              0.6666666666666666,
              "#ed7953"
             ],
             [
              0.7777777777777778,
              "#fb9f3a"
             ],
             [
              0.8888888888888888,
              "#fdca26"
             ],
             [
              1,
              "#f0f921"
             ]
            ],
            "type": "heatmapgl"
           }
          ],
          "histogram": [
           {
            "marker": {
             "colorbar": {
              "outlinewidth": 0,
              "ticks": ""
             }
            },
            "type": "histogram"
           }
          ],
          "histogram2d": [
           {
            "colorbar": {
             "outlinewidth": 0,
             "ticks": ""
            },
            "colorscale": [
             [
              0,
              "#0d0887"
             ],
             [
              0.1111111111111111,
              "#46039f"
             ],
             [
              0.2222222222222222,
              "#7201a8"
             ],
             [
              0.3333333333333333,
              "#9c179e"
             ],
             [
              0.4444444444444444,
              "#bd3786"
             ],
             [
              0.5555555555555556,
              "#d8576b"
             ],
             [
              0.6666666666666666,
              "#ed7953"
             ],
             [
              0.7777777777777778,
              "#fb9f3a"
             ],
             [
              0.8888888888888888,
              "#fdca26"
             ],
             [
              1,
              "#f0f921"
             ]
            ],
            "type": "histogram2d"
           }
          ],
          "histogram2dcontour": [
           {
            "colorbar": {
             "outlinewidth": 0,
             "ticks": ""
            },
            "colorscale": [
             [
              0,
              "#0d0887"
             ],
             [
              0.1111111111111111,
              "#46039f"
             ],
             [
              0.2222222222222222,
              "#7201a8"
             ],
             [
              0.3333333333333333,
              "#9c179e"
             ],
             [
              0.4444444444444444,
              "#bd3786"
             ],
             [
              0.5555555555555556,
              "#d8576b"
             ],
             [
              0.6666666666666666,
              "#ed7953"
             ],
             [
              0.7777777777777778,
              "#fb9f3a"
             ],
             [
              0.8888888888888888,
              "#fdca26"
             ],
             [
              1,
              "#f0f921"
             ]
            ],
            "type": "histogram2dcontour"
           }
          ],
          "mesh3d": [
           {
            "colorbar": {
             "outlinewidth": 0,
             "ticks": ""
            },
            "type": "mesh3d"
           }
          ],
          "parcoords": [
           {
            "line": {
             "colorbar": {
              "outlinewidth": 0,
              "ticks": ""
             }
            },
            "type": "parcoords"
           }
          ],
          "pie": [
           {
            "automargin": true,
            "type": "pie"
           }
          ],
          "scatter": [
           {
            "marker": {
             "colorbar": {
              "outlinewidth": 0,
              "ticks": ""
             }
            },
            "type": "scatter"
           }
          ],
          "scatter3d": [
           {
            "line": {
             "colorbar": {
              "outlinewidth": 0,
              "ticks": ""
             }
            },
            "marker": {
             "colorbar": {
              "outlinewidth": 0,
              "ticks": ""
             }
            },
            "type": "scatter3d"
           }
          ],
          "scattercarpet": [
           {
            "marker": {
             "colorbar": {
              "outlinewidth": 0,
              "ticks": ""
             }
            },
            "type": "scattercarpet"
           }
          ],
          "scattergeo": [
           {
            "marker": {
             "colorbar": {
              "outlinewidth": 0,
              "ticks": ""
             }
            },
            "type": "scattergeo"
           }
          ],
          "scattergl": [
           {
            "marker": {
             "colorbar": {
              "outlinewidth": 0,
              "ticks": ""
             }
            },
            "type": "scattergl"
           }
          ],
          "scattermapbox": [
           {
            "marker": {
             "colorbar": {
              "outlinewidth": 0,
              "ticks": ""
             }
            },
            "type": "scattermapbox"
           }
          ],
          "scatterpolar": [
           {
            "marker": {
             "colorbar": {
              "outlinewidth": 0,
              "ticks": ""
             }
            },
            "type": "scatterpolar"
           }
          ],
          "scatterpolargl": [
           {
            "marker": {
             "colorbar": {
              "outlinewidth": 0,
              "ticks": ""
             }
            },
            "type": "scatterpolargl"
           }
          ],
          "scatterternary": [
           {
            "marker": {
             "colorbar": {
              "outlinewidth": 0,
              "ticks": ""
             }
            },
            "type": "scatterternary"
           }
          ],
          "surface": [
           {
            "colorbar": {
             "outlinewidth": 0,
             "ticks": ""
            },
            "colorscale": [
             [
              0,
              "#0d0887"
             ],
             [
              0.1111111111111111,
              "#46039f"
             ],
             [
              0.2222222222222222,
              "#7201a8"
             ],
             [
              0.3333333333333333,
              "#9c179e"
             ],
             [
              0.4444444444444444,
              "#bd3786"
             ],
             [
              0.5555555555555556,
              "#d8576b"
             ],
             [
              0.6666666666666666,
              "#ed7953"
             ],
             [
              0.7777777777777778,
              "#fb9f3a"
             ],
             [
              0.8888888888888888,
              "#fdca26"
             ],
             [
              1,
              "#f0f921"
             ]
            ],
            "type": "surface"
           }
          ],
          "table": [
           {
            "cells": {
             "fill": {
              "color": "#EBF0F8"
             },
             "line": {
              "color": "white"
             }
            },
            "header": {
             "fill": {
              "color": "#C8D4E3"
             },
             "line": {
              "color": "white"
             }
            },
            "type": "table"
           }
          ]
         },
         "layout": {
          "annotationdefaults": {
           "arrowcolor": "#2a3f5f",
           "arrowhead": 0,
           "arrowwidth": 1
          },
          "coloraxis": {
           "colorbar": {
            "outlinewidth": 0,
            "ticks": ""
           }
          },
          "colorscale": {
           "diverging": [
            [
             0,
             "#8e0152"
            ],
            [
             0.1,
             "#c51b7d"
            ],
            [
             0.2,
             "#de77ae"
            ],
            [
             0.3,
             "#f1b6da"
            ],
            [
             0.4,
             "#fde0ef"
            ],
            [
             0.5,
             "#f7f7f7"
            ],
            [
             0.6,
             "#e6f5d0"
            ],
            [
             0.7,
             "#b8e186"
            ],
            [
             0.8,
             "#7fbc41"
            ],
            [
             0.9,
             "#4d9221"
            ],
            [
             1,
             "#276419"
            ]
           ],
           "sequential": [
            [
             0,
             "#0d0887"
            ],
            [
             0.1111111111111111,
             "#46039f"
            ],
            [
             0.2222222222222222,
             "#7201a8"
            ],
            [
             0.3333333333333333,
             "#9c179e"
            ],
            [
             0.4444444444444444,
             "#bd3786"
            ],
            [
             0.5555555555555556,
             "#d8576b"
            ],
            [
             0.6666666666666666,
             "#ed7953"
            ],
            [
             0.7777777777777778,
             "#fb9f3a"
            ],
            [
             0.8888888888888888,
             "#fdca26"
            ],
            [
             1,
             "#f0f921"
            ]
           ],
           "sequentialminus": [
            [
             0,
             "#0d0887"
            ],
            [
             0.1111111111111111,
             "#46039f"
            ],
            [
             0.2222222222222222,
             "#7201a8"
            ],
            [
             0.3333333333333333,
             "#9c179e"
            ],
            [
             0.4444444444444444,
             "#bd3786"
            ],
            [
             0.5555555555555556,
             "#d8576b"
            ],
            [
             0.6666666666666666,
             "#ed7953"
            ],
            [
             0.7777777777777778,
             "#fb9f3a"
            ],
            [
             0.8888888888888888,
             "#fdca26"
            ],
            [
             1,
             "#f0f921"
            ]
           ]
          },
          "colorway": [
           "#636efa",
           "#EF553B",
           "#00cc96",
           "#ab63fa",
           "#FFA15A",
           "#19d3f3",
           "#FF6692",
           "#B6E880",
           "#FF97FF",
           "#FECB52"
          ],
          "font": {
           "color": "#2a3f5f"
          },
          "geo": {
           "bgcolor": "white",
           "lakecolor": "white",
           "landcolor": "#E5ECF6",
           "showlakes": true,
           "showland": true,
           "subunitcolor": "white"
          },
          "hoverlabel": {
           "align": "left"
          },
          "hovermode": "closest",
          "mapbox": {
           "style": "light"
          },
          "paper_bgcolor": "white",
          "plot_bgcolor": "#E5ECF6",
          "polar": {
           "angularaxis": {
            "gridcolor": "white",
            "linecolor": "white",
            "ticks": ""
           },
           "bgcolor": "#E5ECF6",
           "radialaxis": {
            "gridcolor": "white",
            "linecolor": "white",
            "ticks": ""
           }
          },
          "scene": {
           "xaxis": {
            "backgroundcolor": "#E5ECF6",
            "gridcolor": "white",
            "gridwidth": 2,
            "linecolor": "white",
            "showbackground": true,
            "ticks": "",
            "zerolinecolor": "white"
           },
           "yaxis": {
            "backgroundcolor": "#E5ECF6",
            "gridcolor": "white",
            "gridwidth": 2,
            "linecolor": "white",
            "showbackground": true,
            "ticks": "",
            "zerolinecolor": "white"
           },
           "zaxis": {
            "backgroundcolor": "#E5ECF6",
            "gridcolor": "white",
            "gridwidth": 2,
            "linecolor": "white",
            "showbackground": true,
            "ticks": "",
            "zerolinecolor": "white"
           }
          },
          "shapedefaults": {
           "line": {
            "color": "#2a3f5f"
           }
          },
          "ternary": {
           "aaxis": {
            "gridcolor": "white",
            "linecolor": "white",
            "ticks": ""
           },
           "baxis": {
            "gridcolor": "white",
            "linecolor": "white",
            "ticks": ""
           },
           "bgcolor": "#E5ECF6",
           "caxis": {
            "gridcolor": "white",
            "linecolor": "white",
            "ticks": ""
           }
          },
          "title": {
           "x": 0.05
          },
          "xaxis": {
           "automargin": true,
           "gridcolor": "white",
           "linecolor": "white",
           "ticks": "",
           "title": {
            "standoff": 15
           },
           "zerolinecolor": "white",
           "zerolinewidth": 2
          },
          "yaxis": {
           "automargin": true,
           "gridcolor": "white",
           "linecolor": "white",
           "ticks": "",
           "title": {
            "standoff": 15
           },
           "zerolinecolor": "white",
           "zerolinewidth": 2
          }
         }
        }
       }
      }
     },
     "metadata": {}
    }
   ],
   "source": [
    "# plotly_polar_chart\n",
    "df_copy = df.copy()\n",
    "df_copy['angle'] = 2 * np.pi * df_copy['y']\n",
    "fig = px.line_polar(df_copy, r=\"x\", theta=\"angle\")\n",
    "fig.show()"
   ]
  },
  {
   "cell_type": "code",
   "execution_count": 22,
   "metadata": {},
   "outputs": [
    {
     "output_type": "display_data",
     "data": {
      "application/vnd.plotly.v1+json": {
       "config": {
        "plotlyServerURL": "https://plot.ly"
       },
       "data": [
        {
         "coloraxis": "coloraxis",
         "hovertemplate": "x: %{x}<br>y: %{y}<br>color: %{z}<extra></extra>",
         "type": "heatmap",
         "x": [
          "grade of class 0",
          "grade of class 1",
          "grade of class 2",
          "grade of class 3",
          "grade of class 4",
          "grade of class 5",
          "grade of class 6",
          "grade of class 7",
          "grade of class 8",
          "grade of class 9"
         ],
         "y": [
          "professor 0",
          "professor 1",
          "professor 2",
          "professor 3",
          "professor 4",
          "professor 5",
          "professor 6",
          "professor 7",
          "professor 8",
          "professor 9"
         ],
         "z": [
          [
           -0.4792977737799131,
           -0.15831548137137597,
           -0.5785229108443378,
           -0.8101396161193845,
           -0.013458845250806872,
           -0.1599277188008964,
           -0.29626557812275034,
           -0.9782123325415931,
           -0.2810440053343972,
           -0.8305145878158683
          ],
          [
           -0.013492789814690043,
           -0.6423792032986365,
           -0.02921755981847507,
           -0.859162334632946,
           -0.3798099053180971,
           -0.20561757566458982,
           -0.8599678605438964,
           -0.592033973029082,
           -0.9430028723204796,
           -0.3224549228292525
          ],
          [
           -0.9086419234560759,
           -0.2151497323787649,
           -0.3978076447328851,
           -0.4097043105841851,
           -0.06714411988884794,
           -0.5523557886610008,
           -0.36213860333975645,
           -0.049639132300446254,
           -0.07073166531221087,
           -0.2795903543821231
          ],
          [
           -0.28809140285577206,
           -0.6667767747670219,
           -0.21096455336112951,
           -0.9144758772050924,
           -0.48442465229771137,
           -0.13765260456311057,
           -0.4608658891574029,
           -0.6604305589494476,
           -0.896650337740609,
           -0.8156363156663372
          ],
          [
           -0.880373026922743,
           -0.6485158326568539,
           -0.6092470263918969,
           -0.9355335389717199,
           -0.6433813314042993,
           -0.49998558939810955,
           -0.9553265458841148,
           -0.42381350902359594,
           -0.16844773083540543,
           -0.06213772170597209
          ],
          [
           -0.3064459351947484,
           -0.4923802067184043,
           -0.5740713804050865,
           -0.6365228191361372,
           -0.8123621007554473,
           -0.2555815273564054,
           -0.4160735276952865,
           -0.809668454943759,
           -0.8533267709144673,
           -0.3333872464824241
          ],
          [
           -0.5315792002160301,
           -0.5835448080704372,
           -0.41802332258825836,
           -0.32817303652538343,
           -0.07197458638297216,
           -0.45454495358690816,
           -0.5598371624559746,
           -0.3290024556183989,
           -0.3551755421577504,
           -0.26409926534666595
          ],
          [
           -0.5515377823903201,
           -0.8194319039272074,
           -0.774859906221412,
           -0.09896427415171827,
           -0.6507808327675294,
           -0.35090847386328816,
           -0.7562534637235395,
           -0.5678385464164564,
           -0.7493007617563368,
           -0.9007406621611064
          ],
          [
           -0.8772474396523403,
           -0.6861872645771535,
           -0.08559584162298361,
           -0.6299269656412693,
           -0.7824258111270086,
           -0.13505503896810744,
           -0.24106086405958171,
           -0.9356936145219578,
           -0.3551252643982641,
           -0.10504229848048707
          ],
          [
           -0.7286124278140981,
           -0.20880377475319545,
           -0.8361677578952278,
           -0.4892965422480613,
           -0.17202417991439156,
           -0.8475271463461933,
           -0.1470476588577978,
           -0.5998835175716165,
           -0.8964091807925838,
           -0.7326868614086525
          ]
         ]
        }
       ],
       "layout": {
        "coloraxis": {
         "colorscale": [
          [
           0,
           "#0d0887"
          ],
          [
           0.1111111111111111,
           "#46039f"
          ],
          [
           0.2222222222222222,
           "#7201a8"
          ],
          [
           0.3333333333333333,
           "#9c179e"
          ],
          [
           0.4444444444444444,
           "#bd3786"
          ],
          [
           0.5555555555555556,
           "#d8576b"
          ],
          [
           0.6666666666666666,
           "#ed7953"
          ],
          [
           0.7777777777777778,
           "#fb9f3a"
          ],
          [
           0.8888888888888888,
           "#fdca26"
          ],
          [
           1,
           "#f0f921"
          ]
         ]
        },
        "margin": {
         "t": 60
        },
        "template": {
         "data": {
          "bar": [
           {
            "error_x": {
             "color": "#2a3f5f"
            },
            "error_y": {
             "color": "#2a3f5f"
            },
            "marker": {
             "line": {
              "color": "#E5ECF6",
              "width": 0.5
             }
            },
            "type": "bar"
           }
          ],
          "barpolar": [
           {
            "marker": {
             "line": {
              "color": "#E5ECF6",
              "width": 0.5
             }
            },
            "type": "barpolar"
           }
          ],
          "carpet": [
           {
            "aaxis": {
             "endlinecolor": "#2a3f5f",
             "gridcolor": "white",
             "linecolor": "white",
             "minorgridcolor": "white",
             "startlinecolor": "#2a3f5f"
            },
            "baxis": {
             "endlinecolor": "#2a3f5f",
             "gridcolor": "white",
             "linecolor": "white",
             "minorgridcolor": "white",
             "startlinecolor": "#2a3f5f"
            },
            "type": "carpet"
           }
          ],
          "choropleth": [
           {
            "colorbar": {
             "outlinewidth": 0,
             "ticks": ""
            },
            "type": "choropleth"
           }
          ],
          "contour": [
           {
            "colorbar": {
             "outlinewidth": 0,
             "ticks": ""
            },
            "colorscale": [
             [
              0,
              "#0d0887"
             ],
             [
              0.1111111111111111,
              "#46039f"
             ],
             [
              0.2222222222222222,
              "#7201a8"
             ],
             [
              0.3333333333333333,
              "#9c179e"
             ],
             [
              0.4444444444444444,
              "#bd3786"
             ],
             [
              0.5555555555555556,
              "#d8576b"
             ],
             [
              0.6666666666666666,
              "#ed7953"
             ],
             [
              0.7777777777777778,
              "#fb9f3a"
             ],
             [
              0.8888888888888888,
              "#fdca26"
             ],
             [
              1,
              "#f0f921"
             ]
            ],
            "type": "contour"
           }
          ],
          "contourcarpet": [
           {
            "colorbar": {
             "outlinewidth": 0,
             "ticks": ""
            },
            "type": "contourcarpet"
           }
          ],
          "heatmap": [
           {
            "colorbar": {
             "outlinewidth": 0,
             "ticks": ""
            },
            "colorscale": [
             [
              0,
              "#0d0887"
             ],
             [
              0.1111111111111111,
              "#46039f"
             ],
             [
              0.2222222222222222,
              "#7201a8"
             ],
             [
              0.3333333333333333,
              "#9c179e"
             ],
             [
              0.4444444444444444,
              "#bd3786"
             ],
             [
              0.5555555555555556,
              "#d8576b"
             ],
             [
              0.6666666666666666,
              "#ed7953"
             ],
             [
              0.7777777777777778,
              "#fb9f3a"
             ],
             [
              0.8888888888888888,
              "#fdca26"
             ],
             [
              1,
              "#f0f921"
             ]
            ],
            "type": "heatmap"
           }
          ],
          "heatmapgl": [
           {
            "colorbar": {
             "outlinewidth": 0,
             "ticks": ""
            },
            "colorscale": [
             [
              0,
              "#0d0887"
             ],
             [
              0.1111111111111111,
              "#46039f"
             ],
             [
              0.2222222222222222,
              "#7201a8"
             ],
             [
              0.3333333333333333,
              "#9c179e"
             ],
             [
              0.4444444444444444,
              "#bd3786"
             ],
             [
              0.5555555555555556,
              "#d8576b"
             ],
             [
              0.6666666666666666,
              "#ed7953"
             ],
             [
              0.7777777777777778,
              "#fb9f3a"
             ],
             [
              0.8888888888888888,
              "#fdca26"
             ],
             [
              1,
              "#f0f921"
             ]
            ],
            "type": "heatmapgl"
           }
          ],
          "histogram": [
           {
            "marker": {
             "colorbar": {
              "outlinewidth": 0,
              "ticks": ""
             }
            },
            "type": "histogram"
           }
          ],
          "histogram2d": [
           {
            "colorbar": {
             "outlinewidth": 0,
             "ticks": ""
            },
            "colorscale": [
             [
              0,
              "#0d0887"
             ],
             [
              0.1111111111111111,
              "#46039f"
             ],
             [
              0.2222222222222222,
              "#7201a8"
             ],
             [
              0.3333333333333333,
              "#9c179e"
             ],
             [
              0.4444444444444444,
              "#bd3786"
             ],
             [
              0.5555555555555556,
              "#d8576b"
             ],
             [
              0.6666666666666666,
              "#ed7953"
             ],
             [
              0.7777777777777778,
              "#fb9f3a"
             ],
             [
              0.8888888888888888,
              "#fdca26"
             ],
             [
              1,
              "#f0f921"
             ]
            ],
            "type": "histogram2d"
           }
          ],
          "histogram2dcontour": [
           {
            "colorbar": {
             "outlinewidth": 0,
             "ticks": ""
            },
            "colorscale": [
             [
              0,
              "#0d0887"
             ],
             [
              0.1111111111111111,
              "#46039f"
             ],
             [
              0.2222222222222222,
              "#7201a8"
             ],
             [
              0.3333333333333333,
              "#9c179e"
             ],
             [
              0.4444444444444444,
              "#bd3786"
             ],
             [
              0.5555555555555556,
              "#d8576b"
             ],
             [
              0.6666666666666666,
              "#ed7953"
             ],
             [
              0.7777777777777778,
              "#fb9f3a"
             ],
             [
              0.8888888888888888,
              "#fdca26"
             ],
             [
              1,
              "#f0f921"
             ]
            ],
            "type": "histogram2dcontour"
           }
          ],
          "mesh3d": [
           {
            "colorbar": {
             "outlinewidth": 0,
             "ticks": ""
            },
            "type": "mesh3d"
           }
          ],
          "parcoords": [
           {
            "line": {
             "colorbar": {
              "outlinewidth": 0,
              "ticks": ""
             }
            },
            "type": "parcoords"
           }
          ],
          "pie": [
           {
            "automargin": true,
            "type": "pie"
           }
          ],
          "scatter": [
           {
            "marker": {
             "colorbar": {
              "outlinewidth": 0,
              "ticks": ""
             }
            },
            "type": "scatter"
           }
          ],
          "scatter3d": [
           {
            "line": {
             "colorbar": {
              "outlinewidth": 0,
              "ticks": ""
             }
            },
            "marker": {
             "colorbar": {
              "outlinewidth": 0,
              "ticks": ""
             }
            },
            "type": "scatter3d"
           }
          ],
          "scattercarpet": [
           {
            "marker": {
             "colorbar": {
              "outlinewidth": 0,
              "ticks": ""
             }
            },
            "type": "scattercarpet"
           }
          ],
          "scattergeo": [
           {
            "marker": {
             "colorbar": {
              "outlinewidth": 0,
              "ticks": ""
             }
            },
            "type": "scattergeo"
           }
          ],
          "scattergl": [
           {
            "marker": {
             "colorbar": {
              "outlinewidth": 0,
              "ticks": ""
             }
            },
            "type": "scattergl"
           }
          ],
          "scattermapbox": [
           {
            "marker": {
             "colorbar": {
              "outlinewidth": 0,
              "ticks": ""
             }
            },
            "type": "scattermapbox"
           }
          ],
          "scatterpolar": [
           {
            "marker": {
             "colorbar": {
              "outlinewidth": 0,
              "ticks": ""
             }
            },
            "type": "scatterpolar"
           }
          ],
          "scatterpolargl": [
           {
            "marker": {
             "colorbar": {
              "outlinewidth": 0,
              "ticks": ""
             }
            },
            "type": "scatterpolargl"
           }
          ],
          "scatterternary": [
           {
            "marker": {
             "colorbar": {
              "outlinewidth": 0,
              "ticks": ""
             }
            },
            "type": "scatterternary"
           }
          ],
          "surface": [
           {
            "colorbar": {
             "outlinewidth": 0,
             "ticks": ""
            },
            "colorscale": [
             [
              0,
              "#0d0887"
             ],
             [
              0.1111111111111111,
              "#46039f"
             ],
             [
              0.2222222222222222,
              "#7201a8"
             ],
             [
              0.3333333333333333,
              "#9c179e"
             ],
             [
              0.4444444444444444,
              "#bd3786"
             ],
             [
              0.5555555555555556,
              "#d8576b"
             ],
             [
              0.6666666666666666,
              "#ed7953"
             ],
             [
              0.7777777777777778,
              "#fb9f3a"
             ],
             [
              0.8888888888888888,
              "#fdca26"
             ],
             [
              1,
              "#f0f921"
             ]
            ],
            "type": "surface"
           }
          ],
          "table": [
           {
            "cells": {
             "fill": {
              "color": "#EBF0F8"
             },
             "line": {
              "color": "white"
             }
            },
            "header": {
             "fill": {
              "color": "#C8D4E3"
             },
             "line": {
              "color": "white"
             }
            },
            "type": "table"
           }
          ]
         },
         "layout": {
          "annotationdefaults": {
           "arrowcolor": "#2a3f5f",
           "arrowhead": 0,
           "arrowwidth": 1
          },
          "coloraxis": {
           "colorbar": {
            "outlinewidth": 0,
            "ticks": ""
           }
          },
          "colorscale": {
           "diverging": [
            [
             0,
             "#8e0152"
            ],
            [
             0.1,
             "#c51b7d"
            ],
            [
             0.2,
             "#de77ae"
            ],
            [
             0.3,
             "#f1b6da"
            ],
            [
             0.4,
             "#fde0ef"
            ],
            [
             0.5,
             "#f7f7f7"
            ],
            [
             0.6,
             "#e6f5d0"
            ],
            [
             0.7,
             "#b8e186"
            ],
            [
             0.8,
             "#7fbc41"
            ],
            [
             0.9,
             "#4d9221"
            ],
            [
             1,
             "#276419"
            ]
           ],
           "sequential": [
            [
             0,
             "#0d0887"
            ],
            [
             0.1111111111111111,
             "#46039f"
            ],
            [
             0.2222222222222222,
             "#7201a8"
            ],
            [
             0.3333333333333333,
             "#9c179e"
            ],
            [
             0.4444444444444444,
             "#bd3786"
            ],
            [
             0.5555555555555556,
             "#d8576b"
            ],
            [
             0.6666666666666666,
             "#ed7953"
            ],
            [
             0.7777777777777778,
             "#fb9f3a"
            ],
            [
             0.8888888888888888,
             "#fdca26"
            ],
            [
             1,
             "#f0f921"
            ]
           ],
           "sequentialminus": [
            [
             0,
             "#0d0887"
            ],
            [
             0.1111111111111111,
             "#46039f"
            ],
            [
             0.2222222222222222,
             "#7201a8"
            ],
            [
             0.3333333333333333,
             "#9c179e"
            ],
            [
             0.4444444444444444,
             "#bd3786"
            ],
            [
             0.5555555555555556,
             "#d8576b"
            ],
            [
             0.6666666666666666,
             "#ed7953"
            ],
            [
             0.7777777777777778,
             "#fb9f3a"
            ],
            [
             0.8888888888888888,
             "#fdca26"
            ],
            [
             1,
             "#f0f921"
            ]
           ]
          },
          "colorway": [
           "#636efa",
           "#EF553B",
           "#00cc96",
           "#ab63fa",
           "#FFA15A",
           "#19d3f3",
           "#FF6692",
           "#B6E880",
           "#FF97FF",
           "#FECB52"
          ],
          "font": {
           "color": "#2a3f5f"
          },
          "geo": {
           "bgcolor": "white",
           "lakecolor": "white",
           "landcolor": "#E5ECF6",
           "showlakes": true,
           "showland": true,
           "subunitcolor": "white"
          },
          "hoverlabel": {
           "align": "left"
          },
          "hovermode": "closest",
          "mapbox": {
           "style": "light"
          },
          "paper_bgcolor": "white",
          "plot_bgcolor": "#E5ECF6",
          "polar": {
           "angularaxis": {
            "gridcolor": "white",
            "linecolor": "white",
            "ticks": ""
           },
           "bgcolor": "#E5ECF6",
           "radialaxis": {
            "gridcolor": "white",
            "linecolor": "white",
            "ticks": ""
           }
          },
          "scene": {
           "xaxis": {
            "backgroundcolor": "#E5ECF6",
            "gridcolor": "white",
            "gridwidth": 2,
            "linecolor": "white",
            "showbackground": true,
            "ticks": "",
            "zerolinecolor": "white"
           },
           "yaxis": {
            "backgroundcolor": "#E5ECF6",
            "gridcolor": "white",
            "gridwidth": 2,
            "linecolor": "white",
            "showbackground": true,
            "ticks": "",
            "zerolinecolor": "white"
           },
           "zaxis": {
            "backgroundcolor": "#E5ECF6",
            "gridcolor": "white",
            "gridwidth": 2,
            "linecolor": "white",
            "showbackground": true,
            "ticks": "",
            "zerolinecolor": "white"
           }
          },
          "shapedefaults": {
           "line": {
            "color": "#2a3f5f"
           }
          },
          "ternary": {
           "aaxis": {
            "gridcolor": "white",
            "linecolor": "white",
            "ticks": ""
           },
           "baxis": {
            "gridcolor": "white",
            "linecolor": "white",
            "ticks": ""
           },
           "bgcolor": "#E5ECF6",
           "caxis": {
            "gridcolor": "white",
            "linecolor": "white",
            "ticks": ""
           }
          },
          "title": {
           "x": 0.05
          },
          "xaxis": {
           "automargin": true,
           "gridcolor": "white",
           "linecolor": "white",
           "ticks": "",
           "title": {
            "standoff": 15
           },
           "zerolinecolor": "white",
           "zerolinewidth": 2
          },
          "yaxis": {
           "automargin": true,
           "gridcolor": "white",
           "linecolor": "white",
           "ticks": "",
           "title": {
            "standoff": 15
           },
           "zerolinecolor": "white",
           "zerolinewidth": 2
          }
         }
        },
        "xaxis": {
         "constrain": "domain",
         "scaleanchor": "y"
        },
        "yaxis": {
         "autorange": "reversed",
         "constrain": "domain"
        }
       }
      }
     },
     "metadata": {}
    }
   ],
   "source": [
    "# plotly_heatmap_chart\n",
    "fig = px.imshow(df_matrix)\n",
    "fig.show()"
   ]
  },
  {
   "cell_type": "code",
   "execution_count": 23,
   "metadata": {},
   "outputs": [
    {
     "output_type": "display_data",
     "data": {
      "application/vnd.plotly.v1+json": {
       "config": {
        "plotlyServerURL": "https://plot.ly"
       },
       "data": [
        {
         "cells": {
          "values": [
           [
            "professor 0",
            "professor 1",
            "professor 2",
            "professor 3",
            "professor 4",
            "professor 5",
            "professor 6",
            "professor 7",
            "professor 8",
            "professor 9"
           ],
           [
            -0.4792977737799131,
            -0.013492789814690043,
            -0.9086419234560759,
            -0.28809140285577206,
            -0.880373026922743,
            -0.3064459351947484,
            -0.5315792002160301,
            -0.5515377823903201,
            -0.8772474396523403,
            -0.7286124278140981
           ],
           [
            -0.15831548137137597,
            -0.6423792032986365,
            -0.2151497323787649,
            -0.6667767747670219,
            -0.6485158326568539,
            -0.4923802067184043,
            -0.5835448080704372,
            -0.8194319039272074,
            -0.6861872645771535,
            -0.20880377475319545
           ],
           [
            -0.5785229108443378,
            -0.02921755981847507,
            -0.3978076447328851,
            -0.21096455336112951,
            -0.6092470263918969,
            -0.5740713804050865,
            -0.41802332258825836,
            -0.774859906221412,
            -0.08559584162298361,
            -0.8361677578952278
           ],
           [
            -0.8101396161193845,
            -0.859162334632946,
            -0.4097043105841851,
            -0.9144758772050924,
            -0.9355335389717199,
            -0.6365228191361372,
            -0.32817303652538343,
            -0.09896427415171827,
            -0.6299269656412693,
            -0.4892965422480613
           ],
           [
            -0.013458845250806872,
            -0.3798099053180971,
            -0.06714411988884794,
            -0.48442465229771137,
            -0.6433813314042993,
            -0.8123621007554473,
            -0.07197458638297216,
            -0.6507808327675294,
            -0.7824258111270086,
            -0.17202417991439156
           ],
           [
            -0.1599277188008964,
            -0.20561757566458982,
            -0.5523557886610008,
            -0.13765260456311057,
            -0.49998558939810955,
            -0.2555815273564054,
            -0.45454495358690816,
            -0.35090847386328816,
            -0.13505503896810744,
            -0.8475271463461933
           ],
           [
            -0.29626557812275034,
            -0.8599678605438964,
            -0.36213860333975645,
            -0.4608658891574029,
            -0.9553265458841148,
            -0.4160735276952865,
            -0.5598371624559746,
            -0.7562534637235395,
            -0.24106086405958171,
            -0.1470476588577978
           ],
           [
            -0.9782123325415931,
            -0.592033973029082,
            -0.049639132300446254,
            -0.6604305589494476,
            -0.42381350902359594,
            -0.809668454943759,
            -0.3290024556183989,
            -0.5678385464164564,
            -0.9356936145219578,
            -0.5998835175716165
           ],
           [
            -0.2810440053343972,
            -0.9430028723204796,
            -0.07073166531221087,
            -0.896650337740609,
            -0.16844773083540543,
            -0.8533267709144673,
            -0.3551755421577504,
            -0.7493007617563368,
            -0.3551252643982641,
            -0.8964091807925838
           ],
           [
            -0.8305145878158683,
            -0.3224549228292525,
            -0.2795903543821231,
            -0.8156363156663372,
            -0.06213772170597209,
            -0.3333872464824241,
            -0.26409926534666595,
            -0.9007406621611064,
            -0.10504229848048707,
            -0.7326868614086525
           ]
          ]
         },
         "header": {
          "values": [
           "professor",
           "grade of class 0",
           "grade of class 1",
           "grade of class 2",
           "grade of class 3",
           "grade of class 4",
           "grade of class 5",
           "grade of class 6",
           "grade of class 7",
           "grade of class 8",
           "grade of class 9"
          ]
         },
         "type": "table"
        }
       ],
       "layout": {
        "template": {
         "data": {
          "bar": [
           {
            "error_x": {
             "color": "#2a3f5f"
            },
            "error_y": {
             "color": "#2a3f5f"
            },
            "marker": {
             "line": {
              "color": "#E5ECF6",
              "width": 0.5
             }
            },
            "type": "bar"
           }
          ],
          "barpolar": [
           {
            "marker": {
             "line": {
              "color": "#E5ECF6",
              "width": 0.5
             }
            },
            "type": "barpolar"
           }
          ],
          "carpet": [
           {
            "aaxis": {
             "endlinecolor": "#2a3f5f",
             "gridcolor": "white",
             "linecolor": "white",
             "minorgridcolor": "white",
             "startlinecolor": "#2a3f5f"
            },
            "baxis": {
             "endlinecolor": "#2a3f5f",
             "gridcolor": "white",
             "linecolor": "white",
             "minorgridcolor": "white",
             "startlinecolor": "#2a3f5f"
            },
            "type": "carpet"
           }
          ],
          "choropleth": [
           {
            "colorbar": {
             "outlinewidth": 0,
             "ticks": ""
            },
            "type": "choropleth"
           }
          ],
          "contour": [
           {
            "colorbar": {
             "outlinewidth": 0,
             "ticks": ""
            },
            "colorscale": [
             [
              0,
              "#0d0887"
             ],
             [
              0.1111111111111111,
              "#46039f"
             ],
             [
              0.2222222222222222,
              "#7201a8"
             ],
             [
              0.3333333333333333,
              "#9c179e"
             ],
             [
              0.4444444444444444,
              "#bd3786"
             ],
             [
              0.5555555555555556,
              "#d8576b"
             ],
             [
              0.6666666666666666,
              "#ed7953"
             ],
             [
              0.7777777777777778,
              "#fb9f3a"
             ],
             [
              0.8888888888888888,
              "#fdca26"
             ],
             [
              1,
              "#f0f921"
             ]
            ],
            "type": "contour"
           }
          ],
          "contourcarpet": [
           {
            "colorbar": {
             "outlinewidth": 0,
             "ticks": ""
            },
            "type": "contourcarpet"
           }
          ],
          "heatmap": [
           {
            "colorbar": {
             "outlinewidth": 0,
             "ticks": ""
            },
            "colorscale": [
             [
              0,
              "#0d0887"
             ],
             [
              0.1111111111111111,
              "#46039f"
             ],
             [
              0.2222222222222222,
              "#7201a8"
             ],
             [
              0.3333333333333333,
              "#9c179e"
             ],
             [
              0.4444444444444444,
              "#bd3786"
             ],
             [
              0.5555555555555556,
              "#d8576b"
             ],
             [
              0.6666666666666666,
              "#ed7953"
             ],
             [
              0.7777777777777778,
              "#fb9f3a"
             ],
             [
              0.8888888888888888,
              "#fdca26"
             ],
             [
              1,
              "#f0f921"
             ]
            ],
            "type": "heatmap"
           }
          ],
          "heatmapgl": [
           {
            "colorbar": {
             "outlinewidth": 0,
             "ticks": ""
            },
            "colorscale": [
             [
              0,
              "#0d0887"
             ],
             [
              0.1111111111111111,
              "#46039f"
             ],
             [
              0.2222222222222222,
              "#7201a8"
             ],
             [
              0.3333333333333333,
              "#9c179e"
             ],
             [
              0.4444444444444444,
              "#bd3786"
             ],
             [
              0.5555555555555556,
              "#d8576b"
             ],
             [
              0.6666666666666666,
              "#ed7953"
             ],
             [
              0.7777777777777778,
              "#fb9f3a"
             ],
             [
              0.8888888888888888,
              "#fdca26"
             ],
             [
              1,
              "#f0f921"
             ]
            ],
            "type": "heatmapgl"
           }
          ],
          "histogram": [
           {
            "marker": {
             "colorbar": {
              "outlinewidth": 0,
              "ticks": ""
             }
            },
            "type": "histogram"
           }
          ],
          "histogram2d": [
           {
            "colorbar": {
             "outlinewidth": 0,
             "ticks": ""
            },
            "colorscale": [
             [
              0,
              "#0d0887"
             ],
             [
              0.1111111111111111,
              "#46039f"
             ],
             [
              0.2222222222222222,
              "#7201a8"
             ],
             [
              0.3333333333333333,
              "#9c179e"
             ],
             [
              0.4444444444444444,
              "#bd3786"
             ],
             [
              0.5555555555555556,
              "#d8576b"
             ],
             [
              0.6666666666666666,
              "#ed7953"
             ],
             [
              0.7777777777777778,
              "#fb9f3a"
             ],
             [
              0.8888888888888888,
              "#fdca26"
             ],
             [
              1,
              "#f0f921"
             ]
            ],
            "type": "histogram2d"
           }
          ],
          "histogram2dcontour": [
           {
            "colorbar": {
             "outlinewidth": 0,
             "ticks": ""
            },
            "colorscale": [
             [
              0,
              "#0d0887"
             ],
             [
              0.1111111111111111,
              "#46039f"
             ],
             [
              0.2222222222222222,
              "#7201a8"
             ],
             [
              0.3333333333333333,
              "#9c179e"
             ],
             [
              0.4444444444444444,
              "#bd3786"
             ],
             [
              0.5555555555555556,
              "#d8576b"
             ],
             [
              0.6666666666666666,
              "#ed7953"
             ],
             [
              0.7777777777777778,
              "#fb9f3a"
             ],
             [
              0.8888888888888888,
              "#fdca26"
             ],
             [
              1,
              "#f0f921"
             ]
            ],
            "type": "histogram2dcontour"
           }
          ],
          "mesh3d": [
           {
            "colorbar": {
             "outlinewidth": 0,
             "ticks": ""
            },
            "type": "mesh3d"
           }
          ],
          "parcoords": [
           {
            "line": {
             "colorbar": {
              "outlinewidth": 0,
              "ticks": ""
             }
            },
            "type": "parcoords"
           }
          ],
          "pie": [
           {
            "automargin": true,
            "type": "pie"
           }
          ],
          "scatter": [
           {
            "marker": {
             "colorbar": {
              "outlinewidth": 0,
              "ticks": ""
             }
            },
            "type": "scatter"
           }
          ],
          "scatter3d": [
           {
            "line": {
             "colorbar": {
              "outlinewidth": 0,
              "ticks": ""
             }
            },
            "marker": {
             "colorbar": {
              "outlinewidth": 0,
              "ticks": ""
             }
            },
            "type": "scatter3d"
           }
          ],
          "scattercarpet": [
           {
            "marker": {
             "colorbar": {
              "outlinewidth": 0,
              "ticks": ""
             }
            },
            "type": "scattercarpet"
           }
          ],
          "scattergeo": [
           {
            "marker": {
             "colorbar": {
              "outlinewidth": 0,
              "ticks": ""
             }
            },
            "type": "scattergeo"
           }
          ],
          "scattergl": [
           {
            "marker": {
             "colorbar": {
              "outlinewidth": 0,
              "ticks": ""
             }
            },
            "type": "scattergl"
           }
          ],
          "scattermapbox": [
           {
            "marker": {
             "colorbar": {
              "outlinewidth": 0,
              "ticks": ""
             }
            },
            "type": "scattermapbox"
           }
          ],
          "scatterpolar": [
           {
            "marker": {
             "colorbar": {
              "outlinewidth": 0,
              "ticks": ""
             }
            },
            "type": "scatterpolar"
           }
          ],
          "scatterpolargl": [
           {
            "marker": {
             "colorbar": {
              "outlinewidth": 0,
              "ticks": ""
             }
            },
            "type": "scatterpolargl"
           }
          ],
          "scatterternary": [
           {
            "marker": {
             "colorbar": {
              "outlinewidth": 0,
              "ticks": ""
             }
            },
            "type": "scatterternary"
           }
          ],
          "surface": [
           {
            "colorbar": {
             "outlinewidth": 0,
             "ticks": ""
            },
            "colorscale": [
             [
              0,
              "#0d0887"
             ],
             [
              0.1111111111111111,
              "#46039f"
             ],
             [
              0.2222222222222222,
              "#7201a8"
             ],
             [
              0.3333333333333333,
              "#9c179e"
             ],
             [
              0.4444444444444444,
              "#bd3786"
             ],
             [
              0.5555555555555556,
              "#d8576b"
             ],
             [
              0.6666666666666666,
              "#ed7953"
             ],
             [
              0.7777777777777778,
              "#fb9f3a"
             ],
             [
              0.8888888888888888,
              "#fdca26"
             ],
             [
              1,
              "#f0f921"
             ]
            ],
            "type": "surface"
           }
          ],
          "table": [
           {
            "cells": {
             "fill": {
              "color": "#EBF0F8"
             },
             "line": {
              "color": "white"
             }
            },
            "header": {
             "fill": {
              "color": "#C8D4E3"
             },
             "line": {
              "color": "white"
             }
            },
            "type": "table"
           }
          ]
         },
         "layout": {
          "annotationdefaults": {
           "arrowcolor": "#2a3f5f",
           "arrowhead": 0,
           "arrowwidth": 1
          },
          "coloraxis": {
           "colorbar": {
            "outlinewidth": 0,
            "ticks": ""
           }
          },
          "colorscale": {
           "diverging": [
            [
             0,
             "#8e0152"
            ],
            [
             0.1,
             "#c51b7d"
            ],
            [
             0.2,
             "#de77ae"
            ],
            [
             0.3,
             "#f1b6da"
            ],
            [
             0.4,
             "#fde0ef"
            ],
            [
             0.5,
             "#f7f7f7"
            ],
            [
             0.6,
             "#e6f5d0"
            ],
            [
             0.7,
             "#b8e186"
            ],
            [
             0.8,
             "#7fbc41"
            ],
            [
             0.9,
             "#4d9221"
            ],
            [
             1,
             "#276419"
            ]
           ],
           "sequential": [
            [
             0,
             "#0d0887"
            ],
            [
             0.1111111111111111,
             "#46039f"
            ],
            [
             0.2222222222222222,
             "#7201a8"
            ],
            [
             0.3333333333333333,
             "#9c179e"
            ],
            [
             0.4444444444444444,
             "#bd3786"
            ],
            [
             0.5555555555555556,
             "#d8576b"
            ],
            [
             0.6666666666666666,
             "#ed7953"
            ],
            [
             0.7777777777777778,
             "#fb9f3a"
            ],
            [
             0.8888888888888888,
             "#fdca26"
            ],
            [
             1,
             "#f0f921"
            ]
           ],
           "sequentialminus": [
            [
             0,
             "#0d0887"
            ],
            [
             0.1111111111111111,
             "#46039f"
            ],
            [
             0.2222222222222222,
             "#7201a8"
            ],
            [
             0.3333333333333333,
             "#9c179e"
            ],
            [
             0.4444444444444444,
             "#bd3786"
            ],
            [
             0.5555555555555556,
             "#d8576b"
            ],
            [
             0.6666666666666666,
             "#ed7953"
            ],
            [
             0.7777777777777778,
             "#fb9f3a"
            ],
            [
             0.8888888888888888,
             "#fdca26"
            ],
            [
             1,
             "#f0f921"
            ]
           ]
          },
          "colorway": [
           "#636efa",
           "#EF553B",
           "#00cc96",
           "#ab63fa",
           "#FFA15A",
           "#19d3f3",
           "#FF6692",
           "#B6E880",
           "#FF97FF",
           "#FECB52"
          ],
          "font": {
           "color": "#2a3f5f"
          },
          "geo": {
           "bgcolor": "white",
           "lakecolor": "white",
           "landcolor": "#E5ECF6",
           "showlakes": true,
           "showland": true,
           "subunitcolor": "white"
          },
          "hoverlabel": {
           "align": "left"
          },
          "hovermode": "closest",
          "mapbox": {
           "style": "light"
          },
          "paper_bgcolor": "white",
          "plot_bgcolor": "#E5ECF6",
          "polar": {
           "angularaxis": {
            "gridcolor": "white",
            "linecolor": "white",
            "ticks": ""
           },
           "bgcolor": "#E5ECF6",
           "radialaxis": {
            "gridcolor": "white",
            "linecolor": "white",
            "ticks": ""
           }
          },
          "scene": {
           "xaxis": {
            "backgroundcolor": "#E5ECF6",
            "gridcolor": "white",
            "gridwidth": 2,
            "linecolor": "white",
            "showbackground": true,
            "ticks": "",
            "zerolinecolor": "white"
           },
           "yaxis": {
            "backgroundcolor": "#E5ECF6",
            "gridcolor": "white",
            "gridwidth": 2,
            "linecolor": "white",
            "showbackground": true,
            "ticks": "",
            "zerolinecolor": "white"
           },
           "zaxis": {
            "backgroundcolor": "#E5ECF6",
            "gridcolor": "white",
            "gridwidth": 2,
            "linecolor": "white",
            "showbackground": true,
            "ticks": "",
            "zerolinecolor": "white"
           }
          },
          "shapedefaults": {
           "line": {
            "color": "#2a3f5f"
           }
          },
          "ternary": {
           "aaxis": {
            "gridcolor": "white",
            "linecolor": "white",
            "ticks": ""
           },
           "baxis": {
            "gridcolor": "white",
            "linecolor": "white",
            "ticks": ""
           },
           "bgcolor": "#E5ECF6",
           "caxis": {
            "gridcolor": "white",
            "linecolor": "white",
            "ticks": ""
           }
          },
          "title": {
           "x": 0.05
          },
          "xaxis": {
           "automargin": true,
           "gridcolor": "white",
           "linecolor": "white",
           "ticks": "",
           "title": {
            "standoff": 15
           },
           "zerolinecolor": "white",
           "zerolinewidth": 2
          },
          "yaxis": {
           "automargin": true,
           "gridcolor": "white",
           "linecolor": "white",
           "ticks": "",
           "title": {
            "standoff": 15
           },
           "zerolinecolor": "white",
           "zerolinewidth": 2
          }
         }
        }
       }
      }
     },
     "metadata": {}
    }
   ],
   "source": [
    "table_data = [df_matrix[x] for x in list(df_matrix.columns)]\n",
    "table_data.insert(0, df_matrix.index.to_list())\n",
    "fig = go.Figure(data=[go.Table(header=dict(values=[\"professor\"]+list(df_matrix.columns)),\n",
    "    cells=dict(values=table_data))])\n",
    "\n",
    "fig.show()"
   ]
  },
  {
   "cell_type": "code",
   "execution_count": 24,
   "metadata": {},
   "outputs": [
    {
     "output_type": "display_data",
     "data": {
      "application/vnd.plotly.v1+json": {
       "config": {
        "plotlyServerURL": "https://plot.ly"
       },
       "data": [
        {
         "contours": {
          "coloring": "none"
         },
         "hovertemplate": "variable=grade of class 0<br>index=%{x}<br>value=%{y}<br>count=%{z}<extra></extra>",
         "legendgroup": "grade of class 0",
         "line": {
          "color": "#636efa"
         },
         "name": "grade of class 0",
         "showlegend": true,
         "type": "histogram2dcontour",
         "x": [
          "professor 0",
          "professor 1",
          "professor 2",
          "professor 3",
          "professor 4",
          "professor 5",
          "professor 6",
          "professor 7",
          "professor 8",
          "professor 9"
         ],
         "xaxis": "x",
         "xbingroup": "x",
         "y": [
          -0.4792977737799131,
          -0.013492789814690043,
          -0.9086419234560759,
          -0.28809140285577206,
          -0.880373026922743,
          -0.3064459351947484,
          -0.5315792002160301,
          -0.5515377823903201,
          -0.8772474396523403,
          -0.7286124278140981
         ],
         "yaxis": "y",
         "ybingroup": "y"
        },
        {
         "contours": {
          "coloring": "none"
         },
         "hovertemplate": "variable=grade of class 1<br>index=%{x}<br>value=%{y}<br>count=%{z}<extra></extra>",
         "legendgroup": "grade of class 1",
         "line": {
          "color": "#EF553B"
         },
         "name": "grade of class 1",
         "showlegend": true,
         "type": "histogram2dcontour",
         "x": [
          "professor 0",
          "professor 1",
          "professor 2",
          "professor 3",
          "professor 4",
          "professor 5",
          "professor 6",
          "professor 7",
          "professor 8",
          "professor 9"
         ],
         "xaxis": "x",
         "xbingroup": "x",
         "y": [
          -0.15831548137137597,
          -0.6423792032986365,
          -0.2151497323787649,
          -0.6667767747670219,
          -0.6485158326568539,
          -0.4923802067184043,
          -0.5835448080704372,
          -0.8194319039272074,
          -0.6861872645771535,
          -0.20880377475319545
         ],
         "yaxis": "y",
         "ybingroup": "y"
        },
        {
         "contours": {
          "coloring": "none"
         },
         "hovertemplate": "variable=grade of class 2<br>index=%{x}<br>value=%{y}<br>count=%{z}<extra></extra>",
         "legendgroup": "grade of class 2",
         "line": {
          "color": "#00cc96"
         },
         "name": "grade of class 2",
         "showlegend": true,
         "type": "histogram2dcontour",
         "x": [
          "professor 0",
          "professor 1",
          "professor 2",
          "professor 3",
          "professor 4",
          "professor 5",
          "professor 6",
          "professor 7",
          "professor 8",
          "professor 9"
         ],
         "xaxis": "x",
         "xbingroup": "x",
         "y": [
          -0.5785229108443378,
          -0.02921755981847507,
          -0.3978076447328851,
          -0.21096455336112951,
          -0.6092470263918969,
          -0.5740713804050865,
          -0.41802332258825836,
          -0.774859906221412,
          -0.08559584162298361,
          -0.8361677578952278
         ],
         "yaxis": "y",
         "ybingroup": "y"
        },
        {
         "contours": {
          "coloring": "none"
         },
         "hovertemplate": "variable=grade of class 3<br>index=%{x}<br>value=%{y}<br>count=%{z}<extra></extra>",
         "legendgroup": "grade of class 3",
         "line": {
          "color": "#ab63fa"
         },
         "name": "grade of class 3",
         "showlegend": true,
         "type": "histogram2dcontour",
         "x": [
          "professor 0",
          "professor 1",
          "professor 2",
          "professor 3",
          "professor 4",
          "professor 5",
          "professor 6",
          "professor 7",
          "professor 8",
          "professor 9"
         ],
         "xaxis": "x",
         "xbingroup": "x",
         "y": [
          -0.8101396161193845,
          -0.859162334632946,
          -0.4097043105841851,
          -0.9144758772050924,
          -0.9355335389717199,
          -0.6365228191361372,
          -0.32817303652538343,
          -0.09896427415171827,
          -0.6299269656412693,
          -0.4892965422480613
         ],
         "yaxis": "y",
         "ybingroup": "y"
        },
        {
         "contours": {
          "coloring": "none"
         },
         "hovertemplate": "variable=grade of class 4<br>index=%{x}<br>value=%{y}<br>count=%{z}<extra></extra>",
         "legendgroup": "grade of class 4",
         "line": {
          "color": "#FFA15A"
         },
         "name": "grade of class 4",
         "showlegend": true,
         "type": "histogram2dcontour",
         "x": [
          "professor 0",
          "professor 1",
          "professor 2",
          "professor 3",
          "professor 4",
          "professor 5",
          "professor 6",
          "professor 7",
          "professor 8",
          "professor 9"
         ],
         "xaxis": "x",
         "xbingroup": "x",
         "y": [
          -0.013458845250806872,
          -0.3798099053180971,
          -0.06714411988884794,
          -0.48442465229771137,
          -0.6433813314042993,
          -0.8123621007554473,
          -0.07197458638297216,
          -0.6507808327675294,
          -0.7824258111270086,
          -0.17202417991439156
         ],
         "yaxis": "y",
         "ybingroup": "y"
        },
        {
         "contours": {
          "coloring": "none"
         },
         "hovertemplate": "variable=grade of class 5<br>index=%{x}<br>value=%{y}<br>count=%{z}<extra></extra>",
         "legendgroup": "grade of class 5",
         "line": {
          "color": "#19d3f3"
         },
         "name": "grade of class 5",
         "showlegend": true,
         "type": "histogram2dcontour",
         "x": [
          "professor 0",
          "professor 1",
          "professor 2",
          "professor 3",
          "professor 4",
          "professor 5",
          "professor 6",
          "professor 7",
          "professor 8",
          "professor 9"
         ],
         "xaxis": "x",
         "xbingroup": "x",
         "y": [
          -0.1599277188008964,
          -0.20561757566458982,
          -0.5523557886610008,
          -0.13765260456311057,
          -0.49998558939810955,
          -0.2555815273564054,
          -0.45454495358690816,
          -0.35090847386328816,
          -0.13505503896810744,
          -0.8475271463461933
         ],
         "yaxis": "y",
         "ybingroup": "y"
        },
        {
         "contours": {
          "coloring": "none"
         },
         "hovertemplate": "variable=grade of class 6<br>index=%{x}<br>value=%{y}<br>count=%{z}<extra></extra>",
         "legendgroup": "grade of class 6",
         "line": {
          "color": "#FF6692"
         },
         "name": "grade of class 6",
         "showlegend": true,
         "type": "histogram2dcontour",
         "x": [
          "professor 0",
          "professor 1",
          "professor 2",
          "professor 3",
          "professor 4",
          "professor 5",
          "professor 6",
          "professor 7",
          "professor 8",
          "professor 9"
         ],
         "xaxis": "x",
         "xbingroup": "x",
         "y": [
          -0.29626557812275034,
          -0.8599678605438964,
          -0.36213860333975645,
          -0.4608658891574029,
          -0.9553265458841148,
          -0.4160735276952865,
          -0.5598371624559746,
          -0.7562534637235395,
          -0.24106086405958171,
          -0.1470476588577978
         ],
         "yaxis": "y",
         "ybingroup": "y"
        },
        {
         "contours": {
          "coloring": "none"
         },
         "hovertemplate": "variable=grade of class 7<br>index=%{x}<br>value=%{y}<br>count=%{z}<extra></extra>",
         "legendgroup": "grade of class 7",
         "line": {
          "color": "#B6E880"
         },
         "name": "grade of class 7",
         "showlegend": true,
         "type": "histogram2dcontour",
         "x": [
          "professor 0",
          "professor 1",
          "professor 2",
          "professor 3",
          "professor 4",
          "professor 5",
          "professor 6",
          "professor 7",
          "professor 8",
          "professor 9"
         ],
         "xaxis": "x",
         "xbingroup": "x",
         "y": [
          -0.9782123325415931,
          -0.592033973029082,
          -0.049639132300446254,
          -0.6604305589494476,
          -0.42381350902359594,
          -0.809668454943759,
          -0.3290024556183989,
          -0.5678385464164564,
          -0.9356936145219578,
          -0.5998835175716165
         ],
         "yaxis": "y",
         "ybingroup": "y"
        },
        {
         "contours": {
          "coloring": "none"
         },
         "hovertemplate": "variable=grade of class 8<br>index=%{x}<br>value=%{y}<br>count=%{z}<extra></extra>",
         "legendgroup": "grade of class 8",
         "line": {
          "color": "#FF97FF"
         },
         "name": "grade of class 8",
         "showlegend": true,
         "type": "histogram2dcontour",
         "x": [
          "professor 0",
          "professor 1",
          "professor 2",
          "professor 3",
          "professor 4",
          "professor 5",
          "professor 6",
          "professor 7",
          "professor 8",
          "professor 9"
         ],
         "xaxis": "x",
         "xbingroup": "x",
         "y": [
          -0.2810440053343972,
          -0.9430028723204796,
          -0.07073166531221087,
          -0.896650337740609,
          -0.16844773083540543,
          -0.8533267709144673,
          -0.3551755421577504,
          -0.7493007617563368,
          -0.3551252643982641,
          -0.8964091807925838
         ],
         "yaxis": "y",
         "ybingroup": "y"
        },
        {
         "contours": {
          "coloring": "none"
         },
         "hovertemplate": "variable=grade of class 9<br>index=%{x}<br>value=%{y}<br>count=%{z}<extra></extra>",
         "legendgroup": "grade of class 9",
         "line": {
          "color": "#FECB52"
         },
         "name": "grade of class 9",
         "showlegend": true,
         "type": "histogram2dcontour",
         "x": [
          "professor 0",
          "professor 1",
          "professor 2",
          "professor 3",
          "professor 4",
          "professor 5",
          "professor 6",
          "professor 7",
          "professor 8",
          "professor 9"
         ],
         "xaxis": "x",
         "xbingroup": "x",
         "y": [
          -0.8305145878158683,
          -0.3224549228292525,
          -0.2795903543821231,
          -0.8156363156663372,
          -0.06213772170597209,
          -0.3333872464824241,
          -0.26409926534666595,
          -0.9007406621611064,
          -0.10504229848048707,
          -0.7326868614086525
         ],
         "yaxis": "y",
         "ybingroup": "y"
        }
       ],
       "layout": {
        "legend": {
         "title": {
          "text": "variable"
         },
         "tracegroupgap": 0
        },
        "margin": {
         "t": 60
        },
        "template": {
         "data": {
          "bar": [
           {
            "error_x": {
             "color": "#2a3f5f"
            },
            "error_y": {
             "color": "#2a3f5f"
            },
            "marker": {
             "line": {
              "color": "#E5ECF6",
              "width": 0.5
             }
            },
            "type": "bar"
           }
          ],
          "barpolar": [
           {
            "marker": {
             "line": {
              "color": "#E5ECF6",
              "width": 0.5
             }
            },
            "type": "barpolar"
           }
          ],
          "carpet": [
           {
            "aaxis": {
             "endlinecolor": "#2a3f5f",
             "gridcolor": "white",
             "linecolor": "white",
             "minorgridcolor": "white",
             "startlinecolor": "#2a3f5f"
            },
            "baxis": {
             "endlinecolor": "#2a3f5f",
             "gridcolor": "white",
             "linecolor": "white",
             "minorgridcolor": "white",
             "startlinecolor": "#2a3f5f"
            },
            "type": "carpet"
           }
          ],
          "choropleth": [
           {
            "colorbar": {
             "outlinewidth": 0,
             "ticks": ""
            },
            "type": "choropleth"
           }
          ],
          "contour": [
           {
            "colorbar": {
             "outlinewidth": 0,
             "ticks": ""
            },
            "colorscale": [
             [
              0,
              "#0d0887"
             ],
             [
              0.1111111111111111,
              "#46039f"
             ],
             [
              0.2222222222222222,
              "#7201a8"
             ],
             [
              0.3333333333333333,
              "#9c179e"
             ],
             [
              0.4444444444444444,
              "#bd3786"
             ],
             [
              0.5555555555555556,
              "#d8576b"
             ],
             [
              0.6666666666666666,
              "#ed7953"
             ],
             [
              0.7777777777777778,
              "#fb9f3a"
             ],
             [
              0.8888888888888888,
              "#fdca26"
             ],
             [
              1,
              "#f0f921"
             ]
            ],
            "type": "contour"
           }
          ],
          "contourcarpet": [
           {
            "colorbar": {
             "outlinewidth": 0,
             "ticks": ""
            },
            "type": "contourcarpet"
           }
          ],
          "heatmap": [
           {
            "colorbar": {
             "outlinewidth": 0,
             "ticks": ""
            },
            "colorscale": [
             [
              0,
              "#0d0887"
             ],
             [
              0.1111111111111111,
              "#46039f"
             ],
             [
              0.2222222222222222,
              "#7201a8"
             ],
             [
              0.3333333333333333,
              "#9c179e"
             ],
             [
              0.4444444444444444,
              "#bd3786"
             ],
             [
              0.5555555555555556,
              "#d8576b"
             ],
             [
              0.6666666666666666,
              "#ed7953"
             ],
             [
              0.7777777777777778,
              "#fb9f3a"
             ],
             [
              0.8888888888888888,
              "#fdca26"
             ],
             [
              1,
              "#f0f921"
             ]
            ],
            "type": "heatmap"
           }
          ],
          "heatmapgl": [
           {
            "colorbar": {
             "outlinewidth": 0,
             "ticks": ""
            },
            "colorscale": [
             [
              0,
              "#0d0887"
             ],
             [
              0.1111111111111111,
              "#46039f"
             ],
             [
              0.2222222222222222,
              "#7201a8"
             ],
             [
              0.3333333333333333,
              "#9c179e"
             ],
             [
              0.4444444444444444,
              "#bd3786"
             ],
             [
              0.5555555555555556,
              "#d8576b"
             ],
             [
              0.6666666666666666,
              "#ed7953"
             ],
             [
              0.7777777777777778,
              "#fb9f3a"
             ],
             [
              0.8888888888888888,
              "#fdca26"
             ],
             [
              1,
              "#f0f921"
             ]
            ],
            "type": "heatmapgl"
           }
          ],
          "histogram": [
           {
            "marker": {
             "colorbar": {
              "outlinewidth": 0,
              "ticks": ""
             }
            },
            "type": "histogram"
           }
          ],
          "histogram2d": [
           {
            "colorbar": {
             "outlinewidth": 0,
             "ticks": ""
            },
            "colorscale": [
             [
              0,
              "#0d0887"
             ],
             [
              0.1111111111111111,
              "#46039f"
             ],
             [
              0.2222222222222222,
              "#7201a8"
             ],
             [
              0.3333333333333333,
              "#9c179e"
             ],
             [
              0.4444444444444444,
              "#bd3786"
             ],
             [
              0.5555555555555556,
              "#d8576b"
             ],
             [
              0.6666666666666666,
              "#ed7953"
             ],
             [
              0.7777777777777778,
              "#fb9f3a"
             ],
             [
              0.8888888888888888,
              "#fdca26"
             ],
             [
              1,
              "#f0f921"
             ]
            ],
            "type": "histogram2d"
           }
          ],
          "histogram2dcontour": [
           {
            "colorbar": {
             "outlinewidth": 0,
             "ticks": ""
            },
            "colorscale": [
             [
              0,
              "#0d0887"
             ],
             [
              0.1111111111111111,
              "#46039f"
             ],
             [
              0.2222222222222222,
              "#7201a8"
             ],
             [
              0.3333333333333333,
              "#9c179e"
             ],
             [
              0.4444444444444444,
              "#bd3786"
             ],
             [
              0.5555555555555556,
              "#d8576b"
             ],
             [
              0.6666666666666666,
              "#ed7953"
             ],
             [
              0.7777777777777778,
              "#fb9f3a"
             ],
             [
              0.8888888888888888,
              "#fdca26"
             ],
             [
              1,
              "#f0f921"
             ]
            ],
            "type": "histogram2dcontour"
           }
          ],
          "mesh3d": [
           {
            "colorbar": {
             "outlinewidth": 0,
             "ticks": ""
            },
            "type": "mesh3d"
           }
          ],
          "parcoords": [
           {
            "line": {
             "colorbar": {
              "outlinewidth": 0,
              "ticks": ""
             }
            },
            "type": "parcoords"
           }
          ],
          "pie": [
           {
            "automargin": true,
            "type": "pie"
           }
          ],
          "scatter": [
           {
            "marker": {
             "colorbar": {
              "outlinewidth": 0,
              "ticks": ""
             }
            },
            "type": "scatter"
           }
          ],
          "scatter3d": [
           {
            "line": {
             "colorbar": {
              "outlinewidth": 0,
              "ticks": ""
             }
            },
            "marker": {
             "colorbar": {
              "outlinewidth": 0,
              "ticks": ""
             }
            },
            "type": "scatter3d"
           }
          ],
          "scattercarpet": [
           {
            "marker": {
             "colorbar": {
              "outlinewidth": 0,
              "ticks": ""
             }
            },
            "type": "scattercarpet"
           }
          ],
          "scattergeo": [
           {
            "marker": {
             "colorbar": {
              "outlinewidth": 0,
              "ticks": ""
             }
            },
            "type": "scattergeo"
           }
          ],
          "scattergl": [
           {
            "marker": {
             "colorbar": {
              "outlinewidth": 0,
              "ticks": ""
             }
            },
            "type": "scattergl"
           }
          ],
          "scattermapbox": [
           {
            "marker": {
             "colorbar": {
              "outlinewidth": 0,
              "ticks": ""
             }
            },
            "type": "scattermapbox"
           }
          ],
          "scatterpolar": [
           {
            "marker": {
             "colorbar": {
              "outlinewidth": 0,
              "ticks": ""
             }
            },
            "type": "scatterpolar"
           }
          ],
          "scatterpolargl": [
           {
            "marker": {
             "colorbar": {
              "outlinewidth": 0,
              "ticks": ""
             }
            },
            "type": "scatterpolargl"
           }
          ],
          "scatterternary": [
           {
            "marker": {
             "colorbar": {
              "outlinewidth": 0,
              "ticks": ""
             }
            },
            "type": "scatterternary"
           }
          ],
          "surface": [
           {
            "colorbar": {
             "outlinewidth": 0,
             "ticks": ""
            },
            "colorscale": [
             [
              0,
              "#0d0887"
             ],
             [
              0.1111111111111111,
              "#46039f"
             ],
             [
              0.2222222222222222,
              "#7201a8"
             ],
             [
              0.3333333333333333,
              "#9c179e"
             ],
             [
              0.4444444444444444,
              "#bd3786"
             ],
             [
              0.5555555555555556,
              "#d8576b"
             ],
             [
              0.6666666666666666,
              "#ed7953"
             ],
             [
              0.7777777777777778,
              "#fb9f3a"
             ],
             [
              0.8888888888888888,
              "#fdca26"
             ],
             [
              1,
              "#f0f921"
             ]
            ],
            "type": "surface"
           }
          ],
          "table": [
           {
            "cells": {
             "fill": {
              "color": "#EBF0F8"
             },
             "line": {
              "color": "white"
             }
            },
            "header": {
             "fill": {
              "color": "#C8D4E3"
             },
             "line": {
              "color": "white"
             }
            },
            "type": "table"
           }
          ]
         },
         "layout": {
          "annotationdefaults": {
           "arrowcolor": "#2a3f5f",
           "arrowhead": 0,
           "arrowwidth": 1
          },
          "coloraxis": {
           "colorbar": {
            "outlinewidth": 0,
            "ticks": ""
           }
          },
          "colorscale": {
           "diverging": [
            [
             0,
             "#8e0152"
            ],
            [
             0.1,
             "#c51b7d"
            ],
            [
             0.2,
             "#de77ae"
            ],
            [
             0.3,
             "#f1b6da"
            ],
            [
             0.4,
             "#fde0ef"
            ],
            [
             0.5,
             "#f7f7f7"
            ],
            [
             0.6,
             "#e6f5d0"
            ],
            [
             0.7,
             "#b8e186"
            ],
            [
             0.8,
             "#7fbc41"
            ],
            [
             0.9,
             "#4d9221"
            ],
            [
             1,
             "#276419"
            ]
           ],
           "sequential": [
            [
             0,
             "#0d0887"
            ],
            [
             0.1111111111111111,
             "#46039f"
            ],
            [
             0.2222222222222222,
             "#7201a8"
            ],
            [
             0.3333333333333333,
             "#9c179e"
            ],
            [
             0.4444444444444444,
             "#bd3786"
            ],
            [
             0.5555555555555556,
             "#d8576b"
            ],
            [
             0.6666666666666666,
             "#ed7953"
            ],
            [
             0.7777777777777778,
             "#fb9f3a"
            ],
            [
             0.8888888888888888,
             "#fdca26"
            ],
            [
             1,
             "#f0f921"
            ]
           ],
           "sequentialminus": [
            [
             0,
             "#0d0887"
            ],
            [
             0.1111111111111111,
             "#46039f"
            ],
            [
             0.2222222222222222,
             "#7201a8"
            ],
            [
             0.3333333333333333,
             "#9c179e"
            ],
            [
             0.4444444444444444,
             "#bd3786"
            ],
            [
             0.5555555555555556,
             "#d8576b"
            ],
            [
             0.6666666666666666,
             "#ed7953"
            ],
            [
             0.7777777777777778,
             "#fb9f3a"
            ],
            [
             0.8888888888888888,
             "#fdca26"
            ],
            [
             1,
             "#f0f921"
            ]
           ]
          },
          "colorway": [
           "#636efa",
           "#EF553B",
           "#00cc96",
           "#ab63fa",
           "#FFA15A",
           "#19d3f3",
           "#FF6692",
           "#B6E880",
           "#FF97FF",
           "#FECB52"
          ],
          "font": {
           "color": "#2a3f5f"
          },
          "geo": {
           "bgcolor": "white",
           "lakecolor": "white",
           "landcolor": "#E5ECF6",
           "showlakes": true,
           "showland": true,
           "subunitcolor": "white"
          },
          "hoverlabel": {
           "align": "left"
          },
          "hovermode": "closest",
          "mapbox": {
           "style": "light"
          },
          "paper_bgcolor": "white",
          "plot_bgcolor": "#E5ECF6",
          "polar": {
           "angularaxis": {
            "gridcolor": "white",
            "linecolor": "white",
            "ticks": ""
           },
           "bgcolor": "#E5ECF6",
           "radialaxis": {
            "gridcolor": "white",
            "linecolor": "white",
            "ticks": ""
           }
          },
          "scene": {
           "xaxis": {
            "backgroundcolor": "#E5ECF6",
            "gridcolor": "white",
            "gridwidth": 2,
            "linecolor": "white",
            "showbackground": true,
            "ticks": "",
            "zerolinecolor": "white"
           },
           "yaxis": {
            "backgroundcolor": "#E5ECF6",
            "gridcolor": "white",
            "gridwidth": 2,
            "linecolor": "white",
            "showbackground": true,
            "ticks": "",
            "zerolinecolor": "white"
           },
           "zaxis": {
            "backgroundcolor": "#E5ECF6",
            "gridcolor": "white",
            "gridwidth": 2,
            "linecolor": "white",
            "showbackground": true,
            "ticks": "",
            "zerolinecolor": "white"
           }
          },
          "shapedefaults": {
           "line": {
            "color": "#2a3f5f"
           }
          },
          "ternary": {
           "aaxis": {
            "gridcolor": "white",
            "linecolor": "white",
            "ticks": ""
           },
           "baxis": {
            "gridcolor": "white",
            "linecolor": "white",
            "ticks": ""
           },
           "bgcolor": "#E5ECF6",
           "caxis": {
            "gridcolor": "white",
            "linecolor": "white",
            "ticks": ""
           }
          },
          "title": {
           "x": 0.05
          },
          "xaxis": {
           "automargin": true,
           "gridcolor": "white",
           "linecolor": "white",
           "ticks": "",
           "title": {
            "standoff": 15
           },
           "zerolinecolor": "white",
           "zerolinewidth": 2
          },
          "yaxis": {
           "automargin": true,
           "gridcolor": "white",
           "linecolor": "white",
           "ticks": "",
           "title": {
            "standoff": 15
           },
           "zerolinecolor": "white",
           "zerolinewidth": 2
          }
         }
        },
        "xaxis": {
         "anchor": "y",
         "domain": [
          0,
          1
         ],
         "title": {
          "text": "index"
         }
        },
        "yaxis": {
         "anchor": "x",
         "domain": [
          0,
          1
         ],
         "title": {
          "text": "value"
         }
        }
       }
      }
     },
     "metadata": {}
    }
   ],
   "source": [
    "# plotly_contour_chart\n",
    "fig = px.density_contour(df_matrix)\n",
    "fig.show()"
   ]
  },
  {
   "cell_type": "code",
   "execution_count": 25,
   "metadata": {},
   "outputs": [
    {
     "output_type": "display_data",
     "data": {
      "application/vnd.plotly.v1+json": {
       "config": {
        "plotlyServerURL": "https://plot.ly"
       },
       "data": [
        {
         "alignmentgroup": "True",
         "hovertemplate": "x=%{x}<br>y=%{y}<extra></extra>",
         "legendgroup": "",
         "marker": {
          "color": "#636efa"
         },
         "name": "",
         "offsetgroup": "",
         "orientation": "v",
         "showlegend": false,
         "textposition": "auto",
         "type": "bar",
         "x": [
          -0.9240135913439741,
          -0.6397923338916238,
          -0.6000223422922621,
          -0.3184842700773801,
          -0.6288793668081891,
          -0.2749322203728912,
          -0.8095248677627642,
          -0.9258379181511869,
          -0.7554440774595256,
          -0.2025269989886287,
          -0.4934417336975824,
          -0.9301009004919626,
          -0.49074365575916434,
          -0.5288143697402669,
          -0.3526548057785177,
          -0.34423632585297814,
          -0.10132865014066961,
          -0.3714416139079352,
          -0.3943414027794281,
          -0.9556438271887279,
          -0.9470641870123482,
          -0.16206104289744117,
          -0.3303455954826858,
          -0.5684798602578447,
          -0.1879261288023173,
          -0.4190899056436731,
          -0.49661016552403003,
          -0.25003272162005696,
          -0.3368806027070287,
          -0.07596546126833681,
          -0.4422763805514841,
          -0.08744542069321193,
          -0.9713055480775634,
          -0.5672267774751572,
          -0.6645015156746245,
          -0.7652243601524875,
          -0.2919719903340853,
          -0.936040016440033,
          -0.8698449167045644,
          -0.9677499244079111,
          -0.18431758529013031,
          -0.48325531684887957,
          -0.20500365167505896,
          -0.7375153339955816,
          -0.3653514322181516,
          -0.34919844881119666,
          -0.07200600435950688,
          -0.8671817261026279,
          -0.34580391843614555,
          -0.07778784391887983
         ],
         "xaxis": "x",
         "y": [
          5.943599194541459,
          6.123950588063415,
          0.759909586126291,
          5.076376037418194,
          6.672513737698344,
          4.542693896331126,
          4.8019244925590945,
          0.10170163235544916,
          2.731816301737485,
          6.045643828775158,
          3.6685245839312977,
          4.38490261014306,
          7.182209581286777,
          4.402428888298758,
          7.774517289720092,
          1.8904886549836437,
          7.733103150222218,
          3.6307719756141585,
          6.550631070979995,
          0.4656082805230879,
          6.936044581547964,
          7.724365180460697,
          7.602451431247661,
          0.19619946494695828,
          4.588030028860844,
          4.2391346396094605,
          1.935810791084391,
          7.32432004981837,
          4.779261528711782,
          5.049524577736072,
          5.93131926924061,
          1.9465881896429584,
          7.358866521194142,
          5.961902991893027,
          0.5522459766185213,
          4.597381439590917,
          3.286380724166947,
          7.743593656511237,
          3.411740503323684,
          4.622260904245578,
          5.491452601450597,
          5.380871300212548,
          2.5496518129259655,
          7.493765829878366,
          6.891742558614267,
          4.143306130588379,
          0.7402440954139626,
          4.349989491590172,
          4.720353260765156,
          4.523491174232828
         ],
         "yaxis": "y"
        },
        {
         "type": "scatter",
         "x": [
          -0.9240135913439741,
          -0.6397923338916238,
          -0.6000223422922621,
          -0.3184842700773801,
          -0.6288793668081891,
          -0.2749322203728912,
          -0.8095248677627642,
          -0.9258379181511869,
          -0.7554440774595256,
          -0.2025269989886287,
          -0.4934417336975824,
          -0.9301009004919626,
          -0.49074365575916434,
          -0.5288143697402669,
          -0.3526548057785177,
          -0.34423632585297814,
          -0.10132865014066961,
          -0.3714416139079352,
          -0.3943414027794281,
          -0.9556438271887279,
          -0.9470641870123482,
          -0.16206104289744117,
          -0.3303455954826858,
          -0.5684798602578447,
          -0.1879261288023173,
          -0.4190899056436731,
          -0.49661016552403003,
          -0.25003272162005696,
          -0.3368806027070287,
          -0.07596546126833681,
          -0.4422763805514841,
          -0.08744542069321193,
          -0.9713055480775634,
          -0.5672267774751572,
          -0.6645015156746245,
          -0.7652243601524875,
          -0.2919719903340853,
          -0.936040016440033,
          -0.8698449167045644,
          -0.9677499244079111,
          -0.18431758529013031,
          -0.48325531684887957,
          -0.20500365167505896,
          -0.7375153339955816,
          -0.3653514322181516,
          -0.34919844881119666,
          -0.07200600435950688,
          -0.8671817261026279,
          -0.34580391843614555,
          -0.07778784391887983
         ],
         "y": [
          5.943599194541459,
          6.123950588063415,
          0.759909586126291,
          5.076376037418194,
          6.672513737698344,
          4.542693896331126,
          4.8019244925590945,
          0.10170163235544916,
          2.731816301737485,
          6.045643828775158,
          3.6685245839312977,
          4.38490261014306,
          7.182209581286777,
          4.402428888298758,
          7.774517289720092,
          1.8904886549836437,
          7.733103150222218,
          3.6307719756141585,
          6.550631070979995,
          0.4656082805230879,
          6.936044581547964,
          7.724365180460697,
          7.602451431247661,
          0.19619946494695828,
          4.588030028860844,
          4.2391346396094605,
          1.935810791084391,
          7.32432004981837,
          4.779261528711782,
          5.049524577736072,
          5.93131926924061,
          1.9465881896429584,
          7.358866521194142,
          5.961902991893027,
          0.5522459766185213,
          4.597381439590917,
          3.286380724166947,
          7.743593656511237,
          3.411740503323684,
          4.622260904245578,
          5.491452601450597,
          5.380871300212548,
          2.5496518129259655,
          7.493765829878366,
          6.891742558614267,
          4.143306130588379,
          0.7402440954139626,
          4.349989491590172,
          4.720353260765156,
          4.523491174232828
         ]
        }
       ],
       "layout": {
        "barmode": "relative",
        "legend": {
         "tracegroupgap": 0
        },
        "margin": {
         "t": 60
        },
        "template": {
         "data": {
          "bar": [
           {
            "error_x": {
             "color": "#2a3f5f"
            },
            "error_y": {
             "color": "#2a3f5f"
            },
            "marker": {
             "line": {
              "color": "#E5ECF6",
              "width": 0.5
             }
            },
            "type": "bar"
           }
          ],
          "barpolar": [
           {
            "marker": {
             "line": {
              "color": "#E5ECF6",
              "width": 0.5
             }
            },
            "type": "barpolar"
           }
          ],
          "carpet": [
           {
            "aaxis": {
             "endlinecolor": "#2a3f5f",
             "gridcolor": "white",
             "linecolor": "white",
             "minorgridcolor": "white",
             "startlinecolor": "#2a3f5f"
            },
            "baxis": {
             "endlinecolor": "#2a3f5f",
             "gridcolor": "white",
             "linecolor": "white",
             "minorgridcolor": "white",
             "startlinecolor": "#2a3f5f"
            },
            "type": "carpet"
           }
          ],
          "choropleth": [
           {
            "colorbar": {
             "outlinewidth": 0,
             "ticks": ""
            },
            "type": "choropleth"
           }
          ],
          "contour": [
           {
            "colorbar": {
             "outlinewidth": 0,
             "ticks": ""
            },
            "colorscale": [
             [
              0,
              "#0d0887"
             ],
             [
              0.1111111111111111,
              "#46039f"
             ],
             [
              0.2222222222222222,
              "#7201a8"
             ],
             [
              0.3333333333333333,
              "#9c179e"
             ],
             [
              0.4444444444444444,
              "#bd3786"
             ],
             [
              0.5555555555555556,
              "#d8576b"
             ],
             [
              0.6666666666666666,
              "#ed7953"
             ],
             [
              0.7777777777777778,
              "#fb9f3a"
             ],
             [
              0.8888888888888888,
              "#fdca26"
             ],
             [
              1,
              "#f0f921"
             ]
            ],
            "type": "contour"
           }
          ],
          "contourcarpet": [
           {
            "colorbar": {
             "outlinewidth": 0,
             "ticks": ""
            },
            "type": "contourcarpet"
           }
          ],
          "heatmap": [
           {
            "colorbar": {
             "outlinewidth": 0,
             "ticks": ""
            },
            "colorscale": [
             [
              0,
              "#0d0887"
             ],
             [
              0.1111111111111111,
              "#46039f"
             ],
             [
              0.2222222222222222,
              "#7201a8"
             ],
             [
              0.3333333333333333,
              "#9c179e"
             ],
             [
              0.4444444444444444,
              "#bd3786"
             ],
             [
              0.5555555555555556,
              "#d8576b"
             ],
             [
              0.6666666666666666,
              "#ed7953"
             ],
             [
              0.7777777777777778,
              "#fb9f3a"
             ],
             [
              0.8888888888888888,
              "#fdca26"
             ],
             [
              1,
              "#f0f921"
             ]
            ],
            "type": "heatmap"
           }
          ],
          "heatmapgl": [
           {
            "colorbar": {
             "outlinewidth": 0,
             "ticks": ""
            },
            "colorscale": [
             [
              0,
              "#0d0887"
             ],
             [
              0.1111111111111111,
              "#46039f"
             ],
             [
              0.2222222222222222,
              "#7201a8"
             ],
             [
              0.3333333333333333,
              "#9c179e"
             ],
             [
              0.4444444444444444,
              "#bd3786"
             ],
             [
              0.5555555555555556,
              "#d8576b"
             ],
             [
              0.6666666666666666,
              "#ed7953"
             ],
             [
              0.7777777777777778,
              "#fb9f3a"
             ],
             [
              0.8888888888888888,
              "#fdca26"
             ],
             [
              1,
              "#f0f921"
             ]
            ],
            "type": "heatmapgl"
           }
          ],
          "histogram": [
           {
            "marker": {
             "colorbar": {
              "outlinewidth": 0,
              "ticks": ""
             }
            },
            "type": "histogram"
           }
          ],
          "histogram2d": [
           {
            "colorbar": {
             "outlinewidth": 0,
             "ticks": ""
            },
            "colorscale": [
             [
              0,
              "#0d0887"
             ],
             [
              0.1111111111111111,
              "#46039f"
             ],
             [
              0.2222222222222222,
              "#7201a8"
             ],
             [
              0.3333333333333333,
              "#9c179e"
             ],
             [
              0.4444444444444444,
              "#bd3786"
             ],
             [
              0.5555555555555556,
              "#d8576b"
             ],
             [
              0.6666666666666666,
              "#ed7953"
             ],
             [
              0.7777777777777778,
              "#fb9f3a"
             ],
             [
              0.8888888888888888,
              "#fdca26"
             ],
             [
              1,
              "#f0f921"
             ]
            ],
            "type": "histogram2d"
           }
          ],
          "histogram2dcontour": [
           {
            "colorbar": {
             "outlinewidth": 0,
             "ticks": ""
            },
            "colorscale": [
             [
              0,
              "#0d0887"
             ],
             [
              0.1111111111111111,
              "#46039f"
             ],
             [
              0.2222222222222222,
              "#7201a8"
             ],
             [
              0.3333333333333333,
              "#9c179e"
             ],
             [
              0.4444444444444444,
              "#bd3786"
             ],
             [
              0.5555555555555556,
              "#d8576b"
             ],
             [
              0.6666666666666666,
              "#ed7953"
             ],
             [
              0.7777777777777778,
              "#fb9f3a"
             ],
             [
              0.8888888888888888,
              "#fdca26"
             ],
             [
              1,
              "#f0f921"
             ]
            ],
            "type": "histogram2dcontour"
           }
          ],
          "mesh3d": [
           {
            "colorbar": {
             "outlinewidth": 0,
             "ticks": ""
            },
            "type": "mesh3d"
           }
          ],
          "parcoords": [
           {
            "line": {
             "colorbar": {
              "outlinewidth": 0,
              "ticks": ""
             }
            },
            "type": "parcoords"
           }
          ],
          "pie": [
           {
            "automargin": true,
            "type": "pie"
           }
          ],
          "scatter": [
           {
            "marker": {
             "colorbar": {
              "outlinewidth": 0,
              "ticks": ""
             }
            },
            "type": "scatter"
           }
          ],
          "scatter3d": [
           {
            "line": {
             "colorbar": {
              "outlinewidth": 0,
              "ticks": ""
             }
            },
            "marker": {
             "colorbar": {
              "outlinewidth": 0,
              "ticks": ""
             }
            },
            "type": "scatter3d"
           }
          ],
          "scattercarpet": [
           {
            "marker": {
             "colorbar": {
              "outlinewidth": 0,
              "ticks": ""
             }
            },
            "type": "scattercarpet"
           }
          ],
          "scattergeo": [
           {
            "marker": {
             "colorbar": {
              "outlinewidth": 0,
              "ticks": ""
             }
            },
            "type": "scattergeo"
           }
          ],
          "scattergl": [
           {
            "marker": {
             "colorbar": {
              "outlinewidth": 0,
              "ticks": ""
             }
            },
            "type": "scattergl"
           }
          ],
          "scattermapbox": [
           {
            "marker": {
             "colorbar": {
              "outlinewidth": 0,
              "ticks": ""
             }
            },
            "type": "scattermapbox"
           }
          ],
          "scatterpolar": [
           {
            "marker": {
             "colorbar": {
              "outlinewidth": 0,
              "ticks": ""
             }
            },
            "type": "scatterpolar"
           }
          ],
          "scatterpolargl": [
           {
            "marker": {
             "colorbar": {
              "outlinewidth": 0,
              "ticks": ""
             }
            },
            "type": "scatterpolargl"
           }
          ],
          "scatterternary": [
           {
            "marker": {
             "colorbar": {
              "outlinewidth": 0,
              "ticks": ""
             }
            },
            "type": "scatterternary"
           }
          ],
          "surface": [
           {
            "colorbar": {
             "outlinewidth": 0,
             "ticks": ""
            },
            "colorscale": [
             [
              0,
              "#0d0887"
             ],
             [
              0.1111111111111111,
              "#46039f"
             ],
             [
              0.2222222222222222,
              "#7201a8"
             ],
             [
              0.3333333333333333,
              "#9c179e"
             ],
             [
              0.4444444444444444,
              "#bd3786"
             ],
             [
              0.5555555555555556,
              "#d8576b"
             ],
             [
              0.6666666666666666,
              "#ed7953"
             ],
             [
              0.7777777777777778,
              "#fb9f3a"
             ],
             [
              0.8888888888888888,
              "#fdca26"
             ],
             [
              1,
              "#f0f921"
             ]
            ],
            "type": "surface"
           }
          ],
          "table": [
           {
            "cells": {
             "fill": {
              "color": "#EBF0F8"
             },
             "line": {
              "color": "white"
             }
            },
            "header": {
             "fill": {
              "color": "#C8D4E3"
             },
             "line": {
              "color": "white"
             }
            },
            "type": "table"
           }
          ]
         },
         "layout": {
          "annotationdefaults": {
           "arrowcolor": "#2a3f5f",
           "arrowhead": 0,
           "arrowwidth": 1
          },
          "coloraxis": {
           "colorbar": {
            "outlinewidth": 0,
            "ticks": ""
           }
          },
          "colorscale": {
           "diverging": [
            [
             0,
             "#8e0152"
            ],
            [
             0.1,
             "#c51b7d"
            ],
            [
             0.2,
             "#de77ae"
            ],
            [
             0.3,
             "#f1b6da"
            ],
            [
             0.4,
             "#fde0ef"
            ],
            [
             0.5,
             "#f7f7f7"
            ],
            [
             0.6,
             "#e6f5d0"
            ],
            [
             0.7,
             "#b8e186"
            ],
            [
             0.8,
             "#7fbc41"
            ],
            [
             0.9,
             "#4d9221"
            ],
            [
             1,
             "#276419"
            ]
           ],
           "sequential": [
            [
             0,
             "#0d0887"
            ],
            [
             0.1111111111111111,
             "#46039f"
            ],
            [
             0.2222222222222222,
             "#7201a8"
            ],
            [
             0.3333333333333333,
             "#9c179e"
            ],
            [
             0.4444444444444444,
             "#bd3786"
            ],
            [
             0.5555555555555556,
             "#d8576b"
            ],
            [
             0.6666666666666666,
             "#ed7953"
            ],
            [
             0.7777777777777778,
             "#fb9f3a"
            ],
            [
             0.8888888888888888,
             "#fdca26"
            ],
            [
             1,
             "#f0f921"
            ]
           ],
           "sequentialminus": [
            [
             0,
             "#0d0887"
            ],
            [
             0.1111111111111111,
             "#46039f"
            ],
            [
             0.2222222222222222,
             "#7201a8"
            ],
            [
             0.3333333333333333,
             "#9c179e"
            ],
            [
             0.4444444444444444,
             "#bd3786"
            ],
            [
             0.5555555555555556,
             "#d8576b"
            ],
            [
             0.6666666666666666,
             "#ed7953"
            ],
            [
             0.7777777777777778,
             "#fb9f3a"
            ],
            [
             0.8888888888888888,
             "#fdca26"
            ],
            [
             1,
             "#f0f921"
            ]
           ]
          },
          "colorway": [
           "#636efa",
           "#EF553B",
           "#00cc96",
           "#ab63fa",
           "#FFA15A",
           "#19d3f3",
           "#FF6692",
           "#B6E880",
           "#FF97FF",
           "#FECB52"
          ],
          "font": {
           "color": "#2a3f5f"
          },
          "geo": {
           "bgcolor": "white",
           "lakecolor": "white",
           "landcolor": "#E5ECF6",
           "showlakes": true,
           "showland": true,
           "subunitcolor": "white"
          },
          "hoverlabel": {
           "align": "left"
          },
          "hovermode": "closest",
          "mapbox": {
           "style": "light"
          },
          "paper_bgcolor": "white",
          "plot_bgcolor": "#E5ECF6",
          "polar": {
           "angularaxis": {
            "gridcolor": "white",
            "linecolor": "white",
            "ticks": ""
           },
           "bgcolor": "#E5ECF6",
           "radialaxis": {
            "gridcolor": "white",
            "linecolor": "white",
            "ticks": ""
           }
          },
          "scene": {
           "xaxis": {
            "backgroundcolor": "#E5ECF6",
            "gridcolor": "white",
            "gridwidth": 2,
            "linecolor": "white",
            "showbackground": true,
            "ticks": "",
            "zerolinecolor": "white"
           },
           "yaxis": {
            "backgroundcolor": "#E5ECF6",
            "gridcolor": "white",
            "gridwidth": 2,
            "linecolor": "white",
            "showbackground": true,
            "ticks": "",
            "zerolinecolor": "white"
           },
           "zaxis": {
            "backgroundcolor": "#E5ECF6",
            "gridcolor": "white",
            "gridwidth": 2,
            "linecolor": "white",
            "showbackground": true,
            "ticks": "",
            "zerolinecolor": "white"
           }
          },
          "shapedefaults": {
           "line": {
            "color": "#2a3f5f"
           }
          },
          "ternary": {
           "aaxis": {
            "gridcolor": "white",
            "linecolor": "white",
            "ticks": ""
           },
           "baxis": {
            "gridcolor": "white",
            "linecolor": "white",
            "ticks": ""
           },
           "bgcolor": "#E5ECF6",
           "caxis": {
            "gridcolor": "white",
            "linecolor": "white",
            "ticks": ""
           }
          },
          "title": {
           "x": 0.05
          },
          "xaxis": {
           "automargin": true,
           "gridcolor": "white",
           "linecolor": "white",
           "ticks": "",
           "title": {
            "standoff": 15
           },
           "zerolinecolor": "white",
           "zerolinewidth": 2
          },
          "yaxis": {
           "automargin": true,
           "gridcolor": "white",
           "linecolor": "white",
           "ticks": "",
           "title": {
            "standoff": 15
           },
           "zerolinecolor": "white",
           "zerolinewidth": 2
          }
         }
        },
        "xaxis": {
         "anchor": "y",
         "domain": [
          0,
          1
         ],
         "title": {
          "text": "x"
         }
        },
        "yaxis": {
         "anchor": "x",
         "domain": [
          0,
          1
         ],
         "title": {
          "text": "y"
         }
        }
       }
      }
     },
     "metadata": {}
    }
   ],
   "source": [
    "# plotly_composite_line_bar\n",
    "fig = px.bar(df, x=\"x\", y=\"y\")\n",
    "fig.add_trace(go.Scatter(x=df['x'], y=df['y']))\n",
    "fig.show()"
   ]
  },
  {
   "cell_type": "code",
   "execution_count": 26,
   "metadata": {},
   "outputs": [
    {
     "output_type": "execute_result",
     "data": {
      "text/plain": [
       "         x1        y1        x2        y2        x3        y3        x4  \\\n",
       "0  0.947904 -2.848875  1.483677  0.221765 -1.143593  1.286487 -2.057646   \n",
       "1  7.587037 -1.021998  6.660692  0.536191 -4.750043  0.308620 -0.509966   \n",
       "2  6.264222 -0.111876  3.351402  2.949621 -0.196269  3.765836 -1.449796   \n",
       "3  5.035613 -1.294720  0.967543  1.385137 -5.917302  6.197529 -1.861204   \n",
       "4  0.795671 -0.289239  5.493933  0.709877 -3.678817  0.785092 -0.933096   \n",
       "\n",
       "         y4  \n",
       "0 -3.533067  \n",
       "1 -5.197225  \n",
       "2 -2.371497  \n",
       "3 -7.079199  \n",
       "4 -0.948959  "
      ],
      "text/html": "<div>\n<style scoped>\n    .dataframe tbody tr th:only-of-type {\n        vertical-align: middle;\n    }\n\n    .dataframe tbody tr th {\n        vertical-align: top;\n    }\n\n    .dataframe thead th {\n        text-align: right;\n    }\n</style>\n<table border=\"1\" class=\"dataframe\">\n  <thead>\n    <tr style=\"text-align: right;\">\n      <th></th>\n      <th>x1</th>\n      <th>y1</th>\n      <th>x2</th>\n      <th>y2</th>\n      <th>x3</th>\n      <th>y3</th>\n      <th>x4</th>\n      <th>y4</th>\n    </tr>\n  </thead>\n  <tbody>\n    <tr>\n      <th>0</th>\n      <td>0.947904</td>\n      <td>-2.848875</td>\n      <td>1.483677</td>\n      <td>0.221765</td>\n      <td>-1.143593</td>\n      <td>1.286487</td>\n      <td>-2.057646</td>\n      <td>-3.533067</td>\n    </tr>\n    <tr>\n      <th>1</th>\n      <td>7.587037</td>\n      <td>-1.021998</td>\n      <td>6.660692</td>\n      <td>0.536191</td>\n      <td>-4.750043</td>\n      <td>0.308620</td>\n      <td>-0.509966</td>\n      <td>-5.197225</td>\n    </tr>\n    <tr>\n      <th>2</th>\n      <td>6.264222</td>\n      <td>-0.111876</td>\n      <td>3.351402</td>\n      <td>2.949621</td>\n      <td>-0.196269</td>\n      <td>3.765836</td>\n      <td>-1.449796</td>\n      <td>-2.371497</td>\n    </tr>\n    <tr>\n      <th>3</th>\n      <td>5.035613</td>\n      <td>-1.294720</td>\n      <td>0.967543</td>\n      <td>1.385137</td>\n      <td>-5.917302</td>\n      <td>6.197529</td>\n      <td>-1.861204</td>\n      <td>-7.079199</td>\n    </tr>\n    <tr>\n      <th>4</th>\n      <td>0.795671</td>\n      <td>-0.289239</td>\n      <td>5.493933</td>\n      <td>0.709877</td>\n      <td>-3.678817</td>\n      <td>0.785092</td>\n      <td>-0.933096</td>\n      <td>-0.948959</td>\n    </tr>\n  </tbody>\n</table>\n</div>"
     },
     "metadata": {},
     "execution_count": 26
    }
   ],
   "source": [
    "df_last = pd.DataFrame(dict(x1=np.random.rand(50) * np.random.randint(-10, 10), y1=np.random.rand(50) * np.random.randint(-10, 10), x2=np.random.rand(50) * np.random.randint(-10, 10), y2=np.random.rand(50) * np.random.randint(-10, 10),                     x3=np.random.rand(50) * np.random.randint(-10, 10), y3=np.random.rand(50) * np.random.randint(-10, 10),                     x4=np.random.rand(50) * np.random.randint(-10, 10), y4=np.random.rand(50) * np.random.randint(-10, 10)))\n",
    "df_last.head()"
   ]
  },
  {
   "cell_type": "code",
   "execution_count": 27,
   "metadata": {},
   "outputs": [
    {
     "output_type": "display_data",
     "data": {
      "application/vnd.plotly.v1+json": {
       "config": {
        "plotlyServerURL": "https://plot.ly"
       },
       "data": [
        {
         "type": "scatter",
         "x": [
          0.9479044138306003,
          7.587037444119258,
          6.264221816651007,
          5.03561266401303,
          0.7956714217292111,
          3.605044665158509,
          5.134250956514327,
          1.5004605516017424,
          2.0289391268144463,
          5.12652088076625,
          5.391613152427719,
          3.612453056680839,
          5.7664371270227734,
          4.882001589542104,
          1.262370391486387,
          5.89220860824037,
          7.660694042692269,
          3.9050376626954506,
          0.6115640968529013,
          6.196542179039896,
          1.3194911274380647,
          7.476432374759744,
          4.118730125082514,
          1.7538670138936077,
          6.149141795603678,
          7.956956348438182,
          7.892729739439489,
          2.2124382881161795,
          5.9068403751665715,
          6.051021501432932,
          2.061511313963906,
          5.674847030514621,
          6.055707635457263,
          1.387688156568455,
          7.870971491435181,
          7.906504677333534,
          6.607211683972791,
          6.759625915185069,
          0.24301257765713835,
          3.2847070138725316,
          0.9112669342341064,
          2.8588301169970984,
          6.378267732880319,
          1.6535233802104488,
          1.2968091039464547,
          3.4563236709835046,
          1.0450446090368342,
          4.428470960986118,
          3.6455191158781277,
          0.7972837150869792
         ],
         "xaxis": "x",
         "y": [
          -2.848875130767113,
          -1.021998240324776,
          -0.11187556779684571,
          -1.2947202678516443,
          -0.28923895599662297,
          -2.413553822549838,
          -1.8199942289711553,
          -2.954030914328021,
          -2.0567149140631873,
          -2.608860151178324,
          -0.32262239840014806,
          -1.6174340727833838,
          -2.959685134306524,
          -1.876470142156455,
          -2.4426256178178347,
          -1.8331821633124665,
          -2.2368635232207015,
          -2.4253909410534042,
          -2.8913338890829277,
          -2.769418423307172,
          -0.6187175916605114,
          -1.8239699825439242,
          -0.19024236147314166,
          -0.10877811885403321,
          -1.8731120418560034,
          -0.4760379806297651,
          -1.8733732076580214,
          -0.0022716275542732367,
          -1.925971192489495,
          -2.972695532777849,
          -2.9321110903647645,
          -2.637463527416652,
          -2.8446185463635527,
          -0.2396253329448631,
          -2.3032686993094655,
          -0.007254424278326899,
          -1.9593616588072442,
          -0.07147970665046566,
          -2.3873146498004223,
          -1.949245385749927,
          -2.2715187697044357,
          -0.9475342564976774,
          -0.8109416852956992,
          -0.22581526698199406,
          -2.8469089489149964,
          -2.002855361621859,
          -1.2218462280387203,
          -2.415274395462677,
          -1.155483019183015,
          -2.8626421436034337
         ],
         "yaxis": "y"
        },
        {
         "mode": "markers",
         "type": "scatter",
         "x": [
          1.4836766841002582,
          6.660691773037212,
          3.3514023300749436,
          0.9675434876644999,
          5.493932869642542,
          5.943550543209819,
          0.09586843412916313,
          6.305438891541732,
          3.915774592448388,
          1.2024627108371968,
          0.8817635821651297,
          1.7535383085360063,
          1.5686155510431803,
          7.372315677767315,
          0.709943355859405,
          1.6482372462800328,
          0.5924733409603018,
          4.942795370330403,
          4.267617087064769,
          2.226413027565582,
          1.9139304473458223,
          1.9480631728545976,
          5.294987598865118,
          2.30361165400714,
          4.850623746161606,
          7.610579747863814,
          0.25424541176138504,
          5.003877152268994,
          3.8659488620109688,
          5.584975322622643,
          2.2172102532139997,
          1.8768393257986355,
          4.416240589749195,
          3.3373870788720597,
          5.53777925947226,
          4.927775918891384,
          5.843416424343457,
          4.041938447921297,
          4.619572604254794,
          0.4973514561973902,
          1.1734404161999512,
          3.6240091188552412,
          6.692933907376679,
          0.8517258436183086,
          7.608794602873751,
          7.046704998945836,
          2.7531923000485286,
          3.176162740314248,
          6.95988590102428,
          5.876345600537127
         ],
         "xaxis": "x2",
         "y": [
          0.22176513265256426,
          0.5361906685384115,
          2.9496210645346803,
          1.385136819710208,
          0.7098774693179264,
          0.8742346211642611,
          1.764715875448589,
          0.7273853076174782,
          0.7284643241406287,
          2.8963401236580655,
          2.3530569046256704,
          1.925176181980354,
          0.000523357133657143,
          1.043819420327946,
          2.175841966183906,
          0.5538023430958373,
          2.4660857038243598,
          1.8683298096146936,
          1.6215388576933893,
          2.562653438635591,
          0.17499496749414234,
          1.1767395731630752,
          1.71807966695998,
          1.3665864259408054,
          1.1270867869874608,
          0.2718994881296123,
          1.7126875751305928,
          2.6561248729668727,
          2.9819033095321,
          2.0567988457758464,
          1.0031915606563715,
          0.830842969037815,
          2.3143828601177123,
          0.8333965701080507,
          2.1155499272308416,
          1.3888815211941654,
          2.0293129801355243,
          0.2387619567290049,
          0.6028222295835751,
          2.6767716238361756,
          0.25752659349615714,
          0.546787388938124,
          2.8748334844317593,
          1.0732235153192966,
          2.9977273113331364,
          2.2411038879114207,
          1.765232758934273,
          1.9478655002279552,
          0.9747636664327064,
          1.451282965916088
         ],
         "yaxis": "y2"
        },
        {
         "type": "bar",
         "x": [
          -1.1435933271827339,
          -4.750043383184259,
          -0.19626864900455465,
          -5.917301640073078,
          -3.67881746003313,
          -3.7689291810483683,
          -5.042146272553158,
          -4.593444429275959,
          -2.996677005115619,
          -5.540094664006127,
          -4.84115900684997,
          -4.722590730341359,
          -4.948304826916946,
          -1.2192966267807204,
          -5.030100253724084,
          -3.3306866880012933,
          -4.326368553957281,
          -4.7796713760039085,
          -0.6665534348298827,
          -2.154545290858495,
          -3.39871893768239,
          -3.335007579371763,
          -1.492915931085776,
          -2.8544306119679366,
          -4.770371503620353,
          -2.6208402720325945,
          -0.3670081858107648,
          -3.81916717054484,
          -0.00573338944488766,
          -0.0784144499989814,
          -1.577922387644004,
          -5.903749087383986,
          -1.2380666149681112,
          -5.922535109265393,
          -0.2847655366722883,
          -5.944193138886909,
          -5.752434822730157,
          -1.9416916842939762,
          -5.280799237923555,
          -5.132351046223585,
          -4.517659238493174,
          -3.7085818064428047,
          -4.109954340895294,
          -4.630376190646922,
          -1.4566950773162821,
          -0.3844514104528711,
          -1.0513417961994016,
          -5.930629923748436,
          -5.1922037310561855,
          -2.4552260667216665
         ],
         "xaxis": "x3",
         "y": [
          0,
          1,
          2,
          3,
          4,
          5,
          6,
          7,
          8,
          9,
          10,
          11,
          12,
          13,
          14,
          15,
          16,
          17,
          18,
          19,
          20,
          21,
          22,
          23,
          24,
          25,
          26,
          27,
          28,
          29,
          30,
          31,
          32,
          33,
          34,
          35,
          36,
          37,
          38,
          39,
          40,
          41,
          42,
          43,
          44,
          45,
          46,
          47,
          48,
          49
         ],
         "yaxis": "y3"
        },
        {
         "stackgroup": "one",
         "type": "scatter",
         "x": [
          -1.1435933271827339,
          -4.750043383184259,
          -0.19626864900455465,
          -5.917301640073078,
          -3.67881746003313,
          -3.7689291810483683,
          -5.042146272553158,
          -4.593444429275959,
          -2.996677005115619,
          -5.540094664006127,
          -4.84115900684997,
          -4.722590730341359,
          -4.948304826916946,
          -1.2192966267807204,
          -5.030100253724084,
          -3.3306866880012933,
          -4.326368553957281,
          -4.7796713760039085,
          -0.6665534348298827,
          -2.154545290858495,
          -3.39871893768239,
          -3.335007579371763,
          -1.492915931085776,
          -2.8544306119679366,
          -4.770371503620353,
          -2.6208402720325945,
          -0.3670081858107648,
          -3.81916717054484,
          -0.00573338944488766,
          -0.0784144499989814,
          -1.577922387644004,
          -5.903749087383986,
          -1.2380666149681112,
          -5.922535109265393,
          -0.2847655366722883,
          -5.944193138886909,
          -5.752434822730157,
          -1.9416916842939762,
          -5.280799237923555,
          -5.132351046223585,
          -4.517659238493174,
          -3.7085818064428047,
          -4.109954340895294,
          -4.630376190646922,
          -1.4566950773162821,
          -0.3844514104528711,
          -1.0513417961994016,
          -5.930629923748436,
          -5.1922037310561855,
          -2.4552260667216665
         ],
         "xaxis": "x4",
         "y": [
          1.2864866245301,
          0.30861974258173563,
          3.7658359643325454,
          6.197528625058917,
          0.7850921403373411,
          5.402776415315847,
          4.514732858062284,
          2.6379298125193316,
          5.089266260723558,
          5.965963316843948,
          0.3570367188482426,
          6.491266531833353,
          2.018860717634513,
          4.033997412504844,
          6.945821261405317,
          5.376655677414165,
          6.876989264798921,
          0.49260877572923545,
          1.655662754321737,
          2.065038386714287,
          4.892988082924011,
          5.305148375006632,
          2.059533639500485,
          2.5081370853162137,
          5.196291641785944,
          5.583899545515243,
          3.2409852209518877,
          3.726212647771271,
          4.724282535756222,
          6.5311893981512945,
          3.3442806527960505,
          4.506113421455537,
          2.8925472818533637,
          5.165452466047535,
          1.1726334249875219,
          4.731998664027502,
          1.799803293436228,
          4.530310405186016,
          5.146329727521752,
          1.600240686871809,
          3.5409123914476934,
          1.7238335483584524,
          2.5581139603436855,
          1.4701972249736048,
          4.877458551755941,
          0.5464782131327934,
          2.203773136650947,
          0.3608299124299301,
          3.389038489670866,
          3.5011406150609052
         ],
         "yaxis": "y4"
        },
        {
         "stackgroup": "one",
         "type": "scatter",
         "x": [
          -2.0576463284018875,
          -0.5099660938185236,
          -1.4497956598075286,
          -1.8612044513370054,
          -0.9330955729787629,
          -0.9709599546050572,
          -2.1744041645148506,
          -2.0678975911236206,
          -0.5286027125808067,
          -0.3881089283817595,
          -0.3341624716345263,
          -1.13531960354936,
          -0.7576163155009901,
          -0.1329872175182173,
          -0.5403694373249277,
          -2.059488465519917,
          -2.7332702843041297,
          -1.2402022426581711,
          -0.4501144773533119,
          -2.92800444140922,
          -1.1961763303930604,
          -2.147383440378567,
          -2.4302077623422305,
          -2.9652801346793103,
          -0.4184232510305018,
          -1.6921751654053945,
          -0.6339416834379368,
          -2.4510657762644597,
          -1.0273847144826982,
          -0.5771181222658953,
          -1.8067266620284306,
          -0.5672004013819235,
          -0.601466410320767,
          -0.19183088363044087,
          -0.7827148566582623,
          -0.07549319912147834,
          -0.31823697335388645,
          -2.163075794145475,
          -0.039502988895418145,
          -2.035508702702626,
          -1.7964128587625172,
          -2.701332784048873,
          -0.8433041175485761,
          -1.5346464454599515,
          -2.7816312253631463,
          -2.93161098408124,
          -1.6192974705457734,
          -0.5943593391621258,
          -1.6170357528578045,
          -1.6648650587499634
         ],
         "xaxis": "x4",
         "y": [
          -3.5330671343419704,
          -5.197225097854079,
          -2.3714968809686843,
          -7.079198523829885,
          -0.9489588227552211,
          -1.2549238167470174,
          -6.873618530965605,
          -6.997606586642951,
          -6.629293412568698,
          -0.8265619796943278,
          -7.830329164324875,
          -3.8386877961477266,
          -8.43895924443373,
          -8.610467216873293,
          -6.640176898050388,
          -8.407818232948385,
          -3.0859916394054085,
          -6.910907668250912,
          -7.600806254734226,
          -0.586094633994257,
          -5.069896452514795,
          -7.2140060244658,
          -7.902542485080171,
          -2.1678783187547537,
          -0.5160591673880711,
          -7.406601047605254,
          -1.5566316741392003,
          -2.6640160928095655,
          -3.3919190084163877,
          -2.7538634366724013,
          -0.46671795177431696,
          -2.936750215892094,
          -2.623730325424124,
          -4.258836253002951,
          -8.938748127537695,
          -8.27504728067159,
          -7.758861857578072,
          -0.5247171626590501,
          -8.379198449177453,
          -2.5353853636032824,
          -4.602609777897559,
          -3.427558526320021,
          -0.5227654773714608,
          -3.779421042733425,
          -2.4890989934787044,
          -8.37012466026557,
          -4.237060675758676,
          -8.309488382458923,
          -5.8949689599471,
          -8.287344874247164
         ],
         "yaxis": "y4"
        }
       ],
       "layout": {
        "template": {
         "data": {
          "bar": [
           {
            "error_x": {
             "color": "#2a3f5f"
            },
            "error_y": {
             "color": "#2a3f5f"
            },
            "marker": {
             "line": {
              "color": "#E5ECF6",
              "width": 0.5
             }
            },
            "type": "bar"
           }
          ],
          "barpolar": [
           {
            "marker": {
             "line": {
              "color": "#E5ECF6",
              "width": 0.5
             }
            },
            "type": "barpolar"
           }
          ],
          "carpet": [
           {
            "aaxis": {
             "endlinecolor": "#2a3f5f",
             "gridcolor": "white",
             "linecolor": "white",
             "minorgridcolor": "white",
             "startlinecolor": "#2a3f5f"
            },
            "baxis": {
             "endlinecolor": "#2a3f5f",
             "gridcolor": "white",
             "linecolor": "white",
             "minorgridcolor": "white",
             "startlinecolor": "#2a3f5f"
            },
            "type": "carpet"
           }
          ],
          "choropleth": [
           {
            "colorbar": {
             "outlinewidth": 0,
             "ticks": ""
            },
            "type": "choropleth"
           }
          ],
          "contour": [
           {
            "colorbar": {
             "outlinewidth": 0,
             "ticks": ""
            },
            "colorscale": [
             [
              0,
              "#0d0887"
             ],
             [
              0.1111111111111111,
              "#46039f"
             ],
             [
              0.2222222222222222,
              "#7201a8"
             ],
             [
              0.3333333333333333,
              "#9c179e"
             ],
             [
              0.4444444444444444,
              "#bd3786"
             ],
             [
              0.5555555555555556,
              "#d8576b"
             ],
             [
              0.6666666666666666,
              "#ed7953"
             ],
             [
              0.7777777777777778,
              "#fb9f3a"
             ],
             [
              0.8888888888888888,
              "#fdca26"
             ],
             [
              1,
              "#f0f921"
             ]
            ],
            "type": "contour"
           }
          ],
          "contourcarpet": [
           {
            "colorbar": {
             "outlinewidth": 0,
             "ticks": ""
            },
            "type": "contourcarpet"
           }
          ],
          "heatmap": [
           {
            "colorbar": {
             "outlinewidth": 0,
             "ticks": ""
            },
            "colorscale": [
             [
              0,
              "#0d0887"
             ],
             [
              0.1111111111111111,
              "#46039f"
             ],
             [
              0.2222222222222222,
              "#7201a8"
             ],
             [
              0.3333333333333333,
              "#9c179e"
             ],
             [
              0.4444444444444444,
              "#bd3786"
             ],
             [
              0.5555555555555556,
              "#d8576b"
             ],
             [
              0.6666666666666666,
              "#ed7953"
             ],
             [
              0.7777777777777778,
              "#fb9f3a"
             ],
             [
              0.8888888888888888,
              "#fdca26"
             ],
             [
              1,
              "#f0f921"
             ]
            ],
            "type": "heatmap"
           }
          ],
          "heatmapgl": [
           {
            "colorbar": {
             "outlinewidth": 0,
             "ticks": ""
            },
            "colorscale": [
             [
              0,
              "#0d0887"
             ],
             [
              0.1111111111111111,
              "#46039f"
             ],
             [
              0.2222222222222222,
              "#7201a8"
             ],
             [
              0.3333333333333333,
              "#9c179e"
             ],
             [
              0.4444444444444444,
              "#bd3786"
             ],
             [
              0.5555555555555556,
              "#d8576b"
             ],
             [
              0.6666666666666666,
              "#ed7953"
             ],
             [
              0.7777777777777778,
              "#fb9f3a"
             ],
             [
              0.8888888888888888,
              "#fdca26"
             ],
             [
              1,
              "#f0f921"
             ]
            ],
            "type": "heatmapgl"
           }
          ],
          "histogram": [
           {
            "marker": {
             "colorbar": {
              "outlinewidth": 0,
              "ticks": ""
             }
            },
            "type": "histogram"
           }
          ],
          "histogram2d": [
           {
            "colorbar": {
             "outlinewidth": 0,
             "ticks": ""
            },
            "colorscale": [
             [
              0,
              "#0d0887"
             ],
             [
              0.1111111111111111,
              "#46039f"
             ],
             [
              0.2222222222222222,
              "#7201a8"
             ],
             [
              0.3333333333333333,
              "#9c179e"
             ],
             [
              0.4444444444444444,
              "#bd3786"
             ],
             [
              0.5555555555555556,
              "#d8576b"
             ],
             [
              0.6666666666666666,
              "#ed7953"
             ],
             [
              0.7777777777777778,
              "#fb9f3a"
             ],
             [
              0.8888888888888888,
              "#fdca26"
             ],
             [
              1,
              "#f0f921"
             ]
            ],
            "type": "histogram2d"
           }
          ],
          "histogram2dcontour": [
           {
            "colorbar": {
             "outlinewidth": 0,
             "ticks": ""
            },
            "colorscale": [
             [
              0,
              "#0d0887"
             ],
             [
              0.1111111111111111,
              "#46039f"
             ],
             [
              0.2222222222222222,
              "#7201a8"
             ],
             [
              0.3333333333333333,
              "#9c179e"
             ],
             [
              0.4444444444444444,
              "#bd3786"
             ],
             [
              0.5555555555555556,
              "#d8576b"
             ],
             [
              0.6666666666666666,
              "#ed7953"
             ],
             [
              0.7777777777777778,
              "#fb9f3a"
             ],
             [
              0.8888888888888888,
              "#fdca26"
             ],
             [
              1,
              "#f0f921"
             ]
            ],
            "type": "histogram2dcontour"
           }
          ],
          "mesh3d": [
           {
            "colorbar": {
             "outlinewidth": 0,
             "ticks": ""
            },
            "type": "mesh3d"
           }
          ],
          "parcoords": [
           {
            "line": {
             "colorbar": {
              "outlinewidth": 0,
              "ticks": ""
             }
            },
            "type": "parcoords"
           }
          ],
          "pie": [
           {
            "automargin": true,
            "type": "pie"
           }
          ],
          "scatter": [
           {
            "marker": {
             "colorbar": {
              "outlinewidth": 0,
              "ticks": ""
             }
            },
            "type": "scatter"
           }
          ],
          "scatter3d": [
           {
            "line": {
             "colorbar": {
              "outlinewidth": 0,
              "ticks": ""
             }
            },
            "marker": {
             "colorbar": {
              "outlinewidth": 0,
              "ticks": ""
             }
            },
            "type": "scatter3d"
           }
          ],
          "scattercarpet": [
           {
            "marker": {
             "colorbar": {
              "outlinewidth": 0,
              "ticks": ""
             }
            },
            "type": "scattercarpet"
           }
          ],
          "scattergeo": [
           {
            "marker": {
             "colorbar": {
              "outlinewidth": 0,
              "ticks": ""
             }
            },
            "type": "scattergeo"
           }
          ],
          "scattergl": [
           {
            "marker": {
             "colorbar": {
              "outlinewidth": 0,
              "ticks": ""
             }
            },
            "type": "scattergl"
           }
          ],
          "scattermapbox": [
           {
            "marker": {
             "colorbar": {
              "outlinewidth": 0,
              "ticks": ""
             }
            },
            "type": "scattermapbox"
           }
          ],
          "scatterpolar": [
           {
            "marker": {
             "colorbar": {
              "outlinewidth": 0,
              "ticks": ""
             }
            },
            "type": "scatterpolar"
           }
          ],
          "scatterpolargl": [
           {
            "marker": {
             "colorbar": {
              "outlinewidth": 0,
              "ticks": ""
             }
            },
            "type": "scatterpolargl"
           }
          ],
          "scatterternary": [
           {
            "marker": {
             "colorbar": {
              "outlinewidth": 0,
              "ticks": ""
             }
            },
            "type": "scatterternary"
           }
          ],
          "surface": [
           {
            "colorbar": {
             "outlinewidth": 0,
             "ticks": ""
            },
            "colorscale": [
             [
              0,
              "#0d0887"
             ],
             [
              0.1111111111111111,
              "#46039f"
             ],
             [
              0.2222222222222222,
              "#7201a8"
             ],
             [
              0.3333333333333333,
              "#9c179e"
             ],
             [
              0.4444444444444444,
              "#bd3786"
             ],
             [
              0.5555555555555556,
              "#d8576b"
             ],
             [
              0.6666666666666666,
              "#ed7953"
             ],
             [
              0.7777777777777778,
              "#fb9f3a"
             ],
             [
              0.8888888888888888,
              "#fdca26"
             ],
             [
              1,
              "#f0f921"
             ]
            ],
            "type": "surface"
           }
          ],
          "table": [
           {
            "cells": {
             "fill": {
              "color": "#EBF0F8"
             },
             "line": {
              "color": "white"
             }
            },
            "header": {
             "fill": {
              "color": "#C8D4E3"
             },
             "line": {
              "color": "white"
             }
            },
            "type": "table"
           }
          ]
         },
         "layout": {
          "annotationdefaults": {
           "arrowcolor": "#2a3f5f",
           "arrowhead": 0,
           "arrowwidth": 1
          },
          "coloraxis": {
           "colorbar": {
            "outlinewidth": 0,
            "ticks": ""
           }
          },
          "colorscale": {
           "diverging": [
            [
             0,
             "#8e0152"
            ],
            [
             0.1,
             "#c51b7d"
            ],
            [
             0.2,
             "#de77ae"
            ],
            [
             0.3,
             "#f1b6da"
            ],
            [
             0.4,
             "#fde0ef"
            ],
            [
             0.5,
             "#f7f7f7"
            ],
            [
             0.6,
             "#e6f5d0"
            ],
            [
             0.7,
             "#b8e186"
            ],
            [
             0.8,
             "#7fbc41"
            ],
            [
             0.9,
             "#4d9221"
            ],
            [
             1,
             "#276419"
            ]
           ],
           "sequential": [
            [
             0,
             "#0d0887"
            ],
            [
             0.1111111111111111,
             "#46039f"
            ],
            [
             0.2222222222222222,
             "#7201a8"
            ],
            [
             0.3333333333333333,
             "#9c179e"
            ],
            [
             0.4444444444444444,
             "#bd3786"
            ],
            [
             0.5555555555555556,
             "#d8576b"
            ],
            [
             0.6666666666666666,
             "#ed7953"
            ],
            [
             0.7777777777777778,
             "#fb9f3a"
            ],
            [
             0.8888888888888888,
             "#fdca26"
            ],
            [
             1,
             "#f0f921"
            ]
           ],
           "sequentialminus": [
            [
             0,
             "#0d0887"
            ],
            [
             0.1111111111111111,
             "#46039f"
            ],
            [
             0.2222222222222222,
             "#7201a8"
            ],
            [
             0.3333333333333333,
             "#9c179e"
            ],
            [
             0.4444444444444444,
             "#bd3786"
            ],
            [
             0.5555555555555556,
             "#d8576b"
            ],
            [
             0.6666666666666666,
             "#ed7953"
            ],
            [
             0.7777777777777778,
             "#fb9f3a"
            ],
            [
             0.8888888888888888,
             "#fdca26"
            ],
            [
             1,
             "#f0f921"
            ]
           ]
          },
          "colorway": [
           "#636efa",
           "#EF553B",
           "#00cc96",
           "#ab63fa",
           "#FFA15A",
           "#19d3f3",
           "#FF6692",
           "#B6E880",
           "#FF97FF",
           "#FECB52"
          ],
          "font": {
           "color": "#2a3f5f"
          },
          "geo": {
           "bgcolor": "white",
           "lakecolor": "white",
           "landcolor": "#E5ECF6",
           "showlakes": true,
           "showland": true,
           "subunitcolor": "white"
          },
          "hoverlabel": {
           "align": "left"
          },
          "hovermode": "closest",
          "mapbox": {
           "style": "light"
          },
          "paper_bgcolor": "white",
          "plot_bgcolor": "#E5ECF6",
          "polar": {
           "angularaxis": {
            "gridcolor": "white",
            "linecolor": "white",
            "ticks": ""
           },
           "bgcolor": "#E5ECF6",
           "radialaxis": {
            "gridcolor": "white",
            "linecolor": "white",
            "ticks": ""
           }
          },
          "scene": {
           "xaxis": {
            "backgroundcolor": "#E5ECF6",
            "gridcolor": "white",
            "gridwidth": 2,
            "linecolor": "white",
            "showbackground": true,
            "ticks": "",
            "zerolinecolor": "white"
           },
           "yaxis": {
            "backgroundcolor": "#E5ECF6",
            "gridcolor": "white",
            "gridwidth": 2,
            "linecolor": "white",
            "showbackground": true,
            "ticks": "",
            "zerolinecolor": "white"
           },
           "zaxis": {
            "backgroundcolor": "#E5ECF6",
            "gridcolor": "white",
            "gridwidth": 2,
            "linecolor": "white",
            "showbackground": true,
            "ticks": "",
            "zerolinecolor": "white"
           }
          },
          "shapedefaults": {
           "line": {
            "color": "#2a3f5f"
           }
          },
          "ternary": {
           "aaxis": {
            "gridcolor": "white",
            "linecolor": "white",
            "ticks": ""
           },
           "baxis": {
            "gridcolor": "white",
            "linecolor": "white",
            "ticks": ""
           },
           "bgcolor": "#E5ECF6",
           "caxis": {
            "gridcolor": "white",
            "linecolor": "white",
            "ticks": ""
           }
          },
          "title": {
           "x": 0.05
          },
          "xaxis": {
           "automargin": true,
           "gridcolor": "white",
           "linecolor": "white",
           "ticks": "",
           "title": {
            "standoff": 15
           },
           "zerolinecolor": "white",
           "zerolinewidth": 2
          },
          "yaxis": {
           "automargin": true,
           "gridcolor": "white",
           "linecolor": "white",
           "ticks": "",
           "title": {
            "standoff": 15
           },
           "zerolinecolor": "white",
           "zerolinewidth": 2
          }
         }
        },
        "xaxis": {
         "anchor": "y",
         "domain": [
          0,
          0.45
         ]
        },
        "xaxis2": {
         "anchor": "y2",
         "domain": [
          0.55,
          1
         ]
        },
        "xaxis3": {
         "anchor": "y3",
         "domain": [
          0,
          0.45
         ]
        },
        "xaxis4": {
         "anchor": "y4",
         "domain": [
          0.55,
          1
         ]
        },
        "yaxis": {
         "anchor": "x",
         "domain": [
          0.575,
          1
         ]
        },
        "yaxis2": {
         "anchor": "x2",
         "domain": [
          0.575,
          1
         ]
        },
        "yaxis3": {
         "anchor": "x3",
         "domain": [
          0,
          0.425
         ]
        },
        "yaxis4": {
         "anchor": "x4",
         "domain": [
          0,
          0.425
         ]
        }
       }
      }
     },
     "metadata": {}
    }
   ],
   "source": [
    "from plotly.subplots import make_subplots\n",
    "\n",
    "fig = make_subplots(rows=2, cols=2, start_cell=\"top-left\")\n",
    "\n",
    "fig.add_trace(go.Scatter(x = df_last['x1'], y = df_last['y1']), row = 1, col = 1)\n",
    "\n",
    "fig.add_trace(go.Scatter(x = df_last['x2'], y = df_last['y2'], mode=\"markers\"), row = 1, col = 2)\n",
    "\n",
    "fig.add_trace(go.Bar(x = df_last['x3'], y = df_last.index), row = 2, col = 1)\n",
    "\n",
    "trace1 = go.Scatter(x = df_last['x3'], y = df_last['y3'], stackgroup='one')\n",
    "trace2 = go.Scatter(x = df_last['x4'], y = df_last['y4'], stackgroup='one')\n",
    "fig.add_traces([trace1, trace2], rows=2, cols=2)\n",
    "# fig.add_trace(go.Figure(data=datax), row = 2, col = 2)\n",
    "\n",
    "fig.show()"
   ]
  },
  {
   "cell_type": "code",
   "execution_count": 28,
   "metadata": {},
   "outputs": [
    {
     "output_type": "display_data",
     "data": {
      "application/vnd.plotly.v1+json": {
       "config": {
        "plotlyServerURL": "https://plot.ly"
       },
       "data": [
        {
         "stackgroup": "one",
         "type": "scatter",
         "x": [
          -1.1435933271827339,
          -4.750043383184259,
          -0.19626864900455465,
          -5.917301640073078,
          -3.67881746003313,
          -3.7689291810483683,
          -5.042146272553158,
          -4.593444429275959,
          -2.996677005115619,
          -5.540094664006127,
          -4.84115900684997,
          -4.722590730341359,
          -4.948304826916946,
          -1.2192966267807204,
          -5.030100253724084,
          -3.3306866880012933,
          -4.326368553957281,
          -4.7796713760039085,
          -0.6665534348298827,
          -2.154545290858495,
          -3.39871893768239,
          -3.335007579371763,
          -1.492915931085776,
          -2.8544306119679366,
          -4.770371503620353,
          -2.6208402720325945,
          -0.3670081858107648,
          -3.81916717054484,
          -0.00573338944488766,
          -0.0784144499989814,
          -1.577922387644004,
          -5.903749087383986,
          -1.2380666149681112,
          -5.922535109265393,
          -0.2847655366722883,
          -5.944193138886909,
          -5.752434822730157,
          -1.9416916842939762,
          -5.280799237923555,
          -5.132351046223585,
          -4.517659238493174,
          -3.7085818064428047,
          -4.109954340895294,
          -4.630376190646922,
          -1.4566950773162821,
          -0.3844514104528711,
          -1.0513417961994016,
          -5.930629923748436,
          -5.1922037310561855,
          -2.4552260667216665
         ],
         "y": [
          1.2864866245301,
          0.30861974258173563,
          3.7658359643325454,
          6.197528625058917,
          0.7850921403373411,
          5.402776415315847,
          4.514732858062284,
          2.6379298125193316,
          5.089266260723558,
          5.965963316843948,
          0.3570367188482426,
          6.491266531833353,
          2.018860717634513,
          4.033997412504844,
          6.945821261405317,
          5.376655677414165,
          6.876989264798921,
          0.49260877572923545,
          1.655662754321737,
          2.065038386714287,
          4.892988082924011,
          5.305148375006632,
          2.059533639500485,
          2.5081370853162137,
          5.196291641785944,
          5.583899545515243,
          3.2409852209518877,
          3.726212647771271,
          4.724282535756222,
          6.5311893981512945,
          3.3442806527960505,
          4.506113421455537,
          2.8925472818533637,
          5.165452466047535,
          1.1726334249875219,
          4.731998664027502,
          1.799803293436228,
          4.530310405186016,
          5.146329727521752,
          1.600240686871809,
          3.5409123914476934,
          1.7238335483584524,
          2.5581139603436855,
          1.4701972249736048,
          4.877458551755941,
          0.5464782131327934,
          2.203773136650947,
          0.3608299124299301,
          3.389038489670866,
          3.5011406150609052
         ]
        },
        {
         "stackgroup": "one",
         "type": "scatter",
         "x": [
          -2.0576463284018875,
          -0.5099660938185236,
          -1.4497956598075286,
          -1.8612044513370054,
          -0.9330955729787629,
          -0.9709599546050572,
          -2.1744041645148506,
          -2.0678975911236206,
          -0.5286027125808067,
          -0.3881089283817595,
          -0.3341624716345263,
          -1.13531960354936,
          -0.7576163155009901,
          -0.1329872175182173,
          -0.5403694373249277,
          -2.059488465519917,
          -2.7332702843041297,
          -1.2402022426581711,
          -0.4501144773533119,
          -2.92800444140922,
          -1.1961763303930604,
          -2.147383440378567,
          -2.4302077623422305,
          -2.9652801346793103,
          -0.4184232510305018,
          -1.6921751654053945,
          -0.6339416834379368,
          -2.4510657762644597,
          -1.0273847144826982,
          -0.5771181222658953,
          -1.8067266620284306,
          -0.5672004013819235,
          -0.601466410320767,
          -0.19183088363044087,
          -0.7827148566582623,
          -0.07549319912147834,
          -0.31823697335388645,
          -2.163075794145475,
          -0.039502988895418145,
          -2.035508702702626,
          -1.7964128587625172,
          -2.701332784048873,
          -0.8433041175485761,
          -1.5346464454599515,
          -2.7816312253631463,
          -2.93161098408124,
          -1.6192974705457734,
          -0.5943593391621258,
          -1.6170357528578045,
          -1.6648650587499634
         ],
         "y": [
          -3.5330671343419704,
          -5.197225097854079,
          -2.3714968809686843,
          -7.079198523829885,
          -0.9489588227552211,
          -1.2549238167470174,
          -6.873618530965605,
          -6.997606586642951,
          -6.629293412568698,
          -0.8265619796943278,
          -7.830329164324875,
          -3.8386877961477266,
          -8.43895924443373,
          -8.610467216873293,
          -6.640176898050388,
          -8.407818232948385,
          -3.0859916394054085,
          -6.910907668250912,
          -7.600806254734226,
          -0.586094633994257,
          -5.069896452514795,
          -7.2140060244658,
          -7.902542485080171,
          -2.1678783187547537,
          -0.5160591673880711,
          -7.406601047605254,
          -1.5566316741392003,
          -2.6640160928095655,
          -3.3919190084163877,
          -2.7538634366724013,
          -0.46671795177431696,
          -2.936750215892094,
          -2.623730325424124,
          -4.258836253002951,
          -8.938748127537695,
          -8.27504728067159,
          -7.758861857578072,
          -0.5247171626590501,
          -8.379198449177453,
          -2.5353853636032824,
          -4.602609777897559,
          -3.427558526320021,
          -0.5227654773714608,
          -3.779421042733425,
          -2.4890989934787044,
          -8.37012466026557,
          -4.237060675758676,
          -8.309488382458923,
          -5.8949689599471,
          -8.287344874247164
         ]
        }
       ],
       "layout": {
        "template": {
         "data": {
          "bar": [
           {
            "error_x": {
             "color": "#2a3f5f"
            },
            "error_y": {
             "color": "#2a3f5f"
            },
            "marker": {
             "line": {
              "color": "#E5ECF6",
              "width": 0.5
             }
            },
            "type": "bar"
           }
          ],
          "barpolar": [
           {
            "marker": {
             "line": {
              "color": "#E5ECF6",
              "width": 0.5
             }
            },
            "type": "barpolar"
           }
          ],
          "carpet": [
           {
            "aaxis": {
             "endlinecolor": "#2a3f5f",
             "gridcolor": "white",
             "linecolor": "white",
             "minorgridcolor": "white",
             "startlinecolor": "#2a3f5f"
            },
            "baxis": {
             "endlinecolor": "#2a3f5f",
             "gridcolor": "white",
             "linecolor": "white",
             "minorgridcolor": "white",
             "startlinecolor": "#2a3f5f"
            },
            "type": "carpet"
           }
          ],
          "choropleth": [
           {
            "colorbar": {
             "outlinewidth": 0,
             "ticks": ""
            },
            "type": "choropleth"
           }
          ],
          "contour": [
           {
            "colorbar": {
             "outlinewidth": 0,
             "ticks": ""
            },
            "colorscale": [
             [
              0,
              "#0d0887"
             ],
             [
              0.1111111111111111,
              "#46039f"
             ],
             [
              0.2222222222222222,
              "#7201a8"
             ],
             [
              0.3333333333333333,
              "#9c179e"
             ],
             [
              0.4444444444444444,
              "#bd3786"
             ],
             [
              0.5555555555555556,
              "#d8576b"
             ],
             [
              0.6666666666666666,
              "#ed7953"
             ],
             [
              0.7777777777777778,
              "#fb9f3a"
             ],
             [
              0.8888888888888888,
              "#fdca26"
             ],
             [
              1,
              "#f0f921"
             ]
            ],
            "type": "contour"
           }
          ],
          "contourcarpet": [
           {
            "colorbar": {
             "outlinewidth": 0,
             "ticks": ""
            },
            "type": "contourcarpet"
           }
          ],
          "heatmap": [
           {
            "colorbar": {
             "outlinewidth": 0,
             "ticks": ""
            },
            "colorscale": [
             [
              0,
              "#0d0887"
             ],
             [
              0.1111111111111111,
              "#46039f"
             ],
             [
              0.2222222222222222,
              "#7201a8"
             ],
             [
              0.3333333333333333,
              "#9c179e"
             ],
             [
              0.4444444444444444,
              "#bd3786"
             ],
             [
              0.5555555555555556,
              "#d8576b"
             ],
             [
              0.6666666666666666,
              "#ed7953"
             ],
             [
              0.7777777777777778,
              "#fb9f3a"
             ],
             [
              0.8888888888888888,
              "#fdca26"
             ],
             [
              1,
              "#f0f921"
             ]
            ],
            "type": "heatmap"
           }
          ],
          "heatmapgl": [
           {
            "colorbar": {
             "outlinewidth": 0,
             "ticks": ""
            },
            "colorscale": [
             [
              0,
              "#0d0887"
             ],
             [
              0.1111111111111111,
              "#46039f"
             ],
             [
              0.2222222222222222,
              "#7201a8"
             ],
             [
              0.3333333333333333,
              "#9c179e"
             ],
             [
              0.4444444444444444,
              "#bd3786"
             ],
             [
              0.5555555555555556,
              "#d8576b"
             ],
             [
              0.6666666666666666,
              "#ed7953"
             ],
             [
              0.7777777777777778,
              "#fb9f3a"
             ],
             [
              0.8888888888888888,
              "#fdca26"
             ],
             [
              1,
              "#f0f921"
             ]
            ],
            "type": "heatmapgl"
           }
          ],
          "histogram": [
           {
            "marker": {
             "colorbar": {
              "outlinewidth": 0,
              "ticks": ""
             }
            },
            "type": "histogram"
           }
          ],
          "histogram2d": [
           {
            "colorbar": {
             "outlinewidth": 0,
             "ticks": ""
            },
            "colorscale": [
             [
              0,
              "#0d0887"
             ],
             [
              0.1111111111111111,
              "#46039f"
             ],
             [
              0.2222222222222222,
              "#7201a8"
             ],
             [
              0.3333333333333333,
              "#9c179e"
             ],
             [
              0.4444444444444444,
              "#bd3786"
             ],
             [
              0.5555555555555556,
              "#d8576b"
             ],
             [
              0.6666666666666666,
              "#ed7953"
             ],
             [
              0.7777777777777778,
              "#fb9f3a"
             ],
             [
              0.8888888888888888,
              "#fdca26"
             ],
             [
              1,
              "#f0f921"
             ]
            ],
            "type": "histogram2d"
           }
          ],
          "histogram2dcontour": [
           {
            "colorbar": {
             "outlinewidth": 0,
             "ticks": ""
            },
            "colorscale": [
             [
              0,
              "#0d0887"
             ],
             [
              0.1111111111111111,
              "#46039f"
             ],
             [
              0.2222222222222222,
              "#7201a8"
             ],
             [
              0.3333333333333333,
              "#9c179e"
             ],
             [
              0.4444444444444444,
              "#bd3786"
             ],
             [
              0.5555555555555556,
              "#d8576b"
             ],
             [
              0.6666666666666666,
              "#ed7953"
             ],
             [
              0.7777777777777778,
              "#fb9f3a"
             ],
             [
              0.8888888888888888,
              "#fdca26"
             ],
             [
              1,
              "#f0f921"
             ]
            ],
            "type": "histogram2dcontour"
           }
          ],
          "mesh3d": [
           {
            "colorbar": {
             "outlinewidth": 0,
             "ticks": ""
            },
            "type": "mesh3d"
           }
          ],
          "parcoords": [
           {
            "line": {
             "colorbar": {
              "outlinewidth": 0,
              "ticks": ""
             }
            },
            "type": "parcoords"
           }
          ],
          "pie": [
           {
            "automargin": true,
            "type": "pie"
           }
          ],
          "scatter": [
           {
            "marker": {
             "colorbar": {
              "outlinewidth": 0,
              "ticks": ""
             }
            },
            "type": "scatter"
           }
          ],
          "scatter3d": [
           {
            "line": {
             "colorbar": {
              "outlinewidth": 0,
              "ticks": ""
             }
            },
            "marker": {
             "colorbar": {
              "outlinewidth": 0,
              "ticks": ""
             }
            },
            "type": "scatter3d"
           }
          ],
          "scattercarpet": [
           {
            "marker": {
             "colorbar": {
              "outlinewidth": 0,
              "ticks": ""
             }
            },
            "type": "scattercarpet"
           }
          ],
          "scattergeo": [
           {
            "marker": {
             "colorbar": {
              "outlinewidth": 0,
              "ticks": ""
             }
            },
            "type": "scattergeo"
           }
          ],
          "scattergl": [
           {
            "marker": {
             "colorbar": {
              "outlinewidth": 0,
              "ticks": ""
             }
            },
            "type": "scattergl"
           }
          ],
          "scattermapbox": [
           {
            "marker": {
             "colorbar": {
              "outlinewidth": 0,
              "ticks": ""
             }
            },
            "type": "scattermapbox"
           }
          ],
          "scatterpolar": [
           {
            "marker": {
             "colorbar": {
              "outlinewidth": 0,
              "ticks": ""
             }
            },
            "type": "scatterpolar"
           }
          ],
          "scatterpolargl": [
           {
            "marker": {
             "colorbar": {
              "outlinewidth": 0,
              "ticks": ""
             }
            },
            "type": "scatterpolargl"
           }
          ],
          "scatterternary": [
           {
            "marker": {
             "colorbar": {
              "outlinewidth": 0,
              "ticks": ""
             }
            },
            "type": "scatterternary"
           }
          ],
          "surface": [
           {
            "colorbar": {
             "outlinewidth": 0,
             "ticks": ""
            },
            "colorscale": [
             [
              0,
              "#0d0887"
             ],
             [
              0.1111111111111111,
              "#46039f"
             ],
             [
              0.2222222222222222,
              "#7201a8"
             ],
             [
              0.3333333333333333,
              "#9c179e"
             ],
             [
              0.4444444444444444,
              "#bd3786"
             ],
             [
              0.5555555555555556,
              "#d8576b"
             ],
             [
              0.6666666666666666,
              "#ed7953"
             ],
             [
              0.7777777777777778,
              "#fb9f3a"
             ],
             [
              0.8888888888888888,
              "#fdca26"
             ],
             [
              1,
              "#f0f921"
             ]
            ],
            "type": "surface"
           }
          ],
          "table": [
           {
            "cells": {
             "fill": {
              "color": "#EBF0F8"
             },
             "line": {
              "color": "white"
             }
            },
            "header": {
             "fill": {
              "color": "#C8D4E3"
             },
             "line": {
              "color": "white"
             }
            },
            "type": "table"
           }
          ]
         },
         "layout": {
          "annotationdefaults": {
           "arrowcolor": "#2a3f5f",
           "arrowhead": 0,
           "arrowwidth": 1
          },
          "coloraxis": {
           "colorbar": {
            "outlinewidth": 0,
            "ticks": ""
           }
          },
          "colorscale": {
           "diverging": [
            [
             0,
             "#8e0152"
            ],
            [
             0.1,
             "#c51b7d"
            ],
            [
             0.2,
             "#de77ae"
            ],
            [
             0.3,
             "#f1b6da"
            ],
            [
             0.4,
             "#fde0ef"
            ],
            [
             0.5,
             "#f7f7f7"
            ],
            [
             0.6,
             "#e6f5d0"
            ],
            [
             0.7,
             "#b8e186"
            ],
            [
             0.8,
             "#7fbc41"
            ],
            [
             0.9,
             "#4d9221"
            ],
            [
             1,
             "#276419"
            ]
           ],
           "sequential": [
            [
             0,
             "#0d0887"
            ],
            [
             0.1111111111111111,
             "#46039f"
            ],
            [
             0.2222222222222222,
             "#7201a8"
            ],
            [
             0.3333333333333333,
             "#9c179e"
            ],
            [
             0.4444444444444444,
             "#bd3786"
            ],
            [
             0.5555555555555556,
             "#d8576b"
            ],
            [
             0.6666666666666666,
             "#ed7953"
            ],
            [
             0.7777777777777778,
             "#fb9f3a"
            ],
            [
             0.8888888888888888,
             "#fdca26"
            ],
            [
             1,
             "#f0f921"
            ]
           ],
           "sequentialminus": [
            [
             0,
             "#0d0887"
            ],
            [
             0.1111111111111111,
             "#46039f"
            ],
            [
             0.2222222222222222,
             "#7201a8"
            ],
            [
             0.3333333333333333,
             "#9c179e"
            ],
            [
             0.4444444444444444,
             "#bd3786"
            ],
            [
             0.5555555555555556,
             "#d8576b"
            ],
            [
             0.6666666666666666,
             "#ed7953"
            ],
            [
             0.7777777777777778,
             "#fb9f3a"
            ],
            [
             0.8888888888888888,
             "#fdca26"
            ],
            [
             1,
             "#f0f921"
            ]
           ]
          },
          "colorway": [
           "#636efa",
           "#EF553B",
           "#00cc96",
           "#ab63fa",
           "#FFA15A",
           "#19d3f3",
           "#FF6692",
           "#B6E880",
           "#FF97FF",
           "#FECB52"
          ],
          "font": {
           "color": "#2a3f5f"
          },
          "geo": {
           "bgcolor": "white",
           "lakecolor": "white",
           "landcolor": "#E5ECF6",
           "showlakes": true,
           "showland": true,
           "subunitcolor": "white"
          },
          "hoverlabel": {
           "align": "left"
          },
          "hovermode": "closest",
          "mapbox": {
           "style": "light"
          },
          "paper_bgcolor": "white",
          "plot_bgcolor": "#E5ECF6",
          "polar": {
           "angularaxis": {
            "gridcolor": "white",
            "linecolor": "white",
            "ticks": ""
           },
           "bgcolor": "#E5ECF6",
           "radialaxis": {
            "gridcolor": "white",
            "linecolor": "white",
            "ticks": ""
           }
          },
          "scene": {
           "xaxis": {
            "backgroundcolor": "#E5ECF6",
            "gridcolor": "white",
            "gridwidth": 2,
            "linecolor": "white",
            "showbackground": true,
            "ticks": "",
            "zerolinecolor": "white"
           },
           "yaxis": {
            "backgroundcolor": "#E5ECF6",
            "gridcolor": "white",
            "gridwidth": 2,
            "linecolor": "white",
            "showbackground": true,
            "ticks": "",
            "zerolinecolor": "white"
           },
           "zaxis": {
            "backgroundcolor": "#E5ECF6",
            "gridcolor": "white",
            "gridwidth": 2,
            "linecolor": "white",
            "showbackground": true,
            "ticks": "",
            "zerolinecolor": "white"
           }
          },
          "shapedefaults": {
           "line": {
            "color": "#2a3f5f"
           }
          },
          "ternary": {
           "aaxis": {
            "gridcolor": "white",
            "linecolor": "white",
            "ticks": ""
           },
           "baxis": {
            "gridcolor": "white",
            "linecolor": "white",
            "ticks": ""
           },
           "bgcolor": "#E5ECF6",
           "caxis": {
            "gridcolor": "white",
            "linecolor": "white",
            "ticks": ""
           }
          },
          "title": {
           "x": 0.05
          },
          "xaxis": {
           "automargin": true,
           "gridcolor": "white",
           "linecolor": "white",
           "ticks": "",
           "title": {
            "standoff": 15
           },
           "zerolinecolor": "white",
           "zerolinewidth": 2
          },
          "yaxis": {
           "automargin": true,
           "gridcolor": "white",
           "linecolor": "white",
           "ticks": "",
           "title": {
            "standoff": 15
           },
           "zerolinecolor": "white",
           "zerolinewidth": 2
          }
         }
        }
       }
      }
     },
     "metadata": {}
    }
   ],
   "source": [
    "trace1 = go.Scatter(x = df_last['x3'], y = df_last['y3'], stackgroup='one')\n",
    "trace2 = go.Scatter(x = df_last['x4'], y = df_last['y4'], stackgroup='one')\n",
    "datax = [trace1, trace2]\n",
    "fig = go.Figure(data=datax)\n",
    "fig.show()"
   ]
  },
  {
   "cell_type": "code",
   "execution_count": null,
   "metadata": {},
   "outputs": [],
   "source": []
  }
 ]
}